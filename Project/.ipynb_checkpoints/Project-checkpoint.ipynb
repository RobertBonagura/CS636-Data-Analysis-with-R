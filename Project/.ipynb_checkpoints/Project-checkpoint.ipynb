{
 "cells": [
  {
   "cell_type": "code",
   "execution_count": 1,
   "id": "6246d4c3",
   "metadata": {},
   "outputs": [],
   "source": [
    "# Robert Bonagura"
   ]
  },
  {
   "cell_type": "code",
   "execution_count": null,
   "id": "96d806f0",
   "metadata": {},
   "outputs": [],
   "source": [
    "library(dplyr)\n",
    "\n",
    "IBM = read.csv(\"data/IBM.csv\")\n",
    "AAPL = read.csv(\"data/AAPL.csv\")\n",
    "AMZN = read.csv(\"data/AMZN.csv\")\n",
    "FB = read.csv(\"data/FB.csv\")\n",
    "GOOG = read.csv(\"data/GOOG.csv\")\n",
    "MSFT = read.csv(\"data/MSFT.csv\")"
   ]
  }
 ],
 "metadata": {
  "kernelspec": {
   "display_name": "R",
   "language": "R",
   "name": "ir"
  },
  "language_info": {
   "codemirror_mode": "r",
   "file_extension": ".r",
   "mimetype": "text/x-r-source",
   "name": "R",
   "pygments_lexer": "r",
   "version": "3.6.1"
  }
 },
 "nbformat": 4,
 "nbformat_minor": 5
}
