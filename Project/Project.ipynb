{
 "cells": [
  {
   "cell_type": "code",
   "execution_count": 1,
   "id": "682ecbb7",
   "metadata": {},
   "outputs": [],
   "source": [
    "# Robert Bonagura"
   ]
  },
  {
   "cell_type": "code",
   "execution_count": 52,
   "id": "cd117609",
   "metadata": {},
   "outputs": [],
   "source": [
    "\n"
   ]
  },
  {
   "cell_type": "code",
   "execution_count": 77,
   "id": "441d16d7",
   "metadata": {},
   "outputs": [
    {
     "data": {
      "text/html": [
       "<table>\n",
       "<thead><tr><th scope=col>Date</th><th scope=col>IBM_close</th><th scope=col>IBM_adj.close</th></tr></thead>\n",
       "<tbody>\n",
       "\t<tr><td>2018-01-02</td><td>154.25    </td><td>142.4840  </td></tr>\n",
       "\t<tr><td>2018-01-03</td><td>158.49    </td><td>146.4006  </td></tr>\n",
       "\t<tr><td>2018-01-04</td><td>161.70    </td><td>149.3657  </td></tr>\n",
       "\t<tr><td>2018-01-05</td><td>162.49    </td><td>150.0954  </td></tr>\n",
       "\t<tr><td>2018-01-08</td><td>163.47    </td><td>151.0007  </td></tr>\n",
       "\t<tr><td>2018-01-09</td><td>163.83    </td><td>151.3332  </td></tr>\n",
       "</tbody>\n",
       "</table>\n"
      ],
      "text/latex": [
       "\\begin{tabular}{r|lll}\n",
       " Date & IBM\\_close & IBM\\_adj.close\\\\\n",
       "\\hline\n",
       "\t 2018-01-02 & 154.25     & 142.4840  \\\\\n",
       "\t 2018-01-03 & 158.49     & 146.4006  \\\\\n",
       "\t 2018-01-04 & 161.70     & 149.3657  \\\\\n",
       "\t 2018-01-05 & 162.49     & 150.0954  \\\\\n",
       "\t 2018-01-08 & 163.47     & 151.0007  \\\\\n",
       "\t 2018-01-09 & 163.83     & 151.3332  \\\\\n",
       "\\end{tabular}\n"
      ],
      "text/markdown": [
       "\n",
       "| Date | IBM_close | IBM_adj.close |\n",
       "|---|---|---|\n",
       "| 2018-01-02 | 154.25     | 142.4840   |\n",
       "| 2018-01-03 | 158.49     | 146.4006   |\n",
       "| 2018-01-04 | 161.70     | 149.3657   |\n",
       "| 2018-01-05 | 162.49     | 150.0954   |\n",
       "| 2018-01-08 | 163.47     | 151.0007   |\n",
       "| 2018-01-09 | 163.83     | 151.3332   |\n",
       "\n"
      ],
      "text/plain": [
       "  Date       IBM_close IBM_adj.close\n",
       "1 2018-01-02 154.25    142.4840     \n",
       "2 2018-01-03 158.49    146.4006     \n",
       "3 2018-01-04 161.70    149.3657     \n",
       "4 2018-01-05 162.49    150.0954     \n",
       "5 2018-01-08 163.47    151.0007     \n",
       "6 2018-01-09 163.83    151.3332     "
      ]
     },
     "metadata": {},
     "output_type": "display_data"
    },
    {
     "data": {
      "text/html": [
       "<dl class=dl-horizontal>\n",
       "\t<dt>cost</dt>\n",
       "\t\t<dd>154.25</dd>\n",
       "\t<dt>numShare</dt>\n",
       "\t\t<dd>6482</dd>\n",
       "\t<dt>amtHolding</dt>\n",
       "\t\t<dd>999848.5</dd>\n",
       "\t<dt>amtLeft</dt>\n",
       "\t\t<dd>151.5</dd>\n",
       "</dl>\n"
      ],
      "text/latex": [
       "\\begin{description*}\n",
       "\\item[cost] 154.25\n",
       "\\item[numShare] 6482\n",
       "\\item[amtHolding] 999848.5\n",
       "\\item[amtLeft] 151.5\n",
       "\\end{description*}\n"
      ],
      "text/markdown": [
       "cost\n",
       ":   154.25numShare\n",
       ":   6482amtHolding\n",
       ":   999848.5amtLeft\n",
       ":   151.5\n",
       "\n"
      ],
      "text/plain": [
       "      cost   numShare amtHolding    amtLeft \n",
       "    154.25    6482.00  999848.50     151.50 "
      ]
     },
     "metadata": {},
     "output_type": "display_data"
    }
   ],
   "source": [
    "\n",
    "library(dplyr)\n",
    "\n",
    "# Load initial data\n",
    "IBM = read.csv(\"data/IBM.csv\")\n",
    "AAPL = read.csv(\"data/AAPL.csv\")\n",
    "AMZN = read.csv(\"data/AMZN.csv\")\n",
    "FB = read.csv(\"data/FB.csv\")\n",
    "GOOG = read.csv(\"data/GOOG.csv\")\n",
    "MSFT = read.csv(\"data/MSFT.csv\")\n",
    "NFLX = read.csv(\"data/NFLX.csv\")\n",
    "TSLA = read.csv(\"data/TSLA.csv\")\n",
    "ORCL = read.csv(\"data/ORCL.csv\")\n",
    "SAP = read.csv(\"data/SAP.csv\")\n",
    "\n",
    "\n",
    "# Prepare single dataframe consisting of each stock's Close and Adj.Close values\n",
    "IBM = rename(select(IBM, Date, Close, Adj.Close), IBM_close = Close, IBM_adj.close = Adj.Close)\n",
    "AAPL = rename(select(AAPL, Date, Close, Adj.Close), AAPL_close = Close, AAPL_adj.close = Adj.Close)\n",
    "AMZN = rename(select(AMZN, Date, Close, Adj.Close), AMZN_close = Close, AMZN_adj.close = Adj.Close)\n",
    "FB = rename(select(FB, Date, Close, Adj.Close), FB_close = Close, FB_adj.close = Adj.Close)\n",
    "GOOG = rename(select(GOOG, Date, Close, Adj.Close), GOOG_close = Close, GOOG_adj.close = Adj.Close)\n",
    "MSFT = rename(select(MSFT, Date, Close, Adj.Close), MSFT_close = Close, MSFT_adj.close = Adj.Close)\n",
    "NFLX = rename(select(NFLX, Date, Close, Adj.Close), NFLX_close = Close, NFLX_adj.close = Adj.Close)\n",
    "TSLA = rename(select(TSLA, Date, Close, Adj.Close), TSLA_close = Close, TSLA_adj.close = Adj.Close)\n",
    "ORCL = rename(select(ORCL, Date, Close, Adj.Close), ORCL_close = Close, ORCL_adj.close = Adj.Close)\n",
    "SAP = rename(select(SAP, Date, Close, Adj.Close), SAP_close = Close, SAP_adj.close = Adj.Close)\n",
    "\n",
    "df = inner_join(IBM, AAPL, by=\"Date\")\n",
    "df = inner_join(df, AMZN, by=\"Date\")\n",
    "df = inner_join(df, FB, by=\"Date\")\n",
    "df = inner_join(df, GOOG, by=\"Date\")\n",
    "df = inner_join(df, MSFT, by=\"Date\")\n",
    "df = inner_join(df, NFLX, by=\"Date\")\n",
    "df = inner_join(df, TSLA, by=\"Date\")\n",
    "df = inner_join(df, ORCL, by=\"Date\")\n",
    "df = inner_join(df, SAP, by=\"Date\")\n",
    "\n",
    "#1 \n",
    "\n",
    "head(IBM)\n",
    "\n",
    "max_num_shares = function(date, closeCol, budget){\n",
    "    cost = df[df$Date == date, closeCol]\n",
    "    numShare = floor(budget / cost)\n",
    "    amtHolding = cost * numShare\n",
    "    amtLeft = budget - amtHolding\n",
    "    c(\"cost\"=cost, \"numShare\"=numShare, \"amtHolding\"=amtHolding, \"amtLeft\"=amtLeft)\n",
    "}\n",
    "\n",
    "v = max_num_shares(\"2018-01-02\", \"IBM_close\", 1000000)\n",
    "v\n"
   ]
  },
  {
   "cell_type": "code",
   "execution_count": null,
   "id": "b568b51d",
   "metadata": {},
   "outputs": [],
   "source": []
  }
 ],
 "metadata": {
  "kernelspec": {
   "display_name": "R",
   "language": "R",
   "name": "ir"
  },
  "language_info": {
   "codemirror_mode": "r",
   "file_extension": ".r",
   "mimetype": "text/x-r-source",
   "name": "R",
   "pygments_lexer": "r",
   "version": "3.6.1"
  }
 },
 "nbformat": 4,
 "nbformat_minor": 5
}
