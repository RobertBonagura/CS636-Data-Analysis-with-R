{
 "cells": [
  {
   "cell_type": "code",
   "execution_count": 2,
   "id": "76477d44",
   "metadata": {},
   "outputs": [
    {
     "name": "stderr",
     "output_type": "stream",
     "text": [
      "── \u001b[1mAttaching packages\u001b[22m ─────────────────────────────────────── tidyverse 1.3.1 ──\n",
      "\u001b[32m✔\u001b[39m \u001b[34mggplot2\u001b[39m 3.3.3     \u001b[32m✔\u001b[39m \u001b[34mpurrr  \u001b[39m 0.3.4\n",
      "\u001b[32m✔\u001b[39m \u001b[34mtibble \u001b[39m 3.1.2     \u001b[32m✔\u001b[39m \u001b[34mdplyr  \u001b[39m 1.0.6\n",
      "\u001b[32m✔\u001b[39m \u001b[34mtidyr  \u001b[39m 1.1.3     \u001b[32m✔\u001b[39m \u001b[34mstringr\u001b[39m 1.4.0\n",
      "\u001b[32m✔\u001b[39m \u001b[34mreadr  \u001b[39m 1.4.0     \u001b[32m✔\u001b[39m \u001b[34mforcats\u001b[39m 0.5.1\n",
      "── \u001b[1mConflicts\u001b[22m ────────────────────────────────────────── tidyverse_conflicts() ──\n",
      "\u001b[31m✖\u001b[39m \u001b[34mdplyr\u001b[39m::\u001b[32mfilter()\u001b[39m masks \u001b[34mstats\u001b[39m::filter()\n",
      "\u001b[31m✖\u001b[39m \u001b[34mdplyr\u001b[39m::\u001b[32mlag()\u001b[39m    masks \u001b[34mstats\u001b[39m::lag()\n"
     ]
    }
   ],
   "source": [
    "# Robert Bonagura\n",
    "\n",
    "library(tidyverse)"
   ]
  },
  {
   "cell_type": "code",
   "execution_count": 3,
   "id": "d5d0978c",
   "metadata": {},
   "outputs": [],
   "source": [
    "?str_c()"
   ]
  },
  {
   "cell_type": "code",
   "execution_count": 4,
   "id": "a9c4c286",
   "metadata": {},
   "outputs": [],
   "source": [
    "?dim()"
   ]
  },
  {
   "cell_type": "code",
   "execution_count": 5,
   "id": "cc7b9a0d",
   "metadata": {},
   "outputs": [],
   "source": [
    "?data.frame()"
   ]
  },
  {
   "cell_type": "code",
   "execution_count": 6,
   "id": "49c8ffd8",
   "metadata": {},
   "outputs": [
    {
     "ename": "ERROR",
     "evalue": "Error in parse(text = x, srcfile = src): <text>:1:17: unexpected ','\n1: c(5,6,3,2,2,4,1),\n                    ^\n",
     "output_type": "error",
     "traceback": [
      "Error in parse(text = x, srcfile = src): <text>:1:17: unexpected ','\n1: c(5,6,3,2,2,4,1),\n                    ^\nTraceback:\n"
     ]
    }
   ],
   "source": [
    "c(5,6,3,2,2,4,1), c(2,4,3,2,5,6,3),c(7,1,5,2,2,6,3),c(6,2,3,2,5,1,5),c(2,4,1,5,2,6,3),c(2,2,4,2,2,2,2)\n",
    "\n",
    "c('dice1','dice2','dice3','dice4','dice5','dice6','dice7'))\n",
    "\n",
    "c('1','2','3','4','5','6')"
   ]
  },
  {
   "cell_type": "code",
   "execution_count": 36,
   "id": "eb77d6b2",
   "metadata": {},
   "outputs": [
    {
     "data": {
      "text/html": [
       "<table>\n",
       "<thead><tr><th></th><th scope=col>1</th><th scope=col>2</th><th scope=col>3</th><th scope=col>4</th><th scope=col>5</th><th scope=col>6</th></tr></thead>\n",
       "<tbody>\n",
       "\t<tr><th scope=row>dice1</th><td>5</td><td>2</td><td>7</td><td>6</td><td>2</td><td>2</td></tr>\n",
       "\t<tr><th scope=row>dice2</th><td>6</td><td>4</td><td>1</td><td>2</td><td>4</td><td>2</td></tr>\n",
       "\t<tr><th scope=row>dice3</th><td>3</td><td>3</td><td>5</td><td>3</td><td>1</td><td>4</td></tr>\n",
       "\t<tr><th scope=row>dice4</th><td>2</td><td>2</td><td>2</td><td>2</td><td>5</td><td>2</td></tr>\n",
       "\t<tr><th scope=row>dice5</th><td>2</td><td>5</td><td>2</td><td>5</td><td>2</td><td>2</td></tr>\n",
       "\t<tr><th scope=row>dice6</th><td>4</td><td>6</td><td>6</td><td>1</td><td>6</td><td>2</td></tr>\n",
       "\t<tr><th scope=row>dice7</th><td>1</td><td>3</td><td>3</td><td>5</td><td>3</td><td>2</td></tr>\n",
       "</tbody>\n",
       "</table>\n"
      ],
      "text/latex": [
       "\\begin{tabular}{r|llllll}\n",
       "  & 1 & 2 & 3 & 4 & 5 & 6\\\\\n",
       "\\hline\n",
       "\tdice1 & 5 & 2 & 7 & 6 & 2 & 2\\\\\n",
       "\tdice2 & 6 & 4 & 1 & 2 & 4 & 2\\\\\n",
       "\tdice3 & 3 & 3 & 5 & 3 & 1 & 4\\\\\n",
       "\tdice4 & 2 & 2 & 2 & 2 & 5 & 2\\\\\n",
       "\tdice5 & 2 & 5 & 2 & 5 & 2 & 2\\\\\n",
       "\tdice6 & 4 & 6 & 6 & 1 & 6 & 2\\\\\n",
       "\tdice7 & 1 & 3 & 3 & 5 & 3 & 2\\\\\n",
       "\\end{tabular}\n"
      ],
      "text/markdown": [
       "\n",
       "| <!--/--> | 1 | 2 | 3 | 4 | 5 | 6 |\n",
       "|---|---|---|---|---|---|---|\n",
       "| dice1 | 5 | 2 | 7 | 6 | 2 | 2 |\n",
       "| dice2 | 6 | 4 | 1 | 2 | 4 | 2 |\n",
       "| dice3 | 3 | 3 | 5 | 3 | 1 | 4 |\n",
       "| dice4 | 2 | 2 | 2 | 2 | 5 | 2 |\n",
       "| dice5 | 2 | 5 | 2 | 5 | 2 | 2 |\n",
       "| dice6 | 4 | 6 | 6 | 1 | 6 | 2 |\n",
       "| dice7 | 1 | 3 | 3 | 5 | 3 | 2 |\n",
       "\n"
      ],
      "text/plain": [
       "      1 2 3 4 5 6\n",
       "dice1 5 2 7 6 2 2\n",
       "dice2 6 4 1 2 4 2\n",
       "dice3 3 3 5 3 1 4\n",
       "dice4 2 2 2 2 5 2\n",
       "dice5 2 5 2 5 2 2\n",
       "dice6 4 6 6 1 6 2\n",
       "dice7 1 3 3 5 3 2"
      ]
     },
     "metadata": {},
     "output_type": "display_data"
    }
   ],
   "source": [
    "dice = data.frame(c(5,6,3,2,2,4,1),\n",
    "                c(2,4,3,2,5,6,3),\n",
    "                c(7,1,5,2,2,6,3),\n",
    "                c(6,2,3,2,5,1,5),\n",
    "                c(2,4,1,5,2,6,3),\n",
    "                c(2,2,4,2,2,2,2))\n",
    "\n",
    "cols = c('1','2','3','4','5','6')\n",
    "rows = c('dice1','dice2','dice3','dice4','dice5','dice6','dice7')\n",
    "\n",
    "colnames(dice) = cols\n",
    "rownames(dice) = rows\n",
    "\n",
    "dice\n",
    "               "
   ]
  },
  {
   "cell_type": "code",
   "execution_count": 26,
   "id": "34d04d8e",
   "metadata": {},
   "outputs": [
    {
     "data": {
      "text/html": [
       "<table>\n",
       "<thead><tr><th></th><th scope=col>1</th><th scope=col>3</th><th scope=col>5</th></tr></thead>\n",
       "<tbody>\n",
       "\t<tr><th scope=row>dice3</th><td>3</td><td>5</td><td>1</td></tr>\n",
       "\t<tr><th scope=row>dice4</th><td>2</td><td>2</td><td>5</td></tr>\n",
       "</tbody>\n",
       "</table>\n"
      ],
      "text/latex": [
       "\\begin{tabular}{r|lll}\n",
       "  & 1 & 3 & 5\\\\\n",
       "\\hline\n",
       "\tdice3 & 3 & 5 & 1\\\\\n",
       "\tdice4 & 2 & 2 & 5\\\\\n",
       "\\end{tabular}\n"
      ],
      "text/markdown": [
       "\n",
       "| <!--/--> | 1 | 3 | 5 |\n",
       "|---|---|---|---|\n",
       "| dice3 | 3 | 5 | 1 |\n",
       "| dice4 | 2 | 2 | 5 |\n",
       "\n"
      ],
      "text/plain": [
       "      1 3 5\n",
       "dice3 3 5 1\n",
       "dice4 2 2 5"
      ]
     },
     "metadata": {},
     "output_type": "display_data"
    }
   ],
   "source": [
    "# select cols 1,3 5 and dice3&4\n",
    "df = filter(select(dice, 1, 3, 5), row.names(dice) %in% c(\"dice3\", \"dice4\"))\n",
    "df"
   ]
  },
  {
   "cell_type": "code",
   "execution_count": 37,
   "id": "73f3c5f0",
   "metadata": {},
   "outputs": [],
   "source": [
    "dice[\"total\"] = apply(dice, 1, sum)"
   ]
  },
  {
   "cell_type": "code",
   "execution_count": 38,
   "id": "7e554feb",
   "metadata": {},
   "outputs": [
    {
     "data": {
      "text/html": [
       "<table>\n",
       "<thead><tr><th></th><th scope=col>1</th><th scope=col>2</th><th scope=col>3</th><th scope=col>4</th><th scope=col>5</th><th scope=col>6</th><th scope=col>total</th></tr></thead>\n",
       "<tbody>\n",
       "\t<tr><th scope=row>dice1</th><td>5 </td><td>2 </td><td>7 </td><td>6 </td><td>2 </td><td>2 </td><td>24</td></tr>\n",
       "\t<tr><th scope=row>dice2</th><td>6 </td><td>4 </td><td>1 </td><td>2 </td><td>4 </td><td>2 </td><td>19</td></tr>\n",
       "\t<tr><th scope=row>dice3</th><td>3 </td><td>3 </td><td>5 </td><td>3 </td><td>1 </td><td>4 </td><td>19</td></tr>\n",
       "\t<tr><th scope=row>dice4</th><td>2 </td><td>2 </td><td>2 </td><td>2 </td><td>5 </td><td>2 </td><td>15</td></tr>\n",
       "\t<tr><th scope=row>dice5</th><td>2 </td><td>5 </td><td>2 </td><td>5 </td><td>2 </td><td>2 </td><td>18</td></tr>\n",
       "\t<tr><th scope=row>dice6</th><td>4 </td><td>6 </td><td>6 </td><td>1 </td><td>6 </td><td>2 </td><td>25</td></tr>\n",
       "\t<tr><th scope=row>dice7</th><td>1 </td><td>3 </td><td>3 </td><td>5 </td><td>3 </td><td>2 </td><td>17</td></tr>\n",
       "</tbody>\n",
       "</table>\n"
      ],
      "text/latex": [
       "\\begin{tabular}{r|lllllll}\n",
       "  & 1 & 2 & 3 & 4 & 5 & 6 & total\\\\\n",
       "\\hline\n",
       "\tdice1 & 5  & 2  & 7  & 6  & 2  & 2  & 24\\\\\n",
       "\tdice2 & 6  & 4  & 1  & 2  & 4  & 2  & 19\\\\\n",
       "\tdice3 & 3  & 3  & 5  & 3  & 1  & 4  & 19\\\\\n",
       "\tdice4 & 2  & 2  & 2  & 2  & 5  & 2  & 15\\\\\n",
       "\tdice5 & 2  & 5  & 2  & 5  & 2  & 2  & 18\\\\\n",
       "\tdice6 & 4  & 6  & 6  & 1  & 6  & 2  & 25\\\\\n",
       "\tdice7 & 1  & 3  & 3  & 5  & 3  & 2  & 17\\\\\n",
       "\\end{tabular}\n"
      ],
      "text/markdown": [
       "\n",
       "| <!--/--> | 1 | 2 | 3 | 4 | 5 | 6 | total |\n",
       "|---|---|---|---|---|---|---|---|\n",
       "| dice1 | 5  | 2  | 7  | 6  | 2  | 2  | 24 |\n",
       "| dice2 | 6  | 4  | 1  | 2  | 4  | 2  | 19 |\n",
       "| dice3 | 3  | 3  | 5  | 3  | 1  | 4  | 19 |\n",
       "| dice4 | 2  | 2  | 2  | 2  | 5  | 2  | 15 |\n",
       "| dice5 | 2  | 5  | 2  | 5  | 2  | 2  | 18 |\n",
       "| dice6 | 4  | 6  | 6  | 1  | 6  | 2  | 25 |\n",
       "| dice7 | 1  | 3  | 3  | 5  | 3  | 2  | 17 |\n",
       "\n"
      ],
      "text/plain": [
       "      1 2 3 4 5 6 total\n",
       "dice1 5 2 7 6 2 2 24   \n",
       "dice2 6 4 1 2 4 2 19   \n",
       "dice3 3 3 5 3 1 4 19   \n",
       "dice4 2 2 2 2 5 2 15   \n",
       "dice5 2 5 2 5 2 2 18   \n",
       "dice6 4 6 6 1 6 2 25   \n",
       "dice7 1 3 3 5 3 2 17   "
      ]
     },
     "metadata": {},
     "output_type": "display_data"
    }
   ],
   "source": [
    "dice"
   ]
  },
  {
   "cell_type": "code",
   "execution_count": null,
   "id": "731f1c07",
   "metadata": {},
   "outputs": [],
   "source": []
  }
 ],
 "metadata": {
  "kernelspec": {
   "display_name": "R",
   "language": "R",
   "name": "ir"
  },
  "language_info": {
   "codemirror_mode": "r",
   "file_extension": ".r",
   "mimetype": "text/x-r-source",
   "name": "R",
   "pygments_lexer": "r",
   "version": "3.6.1"
  }
 },
 "nbformat": 4,
 "nbformat_minor": 5
}
