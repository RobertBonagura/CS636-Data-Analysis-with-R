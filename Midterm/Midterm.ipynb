{
 "cells": [
  {
   "cell_type": "code",
   "execution_count": 1,
   "id": "1ef14305",
   "metadata": {},
   "outputs": [],
   "source": [
    "# Robert Bonagura\n",
    "# Midterm exam"
   ]
  },
  {
   "cell_type": "code",
   "execution_count": null,
   "id": "2c82be1f",
   "metadata": {},
   "outputs": [],
   "source": [
    "# 1\n",
    "install.packages(\"stringr\")"
   ]
  },
  {
   "cell_type": "code",
   "execution_count": 135,
   "id": "2d16a1e2",
   "metadata": {},
   "outputs": [],
   "source": [
    "# 2 \n",
    "pairs = read.csv(url(\"https://raw.githubusercontent.com/philipperemy/FX-1-Minute-Data/master/pairs.csv\"))"
   ]
  },
  {
   "cell_type": "code",
   "execution_count": 136,
   "id": "76c1233e",
   "metadata": {},
   "outputs": [
    {
     "data": {
      "text/html": [
       "'EUR'"
      ],
      "text/latex": [
       "'EUR'"
      ],
      "text/markdown": [
       "'EUR'"
      ],
      "text/plain": [
       "[1] \"EUR\""
      ]
     },
     "metadata": {},
     "output_type": "display_data"
    }
   ],
   "source": [
    "# 3\n",
    "library(\"stringr\")\n",
    "library(\"dplyr\")\n",
    "\n",
    "split_cur = function(df){\n",
    "    name = df[[1]]\n",
    "    str = str_split(name, \"/\")\n",
    "    ccy = str[[1]]\n",
    "    return(ccy)\n",
    "}\n",
    "\n",
    "ccy_pair_names = pairs[1]\n",
    "split_cur(ccy_pair_names)[1]"
   ]
  },
  {
   "cell_type": "code",
   "execution_count": 137,
   "id": "815bd712",
   "metadata": {},
   "outputs": [
    {
     "data": {
      "text/html": [
       "<ol class=list-inline>\n",
       "\t<li>'EUR'</li>\n",
       "\t<li>'EUR'</li>\n",
       "\t<li>'EUR'</li>\n",
       "\t<li>'EUR'</li>\n",
       "\t<li>'EUR'</li>\n",
       "\t<li>'USD'</li>\n",
       "\t<li>'USD'</li>\n",
       "\t<li>'USD'</li>\n",
       "\t<li>'USD'</li>\n",
       "\t<li>'GBP'</li>\n",
       "\t<li>'GBP'</li>\n",
       "\t<li>'GBP'</li>\n",
       "\t<li>'AUD'</li>\n",
       "\t<li>'AUD'</li>\n",
       "\t<li>'CHF'</li>\n",
       "\t<li>'NZD'</li>\n",
       "\t<li>'NZD'</li>\n",
       "\t<li>'XAU'</li>\n",
       "\t<li>'EUR'</li>\n",
       "\t<li>'AUD'</li>\n",
       "\t<li>'CAD'</li>\n",
       "\t<li>'EUR'</li>\n",
       "\t<li>'GRX'</li>\n",
       "\t<li>'NZD'</li>\n",
       "\t<li>'SGD'</li>\n",
       "\t<li>'USD'</li>\n",
       "\t<li>'USD'</li>\n",
       "\t<li>'USD'</li>\n",
       "\t<li>'XAU'</li>\n",
       "\t<li>'AUD'</li>\n",
       "\t<li>'AUX'</li>\n",
       "\t<li>'EUR'</li>\n",
       "\t<li>'EUR'</li>\n",
       "\t<li>'FRX'</li>\n",
       "\t<li>'HKX'</li>\n",
       "\t<li>'NZD'</li>\n",
       "\t<li>'SPX'</li>\n",
       "\t<li>'USD'</li>\n",
       "\t<li>'USD'</li>\n",
       "\t<li>'USD'</li>\n",
       "\t<li>'XAU'</li>\n",
       "\t<li>'ZAR'</li>\n",
       "\t<li>'BCO'</li>\n",
       "\t<li>'ETX'</li>\n",
       "\t<li>'EUR'</li>\n",
       "\t<li>'EUR'</li>\n",
       "\t<li>'GBP'</li>\n",
       "\t<li>'GBP'</li>\n",
       "\t<li>'JPX'</li>\n",
       "\t<li>'UDX'</li>\n",
       "\t<li>'USD'</li>\n",
       "\t<li>'USD'</li>\n",
       "\t<li>'WTI'</li>\n",
       "\t<li>'XAU'</li>\n",
       "\t<li>'AUD'</li>\n",
       "\t<li>'CAD'</li>\n",
       "\t<li>'EUR'</li>\n",
       "\t<li>'EUR'</li>\n",
       "\t<li>'EUR'</li>\n",
       "\t<li>'GBP'</li>\n",
       "\t<li>'NSX'</li>\n",
       "\t<li>'UKX'</li>\n",
       "\t<li>'USD'</li>\n",
       "\t<li>'USD'</li>\n",
       "\t<li>'XAG'</li>\n",
       "\t<li>'XAU'</li>\n",
       "</ol>\n"
      ],
      "text/latex": [
       "\\begin{enumerate*}\n",
       "\\item 'EUR'\n",
       "\\item 'EUR'\n",
       "\\item 'EUR'\n",
       "\\item 'EUR'\n",
       "\\item 'EUR'\n",
       "\\item 'USD'\n",
       "\\item 'USD'\n",
       "\\item 'USD'\n",
       "\\item 'USD'\n",
       "\\item 'GBP'\n",
       "\\item 'GBP'\n",
       "\\item 'GBP'\n",
       "\\item 'AUD'\n",
       "\\item 'AUD'\n",
       "\\item 'CHF'\n",
       "\\item 'NZD'\n",
       "\\item 'NZD'\n",
       "\\item 'XAU'\n",
       "\\item 'EUR'\n",
       "\\item 'AUD'\n",
       "\\item 'CAD'\n",
       "\\item 'EUR'\n",
       "\\item 'GRX'\n",
       "\\item 'NZD'\n",
       "\\item 'SGD'\n",
       "\\item 'USD'\n",
       "\\item 'USD'\n",
       "\\item 'USD'\n",
       "\\item 'XAU'\n",
       "\\item 'AUD'\n",
       "\\item 'AUX'\n",
       "\\item 'EUR'\n",
       "\\item 'EUR'\n",
       "\\item 'FRX'\n",
       "\\item 'HKX'\n",
       "\\item 'NZD'\n",
       "\\item 'SPX'\n",
       "\\item 'USD'\n",
       "\\item 'USD'\n",
       "\\item 'USD'\n",
       "\\item 'XAU'\n",
       "\\item 'ZAR'\n",
       "\\item 'BCO'\n",
       "\\item 'ETX'\n",
       "\\item 'EUR'\n",
       "\\item 'EUR'\n",
       "\\item 'GBP'\n",
       "\\item 'GBP'\n",
       "\\item 'JPX'\n",
       "\\item 'UDX'\n",
       "\\item 'USD'\n",
       "\\item 'USD'\n",
       "\\item 'WTI'\n",
       "\\item 'XAU'\n",
       "\\item 'AUD'\n",
       "\\item 'CAD'\n",
       "\\item 'EUR'\n",
       "\\item 'EUR'\n",
       "\\item 'EUR'\n",
       "\\item 'GBP'\n",
       "\\item 'NSX'\n",
       "\\item 'UKX'\n",
       "\\item 'USD'\n",
       "\\item 'USD'\n",
       "\\item 'XAG'\n",
       "\\item 'XAU'\n",
       "\\end{enumerate*}\n"
      ],
      "text/markdown": [
       "1. 'EUR'\n",
       "2. 'EUR'\n",
       "3. 'EUR'\n",
       "4. 'EUR'\n",
       "5. 'EUR'\n",
       "6. 'USD'\n",
       "7. 'USD'\n",
       "8. 'USD'\n",
       "9. 'USD'\n",
       "10. 'GBP'\n",
       "11. 'GBP'\n",
       "12. 'GBP'\n",
       "13. 'AUD'\n",
       "14. 'AUD'\n",
       "15. 'CHF'\n",
       "16. 'NZD'\n",
       "17. 'NZD'\n",
       "18. 'XAU'\n",
       "19. 'EUR'\n",
       "20. 'AUD'\n",
       "21. 'CAD'\n",
       "22. 'EUR'\n",
       "23. 'GRX'\n",
       "24. 'NZD'\n",
       "25. 'SGD'\n",
       "26. 'USD'\n",
       "27. 'USD'\n",
       "28. 'USD'\n",
       "29. 'XAU'\n",
       "30. 'AUD'\n",
       "31. 'AUX'\n",
       "32. 'EUR'\n",
       "33. 'EUR'\n",
       "34. 'FRX'\n",
       "35. 'HKX'\n",
       "36. 'NZD'\n",
       "37. 'SPX'\n",
       "38. 'USD'\n",
       "39. 'USD'\n",
       "40. 'USD'\n",
       "41. 'XAU'\n",
       "42. 'ZAR'\n",
       "43. 'BCO'\n",
       "44. 'ETX'\n",
       "45. 'EUR'\n",
       "46. 'EUR'\n",
       "47. 'GBP'\n",
       "48. 'GBP'\n",
       "49. 'JPX'\n",
       "50. 'UDX'\n",
       "51. 'USD'\n",
       "52. 'USD'\n",
       "53. 'WTI'\n",
       "54. 'XAU'\n",
       "55. 'AUD'\n",
       "56. 'CAD'\n",
       "57. 'EUR'\n",
       "58. 'EUR'\n",
       "59. 'EUR'\n",
       "60. 'GBP'\n",
       "61. 'NSX'\n",
       "62. 'UKX'\n",
       "63. 'USD'\n",
       "64. 'USD'\n",
       "65. 'XAG'\n",
       "66. 'XAU'\n",
       "\n",
       "\n"
      ],
      "text/plain": [
       " [1] \"EUR\" \"EUR\" \"EUR\" \"EUR\" \"EUR\" \"USD\" \"USD\" \"USD\" \"USD\" \"GBP\" \"GBP\" \"GBP\"\n",
       "[13] \"AUD\" \"AUD\" \"CHF\" \"NZD\" \"NZD\" \"XAU\" \"EUR\" \"AUD\" \"CAD\" \"EUR\" \"GRX\" \"NZD\"\n",
       "[25] \"SGD\" \"USD\" \"USD\" \"USD\" \"XAU\" \"AUD\" \"AUX\" \"EUR\" \"EUR\" \"FRX\" \"HKX\" \"NZD\"\n",
       "[37] \"SPX\" \"USD\" \"USD\" \"USD\" \"XAU\" \"ZAR\" \"BCO\" \"ETX\" \"EUR\" \"EUR\" \"GBP\" \"GBP\"\n",
       "[49] \"JPX\" \"UDX\" \"USD\" \"USD\" \"WTI\" \"XAU\" \"AUD\" \"CAD\" \"EUR\" \"EUR\" \"EUR\" \"GBP\"\n",
       "[61] \"NSX\" \"UKX\" \"USD\" \"USD\" \"XAG\" \"XAU\""
      ]
     },
     "metadata": {},
     "output_type": "display_data"
    }
   ],
   "source": [
    "# 4\n",
    "ccy = apply(ccy_pair_names, 1, split_cur)\n",
    "fc = ccy[1,]\n",
    "dc = ccy[2,]\n",
    "fc\n"
   ]
  },
  {
   "cell_type": "code",
   "execution_count": 138,
   "id": "16826a94",
   "metadata": {},
   "outputs": [
    {
     "data": {
      "text/html": [
       "<table>\n",
       "<thead><tr><th scope=col>currency_pair_name</th><th scope=col>currency_pair_code</th><th scope=col>history_first_trading_month</th><th scope=col>foreign_ccy</th><th scope=col>domestic_ccy</th></tr></thead>\n",
       "<tbody>\n",
       "\t<tr><td>EUR/USD</td><td>eurusd </td><td>200005 </td><td>EUR    </td><td>USD    </td></tr>\n",
       "\t<tr><td>EUR/CHF</td><td>eurchf </td><td>200203 </td><td>EUR    </td><td>CHF    </td></tr>\n",
       "\t<tr><td>EUR/GBP</td><td>eurgbp </td><td>200203 </td><td>EUR    </td><td>GBP    </td></tr>\n",
       "\t<tr><td>EUR/JPY</td><td>eurjpy </td><td>200203 </td><td>EUR    </td><td>JPY    </td></tr>\n",
       "\t<tr><td>EUR/AUD</td><td>euraud </td><td>200208 </td><td>EUR    </td><td>AUD    </td></tr>\n",
       "\t<tr><td>USD/CAD</td><td>usdcad </td><td>200006 </td><td>USD    </td><td>CAD    </td></tr>\n",
       "</tbody>\n",
       "</table>\n"
      ],
      "text/latex": [
       "\\begin{tabular}{r|lllll}\n",
       " currency\\_pair\\_name & currency\\_pair\\_code & history\\_first\\_trading\\_month & foreign\\_ccy & domestic\\_ccy\\\\\n",
       "\\hline\n",
       "\t EUR/USD & eurusd  & 200005  & EUR     & USD    \\\\\n",
       "\t EUR/CHF & eurchf  & 200203  & EUR     & CHF    \\\\\n",
       "\t EUR/GBP & eurgbp  & 200203  & EUR     & GBP    \\\\\n",
       "\t EUR/JPY & eurjpy  & 200203  & EUR     & JPY    \\\\\n",
       "\t EUR/AUD & euraud  & 200208  & EUR     & AUD    \\\\\n",
       "\t USD/CAD & usdcad  & 200006  & USD     & CAD    \\\\\n",
       "\\end{tabular}\n"
      ],
      "text/markdown": [
       "\n",
       "| currency_pair_name | currency_pair_code | history_first_trading_month | foreign_ccy | domestic_ccy |\n",
       "|---|---|---|---|---|\n",
       "| EUR/USD | eurusd  | 200005  | EUR     | USD     |\n",
       "| EUR/CHF | eurchf  | 200203  | EUR     | CHF     |\n",
       "| EUR/GBP | eurgbp  | 200203  | EUR     | GBP     |\n",
       "| EUR/JPY | eurjpy  | 200203  | EUR     | JPY     |\n",
       "| EUR/AUD | euraud  | 200208  | EUR     | AUD     |\n",
       "| USD/CAD | usdcad  | 200006  | USD     | CAD     |\n",
       "\n"
      ],
      "text/plain": [
       "  currency_pair_name currency_pair_code history_first_trading_month foreign_ccy\n",
       "1 EUR/USD            eurusd             200005                      EUR        \n",
       "2 EUR/CHF            eurchf             200203                      EUR        \n",
       "3 EUR/GBP            eurgbp             200203                      EUR        \n",
       "4 EUR/JPY            eurjpy             200203                      EUR        \n",
       "5 EUR/AUD            euraud             200208                      EUR        \n",
       "6 USD/CAD            usdcad             200006                      USD        \n",
       "  domestic_ccy\n",
       "1 USD         \n",
       "2 CHF         \n",
       "3 GBP         \n",
       "4 JPY         \n",
       "5 AUD         \n",
       "6 CAD         "
      ]
     },
     "metadata": {},
     "output_type": "display_data"
    }
   ],
   "source": [
    "# 5\n",
    "pairs$foreign_ccy = fc\n",
    "pairs$domestic_ccy = dc\n",
    "head(pairs)"
   ]
  },
  {
   "cell_type": "code",
   "execution_count": 139,
   "id": "044d8a2c",
   "metadata": {},
   "outputs": [
    {
     "data": {
      "text/html": [
       "<table>\n",
       "<thead><tr><th scope=col>foreign_ccy</th><th scope=col>domestic_ccy</th></tr></thead>\n",
       "<tbody>\n",
       "\t<tr><td>EUR</td><td>USD</td></tr>\n",
       "\t<tr><td>GBP</td><td>USD</td></tr>\n",
       "\t<tr><td>AUD</td><td>USD</td></tr>\n",
       "\t<tr><td>NZD</td><td>USD</td></tr>\n",
       "\t<tr><td>XAU</td><td>USD</td></tr>\n",
       "\t<tr><td>SPX</td><td>USD</td></tr>\n",
       "</tbody>\n",
       "</table>\n"
      ],
      "text/latex": [
       "\\begin{tabular}{r|ll}\n",
       " foreign\\_ccy & domestic\\_ccy\\\\\n",
       "\\hline\n",
       "\t EUR & USD\\\\\n",
       "\t GBP & USD\\\\\n",
       "\t AUD & USD\\\\\n",
       "\t NZD & USD\\\\\n",
       "\t XAU & USD\\\\\n",
       "\t SPX & USD\\\\\n",
       "\\end{tabular}\n"
      ],
      "text/markdown": [
       "\n",
       "| foreign_ccy | domestic_ccy |\n",
       "|---|---|\n",
       "| EUR | USD |\n",
       "| GBP | USD |\n",
       "| AUD | USD |\n",
       "| NZD | USD |\n",
       "| XAU | USD |\n",
       "| SPX | USD |\n",
       "\n"
      ],
      "text/plain": [
       "  foreign_ccy domestic_ccy\n",
       "1 EUR         USD         \n",
       "2 GBP         USD         \n",
       "3 AUD         USD         \n",
       "4 NZD         USD         \n",
       "5 XAU         USD         \n",
       "6 SPX         USD         "
      ]
     },
     "metadata": {},
     "output_type": "display_data"
    }
   ],
   "source": [
    "# 6\n",
    "pairs_usd = filter(select(pairs, foreign_ccy, domestic_ccy), domestic_ccy == \"USD\")\n",
    "head(pairs_usd)"
   ]
  },
  {
   "cell_type": "code",
   "execution_count": 140,
   "id": "28804df7",
   "metadata": {},
   "outputs": [
    {
     "data": {
      "text/html": [
       "<table>\n",
       "<thead><tr><th scope=col>domestic_ccy</th><th scope=col>n</th></tr></thead>\n",
       "<tbody>\n",
       "\t<tr><td>AUD</td><td>4  </td></tr>\n",
       "\t<tr><td>CAD</td><td>5  </td></tr>\n",
       "\t<tr><td>CHF</td><td>7  </td></tr>\n",
       "\t<tr><td>CZK</td><td>2  </td></tr>\n",
       "\t<tr><td>DKK</td><td>2  </td></tr>\n",
       "\t<tr><td>EUR</td><td>4  </td></tr>\n",
       "</tbody>\n",
       "</table>\n"
      ],
      "text/latex": [
       "\\begin{tabular}{r|ll}\n",
       " domestic\\_ccy & n\\\\\n",
       "\\hline\n",
       "\t AUD & 4  \\\\\n",
       "\t CAD & 5  \\\\\n",
       "\t CHF & 7  \\\\\n",
       "\t CZK & 2  \\\\\n",
       "\t DKK & 2  \\\\\n",
       "\t EUR & 4  \\\\\n",
       "\\end{tabular}\n"
      ],
      "text/markdown": [
       "\n",
       "| domestic_ccy | n |\n",
       "|---|---|\n",
       "| AUD | 4   |\n",
       "| CAD | 5   |\n",
       "| CHF | 7   |\n",
       "| CZK | 2   |\n",
       "| DKK | 2   |\n",
       "| EUR | 4   |\n",
       "\n"
      ],
      "text/plain": [
       "  domestic_ccy n\n",
       "1 AUD          4\n",
       "2 CAD          5\n",
       "3 CHF          7\n",
       "4 CZK          2\n",
       "5 DKK          2\n",
       "6 EUR          4"
      ]
     },
     "metadata": {},
     "output_type": "display_data"
    }
   ],
   "source": [
    "#7. Using the \"pairs\" dataframe, create a new dataframe \"domestic_count\" \n",
    "# which has two columns, \"domestic_ccy\" and \"n\", to show the count of pairs for \n",
    "# each domestic_ccy.\n",
    "library(tidyverse)\n",
    "domestic_count = select(pairs, domestic_ccy)\n",
    "\n",
    "domestic_count = domestic_count %>% group_by(domestic_ccy) %>% summarize(count=n())\n",
    "domestic_count = rename(domestic_count, n = count)\n",
    "\n",
    "head(domestic_count)"
   ]
  },
  {
   "cell_type": "code",
   "execution_count": 141,
   "id": "63622f3d",
   "metadata": {},
   "outputs": [
    {
     "data": {
      "image/png": "[encoded data removed]",
      "text/plain": [
       "plot without title"
      ]
     },
     "metadata": {},
     "output_type": "display_data"
    }
   ],
   "source": [
    "# 8. Plot a barplot for the dataframe \"domestic_count\". \n",
    "# The height of bar is the value of column \"n\".\n",
    "\n",
    "ggplot(domestic_count, aes(x=domestic_ccy, y=n)) + geom_bar(stat=\"identity\")"
   ]
  },
  {
   "cell_type": "code",
   "execution_count": 142,
   "id": "cb5ca15c",
   "metadata": {},
   "outputs": [
    {
     "name": "stderr",
     "output_type": "stream",
     "text": [
      "`summarise()` has grouped output by 'domestic_ccy'. You can override using the `.groups` argument.\n"
     ]
    },
    {
     "data": {
      "text/html": [
       "<table>\n",
       "<thead><tr><th scope=col>domestic_ccy</th><th scope=col>oldnew</th><th scope=col>n</th></tr></thead>\n",
       "<tbody>\n",
       "\t<tr><td>AUD</td><td>new</td><td>1  </td></tr>\n",
       "\t<tr><td>AUD</td><td>old</td><td>3  </td></tr>\n",
       "\t<tr><td>CAD</td><td>old</td><td>5  </td></tr>\n",
       "\t<tr><td>CHF</td><td>old</td><td>7  </td></tr>\n",
       "\t<tr><td>CZK</td><td>new</td><td>2  </td></tr>\n",
       "\t<tr><td>DKK</td><td>old</td><td>2  </td></tr>\n",
       "</tbody>\n",
       "</table>\n"
      ],
      "text/latex": [
       "\\begin{tabular}{r|lll}\n",
       " domestic\\_ccy & oldnew & n\\\\\n",
       "\\hline\n",
       "\t AUD & new & 1  \\\\\n",
       "\t AUD & old & 3  \\\\\n",
       "\t CAD & old & 5  \\\\\n",
       "\t CHF & old & 7  \\\\\n",
       "\t CZK & new & 2  \\\\\n",
       "\t DKK & old & 2  \\\\\n",
       "\\end{tabular}\n"
      ],
      "text/markdown": [
       "\n",
       "| domestic_ccy | oldnew | n |\n",
       "|---|---|---|\n",
       "| AUD | new | 1   |\n",
       "| AUD | old | 3   |\n",
       "| CAD | old | 5   |\n",
       "| CHF | old | 7   |\n",
       "| CZK | new | 2   |\n",
       "| DKK | old | 2   |\n",
       "\n"
      ],
      "text/plain": [
       "  domestic_ccy oldnew n\n",
       "1 AUD          new    1\n",
       "2 AUD          old    3\n",
       "3 CAD          old    5\n",
       "4 CHF          old    7\n",
       "5 CZK          new    2\n",
       "6 DKK          old    2"
      ]
     },
     "metadata": {},
     "output_type": "display_data"
    }
   ],
   "source": [
    "# 9. Using the \"pairs\" dataframe, create a new dataframe \"domestic_count_oldnew\" \n",
    "# which has three columns, \"domestic_ccy\", \"oldnew\", and \"n\", to show \n",
    "# the count of old pairs and new pairs for each domestic_ccy. \n",
    "# If \"history_first_trading_month\" less than 201001, the column \"oldnew\" is \"old\", \n",
    "# i.e., meaning old pair, if greater than 201001, the column \"oldnew\" is \"new\", \n",
    "# meaning new pair.\n",
    "\n",
    "domestic_count_oldnew = select(pairs, domestic_ccy, history_first_trading_month)\n",
    "\n",
    "domestic_count_oldnew$oldnew = \"old\"\n",
    "domestic_count_oldnew$oldnew[domestic_count_oldnew$history_first_trading_month>201001] = \"new\"\n",
    "\n",
    "domestic_count_oldnew = select(domestic_count_oldnew, domestic_ccy, oldnew)\n",
    "domestic_count_oldnew = domestic_count_oldnew %>% group_by(domestic_ccy, oldnew) %>% summarize(count=n())\n",
    "domestic_count_oldnew = rename(domestic_count_oldnew, n=count)\n",
    "head(domestic_count_oldnew)\n"
   ]
  },
  {
   "cell_type": "code",
   "execution_count": 143,
   "id": "b0f1ac87",
   "metadata": {},
   "outputs": [
    {
     "data": {
      "image/png": "[encoded data removed]",
      "text/plain": [
       "plot without title"
      ]
     },
     "metadata": {},
     "output_type": "display_data"
    }
   ],
   "source": [
    "# 10. Plot a grouped barplot for the dataframe \"domestic_count_oldnew\". \n",
    "# The height of bar is the value of column \"n\" and the color of each bar represents \n",
    "# column \"oldnew\".\n",
    "\n",
    "ggplot(domestic_count_oldnew, aes(fill=oldnew==\"new\", y=n, x=factor(domestic_ccy))) +\n",
    "geom_bar(position=\"dodge\", stat=\"identity\")"
   ]
  },
  {
   "cell_type": "code",
   "execution_count": 172,
   "id": "b82fd3f0",
   "metadata": {},
   "outputs": [
    {
     "name": "stderr",
     "output_type": "stream",
     "text": [
      "Re-using existing Spark connection to local\n"
     ]
    },
    {
     "data": {
      "text/plain": [
       "\u001b[38;5;246m# Source: spark<pairs> [?? x 5]\u001b[39m\n",
       "   currency_pair_na… currency_pair_c… history_first_tr… foreign_ccy domestic_ccy\n",
       "   \u001b[3m\u001b[38;5;246m<chr>\u001b[39m\u001b[23m             \u001b[3m\u001b[38;5;246m<chr>\u001b[39m\u001b[23m                        \u001b[3m\u001b[38;5;246m<int>\u001b[39m\u001b[23m \u001b[3m\u001b[38;5;246m<chr>\u001b[39m\u001b[23m       \u001b[3m\u001b[38;5;246m<chr>\u001b[39m\u001b[23m       \n",
       "\u001b[38;5;250m 1\u001b[39m EUR/USD           eurusd                      \u001b[4m2\u001b[24m\u001b[4m0\u001b[24m\u001b[4m0\u001b[24m005 EUR         USD         \n",
       "\u001b[38;5;250m 2\u001b[39m EUR/CHF           eurchf                      \u001b[4m2\u001b[24m\u001b[4m0\u001b[24m\u001b[4m0\u001b[24m203 EUR         CHF         \n",
       "\u001b[38;5;250m 3\u001b[39m EUR/GBP           eurgbp                      \u001b[4m2\u001b[24m\u001b[4m0\u001b[24m\u001b[4m0\u001b[24m203 EUR         GBP         \n",
       "\u001b[38;5;250m 4\u001b[39m EUR/JPY           eurjpy                      \u001b[4m2\u001b[24m\u001b[4m0\u001b[24m\u001b[4m0\u001b[24m203 EUR         JPY         \n",
       "\u001b[38;5;250m 5\u001b[39m EUR/AUD           euraud                      \u001b[4m2\u001b[24m\u001b[4m0\u001b[24m\u001b[4m0\u001b[24m208 EUR         AUD         \n",
       "\u001b[38;5;250m 6\u001b[39m USD/CAD           usdcad                      \u001b[4m2\u001b[24m\u001b[4m0\u001b[24m\u001b[4m0\u001b[24m006 USD         CAD         \n",
       "\u001b[38;5;250m 7\u001b[39m USD/CHF           usdchf                      \u001b[4m2\u001b[24m\u001b[4m0\u001b[24m\u001b[4m0\u001b[24m005 USD         CHF         \n",
       "\u001b[38;5;250m 8\u001b[39m USD/JPY           usdjpy                      \u001b[4m2\u001b[24m\u001b[4m0\u001b[24m\u001b[4m0\u001b[24m005 USD         JPY         \n",
       "\u001b[38;5;250m 9\u001b[39m USD/MXN           usdmxn                      \u001b[4m2\u001b[24m\u001b[4m0\u001b[24m\u001b[4m1\u001b[24m011 USD         MXN         \n",
       "\u001b[38;5;250m10\u001b[39m GBP/CHF           gbpchf                      \u001b[4m2\u001b[24m\u001b[4m0\u001b[24m\u001b[4m0\u001b[24m208 GBP         CHF         \n",
       "\u001b[38;5;246m# … with more rows\u001b[39m"
      ]
     },
     "metadata": {},
     "output_type": "display_data"
    }
   ],
   "source": [
    "# 11. Load the dataset \"pairs\" into Spark as a distributed \n",
    "# dataframe called \"pairs_tbl\".\n",
    "library(sparklyr)\n",
    "library(ggraph)\n",
    "library(igraph)\n",
    "library(graphframes)\n",
    "sc=spark_connect(master=\"local\")\n",
    "pairs_tbl = copy_to(sc, pairs, \"pairs\", overwrite = TRUE)\n",
    "pairs_tbl"
   ]
  },
  {
   "cell_type": "code",
   "execution_count": 163,
   "id": "26bf87f7",
   "metadata": {},
   "outputs": [
    {
     "data": {
      "text/plain": [
       "\u001b[38;5;246m# Source: spark<?> [?? x 2]\u001b[39m\n",
       "   src   dst  \n",
       "   \u001b[3m\u001b[38;5;246m<chr>\u001b[39m\u001b[23m \u001b[3m\u001b[38;5;246m<chr>\u001b[39m\u001b[23m\n",
       "\u001b[38;5;250m 1\u001b[39m EUR   USD  \n",
       "\u001b[38;5;250m 2\u001b[39m EUR   CHF  \n",
       "\u001b[38;5;250m 3\u001b[39m EUR   GBP  \n",
       "\u001b[38;5;250m 4\u001b[39m EUR   JPY  \n",
       "\u001b[38;5;250m 5\u001b[39m EUR   AUD  \n",
       "\u001b[38;5;250m 6\u001b[39m USD   CAD  \n",
       "\u001b[38;5;250m 7\u001b[39m USD   CHF  \n",
       "\u001b[38;5;250m 8\u001b[39m USD   JPY  \n",
       "\u001b[38;5;250m 9\u001b[39m USD   MXN  \n",
       "\u001b[38;5;250m10\u001b[39m GBP   CHF  \n",
       "\u001b[38;5;246m# … with more rows\u001b[39m"
      ]
     },
     "metadata": {},
     "output_type": "display_data"
    }
   ],
   "source": [
    "# 12. Using \"pairs_tbl\" on Spark, return a new distributed \n",
    "# dataframe \"exchangeable\" which has two columns \"foreign_ccy\" \n",
    "# and \"domestic_ccy\" from the original \"pairs_tbl\" and renames \n",
    "# the two columns to \"src\" and \"dst\".\n",
    "\n",
    "exchangeable = pairs_tbl %>% select(foreign_ccy, domestic_ccy)\n",
    "exchangeable = exchangeable %>% rename(src = foreign_ccy, dst = domestic_ccy)\n",
    "exchangeable"
   ]
  },
  {
   "cell_type": "code",
   "execution_count": 164,
   "id": "e2c3c219",
   "metadata": {},
   "outputs": [
    {
     "name": "stderr",
     "output_type": "stream",
     "text": [
      "Warning message:\n",
      "“ORDER BY is ignored in subqueries without LIMIT\n",
      "\u001b[34mℹ\u001b[39m Do you need to move arrange() later in the pipeline or use window_order() instead?”Warning message:\n",
      "“ORDER BY is ignored in subqueries without LIMIT\n",
      "\u001b[34mℹ\u001b[39m Do you need to move arrange() later in the pipeline or use window_order() instead?”Warning message:\n",
      "“ORDER BY is ignored in subqueries without LIMIT\n",
      "\u001b[34mℹ\u001b[39m Do you need to move arrange() later in the pipeline or use window_order() instead?”Warning message:\n",
      "“ORDER BY is ignored in subqueries without LIMIT\n",
      "\u001b[34mℹ\u001b[39m Do you need to move arrange() later in the pipeline or use window_order() instead?”Warning message:\n",
      "“ORDER BY is ignored in subqueries without LIMIT\n",
      "\u001b[34mℹ\u001b[39m Do you need to move arrange() later in the pipeline or use window_order() instead?”Warning message:\n",
      "“ORDER BY is ignored in subqueries without LIMIT\n",
      "\u001b[34mℹ\u001b[39m Do you need to move arrange() later in the pipeline or use window_order() instead?”Warning message:\n",
      "“ORDER BY is ignored in subqueries without LIMIT\n",
      "\u001b[34mℹ\u001b[39m Do you need to move arrange() later in the pipeline or use window_order() instead?”Warning message:\n",
      "“ORDER BY is ignored in subqueries without LIMIT\n",
      "\u001b[34mℹ\u001b[39m Do you need to move arrange() later in the pipeline or use window_order() instead?”Warning message:\n",
      "“ORDER BY is ignored in subqueries without LIMIT\n",
      "\u001b[34mℹ\u001b[39m Do you need to move arrange() later in the pipeline or use window_order() instead?”Warning message:\n",
      "“ORDER BY is ignored in subqueries without LIMIT\n",
      "\u001b[34mℹ\u001b[39m Do you need to move arrange() later in the pipeline or use window_order() instead?”Warning message:\n",
      "“ORDER BY is ignored in subqueries without LIMIT\n",
      "\u001b[34mℹ\u001b[39m Do you need to move arrange() later in the pipeline or use window_order() instead?”Warning message:\n",
      "“ORDER BY is ignored in subqueries without LIMIT\n",
      "\u001b[34mℹ\u001b[39m Do you need to move arrange() later in the pipeline or use window_order() instead?”Warning message:\n",
      "“ORDER BY is ignored in subqueries without LIMIT\n",
      "\u001b[34mℹ\u001b[39m Do you need to move arrange() later in the pipeline or use window_order() instead?”"
     ]
    },
    {
     "data": {
      "text/plain": [
       "\u001b[38;5;246m# Source: spark<?> [?? x 1]\u001b[39m\n",
       "   id   \n",
       "   \u001b[3m\u001b[38;5;246m<chr>\u001b[39m\u001b[23m\n",
       "\u001b[38;5;250m 1\u001b[39m BCO  \n",
       "\u001b[38;5;250m 2\u001b[39m ETX  \n",
       "\u001b[38;5;250m 3\u001b[39m NZD  \n",
       "\u001b[38;5;250m 4\u001b[39m XAU  \n",
       "\u001b[38;5;250m 5\u001b[39m AUX  \n",
       "\u001b[38;5;250m 6\u001b[39m ZAR  \n",
       "\u001b[38;5;250m 7\u001b[39m NSX  \n",
       "\u001b[38;5;250m 8\u001b[39m SGD  \n",
       "\u001b[38;5;250m 9\u001b[39m USD  \n",
       "\u001b[38;5;250m10\u001b[39m GBP  \n",
       "\u001b[38;5;246m# … with more rows\u001b[39m"
      ]
     },
     "metadata": {},
     "output_type": "display_data"
    }
   ],
   "source": [
    "# 13. Write R code with Spark to return a distributed dataframe \n",
    "# called \"allccy\" which has one column \"id\" and has all unique \n",
    "# currencies from the \"src\" and \"dst\" columns. \n",
    "# The results are the vertices of the currency graph.\n",
    "\n",
    "from_tbl <- exchangeable %>% \n",
    "    distinct(src) %>% \n",
    "    transmute(id = src)\n",
    "\n",
    "to_tbl <- exchangeable %>% \n",
    "    distinct(dst) %>% \n",
    "    transmute(id = dst)\n",
    "\n",
    "allccy <- distinct(sdf_bind_rows(from_tbl, to_tbl))\n",
    "allccy"
   ]
  },
  {
   "cell_type": "code",
   "execution_count": 174,
   "id": "d3eaaa62",
   "metadata": {},
   "outputs": [
    {
     "ename": "ERROR",
     "evalue": "Error: java.lang.ClassNotFoundException: org.graphframes.GraphFrame\n\tat java.base/java.net.URLClassLoader.findClass(URLClassLoader.java:471)\n\tat java.base/java.lang.ClassLoader.loadClass(ClassLoader.java:589)\n\tat java.base/java.lang.ClassLoader.loadClass(ClassLoader.java:522)\n\tat java.base/java.lang.Class.forName0(Native Method)\n\tat java.base/java.lang.Class.forName(Class.java:315)\n\tat sparklyr.StreamHandler.handleMethodCall(stream.scala:108)\n\tat sparklyr.StreamHandler.read(stream.scala:62)\n\tat sparklyr.BackendHandler.$anonfun$channelRead0$1(handler.scala:59)\n\tat scala.util.control.Breaks.breakable(Breaks.scala:42)\n\tat sparklyr.BackendHandler.channelRead0(handler.scala:40)\n\tat sparklyr.BackendHandler.channelRead0(handler.scala:14)\n\tat io.netty.channel.SimpleChannelInboundHandler.channelRead(SimpleChannelInboundHandler.java:99)\n\tat io.netty.channel.AbstractChannelHandlerContext.invokeChannelRead(AbstractChannelHandlerContext.java:379)\n\tat io.netty.channel.AbstractChannelHandlerContext.invokeChannelRead(AbstractChannelHandlerContext.java:365)\n\tat io.netty.channel.AbstractChannelHandlerContext.fireChannelRead(AbstractChannelHandlerContext.java:357)\n\tat io.netty.handler.codec.MessageToMessageDecoder.channelRead(MessageToMessageDecoder.java:102)\n\tat io.netty.channel.AbstractChannelHandlerContext.invokeChannelRead(AbstractChannelHandlerContext.java:379)\n\tat io.netty.channel.AbstractChannelHandlerContext.invokeChannelRead(AbstractChannelHandlerContext.java:365)\n\tat io.netty.channel.AbstractChannelHandlerContext.fireChannelRead(AbstractChannelHandlerContext.java:357)\n\tat io.netty.handler.codec.ByteToMessageDecoder.fireChannelRead(ByteToMessageDecoder.java:321)\n\tat io.netty.handler.codec.ByteToMessageDecoder.channelRead(ByteToMessageDecoder.java:295)\n\tat io.netty.channel.AbstractChannelHandlerContext.invokeChannelRead(AbstractChannelHandlerContext.java:379)\n\tat io.netty.channel.AbstractChannelHandlerContext.invokeChannelRead(AbstractChannelHandlerContext.java:365)\n\tat io.netty.channel.AbstractChannelHandlerContext.fireChannelRead(AbstractChannelHandlerContext.java:357)\n\tat io.netty.channel.DefaultChannelPipeline$HeadContext.channelRead(DefaultChannelPipeline.java:1410)\n\tat io.netty.channel.AbstractChannelHandlerContext.invokeChannelRead(AbstractChannelHandlerContext.java:379)\n\tat io.netty.channel.AbstractChannelHandlerContext.invokeChannelRead(AbstractChannelHandlerContext.java:365)\n\tat io.netty.channel.DefaultChannelPipeline.fireChannelRead(DefaultChannelPipeline.java:919)\n\tat io.netty.channel.nio.AbstractNioByteChannel$NioByteUnsafe.read(AbstractNioByteChannel.java:163)\n\tat io.netty.channel.nio.NioEventLoop.processSelectedKey(NioEventLoop.java:714)\n\tat io.netty.channel.nio.NioEventLoop.processSelectedKeysOptimized(NioEventLoop.java:650)\n\tat io.netty.channel.nio.NioEventLoop.processSelectedKeys(NioEventLoop.java:576)\n\tat io.netty.channel.nio.NioEventLoop.run(NioEventLoop.java:493)\n\tat io.netty.util.concurrent.SingleThreadEventExecutor$4.run(SingleThreadEventExecutor.java:989)\n\tat io.netty.util.internal.ThreadExecutorMap$2.run(ThreadExecutorMap.java:74)\n\tat io.netty.util.concurrent.FastThreadLocalRunnable.run(FastThreadLocalRunnable.java:30)\n\tat java.base/java.lang.Thread.run(Thread.java:829)\n\n",
     "output_type": "error",
     "traceback": [
      "Error: java.lang.ClassNotFoundException: org.graphframes.GraphFrame\n\tat java.base/java.net.URLClassLoader.findClass(URLClassLoader.java:471)\n\tat java.base/java.lang.ClassLoader.loadClass(ClassLoader.java:589)\n\tat java.base/java.lang.ClassLoader.loadClass(ClassLoader.java:522)\n\tat java.base/java.lang.Class.forName0(Native Method)\n\tat java.base/java.lang.Class.forName(Class.java:315)\n\tat sparklyr.StreamHandler.handleMethodCall(stream.scala:108)\n\tat sparklyr.StreamHandler.read(stream.scala:62)\n\tat sparklyr.BackendHandler.$anonfun$channelRead0$1(handler.scala:59)\n\tat scala.util.control.Breaks.breakable(Breaks.scala:42)\n\tat sparklyr.BackendHandler.channelRead0(handler.scala:40)\n\tat sparklyr.BackendHandler.channelRead0(handler.scala:14)\n\tat io.netty.channel.SimpleChannelInboundHandler.channelRead(SimpleChannelInboundHandler.java:99)\n\tat io.netty.channel.AbstractChannelHandlerContext.invokeChannelRead(AbstractChannelHandlerContext.java:379)\n\tat io.netty.channel.AbstractChannelHandlerContext.invokeChannelRead(AbstractChannelHandlerContext.java:365)\n\tat io.netty.channel.AbstractChannelHandlerContext.fireChannelRead(AbstractChannelHandlerContext.java:357)\n\tat io.netty.handler.codec.MessageToMessageDecoder.channelRead(MessageToMessageDecoder.java:102)\n\tat io.netty.channel.AbstractChannelHandlerContext.invokeChannelRead(AbstractChannelHandlerContext.java:379)\n\tat io.netty.channel.AbstractChannelHandlerContext.invokeChannelRead(AbstractChannelHandlerContext.java:365)\n\tat io.netty.channel.AbstractChannelHandlerContext.fireChannelRead(AbstractChannelHandlerContext.java:357)\n\tat io.netty.handler.codec.ByteToMessageDecoder.fireChannelRead(ByteToMessageDecoder.java:321)\n\tat io.netty.handler.codec.ByteToMessageDecoder.channelRead(ByteToMessageDecoder.java:295)\n\tat io.netty.channel.AbstractChannelHandlerContext.invokeChannelRead(AbstractChannelHandlerContext.java:379)\n\tat io.netty.channel.AbstractChannelHandlerContext.invokeChannelRead(AbstractChannelHandlerContext.java:365)\n\tat io.netty.channel.AbstractChannelHandlerContext.fireChannelRead(AbstractChannelHandlerContext.java:357)\n\tat io.netty.channel.DefaultChannelPipeline$HeadContext.channelRead(DefaultChannelPipeline.java:1410)\n\tat io.netty.channel.AbstractChannelHandlerContext.invokeChannelRead(AbstractChannelHandlerContext.java:379)\n\tat io.netty.channel.AbstractChannelHandlerContext.invokeChannelRead(AbstractChannelHandlerContext.java:365)\n\tat io.netty.channel.DefaultChannelPipeline.fireChannelRead(DefaultChannelPipeline.java:919)\n\tat io.netty.channel.nio.AbstractNioByteChannel$NioByteUnsafe.read(AbstractNioByteChannel.java:163)\n\tat io.netty.channel.nio.NioEventLoop.processSelectedKey(NioEventLoop.java:714)\n\tat io.netty.channel.nio.NioEventLoop.processSelectedKeysOptimized(NioEventLoop.java:650)\n\tat io.netty.channel.nio.NioEventLoop.processSelectedKeys(NioEventLoop.java:576)\n\tat io.netty.channel.nio.NioEventLoop.run(NioEventLoop.java:493)\n\tat io.netty.util.concurrent.SingleThreadEventExecutor$4.run(SingleThreadEventExecutor.java:989)\n\tat io.netty.util.internal.ThreadExecutorMap$2.run(ThreadExecutorMap.java:74)\n\tat io.netty.util.concurrent.FastThreadLocalRunnable.run(FastThreadLocalRunnable.java:30)\n\tat java.base/java.lang.Thread.run(Thread.java:829)\n\nTraceback:\n",
      "1. gf_graphframe(allccy, edges_tbl)",
      "2. invoke_new(sc, \"org.graphframes.GraphFrame\", spark_dataframe(vertices), \n .     spark_dataframe(edges))",
      "3. invoke_new.spark_shell_connection(sc, \"org.graphframes.GraphFrame\", \n .     spark_dataframe(vertices), spark_dataframe(edges))",
      "4. invoke_method(sc, TRUE, class, \"<init>\", ...)",
      "5. invoke_method.spark_shell_connection(sc, TRUE, class, \"<init>\", \n .     ...)",
      "6. core_invoke_method(sc, static, object, method, FALSE, ...)",
      "7. core_invoke_method_impl(sc, static, noreply = FALSE, object, \n .     method, return_jobj_ref, ...)",
      "8. withr::with_options(list(warning.length = 8000), {\n .     if (nzchar(msg)) {\n .         core_handle_known_errors(sc, msg)\n .         stop(msg, call. = FALSE)\n .     }\n .     else {\n .         msg <- core_read_spark_log_error(sc)\n .         stop(msg, call. = FALSE)\n .     }\n . })",
      "9. force(code)",
      "10. stop(msg, call. = FALSE)"
     ]
    }
   ],
   "source": [
    "# 14. Create a simple undirected graph by using \"allccy\" and \n",
    "# \"exchangeable\", where \"exchangeable\" has all edges.\n",
    "\n",
    "edges_tbl <- exchangeable %>% \n",
    "    transmute(src = src, dst = dst)\n",
    "\n",
    "graph = gf_graphframe(allccy, edges_tbl)\n",
    "graph\n",
    "\n",
    "# I tried to use the link given in the recent canvs annoucnement\n",
    "#  but I could not get it to work.\n",
    "# I hope I am still able to reeceive partial credit for this\n",
    "\n",
    "# The instructions given by the professor are for Windows and I use Mac and Linux"
   ]
  },
  {
   "cell_type": "code",
   "execution_count": 166,
   "id": "7e28d7e9",
   "metadata": {},
   "outputs": [
    {
     "ename": "ERROR",
     "evalue": "Error: object of type 'closure' is not subsettable\n",
     "output_type": "error",
     "traceback": [
      "Error: object of type 'closure' is not subsettable\nTraceback:\n",
      "1. gf_degrees(graph) %>% arrange(desc(degree))",
      "2. arrange(., desc(degree))",
      "3. gf_degrees(graph)",
      "4. x %>% spark_graphframe() %>% invoke(\"degrees\") %>% sdf_register()",
      "5. sdf_register(.)",
      "6. invoke(., \"degrees\")",
      "7. invoke_trace(spark_connection(jobj), \"Invoking\", method)",
      "8. spark_config_value(sc$config, \"sparklyr.log.invoke\", FALSE)",
      "9. name %in% names(config)",
      "10. spark_connection(jobj)",
      "11. spark_graphframe(.)"
     ]
    }
   ],
   "source": [
    "# 15. Find which currency is the most exchangeable currency, \n",
    "# in terms of the count of direct exchangeable connection to \n",
    "# other currencies.\n",
    "\n",
    "gf_degrees(graph) %>% arrange(desc(degree))\n",
    "\n",
    "\n",
    "# I hope I am still able to receive partial credit for this\n",
    "# I could not find graphframe instructions for Linux/Mac"
   ]
  },
  {
   "cell_type": "code",
   "execution_count": null,
   "id": "14ad3cbb",
   "metadata": {},
   "outputs": [],
   "source": []
  }
 ],
 "metadata": {
  "kernelspec": {
   "display_name": "R",
   "language": "R",
   "name": "ir"
  },
  "language_info": {
   "codemirror_mode": "r",
   "file_extension": ".r",
   "mimetype": "text/x-r-source",
   "name": "R",
   "pygments_lexer": "r",
   "version": "3.6.1"
  }
 },
 "nbformat": 4,
 "nbformat_minor": 5
}
