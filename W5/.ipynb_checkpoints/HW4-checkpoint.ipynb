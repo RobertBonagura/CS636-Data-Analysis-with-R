{
 "cells": [
  {
   "cell_type": "code",
   "execution_count": 1,
   "id": "928dbb2e",
   "metadata": {},
   "outputs": [],
   "source": [
    "# Robert Bonagura"
   ]
  },
  {
   "cell_type": "code",
   "execution_count": 1,
   "id": "6ab21e17",
   "metadata": {},
   "outputs": [
    {
     "data": {
      "image/png": "[encoded data removed]",
      "text/plain": [
       "plot without title"
      ]
     },
     "metadata": {},
     "output_type": "display_data"
    }
   ],
   "source": [
    "# Problem 1 - Six Sigma\n",
    "\n",
    "# A six sigma process is one in which 99.99966% of all opportunities to produce some feature of a part are \n",
    "# statistically expected to be free of defects.\n",
    "\n",
    "# 68% fall within 1 sigma\n",
    "# 95% fall within 2 sigma\n",
    "# 97% fall within 3 sigma\n",
    "\n",
    "# 1. Please write R code to verify the probabilities within σ, 2σ and 3σ as shown in the above graph\n",
    "\n",
    "x <- seq(1, 100, length=100)\n",
    "y <- dnorm(x, mean=50, sd=13)\n",
    "plot(x, y, type=\"l\", lwd=1)\n",
    "\n",
    "\n"
   ]
  },
  {
   "cell_type": "code",
   "execution_count": 2,
   "id": "eb503448",
   "metadata": {},
   "outputs": [
    {
     "data": {
      "text/html": [
       "0.682689492137086"
      ],
      "text/latex": [
       "0.682689492137086"
      ],
      "text/markdown": [
       "0.682689492137086"
      ],
      "text/plain": [
       "[1] 0.6826895"
      ]
     },
     "metadata": {},
     "output_type": "display_data"
    },
    {
     "data": {
      "text/html": [
       "0.954499736103642"
      ],
      "text/latex": [
       "0.954499736103642"
      ],
      "text/markdown": [
       "0.954499736103642"
      ],
      "text/plain": [
       "[1] 0.9544997"
      ]
     },
     "metadata": {},
     "output_type": "display_data"
    },
    {
     "data": {
      "text/html": [
       "0.99730020393674"
      ],
      "text/latex": [
       "0.99730020393674"
      ],
      "text/markdown": [
       "0.99730020393674"
      ],
      "text/plain": [
       "[1] 0.9973002"
      ]
     },
     "metadata": {},
     "output_type": "display_data"
    },
    {
     "data": {
      "text/html": [
       "0.999936657516334"
      ],
      "text/latex": [
       "0.999936657516334"
      ],
      "text/markdown": [
       "0.999936657516334"
      ],
      "text/plain": [
       "[1] 0.9999367"
      ]
     },
     "metadata": {},
     "output_type": "display_data"
    },
    {
     "data": {
      "text/html": [
       "0.999999426696856"
      ],
      "text/latex": [
       "0.999999426696856"
      ],
      "text/markdown": [
       "0.999999426696856"
      ],
      "text/plain": [
       "[1] 0.9999994"
      ]
     },
     "metadata": {},
     "output_type": "display_data"
    },
    {
     "data": {
      "text/html": [
       "0.999999998026825"
      ],
      "text/latex": [
       "0.999999998026825"
      ],
      "text/markdown": [
       "0.999999998026825"
      ],
      "text/plain": [
       "[1] 1"
      ]
     },
     "metadata": {},
     "output_type": "display_data"
    }
   ],
   "source": [
    "dist = pnorm(x, mean=50, sd=3)\n",
    "\n",
    "mean = 50\n",
    "sd = 3\n",
    "\n",
    "sd1 = dist[mean + sd] - dist[mean - sd]\n",
    "sd2 = dist[mean + (2*sd)] - dist[mean - (2*sd)]\n",
    "sd3 = dist[mean + (3*sd)] - dist[mean - (3*sd)]\n",
    "sd4 = dist[mean + (4*sd)] - dist[mean - (4*sd)]\n",
    "sd5 = dist[mean + (5*sd)] - dist[mean - (5*sd)]\n",
    "sd6 = dist[mean + (6*sd)] - dist[mean - (6*sd)]\n",
    "\n",
    "sd1\n",
    "sd2\n",
    "sd3\n",
    "sd4\n",
    "sd5\n",
    "sd6\n"
   ]
  },
  {
   "cell_type": "markdown",
   "id": "e268f7ea",
   "metadata": {},
   "source": [
    "1. Please write R code to verify the probabilities within σ, 2σ and 3σ as shown in the above graph\n",
    "\n",
    "The values shown above represent the probability of landing within 1 through 6 standard deviations.\n",
    "\n",
    "1 sd = 68.268949\n",
    "2 sd = 95.449973\n",
    "3 sd = 99.730020\n",
    "4 sd = 99.993665\n",
    "5 sd = 99.999942\n",
    "6 sd = 99.999999\n",
    "\n",
    "2. Write R code to find out, within how many σ, the probability is 99.99966%. Is it really 6σ?\n",
    "According to the values I found, 99.99966% is actually achieved within 5 standard deviations, despite the Six Sigma claim."
   ]
  },
  {
   "cell_type": "code",
   "execution_count": 5,
   "id": "79b440c1",
   "metadata": {},
   "outputs": [
    {
     "data": {
      "text/html": [
       "0.63396765872677"
      ],
      "text/latex": [
       "0.63396765872677"
      ],
      "text/markdown": [
       "0.63396765872677"
      ],
      "text/plain": [
       "[1] 0.6339677"
      ]
     },
     "metadata": {},
     "output_type": "display_data"
    },
    {
     "data": {
      "text/html": [
       "0.633967658726771"
      ],
      "text/latex": [
       "0.633967658726771"
      ],
      "text/markdown": [
       "0.633967658726771"
      ],
      "text/plain": [
       "[1] 0.6339677"
      ]
     },
     "metadata": {},
     "output_type": "display_data"
    },
    {
     "data": {
      "text/html": [
       "0.6323"
      ],
      "text/latex": [
       "0.6323"
      ],
      "text/markdown": [
       "0.6323"
      ],
      "text/plain": [
       "[1] 0.6323"
      ]
     },
     "metadata": {},
     "output_type": "display_data"
    },
    {
     "data": {
      "text/html": [
       "230"
      ],
      "text/latex": [
       "230"
      ],
      "text/markdown": [
       "230"
      ],
      "text/plain": [
       "[1] 230"
      ]
     },
     "metadata": {},
     "output_type": "display_data"
    }
   ],
   "source": [
    "# Problem 2\n",
    "\n",
    "# 1. Please solve the problem by math. Use R mathematical expression to get the result.\n",
    "\n",
    "p = 1 / 100\n",
    "cd = 0\n",
    "for (i in 1:100){\n",
    "    this_p =  p * ((1-p)^(100-i))\n",
    "    cd = cd + this_p\n",
    "}\n",
    "cd\n",
    "\n",
    "# 2. Analytic solution. Use R’s probability functions to solve the problem.\n",
    "\n",
    "x = 1:100\n",
    "sum(dbinom(x, 100, 0.01))\n",
    "\n",
    "# 3. Answer by simulation. Use sampling function to simulate the process and estimate the answer.\n",
    "\n",
    "n = 100\n",
    "p = 0.01\n",
    "\n",
    "sample_average = function(n){\n",
    "    count = 0\n",
    "    for (i in 1:n){\n",
    "        sam = sample(0:1, size=100, replace=TRUE, prob = c(1-p, p))\n",
    "        if (1 %in% sam){\n",
    "            count = count + 1\n",
    "        }\n",
    "    }\n",
    "    return(count/n)\n",
    "}\n",
    "\n",
    "E = sample_average(10000)\n",
    "E\n",
    "\n",
    "# 4. How many resumes in total do you have to spam so that you will have 90% chance to get at least one job offer?\n",
    "\n",
    "\n",
    "# As the number of trials increases, the binomial probability does not\n",
    "\n",
    "x = 1:100\n",
    "find_90 = function(){\n",
    "    for (i in 100:400){\n",
    "        if (sum(dbinom(x, i, 0.01)) >= 0.9){\n",
    "            return(i)\n",
    "        } \n",
    "    }\n",
    "}\n",
    "find_90()"
   ]
  },
  {
   "cell_type": "code",
   "execution_count": 8,
   "id": "e23913f9",
   "metadata": {},
   "outputs": [
    {
     "data": {
      "text/html": [
       "1.36423206065217e-10"
      ],
      "text/latex": [
       "1.36423206065217e-10"
      ],
      "text/markdown": [
       "1.36423206065217e-10"
      ],
      "text/plain": [
       "[1] 1.364232e-10"
      ]
     },
     "metadata": {},
     "output_type": "display_data"
    },
    {
     "data": {
      "text/html": [
       "1.90878646222359e-10"
      ],
      "text/latex": [
       "1.90878646222359e-10"
      ],
      "text/markdown": [
       "1.90878646222359e-10"
      ],
      "text/plain": [
       "[1] 1.908786e-10"
      ]
     },
     "metadata": {},
     "output_type": "display_data"
    },
    {
     "data": {
      "image/png": "[encoded data removed]",
      "text/plain": [
       "plot without title"
      ]
     },
     "metadata": {},
     "output_type": "display_data"
    }
   ],
   "source": [
    "# Problem 3\n",
    "\n",
    "# 1. Use binomial distribution\n",
    "p = 0.5\n",
    "n = 1000\n",
    "x = 1:1000\n",
    "barplot(dbinom(x,n,p), names.arg=x)\n",
    "x= 600:1000\n",
    "1 - pbinom(599,n,p)\n",
    "\n",
    "# 2. 2. Use normal distribution as approximation.\n",
    "1 - pnorm(599, mean=500, sd=sqrt(250))\n",
    "\n"
   ]
  },
  {
   "cell_type": "code",
   "execution_count": null,
   "id": "565959b9",
   "metadata": {
    "scrolled": true
   },
   "outputs": [],
   "source": [
    "\n"
   ]
  },
  {
   "cell_type": "code",
   "execution_count": null,
   "id": "8da2b2d7",
   "metadata": {},
   "outputs": [],
   "source": [
    "\n"
   ]
  },
  {
   "cell_type": "code",
   "execution_count": null,
   "id": "a3026ac9",
   "metadata": {},
   "outputs": [],
   "source": []
  },
  {
   "cell_type": "code",
   "execution_count": null,
   "id": "10d726f1",
   "metadata": {},
   "outputs": [],
   "source": []
  }
 ],
 "metadata": {
  "kernelspec": {
   "display_name": "R",
   "language": "R",
   "name": "ir"
  },
  "language_info": {
   "codemirror_mode": "r",
   "file_extension": ".r",
   "mimetype": "text/x-r-source",
   "name": "R",
   "pygments_lexer": "r",
   "version": "3.6.1"
  }
 },
 "nbformat": 4,
 "nbformat_minor": 5
}
