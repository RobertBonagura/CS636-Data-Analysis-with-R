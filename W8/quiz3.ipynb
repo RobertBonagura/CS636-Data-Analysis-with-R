{
 "cells": [
  {
   "cell_type": "markdown",
   "id": "7a79331f",
   "metadata": {},
   "source": [
    "Robert Bonagura\n",
    "\n",
    "Quiz 3"
   ]
  },
  {
   "cell_type": "code",
   "execution_count": 14,
   "id": "b3d37226",
   "metadata": {},
   "outputs": [
    {
     "data": {
      "text/html": [
       "<table>\n",
       "<tbody>\n",
       "\t<tr><td>0</td><td>9</td><td>1</td><td>4</td><td>7</td></tr>\n",
       "\t<tr><td>9</td><td>0</td><td>5</td><td>8</td><td>3</td></tr>\n",
       "\t<tr><td>1</td><td>5</td><td>0</td><td>6</td><td>7</td></tr>\n",
       "\t<tr><td>4</td><td>8</td><td>6</td><td>0</td><td>2</td></tr>\n",
       "\t<tr><td>7</td><td>3</td><td>7</td><td>2</td><td>0</td></tr>\n",
       "</tbody>\n",
       "</table>\n"
      ],
      "text/latex": [
       "\\begin{tabular}{lllll}\n",
       "\t 0 & 9 & 1 & 4 & 7\\\\\n",
       "\t 9 & 0 & 5 & 8 & 3\\\\\n",
       "\t 1 & 5 & 0 & 6 & 7\\\\\n",
       "\t 4 & 8 & 6 & 0 & 2\\\\\n",
       "\t 7 & 3 & 7 & 2 & 0\\\\\n",
       "\\end{tabular}\n"
      ],
      "text/markdown": [
       "\n",
       "| 0 | 9 | 1 | 4 | 7 |\n",
       "| 9 | 0 | 5 | 8 | 3 |\n",
       "| 1 | 5 | 0 | 6 | 7 |\n",
       "| 4 | 8 | 6 | 0 | 2 |\n",
       "| 7 | 3 | 7 | 2 | 0 |\n",
       "\n"
      ],
      "text/plain": [
       "     [,1] [,2] [,3] [,4] [,5]\n",
       "[1,] 0    9    1    4    7   \n",
       "[2,] 9    0    5    8    3   \n",
       "[3,] 1    5    0    6    7   \n",
       "[4,] 4    8    6    0    2   \n",
       "[5,] 7    3    7    2    0   "
      ]
     },
     "metadata": {},
     "output_type": "display_data"
    }
   ],
   "source": [
    "c1 = c(0, 9, 1, 4, 7)\n",
    "c2 = c(9, 0, 5, 8, 3)\n",
    "c3 = c(1, 5, 0, 6, 7)\n",
    "c4 = c(4, 8, 6, 0, 2)\n",
    "c5 = c(7, 3, 7, 2, 0)\n",
    "\n",
    "distance_matrix = array(c(c1, c2, c3, c4, c5), dim = c(5, 5))\n",
    "distance_matrix"
   ]
  },
  {
   "cell_type": "code",
   "execution_count": 15,
   "id": "cb4bef35",
   "metadata": {},
   "outputs": [
    {
     "ename": "ERROR",
     "evalue": "Error in if (distance_matrix[r][c] <= min) {: missing value where TRUE/FALSE needed\n",
     "output_type": "error",
     "traceback": [
      "Error in if (distance_matrix[r][c] <= min) {: missing value where TRUE/FALSE needed\nTraceback:\n",
      "1. inter_clus_Min(cl1, cl2)"
     ]
    }
   ],
   "source": [
    "# 1. Suppose we have two clusters {1, 5} and {2, 3, 4}. \n",
    "# What are their inter-cluster distances by using \n",
    "# MIN, MAX, and  GROUP AVERAGE as distance metrics, \n",
    "# respectively? \n",
    "\n",
    "inter_clus_Min = function(cl1, cl2){\n",
    "    min = 100;\n",
    "    for (i in cl1){\n",
    "        for (j in cl2){\n",
    "            r = cl1[i]\n",
    "            c = cl2[j]\n",
    "            if (distance_matrix[r][c] <= min){\n",
    "                min = distance_matrix[r][c]\n",
    "            }\n",
    "        }\n",
    "    }\n",
    "    return(min)\n",
    "}\n",
    "\n",
    "\n",
    "cl1 = c(1, 5)\n",
    "cl2 = c(2, 3, 4)\n",
    "\n",
    "inter_clus_Min(cl1, cl2)\n"
   ]
  },
  {
   "cell_type": "code",
   "execution_count": null,
   "id": "66e29f6f",
   "metadata": {},
   "outputs": [],
   "source": []
  }
 ],
 "metadata": {
  "kernelspec": {
   "display_name": "R",
   "language": "R",
   "name": "ir"
  },
  "language_info": {
   "codemirror_mode": "r",
   "file_extension": ".r",
   "mimetype": "text/x-r-source",
   "name": "R",
   "pygments_lexer": "r",
   "version": "3.6.1"
  }
 },
 "nbformat": 4,
 "nbformat_minor": 5
}
