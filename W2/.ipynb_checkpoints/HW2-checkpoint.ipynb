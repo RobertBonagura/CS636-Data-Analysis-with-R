{
 "cells": [
  {
   "cell_type": "code",
   "execution_count": 1,
   "id": "23408283",
   "metadata": {},
   "outputs": [],
   "source": [
    "# Robert Bonagura\n",
    "# CS 636\n",
    "# HW2 "
   ]
  },
  {
   "cell_type": "code",
   "execution_count": 3,
   "id": "ba1bb876",
   "metadata": {},
   "outputs": [
    {
     "name": "stdout",
     "output_type": "stream",
     "text": [
      "[1] 2\n",
      "[1] 0.006858711\n",
      "[1] 10.20408\n"
     ]
    }
   ],
   "source": [
    "# Problem 1\n",
    "\n",
    "F = function(x){\n",
    "    if (x < 1) {\n",
    "        denom = (x - 1)**2\n",
    "        answer = 5 / denom\n",
    "        print(answer)\n",
    "    } else if(x == 1) {\n",
    "        print(2)    \n",
    "    } else {\n",
    "        denom = (x - 1)**3\n",
    "        answer = 5 / denom\n",
    "        print(answer)\n",
    "    }\n",
    "}\n",
    "\n",
    "# Testing commands\n",
    "F(1)\n",
    "F(10)\n",
    "F(0.3)"
   ]
  },
  {
   "cell_type": "code",
   "execution_count": 42,
   "id": "08229320",
   "metadata": {},
   "outputs": [
    {
     "data": {
      "text/html": [
       "75025"
      ],
      "text/latex": [
       "75025"
      ],
      "text/markdown": [
       "75025"
      ],
      "text/plain": [
       "[1] 75025"
      ]
     },
     "metadata": {},
     "output_type": "display_data"
    },
    {
     "data": {
      "text/html": [
       "3.54224848179262e+20"
      ],
      "text/latex": [
       "3.54224848179262e+20"
      ],
      "text/markdown": [
       "3.54224848179262e+20"
      ],
      "text/plain": [
       "[1] 3.542248e+20"
      ]
     },
     "metadata": {},
     "output_type": "display_data"
    }
   ],
   "source": [
    "# Problem 2\n",
    "\n",
    "# 1 - Using loop\n",
    "\n",
    "Fib = function(n){\n",
    "    if (n == 1 | n == 2){\n",
    "        return(1)\n",
    "    }\n",
    "    prev = c(1, 1)\n",
    "    for (i in 3:n){\n",
    "        if (i == n){\n",
    "            return(sum(prev))\n",
    "        }\n",
    "        new = sum(prev)\n",
    "        prev[1] = prev[2]\n",
    "        prev[2] = new\n",
    "    }\n",
    "}\n",
    "\n",
    "Fib(25)\n",
    "Fib(100)"
   ]
  },
  {
   "cell_type": "code",
   "execution_count": 15,
   "id": "b04b771b",
   "metadata": {},
   "outputs": [
    {
     "data": {
      "text/html": [
       "75025"
      ],
      "text/latex": [
       "75025"
      ],
      "text/markdown": [
       "75025"
      ],
      "text/plain": [
       "[1] 75025"
      ]
     },
     "metadata": {},
     "output_type": "display_data"
    }
   ],
   "source": [
    "# Problem 2\n",
    "\n",
    "# 2 - Using recursion with memoization\n",
    "\n",
    "Fib = function(n){\n",
    "    if (n == 1 | n == 2){\n",
    "        return(1)\n",
    "    } else {\n",
    "        sum(Fib(n-1), Fib(n-2))\n",
    "    }\n",
    "}\n",
    "Fib(25)\n",
    "\n",
    "# This implementation is slow for values above 30.\n",
    "# Initially I thought it was crashing my notebook, but then I realized it just takes a very long time to compute larger values.\n",
    "# I tried to implement a solution using memoization, but could not do so without adding additional R packages since R passes function arguments by value and not reference."
   ]
  },
  {
   "cell_type": "code",
   "execution_count": 21,
   "id": "ab48d8a8",
   "metadata": {},
   "outputs": [
    {
     "data": {
      "text/html": [
       "<table>\n",
       "<tbody>\n",
       "\t<tr><td>1 </td><td>2 </td><td>NA</td><td>3 </td><td>4 </td></tr>\n",
       "\t<tr><td>5 </td><td>6 </td><td> 7</td><td>8 </td><td>9 </td></tr>\n",
       "</tbody>\n",
       "</table>\n"
      ],
      "text/latex": [
       "\\begin{tabular}{lllll}\n",
       "\t 1  & 2  & NA & 3  & 4 \\\\\n",
       "\t 5  & 6  &  7 & 8  & 9 \\\\\n",
       "\\end{tabular}\n"
      ],
      "text/markdown": [
       "\n",
       "| 1  | 2  | NA | 3  | 4  |\n",
       "| 5  | 6  |  7 | 8  | 9  |\n",
       "\n"
      ],
      "text/plain": [
       "     [,1] [,2] [,3] [,4] [,5]\n",
       "[1,] 1    2    NA   3    4   \n",
       "[2,] 5    6     7   8    9   "
      ]
     },
     "metadata": {},
     "output_type": "display_data"
    },
    {
     "data": {
      "text/html": [
       "<ol class=list-inline>\n",
       "\t<li>10</li>\n",
       "\t<li>35</li>\n",
       "</ol>\n"
      ],
      "text/latex": [
       "\\begin{enumerate*}\n",
       "\\item 10\n",
       "\\item 35\n",
       "\\end{enumerate*}\n"
      ],
      "text/markdown": [
       "1. 10\n",
       "2. 35\n",
       "\n",
       "\n"
      ],
      "text/plain": [
       "[1] 10 35"
      ]
     },
     "metadata": {},
     "output_type": "display_data"
    },
    {
     "data": {
      "text/html": [
       "<ol class=list-inline>\n",
       "\t<li>3</li>\n",
       "\t<li>4</li>\n",
       "\t<li>7</li>\n",
       "\t<li>5.5</li>\n",
       "\t<li>6.5</li>\n",
       "</ol>\n"
      ],
      "text/latex": [
       "\\begin{enumerate*}\n",
       "\\item 3\n",
       "\\item 4\n",
       "\\item 7\n",
       "\\item 5.5\n",
       "\\item 6.5\n",
       "\\end{enumerate*}\n"
      ],
      "text/markdown": [
       "1. 3\n",
       "2. 4\n",
       "3. 7\n",
       "4. 5.5\n",
       "5. 6.5\n",
       "\n",
       "\n"
      ],
      "text/plain": [
       "[1] 3.0 4.0 7.0 5.5 6.5"
      ]
     },
     "metadata": {},
     "output_type": "display_data"
    }
   ],
   "source": [
    "# Problem 3\n",
    "zz=matrix(c(c(1,2,NA), c(3,4,5) , 6:9), nrow = 2, ncol = 5, byrow = TRUE)\n",
    "zz\n",
    "\n",
    "mySum = function(x){\n",
    "    answer = 0\n",
    "    for (i in x){\n",
    "        if (!is.na(i)){\n",
    "            answer = answer + i\n",
    "        }\n",
    "    }\n",
    "    answer\n",
    "}\n",
    "\n",
    "myMean = function(x){\n",
    "    total = 0\n",
    "    n = 0\n",
    "    for (i in x){\n",
    "        if (!is.na(i)){\n",
    "            total = total + i\n",
    "            n = n + 1\n",
    "        }\n",
    "    }\n",
    "    answer = total / n\n",
    "    return(answer)\n",
    "}\n",
    "\n",
    "apply(zz, 1, mySum)\n",
    "\n",
    "apply(zz, 2, myMean)"
   ]
  },
  {
   "cell_type": "code",
   "execution_count": 41,
   "id": "182a03e6",
   "metadata": {},
   "outputs": [
    {
     "data": {
      "text/html": [
       "<table>\n",
       "<thead><tr><th scope=col>name</th><th scope=col>salary</th><th scope=col>gender</th></tr></thead>\n",
       "<tbody>\n",
       "\t<tr><td>Kay    </td><td>6e+04  </td><td>F      </td></tr>\n",
       "\t<tr><td>  Dave </td><td>1e+05  </td><td>M      </td></tr>\n",
       "\t<tr><td>  Jon  </td><td>5e+04  </td><td>M      </td></tr>\n",
       "\t<tr><td>  Jenny</td><td>8e+04  </td><td>F      </td></tr>\n",
       "\t<tr><td>  Jim  </td><td>3e+04  </td><td>M      </td></tr>\n",
       "\t<tr><td>Eve    </td><td>4e+04  </td><td>F      </td></tr>\n",
       "\t<tr><td>Ed     </td><td>2e+04  </td><td>M      </td></tr>\n",
       "</tbody>\n",
       "</table>\n"
      ],
      "text/latex": [
       "\\begin{tabular}{r|lll}\n",
       " name & salary & gender\\\\\n",
       "\\hline\n",
       "\t Kay     & 6e+04   & F      \\\\\n",
       "\t   Dave  & 1e+05   & M      \\\\\n",
       "\t   Jon   & 5e+04   & M      \\\\\n",
       "\t   Jenny & 8e+04   & F      \\\\\n",
       "\t   Jim   & 3e+04   & M      \\\\\n",
       "\t Eve     & 4e+04   & F      \\\\\n",
       "\t Ed      & 2e+04   & M      \\\\\n",
       "\\end{tabular}\n"
      ],
      "text/markdown": [
       "\n",
       "| name | salary | gender |\n",
       "|---|---|---|\n",
       "| Kay     | 6e+04   | F       |\n",
       "|   Dave  | 1e+05   | M       |\n",
       "|   Jon   | 5e+04   | M       |\n",
       "|   Jenny | 8e+04   | F       |\n",
       "|   Jim   | 3e+04   | M       |\n",
       "| Eve     | 4e+04   | F       |\n",
       "| Ed      | 2e+04   | M       |\n",
       "\n"
      ],
      "text/plain": [
       "  name    salary gender\n",
       "1 Kay     6e+04  F     \n",
       "2   Dave  1e+05  M     \n",
       "3   Jon   5e+04  M     \n",
       "4   Jenny 8e+04  F     \n",
       "5   Jim   3e+04  M     \n",
       "6 Eve     4e+04  F     \n",
       "7 Ed      2e+04  M     "
      ]
     },
     "metadata": {},
     "output_type": "display_data"
    },
    {
     "data": {
      "text/html": [
       "<dl class=dl-horizontal>\n",
       "\t<dt>F</dt>\n",
       "\t\t<dd>80000</dd>\n",
       "\t<dt>M</dt>\n",
       "\t\t<dd>1e+05</dd>\n",
       "</dl>\n"
      ],
      "text/latex": [
       "\\begin{description*}\n",
       "\\item[F] 80000\n",
       "\\item[M] 1e+05\n",
       "\\end{description*}\n"
      ],
      "text/markdown": [
       "F\n",
       ":   80000M\n",
       ":   1e+05\n",
       "\n"
      ],
      "text/plain": [
       "    F     M \n",
       "8e+04 1e+05 "
      ]
     },
     "metadata": {},
     "output_type": "display_data"
    }
   ],
   "source": [
    "# Problem 4\n",
    "\n",
    "df <- data.frame(name=c(\"Kay\",\"  Dave\",\"  Jon  \",\"  Jenny\",\"  Jim  \",\"Eve\",\"Ed \"),   salary=c(60000,  100000, 50000,  80000,  30000,  40000,  20000),  gender=factor(c(\"F\",\"M\",\"M\",\"F\",\"M\",\"F\",\"M\")))\n",
    "df\n",
    "\n",
    "max_salarys = tapply(df$salary, df$gender, max)\n",
    "max_salarys"
   ]
  },
  {
   "cell_type": "code",
   "execution_count": 34,
   "id": "0514036a",
   "metadata": {},
   "outputs": [],
   "source": []
  },
  {
   "cell_type": "code",
   "execution_count": null,
   "id": "2230c33f",
   "metadata": {},
   "outputs": [],
   "source": []
  }
 ],
 "metadata": {
  "kernelspec": {
   "display_name": "R",
   "language": "R",
   "name": "ir"
  },
  "language_info": {
   "codemirror_mode": "r",
   "file_extension": ".r",
   "mimetype": "text/x-r-source",
   "name": "R",
   "pygments_lexer": "r",
   "version": "3.6.1"
  }
 },
 "nbformat": 4,
 "nbformat_minor": 5
}
