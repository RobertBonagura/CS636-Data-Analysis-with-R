{
 "cells": [
  {
   "cell_type": "code",
   "execution_count": 1,
   "id": "cfd28c95",
   "metadata": {},
   "outputs": [],
   "source": [
    "# Robert Bonagura\n",
    "\n",
    "# Homework 3"
   ]
  },
  {
   "cell_type": "code",
   "execution_count": 2,
   "id": "1780c737",
   "metadata": {},
   "outputs": [
    {
     "data": {
      "text/html": [
       "<table>\n",
       "<thead><tr><th scope=col>Date</th><th scope=col>Dividend</th></tr></thead>\n",
       "<tbody>\n",
       "\t<tr><td>2018-02-08</td><td>1.499996  </td></tr>\n",
       "\t<tr><td>2018-05-09</td><td>1.569971  </td></tr>\n",
       "\t<tr><td>2018-08-09</td><td>1.570007  </td></tr>\n",
       "\t<tr><td>2018-11-08</td><td>1.570003  </td></tr>\n",
       "</tbody>\n",
       "</table>\n"
      ],
      "text/latex": [
       "\\begin{tabular}{r|ll}\n",
       " Date & Dividend\\\\\n",
       "\\hline\n",
       "\t 2018-02-08 & 1.499996  \\\\\n",
       "\t 2018-05-09 & 1.569971  \\\\\n",
       "\t 2018-08-09 & 1.570007  \\\\\n",
       "\t 2018-11-08 & 1.570003  \\\\\n",
       "\\end{tabular}\n"
      ],
      "text/markdown": [
       "\n",
       "| Date | Dividend |\n",
       "|---|---|\n",
       "| 2018-02-08 | 1.499996   |\n",
       "| 2018-05-09 | 1.569971   |\n",
       "| 2018-08-09 | 1.570007   |\n",
       "| 2018-11-08 | 1.570003   |\n",
       "\n"
      ],
      "text/plain": [
       "  Date       Dividend\n",
       "1 2018-02-08 1.499996\n",
       "2 2018-05-09 1.569971\n",
       "3 2018-08-09 1.570007\n",
       "4 2018-11-08 1.570003"
      ]
     },
     "metadata": {},
     "output_type": "display_data"
    },
    {
     "data": {
      "text/html": [
       "<table>\n",
       "<thead><tr><th scope=col>Date</th><th scope=col>Dividend</th></tr></thead>\n",
       "<tbody>\n",
       "\t<tr><td>2020-08-07</td><td>0.2050025 </td></tr>\n",
       "\t<tr><td>2020-11-06</td><td>0.2050080 </td></tr>\n",
       "\t<tr><td>2021-02-05</td><td>0.2049973 </td></tr>\n",
       "\t<tr><td>2021-05-07</td><td>0.2200010 </td></tr>\n",
       "</tbody>\n",
       "</table>\n"
      ],
      "text/latex": [
       "\\begin{tabular}{r|ll}\n",
       " Date & Dividend\\\\\n",
       "\\hline\n",
       "\t 2020-08-07 & 0.2050025 \\\\\n",
       "\t 2020-11-06 & 0.2050080 \\\\\n",
       "\t 2021-02-05 & 0.2049973 \\\\\n",
       "\t 2021-05-07 & 0.2200010 \\\\\n",
       "\\end{tabular}\n"
      ],
      "text/markdown": [
       "\n",
       "| Date | Dividend |\n",
       "|---|---|\n",
       "| 2020-08-07 | 0.2050025  |\n",
       "| 2020-11-06 | 0.2050080  |\n",
       "| 2021-02-05 | 0.2049973  |\n",
       "| 2021-05-07 | 0.2200010  |\n",
       "\n"
      ],
      "text/plain": [
       "  Date       Dividend \n",
       "1 2020-08-07 0.2050025\n",
       "2 2020-11-06 0.2050080\n",
       "3 2021-02-05 0.2049973\n",
       "4 2021-05-07 0.2200010"
      ]
     },
     "metadata": {},
     "output_type": "display_data"
    },
    {
     "data": {
      "text/html": [
       "<table>\n",
       "<thead><tr><th scope=col>Date</th><th scope=col>Dividend</th></tr></thead>\n",
       "<tbody>\n",
       "</tbody>\n",
       "</table>\n"
      ],
      "text/latex": [
       "\\begin{tabular}{r|ll}\n",
       " Date & Dividend\\\\\n",
       "\\hline\n",
       "\\end{tabular}\n"
      ],
      "text/markdown": [
       "\n",
       "| Date | Dividend |\n",
       "|---|---|\n",
       "\n"
      ],
      "text/plain": [
       "     Date Dividend"
      ]
     },
     "metadata": {},
     "output_type": "display_data"
    },
    {
     "data": {
      "text/html": [
       "<table>\n",
       "<thead><tr><th scope=col>Date</th><th scope=col>Dividend</th></tr></thead>\n",
       "<tbody>\n",
       "</tbody>\n",
       "</table>\n"
      ],
      "text/latex": [
       "\\begin{tabular}{r|ll}\n",
       " Date & Dividend\\\\\n",
       "\\hline\n",
       "\\end{tabular}\n"
      ],
      "text/markdown": [
       "\n",
       "| Date | Dividend |\n",
       "|---|---|\n",
       "\n"
      ],
      "text/plain": [
       "     Date Dividend"
      ]
     },
     "metadata": {},
     "output_type": "display_data"
    },
    {
     "data": {
      "text/html": [
       "<table>\n",
       "<thead><tr><th scope=col>Date</th><th scope=col>Dividend</th></tr></thead>\n",
       "<tbody>\n",
       "</tbody>\n",
       "</table>\n"
      ],
      "text/latex": [
       "\\begin{tabular}{r|ll}\n",
       " Date & Dividend\\\\\n",
       "\\hline\n",
       "\\end{tabular}\n"
      ],
      "text/markdown": [
       "\n",
       "| Date | Dividend |\n",
       "|---|---|\n",
       "\n"
      ],
      "text/plain": [
       "     Date Dividend"
      ]
     },
     "metadata": {},
     "output_type": "display_data"
    },
    {
     "data": {
      "text/html": [
       "<table>\n",
       "<thead><tr><th scope=col>Date</th><th scope=col>Dividend</th></tr></thead>\n",
       "<tbody>\n",
       "\t<tr><td>2020-08-19</td><td>0.5099996 </td></tr>\n",
       "\t<tr><td>2020-11-18</td><td>0.5600053 </td></tr>\n",
       "\t<tr><td>2021-02-17</td><td>0.5599980 </td></tr>\n",
       "\t<tr><td>2021-05-19</td><td>0.5599980 </td></tr>\n",
       "</tbody>\n",
       "</table>\n"
      ],
      "text/latex": [
       "\\begin{tabular}{r|ll}\n",
       " Date & Dividend\\\\\n",
       "\\hline\n",
       "\t 2020-08-19 & 0.5099996 \\\\\n",
       "\t 2020-11-18 & 0.5600053 \\\\\n",
       "\t 2021-02-17 & 0.5599980 \\\\\n",
       "\t 2021-05-19 & 0.5599980 \\\\\n",
       "\\end{tabular}\n"
      ],
      "text/markdown": [
       "\n",
       "| Date | Dividend |\n",
       "|---|---|\n",
       "| 2020-08-19 | 0.5099996  |\n",
       "| 2020-11-18 | 0.5600053  |\n",
       "| 2021-02-17 | 0.5599980  |\n",
       "| 2021-05-19 | 0.5599980  |\n",
       "\n"
      ],
      "text/plain": [
       "  Date       Dividend \n",
       "1 2020-08-19 0.5099996\n",
       "2 2020-11-18 0.5600053\n",
       "3 2021-02-17 0.5599980\n",
       "4 2021-05-19 0.5599980"
      ]
     },
     "metadata": {},
     "output_type": "display_data"
    }
   ],
   "source": [
    "library(dplyr)\n",
    "\n",
    "IBM = read.csv(\"IBM.csv\")\n",
    "AAPL = read.csv(\"AAPL.csv\")\n",
    "AMZN = read.csv(\"AMZN.csv\")\n",
    "FB = read.csv(\"FB.csv\")\n",
    "GOOG = read.csv(\"GOOG.csv\")\n",
    "MSFT = read.csv(\"MSFT.csv\")\n",
    "\n",
    "# Takes dataframe and appends a column containing dividend value\n",
    "computeDividends = function(df){\n",
    "    n = nrow(df)\n",
    "    for(i in 2:n){\n",
    "        # Find ratio values\n",
    "        close = df[i, \"Close\"]\n",
    "        prevClose = df[i-1, \"Close\"]\n",
    "        adj = df[i, \"Adj.Close\"]\n",
    "        prevAdj = df[i-1, \"Adj.Close\"]\n",
    "        closeRatio = prevClose / close\n",
    "        adjRatio = prevAdj / adj\n",
    "        df[i, \"Close.Ratio\"] = closeRatio\n",
    "        df[i, \"Adj.Close.Ratio\"] = adjRatio\n",
    "        # Compute difference and write dividend value\n",
    "        diff = abs(adjRatio - closeRatio)\n",
    "        if (diff < 0.001){\n",
    "            df[i, \"Dividend\"] = 0\n",
    "        } else {\n",
    "            df[i, \"Dividend\"] = diff * close\n",
    "        }\n",
    "    }\n",
    "    return(df)\n",
    "}\n",
    "\n",
    "# Takes dataframe with dividend value and returns dataframe with dividend dates only.\n",
    "# Drops all columns not Date or Dividend.\n",
    "getDateDividend = function(df) {\n",
    "    dividendsDf = computeDividends(df)\n",
    "    dividendDatesOnly = filter(dividendsDf, Dividend > 0)\n",
    "    select(dividendDatesOnly, Date, Dividend)\n",
    "}\n",
    "\n",
    "getDateDividend(IBM)\n",
    "getDateDividend(AAPL)\n",
    "getDateDividend(AMZN)\n",
    "getDateDividend(FB)\n",
    "getDateDividend(GOOG)\n",
    "getDateDividend(MSFT)"
   ]
  },
  {
   "cell_type": "code",
   "execution_count": null,
   "id": "8cfd8242",
   "metadata": {},
   "outputs": [],
   "source": []
  }
 ],
 "metadata": {
  "kernelspec": {
   "display_name": "R",
   "language": "R",
   "name": "ir"
  },
  "language_info": {
   "codemirror_mode": "r",
   "file_extension": ".r",
   "mimetype": "text/x-r-source",
   "name": "R",
   "pygments_lexer": "r",
   "version": "3.6.1"
  }
 },
 "nbformat": 4,
 "nbformat_minor": 5
}
