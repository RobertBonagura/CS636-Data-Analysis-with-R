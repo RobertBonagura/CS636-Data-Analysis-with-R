{
 "cells": [
  {
   "cell_type": "code",
   "execution_count": 1,
   "id": "cfd28c95",
   "metadata": {},
   "outputs": [],
   "source": [
    "# Robert Bonagura\n",
    "\n",
    "# Homework 3"
   ]
  },
  {
   "cell_type": "code",
   "execution_count": 1,
   "id": "1780c737",
   "metadata": {},
   "outputs": [
    {
     "name": "stderr",
     "output_type": "stream",
     "text": [
      "\n",
      "Attaching package: ‘dplyr’\n",
      "\n",
      "The following objects are masked from ‘package:stats’:\n",
      "\n",
      "    filter, lag\n",
      "\n",
      "The following objects are masked from ‘package:base’:\n",
      "\n",
      "    intersect, setdiff, setequal, union\n",
      "\n",
      "Warning message in file(file, \"rt\"):\n",
      "“cannot open file 'IBM.csv': No such file or directory”"
     ]
    },
    {
     "ename": "ERROR",
     "evalue": "Error in file(file, \"rt\"): cannot open the connection\n",
     "output_type": "error",
     "traceback": [
      "Error in file(file, \"rt\"): cannot open the connection\nTraceback:\n",
      "1. read.csv(\"IBM.csv\")",
      "2. read.table(file = file, header = header, sep = sep, quote = quote, \n .     dec = dec, fill = fill, comment.char = comment.char, ...)",
      "3. file(file, \"rt\")"
     ]
    }
   ],
   "source": [
    "library(dplyr)\n",
    "\n",
    "IBM = read.csv(\"IBM.csv\")\n",
    "AAPL = read.csv(\"AAPL.csv\")\n",
    "AMZN = read.csv(\"AMZN.csv\")\n",
    "FB = read.csv(\"FB.csv\")\n",
    "GOOG = read.csv(\"GOOG.csv\")\n",
    "MSFT = read.csv(\"MSFT.csv\")\n",
    "\n",
    "# Takes dataframe and appends a column containing dividend value\n",
    "computeDividends = function(df){\n",
    "    n = nrow(df)\n",
    "    for(i in 2:n){\n",
    "        # Find ratio values\n",
    "        close = df[i, \"Close\"]\n",
    "        prevClose = df[i-1, \"Close\"]\n",
    "        adj = df[i, \"Adj.Close\"]\n",
    "        prevAdj = df[i-1, \"Adj.Close\"]\n",
    "        closeRatio = prevClose / close\n",
    "        adjRatio = prevAdj / adj\n",
    "        df[i, \"Close.Ratio\"] = closeRatio\n",
    "        df[i, \"Adj.Close.Ratio\"] = adjRatio\n",
    "        # Compute difference and write dividend value\n",
    "        diff = abs(adjRatio - closeRatio)\n",
    "        if (diff < 0.001){\n",
    "            df[i, \"Dividend\"] = 0\n",
    "        } else {\n",
    "            df[i, \"Dividend\"] = diff * close\n",
    "        }\n",
    "    }\n",
    "    return(df)\n",
    "}\n",
    "\n",
    "# Takes dataframe with dividend value and returns dataframe with dividend dates only.\n",
    "# Drops all columns not Date or Dividend.\n",
    "getDateDividend = function(df) {\n",
    "    dividendsDf = computeDividends(df)\n",
    "    dividendDatesOnly = filter(dividendsDf, Dividend > 0)\n",
    "    select(dividendDatesOnly, Date, Dividend)\n",
    "}\n",
    "\n",
    "getDateDividend(IBM)\n",
    "getDateDividend(AAPL)\n",
    "getDateDividend(AMZN)\n",
    "getDateDividend(FB)\n",
    "getDateDividend(GOOG)\n",
    "getDateDividend(MSFT)"
   ]
  },
  {
   "cell_type": "code",
   "execution_count": null,
   "id": "8cfd8242",
   "metadata": {},
   "outputs": [],
   "source": []
  }
 ],
 "metadata": {
  "kernelspec": {
   "display_name": "R",
   "language": "R",
   "name": "ir"
  },
  "language_info": {
   "codemirror_mode": "r",
   "file_extension": ".r",
   "mimetype": "text/x-r-source",
   "name": "R",
   "pygments_lexer": "r",
   "version": "3.6.1"
  }
 },
 "nbformat": 4,
 "nbformat_minor": 5
}
