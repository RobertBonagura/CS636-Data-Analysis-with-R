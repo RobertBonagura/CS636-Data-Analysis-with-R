{
 "cells": [
  {
   "cell_type": "code",
   "execution_count": 1,
   "metadata": {},
   "outputs": [
    {
     "name": "stderr",
     "output_type": "stream",
     "text": [
      "Warning message:\n",
      "\"package 'stringr' was built under R version 3.6.3\"\n"
     ]
    }
   ],
   "source": [
    "library(stringr)"
   ]
  },
  {
   "cell_type": "code",
   "execution_count": 2,
   "metadata": {
    "scrolled": false
   },
   "outputs": [
    {
     "data": {
      "text/html": [
       "<ol class=list-inline>\n",
       "\t<li>'39.311024, -76.674227, iconHomicideShooting, \\'p2\\', \\'&lt;dl&gt;&lt;dt&gt;Leon Nelson&lt;/dt&gt;&lt;dd class=\"address\"&gt;3400 Clifton Ave.&lt;br /&gt;Baltimore, MD 21216&lt;/dd&gt;&lt;dd&gt;black male, 17 years old&lt;/dd&gt;&lt;dd&gt;Found on January 1, 2007&lt;/dd&gt;&lt;dd&gt;Victim died at Shock Trauma&lt;/dd&gt;&lt;dd&gt;Cause: shooting&lt;/dd&gt;&lt;/dl&gt;\\''</li>\n",
       "\t<li>'39.312641, -76.698948, iconHomicideShooting, \\'p3\\', \\'&lt;dl&gt;&lt;dt&gt;Eddie Golf&lt;/dt&gt;&lt;dd class=\"address\"&gt;4900 Challedon Road&lt;br /&gt;Baltimore, MD 21207&lt;/dd&gt;&lt;dd&gt;black male, 26 years old&lt;/dd&gt;&lt;dd&gt;Found on January 2, 2007&lt;/dd&gt;&lt;dd&gt;Victim died at scene&lt;/dd&gt;&lt;dd&gt;Cause: shooting&lt;/dd&gt;&lt;/dl&gt;\\''</li>\n",
       "\t<li>'39.309781, -76.649882, iconHomicideBluntForce, \\'p4\\', \\'&lt;dl&gt;&lt;dt&gt;Nelsene Burnette&lt;/dt&gt;&lt;dd class=\"address\"&gt;2000 West North Ave&lt;br /&gt;Baltimore, MD 21217&lt;/dd&gt;&lt;dd&gt;black female, 44 years old&lt;/dd&gt;&lt;dd&gt;Found on January 2, 2007&lt;/dd&gt;&lt;dd&gt;Victim died at scene&lt;/dd&gt;&lt;dd&gt;Cause: blunt force&lt;/dd&gt;&lt;/dl&gt;\\''</li>\n",
       "\t<li>'39.363925, -76.598772, iconHomicideAsphyxiation, \\'p5\\', \\'&lt;dl&gt;&lt;dt&gt;Thomas MacKenney&lt;/dt&gt;&lt;dd class=\"address\"&gt;5900 Northwood Drive&lt;br /&gt;Baltimore, MD 21212&lt;/dd&gt;&lt;dd&gt;black male, 21 years old&lt;/dd&gt;&lt;dd&gt;Found on January 3, 2007&lt;/dd&gt;&lt;dd&gt;Victim died at scene&lt;/dd&gt;&lt;dd&gt;Cause: asphyxiation&lt;/dd&gt;&lt;/dl&gt;\\''</li>\n",
       "\t<li>'39.238928, -76.602718, iconHomicideBluntForce, \\'p6\\', \\'&lt;dl&gt;&lt;dt&gt;Edward Canupp&lt;/dt&gt;&lt;dd class=\"address\"&gt;500 Maude Ave.&lt;br /&gt;Baltimore, MD 21225&lt;/dd&gt;&lt;dd&gt;white male, 61 years old&lt;/dd&gt;&lt;dd&gt;Found on January 5, 2007&lt;/dd&gt;&lt;dd&gt;Victim died at scene&lt;/dd&gt;&lt;dd&gt;Cause: blunt force&lt;/dd&gt;&lt;/dl&gt;\\''</li>\n",
       "\t<li>'39.352676, -76.607979, iconHomicideShooting, \\'p7\\', \\'&lt;dl&gt;&lt;dt&gt;Michael Cunningham&lt;/dt&gt;&lt;dd class=\"address\"&gt;5200 Ready Ave.&lt;br /&gt;Baltimore, MD 21212&lt;/dd&gt;&lt;dd&gt;black male, 46 years old&lt;/dd&gt;&lt;dd&gt;Found on January 5, 2007&lt;/dd&gt;&lt;dd&gt;Victim died at JHH&lt;/dd&gt;&lt;dd&gt;Cause: shooting&lt;/dd&gt;&lt;/dl&gt;\\''</li>\n",
       "</ol>\n"
      ],
      "text/latex": [
       "\\begin{enumerate*}\n",
       "\\item '39.311024, -76.674227, iconHomicideShooting, \\textbackslash{}'p2\\textbackslash{}', \\textbackslash{}'<dl><dt>Leon Nelson</dt><dd class=\"address\">3400 Clifton Ave.<br />Baltimore, MD 21216</dd><dd>black male, 17 years old</dd><dd>Found on January 1, 2007</dd><dd>Victim died at Shock Trauma</dd><dd>Cause: shooting</dd></dl>\\textbackslash{}''\n",
       "\\item '39.312641, -76.698948, iconHomicideShooting, \\textbackslash{}'p3\\textbackslash{}', \\textbackslash{}'<dl><dt>Eddie Golf</dt><dd class=\"address\">4900 Challedon Road<br />Baltimore, MD 21207</dd><dd>black male, 26 years old</dd><dd>Found on January 2, 2007</dd><dd>Victim died at scene</dd><dd>Cause: shooting</dd></dl>\\textbackslash{}''\n",
       "\\item '39.309781, -76.649882, iconHomicideBluntForce, \\textbackslash{}'p4\\textbackslash{}', \\textbackslash{}'<dl><dt>Nelsene Burnette</dt><dd class=\"address\">2000 West North Ave<br />Baltimore, MD 21217</dd><dd>black female, 44 years old</dd><dd>Found on January 2, 2007</dd><dd>Victim died at scene</dd><dd>Cause: blunt force</dd></dl>\\textbackslash{}''\n",
       "\\item '39.363925, -76.598772, iconHomicideAsphyxiation, \\textbackslash{}'p5\\textbackslash{}', \\textbackslash{}'<dl><dt>Thomas MacKenney</dt><dd class=\"address\">5900 Northwood Drive<br />Baltimore, MD 21212</dd><dd>black male, 21 years old</dd><dd>Found on January 3, 2007</dd><dd>Victim died at scene</dd><dd>Cause: asphyxiation</dd></dl>\\textbackslash{}''\n",
       "\\item '39.238928, -76.602718, iconHomicideBluntForce, \\textbackslash{}'p6\\textbackslash{}', \\textbackslash{}'<dl><dt>Edward Canupp</dt><dd class=\"address\">500 Maude Ave.<br />Baltimore, MD 21225</dd><dd>white male, 61 years old</dd><dd>Found on January 5, 2007</dd><dd>Victim died at scene</dd><dd>Cause: blunt force</dd></dl>\\textbackslash{}''\n",
       "\\item '39.352676, -76.607979, iconHomicideShooting, \\textbackslash{}'p7\\textbackslash{}', \\textbackslash{}'<dl><dt>Michael Cunningham</dt><dd class=\"address\">5200 Ready Ave.<br />Baltimore, MD 21212</dd><dd>black male, 46 years old</dd><dd>Found on January 5, 2007</dd><dd>Victim died at JHH</dd><dd>Cause: shooting</dd></dl>\\textbackslash{}''\n",
       "\\end{enumerate*}\n"
      ],
      "text/markdown": [
       "1. '39.311024, -76.674227, iconHomicideShooting, \\'p2\\', \\'&lt;dl&gt;&lt;dt&gt;Leon Nelson&lt;/dt&gt;&lt;dd class=\"address\"&gt;3400 Clifton Ave.&lt;br /&gt;Baltimore, MD 21216&lt;/dd&gt;&lt;dd&gt;black male, 17 years old&lt;/dd&gt;&lt;dd&gt;Found on January 1, 2007&lt;/dd&gt;&lt;dd&gt;Victim died at Shock Trauma&lt;/dd&gt;&lt;dd&gt;Cause: shooting&lt;/dd&gt;&lt;/dl&gt;\\''\n",
       "2. '39.312641, -76.698948, iconHomicideShooting, \\'p3\\', \\'&lt;dl&gt;&lt;dt&gt;Eddie Golf&lt;/dt&gt;&lt;dd class=\"address\"&gt;4900 Challedon Road&lt;br /&gt;Baltimore, MD 21207&lt;/dd&gt;&lt;dd&gt;black male, 26 years old&lt;/dd&gt;&lt;dd&gt;Found on January 2, 2007&lt;/dd&gt;&lt;dd&gt;Victim died at scene&lt;/dd&gt;&lt;dd&gt;Cause: shooting&lt;/dd&gt;&lt;/dl&gt;\\''\n",
       "3. '39.309781, -76.649882, iconHomicideBluntForce, \\'p4\\', \\'&lt;dl&gt;&lt;dt&gt;Nelsene Burnette&lt;/dt&gt;&lt;dd class=\"address\"&gt;2000 West North Ave&lt;br /&gt;Baltimore, MD 21217&lt;/dd&gt;&lt;dd&gt;black female, 44 years old&lt;/dd&gt;&lt;dd&gt;Found on January 2, 2007&lt;/dd&gt;&lt;dd&gt;Victim died at scene&lt;/dd&gt;&lt;dd&gt;Cause: blunt force&lt;/dd&gt;&lt;/dl&gt;\\''\n",
       "4. '39.363925, -76.598772, iconHomicideAsphyxiation, \\'p5\\', \\'&lt;dl&gt;&lt;dt&gt;Thomas MacKenney&lt;/dt&gt;&lt;dd class=\"address\"&gt;5900 Northwood Drive&lt;br /&gt;Baltimore, MD 21212&lt;/dd&gt;&lt;dd&gt;black male, 21 years old&lt;/dd&gt;&lt;dd&gt;Found on January 3, 2007&lt;/dd&gt;&lt;dd&gt;Victim died at scene&lt;/dd&gt;&lt;dd&gt;Cause: asphyxiation&lt;/dd&gt;&lt;/dl&gt;\\''\n",
       "5. '39.238928, -76.602718, iconHomicideBluntForce, \\'p6\\', \\'&lt;dl&gt;&lt;dt&gt;Edward Canupp&lt;/dt&gt;&lt;dd class=\"address\"&gt;500 Maude Ave.&lt;br /&gt;Baltimore, MD 21225&lt;/dd&gt;&lt;dd&gt;white male, 61 years old&lt;/dd&gt;&lt;dd&gt;Found on January 5, 2007&lt;/dd&gt;&lt;dd&gt;Victim died at scene&lt;/dd&gt;&lt;dd&gt;Cause: blunt force&lt;/dd&gt;&lt;/dl&gt;\\''\n",
       "6. '39.352676, -76.607979, iconHomicideShooting, \\'p7\\', \\'&lt;dl&gt;&lt;dt&gt;Michael Cunningham&lt;/dt&gt;&lt;dd class=\"address\"&gt;5200 Ready Ave.&lt;br /&gt;Baltimore, MD 21212&lt;/dd&gt;&lt;dd&gt;black male, 46 years old&lt;/dd&gt;&lt;dd&gt;Found on January 5, 2007&lt;/dd&gt;&lt;dd&gt;Victim died at JHH&lt;/dd&gt;&lt;dd&gt;Cause: shooting&lt;/dd&gt;&lt;/dl&gt;\\''\n",
       "\n",
       "\n"
      ],
      "text/plain": [
       "[1] \"39.311024, -76.674227, iconHomicideShooting, 'p2', '<dl><dt>Leon Nelson</dt><dd class=\\\"address\\\">3400 Clifton Ave.<br />Baltimore, MD 21216</dd><dd>black male, 17 years old</dd><dd>Found on January 1, 2007</dd><dd>Victim died at Shock Trauma</dd><dd>Cause: shooting</dd></dl>'\"         \n",
       "[2] \"39.312641, -76.698948, iconHomicideShooting, 'p3', '<dl><dt>Eddie Golf</dt><dd class=\\\"address\\\">4900 Challedon Road<br />Baltimore, MD 21207</dd><dd>black male, 26 years old</dd><dd>Found on January 2, 2007</dd><dd>Victim died at scene</dd><dd>Cause: shooting</dd></dl>'\"               \n",
       "[3] \"39.309781, -76.649882, iconHomicideBluntForce, 'p4', '<dl><dt>Nelsene Burnette</dt><dd class=\\\"address\\\">2000 West North Ave<br />Baltimore, MD 21217</dd><dd>black female, 44 years old</dd><dd>Found on January 2, 2007</dd><dd>Victim died at scene</dd><dd>Cause: blunt force</dd></dl>'\"  \n",
       "[4] \"39.363925, -76.598772, iconHomicideAsphyxiation, 'p5', '<dl><dt>Thomas MacKenney</dt><dd class=\\\"address\\\">5900 Northwood Drive<br />Baltimore, MD 21212</dd><dd>black male, 21 years old</dd><dd>Found on January 3, 2007</dd><dd>Victim died at scene</dd><dd>Cause: asphyxiation</dd></dl>'\"\n",
       "[5] \"39.238928, -76.602718, iconHomicideBluntForce, 'p6', '<dl><dt>Edward Canupp</dt><dd class=\\\"address\\\">500 Maude Ave.<br />Baltimore, MD 21225</dd><dd>white male, 61 years old</dd><dd>Found on January 5, 2007</dd><dd>Victim died at scene</dd><dd>Cause: blunt force</dd></dl>'\"            \n",
       "[6] \"39.352676, -76.607979, iconHomicideShooting, 'p7', '<dl><dt>Michael Cunningham</dt><dd class=\\\"address\\\">5200 Ready Ave.<br />Baltimore, MD 21212</dd><dd>black male, 46 years old</dd><dd>Found on January 5, 2007</dd><dd>Victim died at JHH</dd><dd>Cause: shooting</dd></dl>'\"             "
      ]
     },
     "metadata": {},
     "output_type": "display_data"
    }
   ],
   "source": [
    "homicides = readLines(\"homicides.txt\")\n",
    "head(homicides)"
   ]
  },
  {
   "cell_type": "code",
   "execution_count": 3,
   "metadata": {},
   "outputs": [
    {
     "data": {
      "text/html": [
       "<ol class=list-inline>\n",
       "\t<li>1</li>\n",
       "\t<li>2</li>\n",
       "\t<li>6</li>\n",
       "\t<li>7</li>\n",
       "\t<li>8</li>\n",
       "\t<li>9</li>\n",
       "\t<li>10</li>\n",
       "\t<li>11</li>\n",
       "\t<li>12</li>\n",
       "\t<li>13</li>\n",
       "\t<li>14</li>\n",
       "\t<li>15</li>\n",
       "\t<li>16</li>\n",
       "\t<li>18</li>\n",
       "\t<li>19</li>\n",
       "\t<li>20</li>\n",
       "\t<li>21</li>\n",
       "\t<li>22</li>\n",
       "\t<li>23</li>\n",
       "\t<li>24</li>\n",
       "\t<li>25</li>\n",
       "\t<li>26</li>\n",
       "\t<li>28</li>\n",
       "\t<li>29</li>\n",
       "\t<li>30</li>\n",
       "\t<li>31</li>\n",
       "\t<li>32</li>\n",
       "\t<li>33</li>\n",
       "\t<li>34</li>\n",
       "\t<li>35</li>\n",
       "\t<li>36</li>\n",
       "\t<li>37</li>\n",
       "\t<li>38</li>\n",
       "\t<li>39</li>\n",
       "\t<li>40</li>\n",
       "\t<li>41</li>\n",
       "\t<li>42</li>\n",
       "\t<li>44</li>\n",
       "\t<li>45</li>\n",
       "\t<li>46</li>\n",
       "\t<li>47</li>\n",
       "\t<li>48</li>\n",
       "\t<li>49</li>\n",
       "\t<li>50</li>\n",
       "\t<li>51</li>\n",
       "\t<li>52</li>\n",
       "\t<li>53</li>\n",
       "\t<li>54</li>\n",
       "\t<li>55</li>\n",
       "\t<li>56</li>\n",
       "\t<li>57</li>\n",
       "\t<li>60</li>\n",
       "\t<li>61</li>\n",
       "\t<li>62</li>\n",
       "\t<li>63</li>\n",
       "\t<li>64</li>\n",
       "\t<li>67</li>\n",
       "\t<li>68</li>\n",
       "\t<li>69</li>\n",
       "\t<li>70</li>\n",
       "\t<li>71</li>\n",
       "\t<li>72</li>\n",
       "\t<li>74</li>\n",
       "\t<li>75</li>\n",
       "\t<li>77</li>\n",
       "\t<li>78</li>\n",
       "\t<li>79</li>\n",
       "\t<li>80</li>\n",
       "\t<li>81</li>\n",
       "\t<li>82</li>\n",
       "\t<li>84</li>\n",
       "\t<li>85</li>\n",
       "\t<li>86</li>\n",
       "\t<li>87</li>\n",
       "\t<li>88</li>\n",
       "\t<li>89</li>\n",
       "\t<li>90</li>\n",
       "\t<li>91</li>\n",
       "\t<li>93</li>\n",
       "\t<li>94</li>\n",
       "\t<li>95</li>\n",
       "\t<li>96</li>\n",
       "\t<li>97</li>\n",
       "\t<li>98</li>\n",
       "\t<li>99</li>\n",
       "\t<li>100</li>\n",
       "\t<li>101</li>\n",
       "\t<li>102</li>\n",
       "\t<li>103</li>\n",
       "\t<li>104</li>\n",
       "\t<li>105</li>\n",
       "\t<li>106</li>\n",
       "\t<li>107</li>\n",
       "\t<li>108</li>\n",
       "\t<li>109</li>\n",
       "\t<li>112</li>\n",
       "\t<li>113</li>\n",
       "\t<li>114</li>\n",
       "\t<li>115</li>\n",
       "\t<li>117</li>\n",
       "\t<li>119</li>\n",
       "\t<li>120</li>\n",
       "\t<li>121</li>\n",
       "\t<li>123</li>\n",
       "\t<li>124</li>\n",
       "\t<li>125</li>\n",
       "\t<li>126</li>\n",
       "\t<li>127</li>\n",
       "\t<li>129</li>\n",
       "\t<li>130</li>\n",
       "\t<li>132</li>\n",
       "\t<li>133</li>\n",
       "\t<li>134</li>\n",
       "\t<li>135</li>\n",
       "\t<li>136</li>\n",
       "\t<li>138</li>\n",
       "\t<li>139</li>\n",
       "\t<li>140</li>\n",
       "\t<li>141</li>\n",
       "\t<li>142</li>\n",
       "\t<li>143</li>\n",
       "\t<li>144</li>\n",
       "\t<li>146</li>\n",
       "\t<li>147</li>\n",
       "\t<li>148</li>\n",
       "\t<li>149</li>\n",
       "\t<li>151</li>\n",
       "\t<li>152</li>\n",
       "\t<li>154</li>\n",
       "\t<li>155</li>\n",
       "\t<li>156</li>\n",
       "\t<li>157</li>\n",
       "\t<li>158</li>\n",
       "\t<li>159</li>\n",
       "\t<li>160</li>\n",
       "\t<li>161</li>\n",
       "\t<li>163</li>\n",
       "\t<li>169</li>\n",
       "\t<li>170</li>\n",
       "\t<li>171</li>\n",
       "\t<li>172</li>\n",
       "\t<li>173</li>\n",
       "\t<li>174</li>\n",
       "\t<li>175</li>\n",
       "\t<li>176</li>\n",
       "\t<li>177</li>\n",
       "\t<li>178</li>\n",
       "\t<li>180</li>\n",
       "\t<li>181</li>\n",
       "\t<li>182</li>\n",
       "\t<li>183</li>\n",
       "\t<li>184</li>\n",
       "\t<li>185</li>\n",
       "\t<li>186</li>\n",
       "\t<li>187</li>\n",
       "\t<li>188</li>\n",
       "\t<li>189</li>\n",
       "\t<li>190</li>\n",
       "\t<li>191</li>\n",
       "\t<li>192</li>\n",
       "\t<li>193</li>\n",
       "\t<li>194</li>\n",
       "\t<li>195</li>\n",
       "\t<li>196</li>\n",
       "\t<li>197</li>\n",
       "\t<li>200</li>\n",
       "\t<li>201</li>\n",
       "\t<li>202</li>\n",
       "\t<li>203</li>\n",
       "\t<li>204</li>\n",
       "\t<li>205</li>\n",
       "\t<li>206</li>\n",
       "\t<li>207</li>\n",
       "\t<li>208</li>\n",
       "\t<li>209</li>\n",
       "\t<li>210</li>\n",
       "\t<li>211</li>\n",
       "\t<li>214</li>\n",
       "\t<li>215</li>\n",
       "\t<li>216</li>\n",
       "\t<li>217</li>\n",
       "\t<li>219</li>\n",
       "\t<li>220</li>\n",
       "\t<li>221</li>\n",
       "\t<li>222</li>\n",
       "\t<li>223</li>\n",
       "\t<li>225</li>\n",
       "\t<li>229</li>\n",
       "\t<li>231</li>\n",
       "\t<li>232</li>\n",
       "\t<li>233</li>\n",
       "\t<li>234</li>\n",
       "\t<li>235</li>\n",
       "\t<li>237</li>\n",
       "\t<li>239</li>\n",
       "\t<li>241</li>\n",
       "\t<li>242</li>\n",
       "\t<li>243</li>\n",
       "\t<li>244</li>\n",
       "\t<li>245</li>\n",
       "\t<li>247</li>\n",
       "\t<li>248</li>\n",
       "\t<li>249</li>\n",
       "\t<li>250</li>\n",
       "\t<li>251</li>\n",
       "\t<li>252</li>\n",
       "\t<li>253</li>\n",
       "\t<li>254</li>\n",
       "\t<li>255</li>\n",
       "\t<li>256</li>\n",
       "\t<li>257</li>\n",
       "\t<li>258</li>\n",
       "\t<li>260</li>\n",
       "\t<li>261</li>\n",
       "\t<li>262</li>\n",
       "\t<li>263</li>\n",
       "\t<li>265</li>\n",
       "\t<li>266</li>\n",
       "\t<li>269</li>\n",
       "\t<li>271</li>\n",
       "\t<li>272</li>\n",
       "\t<li>273</li>\n",
       "\t<li>275</li>\n",
       "\t<li>276</li>\n",
       "\t<li>277</li>\n",
       "\t<li>278</li>\n",
       "\t<li>279</li>\n",
       "\t<li>280</li>\n",
       "</ol>\n"
      ],
      "text/latex": [
       "\\begin{enumerate*}\n",
       "\\item 1\n",
       "\\item 2\n",
       "\\item 6\n",
       "\\item 7\n",
       "\\item 8\n",
       "\\item 9\n",
       "\\item 10\n",
       "\\item 11\n",
       "\\item 12\n",
       "\\item 13\n",
       "\\item 14\n",
       "\\item 15\n",
       "\\item 16\n",
       "\\item 18\n",
       "\\item 19\n",
       "\\item 20\n",
       "\\item 21\n",
       "\\item 22\n",
       "\\item 23\n",
       "\\item 24\n",
       "\\item 25\n",
       "\\item 26\n",
       "\\item 28\n",
       "\\item 29\n",
       "\\item 30\n",
       "\\item 31\n",
       "\\item 32\n",
       "\\item 33\n",
       "\\item 34\n",
       "\\item 35\n",
       "\\item 36\n",
       "\\item 37\n",
       "\\item 38\n",
       "\\item 39\n",
       "\\item 40\n",
       "\\item 41\n",
       "\\item 42\n",
       "\\item 44\n",
       "\\item 45\n",
       "\\item 46\n",
       "\\item 47\n",
       "\\item 48\n",
       "\\item 49\n",
       "\\item 50\n",
       "\\item 51\n",
       "\\item 52\n",
       "\\item 53\n",
       "\\item 54\n",
       "\\item 55\n",
       "\\item 56\n",
       "\\item 57\n",
       "\\item 60\n",
       "\\item 61\n",
       "\\item 62\n",
       "\\item 63\n",
       "\\item 64\n",
       "\\item 67\n",
       "\\item 68\n",
       "\\item 69\n",
       "\\item 70\n",
       "\\item 71\n",
       "\\item 72\n",
       "\\item 74\n",
       "\\item 75\n",
       "\\item 77\n",
       "\\item 78\n",
       "\\item 79\n",
       "\\item 80\n",
       "\\item 81\n",
       "\\item 82\n",
       "\\item 84\n",
       "\\item 85\n",
       "\\item 86\n",
       "\\item 87\n",
       "\\item 88\n",
       "\\item 89\n",
       "\\item 90\n",
       "\\item 91\n",
       "\\item 93\n",
       "\\item 94\n",
       "\\item 95\n",
       "\\item 96\n",
       "\\item 97\n",
       "\\item 98\n",
       "\\item 99\n",
       "\\item 100\n",
       "\\item 101\n",
       "\\item 102\n",
       "\\item 103\n",
       "\\item 104\n",
       "\\item 105\n",
       "\\item 106\n",
       "\\item 107\n",
       "\\item 108\n",
       "\\item 109\n",
       "\\item 112\n",
       "\\item 113\n",
       "\\item 114\n",
       "\\item 115\n",
       "\\item 117\n",
       "\\item 119\n",
       "\\item 120\n",
       "\\item 121\n",
       "\\item 123\n",
       "\\item 124\n",
       "\\item 125\n",
       "\\item 126\n",
       "\\item 127\n",
       "\\item 129\n",
       "\\item 130\n",
       "\\item 132\n",
       "\\item 133\n",
       "\\item 134\n",
       "\\item 135\n",
       "\\item 136\n",
       "\\item 138\n",
       "\\item 139\n",
       "\\item 140\n",
       "\\item 141\n",
       "\\item 142\n",
       "\\item 143\n",
       "\\item 144\n",
       "\\item 146\n",
       "\\item 147\n",
       "\\item 148\n",
       "\\item 149\n",
       "\\item 151\n",
       "\\item 152\n",
       "\\item 154\n",
       "\\item 155\n",
       "\\item 156\n",
       "\\item 157\n",
       "\\item 158\n",
       "\\item 159\n",
       "\\item 160\n",
       "\\item 161\n",
       "\\item 163\n",
       "\\item 169\n",
       "\\item 170\n",
       "\\item 171\n",
       "\\item 172\n",
       "\\item 173\n",
       "\\item 174\n",
       "\\item 175\n",
       "\\item 176\n",
       "\\item 177\n",
       "\\item 178\n",
       "\\item 180\n",
       "\\item 181\n",
       "\\item 182\n",
       "\\item 183\n",
       "\\item 184\n",
       "\\item 185\n",
       "\\item 186\n",
       "\\item 187\n",
       "\\item 188\n",
       "\\item 189\n",
       "\\item 190\n",
       "\\item 191\n",
       "\\item 192\n",
       "\\item 193\n",
       "\\item 194\n",
       "\\item 195\n",
       "\\item 196\n",
       "\\item 197\n",
       "\\item 200\n",
       "\\item 201\n",
       "\\item 202\n",
       "\\item 203\n",
       "\\item 204\n",
       "\\item 205\n",
       "\\item 206\n",
       "\\item 207\n",
       "\\item 208\n",
       "\\item 209\n",
       "\\item 210\n",
       "\\item 211\n",
       "\\item 214\n",
       "\\item 215\n",
       "\\item 216\n",
       "\\item 217\n",
       "\\item 219\n",
       "\\item 220\n",
       "\\item 221\n",
       "\\item 222\n",
       "\\item 223\n",
       "\\item 225\n",
       "\\item 229\n",
       "\\item 231\n",
       "\\item 232\n",
       "\\item 233\n",
       "\\item 234\n",
       "\\item 235\n",
       "\\item 237\n",
       "\\item 239\n",
       "\\item 241\n",
       "\\item 242\n",
       "\\item 243\n",
       "\\item 244\n",
       "\\item 245\n",
       "\\item 247\n",
       "\\item 248\n",
       "\\item 249\n",
       "\\item 250\n",
       "\\item 251\n",
       "\\item 252\n",
       "\\item 253\n",
       "\\item 254\n",
       "\\item 255\n",
       "\\item 256\n",
       "\\item 257\n",
       "\\item 258\n",
       "\\item 260\n",
       "\\item 261\n",
       "\\item 262\n",
       "\\item 263\n",
       "\\item 265\n",
       "\\item 266\n",
       "\\item 269\n",
       "\\item 271\n",
       "\\item 272\n",
       "\\item 273\n",
       "\\item 275\n",
       "\\item 276\n",
       "\\item 277\n",
       "\\item 278\n",
       "\\item 279\n",
       "\\item 280\n",
       "\\end{enumerate*}\n"
      ],
      "text/markdown": [
       "1. 1\n",
       "2. 2\n",
       "3. 6\n",
       "4. 7\n",
       "5. 8\n",
       "6. 9\n",
       "7. 10\n",
       "8. 11\n",
       "9. 12\n",
       "10. 13\n",
       "11. 14\n",
       "12. 15\n",
       "13. 16\n",
       "14. 18\n",
       "15. 19\n",
       "16. 20\n",
       "17. 21\n",
       "18. 22\n",
       "19. 23\n",
       "20. 24\n",
       "21. 25\n",
       "22. 26\n",
       "23. 28\n",
       "24. 29\n",
       "25. 30\n",
       "26. 31\n",
       "27. 32\n",
       "28. 33\n",
       "29. 34\n",
       "30. 35\n",
       "31. 36\n",
       "32. 37\n",
       "33. 38\n",
       "34. 39\n",
       "35. 40\n",
       "36. 41\n",
       "37. 42\n",
       "38. 44\n",
       "39. 45\n",
       "40. 46\n",
       "41. 47\n",
       "42. 48\n",
       "43. 49\n",
       "44. 50\n",
       "45. 51\n",
       "46. 52\n",
       "47. 53\n",
       "48. 54\n",
       "49. 55\n",
       "50. 56\n",
       "51. 57\n",
       "52. 60\n",
       "53. 61\n",
       "54. 62\n",
       "55. 63\n",
       "56. 64\n",
       "57. 67\n",
       "58. 68\n",
       "59. 69\n",
       "60. 70\n",
       "61. 71\n",
       "62. 72\n",
       "63. 74\n",
       "64. 75\n",
       "65. 77\n",
       "66. 78\n",
       "67. 79\n",
       "68. 80\n",
       "69. 81\n",
       "70. 82\n",
       "71. 84\n",
       "72. 85\n",
       "73. 86\n",
       "74. 87\n",
       "75. 88\n",
       "76. 89\n",
       "77. 90\n",
       "78. 91\n",
       "79. 93\n",
       "80. 94\n",
       "81. 95\n",
       "82. 96\n",
       "83. 97\n",
       "84. 98\n",
       "85. 99\n",
       "86. 100\n",
       "87. 101\n",
       "88. 102\n",
       "89. 103\n",
       "90. 104\n",
       "91. 105\n",
       "92. 106\n",
       "93. 107\n",
       "94. 108\n",
       "95. 109\n",
       "96. 112\n",
       "97. 113\n",
       "98. 114\n",
       "99. 115\n",
       "100. 117\n",
       "101. 119\n",
       "102. 120\n",
       "103. 121\n",
       "104. 123\n",
       "105. 124\n",
       "106. 125\n",
       "107. 126\n",
       "108. 127\n",
       "109. 129\n",
       "110. 130\n",
       "111. 132\n",
       "112. 133\n",
       "113. 134\n",
       "114. 135\n",
       "115. 136\n",
       "116. 138\n",
       "117. 139\n",
       "118. 140\n",
       "119. 141\n",
       "120. 142\n",
       "121. 143\n",
       "122. 144\n",
       "123. 146\n",
       "124. 147\n",
       "125. 148\n",
       "126. 149\n",
       "127. 151\n",
       "128. 152\n",
       "129. 154\n",
       "130. 155\n",
       "131. 156\n",
       "132. 157\n",
       "133. 158\n",
       "134. 159\n",
       "135. 160\n",
       "136. 161\n",
       "137. 163\n",
       "138. 169\n",
       "139. 170\n",
       "140. 171\n",
       "141. 172\n",
       "142. 173\n",
       "143. 174\n",
       "144. 175\n",
       "145. 176\n",
       "146. 177\n",
       "147. 178\n",
       "148. 180\n",
       "149. 181\n",
       "150. 182\n",
       "151. 183\n",
       "152. 184\n",
       "153. 185\n",
       "154. 186\n",
       "155. 187\n",
       "156. 188\n",
       "157. 189\n",
       "158. 190\n",
       "159. 191\n",
       "160. 192\n",
       "161. 193\n",
       "162. 194\n",
       "163. 195\n",
       "164. 196\n",
       "165. 197\n",
       "166. 200\n",
       "167. 201\n",
       "168. 202\n",
       "169. 203\n",
       "170. 204\n",
       "171. 205\n",
       "172. 206\n",
       "173. 207\n",
       "174. 208\n",
       "175. 209\n",
       "176. 210\n",
       "177. 211\n",
       "178. 214\n",
       "179. 215\n",
       "180. 216\n",
       "181. 217\n",
       "182. 219\n",
       "183. 220\n",
       "184. 221\n",
       "185. 222\n",
       "186. 223\n",
       "187. 225\n",
       "188. 229\n",
       "189. 231\n",
       "190. 232\n",
       "191. 233\n",
       "192. 234\n",
       "193. 235\n",
       "194. 237\n",
       "195. 239\n",
       "196. 241\n",
       "197. 242\n",
       "198. 243\n",
       "199. 244\n",
       "200. 245\n",
       "201. 247\n",
       "202. 248\n",
       "203. 249\n",
       "204. 250\n",
       "205. 251\n",
       "206. 252\n",
       "207. 253\n",
       "208. 254\n",
       "209. 255\n",
       "210. 256\n",
       "211. 257\n",
       "212. 258\n",
       "213. 260\n",
       "214. 261\n",
       "215. 262\n",
       "216. 263\n",
       "217. 265\n",
       "218. 266\n",
       "219. 269\n",
       "220. 271\n",
       "221. 272\n",
       "222. 273\n",
       "223. 275\n",
       "224. 276\n",
       "225. 277\n",
       "226. 278\n",
       "227. 279\n",
       "228. 280\n",
       "\n",
       "\n"
      ],
      "text/plain": [
       "  [1]   1   2   6   7   8   9  10  11  12  13  14  15  16  18  19  20  21  22\n",
       " [19]  23  24  25  26  28  29  30  31  32  33  34  35  36  37  38  39  40  41\n",
       " [37]  42  44  45  46  47  48  49  50  51  52  53  54  55  56  57  60  61  62\n",
       " [55]  63  64  67  68  69  70  71  72  74  75  77  78  79  80  81  82  84  85\n",
       " [73]  86  87  88  89  90  91  93  94  95  96  97  98  99 100 101 102 103 104\n",
       " [91] 105 106 107 108 109 112 113 114 115 117 119 120 121 123 124 125 126 127\n",
       "[109] 129 130 132 133 134 135 136 138 139 140 141 142 143 144 146 147 148 149\n",
       "[127] 151 152 154 155 156 157 158 159 160 161 163 169 170 171 172 173 174 175\n",
       "[145] 176 177 178 180 181 182 183 184 185 186 187 188 189 190 191 192 193 194\n",
       "[163] 195 196 197 200 201 202 203 204 205 206 207 208 209 210 211 214 215 216\n",
       "[181] 217 219 220 221 222 223 225 229 231 232 233 234 235 237 239 241 242 243\n",
       "[199] 244 245 247 248 249 250 251 252 253 254 255 256 257 258 260 261 262 263\n",
       "[217] 265 266 269 271 272 273 275 276 277 278 279 280"
      ]
     },
     "metadata": {},
     "output_type": "display_data"
    },
    {
     "data": {
      "text/html": [
       "'39.312641, -76.698948, iconHomicideShooting, \\'p3\\', \\'&lt;dl&gt;&lt;dt&gt;Eddie Golf&lt;/dt&gt;&lt;dd class=\"address\"&gt;4900 Challedon Road&lt;br /&gt;Baltimore, MD 21207&lt;/dd&gt;&lt;dd&gt;black male, 26 years old&lt;/dd&gt;&lt;dd&gt;Found on January 2, 2007&lt;/dd&gt;&lt;dd&gt;Victim died at scene&lt;/dd&gt;&lt;dd&gt;Cause: shooting&lt;/dd&gt;&lt;/dl&gt;\\''"
      ],
      "text/latex": [
       "'39.312641, -76.698948, iconHomicideShooting, \\textbackslash{}'p3\\textbackslash{}', \\textbackslash{}'<dl><dt>Eddie Golf</dt><dd class=\"address\">4900 Challedon Road<br />Baltimore, MD 21207</dd><dd>black male, 26 years old</dd><dd>Found on January 2, 2007</dd><dd>Victim died at scene</dd><dd>Cause: shooting</dd></dl>\\textbackslash{}''"
      ],
      "text/markdown": [
       "'39.312641, -76.698948, iconHomicideShooting, \\'p3\\', \\'&lt;dl&gt;&lt;dt&gt;Eddie Golf&lt;/dt&gt;&lt;dd class=\"address\"&gt;4900 Challedon Road&lt;br /&gt;Baltimore, MD 21207&lt;/dd&gt;&lt;dd&gt;black male, 26 years old&lt;/dd&gt;&lt;dd&gt;Found on January 2, 2007&lt;/dd&gt;&lt;dd&gt;Victim died at scene&lt;/dd&gt;&lt;dd&gt;Cause: shooting&lt;/dd&gt;&lt;/dl&gt;\\''"
      ],
      "text/plain": [
       "[1] \"39.312641, -76.698948, iconHomicideShooting, 'p3', '<dl><dt>Eddie Golf</dt><dd class=\\\"address\\\">4900 Challedon Road<br />Baltimore, MD 21207</dd><dd>black male, 26 years old</dd><dd>Found on January 2, 2007</dd><dd>Victim died at scene</dd><dd>Cause: shooting</dd></dl>'\""
      ]
     },
     "metadata": {},
     "output_type": "display_data"
    }
   ],
   "source": [
    "grep(\"iconHomicideShooting\", homicides)\n",
    "homicides[2]"
   ]
  },
  {
   "cell_type": "code",
   "execution_count": 4,
   "metadata": {
    "scrolled": true
   },
   "outputs": [
    {
     "data": {
      "text/html": [
       "228"
      ],
      "text/latex": [
       "228"
      ],
      "text/markdown": [
       "228"
      ],
      "text/plain": [
       "[1] 228"
      ]
     },
     "metadata": {},
     "output_type": "display_data"
    }
   ],
   "source": [
    "length(grep(\"iconHomicideShooting\", homicides))"
   ]
  },
  {
   "cell_type": "code",
   "execution_count": 5,
   "metadata": {
    "scrolled": true
   },
   "outputs": [
    {
     "data": {
      "text/html": [
       "1003"
      ],
      "text/latex": [
       "1003"
      ],
      "text/markdown": [
       "1003"
      ],
      "text/plain": [
       "[1] 1003"
      ]
     },
     "metadata": {},
     "output_type": "display_data"
    }
   ],
   "source": [
    "length(grep(\"iconHomicideShooting|icon_homicide_shooting\", homicides))"
   ]
  },
  {
   "cell_type": "code",
   "execution_count": 6,
   "metadata": {
    "scrolled": true
   },
   "outputs": [
    {
     "data": {
      "text/html": [
       "228"
      ],
      "text/latex": [
       "228"
      ],
      "text/markdown": [
       "228"
      ],
      "text/plain": [
       "[1] 228"
      ]
     },
     "metadata": {},
     "output_type": "display_data"
    }
   ],
   "source": [
    "length(grep(\"Cause: shooting\", homicides))"
   ]
  },
  {
   "cell_type": "code",
   "execution_count": 7,
   "metadata": {
    "scrolled": true
   },
   "outputs": [
    {
     "data": {
      "text/html": [
       "1003"
      ],
      "text/latex": [
       "1003"
      ],
      "text/markdown": [
       "1003"
      ],
      "text/plain": [
       "[1] 1003"
      ]
     },
     "metadata": {},
     "output_type": "display_data"
    }
   ],
   "source": [
    "length(grep(\"Cause: [Ss]hooting\", homicides))"
   ]
  },
  {
   "cell_type": "code",
   "execution_count": 8,
   "metadata": {
    "scrolled": true
   },
   "outputs": [
    {
     "data": {
      "text/html": [
       "1005"
      ],
      "text/latex": [
       "1005"
      ],
      "text/markdown": [
       "1005"
      ],
      "text/plain": [
       "[1] 1005"
      ]
     },
     "metadata": {},
     "output_type": "display_data"
    }
   ],
   "source": [
    "length(grep(\"[Ss]hooting\", homicides))"
   ]
  },
  {
   "cell_type": "code",
   "execution_count": 9,
   "metadata": {
    "scrolled": false
   },
   "outputs": [
    {
     "name": "stdout",
     "output_type": "stream",
     "text": [
      " int [1:1003] 1 2 6 7 8 9 10 11 12 13 ...\n",
      " int [1:1005] 1 2 6 7 8 9 10 11 12 13 ...\n"
     ]
    },
    {
     "data": {
      "text/html": [],
      "text/latex": [],
      "text/markdown": [],
      "text/plain": [
       "integer(0)"
      ]
     },
     "metadata": {},
     "output_type": "display_data"
    },
    {
     "data": {
      "text/html": [
       "'-------------------'"
      ],
      "text/latex": [
       "'-------------------'"
      ],
      "text/markdown": [
       "'-------------------'"
      ],
      "text/plain": [
       "[1] \"-------------------\""
      ]
     },
     "metadata": {},
     "output_type": "display_data"
    },
    {
     "data": {
      "text/html": [
       "<ol class=list-inline>\n",
       "\t<li>318</li>\n",
       "\t<li>859</li>\n",
       "</ol>\n"
      ],
      "text/latex": [
       "\\begin{enumerate*}\n",
       "\\item 318\n",
       "\\item 859\n",
       "\\end{enumerate*}\n"
      ],
      "text/markdown": [
       "1. 318\n",
       "2. 859\n",
       "\n",
       "\n"
      ],
      "text/plain": [
       "[1] 318 859"
      ]
     },
     "metadata": {},
     "output_type": "display_data"
    }
   ],
   "source": [
    "i <- grep(\"[cC]ause: [Ss]hooting\", homicides)\n",
    "j <- grep(\"[Ss]hooting\", homicides)\n",
    "str(i)\n",
    "str(j)\n",
    "setdiff(i, j)\n",
    "'-------------------'\n",
    "setdiff(j, i)"
   ]
  },
  {
   "cell_type": "code",
   "execution_count": 10,
   "metadata": {
    "scrolled": true
   },
   "outputs": [
    {
     "data": {
      "text/html": [
       "'39.30124320000, -76.60280220000, icon_homicide_shooting, \\'p469\\', \\'&lt;dl&gt;&lt;dt&gt;&lt;a href=\"http://essentials.baltimoresun.com/micro_sun/homicides/victim/469/donte-graham\"&gt;Donte Graham&lt;/a&gt;&lt;/dt&gt;&lt;dd class=\"address\"&gt;1100 Abbott Court&lt;br /&gt;Baltimore, MD 21202&lt;/dd&gt;&lt;dd&gt;Race: Unknown&lt;br /&gt;Gender: male&lt;br /&gt;Age: 21 years old&lt;/dd&gt;&lt;dd&gt;Found on November 18, 2008&lt;/dd&gt;&lt;dd&gt;Victim died at Johns Hopkins Hospital&lt;/dd&gt;&lt;dd&gt;Cause: Shooting&lt;/dd&gt;&lt;dd&gt;&lt;a href=\"http://www.baltimoresun.com/news/local/baltimore_city/bal-shootings1118,0,2126326.story\"&gt;Read the article&lt;/a&gt;&lt;/dd&gt;&lt;/dl&gt;\\''"
      ],
      "text/latex": [
       "'39.30124320000, -76.60280220000, icon\\_homicide\\_shooting, \\textbackslash{}'p469\\textbackslash{}', \\textbackslash{}'<dl><dt><a href=\"http://essentials.baltimoresun.com/micro\\_sun/homicides/victim/469/donte-graham\">Donte Graham</a></dt><dd class=\"address\">1100 Abbott Court<br />Baltimore, MD 21202</dd><dd>Race: Unknown<br />Gender: male<br />Age: 21 years old</dd><dd>Found on November 18, 2008</dd><dd>Victim died at Johns Hopkins Hospital</dd><dd>Cause: Shooting</dd><dd><a href=\"http://www.baltimoresun.com/news/local/baltimore\\_city/bal-shootings1118,0,2126326.story\">Read the article</a></dd></dl>\\textbackslash{}''"
      ],
      "text/markdown": [
       "'39.30124320000, -76.60280220000, icon_homicide_shooting, \\'p469\\', \\'&lt;dl&gt;&lt;dt&gt;&lt;a href=\"http://essentials.baltimoresun.com/micro_sun/homicides/victim/469/donte-graham\"&gt;Donte Graham&lt;/a&gt;&lt;/dt&gt;&lt;dd class=\"address\"&gt;1100 Abbott Court&lt;br /&gt;Baltimore, MD 21202&lt;/dd&gt;&lt;dd&gt;Race: Unknown&lt;br /&gt;Gender: male&lt;br /&gt;Age: 21 years old&lt;/dd&gt;&lt;dd&gt;Found on November 18, 2008&lt;/dd&gt;&lt;dd&gt;Victim died at Johns Hopkins Hospital&lt;/dd&gt;&lt;dd&gt;Cause: Shooting&lt;/dd&gt;&lt;dd&gt;&lt;a href=\"http://www.baltimoresun.com/news/local/baltimore_city/bal-shootings1118,0,2126326.story\"&gt;Read the article&lt;/a&gt;&lt;/dd&gt;&lt;/dl&gt;\\''"
      ],
      "text/plain": [
       "[1] \"39.30124320000, -76.60280220000, icon_homicide_shooting, 'p469', '<dl><dt><a href=\\\"http://essentials.baltimoresun.com/micro_sun/homicides/victim/469/donte-graham\\\">Donte Graham</a></dt><dd class=\\\"address\\\">1100 Abbott Court<br />Baltimore, MD 21202</dd><dd>Race: Unknown<br />Gender: male<br />Age: 21 years old</dd><dd>Found on November 18, 2008</dd><dd>Victim died at Johns Hopkins Hospital</dd><dd>Cause: Shooting</dd><dd><a href=\\\"http://www.baltimoresun.com/news/local/baltimore_city/bal-shootings1118,0,2126326.story\\\">Read the article</a></dd></dl>'\""
      ]
     },
     "metadata": {},
     "output_type": "display_data"
    },
    {
     "data": {
      "text/html": [
       "'39.28322500000, -76.63946800000, icon_homicide_bluntforce, \\'p472\\', \\'&lt;dl&gt;&lt;dt&gt;&lt;a href=\"http://essentials.baltimoresun.com/micro_sun/homicides/victim/472/lyle-dimeler\"&gt;Lyle Dimeler&lt;/a&gt;&lt;/dt&gt;&lt;dd class=\"address\"&gt;400 S. Calhoun St.&lt;br /&gt;Baltimore, MD 21223&lt;/dd&gt;&lt;dd&gt;Race: Unknown&lt;br /&gt;Gender: male&lt;br /&gt;Age: 53 years old&lt;/dd&gt;&lt;dd&gt;Found on November 18, 2008&lt;/dd&gt;&lt;dd&gt;Victim died at Maryland Shock Trauma Center&lt;/dd&gt;&lt;dd&gt;Cause: Blunt Force&lt;/dd&gt;&lt;dd&gt;&lt;a href=\"http://www.baltimoresun.com/news/local/bal-shootingdeath1118,0,3571249.story\"&gt;Read the article&lt;/a&gt;&lt;/dd&gt;&lt;/dl&gt;\\''"
      ],
      "text/latex": [
       "'39.28322500000, -76.63946800000, icon\\_homicide\\_bluntforce, \\textbackslash{}'p472\\textbackslash{}', \\textbackslash{}'<dl><dt><a href=\"http://essentials.baltimoresun.com/micro\\_sun/homicides/victim/472/lyle-dimeler\">Lyle Dimeler</a></dt><dd class=\"address\">400 S. Calhoun St.<br />Baltimore, MD 21223</dd><dd>Race: Unknown<br />Gender: male<br />Age: 53 years old</dd><dd>Found on November 18, 2008</dd><dd>Victim died at Maryland Shock Trauma Center</dd><dd>Cause: Blunt Force</dd><dd><a href=\"http://www.baltimoresun.com/news/local/bal-shootingdeath1118,0,3571249.story\">Read the article</a></dd></dl>\\textbackslash{}''"
      ],
      "text/markdown": [
       "'39.28322500000, -76.63946800000, icon_homicide_bluntforce, \\'p472\\', \\'&lt;dl&gt;&lt;dt&gt;&lt;a href=\"http://essentials.baltimoresun.com/micro_sun/homicides/victim/472/lyle-dimeler\"&gt;Lyle Dimeler&lt;/a&gt;&lt;/dt&gt;&lt;dd class=\"address\"&gt;400 S. Calhoun St.&lt;br /&gt;Baltimore, MD 21223&lt;/dd&gt;&lt;dd&gt;Race: Unknown&lt;br /&gt;Gender: male&lt;br /&gt;Age: 53 years old&lt;/dd&gt;&lt;dd&gt;Found on November 18, 2008&lt;/dd&gt;&lt;dd&gt;Victim died at Maryland Shock Trauma Center&lt;/dd&gt;&lt;dd&gt;Cause: Blunt Force&lt;/dd&gt;&lt;dd&gt;&lt;a href=\"http://www.baltimoresun.com/news/local/bal-shootingdeath1118,0,3571249.story\"&gt;Read the article&lt;/a&gt;&lt;/dd&gt;&lt;/dl&gt;\\''"
      ],
      "text/plain": [
       "[1] \"39.28322500000, -76.63946800000, icon_homicide_bluntforce, 'p472', '<dl><dt><a href=\\\"http://essentials.baltimoresun.com/micro_sun/homicides/victim/472/lyle-dimeler\\\">Lyle Dimeler</a></dt><dd class=\\\"address\\\">400 S. Calhoun St.<br />Baltimore, MD 21223</dd><dd>Race: Unknown<br />Gender: male<br />Age: 53 years old</dd><dd>Found on November 18, 2008</dd><dd>Victim died at Maryland Shock Trauma Center</dd><dd>Cause: Blunt Force</dd><dd><a href=\\\"http://www.baltimoresun.com/news/local/bal-shootingdeath1118,0,3571249.story\\\">Read the article</a></dd></dl>'\""
      ]
     },
     "metadata": {},
     "output_type": "display_data"
    }
   ],
   "source": [
    "homicides[317]\n",
    "homicides[318]"
   ]
  },
  {
   "cell_type": "code",
   "execution_count": 11,
   "metadata": {
    "scrolled": true
   },
   "outputs": [
    {
     "data": {
      "text/html": [
       "<ol class=list-inline>\n",
       "\t<li>29</li>\n",
       "\t<li>30</li>\n",
       "\t<li>31</li>\n",
       "\t<li>32</li>\n",
       "</ol>\n"
      ],
      "text/latex": [
       "\\begin{enumerate*}\n",
       "\\item 29\n",
       "\\item 30\n",
       "\\item 31\n",
       "\\item 32\n",
       "\\end{enumerate*}\n"
      ],
      "text/markdown": [
       "1. 29\n",
       "2. 30\n",
       "3. 31\n",
       "4. 32\n",
       "\n",
       "\n"
      ],
      "text/plain": [
       "[1] 29 30 31 32"
      ]
     },
     "metadata": {},
     "output_type": "display_data"
    },
    {
     "data": {
      "text/html": [
       "<ol class=list-inline>\n",
       "\t<li>'New Hampshire'</li>\n",
       "\t<li>'New Jersey'</li>\n",
       "\t<li>'New Mexico'</li>\n",
       "\t<li>'New York'</li>\n",
       "</ol>\n"
      ],
      "text/latex": [
       "\\begin{enumerate*}\n",
       "\\item 'New Hampshire'\n",
       "\\item 'New Jersey'\n",
       "\\item 'New Mexico'\n",
       "\\item 'New York'\n",
       "\\end{enumerate*}\n"
      ],
      "text/markdown": [
       "1. 'New Hampshire'\n",
       "2. 'New Jersey'\n",
       "3. 'New Mexico'\n",
       "4. 'New York'\n",
       "\n",
       "\n"
      ],
      "text/plain": [
       "[1] \"New Hampshire\" \"New Jersey\"    \"New Mexico\"    \"New York\"     "
      ]
     },
     "metadata": {},
     "output_type": "display_data"
    },
    {
     "data": {
      "text/html": [
       "<ol class=list-inline>\n",
       "\t<li>FALSE</li>\n",
       "\t<li>FALSE</li>\n",
       "\t<li>FALSE</li>\n",
       "\t<li>FALSE</li>\n",
       "\t<li>FALSE</li>\n",
       "\t<li>FALSE</li>\n",
       "\t<li>FALSE</li>\n",
       "\t<li>FALSE</li>\n",
       "\t<li>FALSE</li>\n",
       "\t<li>FALSE</li>\n",
       "\t<li>FALSE</li>\n",
       "\t<li>FALSE</li>\n",
       "\t<li>FALSE</li>\n",
       "\t<li>FALSE</li>\n",
       "\t<li>FALSE</li>\n",
       "\t<li>FALSE</li>\n",
       "\t<li>FALSE</li>\n",
       "\t<li>FALSE</li>\n",
       "\t<li>FALSE</li>\n",
       "\t<li>FALSE</li>\n",
       "\t<li>FALSE</li>\n",
       "\t<li>FALSE</li>\n",
       "\t<li>FALSE</li>\n",
       "\t<li>FALSE</li>\n",
       "\t<li>FALSE</li>\n",
       "\t<li>FALSE</li>\n",
       "\t<li>FALSE</li>\n",
       "\t<li>FALSE</li>\n",
       "\t<li>TRUE</li>\n",
       "\t<li>TRUE</li>\n",
       "\t<li>TRUE</li>\n",
       "\t<li>TRUE</li>\n",
       "\t<li>FALSE</li>\n",
       "\t<li>FALSE</li>\n",
       "\t<li>FALSE</li>\n",
       "\t<li>FALSE</li>\n",
       "\t<li>FALSE</li>\n",
       "\t<li>FALSE</li>\n",
       "\t<li>FALSE</li>\n",
       "\t<li>FALSE</li>\n",
       "\t<li>FALSE</li>\n",
       "\t<li>FALSE</li>\n",
       "\t<li>FALSE</li>\n",
       "\t<li>FALSE</li>\n",
       "\t<li>FALSE</li>\n",
       "\t<li>FALSE</li>\n",
       "\t<li>FALSE</li>\n",
       "\t<li>FALSE</li>\n",
       "\t<li>FALSE</li>\n",
       "\t<li>FALSE</li>\n",
       "</ol>\n"
      ],
      "text/latex": [
       "\\begin{enumerate*}\n",
       "\\item FALSE\n",
       "\\item FALSE\n",
       "\\item FALSE\n",
       "\\item FALSE\n",
       "\\item FALSE\n",
       "\\item FALSE\n",
       "\\item FALSE\n",
       "\\item FALSE\n",
       "\\item FALSE\n",
       "\\item FALSE\n",
       "\\item FALSE\n",
       "\\item FALSE\n",
       "\\item FALSE\n",
       "\\item FALSE\n",
       "\\item FALSE\n",
       "\\item FALSE\n",
       "\\item FALSE\n",
       "\\item FALSE\n",
       "\\item FALSE\n",
       "\\item FALSE\n",
       "\\item FALSE\n",
       "\\item FALSE\n",
       "\\item FALSE\n",
       "\\item FALSE\n",
       "\\item FALSE\n",
       "\\item FALSE\n",
       "\\item FALSE\n",
       "\\item FALSE\n",
       "\\item TRUE\n",
       "\\item TRUE\n",
       "\\item TRUE\n",
       "\\item TRUE\n",
       "\\item FALSE\n",
       "\\item FALSE\n",
       "\\item FALSE\n",
       "\\item FALSE\n",
       "\\item FALSE\n",
       "\\item FALSE\n",
       "\\item FALSE\n",
       "\\item FALSE\n",
       "\\item FALSE\n",
       "\\item FALSE\n",
       "\\item FALSE\n",
       "\\item FALSE\n",
       "\\item FALSE\n",
       "\\item FALSE\n",
       "\\item FALSE\n",
       "\\item FALSE\n",
       "\\item FALSE\n",
       "\\item FALSE\n",
       "\\end{enumerate*}\n"
      ],
      "text/markdown": [
       "1. FALSE\n",
       "2. FALSE\n",
       "3. FALSE\n",
       "4. FALSE\n",
       "5. FALSE\n",
       "6. FALSE\n",
       "7. FALSE\n",
       "8. FALSE\n",
       "9. FALSE\n",
       "10. FALSE\n",
       "11. FALSE\n",
       "12. FALSE\n",
       "13. FALSE\n",
       "14. FALSE\n",
       "15. FALSE\n",
       "16. FALSE\n",
       "17. FALSE\n",
       "18. FALSE\n",
       "19. FALSE\n",
       "20. FALSE\n",
       "21. FALSE\n",
       "22. FALSE\n",
       "23. FALSE\n",
       "24. FALSE\n",
       "25. FALSE\n",
       "26. FALSE\n",
       "27. FALSE\n",
       "28. FALSE\n",
       "29. TRUE\n",
       "30. TRUE\n",
       "31. TRUE\n",
       "32. TRUE\n",
       "33. FALSE\n",
       "34. FALSE\n",
       "35. FALSE\n",
       "36. FALSE\n",
       "37. FALSE\n",
       "38. FALSE\n",
       "39. FALSE\n",
       "40. FALSE\n",
       "41. FALSE\n",
       "42. FALSE\n",
       "43. FALSE\n",
       "44. FALSE\n",
       "45. FALSE\n",
       "46. FALSE\n",
       "47. FALSE\n",
       "48. FALSE\n",
       "49. FALSE\n",
       "50. FALSE\n",
       "\n",
       "\n"
      ],
      "text/plain": [
       " [1] FALSE FALSE FALSE FALSE FALSE FALSE FALSE FALSE FALSE FALSE FALSE FALSE\n",
       "[13] FALSE FALSE FALSE FALSE FALSE FALSE FALSE FALSE FALSE FALSE FALSE FALSE\n",
       "[25] FALSE FALSE FALSE FALSE  TRUE  TRUE  TRUE  TRUE FALSE FALSE FALSE FALSE\n",
       "[37] FALSE FALSE FALSE FALSE FALSE FALSE FALSE FALSE FALSE FALSE FALSE FALSE\n",
       "[49] FALSE FALSE"
      ]
     },
     "metadata": {},
     "output_type": "display_data"
    }
   ],
   "source": [
    "grep(\"^New\", state.name)\n",
    "grep(\"^New\", state.name, value = TRUE)\n",
    "grepl(\"^New\", state.name)"
   ]
  },
  {
   "cell_type": "code",
   "execution_count": 12,
   "metadata": {
    "scrolled": true
   },
   "outputs": [
    {
     "name": "stdout",
     "output_type": "stream",
     "text": [
      " [1] 177 178 188 189 178 182 178 187 182 183\n",
      "attr(,\"match.length\")\n",
      " [1] 33 33 33 33 33 33 33 33 33 33\n",
      "attr(,\"index.type\")\n",
      "[1] \"chars\"\n",
      "attr(,\"useBytes\")\n",
      "[1] TRUE\n",
      "[1] \"39.311024, -76.674227, iconHomicideShooting, 'p2', '<dl><dt>Leon Nelson</dt><dd class=\\\"address\\\">3400 Clifton Ave.<br />Baltimore, MD 21216</dd><dd>black male, 17 years old</dd><dd>Found on January 1, 2007</dd><dd>Victim died at Shock Trauma</dd><dd>Cause: shooting</dd></dl>'\"\n"
     ]
    },
    {
     "data": {
      "text/html": [
       "'&lt;dd&gt;Found on January 1, 2007&lt;/dd&gt;&lt;dd&gt;Victim died at Shock Trauma&lt;/dd&gt;&lt;dd&gt;Cause: shooting&lt;/dd&gt;'"
      ],
      "text/latex": [
       "'<dd>Found on January 1, 2007</dd><dd>Victim died at Shock Trauma</dd><dd>Cause: shooting</dd>'"
      ],
      "text/markdown": [
       "'&lt;dd&gt;Found on January 1, 2007&lt;/dd&gt;&lt;dd&gt;Victim died at Shock Trauma&lt;/dd&gt;&lt;dd&gt;Cause: shooting&lt;/dd&gt;'"
      ],
      "text/plain": [
       "[1] \"<dd>Found on January 1, 2007</dd><dd>Victim died at Shock Trauma</dd><dd>Cause: shooting</dd>\""
      ]
     },
     "metadata": {},
     "output_type": "display_data"
    },
    {
     "data": {
      "text/html": [
       "'&lt;dd&gt;Found on January 1, 2007&lt;/dd&gt;'"
      ],
      "text/latex": [
       "'<dd>Found on January 1, 2007</dd>'"
      ],
      "text/markdown": [
       "'&lt;dd&gt;Found on January 1, 2007&lt;/dd&gt;'"
      ],
      "text/plain": [
       "[1] \"<dd>Found on January 1, 2007</dd>\""
      ]
     },
     "metadata": {},
     "output_type": "display_data"
    },
    {
     "data": {
      "text/html": [
       "'January 1, 2007'"
      ],
      "text/latex": [
       "'January 1, 2007'"
      ],
      "text/markdown": [
       "'January 1, 2007'"
      ],
      "text/plain": [
       "[1] \"January 1, 2007\""
      ]
     },
     "metadata": {},
     "output_type": "display_data"
    }
   ],
   "source": [
    "x=regexpr(\"<dd>[F|f]ound(.*)</dd>\", homicides[1:10])\n",
    "x=regexpr(\"<dd>[F|f]ound(.*?)</dd>\", homicides[1:10])\n",
    "print(x)\n",
    "print(homicides[1])\n",
    "substr(homicides[1], 177, 177+93-1)\n",
    "substr(homicides[1], 177, 177+33-1)\n",
    "substr(homicides[1], 190, 190+15-1)"
   ]
  },
  {
   "cell_type": "code",
   "execution_count": 13,
   "metadata": {
    "scrolled": true
   },
   "outputs": [
    {
     "data": {
      "text/html": [
       "<ol class=list-inline>\n",
       "\t<li>'&lt;dd&gt;Found on January 1, 2007&lt;/dd&gt;'</li>\n",
       "\t<li>'&lt;dd&gt;Found on January 2, 2007&lt;/dd&gt;'</li>\n",
       "\t<li>'&lt;dd&gt;Found on January 2, 2007&lt;/dd&gt;'</li>\n",
       "\t<li>'&lt;dd&gt;Found on January 3, 2007&lt;/dd&gt;'</li>\n",
       "\t<li>'&lt;dd&gt;Found on January 5, 2007&lt;/dd&gt;'</li>\n",
       "\t<li>'&lt;dd&gt;Found on January 5, 2007&lt;/dd&gt;'</li>\n",
       "\t<li>'&lt;dd&gt;Found on January 5, 2007&lt;/dd&gt;'</li>\n",
       "\t<li>'&lt;dd&gt;Found on January 7, 2007&lt;/dd&gt;'</li>\n",
       "\t<li>'&lt;dd&gt;Found on January 8, 2007&lt;/dd&gt;'</li>\n",
       "\t<li>'&lt;dd&gt;Found on January 8, 2007&lt;/dd&gt;'</li>\n",
       "</ol>\n"
      ],
      "text/latex": [
       "\\begin{enumerate*}\n",
       "\\item '<dd>Found on January 1, 2007</dd>'\n",
       "\\item '<dd>Found on January 2, 2007</dd>'\n",
       "\\item '<dd>Found on January 2, 2007</dd>'\n",
       "\\item '<dd>Found on January 3, 2007</dd>'\n",
       "\\item '<dd>Found on January 5, 2007</dd>'\n",
       "\\item '<dd>Found on January 5, 2007</dd>'\n",
       "\\item '<dd>Found on January 5, 2007</dd>'\n",
       "\\item '<dd>Found on January 7, 2007</dd>'\n",
       "\\item '<dd>Found on January 8, 2007</dd>'\n",
       "\\item '<dd>Found on January 8, 2007</dd>'\n",
       "\\end{enumerate*}\n"
      ],
      "text/markdown": [
       "1. '&lt;dd&gt;Found on January 1, 2007&lt;/dd&gt;'\n",
       "2. '&lt;dd&gt;Found on January 2, 2007&lt;/dd&gt;'\n",
       "3. '&lt;dd&gt;Found on January 2, 2007&lt;/dd&gt;'\n",
       "4. '&lt;dd&gt;Found on January 3, 2007&lt;/dd&gt;'\n",
       "5. '&lt;dd&gt;Found on January 5, 2007&lt;/dd&gt;'\n",
       "6. '&lt;dd&gt;Found on January 5, 2007&lt;/dd&gt;'\n",
       "7. '&lt;dd&gt;Found on January 5, 2007&lt;/dd&gt;'\n",
       "8. '&lt;dd&gt;Found on January 7, 2007&lt;/dd&gt;'\n",
       "9. '&lt;dd&gt;Found on January 8, 2007&lt;/dd&gt;'\n",
       "10. '&lt;dd&gt;Found on January 8, 2007&lt;/dd&gt;'\n",
       "\n",
       "\n"
      ],
      "text/plain": [
       " [1] \"<dd>Found on January 1, 2007</dd>\" \"<dd>Found on January 2, 2007</dd>\"\n",
       " [3] \"<dd>Found on January 2, 2007</dd>\" \"<dd>Found on January 3, 2007</dd>\"\n",
       " [5] \"<dd>Found on January 5, 2007</dd>\" \"<dd>Found on January 5, 2007</dd>\"\n",
       " [7] \"<dd>Found on January 5, 2007</dd>\" \"<dd>Found on January 7, 2007</dd>\"\n",
       " [9] \"<dd>Found on January 8, 2007</dd>\" \"<dd>Found on January 8, 2007</dd>\""
      ]
     },
     "metadata": {},
     "output_type": "display_data"
    }
   ],
   "source": [
    "regmatches(homicides[1:10], x)"
   ]
  },
  {
   "cell_type": "code",
   "execution_count": 1,
   "metadata": {},
   "outputs": [],
   "source": [
    "# ?sub\n",
    "?regexec"
   ]
  },
  {
   "cell_type": "code",
   "execution_count": 15,
   "metadata": {
    "scrolled": true
   },
   "outputs": [
    {
     "data": {
      "text/html": [
       "'ab'"
      ],
      "text/latex": [
       "'ab'"
      ],
      "text/markdown": [
       "'ab'"
      ],
      "text/plain": [
       "[1] \"ab\""
      ]
     },
     "metadata": {},
     "output_type": "display_data"
    },
    {
     "data": {
      "text/html": [
       "'a b'"
      ],
      "text/latex": [
       "'a b'"
      ],
      "text/markdown": [
       "'a b'"
      ],
      "text/plain": [
       "[1] \"a b\""
      ]
     },
     "metadata": {},
     "output_type": "display_data"
    },
    {
     "data": {
      "text/html": [
       "<ol class=list-inline>\n",
       "\t<li>'a,1'</li>\n",
       "\t<li>'b,2'</li>\n",
       "\t<li>'c,1'</li>\n",
       "\t<li>'d,2'</li>\n",
       "\t<li>'e,1'</li>\n",
       "\t<li>'f,2'</li>\n",
       "</ol>\n"
      ],
      "text/latex": [
       "\\begin{enumerate*}\n",
       "\\item 'a,1'\n",
       "\\item 'b,2'\n",
       "\\item 'c,1'\n",
       "\\item 'd,2'\n",
       "\\item 'e,1'\n",
       "\\item 'f,2'\n",
       "\\end{enumerate*}\n"
      ],
      "text/markdown": [
       "1. 'a,1'\n",
       "2. 'b,2'\n",
       "3. 'c,1'\n",
       "4. 'd,2'\n",
       "5. 'e,1'\n",
       "6. 'f,2'\n",
       "\n",
       "\n"
      ],
      "text/plain": [
       "[1] \"a,1\" \"b,2\" \"c,1\" \"d,2\" \"e,1\" \"f,2\""
      ]
     },
     "metadata": {},
     "output_type": "display_data"
    },
    {
     "data": {
      "text/html": [
       "'a,1___b,2___c,1___d,2___e,1___f,2'"
      ],
      "text/latex": [
       "'a,1\\_\\_\\_b,2\\_\\_\\_c,1\\_\\_\\_d,2\\_\\_\\_e,1\\_\\_\\_f,2'"
      ],
      "text/markdown": [
       "'a,1___b,2___c,1___d,2___e,1___f,2'"
      ],
      "text/plain": [
       "[1] \"a,1___b,2___c,1___d,2___e,1___f,2\""
      ]
     },
     "metadata": {},
     "output_type": "display_data"
    }
   ],
   "source": [
    "str_c(\"a\", \"b\") #no default sep\n",
    "paste(\"a\", \"b\") #default sep is space\n",
    "str_c(letters[1:6],c(\"1\",\"2\"), sep=\",\")\n",
    "str_c(letters[1:6],c(\"1\",\"2\"), sep=\",\", collapse = \"___\")"
   ]
  },
  {
   "cell_type": "code",
   "execution_count": 16,
   "metadata": {},
   "outputs": [
    {
     "data": {
      "text/html": [
       "<ol class=list-inline>\n",
       "\t<li>'aa'</li>\n",
       "\t<li>'bb'</li>\n",
       "\t<li>'cc'</li>\n",
       "\t<li>'dd'</li>\n",
       "\t<li>'ee'</li>\n",
       "\t<li>'ff'</li>\n",
       "\t<li>'gg'</li>\n",
       "\t<li>'hh'</li>\n",
       "\t<li>'ii'</li>\n",
       "\t<li>'jj'</li>\n",
       "\t<li>'kk'</li>\n",
       "\t<li>'ll'</li>\n",
       "\t<li>'mm'</li>\n",
       "\t<li>'nn'</li>\n",
       "\t<li>'oo'</li>\n",
       "\t<li>'pp'</li>\n",
       "\t<li>'qq'</li>\n",
       "\t<li>'rr'</li>\n",
       "\t<li>'ss'</li>\n",
       "\t<li>'tt'</li>\n",
       "\t<li>'uu'</li>\n",
       "\t<li>'vv'</li>\n",
       "\t<li>'ww'</li>\n",
       "\t<li>'xx'</li>\n",
       "\t<li>'yy'</li>\n",
       "\t<li>'zz'</li>\n",
       "</ol>\n"
      ],
      "text/latex": [
       "\\begin{enumerate*}\n",
       "\\item 'aa'\n",
       "\\item 'bb'\n",
       "\\item 'cc'\n",
       "\\item 'dd'\n",
       "\\item 'ee'\n",
       "\\item 'ff'\n",
       "\\item 'gg'\n",
       "\\item 'hh'\n",
       "\\item 'ii'\n",
       "\\item 'jj'\n",
       "\\item 'kk'\n",
       "\\item 'll'\n",
       "\\item 'mm'\n",
       "\\item 'nn'\n",
       "\\item 'oo'\n",
       "\\item 'pp'\n",
       "\\item 'qq'\n",
       "\\item 'rr'\n",
       "\\item 'ss'\n",
       "\\item 'tt'\n",
       "\\item 'uu'\n",
       "\\item 'vv'\n",
       "\\item 'ww'\n",
       "\\item 'xx'\n",
       "\\item 'yy'\n",
       "\\item 'zz'\n",
       "\\end{enumerate*}\n"
      ],
      "text/markdown": [
       "1. 'aa'\n",
       "2. 'bb'\n",
       "3. 'cc'\n",
       "4. 'dd'\n",
       "5. 'ee'\n",
       "6. 'ff'\n",
       "7. 'gg'\n",
       "8. 'hh'\n",
       "9. 'ii'\n",
       "10. 'jj'\n",
       "11. 'kk'\n",
       "12. 'll'\n",
       "13. 'mm'\n",
       "14. 'nn'\n",
       "15. 'oo'\n",
       "16. 'pp'\n",
       "17. 'qq'\n",
       "18. 'rr'\n",
       "19. 'ss'\n",
       "20. 'tt'\n",
       "21. 'uu'\n",
       "22. 'vv'\n",
       "23. 'ww'\n",
       "24. 'xx'\n",
       "25. 'yy'\n",
       "26. 'zz'\n",
       "\n",
       "\n"
      ],
      "text/plain": [
       " [1] \"aa\" \"bb\" \"cc\" \"dd\" \"ee\" \"ff\" \"gg\" \"hh\" \"ii\" \"jj\" \"kk\" \"ll\" \"mm\" \"nn\" \"oo\"\n",
       "[16] \"pp\" \"qq\" \"rr\" \"ss\" \"tt\" \"uu\" \"vv\" \"ww\" \"xx\" \"yy\" \"zz\""
      ]
     },
     "metadata": {},
     "output_type": "display_data"
    }
   ],
   "source": [
    "str_c(letters, letters)"
   ]
  },
  {
   "cell_type": "code",
   "execution_count": 17,
   "metadata": {
    "scrolled": true
   },
   "outputs": [
    {
     "data": {
      "text/html": [
       "3"
      ],
      "text/latex": [
       "3"
      ],
      "text/markdown": [
       "3"
      ],
      "text/plain": [
       "[1] 3"
      ]
     },
     "metadata": {},
     "output_type": "display_data"
    },
    {
     "data": {
      "text/html": [
       "&lt;NA&gt;"
      ],
      "text/latex": [
       "<NA>"
      ],
      "text/markdown": [
       "&lt;NA&gt;"
      ],
      "text/plain": [
       "[1] NA"
      ]
     },
     "metadata": {},
     "output_type": "display_data"
    },
    {
     "data": {
      "text/html": [
       "3"
      ],
      "text/latex": [
       "3"
      ],
      "text/markdown": [
       "3"
      ],
      "text/plain": [
       "[1] 3"
      ]
     },
     "metadata": {},
     "output_type": "display_data"
    },
    {
     "data": {
      "text/html": [
       "&lt;NA&gt;"
      ],
      "text/latex": [
       "<NA>"
      ],
      "text/markdown": [
       "&lt;NA&gt;"
      ],
      "text/plain": [
       "[1] NA"
      ]
     },
     "metadata": {},
     "output_type": "display_data"
    },
    {
     "data": {
      "text/html": [
       "2"
      ],
      "text/latex": [
       "2"
      ],
      "text/markdown": [
       "2"
      ],
      "text/plain": [
       "[1] 2"
      ]
     },
     "metadata": {},
     "output_type": "display_data"
    }
   ],
   "source": [
    "str_length(\"abc\")\n",
    "str_length(NA)\n",
    "nchar(\"abc\")\n",
    "nchar(NA)\n",
    "nchar(NA, keepNA=FALSE)"
   ]
  },
  {
   "cell_type": "code",
   "execution_count": 18,
   "metadata": {},
   "outputs": [
    {
     "data": {
      "text/html": [
       "<ol class=list-inline>\n",
       "\t<li>1</li>\n",
       "\t<li>222</li>\n",
       "\t<li>2</li>\n",
       "\t<li>2</li>\n",
       "\t<li>2</li>\n",
       "\t<li>1</li>\n",
       "\t<li>1</li>\n",
       "</ol>\n",
       "\n",
       "<details>\n",
       "\t<summary style=display:list-item;cursor:pointer>\n",
       "\t\t<strong>Levels</strong>:\n",
       "\t</summary>\n",
       "\t<ol class=list-inline>\n",
       "\t\t<li>'1'</li>\n",
       "\t\t<li>'2'</li>\n",
       "\t\t<li>'222'</li>\n",
       "\t</ol>\n",
       "</details>"
      ],
      "text/latex": [
       "\\begin{enumerate*}\n",
       "\\item 1\n",
       "\\item 222\n",
       "\\item 2\n",
       "\\item 2\n",
       "\\item 2\n",
       "\\item 1\n",
       "\\item 1\n",
       "\\end{enumerate*}\n",
       "\n",
       "\\emph{Levels}: \\begin{enumerate*}\n",
       "\\item '1'\n",
       "\\item '2'\n",
       "\\item '222'\n",
       "\\end{enumerate*}\n"
      ],
      "text/markdown": [
       "1. 1\n",
       "2. 222\n",
       "3. 2\n",
       "4. 2\n",
       "5. 2\n",
       "6. 1\n",
       "7. 1\n",
       "\n",
       "\n",
       "\n",
       "**Levels**: 1. '1'\n",
       "2. '2'\n",
       "3. '222'\n",
       "\n",
       "\n"
      ],
      "text/plain": [
       "[1] 1   222 2   2   2   1   1  \n",
       "Levels: 1 2 222"
      ]
     },
     "metadata": {},
     "output_type": "display_data"
    },
    {
     "data": {
      "text/html": [
       "<ol class=list-inline>\n",
       "\t<li>1</li>\n",
       "\t<li>3</li>\n",
       "\t<li>1</li>\n",
       "\t<li>1</li>\n",
       "\t<li>1</li>\n",
       "\t<li>1</li>\n",
       "\t<li>1</li>\n",
       "</ol>\n"
      ],
      "text/latex": [
       "\\begin{enumerate*}\n",
       "\\item 1\n",
       "\\item 3\n",
       "\\item 1\n",
       "\\item 1\n",
       "\\item 1\n",
       "\\item 1\n",
       "\\item 1\n",
       "\\end{enumerate*}\n"
      ],
      "text/markdown": [
       "1. 1\n",
       "2. 3\n",
       "3. 1\n",
       "4. 1\n",
       "5. 1\n",
       "6. 1\n",
       "7. 1\n",
       "\n",
       "\n"
      ],
      "text/plain": [
       "[1] 1 3 1 1 1 1 1"
      ]
     },
     "metadata": {},
     "output_type": "display_data"
    }
   ],
   "source": [
    "x=factor(c(1,222,2,2,2,1,1))\n",
    "x\n",
    "str_length(x)"
   ]
  },
  {
   "cell_type": "code",
   "execution_count": 19,
   "metadata": {
    "scrolled": true
   },
   "outputs": [
    {
     "data": {
      "text/html": [
       "<ol class=list-inline>\n",
       "\t<li>1</li>\n",
       "\t<li>1</li>\n",
       "\t<li>1</li>\n",
       "\t<li>1</li>\n",
       "\t<li>1</li>\n",
       "\t<li>1</li>\n",
       "\t<li>1</li>\n",
       "\t<li>1</li>\n",
       "\t<li>1</li>\n",
       "\t<li>1</li>\n",
       "\t<li>1</li>\n",
       "\t<li>1</li>\n",
       "\t<li>1</li>\n",
       "\t<li>1</li>\n",
       "\t<li>1</li>\n",
       "\t<li>1</li>\n",
       "\t<li>1</li>\n",
       "\t<li>1</li>\n",
       "\t<li>1</li>\n",
       "\t<li>1</li>\n",
       "\t<li>1</li>\n",
       "\t<li>1</li>\n",
       "\t<li>1</li>\n",
       "\t<li>1</li>\n",
       "\t<li>1</li>\n",
       "\t<li>1</li>\n",
       "</ol>\n"
      ],
      "text/latex": [
       "\\begin{enumerate*}\n",
       "\\item 1\n",
       "\\item 1\n",
       "\\item 1\n",
       "\\item 1\n",
       "\\item 1\n",
       "\\item 1\n",
       "\\item 1\n",
       "\\item 1\n",
       "\\item 1\n",
       "\\item 1\n",
       "\\item 1\n",
       "\\item 1\n",
       "\\item 1\n",
       "\\item 1\n",
       "\\item 1\n",
       "\\item 1\n",
       "\\item 1\n",
       "\\item 1\n",
       "\\item 1\n",
       "\\item 1\n",
       "\\item 1\n",
       "\\item 1\n",
       "\\item 1\n",
       "\\item 1\n",
       "\\item 1\n",
       "\\item 1\n",
       "\\end{enumerate*}\n"
      ],
      "text/markdown": [
       "1. 1\n",
       "2. 1\n",
       "3. 1\n",
       "4. 1\n",
       "5. 1\n",
       "6. 1\n",
       "7. 1\n",
       "8. 1\n",
       "9. 1\n",
       "10. 1\n",
       "11. 1\n",
       "12. 1\n",
       "13. 1\n",
       "14. 1\n",
       "15. 1\n",
       "16. 1\n",
       "17. 1\n",
       "18. 1\n",
       "19. 1\n",
       "20. 1\n",
       "21. 1\n",
       "22. 1\n",
       "23. 1\n",
       "24. 1\n",
       "25. 1\n",
       "26. 1\n",
       "\n",
       "\n"
      ],
      "text/plain": [
       " [1] 1 1 1 1 1 1 1 1 1 1 1 1 1 1 1 1 1 1 1 1 1 1 1 1 1 1"
      ]
     },
     "metadata": {},
     "output_type": "display_data"
    }
   ],
   "source": [
    "str_length(letters)"
   ]
  },
  {
   "cell_type": "code",
   "execution_count": 20,
   "metadata": {
    "scrolled": true
   },
   "outputs": [
    {
     "data": {
      "text/html": [
       "3"
      ],
      "text/latex": [
       "3"
      ],
      "text/markdown": [
       "3"
      ],
      "text/plain": [
       "[1] 3"
      ]
     },
     "metadata": {},
     "output_type": "display_data"
    }
   ],
   "source": [
    "str_length(factor(\"abc\"))"
   ]
  },
  {
   "cell_type": "code",
   "execution_count": 21,
   "metadata": {
    "scrolled": true
   },
   "outputs": [
    {
     "data": {
      "text/html": [
       "3"
      ],
      "text/latex": [
       "3"
      ],
      "text/markdown": [
       "3"
      ],
      "text/plain": [
       "[1] 3"
      ]
     },
     "metadata": {},
     "output_type": "display_data"
    },
    {
     "data": {
      "text/html": [
       "1"
      ],
      "text/latex": [
       "1"
      ],
      "text/markdown": [
       "1"
      ],
      "text/plain": [
       "[1] 1"
      ]
     },
     "metadata": {},
     "output_type": "display_data"
    },
    {
     "data": {
      "text/html": [
       "26"
      ],
      "text/latex": [
       "26"
      ],
      "text/markdown": [
       "26"
      ],
      "text/plain": [
       "[1] 26"
      ]
     },
     "metadata": {},
     "output_type": "display_data"
    }
   ],
   "source": [
    "str_length(\"abc\")\n",
    "length(\"abc\")\n",
    "length(letters)"
   ]
  },
  {
   "cell_type": "code",
   "execution_count": 22,
   "metadata": {
    "scrolled": true
   },
   "outputs": [
    {
     "data": {
      "text/html": [
       "<ol class=list-inline>\n",
       "\t<li>'abcdedf'</li>\n",
       "\t<li>'aaa'</li>\n",
       "\t<li>'bbb'</li>\n",
       "</ol>\n"
      ],
      "text/latex": [
       "\\begin{enumerate*}\n",
       "\\item 'abcdedf'\n",
       "\\item 'aaa'\n",
       "\\item 'bbb'\n",
       "\\end{enumerate*}\n"
      ],
      "text/markdown": [
       "1. 'abcdedf'\n",
       "2. 'aaa'\n",
       "3. 'bbb'\n",
       "\n",
       "\n"
      ],
      "text/plain": [
       "[1] \"abcdedf\" \"aaa\"     \"bbb\"    "
      ]
     },
     "metadata": {},
     "output_type": "display_data"
    },
    {
     "data": {
      "text/html": [
       "<ol class=list-inline>\n",
       "\t<li>7</li>\n",
       "\t<li>3</li>\n",
       "\t<li>3</li>\n",
       "</ol>\n"
      ],
      "text/latex": [
       "\\begin{enumerate*}\n",
       "\\item 7\n",
       "\\item 3\n",
       "\\item 3\n",
       "\\end{enumerate*}\n"
      ],
      "text/markdown": [
       "1. 7\n",
       "2. 3\n",
       "3. 3\n",
       "\n",
       "\n"
      ],
      "text/plain": [
       "[1] 7 3 3"
      ]
     },
     "metadata": {},
     "output_type": "display_data"
    },
    {
     "data": {
      "text/html": [
       "2"
      ],
      "text/latex": [
       "2"
      ],
      "text/markdown": [
       "2"
      ],
      "text/plain": [
       "[1] 2"
      ]
     },
     "metadata": {},
     "output_type": "display_data"
    },
    {
     "data": {
      "text/html": [
       "&lt;NA&gt;"
      ],
      "text/latex": [
       "<NA>"
      ],
      "text/markdown": [
       "&lt;NA&gt;"
      ],
      "text/plain": [
       "[1] NA"
      ]
     },
     "metadata": {},
     "output_type": "display_data"
    },
    {
     "data": {
      "text/html": [
       "0"
      ],
      "text/latex": [
       "0"
      ],
      "text/markdown": [
       "0"
      ],
      "text/plain": [
       "[1] 0"
      ]
     },
     "metadata": {},
     "output_type": "display_data"
    },
    {
     "data": {
      "text/html": [
       "1"
      ],
      "text/latex": [
       "1"
      ],
      "text/markdown": [
       "1"
      ],
      "text/plain": [
       "[1] 1"
      ]
     },
     "metadata": {},
     "output_type": "display_data"
    },
    {
     "data": {
      "text/html": [
       "2"
      ],
      "text/latex": [
       "2"
      ],
      "text/markdown": [
       "2"
      ],
      "text/plain": [
       "[1] 2"
      ]
     },
     "metadata": {},
     "output_type": "display_data"
    },
    {
     "data": {
      "text/html": [
       "2"
      ],
      "text/latex": [
       "2"
      ],
      "text/markdown": [
       "2"
      ],
      "text/plain": [
       "[1] 2"
      ]
     },
     "metadata": {},
     "output_type": "display_data"
    },
    {
     "data": {
      "text/html": [
       "<ol class=list-inline>\n",
       "\t<li>1</li>\n",
       "\t<li>1</li>\n",
       "\t<li>1</li>\n",
       "\t<li>26</li>\n",
       "\t<li>2</li>\n",
       "</ol>\n",
       "\n",
       "<details>\n",
       "\t<summary style=display:list-item;cursor:pointer>\n",
       "\t\t<strong>Levels</strong>:\n",
       "\t</summary>\n",
       "\t<ol class=list-inline>\n",
       "\t\t<li>'1'</li>\n",
       "\t\t<li>'2'</li>\n",
       "\t\t<li>'26'</li>\n",
       "\t</ol>\n",
       "</details>"
      ],
      "text/latex": [
       "\\begin{enumerate*}\n",
       "\\item 1\n",
       "\\item 1\n",
       "\\item 1\n",
       "\\item 26\n",
       "\\item 2\n",
       "\\end{enumerate*}\n",
       "\n",
       "\\emph{Levels}: \\begin{enumerate*}\n",
       "\\item '1'\n",
       "\\item '2'\n",
       "\\item '26'\n",
       "\\end{enumerate*}\n"
      ],
      "text/markdown": [
       "1. 1\n",
       "2. 1\n",
       "3. 1\n",
       "4. 26\n",
       "5. 2\n",
       "\n",
       "\n",
       "\n",
       "**Levels**: 1. '1'\n",
       "2. '2'\n",
       "3. '26'\n",
       "\n",
       "\n"
      ],
      "text/plain": [
       "[1] 1  1  1  26 2 \n",
       "Levels: 1 2 26"
      ]
     },
     "metadata": {},
     "output_type": "display_data"
    },
    {
     "data": {
      "text/html": [
       "<ol class=list-inline>\n",
       "\t<li>1</li>\n",
       "\t<li>1</li>\n",
       "\t<li>1</li>\n",
       "\t<li>2</li>\n",
       "\t<li>1</li>\n",
       "</ol>\n"
      ],
      "text/latex": [
       "\\begin{enumerate*}\n",
       "\\item 1\n",
       "\\item 1\n",
       "\\item 1\n",
       "\\item 2\n",
       "\\item 1\n",
       "\\end{enumerate*}\n"
      ],
      "text/markdown": [
       "1. 1\n",
       "2. 1\n",
       "3. 1\n",
       "4. 2\n",
       "5. 1\n",
       "\n",
       "\n"
      ],
      "text/plain": [
       "[1] 1 1 1 2 1"
      ]
     },
     "metadata": {},
     "output_type": "display_data"
    }
   ],
   "source": [
    "str<-c(\"abcdedf\",\"aaa\",\"bbb\")\n",
    "str\n",
    "str_length(str)\n",
    "str_length(\"ab\")\n",
    "str_length(NA)\n",
    "x=str_length(\"\");x\n",
    "length(\"aass\")\n",
    "length(c('a', 'b'))\n",
    "nchar(\"aa\")\n",
    "x=c(1,1,1,26,2)\n",
    "factor(x)\n",
    "str_length(factor(x))"
   ]
  },
  {
   "cell_type": "code",
   "execution_count": 23,
   "metadata": {},
   "outputs": [
    {
     "data": {
      "text/html": [
       "<ol class=list-inline>\n",
       "\t<li>'a'</li>\n",
       "\t<li>'b'</li>\n",
       "\t<li>'c'</li>\n",
       "\t<li>'d'</li>\n",
       "\t<li>'e'</li>\n",
       "\t<li>'f'</li>\n",
       "\t<li>'g'</li>\n",
       "\t<li>'h'</li>\n",
       "\t<li>'i'</li>\n",
       "\t<li>'j'</li>\n",
       "\t<li>'k'</li>\n",
       "\t<li>'l'</li>\n",
       "\t<li>'m'</li>\n",
       "\t<li>'n'</li>\n",
       "\t<li>'o'</li>\n",
       "\t<li>'p'</li>\n",
       "\t<li>'q'</li>\n",
       "\t<li>'r'</li>\n",
       "\t<li>'s'</li>\n",
       "\t<li>'t'</li>\n",
       "\t<li>'u'</li>\n",
       "\t<li>'v'</li>\n",
       "\t<li>'w'</li>\n",
       "\t<li>'x'</li>\n",
       "\t<li>'y'</li>\n",
       "\t<li>'z'</li>\n",
       "</ol>\n"
      ],
      "text/latex": [
       "\\begin{enumerate*}\n",
       "\\item 'a'\n",
       "\\item 'b'\n",
       "\\item 'c'\n",
       "\\item 'd'\n",
       "\\item 'e'\n",
       "\\item 'f'\n",
       "\\item 'g'\n",
       "\\item 'h'\n",
       "\\item 'i'\n",
       "\\item 'j'\n",
       "\\item 'k'\n",
       "\\item 'l'\n",
       "\\item 'm'\n",
       "\\item 'n'\n",
       "\\item 'o'\n",
       "\\item 'p'\n",
       "\\item 'q'\n",
       "\\item 'r'\n",
       "\\item 's'\n",
       "\\item 't'\n",
       "\\item 'u'\n",
       "\\item 'v'\n",
       "\\item 'w'\n",
       "\\item 'x'\n",
       "\\item 'y'\n",
       "\\item 'z'\n",
       "\\end{enumerate*}\n"
      ],
      "text/markdown": [
       "1. 'a'\n",
       "2. 'b'\n",
       "3. 'c'\n",
       "4. 'd'\n",
       "5. 'e'\n",
       "6. 'f'\n",
       "7. 'g'\n",
       "8. 'h'\n",
       "9. 'i'\n",
       "10. 'j'\n",
       "11. 'k'\n",
       "12. 'l'\n",
       "13. 'm'\n",
       "14. 'n'\n",
       "15. 'o'\n",
       "16. 'p'\n",
       "17. 'q'\n",
       "18. 'r'\n",
       "19. 's'\n",
       "20. 't'\n",
       "21. 'u'\n",
       "22. 'v'\n",
       "23. 'w'\n",
       "24. 'x'\n",
       "25. 'y'\n",
       "26. 'z'\n",
       "\n",
       "\n"
      ],
      "text/plain": [
       " [1] \"a\" \"b\" \"c\" \"d\" \"e\" \"f\" \"g\" \"h\" \"i\" \"j\" \"k\" \"l\" \"m\" \"n\" \"o\" \"p\" \"q\" \"r\" \"s\"\n",
       "[20] \"t\" \"u\" \"v\" \"w\" \"x\" \"y\" \"z\""
      ]
     },
     "metadata": {},
     "output_type": "display_data"
    },
    {
     "data": {
      "text/html": [
       "<ol class=list-inline>\n",
       "\t<li>1</li>\n",
       "\t<li>1</li>\n",
       "\t<li>1</li>\n",
       "\t<li>1</li>\n",
       "\t<li>1</li>\n",
       "\t<li>1</li>\n",
       "\t<li>1</li>\n",
       "\t<li>1</li>\n",
       "\t<li>1</li>\n",
       "\t<li>1</li>\n",
       "\t<li>1</li>\n",
       "\t<li>1</li>\n",
       "\t<li>1</li>\n",
       "\t<li>1</li>\n",
       "\t<li>1</li>\n",
       "\t<li>1</li>\n",
       "\t<li>1</li>\n",
       "\t<li>1</li>\n",
       "\t<li>1</li>\n",
       "\t<li>1</li>\n",
       "\t<li>1</li>\n",
       "\t<li>1</li>\n",
       "\t<li>1</li>\n",
       "\t<li>1</li>\n",
       "\t<li>1</li>\n",
       "\t<li>1</li>\n",
       "</ol>\n"
      ],
      "text/latex": [
       "\\begin{enumerate*}\n",
       "\\item 1\n",
       "\\item 1\n",
       "\\item 1\n",
       "\\item 1\n",
       "\\item 1\n",
       "\\item 1\n",
       "\\item 1\n",
       "\\item 1\n",
       "\\item 1\n",
       "\\item 1\n",
       "\\item 1\n",
       "\\item 1\n",
       "\\item 1\n",
       "\\item 1\n",
       "\\item 1\n",
       "\\item 1\n",
       "\\item 1\n",
       "\\item 1\n",
       "\\item 1\n",
       "\\item 1\n",
       "\\item 1\n",
       "\\item 1\n",
       "\\item 1\n",
       "\\item 1\n",
       "\\item 1\n",
       "\\item 1\n",
       "\\end{enumerate*}\n"
      ],
      "text/markdown": [
       "1. 1\n",
       "2. 1\n",
       "3. 1\n",
       "4. 1\n",
       "5. 1\n",
       "6. 1\n",
       "7. 1\n",
       "8. 1\n",
       "9. 1\n",
       "10. 1\n",
       "11. 1\n",
       "12. 1\n",
       "13. 1\n",
       "14. 1\n",
       "15. 1\n",
       "16. 1\n",
       "17. 1\n",
       "18. 1\n",
       "19. 1\n",
       "20. 1\n",
       "21. 1\n",
       "22. 1\n",
       "23. 1\n",
       "24. 1\n",
       "25. 1\n",
       "26. 1\n",
       "\n",
       "\n"
      ],
      "text/plain": [
       " [1] 1 1 1 1 1 1 1 1 1 1 1 1 1 1 1 1 1 1 1 1 1 1 1 1 1 1"
      ]
     },
     "metadata": {},
     "output_type": "display_data"
    },
    {
     "data": {
      "text/html": [
       "&lt;NA&gt;"
      ],
      "text/latex": [
       "<NA>"
      ],
      "text/markdown": [
       "&lt;NA&gt;"
      ],
      "text/plain": [
       "[1] NA"
      ]
     },
     "metadata": {},
     "output_type": "display_data"
    },
    {
     "data": {
      "text/html": [
       "abc\n",
       "<details>\n",
       "\t<summary style=display:list-item;cursor:pointer>\n",
       "\t\t<strong>Levels</strong>:\n",
       "\t</summary>\n",
       "\t'abc'\n",
       "</details>"
      ],
      "text/latex": [
       "abc\n",
       "\\emph{Levels}: 'abc'"
      ],
      "text/markdown": [
       "abc\n",
       "**Levels**: 'abc'"
      ],
      "text/plain": [
       "[1] abc\n",
       "Levels: abc"
      ]
     },
     "metadata": {},
     "output_type": "display_data"
    },
    {
     "data": {
      "text/html": [
       "3"
      ],
      "text/latex": [
       "3"
      ],
      "text/markdown": [
       "3"
      ],
      "text/plain": [
       "[1] 3"
      ]
     },
     "metadata": {},
     "output_type": "display_data"
    },
    {
     "data": {
      "text/html": [
       "<ol class=list-inline>\n",
       "\t<li>1</li>\n",
       "\t<li>4</li>\n",
       "\t<li>11</li>\n",
       "\t<li>&lt;NA&gt;</li>\n",
       "</ol>\n"
      ],
      "text/latex": [
       "\\begin{enumerate*}\n",
       "\\item 1\n",
       "\\item 4\n",
       "\\item 11\n",
       "\\item <NA>\n",
       "\\end{enumerate*}\n"
      ],
      "text/markdown": [
       "1. 1\n",
       "2. 4\n",
       "3. 11\n",
       "4. &lt;NA&gt;\n",
       "\n",
       "\n"
      ],
      "text/plain": [
       "[1]  1  4 11 NA"
      ]
     },
     "metadata": {},
     "output_type": "display_data"
    }
   ],
   "source": [
    "letters\n",
    "str_length(letters)\n",
    "str_length(NA)\n",
    "factor(\"abc\")\n",
    "str_length(factor(\"abc\"))\n",
    "str_length(c(\"i\", \"like\", \"programming\", NA))"
   ]
  },
  {
   "cell_type": "code",
   "execution_count": 24,
   "metadata": {
    "scrolled": false
   },
   "outputs": [
    {
     "data": {
      "text/html": [
       "'123456'"
      ],
      "text/latex": [
       "'123456'"
      ],
      "text/markdown": [
       "'123456'"
      ],
      "text/plain": [
       "[1] \"123456\""
      ]
     },
     "metadata": {},
     "output_type": "display_data"
    },
    {
     "data": {
      "text/html": [
       "'1234'"
      ],
      "text/latex": [
       "'1234'"
      ],
      "text/markdown": [
       "'1234'"
      ],
      "text/plain": [
       "[1] \"1234\""
      ]
     },
     "metadata": {},
     "output_type": "display_data"
    },
    {
     "data": {
      "text/html": [
       "'89'"
      ],
      "text/latex": [
       "'89'"
      ],
      "text/markdown": [
       "'89'"
      ],
      "text/plain": [
       "[1] \"89\""
      ]
     },
     "metadata": {},
     "output_type": "display_data"
    },
    {
     "data": {
      "text/html": [
       "'89'"
      ],
      "text/latex": [
       "'89'"
      ],
      "text/markdown": [
       "'89'"
      ],
      "text/plain": [
       "[1] \"89\""
      ]
     },
     "metadata": {},
     "output_type": "display_data"
    },
    {
     "data": {
      "text/html": [
       "<ol class=list-inline>\n",
       "\t<li>'123456'</li>\n",
       "\t<li>'89'</li>\n",
       "</ol>\n"
      ],
      "text/latex": [
       "\\begin{enumerate*}\n",
       "\\item '123456'\n",
       "\\item '89'\n",
       "\\end{enumerate*}\n"
      ],
      "text/markdown": [
       "1. '123456'\n",
       "2. '89'\n",
       "\n",
       "\n"
      ],
      "text/plain": [
       "[1] \"123456\" \"89\"    "
      ]
     },
     "metadata": {},
     "output_type": "display_data"
    },
    {
     "data": {
      "text/html": [
       "'9'"
      ],
      "text/latex": [
       "'9'"
      ],
      "text/markdown": [
       "'9'"
      ],
      "text/plain": [
       "[1] \"9\""
      ]
     },
     "metadata": {},
     "output_type": "display_data"
    },
    {
     "data": {
      "text/html": [
       "'3456789'"
      ],
      "text/latex": [
       "'3456789'"
      ],
      "text/markdown": [
       "'3456789'"
      ],
      "text/plain": [
       "[1] \"3456789\""
      ]
     },
     "metadata": {},
     "output_type": "display_data"
    },
    {
     "data": {
      "text/html": [
       "'123'"
      ],
      "text/latex": [
       "'123'"
      ],
      "text/markdown": [
       "'123'"
      ],
      "text/plain": [
       "[1] \"123\""
      ]
     },
     "metadata": {},
     "output_type": "display_data"
    }
   ],
   "source": [
    "hw <- \"123456789\"\n",
    "\n",
    "#str_sub(string,start=1L,end=-1L)  #get sub string, default start/end\n",
    "str_sub(hw, 1, 6)\n",
    "str_sub(hw, end = 4)\n",
    "str_sub(hw, 8, 14)\n",
    "str_sub(hw, 8)\n",
    "str_sub(hw, c(1, 8), c(6, 14))\n",
    "\n",
    "# Negative indices\n",
    "str_sub(hw, -1)\n",
    "str_sub(hw, -7)\n",
    "str_sub(hw, end = -7)"
   ]
  },
  {
   "cell_type": "code",
   "execution_count": 25,
   "metadata": {
    "scrolled": true
   },
   "outputs": [
    {
     "data": {
      "text/html": [
       "'hello456789'"
      ],
      "text/latex": [
       "'hello456789'"
      ],
      "text/markdown": [
       "'hello456789'"
      ],
      "text/plain": [
       "[1] \"hello456789\""
      ]
     },
     "metadata": {},
     "output_type": "display_data"
    },
    {
     "data": {
      "text/html": [
       "'hello45hello9'"
      ],
      "text/latex": [
       "'hello45hello9'"
      ],
      "text/markdown": [
       "'hello45hello9'"
      ],
      "text/plain": [
       "[1] \"hello45hello9\""
      ]
     },
     "metadata": {},
     "output_type": "display_data"
    }
   ],
   "source": [
    "#str_sub(string,start=1L,end=-1L)<-replacement\n",
    "hw=\"123456789\"\n",
    "str_sub(hw,1,3)<-\"hello\"\n",
    "hw\n",
    "str_sub(hw,8,-2)<-\"hello\"\n",
    "hw"
   ]
  },
  {
   "cell_type": "code",
   "execution_count": 26,
   "metadata": {},
   "outputs": [
    {
     "data": {
      "text/html": [
       "'123123123'"
      ],
      "text/latex": [
       "'123123123'"
      ],
      "text/markdown": [
       "'123123123'"
      ],
      "text/plain": [
       "[1] \"123123123\""
      ]
     },
     "metadata": {},
     "output_type": "display_data"
    },
    {
     "data": {
      "text/html": [
       "<ol class=list-inline>\n",
       "\t<li>'123'</li>\n",
       "\t<li>'123123'</li>\n",
       "\t<li>'123123123'</li>\n",
       "</ol>\n"
      ],
      "text/latex": [
       "\\begin{enumerate*}\n",
       "\\item '123'\n",
       "\\item '123123'\n",
       "\\item '123123123'\n",
       "\\end{enumerate*}\n"
      ],
      "text/markdown": [
       "1. '123'\n",
       "2. '123123'\n",
       "3. '123123123'\n",
       "\n",
       "\n"
      ],
      "text/plain": [
       "[1] \"123\"       \"123123\"    \"123123123\""
      ]
     },
     "metadata": {},
     "output_type": "display_data"
    },
    {
     "data": {
      "text/html": [
       "<ol class=list-inline>\n",
       "\t<li>'123'</li>\n",
       "\t<li>'123123'</li>\n",
       "\t<li>'123123123'</li>\n",
       "</ol>\n"
      ],
      "text/latex": [
       "\\begin{enumerate*}\n",
       "\\item '123'\n",
       "\\item '123123'\n",
       "\\item '123123123'\n",
       "\\end{enumerate*}\n"
      ],
      "text/markdown": [
       "1. '123'\n",
       "2. '123123'\n",
       "3. '123123123'\n",
       "\n",
       "\n"
      ],
      "text/plain": [
       "[1] \"123\"       \"123123\"    \"123123123\""
      ]
     },
     "metadata": {},
     "output_type": "display_data"
    }
   ],
   "source": [
    "str=\"123\"\n",
    "str_dup(str,3)\n",
    "str_dup(str,1:3) \n",
    "c(str_dup(str, 1), str_dup(str, 2), str_dup(str, 3))"
   ]
  },
  {
   "cell_type": "code",
   "execution_count": 27,
   "metadata": {
    "scrolled": true
   },
   "outputs": [
    {
     "data": {
      "text/html": [
       "<ol class=list-inline>\n",
       "\t<li>'appleapple'</li>\n",
       "\t<li>'pearpear'</li>\n",
       "\t<li>'bananabanana'</li>\n",
       "</ol>\n"
      ],
      "text/latex": [
       "\\begin{enumerate*}\n",
       "\\item 'appleapple'\n",
       "\\item 'pearpear'\n",
       "\\item 'bananabanana'\n",
       "\\end{enumerate*}\n"
      ],
      "text/markdown": [
       "1. 'appleapple'\n",
       "2. 'pearpear'\n",
       "3. 'bananabanana'\n",
       "\n",
       "\n"
      ],
      "text/plain": [
       "[1] \"appleapple\"   \"pearpear\"     \"bananabanana\""
      ]
     },
     "metadata": {},
     "output_type": "display_data"
    },
    {
     "data": {
      "text/html": [
       "<ol class=list-inline>\n",
       "\t<li>'apple'</li>\n",
       "\t<li>'pearpear'</li>\n",
       "\t<li>'bananabananabanana'</li>\n",
       "</ol>\n"
      ],
      "text/latex": [
       "\\begin{enumerate*}\n",
       "\\item 'apple'\n",
       "\\item 'pearpear'\n",
       "\\item 'bananabananabanana'\n",
       "\\end{enumerate*}\n"
      ],
      "text/markdown": [
       "1. 'apple'\n",
       "2. 'pearpear'\n",
       "3. 'bananabananabanana'\n",
       "\n",
       "\n"
      ],
      "text/plain": [
       "[1] \"apple\"              \"pearpear\"           \"bananabananabanana\""
      ]
     },
     "metadata": {},
     "output_type": "display_data"
    },
    {
     "data": {
      "text/html": [
       "<ol class=list-inline>\n",
       "\t<li>'ba'</li>\n",
       "\t<li>'bana'</li>\n",
       "\t<li>'banana'</li>\n",
       "\t<li>'bananana'</li>\n",
       "\t<li>'banananana'</li>\n",
       "\t<li>'bananananana'</li>\n",
       "</ol>\n"
      ],
      "text/latex": [
       "\\begin{enumerate*}\n",
       "\\item 'ba'\n",
       "\\item 'bana'\n",
       "\\item 'banana'\n",
       "\\item 'bananana'\n",
       "\\item 'banananana'\n",
       "\\item 'bananananana'\n",
       "\\end{enumerate*}\n"
      ],
      "text/markdown": [
       "1. 'ba'\n",
       "2. 'bana'\n",
       "3. 'banana'\n",
       "4. 'bananana'\n",
       "5. 'banananana'\n",
       "6. 'bananananana'\n",
       "\n",
       "\n"
      ],
      "text/plain": [
       "[1] \"ba\"           \"bana\"         \"banana\"       \"bananana\"     \"banananana\"  \n",
       "[6] \"bananananana\""
      ]
     },
     "metadata": {},
     "output_type": "display_data"
    }
   ],
   "source": [
    "library(stringr)\n",
    "fruit <- c(\"apple\", \"pear\", \"banana\")\n",
    "str_dup(fruit, 2)\n",
    "str_dup(fruit, 1:3)\n",
    "str_c(\"ba\", str_dup(\"na\", 0:5))"
   ]
  },
  {
   "cell_type": "code",
   "execution_count": 28,
   "metadata": {
    "scrolled": true
   },
   "outputs": [
    {
     "data": {
      "text/html": [
       "<span style=white-space:pre-wrap>'sadjlsa   '</span>"
      ],
      "text/latex": [
       "'sadjlsa   '"
      ],
      "text/markdown": [
       "<span style=white-space:pre-wrap>'sadjlsa   '</span>"
      ],
      "text/plain": [
       "[1] \"sadjlsa   \""
      ]
     },
     "metadata": {},
     "output_type": "display_data"
    },
    {
     "data": {
      "text/html": [
       "'sadjlsa'"
      ],
      "text/latex": [
       "'sadjlsa'"
      ],
      "text/markdown": [
       "'sadjlsa'"
      ],
      "text/plain": [
       "[1] \"sadjlsa\""
      ]
     },
     "metadata": {},
     "output_type": "display_data"
    }
   ],
   "source": [
    "#str_trim(string,side=\"both\")\n",
    "a<-\"  sadjlsa   \"\n",
    "str_trim(a,\"left\")\n",
    "str_trim(a,\"both\")"
   ]
  },
  {
   "cell_type": "code",
   "execution_count": 29,
   "metadata": {
    "scrolled": true
   },
   "outputs": [
    {
     "data": {
      "text/html": [
       "'####yellow'"
      ],
      "text/latex": [
       "'\\#\\#\\#\\#yellow'"
      ],
      "text/markdown": [
       "'####yellow'"
      ],
      "text/plain": [
       "[1] \"####yellow\""
      ]
     },
     "metadata": {},
     "output_type": "display_data"
    },
    {
     "data": {
      "text/html": [
       "'yellow****'"
      ],
      "text/latex": [
       "'yellow****'"
      ],
      "text/markdown": [
       "'yellow****'"
      ],
      "text/plain": [
       "[1] \"yellow****\""
      ]
     },
     "metadata": {},
     "output_type": "display_data"
    },
    {
     "data": {
      "text/html": [
       "<ol class=list-inline>\n",
       "\t<li>'**1'</li>\n",
       "\t<li>'**2'</li>\n",
       "\t<li>'**3'</li>\n",
       "\t<li>'**4'</li>\n",
       "\t<li>'**5'</li>\n",
       "\t<li>'**6'</li>\n",
       "\t<li>'**7'</li>\n",
       "\t<li>'**8'</li>\n",
       "\t<li>'**9'</li>\n",
       "\t<li>'*10'</li>\n",
       "\t<li>'*11'</li>\n",
       "\t<li>'*12'</li>\n",
       "\t<li>'*13'</li>\n",
       "\t<li>'*14'</li>\n",
       "\t<li>'*15'</li>\n",
       "\t<li>'*16'</li>\n",
       "\t<li>'*17'</li>\n",
       "\t<li>'*18'</li>\n",
       "\t<li>'*19'</li>\n",
       "\t<li>'*20'</li>\n",
       "</ol>\n"
      ],
      "text/latex": [
       "\\begin{enumerate*}\n",
       "\\item '**1'\n",
       "\\item '**2'\n",
       "\\item '**3'\n",
       "\\item '**4'\n",
       "\\item '**5'\n",
       "\\item '**6'\n",
       "\\item '**7'\n",
       "\\item '**8'\n",
       "\\item '**9'\n",
       "\\item '*10'\n",
       "\\item '*11'\n",
       "\\item '*12'\n",
       "\\item '*13'\n",
       "\\item '*14'\n",
       "\\item '*15'\n",
       "\\item '*16'\n",
       "\\item '*17'\n",
       "\\item '*18'\n",
       "\\item '*19'\n",
       "\\item '*20'\n",
       "\\end{enumerate*}\n"
      ],
      "text/markdown": [
       "1. '**1'\n",
       "2. '**2'\n",
       "3. '**3'\n",
       "4. '**4'\n",
       "5. '**5'\n",
       "6. '**6'\n",
       "7. '**7'\n",
       "8. '**8'\n",
       "9. '**9'\n",
       "10. '*10'\n",
       "11. '*11'\n",
       "12. '*12'\n",
       "13. '*13'\n",
       "14. '*14'\n",
       "15. '*15'\n",
       "16. '*16'\n",
       "17. '*17'\n",
       "18. '*18'\n",
       "19. '*19'\n",
       "20. '*20'\n",
       "\n",
       "\n"
      ],
      "text/plain": [
       " [1] \"**1\" \"**2\" \"**3\" \"**4\" \"**5\" \"**6\" \"**7\" \"**8\" \"**9\" \"*10\" \"*11\" \"*12\"\n",
       "[13] \"*13\" \"*14\" \"*15\" \"*16\" \"*17\" \"*18\" \"*19\" \"*20\""
      ]
     },
     "metadata": {},
     "output_type": "display_data"
    }
   ],
   "source": [
    "str_pad(\"yellow\",10,\"left\",pad=\"#\")\n",
    "str_pad(\"yellow\",10,\"right\",pad=\"*\")\n",
    "str_pad(1:20,3,\"left\",pad=\"*\")"
   ]
  },
  {
   "cell_type": "code",
   "execution_count": 30,
   "metadata": {},
   "outputs": [
    {
     "data": {
      "text/html": [
       "<ol class=list-inline>\n",
       "\t<li>5</li>\n",
       "\t<li>0</li>\n",
       "\t<li>0</li>\n",
       "</ol>\n"
      ],
      "text/latex": [
       "\\begin{enumerate*}\n",
       "\\item 5\n",
       "\\item 0\n",
       "\\item 0\n",
       "\\end{enumerate*}\n"
      ],
      "text/markdown": [
       "1. 5\n",
       "2. 0\n",
       "3. 0\n",
       "\n",
       "\n"
      ],
      "text/plain": [
       "[1] 5 0 0"
      ]
     },
     "metadata": {},
     "output_type": "display_data"
    },
    {
     "data": {
      "text/html": [
       "<ol class=list-inline>\n",
       "\t<li>TRUE</li>\n",
       "\t<li>FALSE</li>\n",
       "\t<li>FALSE</li>\n",
       "</ol>\n"
      ],
      "text/latex": [
       "\\begin{enumerate*}\n",
       "\\item TRUE\n",
       "\\item FALSE\n",
       "\\item FALSE\n",
       "\\end{enumerate*}\n"
      ],
      "text/markdown": [
       "1. TRUE\n",
       "2. FALSE\n",
       "3. FALSE\n",
       "\n",
       "\n"
      ],
      "text/plain": [
       "[1]  TRUE FALSE FALSE"
      ]
     },
     "metadata": {},
     "output_type": "display_data"
    }
   ],
   "source": [
    "str<-c(\"abcdedf\",\"aaa\",\"bbb\")\n",
    "str_count(str,\"[^ab]\")\n",
    "str_detect(str,\"[^ab]\")"
   ]
  },
  {
   "cell_type": "code",
   "execution_count": 31,
   "metadata": {},
   "outputs": [
    {
     "data": {
      "text/html": [
       "<ol>\n",
       "\t<li><table>\n",
       "<tbody>\n",
       "\t<tr><td>c</td></tr>\n",
       "\t<tr><td>d</td></tr>\n",
       "\t<tr><td>e</td></tr>\n",
       "\t<tr><td>d</td></tr>\n",
       "\t<tr><td>f</td></tr>\n",
       "</tbody>\n",
       "</table>\n",
       "</li>\n",
       "\t<li></li>\n",
       "\t<li></li>\n",
       "</ol>\n"
      ],
      "text/latex": [
       "\\begin{enumerate}\n",
       "\\item \\begin{tabular}{l}\n",
       "\t c\\\\\n",
       "\t d\\\\\n",
       "\t e\\\\\n",
       "\t d\\\\\n",
       "\t f\\\\\n",
       "\\end{tabular}\n",
       "\n",
       "\\item \n",
       "\\item \n",
       "\\end{enumerate}\n"
      ],
      "text/markdown": [
       "1. \n",
       "| c | \n",
       "| d | \n",
       "| e | \n",
       "| d | \n",
       "| f | \n",
       "\n",
       "\n",
       "\n",
       "2. \n",
       "3. \n",
       "\n",
       "\n"
      ],
      "text/plain": [
       "[[1]]\n",
       "     [,1]\n",
       "[1,] \"c\" \n",
       "[2,] \"d\" \n",
       "[3,] \"e\" \n",
       "[4,] \"d\" \n",
       "[5,] \"f\" \n",
       "\n",
       "[[2]]\n",
       "     [,1]\n",
       "\n",
       "[[3]]\n",
       "     [,1]\n"
      ]
     },
     "metadata": {},
     "output_type": "display_data"
    }
   ],
   "source": [
    "strs<-c(\"abcdedf\",\"aaa\",\"bbb\")\n",
    "mat=\"[^ab]\"\n",
    "str_match_all(string = strs, pattern = mat)"
   ]
  },
  {
   "cell_type": "code",
   "execution_count": 32,
   "metadata": {
    "scrolled": true
   },
   "outputs": [
    {
     "data": {
      "text/html": [
       "<ol class=list-inline>\n",
       "\t<li>TRUE</li>\n",
       "\t<li>TRUE</li>\n",
       "\t<li>FALSE</li>\n",
       "</ol>\n"
      ],
      "text/latex": [
       "\\begin{enumerate*}\n",
       "\\item TRUE\n",
       "\\item TRUE\n",
       "\\item FALSE\n",
       "\\end{enumerate*}\n"
      ],
      "text/markdown": [
       "1. TRUE\n",
       "2. TRUE\n",
       "3. FALSE\n",
       "\n",
       "\n"
      ],
      "text/plain": [
       "[1]  TRUE  TRUE FALSE"
      ]
     },
     "metadata": {},
     "output_type": "display_data"
    }
   ],
   "source": [
    "str<-c(\"abcdedf\",\"aaa\",\"bbb\")\n",
    "str_detect(str,\"a\")"
   ]
  },
  {
   "cell_type": "code",
   "execution_count": 33,
   "metadata": {},
   "outputs": [
    {
     "data": {
      "text/html": [
       "<table>\n",
       "<thead><tr><th scope=col>start</th><th scope=col>end</th></tr></thead>\n",
       "<tbody>\n",
       "\t<tr><td>2</td><td>5</td></tr>\n",
       "\t<tr><td>6</td><td>6</td></tr>\n",
       "\t<tr><td>2</td><td>8</td></tr>\n",
       "</tbody>\n",
       "</table>\n"
      ],
      "text/latex": [
       "\\begin{tabular}{ll}\n",
       " start & end\\\\\n",
       "\\hline\n",
       "\t 2 & 5\\\\\n",
       "\t 6 & 6\\\\\n",
       "\t 2 & 8\\\\\n",
       "\\end{tabular}\n"
      ],
      "text/markdown": [
       "\n",
       "start | end | \n",
       "|---|---|---|\n",
       "| 2 | 5 | \n",
       "| 6 | 6 | \n",
       "| 2 | 8 | \n",
       "\n",
       "\n"
      ],
      "text/plain": [
       "     start end\n",
       "[1,] 2     5  \n",
       "[2,] 6     6  \n",
       "[3,] 2     8  "
      ]
     },
     "metadata": {},
     "output_type": "display_data"
    }
   ],
   "source": [
    "str1<-c(\"sfdfg\",\"ulkdsf\",\"yfellofw\")\n",
    "x=str_locate(str1,\"f.*\") #matrix return the index of first position of the match and the end position (not the last match)\n",
    "x"
   ]
  },
  {
   "cell_type": "code",
   "execution_count": 34,
   "metadata": {},
   "outputs": [
    {
     "data": {
      "text/html": [
       "<table>\n",
       "<thead><tr><th scope=col>start</th><th scope=col>end</th></tr></thead>\n",
       "<tbody>\n",
       "\t<tr><td>2</td><td>2</td></tr>\n",
       "\t<tr><td>6</td><td>6</td></tr>\n",
       "\t<tr><td>2</td><td>2</td></tr>\n",
       "</tbody>\n",
       "</table>\n"
      ],
      "text/latex": [
       "\\begin{tabular}{ll}\n",
       " start & end\\\\\n",
       "\\hline\n",
       "\t 2 & 2\\\\\n",
       "\t 6 & 6\\\\\n",
       "\t 2 & 2\\\\\n",
       "\\end{tabular}\n"
      ],
      "text/markdown": [
       "\n",
       "start | end | \n",
       "|---|---|---|\n",
       "| 2 | 2 | \n",
       "| 6 | 6 | \n",
       "| 2 | 2 | \n",
       "\n",
       "\n"
      ],
      "text/plain": [
       "     start end\n",
       "[1,] 2     2  \n",
       "[2,] 6     6  \n",
       "[3,] 2     2  "
      ]
     },
     "metadata": {},
     "output_type": "display_data"
    }
   ],
   "source": [
    "x=str_locate(str1,\"f.*?\")\n",
    "# class(x)\n",
    "x"
   ]
  },
  {
   "cell_type": "code",
   "execution_count": 35,
   "metadata": {},
   "outputs": [
    {
     "data": {
      "text/html": [
       "<table>\n",
       "<thead><tr><th scope=col>start</th><th scope=col>end</th></tr></thead>\n",
       "<tbody>\n",
       "\t<tr><td> 2</td><td> 4</td></tr>\n",
       "\t<tr><td>NA</td><td>NA</td></tr>\n",
       "\t<tr><td> 2</td><td> 7</td></tr>\n",
       "</tbody>\n",
       "</table>\n"
      ],
      "text/latex": [
       "\\begin{tabular}{ll}\n",
       " start & end\\\\\n",
       "\\hline\n",
       "\t  2 &  4\\\\\n",
       "\t NA & NA\\\\\n",
       "\t  2 &  7\\\\\n",
       "\\end{tabular}\n"
      ],
      "text/markdown": [
       "\n",
       "start | end | \n",
       "|---|---|---|\n",
       "|  2 |  4 | \n",
       "| NA | NA | \n",
       "|  2 |  7 | \n",
       "\n",
       "\n"
      ],
      "text/plain": [
       "     start end\n",
       "[1,]  2     4 \n",
       "[2,] NA    NA \n",
       "[3,]  2     7 "
      ]
     },
     "metadata": {},
     "output_type": "display_data"
    }
   ],
   "source": [
    "str_locate(str1,\"f.*?f\")"
   ]
  },
  {
   "cell_type": "code",
   "execution_count": 36,
   "metadata": {
    "scrolled": false
   },
   "outputs": [
    {
     "data": {
      "text/html": [
       "'list'"
      ],
      "text/latex": [
       "'list'"
      ],
      "text/markdown": [
       "'list'"
      ],
      "text/plain": [
       "[1] \"list\""
      ]
     },
     "metadata": {},
     "output_type": "display_data"
    },
    {
     "data": {
      "text/html": [
       "'matrix'"
      ],
      "text/latex": [
       "'matrix'"
      ],
      "text/markdown": [
       "'matrix'"
      ],
      "text/plain": [
       "[1] \"matrix\""
      ]
     },
     "metadata": {},
     "output_type": "display_data"
    },
    {
     "data": {
      "text/html": [
       "<ol>\n",
       "\t<li><table>\n",
       "<thead><tr><th scope=col>start</th><th scope=col>end</th></tr></thead>\n",
       "<tbody>\n",
       "\t<tr><td>2</td><td>3</td></tr>\n",
       "\t<tr><td>4</td><td>5</td></tr>\n",
       "</tbody>\n",
       "</table>\n",
       "</li>\n",
       "\t<li><table>\n",
       "<thead><tr><th scope=col>start</th><th scope=col>end</th></tr></thead>\n",
       "<tbody>\n",
       "</tbody>\n",
       "</table>\n",
       "</li>\n",
       "\t<li><table>\n",
       "<thead><tr><th scope=col>start</th><th scope=col>end</th></tr></thead>\n",
       "<tbody>\n",
       "\t<tr><td>2</td><td>3</td></tr>\n",
       "\t<tr><td>7</td><td>8</td></tr>\n",
       "</tbody>\n",
       "</table>\n",
       "</li>\n",
       "</ol>\n"
      ],
      "text/latex": [
       "\\begin{enumerate}\n",
       "\\item \\begin{tabular}{ll}\n",
       " start & end\\\\\n",
       "\\hline\n",
       "\t 2 & 3\\\\\n",
       "\t 4 & 5\\\\\n",
       "\\end{tabular}\n",
       "\n",
       "\\item \\begin{tabular}{ll}\n",
       " start & end\\\\\n",
       "\\hline\n",
       "\\end{tabular}\n",
       "\n",
       "\\item \\begin{tabular}{ll}\n",
       " start & end\\\\\n",
       "\\hline\n",
       "\t 2 & 3\\\\\n",
       "\t 7 & 8\\\\\n",
       "\\end{tabular}\n",
       "\n",
       "\\end{enumerate}\n"
      ],
      "text/markdown": [
       "1. \n",
       "start | end | \n",
       "|---|---|\n",
       "| 2 | 3 | \n",
       "| 4 | 5 | \n",
       "\n",
       "\n",
       "\n",
       "2. \n",
       "start | end | \n",
       "||\n",
       "\n",
       "\n",
       "\n",
       "3. \n",
       "start | end | \n",
       "|---|---|\n",
       "| 2 | 3 | \n",
       "| 7 | 8 | \n",
       "\n",
       "\n",
       "\n",
       "\n",
       "\n"
      ],
      "text/plain": [
       "[[1]]\n",
       "     start end\n",
       "[1,]     2   3\n",
       "[2,]     4   5\n",
       "\n",
       "[[2]]\n",
       "     start end\n",
       "\n",
       "[[3]]\n",
       "     start end\n",
       "[1,]     2   3\n",
       "[2,]     7   8\n"
      ]
     },
     "metadata": {},
     "output_type": "display_data"
    }
   ],
   "source": [
    "x=str_locate_all(str1,\"f.\") #list of matrix, all indices of matches\n",
    "class(x)\n",
    "class(x[[1]])\n",
    "x"
   ]
  },
  {
   "cell_type": "code",
   "execution_count": 37,
   "metadata": {},
   "outputs": [
    {
     "data": {
      "text/html": [
       "<ol class=list-inline>\n",
       "\t<li>'a'</li>\n",
       "\t<li>'a'</li>\n",
       "\t<li>'a'</li>\n",
       "</ol>\n"
      ],
      "text/latex": [
       "\\begin{enumerate*}\n",
       "\\item 'a'\n",
       "\\item 'a'\n",
       "\\item 'a'\n",
       "\\end{enumerate*}\n"
      ],
      "text/markdown": [
       "1. 'a'\n",
       "2. 'a'\n",
       "3. 'a'\n",
       "\n",
       "\n"
      ],
      "text/plain": [
       "[1] \"a\" \"a\" \"a\""
      ]
     },
     "metadata": {},
     "output_type": "display_data"
    },
    {
     "data": {
      "text/html": [
       "<ol class=list-inline>\n",
       "\t<li>'ab'</li>\n",
       "\t<li>'aa'</li>\n",
       "\t<li>'ab'</li>\n",
       "</ol>\n"
      ],
      "text/latex": [
       "\\begin{enumerate*}\n",
       "\\item 'ab'\n",
       "\\item 'aa'\n",
       "\\item 'ab'\n",
       "\\end{enumerate*}\n"
      ],
      "text/markdown": [
       "1. 'ab'\n",
       "2. 'aa'\n",
       "3. 'ab'\n",
       "\n",
       "\n"
      ],
      "text/plain": [
       "[1] \"ab\" \"aa\" \"ab\""
      ]
     },
     "metadata": {},
     "output_type": "display_data"
    },
    {
     "data": {
      "text/html": [
       "<ol class=list-inline>\n",
       "\t<li>NA</li>\n",
       "\t<li>NA</li>\n",
       "\t<li>'(bb)'</li>\n",
       "</ol>\n"
      ],
      "text/latex": [
       "\\begin{enumerate*}\n",
       "\\item NA\n",
       "\\item NA\n",
       "\\item '(bb)'\n",
       "\\end{enumerate*}\n"
      ],
      "text/markdown": [
       "1. NA\n",
       "2. NA\n",
       "3. '(bb)'\n",
       "\n",
       "\n"
      ],
      "text/plain": [
       "[1] NA     NA     \"(bb)\""
      ]
     },
     "metadata": {},
     "output_type": "display_data"
    },
    {
     "data": {
      "text/html": [
       "<ol class=list-inline>\n",
       "\t<li>'.'</li>\n",
       "\t<li>NA</li>\n",
       "\t<li>NA</li>\n",
       "</ol>\n"
      ],
      "text/latex": [
       "\\begin{enumerate*}\n",
       "\\item '.'\n",
       "\\item NA\n",
       "\\item NA\n",
       "\\end{enumerate*}\n"
      ],
      "text/markdown": [
       "1. '.'\n",
       "2. NA\n",
       "3. NA\n",
       "\n",
       "\n"
      ],
      "text/plain": [
       "[1] \".\" NA  NA "
      ]
     },
     "metadata": {},
     "output_type": "display_data"
    },
    {
     "data": {
      "text/html": [
       "<ol>\n",
       "\t<li>'a'</li>\n",
       "\t<li><ol class=list-inline>\n",
       "\t<li>'a'</li>\n",
       "\t<li>'a'</li>\n",
       "\t<li>'a'</li>\n",
       "</ol>\n",
       "</li>\n",
       "\t<li><ol class=list-inline>\n",
       "\t<li>'a'</li>\n",
       "\t<li>'a'</li>\n",
       "</ol>\n",
       "</li>\n",
       "</ol>\n"
      ],
      "text/latex": [
       "\\begin{enumerate}\n",
       "\\item 'a'\n",
       "\\item \\begin{enumerate*}\n",
       "\\item 'a'\n",
       "\\item 'a'\n",
       "\\item 'a'\n",
       "\\end{enumerate*}\n",
       "\n",
       "\\item \\begin{enumerate*}\n",
       "\\item 'a'\n",
       "\\item 'a'\n",
       "\\end{enumerate*}\n",
       "\n",
       "\\end{enumerate}\n"
      ],
      "text/markdown": [
       "1. 'a'\n",
       "2. 1. 'a'\n",
       "2. 'a'\n",
       "3. 'a'\n",
       "\n",
       "\n",
       "\n",
       "3. 1. 'a'\n",
       "2. 'a'\n",
       "\n",
       "\n",
       "\n",
       "\n",
       "\n"
      ],
      "text/plain": [
       "[[1]]\n",
       "[1] \"a\"\n",
       "\n",
       "[[2]]\n",
       "[1] \"a\" \"a\" \"a\"\n",
       "\n",
       "[[3]]\n",
       "[1] \"a\" \"a\"\n"
      ]
     },
     "metadata": {},
     "output_type": "display_data"
    },
    {
     "data": {
      "text/html": [
       "<ol>\n",
       "\t<li>'ab'</li>\n",
       "\t<li>'aa'</li>\n",
       "\t<li><ol class=list-inline>\n",
       "\t<li>'ab'</li>\n",
       "\t<li>'ac'</li>\n",
       "</ol>\n",
       "</li>\n",
       "</ol>\n"
      ],
      "text/latex": [
       "\\begin{enumerate}\n",
       "\\item 'ab'\n",
       "\\item 'aa'\n",
       "\\item \\begin{enumerate*}\n",
       "\\item 'ab'\n",
       "\\item 'ac'\n",
       "\\end{enumerate*}\n",
       "\n",
       "\\end{enumerate}\n"
      ],
      "text/markdown": [
       "1. 'ab'\n",
       "2. 'aa'\n",
       "3. 1. 'ab'\n",
       "2. 'ac'\n",
       "\n",
       "\n",
       "\n",
       "\n",
       "\n"
      ],
      "text/plain": [
       "[[1]]\n",
       "[1] \"ab\"\n",
       "\n",
       "[[2]]\n",
       "[1] \"aa\"\n",
       "\n",
       "[[3]]\n",
       "[1] \"ab\" \"ac\"\n"
      ]
     },
     "metadata": {},
     "output_type": "display_data"
    }
   ],
   "source": [
    "str<-c(\"abcde.df\",\"aaa\",\"ab(bb)ac\")\n",
    "str_extract(str,\"a\") #char vector\n",
    "str_extract(str,\"a.\") #char vector\n",
    "str_extract(str,\"\\\\(.*\\\\)\") #char vector\n",
    "str_extract(str,\"\\\\.\") #char vector\n",
    "str_extract_all(str,\"a\") #list of char vectors\n",
    "str_extract_all(str,\"a.\") #list of char vectors"
   ]
  },
  {
   "cell_type": "code",
   "execution_count": 38,
   "metadata": {
    "scrolled": true
   },
   "outputs": [
    {
     "data": {
      "text/html": [
       "'dsk'"
      ],
      "text/latex": [
       "'dsk'"
      ],
      "text/markdown": [
       "'dsk'"
      ],
      "text/plain": [
       "[1] \"dsk\""
      ]
     },
     "metadata": {},
     "output_type": "display_data"
    },
    {
     "data": {
      "text/html": [
       "'#ddsjh#dsk'"
      ],
      "text/latex": [
       "'\\#ddsjh\\#dsk'"
      ],
      "text/markdown": [
       "'#ddsjh#dsk'"
      ],
      "text/plain": [
       "[1] \"#ddsjh#dsk\""
      ]
     },
     "metadata": {},
     "output_type": "display_data"
    }
   ],
   "source": [
    "str3<-\"addsjhadsk\"\n",
    "str_replace(str3,\"a.*a\",\"\") #replace first match\n",
    "str_replace_all(str3,\"a\",\"#\") #replace all matches"
   ]
  },
  {
   "cell_type": "code",
   "execution_count": 39,
   "metadata": {},
   "outputs": [
    {
     "data": {
      "text/html": [
       "<ol>\n",
       "\t<li><ol class=list-inline>\n",
       "\t<li>''</li>\n",
       "\t<li>'bcddseasdafs'</li>\n",
       "</ol>\n",
       "</li>\n",
       "</ol>\n"
      ],
      "text/latex": [
       "\\begin{enumerate}\n",
       "\\item \\begin{enumerate*}\n",
       "\\item ''\n",
       "\\item 'bcddseasdafs'\n",
       "\\end{enumerate*}\n",
       "\n",
       "\\end{enumerate}\n"
      ],
      "text/markdown": [
       "1. 1. ''\n",
       "2. 'bcddseasdafs'\n",
       "\n",
       "\n",
       "\n",
       "\n",
       "\n"
      ],
      "text/plain": [
       "[[1]]\n",
       "[1] \"\"             \"bcddseasdafs\"\n"
      ]
     },
     "metadata": {},
     "output_type": "display_data"
    },
    {
     "data": {
      "text/html": [
       "'list'"
      ],
      "text/latex": [
       "'list'"
      ],
      "text/markdown": [
       "'list'"
      ],
      "text/plain": [
       "[1] \"list\""
      ]
     },
     "metadata": {},
     "output_type": "display_data"
    },
    {
     "name": "stdout",
     "output_type": "stream",
     "text": [
      "[[1]]\n",
      "[1] \"\"       \"bcddse\" \"sdafs\" \n",
      "\n"
     ]
    }
   ],
   "source": [
    "#str_split(string,pattern,n=Inf)\n",
    "str3<-\"abcddseasdafs\"\n",
    "str_split(str3,\"a\",2)\n",
    "x=str_split(str3,\"a\",3) #list of vectors\n",
    "class(x);\n",
    "print(x)"
   ]
  },
  {
   "cell_type": "code",
   "execution_count": 40,
   "metadata": {},
   "outputs": [
    {
     "data": {
      "text/html": [
       "'matrix'"
      ],
      "text/latex": [
       "'matrix'"
      ],
      "text/markdown": [
       "'matrix'"
      ],
      "text/plain": [
       "[1] \"matrix\""
      ]
     },
     "metadata": {},
     "output_type": "display_data"
    },
    {
     "name": "stdout",
     "output_type": "stream",
     "text": [
      "     [,1] [,2]   [,3]  [,4]         \n",
      "[1,] \"c\"  \"kdfj\" \"dsj\" \"fdasfsadfaf\"\n"
     ]
    }
   ],
   "source": [
    "#str_split_fixed(string,pattern,n) # n is max\n",
    "str3=\"cakdfjadsjafdasfsadfaf\"\n",
    "x=str_split_fixed(str3,\"a\",4) #matrix\n",
    "class(x)\n",
    "print(x)"
   ]
  },
  {
   "cell_type": "code",
   "execution_count": 41,
   "metadata": {
    "scrolled": false
   },
   "outputs": [
    {
     "data": {
      "text/html": [
       "<span style=white-space:pre-wrap>'bbbb cccc                 efg sadf    sdf'</span>"
      ],
      "text/latex": [
       "'bbbb cccc                 efg sadf    sdf'"
      ],
      "text/markdown": [
       "<span style=white-space:pre-wrap>'bbbb cccc                 efg sadf    sdf'</span>"
      ],
      "text/plain": [
       "[1] \"bbbb cccc                 efg sadf    sdf\""
      ]
     },
     "metadata": {},
     "output_type": "display_data"
    },
    {
     "data": {
      "text/html": [
       "<span style=white-space:pre-wrap>'bbbb cccc                '</span>"
      ],
      "text/latex": [
       "'bbbb cccc                '"
      ],
      "text/markdown": [
       "<span style=white-space:pre-wrap>'bbbb cccc                '</span>"
      ],
      "text/plain": [
       "[1] \"bbbb cccc                \""
      ]
     },
     "metadata": {},
     "output_type": "display_data"
    },
    {
     "data": {
      "text/html": [
       "<span style=white-space:pre-wrap>'bbbb cccc                 efg'</span>"
      ],
      "text/latex": [
       "'bbbb cccc                 efg'"
      ],
      "text/markdown": [
       "<span style=white-space:pre-wrap>'bbbb cccc                 efg'</span>"
      ],
      "text/plain": [
       "[1] \"bbbb cccc                 efg\""
      ]
     },
     "metadata": {},
     "output_type": "display_data"
    },
    {
     "data": {
      "text/html": [
       "<span style=white-space:pre-wrap>'cccc                 efg'</span>"
      ],
      "text/latex": [
       "'cccc                 efg'"
      ],
      "text/markdown": [
       "<span style=white-space:pre-wrap>'cccc                 efg'</span>"
      ],
      "text/plain": [
       "[1] \"cccc                 efg\""
      ]
     },
     "metadata": {},
     "output_type": "display_data"
    }
   ],
   "source": [
    "#word(string,start=1L,end=start,sep=fixed(\"\")) #substring without truncate word\n",
    "data<-c(\"a bbbb cccc                 efg sadf    sdf\")\n",
    "word(data,2,-1)#-1 is the last\n",
    "word(data,2, 19)\n",
    "word(data,2, 20)\n",
    "word(data,3, 20)"
   ]
  },
  {
   "cell_type": "code",
   "execution_count": 42,
   "metadata": {
    "scrolled": true
   },
   "outputs": [
    {
     "data": {
      "text/html": [
       "<ol class=list-inline>\n",
       "\t<li>'21anos'</li>\n",
       "\t<li>'22anos'</li>\n",
       "\t<li>'23anos'</li>\n",
       "\t<li>'24anos'</li>\n",
       "</ol>\n"
      ],
      "text/latex": [
       "\\begin{enumerate*}\n",
       "\\item '21anos'\n",
       "\\item '22anos'\n",
       "\\item '23anos'\n",
       "\\item '24anos'\n",
       "\\end{enumerate*}\n"
      ],
      "text/markdown": [
       "1. '21anos'\n",
       "2. '22anos'\n",
       "3. '23anos'\n",
       "4. '24anos'\n",
       "\n",
       "\n"
      ],
      "text/plain": [
       "[1] \"21anos\" \"22anos\" \"23anos\" \"24anos\""
      ]
     },
     "metadata": {},
     "output_type": "display_data"
    },
    {
     "data": {
      "text/html": [
       "<ol class=list-inline>\n",
       "\t<li>'21years old'</li>\n",
       "\t<li>'22years old'</li>\n",
       "\t<li>'23years old'</li>\n",
       "\t<li>'24years old'</li>\n",
       "</ol>\n"
      ],
      "text/latex": [
       "\\begin{enumerate*}\n",
       "\\item '21years old'\n",
       "\\item '22years old'\n",
       "\\item '23years old'\n",
       "\\item '24years old'\n",
       "\\end{enumerate*}\n"
      ],
      "text/markdown": [
       "1. '21years old'\n",
       "2. '22years old'\n",
       "3. '23years old'\n",
       "4. '24years old'\n",
       "\n",
       "\n"
      ],
      "text/plain": [
       "[1] \"21years old\" \"22years old\" \"23years old\" \"24years old\""
      ]
     },
     "metadata": {},
     "output_type": "display_data"
    },
    {
     "data": {
      "text/html": [
       "<ol class=list-inline>\n",
       "\t<li>'21'</li>\n",
       "\t<li>'22'</li>\n",
       "\t<li>'23'</li>\n",
       "\t<li>'24'</li>\n",
       "</ol>\n"
      ],
      "text/latex": [
       "\\begin{enumerate*}\n",
       "\\item '21'\n",
       "\\item '22'\n",
       "\\item '23'\n",
       "\\item '24'\n",
       "\\end{enumerate*}\n"
      ],
      "text/markdown": [
       "1. '21'\n",
       "2. '22'\n",
       "3. '23'\n",
       "4. '24'\n",
       "\n",
       "\n"
      ],
      "text/plain": [
       "[1] \"21\" \"22\" \"23\" \"24\""
      ]
     },
     "metadata": {},
     "output_type": "display_data"
    },
    {
     "data": {
      "text/html": [
       "<ol class=list-inline>\n",
       "\t<li>21</li>\n",
       "\t<li>22</li>\n",
       "\t<li>23</li>\n",
       "\t<li>24</li>\n",
       "</ol>\n"
      ],
      "text/latex": [
       "\\begin{enumerate*}\n",
       "\\item 21\n",
       "\\item 22\n",
       "\\item 23\n",
       "\\item 24\n",
       "\\end{enumerate*}\n"
      ],
      "text/markdown": [
       "1. 21\n",
       "2. 22\n",
       "3. 23\n",
       "4. 24\n",
       "\n",
       "\n"
      ],
      "text/plain": [
       "[1] 21 22 23 24"
      ]
     },
     "metadata": {},
     "output_type": "display_data"
    }
   ],
   "source": [
    "age<-c(\"21anos\",\"22anos\",\"23anos\",\"24anos\");age\n",
    "age_replace<-str_replace(age,\"anos\",\"years old\")\n",
    "age_replace\n",
    "age_replace<-str_replace(age,\"anos\",\"\")\n",
    "age_replace\n",
    "age_numeric<-as.numeric(age_replace)\n",
    "age_numeric"
   ]
  },
  {
   "cell_type": "code",
   "execution_count": 43,
   "metadata": {
    "scrolled": true
   },
   "outputs": [
    {
     "data": {
      "text/html": [
       "<table>\n",
       "<thead><tr><th scope=col>start</th><th scope=col>end</th></tr></thead>\n",
       "<tbody>\n",
       "\t<tr><td>2</td><td>2</td></tr>\n",
       "\t<tr><td>2</td><td>2</td></tr>\n",
       "\t<tr><td>2</td><td>2</td></tr>\n",
       "\t<tr><td>2</td><td>2</td></tr>\n",
       "</tbody>\n",
       "</table>\n"
      ],
      "text/latex": [
       "\\begin{tabular}{ll}\n",
       " start & end\\\\\n",
       "\\hline\n",
       "\t 2 & 2\\\\\n",
       "\t 2 & 2\\\\\n",
       "\t 2 & 2\\\\\n",
       "\t 2 & 2\\\\\n",
       "\\end{tabular}\n"
      ],
      "text/markdown": [
       "\n",
       "start | end | \n",
       "|---|---|---|---|\n",
       "| 2 | 2 | \n",
       "| 2 | 2 | \n",
       "| 2 | 2 | \n",
       "| 2 | 2 | \n",
       "\n",
       "\n"
      ],
      "text/plain": [
       "     start end\n",
       "[1,] 2     2  \n",
       "[2,] 2     2  \n",
       "[3,] 2     2  \n",
       "[4,] 2     2  "
      ]
     },
     "metadata": {},
     "output_type": "display_data"
    },
    {
     "data": {
      "text/html": [
       "<ol class=list-inline>\n",
       "\t<li>1</li>\n",
       "\t<li>1</li>\n",
       "\t<li>1</li>\n",
       "\t<li>1</li>\n",
       "</ol>\n"
      ],
      "text/latex": [
       "\\begin{enumerate*}\n",
       "\\item 1\n",
       "\\item 1\n",
       "\\item 1\n",
       "\\item 1\n",
       "\\end{enumerate*}\n"
      ],
      "text/markdown": [
       "1. 1\n",
       "2. 1\n",
       "3. 1\n",
       "4. 1\n",
       "\n",
       "\n"
      ],
      "text/plain": [
       "[1] 1 1 1 1"
      ]
     },
     "metadata": {},
     "output_type": "display_data"
    },
    {
     "data": {
      "text/html": [
       "<ol class=list-inline>\n",
       "\t<li>'a'</li>\n",
       "\t<li>'b'</li>\n",
       "\t<li>'d'</li>\n",
       "\t<li>'u'</li>\n",
       "</ol>\n"
      ],
      "text/latex": [
       "\\begin{enumerate*}\n",
       "\\item 'a'\n",
       "\\item 'b'\n",
       "\\item 'd'\n",
       "\\item 'u'\n",
       "\\end{enumerate*}\n"
      ],
      "text/markdown": [
       "1. 'a'\n",
       "2. 'b'\n",
       "3. 'd'\n",
       "4. 'u'\n",
       "\n",
       "\n"
      ],
      "text/plain": [
       "[1] \"a\" \"b\" \"d\" \"u\""
      ]
     },
     "metadata": {},
     "output_type": "display_data"
    },
    {
     "data": {
      "text/html": [
       "<ol class=list-inline>\n",
       "\t<li>'b'</li>\n",
       "\t<li>'c'</li>\n",
       "\t<li>'e'</li>\n",
       "\t<li>'p'</li>\n",
       "</ol>\n"
      ],
      "text/latex": [
       "\\begin{enumerate*}\n",
       "\\item 'b'\n",
       "\\item 'c'\n",
       "\\item 'e'\n",
       "\\item 'p'\n",
       "\\end{enumerate*}\n"
      ],
      "text/markdown": [
       "1. 'b'\n",
       "2. 'c'\n",
       "3. 'e'\n",
       "4. 'p'\n",
       "\n",
       "\n"
      ],
      "text/plain": [
       "[1] \"b\" \"c\" \"e\" \"p\""
      ]
     },
     "metadata": {},
     "output_type": "display_data"
    }
   ],
   "source": [
    "vec=c(\"a-b\",\"b-c\",\"d#e\",\"u-p\")\n",
    "sep_loc=str_locate(vec,\"-|#\")\n",
    "sep_loc\n",
    "sep_loc[,1]-1\n",
    "left=str_sub(vec,0,sep_loc[,1]-1)\n",
    "left\n",
    "right=str_sub(vec,sep_loc[,1]+1,str_length(vec))\n",
    "right"
   ]
  },
  {
   "cell_type": "code",
   "execution_count": 44,
   "metadata": {
    "scrolled": true
   },
   "outputs": [
    {
     "data": {
      "text/html": [
       "<ol class=list-inline>\n",
       "\t<li>'219 733 8965'</li>\n",
       "\t<li>'329-293-8753'</li>\n",
       "\t<li>NA</li>\n",
       "\t<li>'595 794 7569'</li>\n",
       "\t<li>'387 287 6718'</li>\n",
       "\t<li>NA</li>\n",
       "\t<li>'233.398.9187'</li>\n",
       "\t<li>'482 952 3315'</li>\n",
       "\t<li>'239 923 8115'</li>\n",
       "\t<li>'579-499-7527'</li>\n",
       "\t<li>NA</li>\n",
       "\t<li>'543.355.3679'</li>\n",
       "</ol>\n"
      ],
      "text/latex": [
       "\\begin{enumerate*}\n",
       "\\item '219 733 8965'\n",
       "\\item '329-293-8753'\n",
       "\\item NA\n",
       "\\item '595 794 7569'\n",
       "\\item '387 287 6718'\n",
       "\\item NA\n",
       "\\item '233.398.9187'\n",
       "\\item '482 952 3315'\n",
       "\\item '239 923 8115'\n",
       "\\item '579-499-7527'\n",
       "\\item NA\n",
       "\\item '543.355.3679'\n",
       "\\end{enumerate*}\n"
      ],
      "text/markdown": [
       "1. '219 733 8965'\n",
       "2. '329-293-8753'\n",
       "3. NA\n",
       "4. '595 794 7569'\n",
       "5. '387 287 6718'\n",
       "6. NA\n",
       "7. '233.398.9187'\n",
       "8. '482 952 3315'\n",
       "9. '239 923 8115'\n",
       "10. '579-499-7527'\n",
       "11. NA\n",
       "12. '543.355.3679'\n",
       "\n",
       "\n"
      ],
      "text/plain": [
       " [1] \"219 733 8965\" \"329-293-8753\" NA             \"595 794 7569\" \"387 287 6718\"\n",
       " [6] NA             \"233.398.9187\" \"482 952 3315\" \"239 923 8115\" \"579-499-7527\"\n",
       "[11] NA             \"543.355.3679\""
      ]
     },
     "metadata": {},
     "output_type": "display_data"
    },
    {
     "data": {
      "text/html": [
       "<ol>\n",
       "\t<li>'219 733 8965'</li>\n",
       "\t<li>'329-293-8753'</li>\n",
       "\t<li></li>\n",
       "\t<li>'595 794 7569'</li>\n",
       "\t<li>'387 287 6718'</li>\n",
       "\t<li></li>\n",
       "\t<li>'233.398.9187'</li>\n",
       "\t<li>'482 952 3315'</li>\n",
       "\t<li><ol class=list-inline>\n",
       "\t<li>'239 923 8115'</li>\n",
       "\t<li>'842 566 4692'</li>\n",
       "</ol>\n",
       "</li>\n",
       "\t<li>'579-499-7527'</li>\n",
       "\t<li></li>\n",
       "\t<li>'543.355.3679'</li>\n",
       "</ol>\n"
      ],
      "text/latex": [
       "\\begin{enumerate}\n",
       "\\item '219 733 8965'\n",
       "\\item '329-293-8753'\n",
       "\\item \n",
       "\\item '595 794 7569'\n",
       "\\item '387 287 6718'\n",
       "\\item \n",
       "\\item '233.398.9187'\n",
       "\\item '482 952 3315'\n",
       "\\item \\begin{enumerate*}\n",
       "\\item '239 923 8115'\n",
       "\\item '842 566 4692'\n",
       "\\end{enumerate*}\n",
       "\n",
       "\\item '579-499-7527'\n",
       "\\item \n",
       "\\item '543.355.3679'\n",
       "\\end{enumerate}\n"
      ],
      "text/markdown": [
       "1. '219 733 8965'\n",
       "2. '329-293-8753'\n",
       "3. \n",
       "4. '595 794 7569'\n",
       "5. '387 287 6718'\n",
       "6. \n",
       "7. '233.398.9187'\n",
       "8. '482 952 3315'\n",
       "9. 1. '239 923 8115'\n",
       "2. '842 566 4692'\n",
       "\n",
       "\n",
       "\n",
       "10. '579-499-7527'\n",
       "11. \n",
       "12. '543.355.3679'\n",
       "\n",
       "\n"
      ],
      "text/plain": [
       "[[1]]\n",
       "[1] \"219 733 8965\"\n",
       "\n",
       "[[2]]\n",
       "[1] \"329-293-8753\"\n",
       "\n",
       "[[3]]\n",
       "character(0)\n",
       "\n",
       "[[4]]\n",
       "[1] \"595 794 7569\"\n",
       "\n",
       "[[5]]\n",
       "[1] \"387 287 6718\"\n",
       "\n",
       "[[6]]\n",
       "character(0)\n",
       "\n",
       "[[7]]\n",
       "[1] \"233.398.9187\"\n",
       "\n",
       "[[8]]\n",
       "[1] \"482 952 3315\"\n",
       "\n",
       "[[9]]\n",
       "[1] \"239 923 8115\" \"842 566 4692\"\n",
       "\n",
       "[[10]]\n",
       "[1] \"579-499-7527\"\n",
       "\n",
       "[[11]]\n",
       "character(0)\n",
       "\n",
       "[[12]]\n",
       "[1] \"543.355.3679\"\n"
      ]
     },
     "metadata": {},
     "output_type": "display_data"
    }
   ],
   "source": [
    "strings <- c(\" 219 733 8965\", \"329-293-8753 \", \"banana\", \"595 794 7569\", \"387 287 6718\", \n",
    "    \"apple\", \"233.398.9187 \", \"482 952 3315\", \"239 923 8115 and 842 566 4692\", \n",
    "    \"Work: 579-499-7527\", \"$1000\", \"Home: 543.355.3679\")\n",
    "\n",
    "phone <- \"([2-9][0-9]{2})[- .]([0-9]{3})[- .]([0-9]{4})\"\n",
    "\n",
    "str_extract(string = strings, pattern = phone)  #return the first match\n",
    "str_extract_all(string = strings, pattern = phone) # Extract/match all"
   ]
  },
  {
   "cell_type": "code",
   "execution_count": 45,
   "metadata": {
    "scrolled": true
   },
   "outputs": [
    {
     "data": {
      "text/html": [
       "<table>\n",
       "<tbody>\n",
       "\t<tr><td>219 733 8965</td><td>219         </td><td>733         </td><td>8965        </td></tr>\n",
       "\t<tr><td>329-293-8753</td><td>329         </td><td>293         </td><td>8753        </td></tr>\n",
       "\t<tr><td>NA          </td><td>NA          </td><td>NA          </td><td>NA          </td></tr>\n",
       "\t<tr><td>595 794 7569</td><td>595         </td><td>794         </td><td>7569        </td></tr>\n",
       "\t<tr><td>387 287 6718</td><td>387         </td><td>287         </td><td>6718        </td></tr>\n",
       "\t<tr><td>NA          </td><td>NA          </td><td>NA          </td><td>NA          </td></tr>\n",
       "\t<tr><td>233.398.9187</td><td>233         </td><td>398         </td><td>9187        </td></tr>\n",
       "\t<tr><td>482 952 3315</td><td>482         </td><td>952         </td><td>3315        </td></tr>\n",
       "\t<tr><td>239 923 8115</td><td>239         </td><td>923         </td><td>8115        </td></tr>\n",
       "\t<tr><td>579-499-7527</td><td>579         </td><td>499         </td><td>7527        </td></tr>\n",
       "\t<tr><td>NA          </td><td>NA          </td><td>NA          </td><td>NA          </td></tr>\n",
       "\t<tr><td>543.355.3679</td><td>543         </td><td>355         </td><td>3679        </td></tr>\n",
       "</tbody>\n",
       "</table>\n"
      ],
      "text/latex": [
       "\\begin{tabular}{llll}\n",
       "\t 219 733 8965 & 219          & 733          & 8965        \\\\\n",
       "\t 329-293-8753 & 329          & 293          & 8753        \\\\\n",
       "\t NA           & NA           & NA           & NA          \\\\\n",
       "\t 595 794 7569 & 595          & 794          & 7569        \\\\\n",
       "\t 387 287 6718 & 387          & 287          & 6718        \\\\\n",
       "\t NA           & NA           & NA           & NA          \\\\\n",
       "\t 233.398.9187 & 233          & 398          & 9187        \\\\\n",
       "\t 482 952 3315 & 482          & 952          & 3315        \\\\\n",
       "\t 239 923 8115 & 239          & 923          & 8115        \\\\\n",
       "\t 579-499-7527 & 579          & 499          & 7527        \\\\\n",
       "\t NA           & NA           & NA           & NA          \\\\\n",
       "\t 543.355.3679 & 543          & 355          & 3679        \\\\\n",
       "\\end{tabular}\n"
      ],
      "text/markdown": [
       "\n",
       "| 219 733 8965 | 219          | 733          | 8965         | \n",
       "| 329-293-8753 | 329          | 293          | 8753         | \n",
       "| NA           | NA           | NA           | NA           | \n",
       "| 595 794 7569 | 595          | 794          | 7569         | \n",
       "| 387 287 6718 | 387          | 287          | 6718         | \n",
       "| NA           | NA           | NA           | NA           | \n",
       "| 233.398.9187 | 233          | 398          | 9187         | \n",
       "| 482 952 3315 | 482          | 952          | 3315         | \n",
       "| 239 923 8115 | 239          | 923          | 8115         | \n",
       "| 579-499-7527 | 579          | 499          | 7527         | \n",
       "| NA           | NA           | NA           | NA           | \n",
       "| 543.355.3679 | 543          | 355          | 3679         | \n",
       "\n",
       "\n"
      ],
      "text/plain": [
       "      [,1]         [,2] [,3] [,4]\n",
       " [1,] 219 733 8965 219  733  8965\n",
       " [2,] 329-293-8753 329  293  8753\n",
       " [3,] NA           NA   NA   NA  \n",
       " [4,] 595 794 7569 595  794  7569\n",
       " [5,] 387 287 6718 387  287  6718\n",
       " [6,] NA           NA   NA   NA  \n",
       " [7,] 233.398.9187 233  398  9187\n",
       " [8,] 482 952 3315 482  952  3315\n",
       " [9,] 239 923 8115 239  923  8115\n",
       "[10,] 579-499-7527 579  499  7527\n",
       "[11,] NA           NA   NA   NA  \n",
       "[12,] 543.355.3679 543  355  3679"
      ]
     },
     "metadata": {},
     "output_type": "display_data"
    },
    {
     "data": {
      "text/html": [
       "<ol>\n",
       "\t<li><table>\n",
       "<tbody>\n",
       "\t<tr><td>219 733 8965</td><td>219         </td><td>733         </td><td>8965        </td></tr>\n",
       "</tbody>\n",
       "</table>\n",
       "</li>\n",
       "\t<li><table>\n",
       "<tbody>\n",
       "\t<tr><td>329-293-8753</td><td>329         </td><td>293         </td><td>8753        </td></tr>\n",
       "</tbody>\n",
       "</table>\n",
       "</li>\n",
       "\t<li></li>\n",
       "\t<li><table>\n",
       "<tbody>\n",
       "\t<tr><td>595 794 7569</td><td>595         </td><td>794         </td><td>7569        </td></tr>\n",
       "</tbody>\n",
       "</table>\n",
       "</li>\n",
       "\t<li><table>\n",
       "<tbody>\n",
       "\t<tr><td>387 287 6718</td><td>387         </td><td>287         </td><td>6718        </td></tr>\n",
       "</tbody>\n",
       "</table>\n",
       "</li>\n",
       "\t<li></li>\n",
       "\t<li><table>\n",
       "<tbody>\n",
       "\t<tr><td>233.398.9187</td><td>233         </td><td>398         </td><td>9187        </td></tr>\n",
       "</tbody>\n",
       "</table>\n",
       "</li>\n",
       "\t<li><table>\n",
       "<tbody>\n",
       "\t<tr><td>482 952 3315</td><td>482         </td><td>952         </td><td>3315        </td></tr>\n",
       "</tbody>\n",
       "</table>\n",
       "</li>\n",
       "\t<li><table>\n",
       "<tbody>\n",
       "\t<tr><td>239 923 8115</td><td>239         </td><td>923         </td><td>8115        </td></tr>\n",
       "\t<tr><td>842 566 4692</td><td>842         </td><td>566         </td><td>4692        </td></tr>\n",
       "</tbody>\n",
       "</table>\n",
       "</li>\n",
       "\t<li><table>\n",
       "<tbody>\n",
       "\t<tr><td>579-499-7527</td><td>579         </td><td>499         </td><td>7527        </td></tr>\n",
       "</tbody>\n",
       "</table>\n",
       "</li>\n",
       "\t<li></li>\n",
       "\t<li><table>\n",
       "<tbody>\n",
       "\t<tr><td>543.355.3679</td><td>543         </td><td>355         </td><td>3679        </td></tr>\n",
       "</tbody>\n",
       "</table>\n",
       "</li>\n",
       "</ol>\n"
      ],
      "text/latex": [
       "\\begin{enumerate}\n",
       "\\item \\begin{tabular}{llll}\n",
       "\t 219 733 8965 & 219          & 733          & 8965        \\\\\n",
       "\\end{tabular}\n",
       "\n",
       "\\item \\begin{tabular}{llll}\n",
       "\t 329-293-8753 & 329          & 293          & 8753        \\\\\n",
       "\\end{tabular}\n",
       "\n",
       "\\item \n",
       "\\item \\begin{tabular}{llll}\n",
       "\t 595 794 7569 & 595          & 794          & 7569        \\\\\n",
       "\\end{tabular}\n",
       "\n",
       "\\item \\begin{tabular}{llll}\n",
       "\t 387 287 6718 & 387          & 287          & 6718        \\\\\n",
       "\\end{tabular}\n",
       "\n",
       "\\item \n",
       "\\item \\begin{tabular}{llll}\n",
       "\t 233.398.9187 & 233          & 398          & 9187        \\\\\n",
       "\\end{tabular}\n",
       "\n",
       "\\item \\begin{tabular}{llll}\n",
       "\t 482 952 3315 & 482          & 952          & 3315        \\\\\n",
       "\\end{tabular}\n",
       "\n",
       "\\item \\begin{tabular}{llll}\n",
       "\t 239 923 8115 & 239          & 923          & 8115        \\\\\n",
       "\t 842 566 4692 & 842          & 566          & 4692        \\\\\n",
       "\\end{tabular}\n",
       "\n",
       "\\item \\begin{tabular}{llll}\n",
       "\t 579-499-7527 & 579          & 499          & 7527        \\\\\n",
       "\\end{tabular}\n",
       "\n",
       "\\item \n",
       "\\item \\begin{tabular}{llll}\n",
       "\t 543.355.3679 & 543          & 355          & 3679        \\\\\n",
       "\\end{tabular}\n",
       "\n",
       "\\end{enumerate}\n"
      ],
      "text/markdown": [
       "1. \n",
       "| 219 733 8965 | 219          | 733          | 8965         | \n",
       "\n",
       "\n",
       "\n",
       "2. \n",
       "| 329-293-8753 | 329          | 293          | 8753         | \n",
       "\n",
       "\n",
       "\n",
       "3. \n",
       "4. \n",
       "| 595 794 7569 | 595          | 794          | 7569         | \n",
       "\n",
       "\n",
       "\n",
       "5. \n",
       "| 387 287 6718 | 387          | 287          | 6718         | \n",
       "\n",
       "\n",
       "\n",
       "6. \n",
       "7. \n",
       "| 233.398.9187 | 233          | 398          | 9187         | \n",
       "\n",
       "\n",
       "\n",
       "8. \n",
       "| 482 952 3315 | 482          | 952          | 3315         | \n",
       "\n",
       "\n",
       "\n",
       "9. \n",
       "| 239 923 8115 | 239          | 923          | 8115         | \n",
       "| 842 566 4692 | 842          | 566          | 4692         | \n",
       "\n",
       "\n",
       "\n",
       "10. \n",
       "| 579-499-7527 | 579          | 499          | 7527         | \n",
       "\n",
       "\n",
       "\n",
       "11. \n",
       "12. \n",
       "| 543.355.3679 | 543          | 355          | 3679         | \n",
       "\n",
       "\n",
       "\n",
       "\n",
       "\n"
      ],
      "text/plain": [
       "[[1]]\n",
       "     [,1]           [,2]  [,3]  [,4]  \n",
       "[1,] \"219 733 8965\" \"219\" \"733\" \"8965\"\n",
       "\n",
       "[[2]]\n",
       "     [,1]           [,2]  [,3]  [,4]  \n",
       "[1,] \"329-293-8753\" \"329\" \"293\" \"8753\"\n",
       "\n",
       "[[3]]\n",
       "     [,1] [,2] [,3] [,4]\n",
       "\n",
       "[[4]]\n",
       "     [,1]           [,2]  [,3]  [,4]  \n",
       "[1,] \"595 794 7569\" \"595\" \"794\" \"7569\"\n",
       "\n",
       "[[5]]\n",
       "     [,1]           [,2]  [,3]  [,4]  \n",
       "[1,] \"387 287 6718\" \"387\" \"287\" \"6718\"\n",
       "\n",
       "[[6]]\n",
       "     [,1] [,2] [,3] [,4]\n",
       "\n",
       "[[7]]\n",
       "     [,1]           [,2]  [,3]  [,4]  \n",
       "[1,] \"233.398.9187\" \"233\" \"398\" \"9187\"\n",
       "\n",
       "[[8]]\n",
       "     [,1]           [,2]  [,3]  [,4]  \n",
       "[1,] \"482 952 3315\" \"482\" \"952\" \"3315\"\n",
       "\n",
       "[[9]]\n",
       "     [,1]           [,2]  [,3]  [,4]  \n",
       "[1,] \"239 923 8115\" \"239\" \"923\" \"8115\"\n",
       "[2,] \"842 566 4692\" \"842\" \"566\" \"4692\"\n",
       "\n",
       "[[10]]\n",
       "     [,1]           [,2]  [,3]  [,4]  \n",
       "[1,] \"579-499-7527\" \"579\" \"499\" \"7527\"\n",
       "\n",
       "[[11]]\n",
       "     [,1] [,2] [,3] [,4]\n",
       "\n",
       "[[12]]\n",
       "     [,1]           [,2]  [,3]  [,4]  \n",
       "[1,] \"543.355.3679\" \"543\" \"355\" \"3679\"\n"
      ]
     },
     "metadata": {},
     "output_type": "display_data"
    }
   ],
   "source": [
    "str_match(string = strings, pattern = phone)  #return the longest match and its sub strings\n",
    "str_match_all(string = strings, pattern = phone)"
   ]
  },
  {
   "cell_type": "code",
   "execution_count": 46,
   "metadata": {},
   "outputs": [
    {
     "data": {
      "text/html": [
       "<ol>\n",
       "\t<li><table>\n",
       "<tbody>\n",
       "\t<tr><td>s</td></tr>\n",
       "</tbody>\n",
       "</table>\n",
       "</li>\n",
       "\t<li><table>\n",
       "<tbody>\n",
       "\t<tr><td>9</td></tr>\n",
       "</tbody>\n",
       "</table>\n",
       "</li>\n",
       "\t<li><table>\n",
       "<tbody>\n",
       "\t<tr><td>!</td></tr>\n",
       "</tbody>\n",
       "</table>\n",
       "</li>\n",
       "\t<li></li>\n",
       "\t<li></li>\n",
       "\t<li><table>\n",
       "<tbody>\n",
       "\t<tr><td>d</td></tr>\n",
       "</tbody>\n",
       "</table>\n",
       "</li>\n",
       "\t<li><table>\n",
       "<tbody>\n",
       "\t<tr><td>m</td></tr>\n",
       "</tbody>\n",
       "</table>\n",
       "</li>\n",
       "</ol>\n"
      ],
      "text/latex": [
       "\\begin{enumerate}\n",
       "\\item \\begin{tabular}{l}\n",
       "\t s\\\\\n",
       "\\end{tabular}\n",
       "\n",
       "\\item \\begin{tabular}{l}\n",
       "\t 9\\\\\n",
       "\\end{tabular}\n",
       "\n",
       "\\item \\begin{tabular}{l}\n",
       "\t !\\\\\n",
       "\\end{tabular}\n",
       "\n",
       "\\item \n",
       "\\item \n",
       "\\item \\begin{tabular}{l}\n",
       "\t d\\\\\n",
       "\\end{tabular}\n",
       "\n",
       "\\item \\begin{tabular}{l}\n",
       "\t m\\\\\n",
       "\\end{tabular}\n",
       "\n",
       "\\end{enumerate}\n"
      ],
      "text/markdown": [
       "1. \n",
       "| s | \n",
       "\n",
       "\n",
       "\n",
       "2. \n",
       "| 9 | \n",
       "\n",
       "\n",
       "\n",
       "3. \n",
       "| ! | \n",
       "\n",
       "\n",
       "\n",
       "4. \n",
       "5. \n",
       "6. \n",
       "| d | \n",
       "\n",
       "\n",
       "\n",
       "7. \n",
       "| m | \n",
       "\n",
       "\n",
       "\n",
       "\n",
       "\n"
      ],
      "text/plain": [
       "[[1]]\n",
       "     [,1]\n",
       "[1,] \"s\" \n",
       "\n",
       "[[2]]\n",
       "     [,1]\n",
       "[1,] \"9\" \n",
       "\n",
       "[[3]]\n",
       "     [,1]\n",
       "[1,] \"!\" \n",
       "\n",
       "[[4]]\n",
       "     [,1]\n",
       "\n",
       "[[5]]\n",
       "     [,1]\n",
       "\n",
       "[[6]]\n",
       "     [,1]\n",
       "[1,] \"d\" \n",
       "\n",
       "[[7]]\n",
       "     [,1]\n",
       "[1,] \"m\" \n"
      ]
     },
     "metadata": {},
     "output_type": "display_data"
    }
   ],
   "source": [
    "mat=\"[^?.]$\"\n",
    "# mat=\".$\"\n",
    "# mat=\"\\.$\"\n",
    "# mat=\"\\\\.$\"\n",
    "strs=c('i like basketballs',\n",
    "       '6 and 9',\n",
    "       'dont worry... (we all) die anyway!',\n",
    "       'who are you?',\n",
    "       'here you go.',\n",
    "       'Not in Baghdad',\n",
    "       'helicopter under water? hmmm')\n",
    "str_match_all(string = strs, pattern = mat)"
   ]
  },
  {
   "cell_type": "code",
   "execution_count": 55,
   "metadata": {
    "scrolled": true
   },
   "outputs": [
    {
     "data": {
      "text/html": [
       "'\\\\(.*\\\\)'"
      ],
      "text/latex": [
       "'\\textbackslash{}\\textbackslash{}(.*\\textbackslash{}\\textbackslash{})'"
      ],
      "text/markdown": [
       "'\\\\(.*\\\\)'"
      ],
      "text/plain": [
       "[1] \"\\\\(.*\\\\)\""
      ]
     },
     "metadata": {},
     "output_type": "display_data"
    },
    {
     "data": {
      "text/html": [
       "<ol>\n",
       "\t<li></li>\n",
       "\t<li></li>\n",
       "\t<li><table>\n",
       "<tbody>\n",
       "\t<tr><td>(we all)</td></tr>\n",
       "</tbody>\n",
       "</table>\n",
       "</li>\n",
       "\t<li></li>\n",
       "\t<li></li>\n",
       "\t<li></li>\n",
       "\t<li></li>\n",
       "</ol>\n"
      ],
      "text/latex": [
       "\\begin{enumerate}\n",
       "\\item \n",
       "\\item \n",
       "\\item \\begin{tabular}{l}\n",
       "\t (we all)\\\\\n",
       "\\end{tabular}\n",
       "\n",
       "\\item \n",
       "\\item \n",
       "\\item \n",
       "\\item \n",
       "\\end{enumerate}\n"
      ],
      "text/markdown": [
       "1. \n",
       "2. \n",
       "3. \n",
       "| (we all) | \n",
       "\n",
       "\n",
       "\n",
       "4. \n",
       "5. \n",
       "6. \n",
       "7. \n",
       "\n",
       "\n"
      ],
      "text/plain": [
       "[[1]]\n",
       "     [,1]\n",
       "\n",
       "[[2]]\n",
       "     [,1]\n",
       "\n",
       "[[3]]\n",
       "     [,1]      \n",
       "[1,] \"(we all)\"\n",
       "\n",
       "[[4]]\n",
       "     [,1]\n",
       "\n",
       "[[5]]\n",
       "     [,1]\n",
       "\n",
       "[[6]]\n",
       "     [,1]\n",
       "\n",
       "[[7]]\n",
       "     [,1]\n"
      ]
     },
     "metadata": {},
     "output_type": "display_data"
    }
   ],
   "source": [
    "#mat=\"(.*)\"\n",
    "mat=\"\\\\(.*\\\\)\"\n",
    "mat\n",
    "strs=c('i like basketballs',\n",
    "       '6 and 9',\n",
    "       'dont worry... (we all) die anyway!',\n",
    "       'who are you?',\n",
    "       'here you go.',\n",
    "       'Not in Baghdad',\n",
    "       'helicopter under water? hmmm')\n",
    "str_match_all(string = strs, pattern = mat)"
   ]
  },
  {
   "cell_type": "code",
   "execution_count": 48,
   "metadata": {},
   "outputs": [
    {
     "data": {
      "text/html": [
       "<ol>\n",
       "\t<li><table>\n",
       "<tbody>\n",
       "\t<tr><td>2 or 3 years at colleage and 4 at uni makes us 23</td><td>or 3 years at colleage and 4 at uni makes us 2   </td></tr>\n",
       "</tbody>\n",
       "</table>\n",
       "</li>\n",
       "\t<li><table>\n",
       "<tbody>\n",
       "\t<tr><td>4 me 2 go 2</td><td>me 2 go    </td></tr>\n",
       "</tbody>\n",
       "</table>\n",
       "</li>\n",
       "</ol>\n"
      ],
      "text/latex": [
       "\\begin{enumerate}\n",
       "\\item \\begin{tabular}{ll}\n",
       "\t 2 or 3 years at colleage and 4 at uni makes us 23 & or 3 years at colleage and 4 at uni makes us 2   \\\\\n",
       "\\end{tabular}\n",
       "\n",
       "\\item \\begin{tabular}{ll}\n",
       "\t 4 me 2 go 2 & me 2 go    \\\\\n",
       "\\end{tabular}\n",
       "\n",
       "\\end{enumerate}\n"
      ],
      "text/markdown": [
       "1. \n",
       "| 2 or 3 years at colleage and 4 at uni makes us 23 | or 3 years at colleage and 4 at uni makes us 2    | \n",
       "\n",
       "\n",
       "\n",
       "2. \n",
       "| 4 me 2 go 2 | me 2 go     | \n",
       "\n",
       "\n",
       "\n",
       "\n",
       "\n"
      ],
      "text/plain": [
       "[[1]]\n",
       "     [,1]                                               \n",
       "[1,] \"2 or 3 years at colleage and 4 at uni makes us 23\"\n",
       "     [,2]                                            \n",
       "[1,] \"or 3 years at colleage and 4 at uni makes us 2\"\n",
       "\n",
       "[[2]]\n",
       "     [,1]          [,2]      \n",
       "[1,] \"4 me 2 go 2\" \"me 2 go \"\n"
      ]
     },
     "metadata": {},
     "output_type": "display_data"
    }
   ],
   "source": [
    "mat=\"[0-9]+ (.*)[0-9]+\"\n",
    "# mat=\"\\\\(.*\\\\)\"\n",
    "strs=c('so say 2 or 3 years at colleage and 4 at uni makes us 23 when and if we', 'Mmmm its time 4 me 2 go 2 bed')\n",
    "str_match_all(string = strs, pattern = mat)"
   ]
  },
  {
   "cell_type": "code",
   "execution_count": 49,
   "metadata": {},
   "outputs": [
    {
     "data": {
      "text/html": [
       "<ol>\n",
       "\t<li><table>\n",
       "<tbody>\n",
       "\t<tr><td>studying stuff for the exams</td><td>tudying stuff for the exam  </td></tr>\n",
       "</tbody>\n",
       "</table>\n",
       "</li>\n",
       "</ol>\n"
      ],
      "text/latex": [
       "\\begin{enumerate}\n",
       "\\item \\begin{tabular}{ll}\n",
       "\t studying stuff for the exams & tudying stuff for the exam  \\\\\n",
       "\\end{tabular}\n",
       "\n",
       "\\end{enumerate}\n"
      ],
      "text/markdown": [
       "1. \n",
       "| studying stuff for the exams | tudying stuff for the exam   | \n",
       "\n",
       "\n",
       "\n",
       "\n",
       "\n"
      ],
      "text/plain": [
       "[[1]]\n",
       "     [,1]                           [,2]                        \n",
       "[1,] \"studying stuff for the exams\" \"tudying stuff for the exam\"\n"
      ]
     },
     "metadata": {},
     "output_type": "display_data"
    },
    {
     "data": {
      "text/html": [
       "<ol>\n",
       "\t<li><table>\n",
       "<tbody>\n",
       "\t<tr><td>studying s</td><td>tudying   </td></tr>\n",
       "</tbody>\n",
       "</table>\n",
       "</li>\n",
       "</ol>\n"
      ],
      "text/latex": [
       "\\begin{enumerate}\n",
       "\\item \\begin{tabular}{ll}\n",
       "\t studying s & tudying   \\\\\n",
       "\\end{tabular}\n",
       "\n",
       "\\end{enumerate}\n"
      ],
      "text/markdown": [
       "1. \n",
       "| studying s | tudying    | \n",
       "\n",
       "\n",
       "\n",
       "\n",
       "\n"
      ],
      "text/plain": [
       "[[1]]\n",
       "     [,1]         [,2]      \n",
       "[1,] \"studying s\" \"tudying \"\n"
      ]
     },
     "metadata": {},
     "output_type": "display_data"
    }
   ],
   "source": [
    "mat=\"^s(.*)s\"\n",
    "strs=c('studying stuff for the exams')\n",
    "str_match_all(string = strs, pattern = mat)\n",
    "mat=\"^s(.*?)s\"\n",
    "strs=c('studying stuff for the exams')\n",
    "str_match_all(string = strs, pattern = mat)"
   ]
  },
  {
   "cell_type": "code",
   "execution_count": 2,
   "metadata": {
    "scrolled": false
   },
   "outputs": [
    {
     "data": {
      "text/html": [
       "'R would not be what it is today without the invaluable help of these\\npeople outside of the R core team, who contributed by donating code, bug\\nfixes and documentation:\\n\\nValerio Aimale, Suharto Anggono, Thomas Baier, Henrik Bengtsson, Roger Bivand,\\nBen Bolker, David Brahm, G\"oran Brostr\"om, Patrick Burns, Vince Carey,\\nSaikat DebRoy, Matt Dowle, Brian D\\'Urso, Lyndon Drake, Dirk Eddelbuettel,\\nClaus Ekstrom, Sebastian Fischmeister, John Fox, Paul Gilbert,\\nYu Gong, Gabor Grothendieck, Frank E Harrell Jr, Peter M. Haverty,\\nTorsten Hothorn, Robert King, Kjetil Kjernsmo, Roger Koenker, Philippe Lambert,\\nJan de Leeuw, Jim Lindsey, Patrick Lindsey, Catherine Loader,\\nGordon Maclean, Arni Magnusson, John Maindonald, David Meyer, Ei-ji Nakama,\\nJens Oehlschaegel, Steve Oncley, Richard O\\'Keefe, Hubert Palme,\\nRoger D. Peng, Jose\\' C. Pinheiro, Tony Plate, Anthony Rossini,\\nJonathan Rougier, Petr Savicky, Guenther Sawitzki, Marc Schwartz,\\nArun Srinivasan, Detlef Steuer, Bill Simpson, Gordon Smyth, Adrian Trapletti,\\nTerry Therneau, Rolf Turner, Bill Venables, Gregory R. Warnes,\\nAndreas Weingessel, Morten Welinder, James Wettenhall, Simon Wood, and\\nAchim Zeileis.\\n\\nOthers have written code that has been adopted by R and is\\nacknowledged in the code files, including\\n\\nJ. D. Beasley, David J. Best, Richard Brent, Kevin Buhr, Michael\\nA. Covington, Bill Cleveland, Robert Cleveland,, G. W. Cran,\\nC. G. Ding, Ulrich Drepper, Paul Eggert, J. O. Evans, David M. Gay,\\nH. Frick, G. W. Hill, Richard H. Jones, Eric Grosse, Shelby Haberman,\\nBruno Haible, John Hartigan, Andrew Harvey, Trevor Hastie, Min Long\\nLam, George Marsaglia, K. J. Martin, Gordon Matzigkeit,\\nC. R. Mckenzie, Jean McRae, Cyrus Mehta, Fionn Murtagh, John C. Nash,\\nFinbarr O\\'Sullivan, R. E. Odeh, William Patefield, Nitin Patel, Alan\\nRichardson, D. E. Roberts, Patrick Royston, Russell Lenth, Ming-Jen\\nShyu, Richard C. Singleton, S. G. Springer, Supoj Sutanthavibul, Irma\\nTerpenning, G. E. Thomas, Rob Tibshirani, Wai Wan Tsang, Berwin\\nTurlach, Gary V. Vaughan, Michael Wichura, Jingbo Wang, M. A. Wong,\\nand the Free Software Foundation (for autoconf code and utilities).\\nSee also files under src/extras.\\n\\nMany more, too numerous to mention here, have contributed by sending bug\\nreports and suggesting various improvements.\\n\\nSimon Davies whilst at the University of Auckland wrote the original\\nversion of glm().\\n\\nJulian Harris and Wing Kwong (Tiki) Wan whilst at the University of\\nAuckland assisted Ross Ihaka with the original Macintosh port.\\n\\nR was inspired by the S environment which has been principally\\ndeveloped by John Chambers, with substantial input from Douglas Bates,\\nRick Becker, Bill Cleveland, Trevor Hastie, Daryl Pregibon and\\nAllan Wilks.\\n\\nA special debt is owed to John Chambers who has graciously contributed\\nadvice and encouragement in the early days of R and later became a\\nmember of the core team.\\n\\n\\n\\nThe R Foundation may decide to give out &lt;first.lastname&gt;@R-project.org\\nemail addresses to contributors to the R Project (even without making them\\nmembers of the R Foundation) when in the view of the R Foundation this\\nwould help advance the R project.\\n\\nThe R Core Group, Roger Bivand, Jennifer Bryan, Di Cook, Dirk Eddelbuettel,\\nJohn Fox, Bettina Gr眉n, Frank Harrell, Torsten Hothorn, Stefano Iacus,\\nJulie Josse, Balasubramanian Narasimhan, Marc Schwartz, Heather Turner,\\nBill Venables, Hadley Wickham and Achim Zeileis are the ordinary members of\\nthe R Foundation.\\nIn addition, David Meyer and Simon Wood are also e-addressable by\\n&lt;Firstname&gt;.&lt;Lastname&gt;@R-project.org.'"
      ],
      "text/latex": [
       "'R would not be what it is today without the invaluable help of these\\textbackslash{}npeople outside of the R core team, who contributed by donating code, bug\\textbackslash{}nfixes and documentation:\\textbackslash{}n\\textbackslash{}nValerio Aimale, Suharto Anggono, Thomas Baier, Henrik Bengtsson, Roger Bivand,\\textbackslash{}nBen Bolker, David Brahm, G\"oran Brostr\"om, Patrick Burns, Vince Carey,\\textbackslash{}nSaikat DebRoy, Matt Dowle, Brian D\\textbackslash{}'Urso, Lyndon Drake, Dirk Eddelbuettel,\\textbackslash{}nClaus Ekstrom, Sebastian Fischmeister, John Fox, Paul Gilbert,\\textbackslash{}nYu Gong, Gabor Grothendieck, Frank E Harrell Jr, Peter M. Haverty,\\textbackslash{}nTorsten Hothorn, Robert King, Kjetil Kjernsmo, Roger Koenker, Philippe Lambert,\\textbackslash{}nJan de Leeuw, Jim Lindsey, Patrick Lindsey, Catherine Loader,\\textbackslash{}nGordon Maclean, Arni Magnusson, John Maindonald, David Meyer, Ei-ji Nakama,\\textbackslash{}nJens Oehlschaegel, Steve Oncley, Richard O\\textbackslash{}'Keefe, Hubert Palme,\\textbackslash{}nRoger D. Peng, Jose\\textbackslash{}' C. Pinheiro, Tony Plate, Anthony Rossini,\\textbackslash{}nJonathan Rougier, Petr Savicky, Guenther Sawitzki, Marc Schwartz,\\textbackslash{}nArun Srinivasan, Detlef Steuer, Bill Simpson, Gordon Smyth, Adrian Trapletti,\\textbackslash{}nTerry Therneau, Rolf Turner, Bill Venables, Gregory R. Warnes,\\textbackslash{}nAndreas Weingessel, Morten Welinder, James Wettenhall, Simon Wood, and\\textbackslash{}nAchim Zeileis.\\textbackslash{}n\\textbackslash{}nOthers have written code that has been adopted by R and is\\textbackslash{}nacknowledged in the code files, including\\textbackslash{}n\\textbackslash{}nJ. D. Beasley, David J. Best, Richard Brent, Kevin Buhr, Michael\\textbackslash{}nA. Covington, Bill Cleveland, Robert Cleveland,, G. W. Cran,\\textbackslash{}nC. G. Ding, Ulrich Drepper, Paul Eggert, J. O. Evans, David M. Gay,\\textbackslash{}nH. Frick, G. W. Hill, Richard H. Jones, Eric Grosse, Shelby Haberman,\\textbackslash{}nBruno Haible, John Hartigan, Andrew Harvey, Trevor Hastie, Min Long\\textbackslash{}nLam, George Marsaglia, K. J. Martin, Gordon Matzigkeit,\\textbackslash{}nC. R. Mckenzie, Jean McRae, Cyrus Mehta, Fionn Murtagh, John C. Nash,\\textbackslash{}nFinbarr O\\textbackslash{}'Sullivan, R. E. Odeh, William Patefield, Nitin Patel, Alan\\textbackslash{}nRichardson, D. E. Roberts, Patrick Royston, Russell Lenth, Ming-Jen\\textbackslash{}nShyu, Richard C. Singleton, S. G. Springer, Supoj Sutanthavibul, Irma\\textbackslash{}nTerpenning, G. E. Thomas, Rob Tibshirani, Wai Wan Tsang, Berwin\\textbackslash{}nTurlach, Gary V. Vaughan, Michael Wichura, Jingbo Wang, M. A. Wong,\\textbackslash{}nand the Free Software Foundation (for autoconf code and utilities).\\textbackslash{}nSee also files under src/extras.\\textbackslash{}n\\textbackslash{}nMany more, too numerous to mention here, have contributed by sending bug\\textbackslash{}nreports and suggesting various improvements.\\textbackslash{}n\\textbackslash{}nSimon Davies whilst at the University of Auckland wrote the original\\textbackslash{}nversion of glm().\\textbackslash{}n\\textbackslash{}nJulian Harris and Wing Kwong (Tiki) Wan whilst at the University of\\textbackslash{}nAuckland assisted Ross Ihaka with the original Macintosh port.\\textbackslash{}n\\textbackslash{}nR was inspired by the S environment which has been principally\\textbackslash{}ndeveloped by John Chambers, with substantial input from Douglas Bates,\\textbackslash{}nRick Becker, Bill Cleveland, Trevor Hastie, Daryl Pregibon and\\textbackslash{}nAllan Wilks.\\textbackslash{}n\\textbackslash{}nA special debt is owed to John Chambers who has graciously contributed\\textbackslash{}nadvice and encouragement in the early days of R and later became a\\textbackslash{}nmember of the core team.\\textbackslash{}n\\textbackslash{}n\\textbackslash{}n\\textbackslash{}nThe R Foundation may decide to give out <first.lastname>@R-project.org\\textbackslash{}nemail addresses to contributors to the R Project (even without making them\\textbackslash{}nmembers of the R Foundation) when in the view of the R Foundation this\\textbackslash{}nwould help advance the R project.\\textbackslash{}n\\textbackslash{}nThe R Core Group, Roger Bivand, Jennifer Bryan, Di Cook, Dirk Eddelbuettel,\\textbackslash{}nJohn Fox, Bettina Gr眉n, Frank Harrell, Torsten Hothorn, Stefano Iacus,\\textbackslash{}nJulie Josse, Balasubramanian Narasimhan, Marc Schwartz, Heather Turner,\\textbackslash{}nBill Venables, Hadley Wickham and Achim Zeileis are the ordinary members of\\textbackslash{}nthe R Foundation.\\textbackslash{}nIn addition, David Meyer and Simon Wood are also e-addressable by\\textbackslash{}n<Firstname>.<Lastname>@R-project.org.'"
      ],
      "text/markdown": [
       "'R would not be what it is today without the invaluable help of these\\npeople outside of the R core team, who contributed by donating code, bug\\nfixes and documentation:\\n\\nValerio Aimale, Suharto Anggono, Thomas Baier, Henrik Bengtsson, Roger Bivand,\\nBen Bolker, David Brahm, G\"oran Brostr\"om, Patrick Burns, Vince Carey,\\nSaikat DebRoy, Matt Dowle, Brian D\\'Urso, Lyndon Drake, Dirk Eddelbuettel,\\nClaus Ekstrom, Sebastian Fischmeister, John Fox, Paul Gilbert,\\nYu Gong, Gabor Grothendieck, Frank E Harrell Jr, Peter M. Haverty,\\nTorsten Hothorn, Robert King, Kjetil Kjernsmo, Roger Koenker, Philippe Lambert,\\nJan de Leeuw, Jim Lindsey, Patrick Lindsey, Catherine Loader,\\nGordon Maclean, Arni Magnusson, John Maindonald, David Meyer, Ei-ji Nakama,\\nJens Oehlschaegel, Steve Oncley, Richard O\\'Keefe, Hubert Palme,\\nRoger D. Peng, Jose\\' C. Pinheiro, Tony Plate, Anthony Rossini,\\nJonathan Rougier, Petr Savicky, Guenther Sawitzki, Marc Schwartz,\\nArun Srinivasan, Detlef Steuer, Bill Simpson, Gordon Smyth, Adrian Trapletti,\\nTerry Therneau, Rolf Turner, Bill Venables, Gregory R. Warnes,\\nAndreas Weingessel, Morten Welinder, James Wettenhall, Simon Wood, and\\nAchim Zeileis.\\n\\nOthers have written code that has been adopted by R and is\\nacknowledged in the code files, including\\n\\nJ. D. Beasley, David J. Best, Richard Brent, Kevin Buhr, Michael\\nA. Covington, Bill Cleveland, Robert Cleveland,, G. W. Cran,\\nC. G. Ding, Ulrich Drepper, Paul Eggert, J. O. Evans, David M. Gay,\\nH. Frick, G. W. Hill, Richard H. Jones, Eric Grosse, Shelby Haberman,\\nBruno Haible, John Hartigan, Andrew Harvey, Trevor Hastie, Min Long\\nLam, George Marsaglia, K. J. Martin, Gordon Matzigkeit,\\nC. R. Mckenzie, Jean McRae, Cyrus Mehta, Fionn Murtagh, John C. Nash,\\nFinbarr O\\'Sullivan, R. E. Odeh, William Patefield, Nitin Patel, Alan\\nRichardson, D. E. Roberts, Patrick Royston, Russell Lenth, Ming-Jen\\nShyu, Richard C. Singleton, S. G. Springer, Supoj Sutanthavibul, Irma\\nTerpenning, G. E. Thomas, Rob Tibshirani, Wai Wan Tsang, Berwin\\nTurlach, Gary V. Vaughan, Michael Wichura, Jingbo Wang, M. A. Wong,\\nand the Free Software Foundation (for autoconf code and utilities).\\nSee also files under src/extras.\\n\\nMany more, too numerous to mention here, have contributed by sending bug\\nreports and suggesting various improvements.\\n\\nSimon Davies whilst at the University of Auckland wrote the original\\nversion of glm().\\n\\nJulian Harris and Wing Kwong (Tiki) Wan whilst at the University of\\nAuckland assisted Ross Ihaka with the original Macintosh port.\\n\\nR was inspired by the S environment which has been principally\\ndeveloped by John Chambers, with substantial input from Douglas Bates,\\nRick Becker, Bill Cleveland, Trevor Hastie, Daryl Pregibon and\\nAllan Wilks.\\n\\nA special debt is owed to John Chambers who has graciously contributed\\nadvice and encouragement in the early days of R and later became a\\nmember of the core team.\\n\\n\\n\\nThe R Foundation may decide to give out &lt;first.lastname&gt;@R-project.org\\nemail addresses to contributors to the R Project (even without making them\\nmembers of the R Foundation) when in the view of the R Foundation this\\nwould help advance the R project.\\n\\nThe R Core Group, Roger Bivand, Jennifer Bryan, Di Cook, Dirk Eddelbuettel,\\nJohn Fox, Bettina Gr眉n, Frank Harrell, Torsten Hothorn, Stefano Iacus,\\nJulie Josse, Balasubramanian Narasimhan, Marc Schwartz, Heather Turner,\\nBill Venables, Hadley Wickham and Achim Zeileis are the ordinary members of\\nthe R Foundation.\\nIn addition, David Meyer and Simon Wood are also e-addressable by\\n&lt;Firstname&gt;.&lt;Lastname&gt;@R-project.org.'"
      ],
      "text/plain": [
       "[1] \"R would not be what it is today without the invaluable help of these\\npeople outside of the R core team, who contributed by donating code, bug\\nfixes and documentation:\\n\\nValerio Aimale, Suharto Anggono, Thomas Baier, Henrik Bengtsson, Roger Bivand,\\nBen Bolker, David Brahm, G\\\"oran Brostr\\\"om, Patrick Burns, Vince Carey,\\nSaikat DebRoy, Matt Dowle, Brian D'Urso, Lyndon Drake, Dirk Eddelbuettel,\\nClaus Ekstrom, Sebastian Fischmeister, John Fox, Paul Gilbert,\\nYu Gong, Gabor Grothendieck, Frank E Harrell Jr, Peter M. Haverty,\\nTorsten Hothorn, Robert King, Kjetil Kjernsmo, Roger Koenker, Philippe Lambert,\\nJan de Leeuw, Jim Lindsey, Patrick Lindsey, Catherine Loader,\\nGordon Maclean, Arni Magnusson, John Maindonald, David Meyer, Ei-ji Nakama,\\nJens Oehlschaegel, Steve Oncley, Richard O'Keefe, Hubert Palme,\\nRoger D. Peng, Jose' C. Pinheiro, Tony Plate, Anthony Rossini,\\nJonathan Rougier, Petr Savicky, Guenther Sawitzki, Marc Schwartz,\\nArun Srinivasan, Detlef Steuer, Bill Simpson, Gordon Smyth, Adrian Trapletti,\\nTerry Therneau, Rolf Turner, Bill Venables, Gregory R. Warnes,\\nAndreas Weingessel, Morten Welinder, James Wettenhall, Simon Wood, and\\nAchim Zeileis.\\n\\nOthers have written code that has been adopted by R and is\\nacknowledged in the code files, including\\n\\nJ. D. Beasley, David J. Best, Richard Brent, Kevin Buhr, Michael\\nA. Covington, Bill Cleveland, Robert Cleveland,, G. W. Cran,\\nC. G. Ding, Ulrich Drepper, Paul Eggert, J. O. Evans, David M. Gay,\\nH. Frick, G. W. Hill, Richard H. Jones, Eric Grosse, Shelby Haberman,\\nBruno Haible, John Hartigan, Andrew Harvey, Trevor Hastie, Min Long\\nLam, George Marsaglia, K. J. Martin, Gordon Matzigkeit,\\nC. R. Mckenzie, Jean McRae, Cyrus Mehta, Fionn Murtagh, John C. Nash,\\nFinbarr O'Sullivan, R. E. Odeh, William Patefield, Nitin Patel, Alan\\nRichardson, D. E. Roberts, Patrick Royston, Russell Lenth, Ming-Jen\\nShyu, Richard C. Singleton, S. G. Springer, Supoj Sutanthavibul, Irma\\nTerpenning, G. E. Thomas, Rob Tibshirani, Wai Wan Tsang, Berwin\\nTurlach, Gary V. Vaughan, Michael Wichura, Jingbo Wang, M. A. Wong,\\nand the Free Software Foundation (for autoconf code and utilities).\\nSee also files under src/extras.\\n\\nMany more, too numerous to mention here, have contributed by sending bug\\nreports and suggesting various improvements.\\n\\nSimon Davies whilst at the University of Auckland wrote the original\\nversion of glm().\\n\\nJulian Harris and Wing Kwong (Tiki) Wan whilst at the University of\\nAuckland assisted Ross Ihaka with the original Macintosh port.\\n\\nR was inspired by the S environment which has been principally\\ndeveloped by John Chambers, with substantial input from Douglas Bates,\\nRick Becker, Bill Cleveland, Trevor Hastie, Daryl Pregibon and\\nAllan Wilks.\\n\\nA special debt is owed to John Chambers who has graciously contributed\\nadvice and encouragement in the early days of R and later became a\\nmember of the core team.\\n\\n\\n\\nThe R Foundation may decide to give out <first.lastname>@R-project.org\\nemail addresses to contributors to the R Project (even without making them\\nmembers of the R Foundation) when in the view of the R Foundation this\\nwould help advance the R project.\\n\\nThe R Core Group, Roger Bivand, Jennifer Bryan, Di Cook, Dirk Eddelbuettel,\\nJohn Fox, Bettina Gr<U+7709>n, Frank Harrell, Torsten Hothorn, Stefano Iacus,\\nJulie Josse, Balasubramanian Narasimhan, Marc Schwartz, Heather Turner,\\nBill Venables, Hadley Wickham and Achim Zeileis are the ordinary members of\\nthe R Foundation.\\nIn addition, David Meyer and Simon Wood are also e-addressable by\\n<Firstname>.<Lastname>@R-project.org.\""
      ]
     },
     "metadata": {},
     "output_type": "display_data"
    },
    {
     "data": {
      "text/html": [
       "'R would not be what it is today without the invaluable help of these\\npeople outside of the R core team, who contributed by donating code, bug\\nfixes and documentation:'"
      ],
      "text/latex": [
       "'R would not be what it is today without the invaluable help of these\\textbackslash{}npeople outside of the R core team, who contributed by donating code, bug\\textbackslash{}nfixes and documentation:'"
      ],
      "text/markdown": [
       "'R would not be what it is today without the invaluable help of these\\npeople outside of the R core team, who contributed by donating code, bug\\nfixes and documentation:'"
      ],
      "text/plain": [
       "[1] \"R would not be what it is today without the invaluable help of these\\npeople outside of the R core team, who contributed by donating code, bug\\nfixes and documentation:\""
      ]
     },
     "metadata": {},
     "output_type": "display_data"
    },
    {
     "data": {
      "text/html": [
       "'R would not be what\\nit is today without\\nthe invaluable\\nhelp of these\\npeople outside of\\nthe R core team,\\nwho contributed\\nby donating code,\\nbug fixes and\\ndocumentation:'"
      ],
      "text/latex": [
       "'R would not be what\\textbackslash{}nit is today without\\textbackslash{}nthe invaluable\\textbackslash{}nhelp of these\\textbackslash{}npeople outside of\\textbackslash{}nthe R core team,\\textbackslash{}nwho contributed\\textbackslash{}nby donating code,\\textbackslash{}nbug fixes and\\textbackslash{}ndocumentation:'"
      ],
      "text/markdown": [
       "'R would not be what\\nit is today without\\nthe invaluable\\nhelp of these\\npeople outside of\\nthe R core team,\\nwho contributed\\nby donating code,\\nbug fixes and\\ndocumentation:'"
      ],
      "text/plain": [
       "[1] \"R would not be what\\nit is today without\\nthe invaluable\\nhelp of these\\npeople outside of\\nthe R core team,\\nwho contributed\\nby donating code,\\nbug fixes and\\ndocumentation:\""
      ]
     },
     "metadata": {},
     "output_type": "display_data"
    },
    {
     "name": "stdout",
     "output_type": "stream",
     "text": [
      "R would not be what\n",
      "it is today without\n",
      "the invaluable\n",
      "help of these\n",
      "people outside of\n",
      "the R core team,\n",
      "who contributed\n",
      "by donating code,\n",
      "bug fixes and\n",
      "documentation: \n",
      "R would not be what it is today\n",
      "without the invaluable help of these\n",
      "people outside of the R core team, who\n",
      "contributed by donating code, bug fixes\n",
      "and documentation: \n",
      "  R would not be what it is today without the invaluable help\n",
      "of these people outside of the R core team, who contributed\n",
      "by donating code, bug fixes and documentation: \n",
      "R would not be what it is today without the invaluable help\n",
      "  of these people outside of the R core team, who contributed\n",
      "  by donating code, bug fixes and documentation: \n"
     ]
    }
   ],
   "source": [
    "#str_wrap(string,width=80,indent=0,exdent=0)\n",
    "# string\tcharacter vector of strings to reformat.\n",
    "# width\tpositive integer giving target line width in characters. A width less than or equal to 1 will put each word on its own line.\n",
    "# indent\tnon-negative integer giving indentation of first line in each paragraph\n",
    "# exdent\tnon-negative integer giving indentation of following lines in each paragraph\n",
    "thanks_path<-file.path(R.home(\"doc\"),\"THANKS\")\n",
    "thanks<-str_c(readLines(thanks_path),collapse = \"\\n\")\n",
    "thanks\n",
    "thanks<-word(thanks,1,1,fixed(\"\\n\\n\"))\n",
    "thanks\n",
    "str_wrap(thanks, width=20)\n",
    "cat(str_wrap(thanks, width=20),\"\\n\")\n",
    "cat(str_wrap(thanks,width=40),\"\\n\")\n",
    "cat(str_wrap(thanks,width=60,indent=2),\"\\n\")\n",
    "cat(str_wrap(thanks,width=60,exdent=2),\"\\n\")"
   ]
  },
  {
   "cell_type": "code",
   "execution_count": 51,
   "metadata": {
    "scrolled": true
   },
   "outputs": [
    {
     "data": {
      "text/html": [
       "'bcd'"
      ],
      "text/latex": [
       "'bcd'"
      ],
      "text/markdown": [
       "'bcd'"
      ],
      "text/plain": [
       "[1] \"bcd\""
      ]
     },
     "metadata": {},
     "output_type": "display_data"
    },
    {
     "data": {
      "text/html": [
       "'a'"
      ],
      "text/latex": [
       "'a'"
      ],
      "text/markdown": [
       "'a'"
      ],
      "text/plain": [
       "[1] \"a\""
      ]
     },
     "metadata": {},
     "output_type": "display_data"
    },
    {
     "data": {
      "text/html": [
       "<ol class=list-inline>\n",
       "\t<li>'a'</li>\n",
       "\t<li>'b'</li>\n",
       "\t<li>'c'</li>\n",
       "\t<li>'d'</li>\n",
       "\t<li>'e'</li>\n",
       "\t<li>'f'</li>\n",
       "</ol>\n"
      ],
      "text/latex": [
       "\\begin{enumerate*}\n",
       "\\item 'a'\n",
       "\\item 'b'\n",
       "\\item 'c'\n",
       "\\item 'd'\n",
       "\\item 'e'\n",
       "\\item 'f'\n",
       "\\end{enumerate*}\n"
      ],
      "text/markdown": [
       "1. 'a'\n",
       "2. 'b'\n",
       "3. 'c'\n",
       "4. 'd'\n",
       "5. 'e'\n",
       "6. 'f'\n",
       "\n",
       "\n"
      ],
      "text/plain": [
       "[1] \"a\" \"b\" \"c\" \"d\" \"e\" \"f\""
      ]
     },
     "metadata": {},
     "output_type": "display_data"
    },
    {
     "data": {
      "text/html": [
       "<ol class=list-inline>\n",
       "\t<li>'abcd'</li>\n",
       "\t<li>'bcde'</li>\n",
       "\t<li>'cd'</li>\n",
       "\t<li>'de'</li>\n",
       "</ol>\n"
      ],
      "text/latex": [
       "\\begin{enumerate*}\n",
       "\\item 'abcd'\n",
       "\\item 'bcde'\n",
       "\\item 'cd'\n",
       "\\item 'de'\n",
       "\\end{enumerate*}\n"
      ],
      "text/markdown": [
       "1. 'abcd'\n",
       "2. 'bcde'\n",
       "3. 'cd'\n",
       "4. 'de'\n",
       "\n",
       "\n"
      ],
      "text/plain": [
       "[1] \"abcd\" \"bcde\" \"cd\"   \"de\"  "
      ]
     },
     "metadata": {},
     "output_type": "display_data"
    },
    {
     "data": {
      "text/html": [
       "<ol class=list-inline>\n",
       "\t<li>'asfef'</li>\n",
       "\t<li>'qwerty'</li>\n",
       "\t<li>'yuiop['</li>\n",
       "\t<li>'b'</li>\n",
       "\t<li>'stuff.blah.yech'</li>\n",
       "</ol>\n"
      ],
      "text/latex": [
       "\\begin{enumerate*}\n",
       "\\item 'asfef'\n",
       "\\item 'qwerty'\n",
       "\\item 'yuiop{[}'\n",
       "\\item 'b'\n",
       "\\item 'stuff.blah.yech'\n",
       "\\end{enumerate*}\n"
      ],
      "text/markdown": [
       "1. 'asfef'\n",
       "2. 'qwerty'\n",
       "3. 'yuiop['\n",
       "4. 'b'\n",
       "5. 'stuff.blah.yech'\n",
       "\n",
       "\n"
      ],
      "text/plain": [
       "[1] \"asfef\"           \"qwerty\"          \"yuiop[\"          \"b\"              \n",
       "[5] \"stuff.blah.yech\""
      ]
     },
     "metadata": {},
     "output_type": "display_data"
    },
    {
     "data": {
      "text/html": [
       "<ol class=list-inline>\n",
       "\t<li>'sfef'</li>\n",
       "\t<li>'wert'</li>\n",
       "\t<li>'uiop'</li>\n",
       "\t<li>''</li>\n",
       "\t<li>'tuff'</li>\n",
       "</ol>\n"
      ],
      "text/latex": [
       "\\begin{enumerate*}\n",
       "\\item 'sfef'\n",
       "\\item 'wert'\n",
       "\\item 'uiop'\n",
       "\\item ''\n",
       "\\item 'tuff'\n",
       "\\end{enumerate*}\n"
      ],
      "text/markdown": [
       "1. 'sfef'\n",
       "2. 'wert'\n",
       "3. 'uiop'\n",
       "4. ''\n",
       "5. 'tuff'\n",
       "\n",
       "\n"
      ],
      "text/plain": [
       "[1] \"sfef\" \"wert\" \"uiop\" \"\"     \"tuff\""
      ]
     },
     "metadata": {},
     "output_type": "display_data"
    },
    {
     "data": {
      "text/html": [
       "<ol class=list-inline>\n",
       "\t<li>'sfe'</li>\n",
       "\t<li>'wert'</li>\n",
       "\t<li>'uiop['</li>\n",
       "\t<li>''</li>\n",
       "\t<li>'tuff'</li>\n",
       "</ol>\n"
      ],
      "text/latex": [
       "\\begin{enumerate*}\n",
       "\\item 'sfe'\n",
       "\\item 'wert'\n",
       "\\item 'uiop{[}'\n",
       "\\item ''\n",
       "\\item 'tuff'\n",
       "\\end{enumerate*}\n"
      ],
      "text/markdown": [
       "1. 'sfe'\n",
       "2. 'wert'\n",
       "3. 'uiop['\n",
       "4. ''\n",
       "5. 'tuff'\n",
       "\n",
       "\n"
      ],
      "text/plain": [
       "[1] \"sfe\"   \"wert\"  \"uiop[\" \"\"      \"tuff\" "
      ]
     },
     "metadata": {},
     "output_type": "display_data"
    },
    {
     "data": {
      "text/html": [
       "<ol class=list-inline>\n",
       "\t<li>'a..ef'</li>\n",
       "\t<li>'q+++ty'</li>\n",
       "\t<li>'y..op['</li>\n",
       "\t<li>'b'</li>\n",
       "\t<li>'s..ff.blah.yech'</li>\n",
       "</ol>\n"
      ],
      "text/latex": [
       "\\begin{enumerate*}\n",
       "\\item 'a..ef'\n",
       "\\item 'q+++ty'\n",
       "\\item 'y..op{[}'\n",
       "\\item 'b'\n",
       "\\item 's..ff.blah.yech'\n",
       "\\end{enumerate*}\n"
      ],
      "text/markdown": [
       "1. 'a..ef'\n",
       "2. 'q+++ty'\n",
       "3. 'y..op['\n",
       "4. 'b'\n",
       "5. 's..ff.blah.yech'\n",
       "\n",
       "\n"
      ],
      "text/plain": [
       "[1] \"a..ef\"           \"q+++ty\"          \"y..op[\"          \"b\"              \n",
       "[5] \"s..ff.blah.yech\""
      ]
     },
     "metadata": {},
     "output_type": "display_data"
    }
   ],
   "source": [
    "substr(\"abcdef\", 2, 4)\n",
    "substr(\"abcdef\", 1:6, 1:6)\n",
    "substring(\"abcdef\", 1:6, 1:6)\n",
    "## strsplit is more efficient ...\n",
    "\n",
    "substr(rep(\"abcdef\", 4), 1:4, 4:5)\n",
    "x <- c(\"asfef\", \"qwerty\", \"yuiop[\", \"b\", \"stuff.blah.yech\");x\n",
    "substr(x, 2, 5)\n",
    "substring(x, 2, 4:6)\n",
    "\n",
    "substring(x, 2) <- c(\"..\", \"+++\")\n",
    "x"
   ]
  },
  {
   "cell_type": "code",
   "execution_count": null,
   "metadata": {},
   "outputs": [],
   "source": []
  }
 ],
 "metadata": {
  "kernelspec": {
   "display_name": "R",
   "language": "R",
   "name": "ir"
  },
  "language_info": {
   "codemirror_mode": "r",
   "file_extension": ".r",
   "mimetype": "text/x-r-source",
   "name": "R",
   "pygments_lexer": "r",
   "version": "3.6.1"
  }
 },
 "nbformat": 4,
 "nbformat_minor": 2
}
