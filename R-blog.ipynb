{
 "cells": [
  {
   "cell_type": "code",
   "execution_count": 6,
   "id": "16312084",
   "metadata": {},
   "outputs": [
    {
     "data": {
      "text/html": [
       "'data.frame'"
      ],
      "text/latex": [
       "'data.frame'"
      ],
      "text/markdown": [
       "'data.frame'"
      ],
      "text/plain": [
       "[1] \"data.frame\""
      ]
     },
     "metadata": {},
     "output_type": "display_data"
    }
   ],
   "source": [
    "data <- read.csv(\"Project/data/IBM.csv\")\n",
    "class(data)"
   ]
  },
  {
   "cell_type": "code",
   "execution_count": 9,
   "id": "ebce2562",
   "metadata": {},
   "outputs": [
    {
     "data": {
      "text/html": [
       "<table>\n",
       "<thead><tr><th scope=col>Date</th><th scope=col>Open</th><th scope=col>High</th><th scope=col>Low</th><th scope=col>Close</th><th scope=col>Adj.Close</th><th scope=col>Volume</th></tr></thead>\n",
       "<tbody>\n",
       "\t<tr><td>2018-01-02</td><td>154.50    </td><td>154.81    </td><td>153.54    </td><td>154.25    </td><td>142.4840  </td><td>4202500   </td></tr>\n",
       "\t<tr><td>2018-01-03</td><td>157.34    </td><td>159.81    </td><td>156.33    </td><td>158.49    </td><td>146.4006  </td><td>9441600   </td></tr>\n",
       "\t<tr><td>2018-01-04</td><td>159.65    </td><td>162.32    </td><td>159.37    </td><td>161.70    </td><td>149.3657  </td><td>7556200   </td></tr>\n",
       "\t<tr><td>2018-01-05</td><td>162.44    </td><td>162.90    </td><td>161.10    </td><td>162.49    </td><td>150.0954  </td><td>5195800   </td></tr>\n",
       "\t<tr><td>2018-01-08</td><td>162.66    </td><td>163.91    </td><td>161.70    </td><td>163.47    </td><td>151.0007  </td><td>5237500   </td></tr>\n",
       "\t<tr><td>2018-01-09</td><td>163.90    </td><td>164.53    </td><td>163.06    </td><td>163.83    </td><td>151.3332  </td><td>4341800   </td></tr>\n",
       "</tbody>\n",
       "</table>\n"
      ],
      "text/latex": [
       "\\begin{tabular}{r|lllllll}\n",
       " Date & Open & High & Low & Close & Adj.Close & Volume\\\\\n",
       "\\hline\n",
       "\t 2018-01-02 & 154.50     & 154.81     & 153.54     & 154.25     & 142.4840   & 4202500   \\\\\n",
       "\t 2018-01-03 & 157.34     & 159.81     & 156.33     & 158.49     & 146.4006   & 9441600   \\\\\n",
       "\t 2018-01-04 & 159.65     & 162.32     & 159.37     & 161.70     & 149.3657   & 7556200   \\\\\n",
       "\t 2018-01-05 & 162.44     & 162.90     & 161.10     & 162.49     & 150.0954   & 5195800   \\\\\n",
       "\t 2018-01-08 & 162.66     & 163.91     & 161.70     & 163.47     & 151.0007   & 5237500   \\\\\n",
       "\t 2018-01-09 & 163.90     & 164.53     & 163.06     & 163.83     & 151.3332   & 4341800   \\\\\n",
       "\\end{tabular}\n"
      ],
      "text/markdown": [
       "\n",
       "| Date | Open | High | Low | Close | Adj.Close | Volume |\n",
       "|---|---|---|---|---|---|---|\n",
       "| 2018-01-02 | 154.50     | 154.81     | 153.54     | 154.25     | 142.4840   | 4202500    |\n",
       "| 2018-01-03 | 157.34     | 159.81     | 156.33     | 158.49     | 146.4006   | 9441600    |\n",
       "| 2018-01-04 | 159.65     | 162.32     | 159.37     | 161.70     | 149.3657   | 7556200    |\n",
       "| 2018-01-05 | 162.44     | 162.90     | 161.10     | 162.49     | 150.0954   | 5195800    |\n",
       "| 2018-01-08 | 162.66     | 163.91     | 161.70     | 163.47     | 151.0007   | 5237500    |\n",
       "| 2018-01-09 | 163.90     | 164.53     | 163.06     | 163.83     | 151.3332   | 4341800    |\n",
       "\n"
      ],
      "text/plain": [
       "  Date       Open   High   Low    Close  Adj.Close Volume \n",
       "1 2018-01-02 154.50 154.81 153.54 154.25 142.4840  4202500\n",
       "2 2018-01-03 157.34 159.81 156.33 158.49 146.4006  9441600\n",
       "3 2018-01-04 159.65 162.32 159.37 161.70 149.3657  7556200\n",
       "4 2018-01-05 162.44 162.90 161.10 162.49 150.0954  5195800\n",
       "5 2018-01-08 162.66 163.91 161.70 163.47 151.0007  5237500\n",
       "6 2018-01-09 163.90 164.53 163.06 163.83 151.3332  4341800"
      ]
     },
     "metadata": {},
     "output_type": "display_data"
    },
    {
     "data": {
      "text/html": [
       "251"
      ],
      "text/latex": [
       "251"
      ],
      "text/markdown": [
       "251"
      ],
      "text/plain": [
       "[1] 251"
      ]
     },
     "metadata": {},
     "output_type": "display_data"
    }
   ],
   "source": [
    "head(data)\n",
    "nrow(data)"
   ]
  },
  {
   "cell_type": "code",
   "execution_count": null,
   "id": "625f786d",
   "metadata": {},
   "outputs": [],
   "source": []
  }
 ],
 "metadata": {
  "kernelspec": {
   "display_name": "R",
   "language": "R",
   "name": "ir"
  },
  "language_info": {
   "codemirror_mode": "r",
   "file_extension": ".r",
   "mimetype": "text/x-r-source",
   "name": "R",
   "pygments_lexer": "r",
   "version": "3.6.1"
  }
 },
 "nbformat": 4,
 "nbformat_minor": 5
}
