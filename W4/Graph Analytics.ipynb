{
 "cells": [
  {
   "cell_type": "code",
   "execution_count": 1,
   "metadata": {
    "scrolled": true
   },
   "outputs": [],
   "source": [
    "install.packages(\"ggraph\")\n",
    "install.packages(\"igraph\")\n",
    "install.packages(\"graphframes\")"
   ]
  },
  {
   "cell_type": "code",
   "execution_count": 1,
   "metadata": {},
   "outputs": [
    {
     "name": "stderr",
     "output_type": "stream",
     "text": [
      "\n",
      "Attaching package: 'dplyr'\n",
      "\n",
      "\n",
      "The following objects are masked from 'package:stats':\n",
      "\n",
      "    filter, lag\n",
      "\n",
      "\n",
      "The following objects are masked from 'package:base':\n",
      "\n",
      "    intersect, setdiff, setequal, union\n",
      "\n",
      "\n",
      "Warning message:\n",
      "\"package 'ggraph' was built under R version 3.6.3\"\n",
      "Loading required package: ggplot2\n",
      "\n",
      "Warning message:\n",
      "\"package 'igraph' was built under R version 3.6.3\"\n",
      "\n",
      "Attaching package: 'igraph'\n",
      "\n",
      "\n",
      "The following objects are masked from 'package:dplyr':\n",
      "\n",
      "    as_data_frame, groups, union\n",
      "\n",
      "\n",
      "The following objects are masked from 'package:stats':\n",
      "\n",
      "    decompose, spectrum\n",
      "\n",
      "\n",
      "The following object is masked from 'package:base':\n",
      "\n",
      "    union\n",
      "\n",
      "\n",
      "Warning message:\n",
      "\"package 'graphframes' was built under R version 3.6.3\"\n"
     ]
    }
   ],
   "source": [
    "library(sparklyr)\n",
    "library(dplyr)\n",
    "library(ggraph)\n",
    "library(igraph)\n",
    "library(graphframes)"
   ]
  },
  {
   "cell_type": "code",
   "execution_count": 2,
   "metadata": {
    "scrolled": true
   },
   "outputs": [
    {
     "data": {
      "text/html": [
       "<table>\n",
       "<caption>A data.frame: 6 × 3</caption>\n",
       "<thead>\n",
       "\t<tr><th></th><th scope=col>from</th><th scope=col>to</th><th scope=col>year</th></tr>\n",
       "\t<tr><th></th><th scope=col>&lt;dbl&gt;</th><th scope=col>&lt;dbl&gt;</th><th scope=col>&lt;dbl&gt;</th></tr>\n",
       "</thead>\n",
       "<tbody>\n",
       "\t<tr><th scope=row>1</th><td>1</td><td>14</td><td>1957</td></tr>\n",
       "\t<tr><th scope=row>2</th><td>1</td><td>15</td><td>1957</td></tr>\n",
       "\t<tr><th scope=row>3</th><td>1</td><td>21</td><td>1957</td></tr>\n",
       "\t<tr><th scope=row>4</th><td>1</td><td>54</td><td>1957</td></tr>\n",
       "\t<tr><th scope=row>5</th><td>1</td><td>55</td><td>1957</td></tr>\n",
       "\t<tr><th scope=row>6</th><td>2</td><td>21</td><td>1957</td></tr>\n",
       "</tbody>\n",
       "</table>\n"
      ],
      "text/latex": [
       "A data.frame: 6 × 3\n",
       "\\begin{tabular}{r|lll}\n",
       "  & from & to & year\\\\\n",
       "  & <dbl> & <dbl> & <dbl>\\\\\n",
       "\\hline\n",
       "\t1 & 1 & 14 & 1957\\\\\n",
       "\t2 & 1 & 15 & 1957\\\\\n",
       "\t3 & 1 & 21 & 1957\\\\\n",
       "\t4 & 1 & 54 & 1957\\\\\n",
       "\t5 & 1 & 55 & 1957\\\\\n",
       "\t6 & 2 & 21 & 1957\\\\\n",
       "\\end{tabular}\n"
      ],
      "text/markdown": [
       "\n",
       "A data.frame: 6 × 3\n",
       "\n",
       "| <!--/--> | from &lt;dbl&gt; | to &lt;dbl&gt; | year &lt;dbl&gt; |\n",
       "|---|---|---|---|\n",
       "| 1 | 1 | 14 | 1957 |\n",
       "| 2 | 1 | 15 | 1957 |\n",
       "| 3 | 1 | 21 | 1957 |\n",
       "| 4 | 1 | 54 | 1957 |\n",
       "| 5 | 1 | 55 | 1957 |\n",
       "| 6 | 2 | 21 | 1957 |\n",
       "\n"
      ],
      "text/plain": [
       "  from to year\n",
       "1 1    14 1957\n",
       "2 1    15 1957\n",
       "3 1    21 1957\n",
       "4 1    54 1957\n",
       "5 1    55 1957\n",
       "6 2    21 1957"
      ]
     },
     "metadata": {},
     "output_type": "display_data"
    }
   ],
   "source": [
    "head(highschool)"
   ]
  },
  {
   "cell_type": "code",
   "execution_count": 3,
   "metadata": {},
   "outputs": [
    {
     "data": {
      "text/html": [
       "<table>\n",
       "<caption>A data.frame: 506 × 3</caption>\n",
       "<thead>\n",
       "\t<tr><th></th><th scope=col>from</th><th scope=col>to</th><th scope=col>year</th></tr>\n",
       "\t<tr><th></th><th scope=col>&lt;dbl&gt;</th><th scope=col>&lt;dbl&gt;</th><th scope=col>&lt;dbl&gt;</th></tr>\n",
       "</thead>\n",
       "<tbody>\n",
       "\t<tr><th scope=row>1</th><td> 1</td><td>14</td><td>1957</td></tr>\n",
       "\t<tr><th scope=row>2</th><td> 1</td><td>15</td><td>1957</td></tr>\n",
       "\t<tr><th scope=row>3</th><td> 1</td><td>21</td><td>1957</td></tr>\n",
       "\t<tr><th scope=row>4</th><td> 1</td><td>54</td><td>1957</td></tr>\n",
       "\t<tr><th scope=row>5</th><td> 1</td><td>55</td><td>1957</td></tr>\n",
       "\t<tr><th scope=row>6</th><td> 2</td><td>21</td><td>1957</td></tr>\n",
       "\t<tr><th scope=row>7</th><td> 2</td><td>22</td><td>1957</td></tr>\n",
       "\t<tr><th scope=row>8</th><td> 3</td><td> 9</td><td>1957</td></tr>\n",
       "\t<tr><th scope=row>9</th><td> 3</td><td>15</td><td>1957</td></tr>\n",
       "\t<tr><th scope=row>10</th><td> 4</td><td> 5</td><td>1957</td></tr>\n",
       "\t<tr><th scope=row>11</th><td> 4</td><td>18</td><td>1957</td></tr>\n",
       "\t<tr><th scope=row>12</th><td> 4</td><td>19</td><td>1957</td></tr>\n",
       "\t<tr><th scope=row>13</th><td> 4</td><td>43</td><td>1957</td></tr>\n",
       "\t<tr><th scope=row>14</th><td> 5</td><td>19</td><td>1957</td></tr>\n",
       "\t<tr><th scope=row>15</th><td> 5</td><td>43</td><td>1957</td></tr>\n",
       "\t<tr><th scope=row>16</th><td> 6</td><td>13</td><td>1957</td></tr>\n",
       "\t<tr><th scope=row>17</th><td> 6</td><td>20</td><td>1957</td></tr>\n",
       "\t<tr><th scope=row>18</th><td> 6</td><td>22</td><td>1957</td></tr>\n",
       "\t<tr><th scope=row>19</th><td> 7</td><td>17</td><td>1957</td></tr>\n",
       "\t<tr><th scope=row>20</th><td> 8</td><td>14</td><td>1957</td></tr>\n",
       "\t<tr><th scope=row>21</th><td> 8</td><td>17</td><td>1957</td></tr>\n",
       "\t<tr><th scope=row>22</th><td> 9</td><td>12</td><td>1957</td></tr>\n",
       "\t<tr><th scope=row>23</th><td> 9</td><td>20</td><td>1957</td></tr>\n",
       "\t<tr><th scope=row>24</th><td> 9</td><td>21</td><td>1957</td></tr>\n",
       "\t<tr><th scope=row>25</th><td> 9</td><td>22</td><td>1957</td></tr>\n",
       "\t<tr><th scope=row>26</th><td> 9</td><td>51</td><td>1957</td></tr>\n",
       "\t<tr><th scope=row>27</th><td>11</td><td>19</td><td>1957</td></tr>\n",
       "\t<tr><th scope=row>28</th><td>11</td><td>50</td><td>1957</td></tr>\n",
       "\t<tr><th scope=row>29</th><td>11</td><td>52</td><td>1957</td></tr>\n",
       "\t<tr><th scope=row>30</th><td>11</td><td>53</td><td>1957</td></tr>\n",
       "\t<tr><th scope=row>...</th><td>...</td><td>...</td><td>...</td></tr>\n",
       "\t<tr><th scope=row>477</th><td>65</td><td>70</td><td>1958</td></tr>\n",
       "\t<tr><th scope=row>478</th><td>65</td><td>71</td><td>1958</td></tr>\n",
       "\t<tr><th scope=row>479</th><td>66</td><td>63</td><td>1958</td></tr>\n",
       "\t<tr><th scope=row>480</th><td>66</td><td>64</td><td>1958</td></tr>\n",
       "\t<tr><th scope=row>481</th><td>66</td><td>67</td><td>1958</td></tr>\n",
       "\t<tr><th scope=row>482</th><td>66</td><td>70</td><td>1958</td></tr>\n",
       "\t<tr><th scope=row>483</th><td>66</td><td>71</td><td>1958</td></tr>\n",
       "\t<tr><th scope=row>484</th><td>67</td><td>60</td><td>1958</td></tr>\n",
       "\t<tr><th scope=row>485</th><td>67</td><td>63</td><td>1958</td></tr>\n",
       "\t<tr><th scope=row>486</th><td>67</td><td>66</td><td>1958</td></tr>\n",
       "\t<tr><th scope=row>487</th><td>67</td><td>70</td><td>1958</td></tr>\n",
       "\t<tr><th scope=row>488</th><td>67</td><td>71</td><td>1958</td></tr>\n",
       "\t<tr><th scope=row>489</th><td>68</td><td>62</td><td>1958</td></tr>\n",
       "\t<tr><th scope=row>490</th><td>68</td><td>70</td><td>1958</td></tr>\n",
       "\t<tr><th scope=row>491</th><td>68</td><td>71</td><td>1958</td></tr>\n",
       "\t<tr><th scope=row>492</th><td>69</td><td>63</td><td>1958</td></tr>\n",
       "\t<tr><th scope=row>493</th><td>69</td><td>64</td><td>1958</td></tr>\n",
       "\t<tr><th scope=row>494</th><td>69</td><td>66</td><td>1958</td></tr>\n",
       "\t<tr><th scope=row>495</th><td>69</td><td>67</td><td>1958</td></tr>\n",
       "\t<tr><th scope=row>496</th><td>69</td><td>71</td><td>1958</td></tr>\n",
       "\t<tr><th scope=row>497</th><td>70</td><td>63</td><td>1958</td></tr>\n",
       "\t<tr><th scope=row>498</th><td>70</td><td>66</td><td>1958</td></tr>\n",
       "\t<tr><th scope=row>499</th><td>70</td><td>67</td><td>1958</td></tr>\n",
       "\t<tr><th scope=row>500</th><td>70</td><td>69</td><td>1958</td></tr>\n",
       "\t<tr><th scope=row>501</th><td>70</td><td>71</td><td>1958</td></tr>\n",
       "\t<tr><th scope=row>502</th><td>71</td><td>56</td><td>1958</td></tr>\n",
       "\t<tr><th scope=row>503</th><td>71</td><td>62</td><td>1958</td></tr>\n",
       "\t<tr><th scope=row>504</th><td>71</td><td>66</td><td>1958</td></tr>\n",
       "\t<tr><th scope=row>505</th><td>71</td><td>67</td><td>1958</td></tr>\n",
       "\t<tr><th scope=row>506</th><td>71</td><td>70</td><td>1958</td></tr>\n",
       "</tbody>\n",
       "</table>\n"
      ],
      "text/latex": [
       "A data.frame: 506 × 3\n",
       "\\begin{tabular}{r|lll}\n",
       "  & from & to & year\\\\\n",
       "  & <dbl> & <dbl> & <dbl>\\\\\n",
       "\\hline\n",
       "\t1 &  1 & 14 & 1957\\\\\n",
       "\t2 &  1 & 15 & 1957\\\\\n",
       "\t3 &  1 & 21 & 1957\\\\\n",
       "\t4 &  1 & 54 & 1957\\\\\n",
       "\t5 &  1 & 55 & 1957\\\\\n",
       "\t6 &  2 & 21 & 1957\\\\\n",
       "\t7 &  2 & 22 & 1957\\\\\n",
       "\t8 &  3 &  9 & 1957\\\\\n",
       "\t9 &  3 & 15 & 1957\\\\\n",
       "\t10 &  4 &  5 & 1957\\\\\n",
       "\t11 &  4 & 18 & 1957\\\\\n",
       "\t12 &  4 & 19 & 1957\\\\\n",
       "\t13 &  4 & 43 & 1957\\\\\n",
       "\t14 &  5 & 19 & 1957\\\\\n",
       "\t15 &  5 & 43 & 1957\\\\\n",
       "\t16 &  6 & 13 & 1957\\\\\n",
       "\t17 &  6 & 20 & 1957\\\\\n",
       "\t18 &  6 & 22 & 1957\\\\\n",
       "\t19 &  7 & 17 & 1957\\\\\n",
       "\t20 &  8 & 14 & 1957\\\\\n",
       "\t21 &  8 & 17 & 1957\\\\\n",
       "\t22 &  9 & 12 & 1957\\\\\n",
       "\t23 &  9 & 20 & 1957\\\\\n",
       "\t24 &  9 & 21 & 1957\\\\\n",
       "\t25 &  9 & 22 & 1957\\\\\n",
       "\t26 &  9 & 51 & 1957\\\\\n",
       "\t27 & 11 & 19 & 1957\\\\\n",
       "\t28 & 11 & 50 & 1957\\\\\n",
       "\t29 & 11 & 52 & 1957\\\\\n",
       "\t30 & 11 & 53 & 1957\\\\\n",
       "\t... & ... & ... & ...\\\\\n",
       "\t477 & 65 & 70 & 1958\\\\\n",
       "\t478 & 65 & 71 & 1958\\\\\n",
       "\t479 & 66 & 63 & 1958\\\\\n",
       "\t480 & 66 & 64 & 1958\\\\\n",
       "\t481 & 66 & 67 & 1958\\\\\n",
       "\t482 & 66 & 70 & 1958\\\\\n",
       "\t483 & 66 & 71 & 1958\\\\\n",
       "\t484 & 67 & 60 & 1958\\\\\n",
       "\t485 & 67 & 63 & 1958\\\\\n",
       "\t486 & 67 & 66 & 1958\\\\\n",
       "\t487 & 67 & 70 & 1958\\\\\n",
       "\t488 & 67 & 71 & 1958\\\\\n",
       "\t489 & 68 & 62 & 1958\\\\\n",
       "\t490 & 68 & 70 & 1958\\\\\n",
       "\t491 & 68 & 71 & 1958\\\\\n",
       "\t492 & 69 & 63 & 1958\\\\\n",
       "\t493 & 69 & 64 & 1958\\\\\n",
       "\t494 & 69 & 66 & 1958\\\\\n",
       "\t495 & 69 & 67 & 1958\\\\\n",
       "\t496 & 69 & 71 & 1958\\\\\n",
       "\t497 & 70 & 63 & 1958\\\\\n",
       "\t498 & 70 & 66 & 1958\\\\\n",
       "\t499 & 70 & 67 & 1958\\\\\n",
       "\t500 & 70 & 69 & 1958\\\\\n",
       "\t501 & 70 & 71 & 1958\\\\\n",
       "\t502 & 71 & 56 & 1958\\\\\n",
       "\t503 & 71 & 62 & 1958\\\\\n",
       "\t504 & 71 & 66 & 1958\\\\\n",
       "\t505 & 71 & 67 & 1958\\\\\n",
       "\t506 & 71 & 70 & 1958\\\\\n",
       "\\end{tabular}\n"
      ],
      "text/markdown": [
       "\n",
       "A data.frame: 506 × 3\n",
       "\n",
       "| <!--/--> | from &lt;dbl&gt; | to &lt;dbl&gt; | year &lt;dbl&gt; |\n",
       "|---|---|---|---|\n",
       "| 1 |  1 | 14 | 1957 |\n",
       "| 2 |  1 | 15 | 1957 |\n",
       "| 3 |  1 | 21 | 1957 |\n",
       "| 4 |  1 | 54 | 1957 |\n",
       "| 5 |  1 | 55 | 1957 |\n",
       "| 6 |  2 | 21 | 1957 |\n",
       "| 7 |  2 | 22 | 1957 |\n",
       "| 8 |  3 |  9 | 1957 |\n",
       "| 9 |  3 | 15 | 1957 |\n",
       "| 10 |  4 |  5 | 1957 |\n",
       "| 11 |  4 | 18 | 1957 |\n",
       "| 12 |  4 | 19 | 1957 |\n",
       "| 13 |  4 | 43 | 1957 |\n",
       "| 14 |  5 | 19 | 1957 |\n",
       "| 15 |  5 | 43 | 1957 |\n",
       "| 16 |  6 | 13 | 1957 |\n",
       "| 17 |  6 | 20 | 1957 |\n",
       "| 18 |  6 | 22 | 1957 |\n",
       "| 19 |  7 | 17 | 1957 |\n",
       "| 20 |  8 | 14 | 1957 |\n",
       "| 21 |  8 | 17 | 1957 |\n",
       "| 22 |  9 | 12 | 1957 |\n",
       "| 23 |  9 | 20 | 1957 |\n",
       "| 24 |  9 | 21 | 1957 |\n",
       "| 25 |  9 | 22 | 1957 |\n",
       "| 26 |  9 | 51 | 1957 |\n",
       "| 27 | 11 | 19 | 1957 |\n",
       "| 28 | 11 | 50 | 1957 |\n",
       "| 29 | 11 | 52 | 1957 |\n",
       "| 30 | 11 | 53 | 1957 |\n",
       "| ... | ... | ... | ... |\n",
       "| 477 | 65 | 70 | 1958 |\n",
       "| 478 | 65 | 71 | 1958 |\n",
       "| 479 | 66 | 63 | 1958 |\n",
       "| 480 | 66 | 64 | 1958 |\n",
       "| 481 | 66 | 67 | 1958 |\n",
       "| 482 | 66 | 70 | 1958 |\n",
       "| 483 | 66 | 71 | 1958 |\n",
       "| 484 | 67 | 60 | 1958 |\n",
       "| 485 | 67 | 63 | 1958 |\n",
       "| 486 | 67 | 66 | 1958 |\n",
       "| 487 | 67 | 70 | 1958 |\n",
       "| 488 | 67 | 71 | 1958 |\n",
       "| 489 | 68 | 62 | 1958 |\n",
       "| 490 | 68 | 70 | 1958 |\n",
       "| 491 | 68 | 71 | 1958 |\n",
       "| 492 | 69 | 63 | 1958 |\n",
       "| 493 | 69 | 64 | 1958 |\n",
       "| 494 | 69 | 66 | 1958 |\n",
       "| 495 | 69 | 67 | 1958 |\n",
       "| 496 | 69 | 71 | 1958 |\n",
       "| 497 | 70 | 63 | 1958 |\n",
       "| 498 | 70 | 66 | 1958 |\n",
       "| 499 | 70 | 67 | 1958 |\n",
       "| 500 | 70 | 69 | 1958 |\n",
       "| 501 | 70 | 71 | 1958 |\n",
       "| 502 | 71 | 56 | 1958 |\n",
       "| 503 | 71 | 62 | 1958 |\n",
       "| 504 | 71 | 66 | 1958 |\n",
       "| 505 | 71 | 67 | 1958 |\n",
       "| 506 | 71 | 70 | 1958 |\n",
       "\n"
      ],
      "text/plain": [
       "    from to  year\n",
       "1    1   14  1957\n",
       "2    1   15  1957\n",
       "3    1   21  1957\n",
       "4    1   54  1957\n",
       "5    1   55  1957\n",
       "6    2   21  1957\n",
       "7    2   22  1957\n",
       "8    3    9  1957\n",
       "9    3   15  1957\n",
       "10   4    5  1957\n",
       "11   4   18  1957\n",
       "12   4   19  1957\n",
       "13   4   43  1957\n",
       "14   5   19  1957\n",
       "15   5   43  1957\n",
       "16   6   13  1957\n",
       "17   6   20  1957\n",
       "18   6   22  1957\n",
       "19   7   17  1957\n",
       "20   8   14  1957\n",
       "21   8   17  1957\n",
       "22   9   12  1957\n",
       "23   9   20  1957\n",
       "24   9   21  1957\n",
       "25   9   22  1957\n",
       "26   9   51  1957\n",
       "27  11   19  1957\n",
       "28  11   50  1957\n",
       "29  11   52  1957\n",
       "30  11   53  1957\n",
       "... ...  ... ... \n",
       "477 65   70  1958\n",
       "478 65   71  1958\n",
       "479 66   63  1958\n",
       "480 66   64  1958\n",
       "481 66   67  1958\n",
       "482 66   70  1958\n",
       "483 66   71  1958\n",
       "484 67   60  1958\n",
       "485 67   63  1958\n",
       "486 67   66  1958\n",
       "487 67   70  1958\n",
       "488 67   71  1958\n",
       "489 68   62  1958\n",
       "490 68   70  1958\n",
       "491 68   71  1958\n",
       "492 69   63  1958\n",
       "493 69   64  1958\n",
       "494 69   66  1958\n",
       "495 69   67  1958\n",
       "496 69   71  1958\n",
       "497 70   63  1958\n",
       "498 70   66  1958\n",
       "499 70   67  1958\n",
       "500 70   69  1958\n",
       "501 70   71  1958\n",
       "502 71   56  1958\n",
       "503 71   62  1958\n",
       "504 71   66  1958\n",
       "505 71   67  1958\n",
       "506 71   70  1958"
      ]
     },
     "metadata": {},
     "output_type": "display_data"
    }
   ],
   "source": [
    "ggraph::highschool"
   ]
  },
  {
   "cell_type": "code",
   "execution_count": 4,
   "metadata": {},
   "outputs": [],
   "source": [
    "Sys.setenv(JAVA_HOME=\"C:/Java/jre1.8.0_221\") #you need to change to your path\n",
    "Sys.setenv(SPARK_HOME=\"C:/spark-2.4.4-bin-hadoop2.7\") #you need to change to your path"
   ]
  },
  {
   "cell_type": "markdown",
   "metadata": {},
   "source": [
    "### if you see error\n",
    "### Exception in thread \"main\" java.lang.RuntimeException: [unresolved dependency: graphframes#graphframes;0.6.0-spark2.4-s_2.11: not found]\n",
    "### please go to http://dl.bintray.com/spark-packages/maven/graphframes/graphframes/0.6.0-spark2.3-s_2.11/graphframes-0.6.0-spark2.3-s_2.11.jar\n",
    "### rename it to graphframes.jar and then store it to \n",
    "### C:\\Users\\YOUR USERNAME\\\\.ivy2\\local\\graphframes\\graphframes\\0.6.0-spark2.4-s_2.11\\jars"
   ]
  },
  {
   "cell_type": "code",
   "execution_count": 5,
   "metadata": {},
   "outputs": [],
   "source": [
    "sc=spark_connect(master = \"local\")\n",
    "highschool_tbl <- copy_to(sc, highschool, \"highschool\", overwrite = TRUE)"
   ]
  },
  {
   "cell_type": "code",
   "execution_count": 6,
   "metadata": {
    "scrolled": true
   },
   "outputs": [
    {
     "data": {
      "text/plain": [
       "\u001b[90m# Source: spark<highschool> [?? x 3]\u001b[39m\n",
       "    from    to  year\n",
       "   \u001b[3m\u001b[90m<dbl>\u001b[39m\u001b[23m \u001b[3m\u001b[90m<dbl>\u001b[39m\u001b[23m \u001b[3m\u001b[90m<dbl>\u001b[39m\u001b[23m\n",
       "\u001b[90m 1\u001b[39m     1    14  \u001b[4m1\u001b[24m957\n",
       "\u001b[90m 2\u001b[39m     1    15  \u001b[4m1\u001b[24m957\n",
       "\u001b[90m 3\u001b[39m     1    21  \u001b[4m1\u001b[24m957\n",
       "\u001b[90m 4\u001b[39m     1    54  \u001b[4m1\u001b[24m957\n",
       "\u001b[90m 5\u001b[39m     1    55  \u001b[4m1\u001b[24m957\n",
       "\u001b[90m 6\u001b[39m     2    21  \u001b[4m1\u001b[24m957\n",
       "\u001b[90m 7\u001b[39m     2    22  \u001b[4m1\u001b[24m957\n",
       "\u001b[90m 8\u001b[39m     3     9  \u001b[4m1\u001b[24m957\n",
       "\u001b[90m 9\u001b[39m     3    15  \u001b[4m1\u001b[24m957\n",
       "\u001b[90m10\u001b[39m     4     5  \u001b[4m1\u001b[24m957\n",
       "\u001b[90m# ... with more rows\u001b[39m"
      ]
     },
     "metadata": {},
     "output_type": "display_data"
    }
   ],
   "source": [
    "highschool_tbl"
   ]
  },
  {
   "cell_type": "code",
   "execution_count": 35,
   "metadata": {},
   "outputs": [],
   "source": [
    "highschool_tbl <- copy_to(sc, \n",
    "                          highschool, \n",
    "                          \"highschool\", \n",
    "                          overwrite = TRUE) %>%\n",
    "  filter(year == 1957) %>%\n",
    "  transmute(from = as.character(as.integer(from)),\n",
    "            to = as.character(as.integer(to)))"
   ]
  },
  {
   "cell_type": "code",
   "execution_count": 36,
   "metadata": {
    "scrolled": true
   },
   "outputs": [
    {
     "data": {
      "text/plain": [
       "\u001b[90m# Source: spark<?> [?? x 2]\u001b[39m\n",
       "   from  to   \n",
       "   \u001b[3m\u001b[90m<chr>\u001b[39m\u001b[23m \u001b[3m\u001b[90m<chr>\u001b[39m\u001b[23m\n",
       "\u001b[90m 1\u001b[39m 1     14   \n",
       "\u001b[90m 2\u001b[39m 1     15   \n",
       "\u001b[90m 3\u001b[39m 1     21   \n",
       "\u001b[90m 4\u001b[39m 1     54   \n",
       "\u001b[90m 5\u001b[39m 1     55   \n",
       "\u001b[90m 6\u001b[39m 2     21   \n",
       "\u001b[90m 7\u001b[39m 2     22   \n",
       "\u001b[90m 8\u001b[39m 3     9    \n",
       "\u001b[90m 9\u001b[39m 3     15   \n",
       "\u001b[90m10\u001b[39m 4     5    \n",
       "\u001b[90m# ... with more rows\u001b[39m"
      ]
     },
     "metadata": {},
     "output_type": "display_data"
    }
   ],
   "source": [
    "highschool_tbl"
   ]
  },
  {
   "cell_type": "code",
   "execution_count": 37,
   "metadata": {
    "scrolled": true
   },
   "outputs": [
    {
     "data": {
      "text/plain": [
       "\u001b[90m# Source: spark<?> [?? x 1]\u001b[39m\n",
       "   id   \n",
       "   \u001b[3m\u001b[90m<chr>\u001b[39m\u001b[23m\n",
       "\u001b[90m 1\u001b[39m 1    \n",
       "\u001b[90m 2\u001b[39m 3    \n",
       "\u001b[90m 3\u001b[39m 4    \n",
       "\u001b[90m 4\u001b[39m 8    \n",
       "\u001b[90m 5\u001b[39m 12   \n",
       "\u001b[90m 6\u001b[39m 17   \n",
       "\u001b[90m 7\u001b[39m 20   \n",
       "\u001b[90m 8\u001b[39m 27   \n",
       "\u001b[90m 9\u001b[39m 29   \n",
       "\u001b[90m10\u001b[39m 31   \n",
       "\u001b[90m# ... with more rows\u001b[39m"
      ]
     },
     "metadata": {},
     "output_type": "display_data"
    }
   ],
   "source": [
    "from_tbl <- highschool_tbl %>% \n",
    "    distinct(from) %>% \n",
    "    transmute(id = from)\n",
    "from_tbl"
   ]
  },
  {
   "cell_type": "code",
   "execution_count": 38,
   "metadata": {
    "scrolled": true
   },
   "outputs": [
    {
     "data": {
      "text/plain": [
       "\u001b[90m# Source: spark<?> [?? x 1]\u001b[39m\n",
       "   id   \n",
       "   \u001b[3m\u001b[90m<chr>\u001b[39m\u001b[23m\n",
       "\u001b[90m 1\u001b[39m 43   \n",
       "\u001b[90m 2\u001b[39m 20   \n",
       "\u001b[90m 3\u001b[39m 17   \n",
       "\u001b[90m 4\u001b[39m 12   \n",
       "\u001b[90m 5\u001b[39m 8    \n",
       "\u001b[90m 6\u001b[39m 4    \n",
       "\u001b[90m 7\u001b[39m 27   \n",
       "\u001b[90m 8\u001b[39m 60   \n",
       "\u001b[90m 9\u001b[39m 65   \n",
       "\u001b[90m10\u001b[39m 68   \n",
       "\u001b[90m# ... with more rows\u001b[39m"
      ]
     },
     "metadata": {},
     "output_type": "display_data"
    }
   ],
   "source": [
    "to_tbl <- highschool_tbl %>% \n",
    "    distinct(to) %>% \n",
    "    transmute(id = to)\n",
    "to_tbl"
   ]
  },
  {
   "cell_type": "code",
   "execution_count": 39,
   "metadata": {},
   "outputs": [
    {
     "data": {
      "text/plain": [
       "\u001b[90m# Source: spark<?> [?? x 1]\u001b[39m\n",
       "   id   \n",
       "   \u001b[3m\u001b[90m<chr>\u001b[39m\u001b[23m\n",
       "\u001b[90m 1\u001b[39m 1    \n",
       "\u001b[90m 2\u001b[39m 3    \n",
       "\u001b[90m 3\u001b[39m 4    \n",
       "\u001b[90m 4\u001b[39m 8    \n",
       "\u001b[90m 5\u001b[39m 12   \n",
       "\u001b[90m 6\u001b[39m 17   \n",
       "\u001b[90m 7\u001b[39m 20   \n",
       "\u001b[90m 8\u001b[39m 27   \n",
       "\u001b[90m 9\u001b[39m 29   \n",
       "\u001b[90m10\u001b[39m 31   \n",
       "\u001b[90m# ... with more rows\u001b[39m"
      ]
     },
     "metadata": {},
     "output_type": "display_data"
    }
   ],
   "source": [
    "vertices_tbl <- distinct(sdf_bind_rows(from_tbl, to_tbl))\n",
    "vertices_tbl"
   ]
  },
  {
   "cell_type": "code",
   "execution_count": 40,
   "metadata": {
    "scrolled": false
   },
   "outputs": [
    {
     "data": {
      "text/plain": [
       "\u001b[90m# Source: spark<?> [?? x 2]\u001b[39m\n",
       "   src   dst  \n",
       "   \u001b[3m\u001b[90m<chr>\u001b[39m\u001b[23m \u001b[3m\u001b[90m<chr>\u001b[39m\u001b[23m\n",
       "\u001b[90m 1\u001b[39m 1     14   \n",
       "\u001b[90m 2\u001b[39m 1     15   \n",
       "\u001b[90m 3\u001b[39m 1     21   \n",
       "\u001b[90m 4\u001b[39m 1     54   \n",
       "\u001b[90m 5\u001b[39m 1     55   \n",
       "\u001b[90m 6\u001b[39m 2     21   \n",
       "\u001b[90m 7\u001b[39m 2     22   \n",
       "\u001b[90m 8\u001b[39m 3     9    \n",
       "\u001b[90m 9\u001b[39m 3     15   \n",
       "\u001b[90m10\u001b[39m 4     5    \n",
       "\u001b[90m# ... with more rows\u001b[39m"
      ]
     },
     "metadata": {},
     "output_type": "display_data"
    }
   ],
   "source": [
    "edges_tbl <- highschool_tbl %>% \n",
    "    transmute(src = from, dst = to)\n",
    "edges_tbl"
   ]
  },
  {
   "cell_type": "code",
   "execution_count": 58,
   "metadata": {
    "scrolled": true
   },
   "outputs": [
    {
     "data": {
      "text/plain": [
       "\u001b[90m# Source: spark<?> [?? x 2]\u001b[39m\n",
       "  src   dst  \n",
       "  \u001b[3m\u001b[90m<chr>\u001b[39m\u001b[23m \u001b[3m\u001b[90m<chr>\u001b[39m\u001b[23m\n",
       "\u001b[90m1\u001b[39m 1     14   \n",
       "\u001b[90m2\u001b[39m 8     14   "
      ]
     },
     "metadata": {},
     "output_type": "display_data"
    }
   ],
   "source": [
    "filter(edges_tbl, dst==14)"
   ]
  },
  {
   "cell_type": "code",
   "execution_count": 60,
   "metadata": {
    "scrolled": true
   },
   "outputs": [
    {
     "data": {
      "text/plain": [
       "\u001b[90m# Source: spark<?> [?? x 2]\u001b[39m\n",
       "  src   dst  \n",
       "  \u001b[3m\u001b[90m<chr>\u001b[39m\u001b[23m \u001b[3m\u001b[90m<chr>\u001b[39m\u001b[23m\n",
       "\u001b[90m1\u001b[39m 29    13   \n",
       "\u001b[90m2\u001b[39m 29    38   "
      ]
     },
     "metadata": {},
     "output_type": "display_data"
    },
    {
     "data": {
      "text/plain": [
       "\u001b[90m# Source: spark<?> [?? x 2]\u001b[39m\n",
       "  src   dst  \n",
       "  \u001b[3m\u001b[90m<chr>\u001b[39m\u001b[23m \u001b[3m\u001b[90m<chr>\u001b[39m\u001b[23m\n",
       "\u001b[90m1\u001b[39m 13    17   \n",
       "\u001b[90m2\u001b[39m 13    20   \n",
       "\u001b[90m3\u001b[39m 13    21   \n",
       "\u001b[90m4\u001b[39m 13    22   "
      ]
     },
     "metadata": {},
     "output_type": "display_data"
    }
   ],
   "source": [
    "filter(edges_tbl, src==29)\n",
    "filter(edges_tbl, src==13)"
   ]
  },
  {
   "cell_type": "markdown",
   "metadata": {},
   "source": [
    "### put scala-logging-slf4j_2.10-2.1.2.jar into C:\\Java\\jre1.8.0_221\\lib\\ext or your JAVA_HOME's same folder\n",
    "### You can download this file on canvas W7 page. DO NOT download elsewhere because I modified this jar to make life easier."
   ]
  },
  {
   "cell_type": "code",
   "execution_count": 41,
   "metadata": {},
   "outputs": [
    {
     "data": {
      "text/plain": [
       "GraphFrame\n",
       "Vertices:\n",
       "  Database: spark_connection\n",
       "  $ id \u001b[3m\u001b[90m<chr>\u001b[39m\u001b[23m \"1\", \"3\", \"4\", \"8\", \"12\", \"17\", \"20\", \"27\", \"29\", \"31\", \"34\", \"3...\n",
       "Edges:\n",
       "  Database: spark_connection\n",
       "  $ src \u001b[3m\u001b[90m<chr>\u001b[39m\u001b[23m \"1\", \"1\", \"1\", \"1\", \"1\", \"2\", \"2\", \"3\", \"3\", \"4\", \"4\", \"4\", \"4\"...\n",
       "  $ dst \u001b[3m\u001b[90m<chr>\u001b[39m\u001b[23m \"14\", \"15\", \"21\", \"54\", \"55\", \"21\", \"22\", \"9\", \"15\", \"5\", \"18\",..."
      ]
     },
     "metadata": {},
     "output_type": "display_data"
    }
   ],
   "source": [
    "graph <- gf_graphframe(vertices_tbl, edges_tbl)\n",
    "graph"
   ]
  },
  {
   "cell_type": "code",
   "execution_count": 42,
   "metadata": {},
   "outputs": [],
   "source": [
    "?gf_degrees"
   ]
  },
  {
   "cell_type": "code",
   "execution_count": 43,
   "metadata": {},
   "outputs": [
    {
     "data": {
      "text/plain": [
       "\u001b[90m# Source: spark<?> [?? x 2]\u001b[39m\n",
       "   id    degree\n",
       "   \u001b[3m\u001b[90m<chr>\u001b[39m\u001b[23m  \u001b[3m\u001b[90m<int>\u001b[39m\u001b[23m\n",
       "\u001b[90m 1\u001b[39m 1          5\n",
       "\u001b[90m 2\u001b[39m 3          2\n",
       "\u001b[90m 3\u001b[39m 4          5\n",
       "\u001b[90m 4\u001b[39m 43        12\n",
       "\u001b[90m 5\u001b[39m 20        11\n",
       "\u001b[90m 6\u001b[39m 17         5\n",
       "\u001b[90m 7\u001b[39m 8          3\n",
       "\u001b[90m 8\u001b[39m 12         5\n",
       "\u001b[90m 9\u001b[39m 27         4\n",
       "\u001b[90m10\u001b[39m 60         7\n",
       "\u001b[90m# ... with more rows\u001b[39m"
      ]
     },
     "metadata": {},
     "output_type": "display_data"
    }
   ],
   "source": [
    "gf_degrees(graph)"
   ]
  },
  {
   "cell_type": "code",
   "execution_count": 44,
   "metadata": {},
   "outputs": [
    {
     "data": {
      "text/plain": [
       "\u001b[90m# Source:     spark<?> [?? x 2]\u001b[39m\n",
       "\u001b[90m# Ordered by: desc(degree)\u001b[39m\n",
       "   id    degree\n",
       "   \u001b[3m\u001b[90m<chr>\u001b[39m\u001b[23m  \u001b[3m\u001b[90m<int>\u001b[39m\u001b[23m\n",
       "\u001b[90m 1\u001b[39m 71        16\n",
       "\u001b[90m 2\u001b[39m 21        14\n",
       "\u001b[90m 3\u001b[39m 22        14\n",
       "\u001b[90m 4\u001b[39m 70        13\n",
       "\u001b[90m 5\u001b[39m 54        13\n",
       "\u001b[90m 6\u001b[39m 69        12\n",
       "\u001b[90m 7\u001b[39m 43        12\n",
       "\u001b[90m 8\u001b[39m 66        12\n",
       "\u001b[90m 9\u001b[39m 52        11\n",
       "\u001b[90m10\u001b[39m 67        11\n",
       "\u001b[90m# ... with more rows\u001b[39m"
      ]
     },
     "metadata": {},
     "output_type": "display_data"
    }
   ],
   "source": [
    "gf_degrees(graph) %>% arrange(desc(degree))"
   ]
  },
  {
   "cell_type": "code",
   "execution_count": 45,
   "metadata": {
    "scrolled": false
   },
   "outputs": [
    {
     "data": {
      "text/plain": [
       "\u001b[90m# Source: spark<?> [?? x 1]\u001b[39m\n",
       "  friends\n",
       "    \u001b[3m\u001b[90m<dbl>\u001b[39m\u001b[23m\n",
       "\u001b[90m1\u001b[39m    6.94"
      ]
     },
     "metadata": {},
     "output_type": "display_data"
    }
   ],
   "source": [
    "gf_degrees(graph) %>% summarise(friends = mean(degree, na.rm = TRUE))"
   ]
  },
  {
   "cell_type": "code",
   "execution_count": 56,
   "metadata": {},
   "outputs": [
    {
     "data": {
      "text/plain": [
       "\u001b[90m# Source: spark<?> [?? x 2]\u001b[39m\n",
       "   id    distances       \n",
       "   \u001b[3m\u001b[90m<chr>\u001b[39m\u001b[23m \u001b[3m\u001b[90m<list>\u001b[39m\u001b[23m          \n",
       "\u001b[90m 1\u001b[39m 17    \u001b[90m<named list [1]>\u001b[39m\n",
       "\u001b[90m 2\u001b[39m 27    \u001b[90m<named list [0]>\u001b[39m\n",
       "\u001b[90m 3\u001b[39m 29    \u001b[90m<named list [1]>\u001b[39m\n",
       "\u001b[90m 4\u001b[39m 34    \u001b[90m<named list [1]>\u001b[39m\n",
       "\u001b[90m 5\u001b[39m 43    \u001b[90m<named list [0]>\u001b[39m\n",
       "\u001b[90m 6\u001b[39m 45    \u001b[90m<named list [0]>\u001b[39m\n",
       "\u001b[90m 7\u001b[39m 47    \u001b[90m<named list [0]>\u001b[39m\n",
       "\u001b[90m 8\u001b[39m 49    \u001b[90m<named list [0]>\u001b[39m\n",
       "\u001b[90m 9\u001b[39m 56    \u001b[90m<named list [0]>\u001b[39m\n",
       "\u001b[90m10\u001b[39m 57    \u001b[90m<named list [0]>\u001b[39m\n",
       "\u001b[90m# ... with more rows\u001b[39m"
      ]
     },
     "metadata": {},
     "output_type": "display_data"
    }
   ],
   "source": [
    "gf_shortest_paths(graph, 14)"
   ]
  },
  {
   "cell_type": "code",
   "execution_count": 61,
   "metadata": {},
   "outputs": [
    {
     "data": {
      "text/plain": [
       "\u001b[90m# Source: spark<?> [?? x 2]\u001b[39m\n",
       "   id    distance\n",
       "   \u001b[3m\u001b[90m<chr>\u001b[39m\u001b[23m    \u001b[3m\u001b[90m<int>\u001b[39m\u001b[23m\n",
       "\u001b[90m 1\u001b[39m 17           2\n",
       "\u001b[90m 2\u001b[39m 29           4\n",
       "\u001b[90m 3\u001b[39m 34           6\n",
       "\u001b[90m 4\u001b[39m 8            1\n",
       "\u001b[90m 5\u001b[39m 13           3\n",
       "\u001b[90m 6\u001b[39m 14           0\n",
       "\u001b[90m 7\u001b[39m 22           6\n",
       "\u001b[90m 8\u001b[39m 24           8\n",
       "\u001b[90m 9\u001b[39m 28           6\n",
       "\u001b[90m10\u001b[39m 38           7\n",
       "\u001b[90m# ... with more rows\u001b[39m"
      ]
     },
     "metadata": {},
     "output_type": "display_data"
    }
   ],
   "source": [
    "gf_shortest_paths(graph, 14) %>%\n",
    "  filter(size(distances) > 0) %>%\n",
    "  mutate(distance = explode(map_values(distances))) %>%\n",
    "  select(id, distance) "
   ]
  },
  {
   "cell_type": "code",
   "execution_count": 63,
   "metadata": {},
   "outputs": [
    {
     "data": {
      "text/plain": [
       "\u001b[90m# Source: spark<?> [?? x 1]\u001b[39m\n",
       "  influence\n",
       "      \u001b[3m\u001b[90m<dbl>\u001b[39m\u001b[23m\n",
       "\u001b[90m1\u001b[39m      4.96"
      ]
     },
     "metadata": {},
     "output_type": "display_data"
    }
   ],
   "source": [
    "gf_shortest_paths(graph, 14) %>%\n",
    "    filter(size(distances) > 0) %>%\n",
    "    mutate(distance = explode(map_values(distances))) %>%\n",
    "    select(id, distance) %>% \n",
    "    summarise(influence = mean(distance, na.rm = TRUE))"
   ]
  },
  {
   "cell_type": "code",
   "execution_count": 64,
   "metadata": {},
   "outputs": [
    {
     "data": {
      "text/plain": [
       "\u001b[90m# Source: spark<?> [?? x 1]\u001b[39m\n",
       "  influence\n",
       "      \u001b[3m\u001b[90m<dbl>\u001b[39m\u001b[23m\n",
       "\u001b[90m1\u001b[39m      3.33"
      ]
     },
     "metadata": {},
     "output_type": "display_data"
    }
   ],
   "source": [
    "gf_shortest_paths(graph, 33) %>%\n",
    "    filter(size(distances) > 0) %>%\n",
    "    mutate(distance = explode(map_values(distances))) %>%\n",
    "    select(id, distance) %>% \n",
    "    summarise(influence = mean(distance, na.rm = TRUE))"
   ]
  },
  {
   "cell_type": "code",
   "execution_count": 54,
   "metadata": {},
   "outputs": [],
   "source": [
    "?gf_shortest_paths"
   ]
  },
  {
   "cell_type": "code",
   "execution_count": 18,
   "metadata": {},
   "outputs": [
    {
     "data": {
      "text/plain": [
       "GraphFrame\n",
       "Vertices:\n",
       "  Database: spark_connection\n",
       "  $ id       \u001b[3m\u001b[90m<chr>\u001b[39m\u001b[23m \"17\", \"27\", \"29\", \"34\", \"43\", \"45\", \"47\", \"49\", \"56\", \"57\"...\n",
       "  $ pagerank \u001b[3m\u001b[90m<dbl>\u001b[39m\u001b[23m 0.9584287, 0.2465494, 0.2567435, 0.3430992, 1.0834154, 0.8...\n",
       "Edges:\n",
       "  Database: spark_connection\n",
       "  $ src    \u001b[3m\u001b[90m<chr>\u001b[39m\u001b[23m \"1\", \"1\", \"12\", \"20\", \"20\", \"20\", \"27\", \"29\", \"3\", \"31\", \"31...\n",
       "  $ dst    \u001b[3m\u001b[90m<chr>\u001b[39m\u001b[23m \"15\", \"21\", \"20\", \"12\", \"21\", \"22\", \"40\", \"38\", \"15\", \"37\", ...\n",
       "  $ weight \u001b[3m\u001b[90m<dbl>\u001b[39m\u001b[23m 0.2000000, 0.2000000, 0.3333333, 0.2000000, 0.2000000, 0.200..."
      ]
     },
     "metadata": {},
     "output_type": "display_data"
    }
   ],
   "source": [
    "gf_graphframe(vertices_tbl, edges_tbl) %>%\n",
    "  gf_pagerank(reset_prob = 0.15, max_iter = 10L)"
   ]
  },
  {
   "cell_type": "code",
   "execution_count": 66,
   "metadata": {},
   "outputs": [
    {
     "data": {
      "image/png": "[encoded data removed]",
      "text/plain": [
       "plot without title"
      ]
     },
     "metadata": {
      "image/png": {
       "height": 420,
       "width": 420
      }
     },
     "output_type": "display_data"
    }
   ],
   "source": [
    "library(ggraph)\n",
    "highschool_tbl %>%\n",
    "  igraph::graph_from_data_frame(directed = FALSE) %>%\n",
    "  ggraph(layout = 'kk') + \n",
    "    geom_edge_link(alpha = 0.2,\n",
    "                   arrow = arrow(length = unit(2, 'mm')),\n",
    "                   end_cap = circle(2, 'mm'),\n",
    "                   start_cap = circle(2, 'mm')) + \n",
    "    geom_node_point(size = 2, alpha = 0.4)"
   ]
  }
 ],
 "metadata": {
  "kernelspec": {
   "display_name": "R",
   "language": "R",
   "name": "ir"
  },
  "language_info": {
   "codemirror_mode": "r",
   "file_extension": ".r",
   "mimetype": "text/x-r-source",
   "name": "R",
   "pygments_lexer": "r",
   "version": "3.6.2"
  }
 },
 "nbformat": 4,
 "nbformat_minor": 2
}
