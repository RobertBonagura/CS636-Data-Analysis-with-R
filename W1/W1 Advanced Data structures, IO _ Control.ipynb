{
 "cells": [
  {
   "cell_type": "code",
   "execution_count": 1,
   "metadata": {
    "scrolled": true
   },
   "outputs": [
    {
     "data": {
      "text/html": [
       "<pre class=language-r><code>function (data = NA, nrow = 1, ncol = 1, byrow = FALSE, dimnames = NULL) \n",
       "{\n",
       "<span style=white-space:pre-wrap>    if (is.object(data) || !is.atomic(data)) </span>\n",
       "<span style=white-space:pre-wrap>        data &lt;- as.vector(data)</span>\n",
       "<span style=white-space:pre-wrap>    .Internal(matrix(data, nrow, ncol, byrow, dimnames, missing(nrow), </span>\n",
       "<span style=white-space:pre-wrap>        missing(ncol)))</span>\n",
       "}</code></pre>"
      ],
      "text/latex": [
       "\\begin{minted}{r}\n",
       "function (data = NA, nrow = 1, ncol = 1, byrow = FALSE, dimnames = NULL) \n",
       "\\{\n",
       "    if (is.object(data) \\textbar{}\\textbar{} !is.atomic(data)) \n",
       "        data <- as.vector(data)\n",
       "    .Internal(matrix(data, nrow, ncol, byrow, dimnames, missing(nrow), \n",
       "        missing(ncol)))\n",
       "\\}\n",
       "\\end{minted}"
      ],
      "text/markdown": [
       "```r\n",
       "function (data = NA, nrow = 1, ncol = 1, byrow = FALSE, dimnames = NULL) \n",
       "{\n",
       "    if (is.object(data) || !is.atomic(data)) \n",
       "        data <- as.vector(data)\n",
       "    .Internal(matrix(data, nrow, ncol, byrow, dimnames, missing(nrow), \n",
       "        missing(ncol)))\n",
       "}\n",
       "```"
      ],
      "text/plain": [
       "function (data = NA, nrow = 1, ncol = 1, byrow = FALSE, dimnames = NULL) \n",
       "{\n",
       "    if (is.object(data) || !is.atomic(data)) \n",
       "        data <- as.vector(data)\n",
       "    .Internal(matrix(data, nrow, ncol, byrow, dimnames, missing(nrow), \n",
       "        missing(ncol)))\n",
       "}\n",
       "<bytecode: 0x0000000012aa1af0>\n",
       "<environment: namespace:base>"
      ]
     },
     "metadata": {},
     "output_type": "display_data"
    }
   ],
   "source": [
    "?matrix\n",
    "matrix"
   ]
  },
  {
   "cell_type": "code",
   "execution_count": 2,
   "metadata": {
    "scrolled": false
   },
   "outputs": [
    {
     "data": {
      "text/html": [
       "<table>\n",
       "<caption>A matrix: 1 × 1 of type lgl</caption>\n",
       "<tbody>\n",
       "\t<tr><td>NA</td></tr>\n",
       "</tbody>\n",
       "</table>\n"
      ],
      "text/latex": [
       "A matrix: 1 × 1 of type lgl\n",
       "\\begin{tabular}{l}\n",
       "\t NA\\\\\n",
       "\\end{tabular}\n"
      ],
      "text/markdown": [
       "\n",
       "A matrix: 1 × 1 of type lgl\n",
       "\n",
       "| NA |\n",
       "\n"
      ],
      "text/plain": [
       "     [,1]\n",
       "[1,] NA  "
      ]
     },
     "metadata": {},
     "output_type": "display_data"
    },
    {
     "data": {
      "text/html": [
       "<table>\n",
       "<caption>A matrix: 2 × 3 of type lgl</caption>\n",
       "<tbody>\n",
       "\t<tr><td>NA</td><td>NA</td><td>NA</td></tr>\n",
       "\t<tr><td>NA</td><td>NA</td><td>NA</td></tr>\n",
       "</tbody>\n",
       "</table>\n"
      ],
      "text/latex": [
       "A matrix: 2 × 3 of type lgl\n",
       "\\begin{tabular}{lll}\n",
       "\t NA & NA & NA\\\\\n",
       "\t NA & NA & NA\\\\\n",
       "\\end{tabular}\n"
      ],
      "text/markdown": [
       "\n",
       "A matrix: 2 × 3 of type lgl\n",
       "\n",
       "| NA | NA | NA |\n",
       "| NA | NA | NA |\n",
       "\n"
      ],
      "text/plain": [
       "     [,1] [,2] [,3]\n",
       "[1,] NA   NA   NA  \n",
       "[2,] NA   NA   NA  "
      ]
     },
     "metadata": {},
     "output_type": "display_data"
    },
    {
     "data": {
      "text/html": [
       "<table>\n",
       "<caption>A matrix: 2 × 3 of type dbl</caption>\n",
       "<tbody>\n",
       "\t<tr><td>0</td><td>0</td><td>0</td></tr>\n",
       "\t<tr><td>0</td><td>0</td><td>0</td></tr>\n",
       "</tbody>\n",
       "</table>\n"
      ],
      "text/latex": [
       "A matrix: 2 × 3 of type dbl\n",
       "\\begin{tabular}{lll}\n",
       "\t 0 & 0 & 0\\\\\n",
       "\t 0 & 0 & 0\\\\\n",
       "\\end{tabular}\n"
      ],
      "text/markdown": [
       "\n",
       "A matrix: 2 × 3 of type dbl\n",
       "\n",
       "| 0 | 0 | 0 |\n",
       "| 0 | 0 | 0 |\n",
       "\n"
      ],
      "text/plain": [
       "     [,1] [,2] [,3]\n",
       "[1,] 0    0    0   \n",
       "[2,] 0    0    0   "
      ]
     },
     "metadata": {},
     "output_type": "display_data"
    },
    {
     "data": {
      "text/html": [
       "<table>\n",
       "<caption>A matrix: 2 × 3 of type int</caption>\n",
       "<tbody>\n",
       "\t<tr><td>1</td><td>3</td><td>5</td></tr>\n",
       "\t<tr><td>2</td><td>4</td><td>6</td></tr>\n",
       "</tbody>\n",
       "</table>\n"
      ],
      "text/latex": [
       "A matrix: 2 × 3 of type int\n",
       "\\begin{tabular}{lll}\n",
       "\t 1 & 3 & 5\\\\\n",
       "\t 2 & 4 & 6\\\\\n",
       "\\end{tabular}\n"
      ],
      "text/markdown": [
       "\n",
       "A matrix: 2 × 3 of type int\n",
       "\n",
       "| 1 | 3 | 5 |\n",
       "| 2 | 4 | 6 |\n",
       "\n"
      ],
      "text/plain": [
       "     [,1] [,2] [,3]\n",
       "[1,] 1    3    5   \n",
       "[2,] 2    4    6   "
      ]
     },
     "metadata": {},
     "output_type": "display_data"
    },
    {
     "data": {
      "text/html": [
       "<table>\n",
       "<caption>A matrix: 2 × 3 of type int</caption>\n",
       "<tbody>\n",
       "\t<tr><td>1</td><td>2</td><td>3</td></tr>\n",
       "\t<tr><td>4</td><td>5</td><td>6</td></tr>\n",
       "</tbody>\n",
       "</table>\n"
      ],
      "text/latex": [
       "A matrix: 2 × 3 of type int\n",
       "\\begin{tabular}{lll}\n",
       "\t 1 & 2 & 3\\\\\n",
       "\t 4 & 5 & 6\\\\\n",
       "\\end{tabular}\n"
      ],
      "text/markdown": [
       "\n",
       "A matrix: 2 × 3 of type int\n",
       "\n",
       "| 1 | 2 | 3 |\n",
       "| 4 | 5 | 6 |\n",
       "\n"
      ],
      "text/plain": [
       "     [,1] [,2] [,3]\n",
       "[1,] 1    2    3   \n",
       "[2,] 4    5    6   "
      ]
     },
     "metadata": {},
     "output_type": "display_data"
    }
   ],
   "source": [
    "matrix()\n",
    "matrix(nrow=2, ncol=3)\n",
    "matrix(0, 2, 3)\n",
    "matrix(1:6, 2, 3)\n",
    "matrix(1:6, 2, 3, byrow=TRUE)"
   ]
  },
  {
   "cell_type": "code",
   "execution_count": 3,
   "metadata": {
    "scrolled": true
   },
   "outputs": [
    {
     "data": {
      "text/html": [
       "<table>\n",
       "<caption>A matrix: 2 × 3 of type int</caption>\n",
       "<thead>\n",
       "\t<tr><th></th><th scope=col>C1</th><th scope=col>C2</th><th scope=col>C3</th></tr>\n",
       "</thead>\n",
       "<tbody>\n",
       "\t<tr><th scope=row>R1</th><td>1</td><td>3</td><td>5</td></tr>\n",
       "\t<tr><th scope=row>R2</th><td>2</td><td>4</td><td>6</td></tr>\n",
       "</tbody>\n",
       "</table>\n"
      ],
      "text/latex": [
       "A matrix: 2 × 3 of type int\n",
       "\\begin{tabular}{r|lll}\n",
       "  & C1 & C2 & C3\\\\\n",
       "\\hline\n",
       "\tR1 & 1 & 3 & 5\\\\\n",
       "\tR2 & 2 & 4 & 6\\\\\n",
       "\\end{tabular}\n"
      ],
      "text/markdown": [
       "\n",
       "A matrix: 2 × 3 of type int\n",
       "\n",
       "| <!--/--> | C1 | C2 | C3 |\n",
       "|---|---|---|---|\n",
       "| R1 | 1 | 3 | 5 |\n",
       "| R2 | 2 | 4 | 6 |\n",
       "\n"
      ],
      "text/plain": [
       "   C1 C2 C3\n",
       "R1 1  3  5 \n",
       "R2 2  4  6 "
      ]
     },
     "metadata": {},
     "output_type": "display_data"
    }
   ],
   "source": [
    "#row names and column names\n",
    "rnames <- c('R1', 'R2')\n",
    "cnames <- c('C1', 'C2', 'C3')\n",
    "matrix(1:6, nrow=2, dimnames=list(rnames, cnames))"
   ]
  },
  {
   "cell_type": "code",
   "execution_count": 4,
   "metadata": {
    "scrolled": true
   },
   "outputs": [
    {
     "data": {
      "text/html": [
       "<table>\n",
       "<caption>A matrix: 2 × 3 of type int</caption>\n",
       "<thead>\n",
       "\t<tr><th></th><th scope=col>c1</th><th scope=col>c2</th><th scope=col>c3</th></tr>\n",
       "</thead>\n",
       "<tbody>\n",
       "\t<tr><th scope=row>r1</th><td>1</td><td>3</td><td>5</td></tr>\n",
       "\t<tr><th scope=row>r2</th><td>2</td><td>4</td><td>6</td></tr>\n",
       "</tbody>\n",
       "</table>\n"
      ],
      "text/latex": [
       "A matrix: 2 × 3 of type int\n",
       "\\begin{tabular}{r|lll}\n",
       "  & c1 & c2 & c3\\\\\n",
       "\\hline\n",
       "\tr1 & 1 & 3 & 5\\\\\n",
       "\tr2 & 2 & 4 & 6\\\\\n",
       "\\end{tabular}\n"
      ],
      "text/markdown": [
       "\n",
       "A matrix: 2 × 3 of type int\n",
       "\n",
       "| <!--/--> | c1 | c2 | c3 |\n",
       "|---|---|---|---|\n",
       "| r1 | 1 | 3 | 5 |\n",
       "| r2 | 2 | 4 | 6 |\n",
       "\n"
      ],
      "text/plain": [
       "   c1 c2 c3\n",
       "r1 1  3  5 \n",
       "r2 2  4  6 "
      ]
     },
     "metadata": {},
     "output_type": "display_data"
    }
   ],
   "source": [
    "#assign row names and column names\n",
    "x=matrix(1:6, nrow=2)\n",
    "rownames(x)=c('r1', 'r2')\n",
    "colnames(x)=c('c1', 'c2', 'c3')\n",
    "x"
   ]
  },
  {
   "cell_type": "code",
   "execution_count": 5,
   "metadata": {
    "scrolled": true
   },
   "outputs": [
    {
     "data": {
      "text/html": [
       "<style>\n",
       ".list-inline {list-style: none; margin:0; padding: 0}\n",
       ".list-inline>li {display: inline-block}\n",
       ".list-inline>li:not(:last-child)::after {content: \"\\00b7\"; padding: 0 .5ex}\n",
       "</style>\n",
       "<ol class=list-inline><li>1</li><li>2</li><li>3</li><li>4</li><li>5</li><li>6</li></ol>\n"
      ],
      "text/latex": [
       "\\begin{enumerate*}\n",
       "\\item 1\n",
       "\\item 2\n",
       "\\item 3\n",
       "\\item 4\n",
       "\\item 5\n",
       "\\item 6\n",
       "\\end{enumerate*}\n"
      ],
      "text/markdown": [
       "1. 1\n",
       "2. 2\n",
       "3. 3\n",
       "4. 4\n",
       "5. 5\n",
       "6. 6\n",
       "\n",
       "\n"
      ],
      "text/plain": [
       "[1] 1 2 3 4 5 6"
      ]
     },
     "metadata": {},
     "output_type": "display_data"
    },
    {
     "data": {
      "text/html": [
       "TRUE"
      ],
      "text/latex": [
       "TRUE"
      ],
      "text/markdown": [
       "TRUE"
      ],
      "text/plain": [
       "[1] TRUE"
      ]
     },
     "metadata": {},
     "output_type": "display_data"
    },
    {
     "data": {
      "text/html": [
       "<table>\n",
       "<caption>A matrix: 3 × 2 of type int</caption>\n",
       "<tbody>\n",
       "\t<tr><td>1</td><td>4</td></tr>\n",
       "\t<tr><td>2</td><td>5</td></tr>\n",
       "\t<tr><td>3</td><td>6</td></tr>\n",
       "</tbody>\n",
       "</table>\n"
      ],
      "text/latex": [
       "A matrix: 3 × 2 of type int\n",
       "\\begin{tabular}{ll}\n",
       "\t 1 & 4\\\\\n",
       "\t 2 & 5\\\\\n",
       "\t 3 & 6\\\\\n",
       "\\end{tabular}\n"
      ],
      "text/markdown": [
       "\n",
       "A matrix: 3 × 2 of type int\n",
       "\n",
       "| 1 | 4 |\n",
       "| 2 | 5 |\n",
       "| 3 | 6 |\n",
       "\n"
      ],
      "text/plain": [
       "     [,1] [,2]\n",
       "[1,] 1    4   \n",
       "[2,] 2    5   \n",
       "[3,] 3    6   "
      ]
     },
     "metadata": {},
     "output_type": "display_data"
    }
   ],
   "source": [
    "#use dim() to create matrix from vector\n",
    "x <- 1:6   ##vector\n",
    "x\n",
    "dim(x) <- c(3, 2)  ##convert vector to matrix in place\n",
    "is.matrix(x)   \n",
    "x "
   ]
  },
  {
   "cell_type": "code",
   "execution_count": 6,
   "metadata": {
    "scrolled": true
   },
   "outputs": [
    {
     "data": {
      "text/html": [
       "<table>\n",
       "<caption>A matrix: 2 × 3 of type int</caption>\n",
       "<tbody>\n",
       "\t<tr><td>1</td><td>2</td><td>3</td></tr>\n",
       "\t<tr><td>4</td><td>5</td><td>6</td></tr>\n",
       "</tbody>\n",
       "</table>\n"
      ],
      "text/latex": [
       "A matrix: 2 × 3 of type int\n",
       "\\begin{tabular}{lll}\n",
       "\t 1 & 2 & 3\\\\\n",
       "\t 4 & 5 & 6\\\\\n",
       "\\end{tabular}\n"
      ],
      "text/markdown": [
       "\n",
       "A matrix: 2 × 3 of type int\n",
       "\n",
       "| 1 | 2 | 3 |\n",
       "| 4 | 5 | 6 |\n",
       "\n"
      ],
      "text/plain": [
       "     [,1] [,2] [,3]\n",
       "[1,] 1    2    3   \n",
       "[2,] 4    5    6   "
      ]
     },
     "metadata": {},
     "output_type": "display_data"
    }
   ],
   "source": [
    "#Matrix Transpose\n",
    "?t\n",
    "t(x)"
   ]
  },
  {
   "cell_type": "code",
   "execution_count": 7,
   "metadata": {
    "scrolled": true
   },
   "outputs": [
    {
     "data": {
      "text/html": [
       "<table>\n",
       "<caption>A matrix: 2 × 3 of type int</caption>\n",
       "<thead>\n",
       "\t<tr><th></th><th scope=col>C1</th><th scope=col>C2</th><th scope=col>C3</th></tr>\n",
       "</thead>\n",
       "<tbody>\n",
       "\t<tr><th scope=row>R1</th><td>1</td><td>3</td><td>5</td></tr>\n",
       "\t<tr><th scope=row>R2</th><td>2</td><td>4</td><td>6</td></tr>\n",
       "</tbody>\n",
       "</table>\n"
      ],
      "text/latex": [
       "A matrix: 2 × 3 of type int\n",
       "\\begin{tabular}{r|lll}\n",
       "  & C1 & C2 & C3\\\\\n",
       "\\hline\n",
       "\tR1 & 1 & 3 & 5\\\\\n",
       "\tR2 & 2 & 4 & 6\\\\\n",
       "\\end{tabular}\n"
      ],
      "text/markdown": [
       "\n",
       "A matrix: 2 × 3 of type int\n",
       "\n",
       "| <!--/--> | C1 | C2 | C3 |\n",
       "|---|---|---|---|\n",
       "| R1 | 1 | 3 | 5 |\n",
       "| R2 | 2 | 4 | 6 |\n",
       "\n"
      ],
      "text/plain": [
       "   C1 C2 C3\n",
       "R1 1  3  5 \n",
       "R2 2  4  6 "
      ]
     },
     "metadata": {},
     "output_type": "display_data"
    },
    {
     "data": {
      "text/html": [
       "'matrix'"
      ],
      "text/latex": [
       "'matrix'"
      ],
      "text/markdown": [
       "'matrix'"
      ],
      "text/plain": [
       "[1] \"matrix\""
      ]
     },
     "metadata": {},
     "output_type": "display_data"
    },
    {
     "data": {
      "text/html": [
       "'integer'"
      ],
      "text/latex": [
       "'integer'"
      ],
      "text/markdown": [
       "'integer'"
      ],
      "text/plain": [
       "[1] \"integer\""
      ]
     },
     "metadata": {},
     "output_type": "display_data"
    },
    {
     "data": {
      "text/html": [
       "<style>\n",
       ".list-inline {list-style: none; margin:0; padding: 0}\n",
       ".list-inline>li {display: inline-block}\n",
       ".list-inline>li:not(:last-child)::after {content: \"\\00b7\"; padding: 0 .5ex}\n",
       "</style>\n",
       "<ol class=list-inline><li>2</li><li>3</li></ol>\n"
      ],
      "text/latex": [
       "\\begin{enumerate*}\n",
       "\\item 2\n",
       "\\item 3\n",
       "\\end{enumerate*}\n"
      ],
      "text/markdown": [
       "1. 2\n",
       "2. 3\n",
       "\n",
       "\n"
      ],
      "text/plain": [
       "[1] 2 3"
      ]
     },
     "metadata": {},
     "output_type": "display_data"
    },
    {
     "data": {
      "text/html": [
       "6"
      ],
      "text/latex": [
       "6"
      ],
      "text/markdown": [
       "6"
      ],
      "text/plain": [
       "[1] 6"
      ]
     },
     "metadata": {},
     "output_type": "display_data"
    },
    {
     "data": {
      "text/html": [
       "<style>\n",
       ".list-inline {list-style: none; margin:0; padding: 0}\n",
       ".list-inline>li {display: inline-block}\n",
       ".list-inline>li:not(:last-child)::after {content: \"\\00b7\"; padding: 0 .5ex}\n",
       "</style>\n",
       "<ol class=list-inline><li>'R1'</li><li>'R2'</li></ol>\n"
      ],
      "text/latex": [
       "\\begin{enumerate*}\n",
       "\\item 'R1'\n",
       "\\item 'R2'\n",
       "\\end{enumerate*}\n"
      ],
      "text/markdown": [
       "1. 'R1'\n",
       "2. 'R2'\n",
       "\n",
       "\n"
      ],
      "text/plain": [
       "[1] \"R1\" \"R2\""
      ]
     },
     "metadata": {},
     "output_type": "display_data"
    },
    {
     "data": {
      "text/html": [
       "<style>\n",
       ".list-inline {list-style: none; margin:0; padding: 0}\n",
       ".list-inline>li {display: inline-block}\n",
       ".list-inline>li:not(:last-child)::after {content: \"\\00b7\"; padding: 0 .5ex}\n",
       "</style>\n",
       "<ol class=list-inline><li>'C1'</li><li>'C2'</li><li>'C3'</li></ol>\n"
      ],
      "text/latex": [
       "\\begin{enumerate*}\n",
       "\\item 'C1'\n",
       "\\item 'C2'\n",
       "\\item 'C3'\n",
       "\\end{enumerate*}\n"
      ],
      "text/markdown": [
       "1. 'C1'\n",
       "2. 'C2'\n",
       "3. 'C3'\n",
       "\n",
       "\n"
      ],
      "text/plain": [
       "[1] \"C1\" \"C2\" \"C3\""
      ]
     },
     "metadata": {},
     "output_type": "display_data"
    }
   ],
   "source": [
    "#matrix attributes\n",
    "rnames <- c('R1', 'R2')\n",
    "cnames <- c('C1', 'C2', 'C3')\n",
    "x=matrix(1:6, nrow=2, dimnames=list(rnames, cnames))\n",
    "x\n",
    "class(x)  ##data structure type\n",
    "typeof(x)  ##element data type\n",
    "dim(x)  ##dimension\n",
    "length(x)  ##total number of elements\n",
    "rownames(x)  ##get row names\n",
    "colnames(x)  ##get column names"
   ]
  },
  {
   "cell_type": "code",
   "execution_count": 8,
   "metadata": {
    "scrolled": false
   },
   "outputs": [
    {
     "data": {
      "text/html": [
       "<table>\n",
       "<caption>A matrix: 4 × 2 of type dbl</caption>\n",
       "<tbody>\n",
       "\t<tr><td>71</td><td>172</td></tr>\n",
       "\t<tr><td>73</td><td>169</td></tr>\n",
       "\t<tr><td>69</td><td>160</td></tr>\n",
       "\t<tr><td>65</td><td>130</td></tr>\n",
       "</tbody>\n",
       "</table>\n"
      ],
      "text/latex": [
       "A matrix: 4 × 2 of type dbl\n",
       "\\begin{tabular}{ll}\n",
       "\t 71 & 172\\\\\n",
       "\t 73 & 169\\\\\n",
       "\t 69 & 160\\\\\n",
       "\t 65 & 130\\\\\n",
       "\\end{tabular}\n"
      ],
      "text/markdown": [
       "\n",
       "A matrix: 4 × 2 of type dbl\n",
       "\n",
       "| 71 | 172 |\n",
       "| 73 | 169 |\n",
       "| 69 | 160 |\n",
       "| 65 | 130 |\n",
       "\n"
      ],
      "text/plain": [
       "     [,1] [,2]\n",
       "[1,] 71   172 \n",
       "[2,] 73   169 \n",
       "[3,] 69   160 \n",
       "[4,] 65   130 "
      ]
     },
     "metadata": {},
     "output_type": "display_data"
    },
    {
     "data": {
      "text/html": [
       "<table>\n",
       "<caption>A matrix: 4 × 2 of type dbl</caption>\n",
       "<tbody>\n",
       "\t<tr><td>71</td><td>172</td></tr>\n",
       "\t<tr><td>73</td><td>169</td></tr>\n",
       "\t<tr><td>69</td><td>160</td></tr>\n",
       "\t<tr><td>65</td><td>130</td></tr>\n",
       "</tbody>\n",
       "</table>\n"
      ],
      "text/latex": [
       "A matrix: 4 × 2 of type dbl\n",
       "\\begin{tabular}{ll}\n",
       "\t 71 & 172\\\\\n",
       "\t 73 & 169\\\\\n",
       "\t 69 & 160\\\\\n",
       "\t 65 & 130\\\\\n",
       "\\end{tabular}\n"
      ],
      "text/markdown": [
       "\n",
       "A matrix: 4 × 2 of type dbl\n",
       "\n",
       "| 71 | 172 |\n",
       "| 73 | 169 |\n",
       "| 69 | 160 |\n",
       "| 65 | 130 |\n",
       "\n"
      ],
      "text/plain": [
       "     [,1] [,2]\n",
       "[1,] 71   172 \n",
       "[2,] 73   169 \n",
       "[3,] 69   160 \n",
       "[4,] 65   130 "
      ]
     },
     "metadata": {},
     "output_type": "display_data"
    }
   ],
   "source": [
    "#bind vectors into matrix\n",
    "rbind(c(71,172),c(73,169),c(69,160),c(65,130))\n",
    "cbind(c(71,73,69,65),c(172,169,160,130))"
   ]
  },
  {
   "cell_type": "code",
   "execution_count": 9,
   "metadata": {
    "scrolled": false
   },
   "outputs": [
    {
     "data": {
      "text/html": [
       "<table>\n",
       "<caption>A matrix: 2 × 3 of type int</caption>\n",
       "<thead>\n",
       "\t<tr><th></th><th scope=col>C1</th><th scope=col>C2</th><th scope=col>C3</th></tr>\n",
       "</thead>\n",
       "<tbody>\n",
       "\t<tr><th scope=row>R1</th><td>1</td><td>3</td><td>5</td></tr>\n",
       "\t<tr><th scope=row>R2</th><td>2</td><td>4</td><td>6</td></tr>\n",
       "</tbody>\n",
       "</table>\n"
      ],
      "text/latex": [
       "A matrix: 2 × 3 of type int\n",
       "\\begin{tabular}{r|lll}\n",
       "  & C1 & C2 & C3\\\\\n",
       "\\hline\n",
       "\tR1 & 1 & 3 & 5\\\\\n",
       "\tR2 & 2 & 4 & 6\\\\\n",
       "\\end{tabular}\n"
      ],
      "text/markdown": [
       "\n",
       "A matrix: 2 × 3 of type int\n",
       "\n",
       "| <!--/--> | C1 | C2 | C3 |\n",
       "|---|---|---|---|\n",
       "| R1 | 1 | 3 | 5 |\n",
       "| R2 | 2 | 4 | 6 |\n",
       "\n"
      ],
      "text/plain": [
       "   C1 C2 C3\n",
       "R1 1  3  5 \n",
       "R2 2  4  6 "
      ]
     },
     "metadata": {},
     "output_type": "display_data"
    },
    {
     "data": {
      "text/html": [
       "<style>\n",
       ".dl-inline {width: auto; margin:0; padding: 0}\n",
       ".dl-inline>dt, .dl-inline>dd {float: none; width: auto; display: inline-block}\n",
       ".dl-inline>dt::after {content: \":\\0020\"; padding-right: .5ex}\n",
       ".dl-inline>dt:not(:first-of-type) {padding-left: .5ex}\n",
       "</style><dl class=dl-inline><dt>R1</dt><dd>3</dd><dt>R2</dt><dd>4</dd></dl>\n"
      ],
      "text/latex": [
       "\\begin{description*}\n",
       "\\item[R1] 3\n",
       "\\item[R2] 4\n",
       "\\end{description*}\n"
      ],
      "text/markdown": [
       "R1\n",
       ":   3R2\n",
       ":   4\n",
       "\n"
      ],
      "text/plain": [
       "R1 R2 \n",
       " 3  4 "
      ]
     },
     "metadata": {},
     "output_type": "display_data"
    },
    {
     "data": {
      "text/html": [
       "<style>\n",
       ".dl-inline {width: auto; margin:0; padding: 0}\n",
       ".dl-inline>dt, .dl-inline>dd {float: none; width: auto; display: inline-block}\n",
       ".dl-inline>dt::after {content: \":\\0020\"; padding-right: .5ex}\n",
       ".dl-inline>dt:not(:first-of-type) {padding-left: .5ex}\n",
       "</style><dl class=dl-inline><dt>C1</dt><dd>2</dd><dt>C2</dt><dd>4</dd><dt>C3</dt><dd>6</dd></dl>\n"
      ],
      "text/latex": [
       "\\begin{description*}\n",
       "\\item[C1] 2\n",
       "\\item[C2] 4\n",
       "\\item[C3] 6\n",
       "\\end{description*}\n"
      ],
      "text/markdown": [
       "C1\n",
       ":   2C2\n",
       ":   4C3\n",
       ":   6\n",
       "\n"
      ],
      "text/plain": [
       "C1 C2 C3 \n",
       " 2  4  6 "
      ]
     },
     "metadata": {},
     "output_type": "display_data"
    },
    {
     "data": {
      "text/html": [
       "4"
      ],
      "text/latex": [
       "4"
      ],
      "text/markdown": [
       "4"
      ],
      "text/plain": [
       "[1] 4"
      ]
     },
     "metadata": {},
     "output_type": "display_data"
    }
   ],
   "source": [
    "#access elements in matrix\n",
    "x\n",
    "x[,2]\n",
    "x[2,]\n",
    "x[2,2]"
   ]
  },
  {
   "cell_type": "code",
   "execution_count": 10,
   "metadata": {},
   "outputs": [
    {
     "data": {
      "text/html": [
       "'integer'"
      ],
      "text/latex": [
       "'integer'"
      ],
      "text/markdown": [
       "'integer'"
      ],
      "text/plain": [
       "[1] \"integer\""
      ]
     },
     "metadata": {},
     "output_type": "display_data"
    },
    {
     "data": {
      "text/html": [
       "'integer'"
      ],
      "text/latex": [
       "'integer'"
      ],
      "text/markdown": [
       "'integer'"
      ],
      "text/plain": [
       "[1] \"integer\""
      ]
     },
     "metadata": {},
     "output_type": "display_data"
    },
    {
     "data": {
      "text/html": [
       "<strong>C1:</strong> 2"
      ],
      "text/latex": [
       "\\textbf{C1:} 2"
      ],
      "text/markdown": [
       "**C1:** 2"
      ],
      "text/plain": [
       "C1 \n",
       " 2 "
      ]
     },
     "metadata": {},
     "output_type": "display_data"
    }
   ],
   "source": [
    "typeof(x[2,])\n",
    "class(x[2,])\n",
    "x[2,][1]"
   ]
  },
  {
   "cell_type": "code",
   "execution_count": 11,
   "metadata": {
    "scrolled": true
   },
   "outputs": [
    {
     "data": {
      "text/html": [
       "<table>\n",
       "<caption>A matrix: 2 × 2 of type int</caption>\n",
       "<thead>\n",
       "\t<tr><th></th><th scope=col>C1</th><th scope=col>C2</th></tr>\n",
       "</thead>\n",
       "<tbody>\n",
       "\t<tr><th scope=row>R1</th><td>1</td><td>3</td></tr>\n",
       "\t<tr><th scope=row>R2</th><td>2</td><td>4</td></tr>\n",
       "</tbody>\n",
       "</table>\n"
      ],
      "text/latex": [
       "A matrix: 2 × 2 of type int\n",
       "\\begin{tabular}{r|ll}\n",
       "  & C1 & C2\\\\\n",
       "\\hline\n",
       "\tR1 & 1 & 3\\\\\n",
       "\tR2 & 2 & 4\\\\\n",
       "\\end{tabular}\n"
      ],
      "text/markdown": [
       "\n",
       "A matrix: 2 × 2 of type int\n",
       "\n",
       "| <!--/--> | C1 | C2 |\n",
       "|---|---|---|\n",
       "| R1 | 1 | 3 |\n",
       "| R2 | 2 | 4 |\n",
       "\n"
      ],
      "text/plain": [
       "   C1 C2\n",
       "R1 1  3 \n",
       "R2 2  4 "
      ]
     },
     "metadata": {},
     "output_type": "display_data"
    },
    {
     "data": {
      "text/html": [
       "<table>\n",
       "<caption>A matrix: 2 × 3 of type int</caption>\n",
       "<thead>\n",
       "\t<tr><th></th><th scope=col>C1</th><th scope=col>C2</th><th scope=col>C3</th></tr>\n",
       "</thead>\n",
       "<tbody>\n",
       "\t<tr><th scope=row>R1</th><td>1</td><td>3</td><td>5</td></tr>\n",
       "\t<tr><th scope=row>R2</th><td>2</td><td>4</td><td>6</td></tr>\n",
       "</tbody>\n",
       "</table>\n"
      ],
      "text/latex": [
       "A matrix: 2 × 3 of type int\n",
       "\\begin{tabular}{r|lll}\n",
       "  & C1 & C2 & C3\\\\\n",
       "\\hline\n",
       "\tR1 & 1 & 3 & 5\\\\\n",
       "\tR2 & 2 & 4 & 6\\\\\n",
       "\\end{tabular}\n"
      ],
      "text/markdown": [
       "\n",
       "A matrix: 2 × 3 of type int\n",
       "\n",
       "| <!--/--> | C1 | C2 | C3 |\n",
       "|---|---|---|---|\n",
       "| R1 | 1 | 3 | 5 |\n",
       "| R2 | 2 | 4 | 6 |\n",
       "\n"
      ],
      "text/plain": [
       "   C1 C2 C3\n",
       "R1 1  3  5 \n",
       "R2 2  4  6 "
      ]
     },
     "metadata": {},
     "output_type": "display_data"
    }
   ],
   "source": [
    "x[,c(1,2)]\n",
    "x[c(1,2),]"
   ]
  },
  {
   "cell_type": "code",
   "execution_count": 12,
   "metadata": {
    "scrolled": true
   },
   "outputs": [
    {
     "data": {
      "text/html": [
       "<table>\n",
       "<caption>A matrix: 2 × 2 of type int</caption>\n",
       "<thead>\n",
       "\t<tr><th></th><th scope=col>C2</th><th scope=col>C3</th></tr>\n",
       "</thead>\n",
       "<tbody>\n",
       "\t<tr><th scope=row>R1</th><td>3</td><td>5</td></tr>\n",
       "\t<tr><th scope=row>R2</th><td>4</td><td>6</td></tr>\n",
       "</tbody>\n",
       "</table>\n"
      ],
      "text/latex": [
       "A matrix: 2 × 2 of type int\n",
       "\\begin{tabular}{r|ll}\n",
       "  & C2 & C3\\\\\n",
       "\\hline\n",
       "\tR1 & 3 & 5\\\\\n",
       "\tR2 & 4 & 6\\\\\n",
       "\\end{tabular}\n"
      ],
      "text/markdown": [
       "\n",
       "A matrix: 2 × 2 of type int\n",
       "\n",
       "| <!--/--> | C2 | C3 |\n",
       "|---|---|---|\n",
       "| R1 | 3 | 5 |\n",
       "| R2 | 4 | 6 |\n",
       "\n"
      ],
      "text/plain": [
       "   C2 C3\n",
       "R1 3  5 \n",
       "R2 4  6 "
      ]
     },
     "metadata": {},
     "output_type": "display_data"
    },
    {
     "data": {
      "text/html": [
       "<style>\n",
       ".dl-inline {width: auto; margin:0; padding: 0}\n",
       ".dl-inline>dt, .dl-inline>dd {float: none; width: auto; display: inline-block}\n",
       ".dl-inline>dt::after {content: \":\\0020\"; padding-right: .5ex}\n",
       ".dl-inline>dt:not(:first-of-type) {padding-left: .5ex}\n",
       "</style><dl class=dl-inline><dt>C2</dt><dd>3</dd><dt>C3</dt><dd>5</dd></dl>\n"
      ],
      "text/latex": [
       "\\begin{description*}\n",
       "\\item[C2] 3\n",
       "\\item[C3] 5\n",
       "\\end{description*}\n"
      ],
      "text/markdown": [
       "C2\n",
       ":   3C3\n",
       ":   5\n",
       "\n"
      ],
      "text/plain": [
       "C2 C3 \n",
       " 3  5 "
      ]
     },
     "metadata": {},
     "output_type": "display_data"
    }
   ],
   "source": [
    "x[,c(2:3)]\n",
    "x[1,c(2:3)]"
   ]
  },
  {
   "cell_type": "code",
   "execution_count": 13,
   "metadata": {},
   "outputs": [
    {
     "data": {
      "text/html": [
       "<style>\n",
       ".dl-inline {width: auto; margin:0; padding: 0}\n",
       ".dl-inline>dt, .dl-inline>dd {float: none; width: auto; display: inline-block}\n",
       ".dl-inline>dt::after {content: \":\\0020\"; padding-right: .5ex}\n",
       ".dl-inline>dt:not(:first-of-type) {padding-left: .5ex}\n",
       "</style><dl class=dl-inline><dt>R1</dt><dd>1</dd><dt>R2</dt><dd>2</dd></dl>\n"
      ],
      "text/latex": [
       "\\begin{description*}\n",
       "\\item[R1] 1\n",
       "\\item[R2] 2\n",
       "\\end{description*}\n"
      ],
      "text/markdown": [
       "R1\n",
       ":   1R2\n",
       ":   2\n",
       "\n"
      ],
      "text/plain": [
       "R1 R2 \n",
       " 1  2 "
      ]
     },
     "metadata": {},
     "output_type": "display_data"
    }
   ],
   "source": [
    "x[,-c(2:3)] #exclude"
   ]
  },
  {
   "cell_type": "code",
   "execution_count": 14,
   "metadata": {
    "scrolled": false
   },
   "outputs": [
    {
     "data": {
      "text/html": [
       "<table>\n",
       "<caption>A matrix: 4 × 2 of type dbl</caption>\n",
       "<tbody>\n",
       "\t<tr><td>71</td><td>172</td></tr>\n",
       "\t<tr><td>73</td><td> 73</td></tr>\n",
       "\t<tr><td>69</td><td>160</td></tr>\n",
       "\t<tr><td>65</td><td>130</td></tr>\n",
       "</tbody>\n",
       "</table>\n"
      ],
      "text/latex": [
       "A matrix: 4 × 2 of type dbl\n",
       "\\begin{tabular}{ll}\n",
       "\t 71 & 172\\\\\n",
       "\t 73 &  73\\\\\n",
       "\t 69 & 160\\\\\n",
       "\t 65 & 130\\\\\n",
       "\\end{tabular}\n"
      ],
      "text/markdown": [
       "\n",
       "A matrix: 4 × 2 of type dbl\n",
       "\n",
       "| 71 | 172 |\n",
       "| 73 |  73 |\n",
       "| 69 | 160 |\n",
       "| 65 | 130 |\n",
       "\n"
      ],
      "text/plain": [
       "     [,1] [,2]\n",
       "[1,] 71   172 \n",
       "[2,] 73    73 \n",
       "[3,] 69   160 \n",
       "[4,] 65   130 "
      ]
     },
     "metadata": {},
     "output_type": "display_data"
    },
    {
     "name": "stderr",
     "output_type": "stream",
     "text": [
      "Warning message in cbind(c(71, 73, 65), c(172, 169, 160, 130)):\n",
      "\"number of rows of result is not a multiple of vector length (arg 1)\"\n"
     ]
    },
    {
     "data": {
      "text/html": [
       "<table>\n",
       "<caption>A matrix: 4 × 2 of type dbl</caption>\n",
       "<tbody>\n",
       "\t<tr><td>71</td><td>172</td></tr>\n",
       "\t<tr><td>73</td><td>169</td></tr>\n",
       "\t<tr><td>65</td><td>160</td></tr>\n",
       "\t<tr><td>71</td><td>130</td></tr>\n",
       "</tbody>\n",
       "</table>\n"
      ],
      "text/latex": [
       "A matrix: 4 × 2 of type dbl\n",
       "\\begin{tabular}{ll}\n",
       "\t 71 & 172\\\\\n",
       "\t 73 & 169\\\\\n",
       "\t 65 & 160\\\\\n",
       "\t 71 & 130\\\\\n",
       "\\end{tabular}\n"
      ],
      "text/markdown": [
       "\n",
       "A matrix: 4 × 2 of type dbl\n",
       "\n",
       "| 71 | 172 |\n",
       "| 73 | 169 |\n",
       "| 65 | 160 |\n",
       "| 71 | 130 |\n",
       "\n"
      ],
      "text/plain": [
       "     [,1] [,2]\n",
       "[1,] 71   172 \n",
       "[2,] 73   169 \n",
       "[3,] 65   160 \n",
       "[4,] 71   130 "
      ]
     },
     "metadata": {},
     "output_type": "display_data"
    },
    {
     "name": "stderr",
     "output_type": "stream",
     "text": [
      "Warning message in cbind(c(71, 73, 69, 65), c(172, 169, 130)):\n",
      "\"number of rows of result is not a multiple of vector length (arg 2)\"\n"
     ]
    },
    {
     "data": {
      "text/html": [
       "<table>\n",
       "<caption>A matrix: 4 × 2 of type dbl</caption>\n",
       "<tbody>\n",
       "\t<tr><td>71</td><td>172</td></tr>\n",
       "\t<tr><td>73</td><td>169</td></tr>\n",
       "\t<tr><td>69</td><td>130</td></tr>\n",
       "\t<tr><td>65</td><td>172</td></tr>\n",
       "</tbody>\n",
       "</table>\n"
      ],
      "text/latex": [
       "A matrix: 4 × 2 of type dbl\n",
       "\\begin{tabular}{ll}\n",
       "\t 71 & 172\\\\\n",
       "\t 73 & 169\\\\\n",
       "\t 69 & 130\\\\\n",
       "\t 65 & 172\\\\\n",
       "\\end{tabular}\n"
      ],
      "text/markdown": [
       "\n",
       "A matrix: 4 × 2 of type dbl\n",
       "\n",
       "| 71 | 172 |\n",
       "| 73 | 169 |\n",
       "| 69 | 130 |\n",
       "| 65 | 172 |\n",
       "\n"
      ],
      "text/plain": [
       "     [,1] [,2]\n",
       "[1,] 71   172 \n",
       "[2,] 73   169 \n",
       "[3,] 69   130 \n",
       "[4,] 65   172 "
      ]
     },
     "metadata": {},
     "output_type": "display_data"
    }
   ],
   "source": [
    "# how does R deal with incomplete data. Cyclically reuse the vector.\n",
    "x=rbind(c(71,172),c(73),c(69,160),c(65,130)); x\n",
    "y=cbind(c(71,73,65),c(172,169,160,130)); y\n",
    "y=cbind(c(71,73,69,65),c(172,169,130)); y"
   ]
  },
  {
   "cell_type": "code",
   "execution_count": 15,
   "metadata": {
    "scrolled": true
   },
   "outputs": [
    {
     "name": "stderr",
     "output_type": "stream",
     "text": [
      "Warning message in matrix(1:6, 2, 5):\n",
      "\"data length [6] is not a sub-multiple or multiple of the number of columns [5]\"\n"
     ]
    },
    {
     "data": {
      "text/html": [
       "<table>\n",
       "<caption>A matrix: 2 × 5 of type int</caption>\n",
       "<tbody>\n",
       "\t<tr><td>1</td><td>3</td><td>5</td><td>1</td><td>3</td></tr>\n",
       "\t<tr><td>2</td><td>4</td><td>6</td><td>2</td><td>4</td></tr>\n",
       "</tbody>\n",
       "</table>\n"
      ],
      "text/latex": [
       "A matrix: 2 × 5 of type int\n",
       "\\begin{tabular}{lllll}\n",
       "\t 1 & 3 & 5 & 1 & 3\\\\\n",
       "\t 2 & 4 & 6 & 2 & 4\\\\\n",
       "\\end{tabular}\n"
      ],
      "text/markdown": [
       "\n",
       "A matrix: 2 × 5 of type int\n",
       "\n",
       "| 1 | 3 | 5 | 1 | 3 |\n",
       "| 2 | 4 | 6 | 2 | 4 |\n",
       "\n"
      ],
      "text/plain": [
       "     [,1] [,2] [,3] [,4] [,5]\n",
       "[1,] 1    3    5    1    3   \n",
       "[2,] 2    4    6    2    4   "
      ]
     },
     "metadata": {},
     "output_type": "display_data"
    },
    {
     "name": "stderr",
     "output_type": "stream",
     "text": [
      "Warning message in matrix(1:6, 2, 5, byrow = T):\n",
      "\"data length [6] is not a sub-multiple or multiple of the number of columns [5]\"\n"
     ]
    },
    {
     "data": {
      "text/html": [
       "<table>\n",
       "<caption>A matrix: 2 × 5 of type int</caption>\n",
       "<tbody>\n",
       "\t<tr><td>1</td><td>2</td><td>3</td><td>4</td><td>5</td></tr>\n",
       "\t<tr><td>6</td><td>1</td><td>2</td><td>3</td><td>4</td></tr>\n",
       "</tbody>\n",
       "</table>\n"
      ],
      "text/latex": [
       "A matrix: 2 × 5 of type int\n",
       "\\begin{tabular}{lllll}\n",
       "\t 1 & 2 & 3 & 4 & 5\\\\\n",
       "\t 6 & 1 & 2 & 3 & 4\\\\\n",
       "\\end{tabular}\n"
      ],
      "text/markdown": [
       "\n",
       "A matrix: 2 × 5 of type int\n",
       "\n",
       "| 1 | 2 | 3 | 4 | 5 |\n",
       "| 6 | 1 | 2 | 3 | 4 |\n",
       "\n"
      ],
      "text/plain": [
       "     [,1] [,2] [,3] [,4] [,5]\n",
       "[1,] 1    2    3    4    5   \n",
       "[2,] 6    1    2    3    4   "
      ]
     },
     "metadata": {},
     "output_type": "display_data"
    }
   ],
   "source": [
    "# how does R deal with incomplete data. Cyclically reuse the vector.\n",
    "z=matrix(1:6,2,5); z\n",
    "z=matrix(1:6,2,5, byrow=T); z"
   ]
  },
  {
   "cell_type": "code",
   "execution_count": 16,
   "metadata": {
    "scrolled": false
   },
   "outputs": [
    {
     "data": {
      "text/html": [
       "<style>\n",
       ".list-inline {list-style: none; margin:0; padding: 0}\n",
       ".list-inline>li {display: inline-block}\n",
       ".list-inline>li:not(:last-child)::after {content: \"\\00b7\"; padding: 0 .5ex}\n",
       "</style>\n",
       "<ol class=list-inline><li>1</li><li>2</li><li>3</li><li>4</li><li>5</li><li>6</li></ol>\n"
      ],
      "text/latex": [
       "\\begin{enumerate*}\n",
       "\\item 1\n",
       "\\item 2\n",
       "\\item 3\n",
       "\\item 4\n",
       "\\item 5\n",
       "\\item 6\n",
       "\\end{enumerate*}\n"
      ],
      "text/markdown": [
       "1. 1\n",
       "2. 2\n",
       "3. 3\n",
       "4. 4\n",
       "5. 5\n",
       "6. 6\n",
       "\n",
       "\n"
      ],
      "text/plain": [
       "[1] 1 2 3 4 5 6"
      ]
     },
     "metadata": {},
     "output_type": "display_data"
    },
    {
     "data": {
      "text/html": [
       "1"
      ],
      "text/latex": [
       "1"
      ],
      "text/markdown": [
       "1"
      ],
      "text/plain": [
       "[1] 1"
      ]
     },
     "metadata": {},
     "output_type": "display_data"
    },
    {
     "data": {
      "text/html": [
       "2"
      ],
      "text/latex": [
       "2"
      ],
      "text/markdown": [
       "2"
      ],
      "text/plain": [
       "[1] 2"
      ]
     },
     "metadata": {},
     "output_type": "display_data"
    },
    {
     "data": {
      "text/html": [],
      "text/latex": [],
      "text/markdown": [],
      "text/plain": [
       "numeric(0)"
      ]
     },
     "metadata": {},
     "output_type": "display_data"
    },
    {
     "name": "stdout",
     "output_type": "stream",
     "text": [
      "numeric(0)\n"
     ]
    },
    {
     "data": {
      "text/html": [
       "<style>\n",
       ".list-inline {list-style: none; margin:0; padding: 0}\n",
       ".list-inline>li {display: inline-block}\n",
       ".list-inline>li:not(:last-child)::after {content: \"\\00b7\"; padding: 0 .5ex}\n",
       "</style>\n",
       "<ol class=list-inline><li>2</li><li>3</li></ol>\n"
      ],
      "text/latex": [
       "\\begin{enumerate*}\n",
       "\\item 2\n",
       "\\item 3\n",
       "\\end{enumerate*}\n"
      ],
      "text/markdown": [
       "1. 2\n",
       "2. 3\n",
       "\n",
       "\n"
      ],
      "text/plain": [
       "[1] 2 3"
      ]
     },
     "metadata": {},
     "output_type": "display_data"
    },
    {
     "data": {
      "text/html": [
       "<style>\n",
       ".list-inline {list-style: none; margin:0; padding: 0}\n",
       ".list-inline>li {display: inline-block}\n",
       ".list-inline>li:not(:last-child)::after {content: \"\\00b7\"; padding: 0 .5ex}\n",
       "</style>\n",
       "<ol class=list-inline><li>1</li><li>3</li><li>4</li><li>5</li><li>6</li></ol>\n"
      ],
      "text/latex": [
       "\\begin{enumerate*}\n",
       "\\item 1\n",
       "\\item 3\n",
       "\\item 4\n",
       "\\item 5\n",
       "\\item 6\n",
       "\\end{enumerate*}\n"
      ],
      "text/markdown": [
       "1. 1\n",
       "2. 3\n",
       "3. 4\n",
       "4. 5\n",
       "5. 6\n",
       "\n",
       "\n"
      ],
      "text/plain": [
       "[1] 1 3 4 5 6"
      ]
     },
     "metadata": {},
     "output_type": "display_data"
    },
    {
     "data": {
      "text/html": [
       "<style>\n",
       ".list-inline {list-style: none; margin:0; padding: 0}\n",
       ".list-inline>li {display: inline-block}\n",
       ".list-inline>li:not(:last-child)::after {content: \"\\00b7\"; padding: 0 .5ex}\n",
       "</style>\n",
       "<ol class=list-inline><li>3</li><li>5</li><li>6</li></ol>\n"
      ],
      "text/latex": [
       "\\begin{enumerate*}\n",
       "\\item 3\n",
       "\\item 5\n",
       "\\item 6\n",
       "\\end{enumerate*}\n"
      ],
      "text/markdown": [
       "1. 3\n",
       "2. 5\n",
       "3. 6\n",
       "\n",
       "\n"
      ],
      "text/plain": [
       "[1] 3 5 6"
      ]
     },
     "metadata": {},
     "output_type": "display_data"
    },
    {
     "data": {
      "text/html": [
       "<style>\n",
       ".list-inline {list-style: none; margin:0; padding: 0}\n",
       ".list-inline>li {display: inline-block}\n",
       ".list-inline>li:not(:last-child)::after {content: \"\\00b7\"; padding: 0 .5ex}\n",
       "</style>\n",
       "<ol class=list-inline><li>3</li><li>5</li><li>6</li><li>&lt;NA&gt;</li></ol>\n"
      ],
      "text/latex": [
       "\\begin{enumerate*}\n",
       "\\item 3\n",
       "\\item 5\n",
       "\\item 6\n",
       "\\item <NA>\n",
       "\\end{enumerate*}\n"
      ],
      "text/markdown": [
       "1. 3\n",
       "2. 5\n",
       "3. 6\n",
       "4. &lt;NA&gt;\n",
       "\n",
       "\n"
      ],
      "text/plain": [
       "[1]  3  5  6 NA"
      ]
     },
     "metadata": {},
     "output_type": "display_data"
    }
   ],
   "source": [
    "x=c(1,2,3,4,5,6);x\n",
    "x[1] #index starts from 1\n",
    "x[2]\n",
    "x[0] # it is always integer(0) or numeric(0)\n",
    "print(x[0])\n",
    "x[2:3] #slicing\n",
    "x[-2] #drop\n",
    "x[c(3,5,6)]\n",
    "x[c(3,5,6,8)] #when index is out of range"
   ]
  },
  {
   "cell_type": "code",
   "execution_count": 17,
   "metadata": {
    "scrolled": true
   },
   "outputs": [
    {
     "data": {
      "text/html": [
       "<style>\n",
       ".list-inline {list-style: none; margin:0; padding: 0}\n",
       ".list-inline>li {display: inline-block}\n",
       ".list-inline>li:not(:last-child)::after {content: \"\\00b7\"; padding: 0 .5ex}\n",
       "</style>\n",
       "<ol class=list-inline><li>4</li><li>5</li><li>6</li></ol>\n"
      ],
      "text/latex": [
       "\\begin{enumerate*}\n",
       "\\item 4\n",
       "\\item 5\n",
       "\\item 6\n",
       "\\end{enumerate*}\n"
      ],
      "text/markdown": [
       "1. 4\n",
       "2. 5\n",
       "3. 6\n",
       "\n",
       "\n"
      ],
      "text/plain": [
       "[1] 4 5 6"
      ]
     },
     "metadata": {},
     "output_type": "display_data"
    },
    {
     "data": {
      "text/html": [
       "<style>\n",
       ".list-inline {list-style: none; margin:0; padding: 0}\n",
       ".list-inline>li {display: inline-block}\n",
       ".list-inline>li:not(:last-child)::after {content: \"\\00b7\"; padding: 0 .5ex}\n",
       "</style>\n",
       "<ol class=list-inline><li>1</li><li>4</li><li>5</li><li>6</li></ol>\n"
      ],
      "text/latex": [
       "\\begin{enumerate*}\n",
       "\\item 1\n",
       "\\item 4\n",
       "\\item 5\n",
       "\\item 6\n",
       "\\end{enumerate*}\n"
      ],
      "text/markdown": [
       "1. 1\n",
       "2. 4\n",
       "3. 5\n",
       "4. 6\n",
       "\n",
       "\n"
      ],
      "text/plain": [
       "[1] 1 4 5 6"
      ]
     },
     "metadata": {},
     "output_type": "display_data"
    },
    {
     "data": {
      "text/html": [
       "<style>\n",
       ".list-inline {list-style: none; margin:0; padding: 0}\n",
       ".list-inline>li {display: inline-block}\n",
       ".list-inline>li:not(:last-child)::after {content: \"\\00b7\"; padding: 0 .5ex}\n",
       "</style>\n",
       "<ol class=list-inline><li>4</li><li>5</li><li>6</li></ol>\n"
      ],
      "text/latex": [
       "\\begin{enumerate*}\n",
       "\\item 4\n",
       "\\item 5\n",
       "\\item 6\n",
       "\\end{enumerate*}\n"
      ],
      "text/markdown": [
       "1. 4\n",
       "2. 5\n",
       "3. 6\n",
       "\n",
       "\n"
      ],
      "text/plain": [
       "[1] 4 5 6"
      ]
     },
     "metadata": {},
     "output_type": "display_data"
    },
    {
     "data": {
      "text/html": [
       "<style>\n",
       ".list-inline {list-style: none; margin:0; padding: 0}\n",
       ".list-inline>li {display: inline-block}\n",
       ".list-inline>li:not(:last-child)::after {content: \"\\00b7\"; padding: 0 .5ex}\n",
       "</style>\n",
       "<ol class=list-inline><li>1</li><li>4</li><li>5</li><li>6</li></ol>\n"
      ],
      "text/latex": [
       "\\begin{enumerate*}\n",
       "\\item 1\n",
       "\\item 4\n",
       "\\item 5\n",
       "\\item 6\n",
       "\\end{enumerate*}\n"
      ],
      "text/markdown": [
       "1. 1\n",
       "2. 4\n",
       "3. 5\n",
       "4. 6\n",
       "\n",
       "\n"
      ],
      "text/plain": [
       "[1] 1 4 5 6"
      ]
     },
     "metadata": {},
     "output_type": "display_data"
    },
    {
     "data": {
      "text/html": [
       "6"
      ],
      "text/latex": [
       "6"
      ],
      "text/markdown": [
       "6"
      ],
      "text/plain": [
       "[1] 6"
      ]
     },
     "metadata": {},
     "output_type": "display_data"
    },
    {
     "data": {
      "text/html": [
       "2"
      ],
      "text/latex": [
       "2"
      ],
      "text/markdown": [
       "2"
      ],
      "text/plain": [
       "[1] 2"
      ]
     },
     "metadata": {},
     "output_type": "display_data"
    }
   ],
   "source": [
    "#filtering\n",
    "x[x>3]\n",
    "x[x<2 | x>3]\n",
    "which(x>3)  #return indices\n",
    "which(x<2 | x>3)\n",
    "which.max(x)\n",
    "y=c(2,3,3,2)\n",
    "which.max(y)\n",
    "?which.max"
   ]
  },
  {
   "cell_type": "code",
   "execution_count": 18,
   "metadata": {
    "scrolled": false
   },
   "outputs": [
    {
     "data": {
      "text/html": [
       "<style>\n",
       ".list-inline {list-style: none; margin:0; padding: 0}\n",
       ".list-inline>li {display: inline-block}\n",
       ".list-inline>li:not(:last-child)::after {content: \"\\00b7\"; padding: 0 .5ex}\n",
       "</style>\n",
       "<ol class=list-inline><li>1</li><li>2</li><li>3</li><li>4</li><li>5</li><li>6</li></ol>\n"
      ],
      "text/latex": [
       "\\begin{enumerate*}\n",
       "\\item 1\n",
       "\\item 2\n",
       "\\item 3\n",
       "\\item 4\n",
       "\\item 5\n",
       "\\item 6\n",
       "\\end{enumerate*}\n"
      ],
      "text/markdown": [
       "1. 1\n",
       "2. 2\n",
       "3. 3\n",
       "4. 4\n",
       "5. 5\n",
       "6. 6\n",
       "\n",
       "\n"
      ],
      "text/plain": [
       "[1] 1 2 3 4 5 6"
      ]
     },
     "metadata": {},
     "output_type": "display_data"
    },
    {
     "data": {
      "text/html": [
       "<style>\n",
       ".list-inline {list-style: none; margin:0; padding: 0}\n",
       ".list-inline>li {display: inline-block}\n",
       ".list-inline>li:not(:last-child)::after {content: \"\\00b7\"; padding: 0 .5ex}\n",
       "</style>\n",
       "<ol class=list-inline><li>FALSE</li><li>FALSE</li><li>FALSE</li><li>TRUE</li><li>TRUE</li><li>TRUE</li></ol>\n"
      ],
      "text/latex": [
       "\\begin{enumerate*}\n",
       "\\item FALSE\n",
       "\\item FALSE\n",
       "\\item FALSE\n",
       "\\item TRUE\n",
       "\\item TRUE\n",
       "\\item TRUE\n",
       "\\end{enumerate*}\n"
      ],
      "text/markdown": [
       "1. FALSE\n",
       "2. FALSE\n",
       "3. FALSE\n",
       "4. TRUE\n",
       "5. TRUE\n",
       "6. TRUE\n",
       "\n",
       "\n"
      ],
      "text/plain": [
       "[1] FALSE FALSE FALSE  TRUE  TRUE  TRUE"
      ]
     },
     "metadata": {},
     "output_type": "display_data"
    },
    {
     "data": {
      "text/html": [
       "<style>\n",
       ".list-inline {list-style: none; margin:0; padding: 0}\n",
       ".list-inline>li {display: inline-block}\n",
       ".list-inline>li:not(:last-child)::after {content: \"\\00b7\"; padding: 0 .5ex}\n",
       "</style>\n",
       "<ol class=list-inline><li>TRUE</li><li>FALSE</li><li>FALSE</li><li>TRUE</li><li>TRUE</li><li>TRUE</li></ol>\n"
      ],
      "text/latex": [
       "\\begin{enumerate*}\n",
       "\\item TRUE\n",
       "\\item FALSE\n",
       "\\item FALSE\n",
       "\\item TRUE\n",
       "\\item TRUE\n",
       "\\item TRUE\n",
       "\\end{enumerate*}\n"
      ],
      "text/markdown": [
       "1. TRUE\n",
       "2. FALSE\n",
       "3. FALSE\n",
       "4. TRUE\n",
       "5. TRUE\n",
       "6. TRUE\n",
       "\n",
       "\n"
      ],
      "text/plain": [
       "[1]  TRUE FALSE FALSE  TRUE  TRUE  TRUE"
      ]
     },
     "metadata": {},
     "output_type": "display_data"
    },
    {
     "data": {
      "text/html": [
       "<style>\n",
       ".list-inline {list-style: none; margin:0; padding: 0}\n",
       ".list-inline>li {display: inline-block}\n",
       ".list-inline>li:not(:last-child)::after {content: \"\\00b7\"; padding: 0 .5ex}\n",
       "</style>\n",
       "<ol class=list-inline><li>FALSE</li><li>FALSE</li><li>FALSE</li><li>FALSE</li><li>FALSE</li><li>FALSE</li></ol>\n"
      ],
      "text/latex": [
       "\\begin{enumerate*}\n",
       "\\item FALSE\n",
       "\\item FALSE\n",
       "\\item FALSE\n",
       "\\item FALSE\n",
       "\\item FALSE\n",
       "\\item FALSE\n",
       "\\end{enumerate*}\n"
      ],
      "text/markdown": [
       "1. FALSE\n",
       "2. FALSE\n",
       "3. FALSE\n",
       "4. FALSE\n",
       "5. FALSE\n",
       "6. FALSE\n",
       "\n",
       "\n"
      ],
      "text/plain": [
       "[1] FALSE FALSE FALSE FALSE FALSE FALSE"
      ]
     },
     "metadata": {},
     "output_type": "display_data"
    },
    {
     "data": {
      "text/html": [
       "FALSE"
      ],
      "text/latex": [
       "FALSE"
      ],
      "text/markdown": [
       "FALSE"
      ],
      "text/plain": [
       "[1] FALSE"
      ]
     },
     "metadata": {},
     "output_type": "display_data"
    },
    {
     "data": {
      "text/html": [
       "TRUE"
      ],
      "text/latex": [
       "TRUE"
      ],
      "text/markdown": [
       "TRUE"
      ],
      "text/plain": [
       "[1] TRUE"
      ]
     },
     "metadata": {},
     "output_type": "display_data"
    },
    {
     "data": {
      "text/html": [
       "<style>\n",
       ".list-inline {list-style: none; margin:0; padding: 0}\n",
       ".list-inline>li {display: inline-block}\n",
       ".list-inline>li:not(:last-child)::after {content: \"\\00b7\"; padding: 0 .5ex}\n",
       "</style>\n",
       "<ol class=list-inline><li>FALSE</li><li>TRUE</li><li>FALSE</li><li>TRUE</li><li>FALSE</li><li>FALSE</li></ol>\n"
      ],
      "text/latex": [
       "\\begin{enumerate*}\n",
       "\\item FALSE\n",
       "\\item TRUE\n",
       "\\item FALSE\n",
       "\\item TRUE\n",
       "\\item FALSE\n",
       "\\item FALSE\n",
       "\\end{enumerate*}\n"
      ],
      "text/markdown": [
       "1. FALSE\n",
       "2. TRUE\n",
       "3. FALSE\n",
       "4. TRUE\n",
       "5. FALSE\n",
       "6. FALSE\n",
       "\n",
       "\n"
      ],
      "text/plain": [
       "[1] FALSE  TRUE FALSE  TRUE FALSE FALSE"
      ]
     },
     "metadata": {},
     "output_type": "display_data"
    }
   ],
   "source": [
    "# logical vectors\n",
    "x\n",
    "x>3\n",
    "x<2 | x>3  \n",
    "x<2 & x>3  \n",
    "all(x>3)\n",
    "any(x>3)\n",
    "x %in% c(2,4)"
   ]
  },
  {
   "cell_type": "code",
   "execution_count": 19,
   "metadata": {
    "scrolled": true
   },
   "outputs": [
    {
     "data": {
      "text/html": [
       "<style>\n",
       ".list-inline {list-style: none; margin:0; padding: 0}\n",
       ".list-inline>li {display: inline-block}\n",
       ".list-inline>li:not(:last-child)::after {content: \"\\00b7\"; padding: 0 .5ex}\n",
       "</style>\n",
       "<ol class=list-inline><li>FALSE</li><li>FALSE</li><li>TRUE</li><li>TRUE</li><li>TRUE</li><li>TRUE</li></ol>\n"
      ],
      "text/latex": [
       "\\begin{enumerate*}\n",
       "\\item FALSE\n",
       "\\item FALSE\n",
       "\\item TRUE\n",
       "\\item TRUE\n",
       "\\item TRUE\n",
       "\\item TRUE\n",
       "\\end{enumerate*}\n"
      ],
      "text/markdown": [
       "1. FALSE\n",
       "2. FALSE\n",
       "3. TRUE\n",
       "4. TRUE\n",
       "5. TRUE\n",
       "6. TRUE\n",
       "\n",
       "\n"
      ],
      "text/plain": [
       "[1] FALSE FALSE  TRUE  TRUE  TRUE  TRUE"
      ]
     },
     "metadata": {},
     "output_type": "display_data"
    },
    {
     "data": {
      "text/html": [
       "<style>\n",
       ".list-inline {list-style: none; margin:0; padding: 0}\n",
       ".list-inline>li {display: inline-block}\n",
       ".list-inline>li:not(:last-child)::after {content: \"\\00b7\"; padding: 0 .5ex}\n",
       "</style>\n",
       "<ol class=list-inline><li>TRUE</li><li>TRUE</li><li>TRUE</li><li>TRUE</li><li>FALSE</li><li>FALSE</li></ol>\n"
      ],
      "text/latex": [
       "\\begin{enumerate*}\n",
       "\\item TRUE\n",
       "\\item TRUE\n",
       "\\item TRUE\n",
       "\\item TRUE\n",
       "\\item FALSE\n",
       "\\item FALSE\n",
       "\\end{enumerate*}\n"
      ],
      "text/markdown": [
       "1. TRUE\n",
       "2. TRUE\n",
       "3. TRUE\n",
       "4. TRUE\n",
       "5. FALSE\n",
       "6. FALSE\n",
       "\n",
       "\n"
      ],
      "text/plain": [
       "[1]  TRUE  TRUE  TRUE  TRUE FALSE FALSE"
      ]
     },
     "metadata": {},
     "output_type": "display_data"
    },
    {
     "data": {
      "text/html": [
       "FALSE"
      ],
      "text/latex": [
       "FALSE"
      ],
      "text/markdown": [
       "FALSE"
      ],
      "text/plain": [
       "[1] FALSE"
      ]
     },
     "metadata": {},
     "output_type": "display_data"
    },
    {
     "data": {
      "text/html": [
       "FALSE"
      ],
      "text/latex": [
       "FALSE"
      ],
      "text/markdown": [
       "FALSE"
      ],
      "text/plain": [
       "[1] FALSE"
      ]
     },
     "metadata": {},
     "output_type": "display_data"
    }
   ],
   "source": [
    "# && and ||\n",
    "# The longer form evaluates left to right examining only the first element of each vector\n",
    "x=1:6\n",
    "x>2\n",
    "x<5\n",
    "(x > 2) && (x < 5)\n",
    "(x[1] > 2) & (x[1] < 5)"
   ]
  },
  {
   "cell_type": "code",
   "execution_count": 20,
   "metadata": {
    "scrolled": true
   },
   "outputs": [
    {
     "data": {
      "text/html": [
       "TRUE"
      ],
      "text/latex": [
       "TRUE"
      ],
      "text/markdown": [
       "TRUE"
      ],
      "text/plain": [
       "[1] TRUE"
      ]
     },
     "metadata": {},
     "output_type": "display_data"
    },
    {
     "data": {
      "text/html": [
       "TRUE"
      ],
      "text/latex": [
       "TRUE"
      ],
      "text/markdown": [
       "TRUE"
      ],
      "text/plain": [
       "[1] TRUE"
      ]
     },
     "metadata": {},
     "output_type": "display_data"
    }
   ],
   "source": [
    "x = 1; y = 2\n",
    "(x == 1) & (y == 2)\n",
    "(x == 1) && (y == 2)"
   ]
  },
  {
   "cell_type": "code",
   "execution_count": 21,
   "metadata": {
    "scrolled": true
   },
   "outputs": [
    {
     "data": {
      "text/html": [
       "<style>\n",
       ".list-inline {list-style: none; margin:0; padding: 0}\n",
       ".list-inline>li {display: inline-block}\n",
       ".list-inline>li:not(:last-child)::after {content: \"\\00b7\"; padding: 0 .5ex}\n",
       "</style>\n",
       "<ol class=list-inline><li>FALSE</li><li>FALSE</li><li>TRUE</li><li>TRUE</li><li>FALSE</li><li>FALSE</li></ol>\n"
      ],
      "text/latex": [
       "\\begin{enumerate*}\n",
       "\\item FALSE\n",
       "\\item FALSE\n",
       "\\item TRUE\n",
       "\\item TRUE\n",
       "\\item FALSE\n",
       "\\item FALSE\n",
       "\\end{enumerate*}\n"
      ],
      "text/markdown": [
       "1. FALSE\n",
       "2. FALSE\n",
       "3. TRUE\n",
       "4. TRUE\n",
       "5. FALSE\n",
       "6. FALSE\n",
       "\n",
       "\n"
      ],
      "text/plain": [
       "[1] FALSE FALSE  TRUE  TRUE FALSE FALSE"
      ]
     },
     "metadata": {},
     "output_type": "display_data"
    },
    {
     "data": {
      "text/html": [
       "<style>\n",
       ".list-inline {list-style: none; margin:0; padding: 0}\n",
       ".list-inline>li {display: inline-block}\n",
       ".list-inline>li:not(:last-child)::after {content: \"\\00b7\"; padding: 0 .5ex}\n",
       "</style>\n",
       "<ol class=list-inline><li>3</li><li>4</li></ol>\n"
      ],
      "text/latex": [
       "\\begin{enumerate*}\n",
       "\\item 3\n",
       "\\item 4\n",
       "\\end{enumerate*}\n"
      ],
      "text/markdown": [
       "1. 3\n",
       "2. 4\n",
       "\n",
       "\n"
      ],
      "text/plain": [
       "[1] 3 4"
      ]
     },
     "metadata": {},
     "output_type": "display_data"
    }
   ],
   "source": [
    "z = 1:6\n",
    "(z > 2) & (z < 5)\n",
    "z[(z>2) & (z<5)]"
   ]
  },
  {
   "cell_type": "code",
   "execution_count": 65,
   "metadata": {
    "scrolled": true
   },
   "outputs": [
    {
     "data": {
      "text/html": [
       "<style>\n",
       ".list-inline {list-style: none; margin:0; padding: 0}\n",
       ".list-inline>li {display: inline-block}\n",
       ".list-inline>li:not(:last-child)::after {content: \"\\00b7\"; padding: 0 .5ex}\n",
       "</style>\n",
       "<ol class=list-inline><li>FALSE</li><li>FALSE</li><li>TRUE</li><li>TRUE</li><li>TRUE</li><li>TRUE</li></ol>\n"
      ],
      "text/latex": [
       "\\begin{enumerate*}\n",
       "\\item FALSE\n",
       "\\item FALSE\n",
       "\\item TRUE\n",
       "\\item TRUE\n",
       "\\item TRUE\n",
       "\\item TRUE\n",
       "\\end{enumerate*}\n"
      ],
      "text/markdown": [
       "1. FALSE\n",
       "2. FALSE\n",
       "3. TRUE\n",
       "4. TRUE\n",
       "5. TRUE\n",
       "6. TRUE\n",
       "\n",
       "\n"
      ],
      "text/plain": [
       "[1] FALSE FALSE  TRUE  TRUE  TRUE  TRUE"
      ]
     },
     "metadata": {},
     "output_type": "display_data"
    },
    {
     "data": {
      "text/html": [
       "<style>\n",
       ".list-inline {list-style: none; margin:0; padding: 0}\n",
       ".list-inline>li {display: inline-block}\n",
       ".list-inline>li:not(:last-child)::after {content: \"\\00b7\"; padding: 0 .5ex}\n",
       "</style>\n",
       "<ol class=list-inline><li>TRUE</li><li>TRUE</li><li>TRUE</li><li>TRUE</li><li>FALSE</li><li>FALSE</li></ol>\n"
      ],
      "text/latex": [
       "\\begin{enumerate*}\n",
       "\\item TRUE\n",
       "\\item TRUE\n",
       "\\item TRUE\n",
       "\\item TRUE\n",
       "\\item FALSE\n",
       "\\item FALSE\n",
       "\\end{enumerate*}\n"
      ],
      "text/markdown": [
       "1. TRUE\n",
       "2. TRUE\n",
       "3. TRUE\n",
       "4. TRUE\n",
       "5. FALSE\n",
       "6. FALSE\n",
       "\n",
       "\n"
      ],
      "text/plain": [
       "[1]  TRUE  TRUE  TRUE  TRUE FALSE FALSE"
      ]
     },
     "metadata": {},
     "output_type": "display_data"
    }
   ],
   "source": [
    "z=1:6\n",
    "z>2\n",
    "z<5"
   ]
  },
  {
   "cell_type": "code",
   "execution_count": 66,
   "metadata": {},
   "outputs": [
    {
     "data": {
      "text/html": [
       "<style>\n",
       ".list-inline {list-style: none; margin:0; padding: 0}\n",
       ".list-inline>li {display: inline-block}\n",
       ".list-inline>li:not(:last-child)::after {content: \"\\00b7\"; padding: 0 .5ex}\n",
       "</style>\n",
       "<ol class=list-inline><li>FALSE</li><li>FALSE</li><li>TRUE</li><li>TRUE</li><li>FALSE</li><li>FALSE</li></ol>\n"
      ],
      "text/latex": [
       "\\begin{enumerate*}\n",
       "\\item FALSE\n",
       "\\item FALSE\n",
       "\\item TRUE\n",
       "\\item TRUE\n",
       "\\item FALSE\n",
       "\\item FALSE\n",
       "\\end{enumerate*}\n"
      ],
      "text/markdown": [
       "1. FALSE\n",
       "2. FALSE\n",
       "3. TRUE\n",
       "4. TRUE\n",
       "5. FALSE\n",
       "6. FALSE\n",
       "\n",
       "\n"
      ],
      "text/plain": [
       "[1] FALSE FALSE  TRUE  TRUE FALSE FALSE"
      ]
     },
     "metadata": {},
     "output_type": "display_data"
    }
   ],
   "source": [
    "(z > 2) & (z < 5)"
   ]
  },
  {
   "cell_type": "code",
   "execution_count": 75,
   "metadata": {},
   "outputs": [
    {
     "data": {
      "text/html": [
       "TRUE"
      ],
      "text/latex": [
       "TRUE"
      ],
      "text/markdown": [
       "TRUE"
      ],
      "text/plain": [
       "[1] TRUE"
      ]
     },
     "metadata": {},
     "output_type": "display_data"
    }
   ],
   "source": [
    "(z > 2)  (z < 5)"
   ]
  },
  {
   "cell_type": "code",
   "execution_count": 74,
   "metadata": {},
   "outputs": [
    {
     "data": {
      "text/html": [
       "TRUE"
      ],
      "text/latex": [
       "TRUE"
      ],
      "text/markdown": [
       "TRUE"
      ],
      "text/plain": [
       "[1] TRUE"
      ]
     },
     "metadata": {},
     "output_type": "display_data"
    }
   ],
   "source": [
    "(z > 2)[1] || (z < 5)[1]"
   ]
  },
  {
   "cell_type": "code",
   "execution_count": 69,
   "metadata": {},
   "outputs": [
    {
     "data": {
      "text/html": [
       "<style>\n",
       ".list-inline {list-style: none; margin:0; padding: 0}\n",
       ".list-inline>li {display: inline-block}\n",
       ".list-inline>li:not(:last-child)::after {content: \"\\00b7\"; padding: 0 .5ex}\n",
       "</style>\n",
       "<ol class=list-inline><li>TRUE</li><li>FALSE</li><li>FALSE</li><li>FALSE</li><li>FALSE</li><li>FALSE</li></ol>\n"
      ],
      "text/latex": [
       "\\begin{enumerate*}\n",
       "\\item TRUE\n",
       "\\item FALSE\n",
       "\\item FALSE\n",
       "\\item FALSE\n",
       "\\item FALSE\n",
       "\\item FALSE\n",
       "\\end{enumerate*}\n"
      ],
      "text/markdown": [
       "1. TRUE\n",
       "2. FALSE\n",
       "3. FALSE\n",
       "4. FALSE\n",
       "5. FALSE\n",
       "6. FALSE\n",
       "\n",
       "\n"
      ],
      "text/plain": [
       "[1]  TRUE FALSE FALSE FALSE FALSE FALSE"
      ]
     },
     "metadata": {},
     "output_type": "display_data"
    }
   ],
   "source": [
    "z<2"
   ]
  },
  {
   "cell_type": "code",
   "execution_count": 70,
   "metadata": {},
   "outputs": [
    {
     "data": {
      "text/html": [
       "<style>\n",
       ".list-inline {list-style: none; margin:0; padding: 0}\n",
       ".list-inline>li {display: inline-block}\n",
       ".list-inline>li:not(:last-child)::after {content: \"\\00b7\"; padding: 0 .5ex}\n",
       "</style>\n",
       "<ol class=list-inline><li>TRUE</li><li>TRUE</li><li>FALSE</li><li>FALSE</li><li>FALSE</li><li>FALSE</li></ol>\n"
      ],
      "text/latex": [
       "\\begin{enumerate*}\n",
       "\\item TRUE\n",
       "\\item TRUE\n",
       "\\item FALSE\n",
       "\\item FALSE\n",
       "\\item FALSE\n",
       "\\item FALSE\n",
       "\\end{enumerate*}\n"
      ],
      "text/markdown": [
       "1. TRUE\n",
       "2. TRUE\n",
       "3. FALSE\n",
       "4. FALSE\n",
       "5. FALSE\n",
       "6. FALSE\n",
       "\n",
       "\n"
      ],
      "text/plain": [
       "[1]  TRUE  TRUE FALSE FALSE FALSE FALSE"
      ]
     },
     "metadata": {},
     "output_type": "display_data"
    }
   ],
   "source": [
    "z<3"
   ]
  },
  {
   "cell_type": "code",
   "execution_count": 73,
   "metadata": {},
   "outputs": [
    {
     "data": {
      "text/html": [
       "TRUE"
      ],
      "text/latex": [
       "TRUE"
      ],
      "text/markdown": [
       "TRUE"
      ],
      "text/plain": [
       "[1] TRUE"
      ]
     },
     "metadata": {},
     "output_type": "display_data"
    }
   ],
   "source": [
    "z<2 || z<3"
   ]
  },
  {
   "cell_type": "code",
   "execution_count": 72,
   "metadata": {},
   "outputs": [
    {
     "data": {
      "text/html": [
       "TRUE"
      ],
      "text/latex": [
       "TRUE"
      ],
      "text/markdown": [
       "TRUE"
      ],
      "text/plain": [
       "[1] TRUE"
      ]
     },
     "metadata": {},
     "output_type": "display_data"
    }
   ],
   "source": [
    "(z<2)[1] & (z<3)[1]"
   ]
  },
  {
   "cell_type": "code",
   "execution_count": 22,
   "metadata": {
    "scrolled": true
   },
   "outputs": [
    {
     "data": {
      "text/html": [
       "<style>\n",
       ".list-inline {list-style: none; margin:0; padding: 0}\n",
       ".list-inline>li {display: inline-block}\n",
       ".list-inline>li:not(:last-child)::after {content: \"\\00b7\"; padding: 0 .5ex}\n",
       "</style>\n",
       "<ol class=list-inline><li>1</li><li>2</li><li>3</li><li>4</li><li>5</li><li>6</li></ol>\n"
      ],
      "text/latex": [
       "\\begin{enumerate*}\n",
       "\\item 1\n",
       "\\item 2\n",
       "\\item 3\n",
       "\\item 4\n",
       "\\item 5\n",
       "\\item 6\n",
       "\\end{enumerate*}\n"
      ],
      "text/markdown": [
       "1. 1\n",
       "2. 2\n",
       "3. 3\n",
       "4. 4\n",
       "5. 5\n",
       "6. 6\n",
       "\n",
       "\n"
      ],
      "text/plain": [
       "[1] 1 2 3 4 5 6"
      ]
     },
     "metadata": {},
     "output_type": "display_data"
    },
    {
     "data": {
      "text/html": [
       "<style>\n",
       ".list-inline {list-style: none; margin:0; padding: 0}\n",
       ".list-inline>li {display: inline-block}\n",
       ".list-inline>li:not(:last-child)::after {content: \"\\00b7\"; padding: 0 .5ex}\n",
       "</style>\n",
       "<ol class=list-inline><li>FALSE</li><li>FALSE</li><li>TRUE</li><li>TRUE</li><li>TRUE</li><li>TRUE</li></ol>\n"
      ],
      "text/latex": [
       "\\begin{enumerate*}\n",
       "\\item FALSE\n",
       "\\item FALSE\n",
       "\\item TRUE\n",
       "\\item TRUE\n",
       "\\item TRUE\n",
       "\\item TRUE\n",
       "\\end{enumerate*}\n"
      ],
      "text/markdown": [
       "1. FALSE\n",
       "2. FALSE\n",
       "3. TRUE\n",
       "4. TRUE\n",
       "5. TRUE\n",
       "6. TRUE\n",
       "\n",
       "\n"
      ],
      "text/plain": [
       "[1] FALSE FALSE  TRUE  TRUE  TRUE  TRUE"
      ]
     },
     "metadata": {},
     "output_type": "display_data"
    },
    {
     "data": {
      "text/html": [
       "<style>\n",
       ".list-inline {list-style: none; margin:0; padding: 0}\n",
       ".list-inline>li {display: inline-block}\n",
       ".list-inline>li:not(:last-child)::after {content: \"\\00b7\"; padding: 0 .5ex}\n",
       "</style>\n",
       "<ol class=list-inline><li>TRUE</li><li>TRUE</li><li>TRUE</li><li>TRUE</li><li>FALSE</li><li>FALSE</li></ol>\n"
      ],
      "text/latex": [
       "\\begin{enumerate*}\n",
       "\\item TRUE\n",
       "\\item TRUE\n",
       "\\item TRUE\n",
       "\\item TRUE\n",
       "\\item FALSE\n",
       "\\item FALSE\n",
       "\\end{enumerate*}\n"
      ],
      "text/markdown": [
       "1. TRUE\n",
       "2. TRUE\n",
       "3. TRUE\n",
       "4. TRUE\n",
       "5. FALSE\n",
       "6. FALSE\n",
       "\n",
       "\n"
      ],
      "text/plain": [
       "[1]  TRUE  TRUE  TRUE  TRUE FALSE FALSE"
      ]
     },
     "metadata": {},
     "output_type": "display_data"
    },
    {
     "data": {
      "text/html": [
       "FALSE"
      ],
      "text/latex": [
       "FALSE"
      ],
      "text/markdown": [
       "FALSE"
      ],
      "text/plain": [
       "[1] FALSE"
      ]
     },
     "metadata": {},
     "output_type": "display_data"
    },
    {
     "data": {
      "text/html": [],
      "text/latex": [],
      "text/markdown": [],
      "text/plain": [
       "integer(0)"
      ]
     },
     "metadata": {},
     "output_type": "display_data"
    }
   ],
   "source": [
    "(z > 2) && (z < 5)\n",
    "z[(z > 2) && (z < 5)]"
   ]
  },
  {
   "cell_type": "code",
   "execution_count": 23,
   "metadata": {
    "scrolled": true
   },
   "outputs": [
    {
     "data": {
      "text/html": [
       "FALSE"
      ],
      "text/latex": [
       "FALSE"
      ],
      "text/markdown": [
       "FALSE"
      ],
      "text/plain": [
       "[1] FALSE"
      ]
     },
     "metadata": {},
     "output_type": "display_data"
    },
    {
     "data": {
      "text/html": [
       "<style>\n",
       ".list-inline {list-style: none; margin:0; padding: 0}\n",
       ".list-inline>li {display: inline-block}\n",
       ".list-inline>li:not(:last-child)::after {content: \"\\00b7\"; padding: 0 .5ex}\n",
       "</style>\n",
       "<ol class=list-inline><li>1</li><li>2</li><li>3</li><li>4</li><li>5</li><li>6</li></ol>\n"
      ],
      "text/latex": [
       "\\begin{enumerate*}\n",
       "\\item 1\n",
       "\\item 2\n",
       "\\item 3\n",
       "\\item 4\n",
       "\\item 5\n",
       "\\item 6\n",
       "\\end{enumerate*}\n"
      ],
      "text/markdown": [
       "1. 1\n",
       "2. 2\n",
       "3. 3\n",
       "4. 4\n",
       "5. 5\n",
       "6. 6\n",
       "\n",
       "\n"
      ],
      "text/plain": [
       "[1] 1 2 3 4 5 6"
      ]
     },
     "metadata": {},
     "output_type": "display_data"
    }
   ],
   "source": [
    "(z > 2) && (z < 5)\n",
    "z[(z > 0) && (z < 5)]  # R recylces the TRUE variable"
   ]
  },
  {
   "cell_type": "code",
   "execution_count": 24,
   "metadata": {},
   "outputs": [
    {
     "data": {
      "text/html": [
       "<style>\n",
       ".list-inline {list-style: none; margin:0; padding: 0}\n",
       ".list-inline>li {display: inline-block}\n",
       ".list-inline>li:not(:last-child)::after {content: \"\\00b7\"; padding: 0 .5ex}\n",
       "</style>\n",
       "<ol class=list-inline><li>1</li><li>2</li><li>3</li><li>4</li><li>5</li><li>6</li></ol>\n"
      ],
      "text/latex": [
       "\\begin{enumerate*}\n",
       "\\item 1\n",
       "\\item 2\n",
       "\\item 3\n",
       "\\item 4\n",
       "\\item 5\n",
       "\\item 6\n",
       "\\end{enumerate*}\n"
      ],
      "text/markdown": [
       "1. 1\n",
       "2. 2\n",
       "3. 3\n",
       "4. 4\n",
       "5. 5\n",
       "6. 6\n",
       "\n",
       "\n"
      ],
      "text/plain": [
       "[1] 1 2 3 4 5 6"
      ]
     },
     "metadata": {},
     "output_type": "display_data"
    },
    {
     "data": {
      "text/html": [
       "<style>\n",
       ".list-inline {list-style: none; margin:0; padding: 0}\n",
       ".list-inline>li {display: inline-block}\n",
       ".list-inline>li:not(:last-child)::after {content: \"\\00b7\"; padding: 0 .5ex}\n",
       "</style>\n",
       "<ol class=list-inline><li>1</li><li>2</li><li>3</li><li>4</li><li>5</li><li>6</li></ol>\n"
      ],
      "text/latex": [
       "\\begin{enumerate*}\n",
       "\\item 1\n",
       "\\item 2\n",
       "\\item 3\n",
       "\\item 4\n",
       "\\item 5\n",
       "\\item 6\n",
       "\\end{enumerate*}\n"
      ],
      "text/markdown": [
       "1. 1\n",
       "2. 2\n",
       "3. 3\n",
       "4. 4\n",
       "5. 5\n",
       "6. 6\n",
       "\n",
       "\n"
      ],
      "text/plain": [
       "[1] 1 2 3 4 5 6"
      ]
     },
     "metadata": {},
     "output_type": "display_data"
    }
   ],
   "source": [
    "z\n",
    "z[TRUE]\n",
    "# z[FALSE] ##output nothing"
   ]
  },
  {
   "cell_type": "code",
   "execution_count": 25,
   "metadata": {},
   "outputs": [
    {
     "data": {
      "text/html": [
       "<style>\n",
       ".list-inline {list-style: none; margin:0; padding: 0}\n",
       ".list-inline>li {display: inline-block}\n",
       ".list-inline>li:not(:last-child)::after {content: \"\\00b7\"; padding: 0 .5ex}\n",
       "</style>\n",
       "<ol class=list-inline><li>FALSE</li><li>FALSE</li><li>TRUE</li></ol>\n"
      ],
      "text/latex": [
       "\\begin{enumerate*}\n",
       "\\item FALSE\n",
       "\\item FALSE\n",
       "\\item TRUE\n",
       "\\end{enumerate*}\n"
      ],
      "text/markdown": [
       "1. FALSE\n",
       "2. FALSE\n",
       "3. TRUE\n",
       "\n",
       "\n"
      ],
      "text/plain": [
       "[1] FALSE FALSE  TRUE"
      ]
     },
     "metadata": {},
     "output_type": "display_data"
    },
    {
     "data": {
      "text/html": [
       "<style>\n",
       ".list-inline {list-style: none; margin:0; padding: 0}\n",
       ".list-inline>li {display: inline-block}\n",
       ".list-inline>li:not(:last-child)::after {content: \"\\00b7\"; padding: 0 .5ex}\n",
       "</style>\n",
       "<ol class=list-inline><li>FALSE</li><li>TRUE</li><li>TRUE</li></ol>\n"
      ],
      "text/latex": [
       "\\begin{enumerate*}\n",
       "\\item FALSE\n",
       "\\item TRUE\n",
       "\\item TRUE\n",
       "\\end{enumerate*}\n"
      ],
      "text/markdown": [
       "1. FALSE\n",
       "2. TRUE\n",
       "3. TRUE\n",
       "\n",
       "\n"
      ],
      "text/plain": [
       "[1] FALSE  TRUE  TRUE"
      ]
     },
     "metadata": {},
     "output_type": "display_data"
    },
    {
     "data": {
      "text/html": [
       "FALSE"
      ],
      "text/latex": [
       "FALSE"
      ],
      "text/markdown": [
       "FALSE"
      ],
      "text/plain": [
       "[1] FALSE"
      ]
     },
     "metadata": {},
     "output_type": "display_data"
    },
    {
     "data": {
      "text/html": [
       "FALSE"
      ],
      "text/latex": [
       "FALSE"
      ],
      "text/markdown": [
       "FALSE"
      ],
      "text/plain": [
       "[1] FALSE"
      ]
     },
     "metadata": {},
     "output_type": "display_data"
    },
    {
     "data": {
      "text/html": [
       "<style>\n",
       ".list-inline {list-style: none; margin:0; padding: 0}\n",
       ".list-inline>li {display: inline-block}\n",
       ".list-inline>li:not(:last-child)::after {content: \"\\00b7\"; padding: 0 .5ex}\n",
       "</style>\n",
       "<ol class=list-inline><li>FALSE</li><li>FALSE</li><li>TRUE</li></ol>\n"
      ],
      "text/latex": [
       "\\begin{enumerate*}\n",
       "\\item FALSE\n",
       "\\item FALSE\n",
       "\\item TRUE\n",
       "\\end{enumerate*}\n"
      ],
      "text/markdown": [
       "1. FALSE\n",
       "2. FALSE\n",
       "3. TRUE\n",
       "\n",
       "\n"
      ],
      "text/plain": [
       "[1] FALSE FALSE  TRUE"
      ]
     },
     "metadata": {},
     "output_type": "display_data"
    },
    {
     "data": {
      "text/html": [
       "<style>\n",
       ".list-inline {list-style: none; margin:0; padding: 0}\n",
       ".list-inline>li {display: inline-block}\n",
       ".list-inline>li:not(:last-child)::after {content: \"\\00b7\"; padding: 0 .5ex}\n",
       "</style>\n",
       "<ol class=list-inline><li>TRUE</li><li>TRUE</li><li>TRUE</li></ol>\n"
      ],
      "text/latex": [
       "\\begin{enumerate*}\n",
       "\\item TRUE\n",
       "\\item TRUE\n",
       "\\item TRUE\n",
       "\\end{enumerate*}\n"
      ],
      "text/markdown": [
       "1. TRUE\n",
       "2. TRUE\n",
       "3. TRUE\n",
       "\n",
       "\n"
      ],
      "text/plain": [
       "[1] TRUE TRUE TRUE"
      ]
     },
     "metadata": {},
     "output_type": "display_data"
    },
    {
     "data": {
      "text/html": [
       "FALSE"
      ],
      "text/latex": [
       "FALSE"
      ],
      "text/markdown": [
       "FALSE"
      ],
      "text/plain": [
       "[1] FALSE"
      ]
     },
     "metadata": {},
     "output_type": "display_data"
    },
    {
     "data": {
      "text/html": [
       "TRUE"
      ],
      "text/latex": [
       "TRUE"
      ],
      "text/markdown": [
       "TRUE"
      ],
      "text/plain": [
       "[1] TRUE"
      ]
     },
     "metadata": {},
     "output_type": "display_data"
    },
    {
     "data": {
      "text/html": [
       "<style>\n",
       ".list-inline {list-style: none; margin:0; padding: 0}\n",
       ".list-inline>li {display: inline-block}\n",
       ".list-inline>li:not(:last-child)::after {content: \"\\00b7\"; padding: 0 .5ex}\n",
       "</style>\n",
       "<ol class=list-inline><li>TRUE</li><li>FALSE</li><li>TRUE</li></ol>\n"
      ],
      "text/latex": [
       "\\begin{enumerate*}\n",
       "\\item TRUE\n",
       "\\item FALSE\n",
       "\\item TRUE\n",
       "\\end{enumerate*}\n"
      ],
      "text/markdown": [
       "1. TRUE\n",
       "2. FALSE\n",
       "3. TRUE\n",
       "\n",
       "\n"
      ],
      "text/plain": [
       "[1]  TRUE FALSE  TRUE"
      ]
     },
     "metadata": {},
     "output_type": "display_data"
    },
    {
     "data": {
      "text/html": [
       "<style>\n",
       ".list-inline {list-style: none; margin:0; padding: 0}\n",
       ".list-inline>li {display: inline-block}\n",
       ".list-inline>li:not(:last-child)::after {content: \"\\00b7\"; padding: 0 .5ex}\n",
       "</style>\n",
       "<ol class=list-inline><li>TRUE</li><li>TRUE</li><li>TRUE</li></ol>\n"
      ],
      "text/latex": [
       "\\begin{enumerate*}\n",
       "\\item TRUE\n",
       "\\item TRUE\n",
       "\\item TRUE\n",
       "\\end{enumerate*}\n"
      ],
      "text/markdown": [
       "1. TRUE\n",
       "2. TRUE\n",
       "3. TRUE\n",
       "\n",
       "\n"
      ],
      "text/plain": [
       "[1] TRUE TRUE TRUE"
      ]
     },
     "metadata": {},
     "output_type": "display_data"
    },
    {
     "data": {
      "text/html": [
       "TRUE"
      ],
      "text/latex": [
       "TRUE"
      ],
      "text/markdown": [
       "TRUE"
      ],
      "text/plain": [
       "[1] TRUE"
      ]
     },
     "metadata": {},
     "output_type": "display_data"
    },
    {
     "data": {
      "text/html": [
       "TRUE"
      ],
      "text/latex": [
       "TRUE"
      ],
      "text/markdown": [
       "TRUE"
      ],
      "text/plain": [
       "[1] TRUE"
      ]
     },
     "metadata": {},
     "output_type": "display_data"
    }
   ],
   "source": [
    "# more examples of && and ||\n",
    "a=c(0,1,1)\n",
    "b=c(0,0,1)\n",
    "a & b\n",
    "\n",
    "a | b\n",
    "a && b # The longer form evaluates left to right examining only the first element of each vector\n",
    "a || b\n",
    "a=c(0,1,1)\n",
    "b=c(1,0,1)\n",
    "a & b\n",
    "a | b\n",
    "a && b\n",
    "a || b\n",
    "a=c(1,1,1)\n",
    "b=c(1,0,1)\n",
    "a & b\n",
    "a | b\n",
    "a && b\n",
    "a || b"
   ]
  },
  {
   "cell_type": "code",
   "execution_count": 26,
   "metadata": {},
   "outputs": [
    {
     "data": {
      "text/html": [
       "1"
      ],
      "text/latex": [
       "1"
      ],
      "text/markdown": [
       "1"
      ],
      "text/plain": [
       "[1] 1"
      ]
     },
     "metadata": {},
     "output_type": "display_data"
    },
    {
     "data": {
      "text/html": [
       "FALSE"
      ],
      "text/latex": [
       "FALSE"
      ],
      "text/markdown": [
       "FALSE"
      ],
      "text/plain": [
       "[1] FALSE"
      ]
     },
     "metadata": {},
     "output_type": "display_data"
    },
    {
     "data": {
      "text/html": [],
      "text/latex": [],
      "text/markdown": [],
      "text/plain": [
       "numeric(0)"
      ]
     },
     "metadata": {},
     "output_type": "display_data"
    }
   ],
   "source": [
    "x # a scalar is like a vector with lengh =1\n",
    "x>3\n",
    "x[x>3]"
   ]
  },
  {
   "cell_type": "code",
   "execution_count": 27,
   "metadata": {
    "scrolled": true
   },
   "outputs": [
    {
     "data": {
      "text/html": [
       "<style>\n",
       ".list-inline {list-style: none; margin:0; padding: 0}\n",
       ".list-inline>li {display: inline-block}\n",
       ".list-inline>li:not(:last-child)::after {content: \"\\00b7\"; padding: 0 .5ex}\n",
       "</style>\n",
       "<ol class=list-inline><li>&lt;NA&gt;</li><li>&lt;NA&gt;</li><li>&lt;NA&gt;</li></ol>\n"
      ],
      "text/latex": [
       "\\begin{enumerate*}\n",
       "\\item <NA>\n",
       "\\item <NA>\n",
       "\\item <NA>\n",
       "\\end{enumerate*}\n"
      ],
      "text/markdown": [
       "1. &lt;NA&gt;\n",
       "2. &lt;NA&gt;\n",
       "3. &lt;NA&gt;\n",
       "\n",
       "\n"
      ],
      "text/plain": [
       "[1] NA NA NA"
      ]
     },
     "metadata": {},
     "output_type": "display_data"
    },
    {
     "data": {
      "text/html": [
       "TRUE"
      ],
      "text/latex": [
       "TRUE"
      ],
      "text/markdown": [
       "TRUE"
      ],
      "text/plain": [
       "[1] TRUE"
      ]
     },
     "metadata": {},
     "output_type": "display_data"
    },
    {
     "data": {
      "text/html": [
       "1"
      ],
      "text/latex": [
       "1"
      ],
      "text/markdown": [
       "1"
      ],
      "text/plain": [
       "[1] 1"
      ]
     },
     "metadata": {},
     "output_type": "display_data"
    },
    {
     "data": {
      "text/html": [
       "<style>\n",
       ".list-inline {list-style: none; margin:0; padding: 0}\n",
       ".list-inline>li {display: inline-block}\n",
       ".list-inline>li:not(:last-child)::after {content: \"\\00b7\"; padding: 0 .5ex}\n",
       "</style>\n",
       "<ol class=list-inline><li>1</li><li>&lt;NA&gt;</li><li>&lt;NA&gt;</li><li>&lt;NA&gt;</li></ol>\n"
      ],
      "text/latex": [
       "\\begin{enumerate*}\n",
       "\\item 1\n",
       "\\item <NA>\n",
       "\\item <NA>\n",
       "\\item <NA>\n",
       "\\end{enumerate*}\n"
      ],
      "text/markdown": [
       "1. 1\n",
       "2. &lt;NA&gt;\n",
       "3. &lt;NA&gt;\n",
       "4. &lt;NA&gt;\n",
       "\n",
       "\n"
      ],
      "text/plain": [
       "[1]  1 NA NA NA"
      ]
     },
     "metadata": {},
     "output_type": "display_data"
    }
   ],
   "source": [
    "x[c(FALSE, FALSE, FALSE, TRUE, TRUE, TRUE)]\n",
    "x<2 | x>3\n",
    "x[x<2 | x>3]\n",
    "x[c(TRUE, FALSE, FALSE, TRUE, TRUE, TRUE)]"
   ]
  },
  {
   "cell_type": "code",
   "execution_count": 28,
   "metadata": {
    "scrolled": false
   },
   "outputs": [
    {
     "data": {
      "text/html": [
       "<style>\n",
       ".list-inline {list-style: none; margin:0; padding: 0}\n",
       ".list-inline>li {display: inline-block}\n",
       ".list-inline>li:not(:last-child)::after {content: \"\\00b7\"; padding: 0 .5ex}\n",
       "</style>\n",
       "<ol class=list-inline><li>1</li><li>2</li><li>3</li><li>&lt;NA&gt;</li><li>4</li></ol>\n"
      ],
      "text/latex": [
       "\\begin{enumerate*}\n",
       "\\item 1\n",
       "\\item 2\n",
       "\\item 3\n",
       "\\item <NA>\n",
       "\\item 4\n",
       "\\end{enumerate*}\n"
      ],
      "text/markdown": [
       "1. 1\n",
       "2. 2\n",
       "3. 3\n",
       "4. &lt;NA&gt;\n",
       "5. 4\n",
       "\n",
       "\n"
      ],
      "text/plain": [
       "[1]  1  2  3 NA  4"
      ]
     },
     "metadata": {},
     "output_type": "display_data"
    },
    {
     "data": {
      "text/html": [
       "<style>\n",
       ".list-inline {list-style: none; margin:0; padding: 0}\n",
       ".list-inline>li {display: inline-block}\n",
       ".list-inline>li:not(:last-child)::after {content: \"\\00b7\"; padding: 0 .5ex}\n",
       "</style>\n",
       "<ol class=list-inline><li>FALSE</li><li>FALSE</li><li>FALSE</li><li>TRUE</li><li>FALSE</li></ol>\n"
      ],
      "text/latex": [
       "\\begin{enumerate*}\n",
       "\\item FALSE\n",
       "\\item FALSE\n",
       "\\item FALSE\n",
       "\\item TRUE\n",
       "\\item FALSE\n",
       "\\end{enumerate*}\n"
      ],
      "text/markdown": [
       "1. FALSE\n",
       "2. FALSE\n",
       "3. FALSE\n",
       "4. TRUE\n",
       "5. FALSE\n",
       "\n",
       "\n"
      ],
      "text/plain": [
       "[1] FALSE FALSE FALSE  TRUE FALSE"
      ]
     },
     "metadata": {},
     "output_type": "display_data"
    },
    {
     "data": {
      "text/html": [
       "&lt;NA&gt;"
      ],
      "text/latex": [
       "<NA>"
      ],
      "text/markdown": [
       "&lt;NA&gt;"
      ],
      "text/plain": [
       "[1] NA"
      ]
     },
     "metadata": {},
     "output_type": "display_data"
    },
    {
     "data": {
      "text/html": [
       "2.5"
      ],
      "text/latex": [
       "2.5"
      ],
      "text/markdown": [
       "2.5"
      ],
      "text/plain": [
       "[1] 2.5"
      ]
     },
     "metadata": {},
     "output_type": "display_data"
    },
    {
     "data": {
      "text/html": [
       "FALSE"
      ],
      "text/latex": [
       "FALSE"
      ],
      "text/markdown": [
       "FALSE"
      ],
      "text/plain": [
       "[1] FALSE"
      ]
     },
     "metadata": {},
     "output_type": "display_data"
    },
    {
     "data": {
      "text/html": [
       "TRUE"
      ],
      "text/latex": [
       "TRUE"
      ],
      "text/markdown": [
       "TRUE"
      ],
      "text/plain": [
       "[1] TRUE"
      ]
     },
     "metadata": {},
     "output_type": "display_data"
    },
    {
     "data": {
      "text/html": [
       "<style>\n",
       ".list-inline {list-style: none; margin:0; padding: 0}\n",
       ".list-inline>li {display: inline-block}\n",
       ".list-inline>li:not(:last-child)::after {content: \"\\00b7\"; padding: 0 .5ex}\n",
       "</style>\n",
       "<ol class=list-inline><li>1</li><li>2</li><li>3</li><li>0</li><li>4</li></ol>\n"
      ],
      "text/latex": [
       "\\begin{enumerate*}\n",
       "\\item 1\n",
       "\\item 2\n",
       "\\item 3\n",
       "\\item 0\n",
       "\\item 4\n",
       "\\end{enumerate*}\n"
      ],
      "text/markdown": [
       "1. 1\n",
       "2. 2\n",
       "3. 3\n",
       "4. 0\n",
       "5. 4\n",
       "\n",
       "\n"
      ],
      "text/plain": [
       "[1] 1 2 3 0 4"
      ]
     },
     "metadata": {},
     "output_type": "display_data"
    },
    {
     "data": {
      "text/html": [
       "2"
      ],
      "text/latex": [
       "2"
      ],
      "text/markdown": [
       "2"
      ],
      "text/plain": [
       "[1] 2"
      ]
     },
     "metadata": {},
     "output_type": "display_data"
    },
    {
     "data": {
      "text/html": [
       "Inf"
      ],
      "text/latex": [
       "Inf"
      ],
      "text/markdown": [
       "Inf"
      ],
      "text/plain": [
       "[1] Inf"
      ]
     },
     "metadata": {},
     "output_type": "display_data"
    }
   ],
   "source": [
    "x=c(1,2,3,NA,4)\n",
    "x\n",
    "is.na(x)\n",
    "mean(x)\n",
    "mean(x, na.rm=TRUE)\n",
    "all(!is.na(x))\n",
    "any(is.na(x))\n",
    "x[is.na(x)]=0\n",
    "x\n",
    "mean(x)\n",
    "(1/0)*8 # NA is different from inf"
   ]
  },
  {
   "cell_type": "code",
   "execution_count": 1,
   "metadata": {
    "scrolled": false
   },
   "outputs": [
    {
     "data": {
      "text/html": [
       "<table>\n",
       "<thead><tr><th scope=col>Sex</th><th scope=col>Wr.Hnd</th><th scope=col>NW.Hnd</th><th scope=col>W.Hnd</th><th scope=col>Fold</th><th scope=col>Pulse</th><th scope=col>Clap</th><th scope=col>Exer</th><th scope=col>Smoke</th><th scope=col>Height</th><th scope=col>M.I</th><th scope=col>Age</th></tr></thead>\n",
       "<tbody>\n",
       "\t<tr><td>Female  </td><td>18.5    </td><td>18.0    </td><td>Right   </td><td>R on L  </td><td> 92     </td><td>Left    </td><td>Some    </td><td>Never   </td><td>173.00  </td><td>Metric  </td><td>18.250  </td></tr>\n",
       "\t<tr><td>Male    </td><td>19.5    </td><td>20.5    </td><td>Left    </td><td>R on L  </td><td>104     </td><td>Left    </td><td>None    </td><td>Regul   </td><td>177.80  </td><td>Imperial</td><td>17.583  </td></tr>\n",
       "\t<tr><td>Male    </td><td>18.0    </td><td>13.3    </td><td>Right   </td><td>L on R  </td><td> 87     </td><td>Neither </td><td>None    </td><td>Occas   </td><td>    NA  </td><td>NA      </td><td>16.917  </td></tr>\n",
       "\t<tr><td>Male    </td><td>18.8    </td><td>18.9    </td><td>Right   </td><td>R on L  </td><td> NA     </td><td>Neither </td><td>None    </td><td>Never   </td><td>160.00  </td><td>Metric  </td><td>20.333  </td></tr>\n",
       "\t<tr><td>Male    </td><td>20.0    </td><td>20.0    </td><td>Right   </td><td>Neither </td><td> 35     </td><td>Right   </td><td>Some    </td><td>Never   </td><td>165.00  </td><td>Metric  </td><td>23.667  </td></tr>\n",
       "\t<tr><td>Female  </td><td>18.0    </td><td>17.7    </td><td>Right   </td><td>L on R  </td><td> 64     </td><td>Right   </td><td>Some    </td><td>Never   </td><td>172.72  </td><td>Imperial</td><td>21.000  </td></tr>\n",
       "</tbody>\n",
       "</table>\n"
      ],
      "text/latex": [
       "\\begin{tabular}{r|llllllllllll}\n",
       " Sex & Wr.Hnd & NW.Hnd & W.Hnd & Fold & Pulse & Clap & Exer & Smoke & Height & M.I & Age\\\\\n",
       "\\hline\n",
       "\t Female   & 18.5     & 18.0     & Right    & R on L   &  92      & Left     & Some     & Never    & 173.00   & Metric   & 18.250  \\\\\n",
       "\t Male     & 19.5     & 20.5     & Left     & R on L   & 104      & Left     & None     & Regul    & 177.80   & Imperial & 17.583  \\\\\n",
       "\t Male     & 18.0     & 13.3     & Right    & L on R   &  87      & Neither  & None     & Occas    &     NA   & NA       & 16.917  \\\\\n",
       "\t Male     & 18.8     & 18.9     & Right    & R on L   &  NA      & Neither  & None     & Never    & 160.00   & Metric   & 20.333  \\\\\n",
       "\t Male     & 20.0     & 20.0     & Right    & Neither  &  35      & Right    & Some     & Never    & 165.00   & Metric   & 23.667  \\\\\n",
       "\t Female   & 18.0     & 17.7     & Right    & L on R   &  64      & Right    & Some     & Never    & 172.72   & Imperial & 21.000  \\\\\n",
       "\\end{tabular}\n"
      ],
      "text/markdown": [
       "\n",
       "| Sex | Wr.Hnd | NW.Hnd | W.Hnd | Fold | Pulse | Clap | Exer | Smoke | Height | M.I | Age |\n",
       "|---|---|---|---|---|---|---|---|---|---|---|---|\n",
       "| Female   | 18.5     | 18.0     | Right    | R on L   |  92      | Left     | Some     | Never    | 173.00   | Metric   | 18.250   |\n",
       "| Male     | 19.5     | 20.5     | Left     | R on L   | 104      | Left     | None     | Regul    | 177.80   | Imperial | 17.583   |\n",
       "| Male     | 18.0     | 13.3     | Right    | L on R   |  87      | Neither  | None     | Occas    |     NA   | NA       | 16.917   |\n",
       "| Male     | 18.8     | 18.9     | Right    | R on L   |  NA      | Neither  | None     | Never    | 160.00   | Metric   | 20.333   |\n",
       "| Male     | 20.0     | 20.0     | Right    | Neither  |  35      | Right    | Some     | Never    | 165.00   | Metric   | 23.667   |\n",
       "| Female   | 18.0     | 17.7     | Right    | L on R   |  64      | Right    | Some     | Never    | 172.72   | Imperial | 21.000   |\n",
       "\n"
      ],
      "text/plain": [
       "  Sex    Wr.Hnd NW.Hnd W.Hnd Fold    Pulse Clap    Exer Smoke Height M.I     \n",
       "1 Female 18.5   18.0   Right R on L   92   Left    Some Never 173.00 Metric  \n",
       "2 Male   19.5   20.5   Left  R on L  104   Left    None Regul 177.80 Imperial\n",
       "3 Male   18.0   13.3   Right L on R   87   Neither None Occas     NA NA      \n",
       "4 Male   18.8   18.9   Right R on L   NA   Neither None Never 160.00 Metric  \n",
       "5 Male   20.0   20.0   Right Neither  35   Right   Some Never 165.00 Metric  \n",
       "6 Female 18.0   17.7   Right L on R   64   Right   Some Never 172.72 Imperial\n",
       "  Age   \n",
       "1 18.250\n",
       "2 17.583\n",
       "3 16.917\n",
       "4 20.333\n",
       "5 23.667\n",
       "6 21.000"
      ]
     },
     "metadata": {},
     "output_type": "display_data"
    },
    {
     "data": {
      "text/html": [
       "<table>\n",
       "<thead><tr><th></th><th scope=col>Sex</th><th scope=col>Wr.Hnd</th><th scope=col>NW.Hnd</th><th scope=col>W.Hnd</th><th scope=col>Fold</th><th scope=col>Pulse</th><th scope=col>Clap</th><th scope=col>Exer</th><th scope=col>Smoke</th><th scope=col>Height</th><th scope=col>M.I</th><th scope=col>Age</th></tr></thead>\n",
       "<tbody>\n",
       "\t<tr><th scope=row>232</th><td>Male    </td><td>18.0    </td><td>16.0    </td><td>Right   </td><td>R on L  </td><td>NA      </td><td>Right   </td><td>Some    </td><td>Never   </td><td>180.34  </td><td>Imperial</td><td>20.750  </td></tr>\n",
       "\t<tr><th scope=row>233</th><td>Female  </td><td>18.0    </td><td>18.0    </td><td>Right   </td><td>L on R  </td><td>85      </td><td>Right   </td><td>Some    </td><td>Never   </td><td>165.10  </td><td>Imperial</td><td>17.667  </td></tr>\n",
       "\t<tr><th scope=row>234</th><td>Female  </td><td>18.5    </td><td>18.0    </td><td>Right   </td><td>L on R  </td><td>88      </td><td>Right   </td><td>Some    </td><td>Never   </td><td>160.00  </td><td>Metric  </td><td>16.917  </td></tr>\n",
       "\t<tr><th scope=row>235</th><td>Female  </td><td>17.5    </td><td>16.5    </td><td>Right   </td><td>R on L  </td><td>NA      </td><td>Right   </td><td>Some    </td><td>Never   </td><td>170.00  </td><td>Metric  </td><td>18.583  </td></tr>\n",
       "\t<tr><th scope=row>236</th><td>Male    </td><td>21.0    </td><td>21.5    </td><td>Right   </td><td>R on L  </td><td>90      </td><td>Right   </td><td>Some    </td><td>Never   </td><td>183.00  </td><td>Metric  </td><td>17.167  </td></tr>\n",
       "\t<tr><th scope=row>237</th><td>Female  </td><td>17.6    </td><td>17.3    </td><td>Right   </td><td>R on L  </td><td>85      </td><td>Right   </td><td>Freq    </td><td>Never   </td><td>168.50  </td><td>Metric  </td><td>17.750  </td></tr>\n",
       "</tbody>\n",
       "</table>\n"
      ],
      "text/latex": [
       "\\begin{tabular}{r|llllllllllll}\n",
       "  & Sex & Wr.Hnd & NW.Hnd & W.Hnd & Fold & Pulse & Clap & Exer & Smoke & Height & M.I & Age\\\\\n",
       "\\hline\n",
       "\t232 & Male     & 18.0     & 16.0     & Right    & R on L   & NA       & Right    & Some     & Never    & 180.34   & Imperial & 20.750  \\\\\n",
       "\t233 & Female   & 18.0     & 18.0     & Right    & L on R   & 85       & Right    & Some     & Never    & 165.10   & Imperial & 17.667  \\\\\n",
       "\t234 & Female   & 18.5     & 18.0     & Right    & L on R   & 88       & Right    & Some     & Never    & 160.00   & Metric   & 16.917  \\\\\n",
       "\t235 & Female   & 17.5     & 16.5     & Right    & R on L   & NA       & Right    & Some     & Never    & 170.00   & Metric   & 18.583  \\\\\n",
       "\t236 & Male     & 21.0     & 21.5     & Right    & R on L   & 90       & Right    & Some     & Never    & 183.00   & Metric   & 17.167  \\\\\n",
       "\t237 & Female   & 17.6     & 17.3     & Right    & R on L   & 85       & Right    & Freq     & Never    & 168.50   & Metric   & 17.750  \\\\\n",
       "\\end{tabular}\n"
      ],
      "text/markdown": [
       "\n",
       "| <!--/--> | Sex | Wr.Hnd | NW.Hnd | W.Hnd | Fold | Pulse | Clap | Exer | Smoke | Height | M.I | Age |\n",
       "|---|---|---|---|---|---|---|---|---|---|---|---|---|\n",
       "| 232 | Male     | 18.0     | 16.0     | Right    | R on L   | NA       | Right    | Some     | Never    | 180.34   | Imperial | 20.750   |\n",
       "| 233 | Female   | 18.0     | 18.0     | Right    | L on R   | 85       | Right    | Some     | Never    | 165.10   | Imperial | 17.667   |\n",
       "| 234 | Female   | 18.5     | 18.0     | Right    | L on R   | 88       | Right    | Some     | Never    | 160.00   | Metric   | 16.917   |\n",
       "| 235 | Female   | 17.5     | 16.5     | Right    | R on L   | NA       | Right    | Some     | Never    | 170.00   | Metric   | 18.583   |\n",
       "| 236 | Male     | 21.0     | 21.5     | Right    | R on L   | 90       | Right    | Some     | Never    | 183.00   | Metric   | 17.167   |\n",
       "| 237 | Female   | 17.6     | 17.3     | Right    | R on L   | 85       | Right    | Freq     | Never    | 168.50   | Metric   | 17.750   |\n",
       "\n"
      ],
      "text/plain": [
       "    Sex    Wr.Hnd NW.Hnd W.Hnd Fold   Pulse Clap  Exer Smoke Height M.I     \n",
       "232 Male   18.0   16.0   Right R on L NA    Right Some Never 180.34 Imperial\n",
       "233 Female 18.0   18.0   Right L on R 85    Right Some Never 165.10 Imperial\n",
       "234 Female 18.5   18.0   Right L on R 88    Right Some Never 160.00 Metric  \n",
       "235 Female 17.5   16.5   Right R on L NA    Right Some Never 170.00 Metric  \n",
       "236 Male   21.0   21.5   Right R on L 90    Right Some Never 183.00 Metric  \n",
       "237 Female 17.6   17.3   Right R on L 85    Right Freq Never 168.50 Metric  \n",
       "    Age   \n",
       "232 20.750\n",
       "233 17.667\n",
       "234 16.917\n",
       "235 18.583\n",
       "236 17.167\n",
       "237 17.750"
      ]
     },
     "metadata": {},
     "output_type": "display_data"
    }
   ],
   "source": [
    "library() #list all installed packages\n",
    "library(MASS)\n",
    "head(survey)\n",
    "tail(survey)\n",
    "# data(survey, package=\"MASS\")"
   ]
  },
  {
   "cell_type": "code",
   "execution_count": 129,
   "metadata": {},
   "outputs": [
    {
     "data": {
      "text/html": [
       "<style>\n",
       ".dl-inline {width: auto; margin:0; padding: 0}\n",
       ".dl-inline>dt, .dl-inline>dd {float: none; width: auto; display: inline-block}\n",
       ".dl-inline>dt::after {content: \":\\0020\"; padding-right: .5ex}\n",
       ".dl-inline>dt:not(:first-of-type) {padding-left: .5ex}\n",
       "</style><dl class=dl-inline><dt>Africa</dt><dd>11506</dd><dt>Antarctica</dt><dd>5500</dd><dt>Asia</dt><dd>16988</dd><dt>Australia</dt><dd>2968</dd><dt>Axel Heiberg</dt><dd>16</dd><dt>Baffin</dt><dd>184</dd><dt>Banks</dt><dd>23</dd><dt>Borneo</dt><dd>280</dd><dt>Britain</dt><dd>84</dd><dt>Celebes</dt><dd>73</dd><dt>Celon</dt><dd>25</dd><dt>Cuba</dt><dd>43</dd><dt>Devon</dt><dd>21</dd><dt>Ellesmere</dt><dd>82</dd><dt>Europe</dt><dd>3745</dd><dt>Greenland</dt><dd>840</dd><dt>Hainan</dt><dd>13</dd><dt>Hispaniola</dt><dd>30</dd><dt>Hokkaido</dt><dd>30</dd><dt>Honshu</dt><dd>89</dd><dt>Iceland</dt><dd>40</dd><dt>Ireland</dt><dd>33</dd><dt>Java</dt><dd>49</dd><dt>Kyushu</dt><dd>14</dd><dt>Luzon</dt><dd>42</dd><dt>Madagascar</dt><dd>227</dd><dt>Melville</dt><dd>16</dd><dt>Mindanao</dt><dd>36</dd><dt>Moluccas</dt><dd>29</dd><dt>New Britain</dt><dd>15</dd><dt>New Guinea</dt><dd>306</dd><dt>New Zealand (N)</dt><dd>44</dd><dt>New Zealand (S)</dt><dd>58</dd><dt>Newfoundland</dt><dd>43</dd><dt>North America</dt><dd>9390</dd><dt>Novaya Zemlya</dt><dd>32</dd><dt>Prince of Wales</dt><dd>13</dd><dt>Sakhalin</dt><dd>29</dd><dt>South America</dt><dd>6795</dd><dt>Southampton</dt><dd>16</dd><dt>Spitsbergen</dt><dd>15</dd><dt>Sumatra</dt><dd>183</dd><dt>Taiwan</dt><dd>14</dd><dt>Tasmania</dt><dd>26</dd><dt>Tierra del Fuego</dt><dd>19</dd><dt>Timor</dt><dd>13</dd><dt>Vancouver</dt><dd>12</dd><dt>Victoria</dt><dd>82</dd></dl>\n"
      ],
      "text/latex": [
       "\\begin{description*}\n",
       "\\item[Africa] 11506\n",
       "\\item[Antarctica] 5500\n",
       "\\item[Asia] 16988\n",
       "\\item[Australia] 2968\n",
       "\\item[Axel Heiberg] 16\n",
       "\\item[Baffin] 184\n",
       "\\item[Banks] 23\n",
       "\\item[Borneo] 280\n",
       "\\item[Britain] 84\n",
       "\\item[Celebes] 73\n",
       "\\item[Celon] 25\n",
       "\\item[Cuba] 43\n",
       "\\item[Devon] 21\n",
       "\\item[Ellesmere] 82\n",
       "\\item[Europe] 3745\n",
       "\\item[Greenland] 840\n",
       "\\item[Hainan] 13\n",
       "\\item[Hispaniola] 30\n",
       "\\item[Hokkaido] 30\n",
       "\\item[Honshu] 89\n",
       "\\item[Iceland] 40\n",
       "\\item[Ireland] 33\n",
       "\\item[Java] 49\n",
       "\\item[Kyushu] 14\n",
       "\\item[Luzon] 42\n",
       "\\item[Madagascar] 227\n",
       "\\item[Melville] 16\n",
       "\\item[Mindanao] 36\n",
       "\\item[Moluccas] 29\n",
       "\\item[New Britain] 15\n",
       "\\item[New Guinea] 306\n",
       "\\item[New Zealand (N)] 44\n",
       "\\item[New Zealand (S)] 58\n",
       "\\item[Newfoundland] 43\n",
       "\\item[North America] 9390\n",
       "\\item[Novaya Zemlya] 32\n",
       "\\item[Prince of Wales] 13\n",
       "\\item[Sakhalin] 29\n",
       "\\item[South America] 6795\n",
       "\\item[Southampton] 16\n",
       "\\item[Spitsbergen] 15\n",
       "\\item[Sumatra] 183\n",
       "\\item[Taiwan] 14\n",
       "\\item[Tasmania] 26\n",
       "\\item[Tierra del Fuego] 19\n",
       "\\item[Timor] 13\n",
       "\\item[Vancouver] 12\n",
       "\\item[Victoria] 82\n",
       "\\end{description*}\n"
      ],
      "text/markdown": [
       "Africa\n",
       ":   11506Antarctica\n",
       ":   5500Asia\n",
       ":   16988Australia\n",
       ":   2968Axel Heiberg\n",
       ":   16Baffin\n",
       ":   184Banks\n",
       ":   23Borneo\n",
       ":   280Britain\n",
       ":   84Celebes\n",
       ":   73Celon\n",
       ":   25Cuba\n",
       ":   43Devon\n",
       ":   21Ellesmere\n",
       ":   82Europe\n",
       ":   3745Greenland\n",
       ":   840Hainan\n",
       ":   13Hispaniola\n",
       ":   30Hokkaido\n",
       ":   30Honshu\n",
       ":   89Iceland\n",
       ":   40Ireland\n",
       ":   33Java\n",
       ":   49Kyushu\n",
       ":   14Luzon\n",
       ":   42Madagascar\n",
       ":   227Melville\n",
       ":   16Mindanao\n",
       ":   36Moluccas\n",
       ":   29New Britain\n",
       ":   15New Guinea\n",
       ":   306New Zealand (N)\n",
       ":   44New Zealand (S)\n",
       ":   58Newfoundland\n",
       ":   43North America\n",
       ":   9390Novaya Zemlya\n",
       ":   32Prince of Wales\n",
       ":   13Sakhalin\n",
       ":   29South America\n",
       ":   6795Southampton\n",
       ":   16Spitsbergen\n",
       ":   15Sumatra\n",
       ":   183Taiwan\n",
       ":   14Tasmania\n",
       ":   26Tierra del Fuego\n",
       ":   19Timor\n",
       ":   13Vancouver\n",
       ":   12Victoria\n",
       ":   82\n",
       "\n"
      ],
      "text/plain": [
       "          Africa       Antarctica             Asia        Australia \n",
       "           11506             5500            16988             2968 \n",
       "    Axel Heiberg           Baffin            Banks           Borneo \n",
       "              16              184               23              280 \n",
       "         Britain          Celebes            Celon             Cuba \n",
       "              84               73               25               43 \n",
       "           Devon        Ellesmere           Europe        Greenland \n",
       "              21               82             3745              840 \n",
       "          Hainan       Hispaniola         Hokkaido           Honshu \n",
       "              13               30               30               89 \n",
       "         Iceland          Ireland             Java           Kyushu \n",
       "              40               33               49               14 \n",
       "           Luzon       Madagascar         Melville         Mindanao \n",
       "              42              227               16               36 \n",
       "        Moluccas      New Britain       New Guinea  New Zealand (N) \n",
       "              29               15              306               44 \n",
       " New Zealand (S)     Newfoundland    North America    Novaya Zemlya \n",
       "              58               43             9390               32 \n",
       " Prince of Wales         Sakhalin    South America      Southampton \n",
       "              13               29             6795               16 \n",
       "     Spitsbergen          Sumatra           Taiwan         Tasmania \n",
       "              15              183               14               26 \n",
       "Tierra del Fuego            Timor        Vancouver         Victoria \n",
       "              19               13               12               82 "
      ]
     },
     "metadata": {},
     "output_type": "display_data"
    }
   ],
   "source": [
    "islands"
   ]
  },
  {
   "cell_type": "code",
   "execution_count": 30,
   "metadata": {},
   "outputs": [
    {
     "data": {
      "text/html": [
       "'numeric'"
      ],
      "text/latex": [
       "'numeric'"
      ],
      "text/markdown": [
       "'numeric'"
      ],
      "text/plain": [
       "[1] \"numeric\""
      ]
     },
     "metadata": {},
     "output_type": "display_data"
    },
    {
     "data": {
      "text/html": [
       "<style>\n",
       ".dl-inline {width: auto; margin:0; padding: 0}\n",
       ".dl-inline>dt, .dl-inline>dd {float: none; width: auto; display: inline-block}\n",
       ".dl-inline>dt::after {content: \":\\0020\"; padding-right: .5ex}\n",
       ".dl-inline>dt:not(:first-of-type) {padding-left: .5ex}\n",
       "</style><dl class=dl-inline><dt>Africa</dt><dd>11506</dd><dt>Antarctica</dt><dd>5500</dd><dt>Asia</dt><dd>16988</dd><dt>Australia</dt><dd>2968</dd><dt>Axel Heiberg</dt><dd>16</dd><dt>Baffin</dt><dd>184</dd></dl>\n"
      ],
      "text/latex": [
       "\\begin{description*}\n",
       "\\item[Africa] 11506\n",
       "\\item[Antarctica] 5500\n",
       "\\item[Asia] 16988\n",
       "\\item[Australia] 2968\n",
       "\\item[Axel Heiberg] 16\n",
       "\\item[Baffin] 184\n",
       "\\end{description*}\n"
      ],
      "text/markdown": [
       "Africa\n",
       ":   11506Antarctica\n",
       ":   5500Asia\n",
       ":   16988Australia\n",
       ":   2968Axel Heiberg\n",
       ":   16Baffin\n",
       ":   184\n",
       "\n"
      ],
      "text/plain": [
       "      Africa   Antarctica         Asia    Australia Axel Heiberg       Baffin \n",
       "       11506         5500        16988         2968           16          184 "
      ]
     },
     "metadata": {},
     "output_type": "display_data"
    },
    {
     "data": {
      "text/html": [
       "<strong>Africa:</strong> 11506"
      ],
      "text/latex": [
       "\\textbf{Africa:} 11506"
      ],
      "text/markdown": [
       "**Africa:** 11506"
      ],
      "text/plain": [
       "Africa \n",
       " 11506 "
      ]
     },
     "metadata": {},
     "output_type": "display_data"
    },
    {
     "data": {
      "text/html": [
       "<strong>Africa:</strong> 11506"
      ],
      "text/latex": [
       "\\textbf{Africa:} 11506"
      ],
      "text/markdown": [
       "**Africa:** 11506"
      ],
      "text/plain": [
       "Africa \n",
       " 11506 "
      ]
     },
     "metadata": {},
     "output_type": "display_data"
    }
   ],
   "source": [
    "# islands\n",
    "class(islands)\n",
    "head(islands)\n",
    "islands[1]\n",
    "islands['Africa']"
   ]
  },
  {
   "cell_type": "code",
   "execution_count": 2,
   "metadata": {},
   "outputs": [
    {
     "data": {
      "text/html": [
       "<ol class=list-inline>\n",
       "\t<li>'/home/bright-augura/anaconda3/envs/r_env/lib/R/library/MASS'</li>\n",
       "\t<li>'/home/bright-augura/anaconda3/envs/r_env/lib/R/library/stats'</li>\n",
       "\t<li>'/home/bright-augura/anaconda3/envs/r_env/lib/R/library/graphics'</li>\n",
       "\t<li>'/home/bright-augura/anaconda3/envs/r_env/lib/R/library/grDevices'</li>\n",
       "\t<li>'/home/bright-augura/anaconda3/envs/r_env/lib/R/library/utils'</li>\n",
       "\t<li>'/home/bright-augura/anaconda3/envs/r_env/lib/R/library/datasets'</li>\n",
       "\t<li>'/home/bright-augura/anaconda3/envs/r_env/lib/R/library/methods'</li>\n",
       "\t<li>'/home/bright-augura/anaconda3/envs/r_env/lib/R/library/base'</li>\n",
       "</ol>\n"
      ],
      "text/latex": [
       "\\begin{enumerate*}\n",
       "\\item '/home/bright-augura/anaconda3/envs/r\\_env/lib/R/library/MASS'\n",
       "\\item '/home/bright-augura/anaconda3/envs/r\\_env/lib/R/library/stats'\n",
       "\\item '/home/bright-augura/anaconda3/envs/r\\_env/lib/R/library/graphics'\n",
       "\\item '/home/bright-augura/anaconda3/envs/r\\_env/lib/R/library/grDevices'\n",
       "\\item '/home/bright-augura/anaconda3/envs/r\\_env/lib/R/library/utils'\n",
       "\\item '/home/bright-augura/anaconda3/envs/r\\_env/lib/R/library/datasets'\n",
       "\\item '/home/bright-augura/anaconda3/envs/r\\_env/lib/R/library/methods'\n",
       "\\item '/home/bright-augura/anaconda3/envs/r\\_env/lib/R/library/base'\n",
       "\\end{enumerate*}\n"
      ],
      "text/markdown": [
       "1. '/home/bright-augura/anaconda3/envs/r_env/lib/R/library/MASS'\n",
       "2. '/home/bright-augura/anaconda3/envs/r_env/lib/R/library/stats'\n",
       "3. '/home/bright-augura/anaconda3/envs/r_env/lib/R/library/graphics'\n",
       "4. '/home/bright-augura/anaconda3/envs/r_env/lib/R/library/grDevices'\n",
       "5. '/home/bright-augura/anaconda3/envs/r_env/lib/R/library/utils'\n",
       "6. '/home/bright-augura/anaconda3/envs/r_env/lib/R/library/datasets'\n",
       "7. '/home/bright-augura/anaconda3/envs/r_env/lib/R/library/methods'\n",
       "8. '/home/bright-augura/anaconda3/envs/r_env/lib/R/library/base'\n",
       "\n",
       "\n"
      ],
      "text/plain": [
       "[1] \"/home/bright-augura/anaconda3/envs/r_env/lib/R/library/MASS\"     \n",
       "[2] \"/home/bright-augura/anaconda3/envs/r_env/lib/R/library/stats\"    \n",
       "[3] \"/home/bright-augura/anaconda3/envs/r_env/lib/R/library/graphics\" \n",
       "[4] \"/home/bright-augura/anaconda3/envs/r_env/lib/R/library/grDevices\"\n",
       "[5] \"/home/bright-augura/anaconda3/envs/r_env/lib/R/library/utils\"    \n",
       "[6] \"/home/bright-augura/anaconda3/envs/r_env/lib/R/library/datasets\" \n",
       "[7] \"/home/bright-augura/anaconda3/envs/r_env/lib/R/library/methods\"  \n",
       "[8] \"/home/bright-augura/anaconda3/envs/r_env/lib/R/library/base\"     "
      ]
     },
     "metadata": {},
     "output_type": "display_data"
    },
    {
     "data": {
      "text/html": [
       "<ol class=list-inline>\n",
       "\t<li>'/home/bright-augura/anaconda3/envs/r_env/lib/R/library/stats'</li>\n",
       "\t<li>'/home/bright-augura/anaconda3/envs/r_env/lib/R/library/graphics'</li>\n",
       "\t<li>'/home/bright-augura/anaconda3/envs/r_env/lib/R/library/grDevices'</li>\n",
       "\t<li>'/home/bright-augura/anaconda3/envs/r_env/lib/R/library/utils'</li>\n",
       "\t<li>'/home/bright-augura/anaconda3/envs/r_env/lib/R/library/datasets'</li>\n",
       "\t<li>'/home/bright-augura/anaconda3/envs/r_env/lib/R/library/methods'</li>\n",
       "\t<li>'/home/bright-augura/anaconda3/envs/r_env/lib/R/library/base'</li>\n",
       "</ol>\n"
      ],
      "text/latex": [
       "\\begin{enumerate*}\n",
       "\\item '/home/bright-augura/anaconda3/envs/r\\_env/lib/R/library/stats'\n",
       "\\item '/home/bright-augura/anaconda3/envs/r\\_env/lib/R/library/graphics'\n",
       "\\item '/home/bright-augura/anaconda3/envs/r\\_env/lib/R/library/grDevices'\n",
       "\\item '/home/bright-augura/anaconda3/envs/r\\_env/lib/R/library/utils'\n",
       "\\item '/home/bright-augura/anaconda3/envs/r\\_env/lib/R/library/datasets'\n",
       "\\item '/home/bright-augura/anaconda3/envs/r\\_env/lib/R/library/methods'\n",
       "\\item '/home/bright-augura/anaconda3/envs/r\\_env/lib/R/library/base'\n",
       "\\end{enumerate*}\n"
      ],
      "text/markdown": [
       "1. '/home/bright-augura/anaconda3/envs/r_env/lib/R/library/stats'\n",
       "2. '/home/bright-augura/anaconda3/envs/r_env/lib/R/library/graphics'\n",
       "3. '/home/bright-augura/anaconda3/envs/r_env/lib/R/library/grDevices'\n",
       "4. '/home/bright-augura/anaconda3/envs/r_env/lib/R/library/utils'\n",
       "5. '/home/bright-augura/anaconda3/envs/r_env/lib/R/library/datasets'\n",
       "6. '/home/bright-augura/anaconda3/envs/r_env/lib/R/library/methods'\n",
       "7. '/home/bright-augura/anaconda3/envs/r_env/lib/R/library/base'\n",
       "\n",
       "\n"
      ],
      "text/plain": [
       "[1] \"/home/bright-augura/anaconda3/envs/r_env/lib/R/library/stats\"    \n",
       "[2] \"/home/bright-augura/anaconda3/envs/r_env/lib/R/library/graphics\" \n",
       "[3] \"/home/bright-augura/anaconda3/envs/r_env/lib/R/library/grDevices\"\n",
       "[4] \"/home/bright-augura/anaconda3/envs/r_env/lib/R/library/utils\"    \n",
       "[5] \"/home/bright-augura/anaconda3/envs/r_env/lib/R/library/datasets\" \n",
       "[6] \"/home/bright-augura/anaconda3/envs/r_env/lib/R/library/methods\"  \n",
       "[7] \"/home/bright-augura/anaconda3/envs/r_env/lib/R/library/base\"     "
      ]
     },
     "metadata": {},
     "output_type": "display_data"
    }
   ],
   "source": [
    "library(help=MASS)\n",
    "library(MASS)\n",
    "find.package() # list all loaded packages\n",
    "detach(\"package:MASS\", unload=TRUE)\n",
    "find.package()"
   ]
  },
  {
   "cell_type": "code",
   "execution_count": 32,
   "metadata": {},
   "outputs": [],
   "source": [
    "whales=scan() #doesn't work in jupyter"
   ]
  },
  {
   "cell_type": "code",
   "execution_count": 130,
   "metadata": {},
   "outputs": [],
   "source": [
    "data()"
   ]
  },
  {
   "cell_type": "code",
   "execution_count": 34,
   "metadata": {
    "scrolled": true
   },
   "outputs": [
    {
     "data": {
      "text/html": [
       "<table>\n",
       "<caption>A data.frame: 6 × 4</caption>\n",
       "<thead>\n",
       "\t<tr><th></th><th scope=col>area</th><th scope=col>peri</th><th scope=col>shape</th><th scope=col>perm</th></tr>\n",
       "\t<tr><th></th><th scope=col>&lt;int&gt;</th><th scope=col>&lt;dbl&gt;</th><th scope=col>&lt;dbl&gt;</th><th scope=col>&lt;dbl&gt;</th></tr>\n",
       "</thead>\n",
       "<tbody>\n",
       "\t<tr><th scope=row>1</th><td>4990</td><td>2791.90</td><td>0.0903296</td><td> 6.3</td></tr>\n",
       "\t<tr><th scope=row>2</th><td>7002</td><td>3892.60</td><td>0.1486220</td><td> 6.3</td></tr>\n",
       "\t<tr><th scope=row>3</th><td>7558</td><td>3930.66</td><td>0.1833120</td><td> 6.3</td></tr>\n",
       "\t<tr><th scope=row>4</th><td>7352</td><td>3869.32</td><td>0.1170630</td><td> 6.3</td></tr>\n",
       "\t<tr><th scope=row>5</th><td>7943</td><td>3948.54</td><td>0.1224170</td><td>17.1</td></tr>\n",
       "\t<tr><th scope=row>6</th><td>7979</td><td>4010.15</td><td>0.1670450</td><td>17.1</td></tr>\n",
       "</tbody>\n",
       "</table>\n"
      ],
      "text/latex": [
       "A data.frame: 6 × 4\n",
       "\\begin{tabular}{r|llll}\n",
       "  & area & peri & shape & perm\\\\\n",
       "  & <int> & <dbl> & <dbl> & <dbl>\\\\\n",
       "\\hline\n",
       "\t1 & 4990 & 2791.90 & 0.0903296 &  6.3\\\\\n",
       "\t2 & 7002 & 3892.60 & 0.1486220 &  6.3\\\\\n",
       "\t3 & 7558 & 3930.66 & 0.1833120 &  6.3\\\\\n",
       "\t4 & 7352 & 3869.32 & 0.1170630 &  6.3\\\\\n",
       "\t5 & 7943 & 3948.54 & 0.1224170 & 17.1\\\\\n",
       "\t6 & 7979 & 4010.15 & 0.1670450 & 17.1\\\\\n",
       "\\end{tabular}\n"
      ],
      "text/markdown": [
       "\n",
       "A data.frame: 6 × 4\n",
       "\n",
       "| <!--/--> | area &lt;int&gt; | peri &lt;dbl&gt; | shape &lt;dbl&gt; | perm &lt;dbl&gt; |\n",
       "|---|---|---|---|---|\n",
       "| 1 | 4990 | 2791.90 | 0.0903296 |  6.3 |\n",
       "| 2 | 7002 | 3892.60 | 0.1486220 |  6.3 |\n",
       "| 3 | 7558 | 3930.66 | 0.1833120 |  6.3 |\n",
       "| 4 | 7352 | 3869.32 | 0.1170630 |  6.3 |\n",
       "| 5 | 7943 | 3948.54 | 0.1224170 | 17.1 |\n",
       "| 6 | 7979 | 4010.15 | 0.1670450 | 17.1 |\n",
       "\n"
      ],
      "text/plain": [
       "  area peri    shape     perm\n",
       "1 4990 2791.90 0.0903296  6.3\n",
       "2 7002 3892.60 0.1486220  6.3\n",
       "3 7558 3930.66 0.1833120  6.3\n",
       "4 7352 3869.32 0.1170630  6.3\n",
       "5 7943 3948.54 0.1224170 17.1\n",
       "6 7979 4010.15 0.1670450 17.1"
      ]
     },
     "metadata": {},
     "output_type": "display_data"
    }
   ],
   "source": [
    "head(rock)"
   ]
  },
  {
   "cell_type": "code",
   "execution_count": 35,
   "metadata": {
    "scrolled": true
   },
   "outputs": [
    {
     "data": {
      "text/html": [
       "<style>\n",
       ".list-inline {list-style: none; margin:0; padding: 0}\n",
       ".list-inline>li {display: inline-block}\n",
       ".list-inline>li:not(:last-child)::after {content: \"\\00b7\"; padding: 0 .5ex}\n",
       "</style>\n",
       "<ol class=list-inline><li>1</li><li>2</li><li>3</li><li>4</li></ol>\n"
      ],
      "text/latex": [
       "\\begin{enumerate*}\n",
       "\\item 1\n",
       "\\item 2\n",
       "\\item 3\n",
       "\\item 4\n",
       "\\end{enumerate*}\n"
      ],
      "text/markdown": [
       "1. 1\n",
       "2. 2\n",
       "3. 3\n",
       "4. 4\n",
       "\n",
       "\n"
      ],
      "text/plain": [
       "[1] 1 2 3 4"
      ]
     },
     "metadata": {},
     "output_type": "display_data"
    }
   ],
   "source": [
    "numbers=scan(file=\"numbers.txt\");numbers"
   ]
  },
  {
   "cell_type": "code",
   "execution_count": 36,
   "metadata": {
    "scrolled": false
   },
   "outputs": [
    {
     "data": {
      "text/html": [
       "<table>\n",
       "<caption>A data.frame: 2 × 2</caption>\n",
       "<thead>\n",
       "\t<tr><th scope=col>texas</th><th scope=col>florida</th></tr>\n",
       "\t<tr><th scope=col>&lt;int&gt;</th><th scope=col>&lt;int&gt;</th></tr>\n",
       "</thead>\n",
       "<tbody>\n",
       "\t<tr><td> 74</td><td> 89</td></tr>\n",
       "\t<tr><td>122</td><td>234</td></tr>\n",
       "</tbody>\n",
       "</table>\n"
      ],
      "text/latex": [
       "A data.frame: 2 × 2\n",
       "\\begin{tabular}{ll}\n",
       " texas & florida\\\\\n",
       " <int> & <int>\\\\\n",
       "\\hline\n",
       "\t  74 &  89\\\\\n",
       "\t 122 & 234\\\\\n",
       "\\end{tabular}\n"
      ],
      "text/markdown": [
       "\n",
       "A data.frame: 2 × 2\n",
       "\n",
       "| texas &lt;int&gt; | florida &lt;int&gt; |\n",
       "|---|---|\n",
       "|  74 |  89 |\n",
       "| 122 | 234 |\n",
       "\n"
      ],
      "text/plain": [
       "  texas florida\n",
       "1  74    89    \n",
       "2 122   234    "
      ]
     },
     "metadata": {},
     "output_type": "display_data"
    },
    {
     "data": {
      "text/html": [
       "'data.frame'"
      ],
      "text/latex": [
       "'data.frame'"
      ],
      "text/markdown": [
       "'data.frame'"
      ],
      "text/plain": [
       "[1] \"data.frame\""
      ]
     },
     "metadata": {},
     "output_type": "display_data"
    }
   ],
   "source": [
    "mytable=read.table(file=\"table.txt\", header=TRUE);mytable\n",
    "# read.table(file=file.choose()) \n",
    "class(mytable)"
   ]
  },
  {
   "cell_type": "code",
   "execution_count": 37,
   "metadata": {
    "scrolled": true
   },
   "outputs": [
    {
     "data": {
      "text/html": [
       "<style>\n",
       ".list-inline {list-style: none; margin:0; padding: 0}\n",
       ".list-inline>li {display: inline-block}\n",
       ".list-inline>li:not(:last-child)::after {content: \"\\00b7\"; padding: 0 .5ex}\n",
       "</style>\n",
       "<ol class=list-inline><li>'A'</li><li>'B'</li><li>'C'</li><li>'D'</li><li>'E'</li><li>'F'</li><li>'G'</li><li>'H'</li><li>'I'</li><li>'J'</li><li>'K'</li><li>'L'</li><li>'M'</li><li>'N'</li><li>'O'</li><li>'P'</li><li>'Q'</li><li>'R'</li><li>'S'</li><li>'T'</li><li>'U'</li><li>'V'</li><li>'W'</li><li>'X'</li><li>'Y'</li><li>'Z'</li></ol>\n"
      ],
      "text/latex": [
       "\\begin{enumerate*}\n",
       "\\item 'A'\n",
       "\\item 'B'\n",
       "\\item 'C'\n",
       "\\item 'D'\n",
       "\\item 'E'\n",
       "\\item 'F'\n",
       "\\item 'G'\n",
       "\\item 'H'\n",
       "\\item 'I'\n",
       "\\item 'J'\n",
       "\\item 'K'\n",
       "\\item 'L'\n",
       "\\item 'M'\n",
       "\\item 'N'\n",
       "\\item 'O'\n",
       "\\item 'P'\n",
       "\\item 'Q'\n",
       "\\item 'R'\n",
       "\\item 'S'\n",
       "\\item 'T'\n",
       "\\item 'U'\n",
       "\\item 'V'\n",
       "\\item 'W'\n",
       "\\item 'X'\n",
       "\\item 'Y'\n",
       "\\item 'Z'\n",
       "\\end{enumerate*}\n"
      ],
      "text/markdown": [
       "1. 'A'\n",
       "2. 'B'\n",
       "3. 'C'\n",
       "4. 'D'\n",
       "5. 'E'\n",
       "6. 'F'\n",
       "7. 'G'\n",
       "8. 'H'\n",
       "9. 'I'\n",
       "10. 'J'\n",
       "11. 'K'\n",
       "12. 'L'\n",
       "13. 'M'\n",
       "14. 'N'\n",
       "15. 'O'\n",
       "16. 'P'\n",
       "17. 'Q'\n",
       "18. 'R'\n",
       "19. 'S'\n",
       "20. 'T'\n",
       "21. 'U'\n",
       "22. 'V'\n",
       "23. 'W'\n",
       "24. 'X'\n",
       "25. 'Y'\n",
       "26. 'Z'\n",
       "\n",
       "\n"
      ],
      "text/plain": [
       " [1] \"A\" \"B\" \"C\" \"D\" \"E\" \"F\" \"G\" \"H\" \"I\" \"J\" \"K\" \"L\" \"M\" \"N\" \"O\" \"P\" \"Q\" \"R\" \"S\"\n",
       "[20] \"T\" \"U\" \"V\" \"W\" \"X\" \"Y\" \"Z\""
      ]
     },
     "metadata": {},
     "output_type": "display_data"
    },
    {
     "data": {
      "text/html": [
       "<table>\n",
       "<caption>A data.frame: 26 × 2</caption>\n",
       "<thead>\n",
       "\t<tr><th scope=col>index</th><th scope=col>symbol</th></tr>\n",
       "\t<tr><th scope=col>&lt;int&gt;</th><th scope=col>&lt;fct&gt;</th></tr>\n",
       "</thead>\n",
       "<tbody>\n",
       "\t<tr><td> 1</td><td>A</td></tr>\n",
       "\t<tr><td> 2</td><td>B</td></tr>\n",
       "\t<tr><td> 3</td><td>C</td></tr>\n",
       "\t<tr><td> 4</td><td>D</td></tr>\n",
       "\t<tr><td> 5</td><td>E</td></tr>\n",
       "\t<tr><td> 6</td><td>F</td></tr>\n",
       "\t<tr><td> 7</td><td>G</td></tr>\n",
       "\t<tr><td> 8</td><td>H</td></tr>\n",
       "\t<tr><td> 9</td><td>I</td></tr>\n",
       "\t<tr><td>10</td><td>J</td></tr>\n",
       "\t<tr><td>11</td><td>K</td></tr>\n",
       "\t<tr><td>12</td><td>L</td></tr>\n",
       "\t<tr><td>13</td><td>M</td></tr>\n",
       "\t<tr><td>14</td><td>N</td></tr>\n",
       "\t<tr><td>15</td><td>O</td></tr>\n",
       "\t<tr><td>16</td><td>P</td></tr>\n",
       "\t<tr><td>17</td><td>Q</td></tr>\n",
       "\t<tr><td>18</td><td>R</td></tr>\n",
       "\t<tr><td>19</td><td>S</td></tr>\n",
       "\t<tr><td>20</td><td>T</td></tr>\n",
       "\t<tr><td>21</td><td>U</td></tr>\n",
       "\t<tr><td>22</td><td>V</td></tr>\n",
       "\t<tr><td>23</td><td>W</td></tr>\n",
       "\t<tr><td>24</td><td>X</td></tr>\n",
       "\t<tr><td>25</td><td>Y</td></tr>\n",
       "\t<tr><td>26</td><td>Z</td></tr>\n",
       "</tbody>\n",
       "</table>\n"
      ],
      "text/latex": [
       "A data.frame: 26 × 2\n",
       "\\begin{tabular}{ll}\n",
       " index & symbol\\\\\n",
       " <int> & <fct>\\\\\n",
       "\\hline\n",
       "\t  1 & A\\\\\n",
       "\t  2 & B\\\\\n",
       "\t  3 & C\\\\\n",
       "\t  4 & D\\\\\n",
       "\t  5 & E\\\\\n",
       "\t  6 & F\\\\\n",
       "\t  7 & G\\\\\n",
       "\t  8 & H\\\\\n",
       "\t  9 & I\\\\\n",
       "\t 10 & J\\\\\n",
       "\t 11 & K\\\\\n",
       "\t 12 & L\\\\\n",
       "\t 13 & M\\\\\n",
       "\t 14 & N\\\\\n",
       "\t 15 & O\\\\\n",
       "\t 16 & P\\\\\n",
       "\t 17 & Q\\\\\n",
       "\t 18 & R\\\\\n",
       "\t 19 & S\\\\\n",
       "\t 20 & T\\\\\n",
       "\t 21 & U\\\\\n",
       "\t 22 & V\\\\\n",
       "\t 23 & W\\\\\n",
       "\t 24 & X\\\\\n",
       "\t 25 & Y\\\\\n",
       "\t 26 & Z\\\\\n",
       "\\end{tabular}\n"
      ],
      "text/markdown": [
       "\n",
       "A data.frame: 26 × 2\n",
       "\n",
       "| index &lt;int&gt; | symbol &lt;fct&gt; |\n",
       "|---|---|\n",
       "|  1 | A |\n",
       "|  2 | B |\n",
       "|  3 | C |\n",
       "|  4 | D |\n",
       "|  5 | E |\n",
       "|  6 | F |\n",
       "|  7 | G |\n",
       "|  8 | H |\n",
       "|  9 | I |\n",
       "| 10 | J |\n",
       "| 11 | K |\n",
       "| 12 | L |\n",
       "| 13 | M |\n",
       "| 14 | N |\n",
       "| 15 | O |\n",
       "| 16 | P |\n",
       "| 17 | Q |\n",
       "| 18 | R |\n",
       "| 19 | S |\n",
       "| 20 | T |\n",
       "| 21 | U |\n",
       "| 22 | V |\n",
       "| 23 | W |\n",
       "| 24 | X |\n",
       "| 25 | Y |\n",
       "| 26 | Z |\n",
       "\n"
      ],
      "text/plain": [
       "   index symbol\n",
       "1   1    A     \n",
       "2   2    B     \n",
       "3   3    C     \n",
       "4   4    D     \n",
       "5   5    E     \n",
       "6   6    F     \n",
       "7   7    G     \n",
       "8   8    H     \n",
       "9   9    I     \n",
       "10 10    J     \n",
       "11 11    K     \n",
       "12 12    L     \n",
       "13 13    M     \n",
       "14 14    N     \n",
       "15 15    O     \n",
       "16 16    P     \n",
       "17 17    Q     \n",
       "18 18    R     \n",
       "19 19    S     \n",
       "20 20    T     \n",
       "21 21    U     \n",
       "22 22    V     \n",
       "23 23    W     \n",
       "24 24    X     \n",
       "25 25    Y     \n",
       "26 26    Z     "
      ]
     },
     "metadata": {},
     "output_type": "display_data"
    }
   ],
   "source": [
    "LETTERS\n",
    "data.frame(index=1:26, symbol=LETTERS)"
   ]
  },
  {
   "cell_type": "code",
   "execution_count": 8,
   "metadata": {},
   "outputs": [],
   "source": [
    "?data.frame"
   ]
  },
  {
   "cell_type": "code",
   "execution_count": 39,
   "metadata": {
    "scrolled": true
   },
   "outputs": [
    {
     "data": {
      "text/html": [
       "<table>\n",
       "<caption>A data.frame: 3 × 3</caption>\n",
       "<thead>\n",
       "\t<tr><th scope=col>col1</th><th scope=col>col2</th><th scope=col>col3</th></tr>\n",
       "\t<tr><th scope=col>&lt;int&gt;</th><th scope=col>&lt;int&gt;</th><th scope=col>&lt;fct&gt;</th></tr>\n",
       "</thead>\n",
       "<tbody>\n",
       "\t<tr><td>1</td><td>4</td><td>x</td></tr>\n",
       "\t<tr><td>2</td><td>5</td><td>y</td></tr>\n",
       "\t<tr><td>3</td><td>6</td><td>z</td></tr>\n",
       "</tbody>\n",
       "</table>\n"
      ],
      "text/latex": [
       "A data.frame: 3 × 3\n",
       "\\begin{tabular}{lll}\n",
       " col1 & col2 & col3\\\\\n",
       " <int> & <int> & <fct>\\\\\n",
       "\\hline\n",
       "\t 1 & 4 & x\\\\\n",
       "\t 2 & 5 & y\\\\\n",
       "\t 3 & 6 & z\\\\\n",
       "\\end{tabular}\n"
      ],
      "text/markdown": [
       "\n",
       "A data.frame: 3 × 3\n",
       "\n",
       "| col1 &lt;int&gt; | col2 &lt;int&gt; | col3 &lt;fct&gt; |\n",
       "|---|---|---|\n",
       "| 1 | 4 | x |\n",
       "| 2 | 5 | y |\n",
       "| 3 | 6 | z |\n",
       "\n"
      ],
      "text/plain": [
       "  col1 col2 col3\n",
       "1 1    4    x   \n",
       "2 2    5    y   \n",
       "3 3    6    z   "
      ]
     },
     "metadata": {},
     "output_type": "display_data"
    }
   ],
   "source": [
    "mydata=data.frame(col1=1:3, col2=4:6, col3=c('x', 'y', 'z'));mydata"
   ]
  },
  {
   "cell_type": "code",
   "execution_count": 40,
   "metadata": {
    "scrolled": true
   },
   "outputs": [
    {
     "data": {
      "text/html": [
       "<style>\n",
       ".list-inline {list-style: none; margin:0; padding: 0}\n",
       ".list-inline>li {display: inline-block}\n",
       ".list-inline>li:not(:last-child)::after {content: \"\\00b7\"; padding: 0 .5ex}\n",
       "</style>\n",
       "<ol class=list-inline><li>'col1'</li><li>'col2'</li><li>'col3'</li></ol>\n"
      ],
      "text/latex": [
       "\\begin{enumerate*}\n",
       "\\item 'col1'\n",
       "\\item 'col2'\n",
       "\\item 'col3'\n",
       "\\end{enumerate*}\n"
      ],
      "text/markdown": [
       "1. 'col1'\n",
       "2. 'col2'\n",
       "3. 'col3'\n",
       "\n",
       "\n"
      ],
      "text/plain": [
       "[1] \"col1\" \"col2\" \"col3\""
      ]
     },
     "metadata": {},
     "output_type": "display_data"
    },
    {
     "data": {
      "text/html": [
       "<style>\n",
       ".list-inline {list-style: none; margin:0; padding: 0}\n",
       ".list-inline>li {display: inline-block}\n",
       ".list-inline>li:not(:last-child)::after {content: \"\\00b7\"; padding: 0 .5ex}\n",
       "</style>\n",
       "<ol class=list-inline><li>1</li><li>2</li><li>3</li></ol>\n"
      ],
      "text/latex": [
       "\\begin{enumerate*}\n",
       "\\item 1\n",
       "\\item 2\n",
       "\\item 3\n",
       "\\end{enumerate*}\n"
      ],
      "text/markdown": [
       "1. 1\n",
       "2. 2\n",
       "3. 3\n",
       "\n",
       "\n"
      ],
      "text/plain": [
       "[1] 1 2 3"
      ]
     },
     "metadata": {},
     "output_type": "display_data"
    },
    {
     "data": {
      "text/html": [
       "<style>\n",
       ".list-inline {list-style: none; margin:0; padding: 0}\n",
       ".list-inline>li {display: inline-block}\n",
       ".list-inline>li:not(:last-child)::after {content: \"\\00b7\"; padding: 0 .5ex}\n",
       "</style>\n",
       "<ol class=list-inline><li>4</li><li>5</li><li>6</li></ol>\n"
      ],
      "text/latex": [
       "\\begin{enumerate*}\n",
       "\\item 4\n",
       "\\item 5\n",
       "\\item 6\n",
       "\\end{enumerate*}\n"
      ],
      "text/markdown": [
       "1. 4\n",
       "2. 5\n",
       "3. 6\n",
       "\n",
       "\n"
      ],
      "text/plain": [
       "[1] 4 5 6"
      ]
     },
     "metadata": {},
     "output_type": "display_data"
    },
    {
     "data": {
      "text/html": [
       "<style>\n",
       ".list-inline {list-style: none; margin:0; padding: 0}\n",
       ".list-inline>li {display: inline-block}\n",
       ".list-inline>li:not(:last-child)::after {content: \"\\00b7\"; padding: 0 .5ex}\n",
       "</style>\n",
       "<ol class=list-inline><li>1</li><li>2</li><li>3</li></ol>\n"
      ],
      "text/latex": [
       "\\begin{enumerate*}\n",
       "\\item 1\n",
       "\\item 2\n",
       "\\item 3\n",
       "\\end{enumerate*}\n"
      ],
      "text/markdown": [
       "1. 1\n",
       "2. 2\n",
       "3. 3\n",
       "\n",
       "\n"
      ],
      "text/plain": [
       "[1] 1 2 3"
      ]
     },
     "metadata": {},
     "output_type": "display_data"
    },
    {
     "data": {
      "text/html": [
       "<style>\n",
       ".list-inline {list-style: none; margin:0; padding: 0}\n",
       ".list-inline>li {display: inline-block}\n",
       ".list-inline>li:not(:last-child)::after {content: \"\\00b7\"; padding: 0 .5ex}\n",
       "</style>\n",
       "<ol class=list-inline><li>1</li><li>2</li><li>3</li></ol>\n"
      ],
      "text/latex": [
       "\\begin{enumerate*}\n",
       "\\item 1\n",
       "\\item 2\n",
       "\\item 3\n",
       "\\end{enumerate*}\n"
      ],
      "text/markdown": [
       "1. 1\n",
       "2. 2\n",
       "3. 3\n",
       "\n",
       "\n"
      ],
      "text/plain": [
       "[1] 1 2 3"
      ]
     },
     "metadata": {},
     "output_type": "display_data"
    },
    {
     "data": {
      "text/html": [
       "2"
      ],
      "text/latex": [
       "2"
      ],
      "text/markdown": [
       "2"
      ],
      "text/plain": [
       "[1] 2"
      ]
     },
     "metadata": {},
     "output_type": "display_data"
    }
   ],
   "source": [
    "# col1=9\n",
    "# rm(col1)\n",
    "# ls()\n",
    "names(mydata)\n",
    "attach(mydata)\n",
    "col1\n",
    "col2\n",
    "# detach(mydata)\n",
    "# # col1\n",
    "# # col1\n",
    "# # col2\n",
    "mydata$col1\n",
    "with(mydata, col1)\n",
    "with(mydata, mean(col1))"
   ]
  },
  {
   "cell_type": "code",
   "execution_count": 3,
   "metadata": {},
   "outputs": [
    {
     "ename": "ERROR",
     "evalue": "Error in library(ISwR): there is no package called ‘ISwR’\n",
     "output_type": "error",
     "traceback": [
      "Error in library(ISwR): there is no package called ‘ISwR’\nTraceback:\n",
      "1. library(ISwR)"
     ]
    }
   ],
   "source": [
    "library(ISwR)\n",
    "data(thuesen)\n",
    "head(thuesen)\n",
    "names(thuesen)\n",
    "attach(thuesen) #add namespace\n",
    "blood.glucose\n",
    "detach(thuesen) #remove namespace\n",
    "thuesen$blood.glucose"
   ]
  },
  {
   "cell_type": "code",
   "execution_count": null,
   "metadata": {},
   "outputs": [],
   "source": []
  },
  {
   "cell_type": "raw",
   "metadata": {
    "scrolled": true
   },
   "source": [
    "with(thuesen, blood.glucose) # with context\n",
    "with(thuesen, mean(blood.glucose))\n",
    "with(thuesen, range(blood.glucose))"
   ]
  },
  {
   "cell_type": "code",
   "execution_count": 43,
   "metadata": {
    "scrolled": true
   },
   "outputs": [
    {
     "data": {
      "text/html": [
       "<table>\n",
       "<caption>A data.frame: 6 × 2</caption>\n",
       "<thead>\n",
       "\t<tr><th></th><th scope=col>expend</th><th scope=col>stature</th></tr>\n",
       "\t<tr><th></th><th scope=col>&lt;dbl&gt;</th><th scope=col>&lt;fct&gt;</th></tr>\n",
       "</thead>\n",
       "<tbody>\n",
       "\t<tr><th scope=row>1</th><td> 9.21</td><td>obese</td></tr>\n",
       "\t<tr><th scope=row>2</th><td> 7.53</td><td>lean </td></tr>\n",
       "\t<tr><th scope=row>3</th><td> 7.48</td><td>lean </td></tr>\n",
       "\t<tr><th scope=row>4</th><td> 8.08</td><td>lean </td></tr>\n",
       "\t<tr><th scope=row>5</th><td> 8.09</td><td>lean </td></tr>\n",
       "\t<tr><th scope=row>6</th><td>10.15</td><td>lean </td></tr>\n",
       "</tbody>\n",
       "</table>\n"
      ],
      "text/latex": [
       "A data.frame: 6 × 2\n",
       "\\begin{tabular}{r|ll}\n",
       "  & expend & stature\\\\\n",
       "  & <dbl> & <fct>\\\\\n",
       "\\hline\n",
       "\t1 &  9.21 & obese\\\\\n",
       "\t2 &  7.53 & lean \\\\\n",
       "\t3 &  7.48 & lean \\\\\n",
       "\t4 &  8.08 & lean \\\\\n",
       "\t5 &  8.09 & lean \\\\\n",
       "\t6 & 10.15 & lean \\\\\n",
       "\\end{tabular}\n"
      ],
      "text/markdown": [
       "\n",
       "A data.frame: 6 × 2\n",
       "\n",
       "| <!--/--> | expend &lt;dbl&gt; | stature &lt;fct&gt; |\n",
       "|---|---|---|\n",
       "| 1 |  9.21 | obese |\n",
       "| 2 |  7.53 | lean  |\n",
       "| 3 |  7.48 | lean  |\n",
       "| 4 |  8.08 | lean  |\n",
       "| 5 |  8.09 | lean  |\n",
       "| 6 | 10.15 | lean  |\n",
       "\n"
      ],
      "text/plain": [
       "  expend stature\n",
       "1  9.21  obese  \n",
       "2  7.53  lean   \n",
       "3  7.48  lean   \n",
       "4  8.08  lean   \n",
       "5  8.09  lean   \n",
       "6 10.15  lean   "
      ]
     },
     "metadata": {},
     "output_type": "display_data"
    },
    {
     "data": {
      "text/html": [
       "'data.frame'"
      ],
      "text/latex": [
       "'data.frame'"
      ],
      "text/markdown": [
       "'data.frame'"
      ],
      "text/plain": [
       "[1] \"data.frame\""
      ]
     },
     "metadata": {},
     "output_type": "display_data"
    },
    {
     "data": {
      "text/html": [
       "<table>\n",
       "<caption>A data.frame: 13 × 2</caption>\n",
       "<thead>\n",
       "\t<tr><th></th><th scope=col>expend</th><th scope=col>stature</th></tr>\n",
       "\t<tr><th></th><th scope=col>&lt;dbl&gt;</th><th scope=col>&lt;fct&gt;</th></tr>\n",
       "</thead>\n",
       "<tbody>\n",
       "\t<tr><th scope=row>2</th><td> 7.53</td><td>lean</td></tr>\n",
       "\t<tr><th scope=row>3</th><td> 7.48</td><td>lean</td></tr>\n",
       "\t<tr><th scope=row>4</th><td> 8.08</td><td>lean</td></tr>\n",
       "\t<tr><th scope=row>5</th><td> 8.09</td><td>lean</td></tr>\n",
       "\t<tr><th scope=row>6</th><td>10.15</td><td>lean</td></tr>\n",
       "\t<tr><th scope=row>7</th><td> 8.40</td><td>lean</td></tr>\n",
       "\t<tr><th scope=row>8</th><td>10.88</td><td>lean</td></tr>\n",
       "\t<tr><th scope=row>9</th><td> 6.13</td><td>lean</td></tr>\n",
       "\t<tr><th scope=row>10</th><td> 7.90</td><td>lean</td></tr>\n",
       "\t<tr><th scope=row>13</th><td> 7.05</td><td>lean</td></tr>\n",
       "\t<tr><th scope=row>16</th><td> 7.48</td><td>lean</td></tr>\n",
       "\t<tr><th scope=row>20</th><td> 7.58</td><td>lean</td></tr>\n",
       "\t<tr><th scope=row>22</th><td> 8.11</td><td>lean</td></tr>\n",
       "</tbody>\n",
       "</table>\n"
      ],
      "text/latex": [
       "A data.frame: 13 × 2\n",
       "\\begin{tabular}{r|ll}\n",
       "  & expend & stature\\\\\n",
       "  & <dbl> & <fct>\\\\\n",
       "\\hline\n",
       "\t2 &  7.53 & lean\\\\\n",
       "\t3 &  7.48 & lean\\\\\n",
       "\t4 &  8.08 & lean\\\\\n",
       "\t5 &  8.09 & lean\\\\\n",
       "\t6 & 10.15 & lean\\\\\n",
       "\t7 &  8.40 & lean\\\\\n",
       "\t8 & 10.88 & lean\\\\\n",
       "\t9 &  6.13 & lean\\\\\n",
       "\t10 &  7.90 & lean\\\\\n",
       "\t13 &  7.05 & lean\\\\\n",
       "\t16 &  7.48 & lean\\\\\n",
       "\t20 &  7.58 & lean\\\\\n",
       "\t22 &  8.11 & lean\\\\\n",
       "\\end{tabular}\n"
      ],
      "text/markdown": [
       "\n",
       "A data.frame: 13 × 2\n",
       "\n",
       "| <!--/--> | expend &lt;dbl&gt; | stature &lt;fct&gt; |\n",
       "|---|---|---|\n",
       "| 2 |  7.53 | lean |\n",
       "| 3 |  7.48 | lean |\n",
       "| 4 |  8.08 | lean |\n",
       "| 5 |  8.09 | lean |\n",
       "| 6 | 10.15 | lean |\n",
       "| 7 |  8.40 | lean |\n",
       "| 8 | 10.88 | lean |\n",
       "| 9 |  6.13 | lean |\n",
       "| 10 |  7.90 | lean |\n",
       "| 13 |  7.05 | lean |\n",
       "| 16 |  7.48 | lean |\n",
       "| 20 |  7.58 | lean |\n",
       "| 22 |  8.11 | lean |\n",
       "\n"
      ],
      "text/plain": [
       "   expend stature\n",
       "2   7.53  lean   \n",
       "3   7.48  lean   \n",
       "4   8.08  lean   \n",
       "5   8.09  lean   \n",
       "6  10.15  lean   \n",
       "7   8.40  lean   \n",
       "8  10.88  lean   \n",
       "9   6.13  lean   \n",
       "10  7.90  lean   \n",
       "13  7.05  lean   \n",
       "16  7.48  lean   \n",
       "20  7.58  lean   \n",
       "22  8.11  lean   "
      ]
     },
     "metadata": {},
     "output_type": "display_data"
    }
   ],
   "source": [
    "head(energy)\n",
    "class(energy)\n",
    "energy[energy$stature== \"lean\",]"
   ]
  },
  {
   "cell_type": "code",
   "execution_count": 132,
   "metadata": {},
   "outputs": [
    {
     "data": {
      "text/html": [
       "<style>\n",
       ".list-inline {list-style: none; margin:0; padding: 0}\n",
       ".list-inline>li {display: inline-block}\n",
       ".list-inline>li:not(:last-child)::after {content: \"\\00b7\"; padding: 0 .5ex}\n",
       "</style>\n",
       "<ol class=list-inline><li>FALSE</li><li>TRUE</li><li>TRUE</li><li>TRUE</li><li>TRUE</li><li>TRUE</li><li>TRUE</li><li>TRUE</li><li>TRUE</li><li>TRUE</li><li>FALSE</li><li>FALSE</li><li>TRUE</li><li>FALSE</li><li>FALSE</li><li>TRUE</li><li>FALSE</li><li>FALSE</li><li>FALSE</li><li>TRUE</li><li>FALSE</li><li>TRUE</li></ol>\n"
      ],
      "text/latex": [
       "\\begin{enumerate*}\n",
       "\\item FALSE\n",
       "\\item TRUE\n",
       "\\item TRUE\n",
       "\\item TRUE\n",
       "\\item TRUE\n",
       "\\item TRUE\n",
       "\\item TRUE\n",
       "\\item TRUE\n",
       "\\item TRUE\n",
       "\\item TRUE\n",
       "\\item FALSE\n",
       "\\item FALSE\n",
       "\\item TRUE\n",
       "\\item FALSE\n",
       "\\item FALSE\n",
       "\\item TRUE\n",
       "\\item FALSE\n",
       "\\item FALSE\n",
       "\\item FALSE\n",
       "\\item TRUE\n",
       "\\item FALSE\n",
       "\\item TRUE\n",
       "\\end{enumerate*}\n"
      ],
      "text/markdown": [
       "1. FALSE\n",
       "2. TRUE\n",
       "3. TRUE\n",
       "4. TRUE\n",
       "5. TRUE\n",
       "6. TRUE\n",
       "7. TRUE\n",
       "8. TRUE\n",
       "9. TRUE\n",
       "10. TRUE\n",
       "11. FALSE\n",
       "12. FALSE\n",
       "13. TRUE\n",
       "14. FALSE\n",
       "15. FALSE\n",
       "16. TRUE\n",
       "17. FALSE\n",
       "18. FALSE\n",
       "19. FALSE\n",
       "20. TRUE\n",
       "21. FALSE\n",
       "22. TRUE\n",
       "\n",
       "\n"
      ],
      "text/plain": [
       " [1] FALSE  TRUE  TRUE  TRUE  TRUE  TRUE  TRUE  TRUE  TRUE  TRUE FALSE FALSE\n",
       "[13]  TRUE FALSE FALSE  TRUE FALSE FALSE FALSE  TRUE FALSE  TRUE"
      ]
     },
     "metadata": {},
     "output_type": "display_data"
    }
   ],
   "source": [
    "energy$stature== \"lean\""
   ]
  },
  {
   "cell_type": "code",
   "execution_count": 90,
   "metadata": {
    "scrolled": true
   },
   "outputs": [
    {
     "data": {
      "text/html": [
       "<style>\n",
       ".list-inline {list-style: none; margin:0; padding: 0}\n",
       ".list-inline>li {display: inline-block}\n",
       ".list-inline>li:not(:last-child)::after {content: \"\\00b7\"; padding: 0 .5ex}\n",
       "</style>\n",
       "<ol class=list-inline><li>9.21</li><li>7.53</li><li>7.48</li><li>8.08</li><li>8.09</li><li>10.15</li><li>8.4</li><li>10.88</li><li>6.13</li><li>7.9</li><li>11.51</li><li>12.79</li><li>7.05</li><li>11.85</li><li>9.97</li><li>7.48</li><li>8.79</li><li>9.69</li><li>9.68</li><li>7.58</li><li>9.19</li><li>8.11</li></ol>\n"
      ],
      "text/latex": [
       "\\begin{enumerate*}\n",
       "\\item 9.21\n",
       "\\item 7.53\n",
       "\\item 7.48\n",
       "\\item 8.08\n",
       "\\item 8.09\n",
       "\\item 10.15\n",
       "\\item 8.4\n",
       "\\item 10.88\n",
       "\\item 6.13\n",
       "\\item 7.9\n",
       "\\item 11.51\n",
       "\\item 12.79\n",
       "\\item 7.05\n",
       "\\item 11.85\n",
       "\\item 9.97\n",
       "\\item 7.48\n",
       "\\item 8.79\n",
       "\\item 9.69\n",
       "\\item 9.68\n",
       "\\item 7.58\n",
       "\\item 9.19\n",
       "\\item 8.11\n",
       "\\end{enumerate*}\n"
      ],
      "text/markdown": [
       "1. 9.21\n",
       "2. 7.53\n",
       "3. 7.48\n",
       "4. 8.08\n",
       "5. 8.09\n",
       "6. 10.15\n",
       "7. 8.4\n",
       "8. 10.88\n",
       "9. 6.13\n",
       "10. 7.9\n",
       "11. 11.51\n",
       "12. 12.79\n",
       "13. 7.05\n",
       "14. 11.85\n",
       "15. 9.97\n",
       "16. 7.48\n",
       "17. 8.79\n",
       "18. 9.69\n",
       "19. 9.68\n",
       "20. 7.58\n",
       "21. 9.19\n",
       "22. 8.11\n",
       "\n",
       "\n"
      ],
      "text/plain": [
       " [1]  9.21  7.53  7.48  8.08  8.09 10.15  8.40 10.88  6.13  7.90 11.51 12.79\n",
       "[13]  7.05 11.85  9.97  7.48  8.79  9.69  9.68  7.58  9.19  8.11"
      ]
     },
     "metadata": {},
     "output_type": "display_data"
    },
    {
     "data": {
      "text/html": [
       "<style>\n",
       ".list-inline {list-style: none; margin:0; padding: 0}\n",
       ".list-inline>li {display: inline-block}\n",
       ".list-inline>li:not(:last-child)::after {content: \"\\00b7\"; padding: 0 .5ex}\n",
       "</style>\n",
       "<ol class=list-inline><li>12.79</li><li>11.85</li><li>11.51</li><li>10.88</li><li>10.15</li><li>9.97</li><li>9.69</li><li>9.68</li><li>9.21</li><li>9.19</li><li>8.79</li><li>8.4</li><li>8.11</li><li>8.09</li><li>8.08</li><li>7.9</li><li>7.58</li><li>7.53</li><li>7.48</li><li>7.48</li><li>7.05</li><li>6.13</li></ol>\n"
      ],
      "text/latex": [
       "\\begin{enumerate*}\n",
       "\\item 12.79\n",
       "\\item 11.85\n",
       "\\item 11.51\n",
       "\\item 10.88\n",
       "\\item 10.15\n",
       "\\item 9.97\n",
       "\\item 9.69\n",
       "\\item 9.68\n",
       "\\item 9.21\n",
       "\\item 9.19\n",
       "\\item 8.79\n",
       "\\item 8.4\n",
       "\\item 8.11\n",
       "\\item 8.09\n",
       "\\item 8.08\n",
       "\\item 7.9\n",
       "\\item 7.58\n",
       "\\item 7.53\n",
       "\\item 7.48\n",
       "\\item 7.48\n",
       "\\item 7.05\n",
       "\\item 6.13\n",
       "\\end{enumerate*}\n"
      ],
      "text/markdown": [
       "1. 12.79\n",
       "2. 11.85\n",
       "3. 11.51\n",
       "4. 10.88\n",
       "5. 10.15\n",
       "6. 9.97\n",
       "7. 9.69\n",
       "8. 9.68\n",
       "9. 9.21\n",
       "10. 9.19\n",
       "11. 8.79\n",
       "12. 8.4\n",
       "13. 8.11\n",
       "14. 8.09\n",
       "15. 8.08\n",
       "16. 7.9\n",
       "17. 7.58\n",
       "18. 7.53\n",
       "19. 7.48\n",
       "20. 7.48\n",
       "21. 7.05\n",
       "22. 6.13\n",
       "\n",
       "\n"
      ],
      "text/plain": [
       " [1] 12.79 11.85 11.51 10.88 10.15  9.97  9.69  9.68  9.21  9.19  8.79  8.40\n",
       "[13]  8.11  8.09  8.08  7.90  7.58  7.53  7.48  7.48  7.05  6.13"
      ]
     },
     "metadata": {},
     "output_type": "display_data"
    },
    {
     "data": {
      "text/html": [
       "<style>\n",
       ".list-inline {list-style: none; margin:0; padding: 0}\n",
       ".list-inline>li {display: inline-block}\n",
       ".list-inline>li:not(:last-child)::after {content: \"\\00b7\"; padding: 0 .5ex}\n",
       "</style>\n",
       "<ol class=list-inline><li>12</li><li>14</li><li>11</li><li>8</li><li>6</li><li>15</li><li>18</li><li>19</li><li>1</li><li>21</li><li>17</li><li>7</li><li>22</li><li>5</li><li>4</li><li>10</li><li>20</li><li>2</li><li>3</li><li>16</li><li>13</li><li>9</li></ol>\n"
      ],
      "text/latex": [
       "\\begin{enumerate*}\n",
       "\\item 12\n",
       "\\item 14\n",
       "\\item 11\n",
       "\\item 8\n",
       "\\item 6\n",
       "\\item 15\n",
       "\\item 18\n",
       "\\item 19\n",
       "\\item 1\n",
       "\\item 21\n",
       "\\item 17\n",
       "\\item 7\n",
       "\\item 22\n",
       "\\item 5\n",
       "\\item 4\n",
       "\\item 10\n",
       "\\item 20\n",
       "\\item 2\n",
       "\\item 3\n",
       "\\item 16\n",
       "\\item 13\n",
       "\\item 9\n",
       "\\end{enumerate*}\n"
      ],
      "text/markdown": [
       "1. 12\n",
       "2. 14\n",
       "3. 11\n",
       "4. 8\n",
       "5. 6\n",
       "6. 15\n",
       "7. 18\n",
       "8. 19\n",
       "9. 1\n",
       "10. 21\n",
       "11. 17\n",
       "12. 7\n",
       "13. 22\n",
       "14. 5\n",
       "15. 4\n",
       "16. 10\n",
       "17. 20\n",
       "18. 2\n",
       "19. 3\n",
       "20. 16\n",
       "21. 13\n",
       "22. 9\n",
       "\n",
       "\n"
      ],
      "text/plain": [
       " [1] 12 14 11  8  6 15 18 19  1 21 17  7 22  5  4 10 20  2  3 16 13  9"
      ]
     },
     "metadata": {},
     "output_type": "display_data"
    }
   ],
   "source": [
    "energy$expend\n",
    "\n",
    "sort(energy$expend, decreasing = TRUE)\n",
    "order(energy$expend, decreasing = TRUE)"
   ]
  },
  {
   "cell_type": "code",
   "execution_count": 137,
   "metadata": {
    "scrolled": true
   },
   "outputs": [
    {
     "data": {
      "text/html": [
       "<style>\n",
       ".list-inline {list-style: none; margin:0; padding: 0}\n",
       ".list-inline>li {display: inline-block}\n",
       ".list-inline>li:not(:last-child)::after {content: \"\\00b7\"; padding: 0 .5ex}\n",
       "</style>\n",
       "<ol class=list-inline><li>obese</li><li>lean</li><li>lean</li><li>lean</li><li>lean</li><li>lean</li><li>lean</li><li>lean</li><li>lean</li><li>lean</li><li>obese</li><li>obese</li><li>lean</li><li>obese</li><li>obese</li><li>lean</li><li>obese</li><li>obese</li><li>obese</li><li>lean</li><li>obese</li><li>lean</li></ol>\n",
       "\n",
       "<details>\n",
       "\t<summary style=display:list-item;cursor:pointer>\n",
       "\t\t<strong>Levels</strong>:\n",
       "\t</summary>\n",
       "\t<style>\n",
       "\t.list-inline {list-style: none; margin:0; padding: 0}\n",
       "\t.list-inline>li {display: inline-block}\n",
       "\t.list-inline>li:not(:last-child)::after {content: \"\\00b7\"; padding: 0 .5ex}\n",
       "\t</style>\n",
       "\t<ol class=list-inline><li>'lean'</li><li>'obese'</li></ol>\n",
       "</details>"
      ],
      "text/latex": [
       "\\begin{enumerate*}\n",
       "\\item obese\n",
       "\\item lean\n",
       "\\item lean\n",
       "\\item lean\n",
       "\\item lean\n",
       "\\item lean\n",
       "\\item lean\n",
       "\\item lean\n",
       "\\item lean\n",
       "\\item lean\n",
       "\\item obese\n",
       "\\item obese\n",
       "\\item lean\n",
       "\\item obese\n",
       "\\item obese\n",
       "\\item lean\n",
       "\\item obese\n",
       "\\item obese\n",
       "\\item obese\n",
       "\\item lean\n",
       "\\item obese\n",
       "\\item lean\n",
       "\\end{enumerate*}\n",
       "\n",
       "\\emph{Levels}: \\begin{enumerate*}\n",
       "\\item 'lean'\n",
       "\\item 'obese'\n",
       "\\end{enumerate*}\n"
      ],
      "text/markdown": [
       "1. obese\n",
       "2. lean\n",
       "3. lean\n",
       "4. lean\n",
       "5. lean\n",
       "6. lean\n",
       "7. lean\n",
       "8. lean\n",
       "9. lean\n",
       "10. lean\n",
       "11. obese\n",
       "12. obese\n",
       "13. lean\n",
       "14. obese\n",
       "15. obese\n",
       "16. lean\n",
       "17. obese\n",
       "18. obese\n",
       "19. obese\n",
       "20. lean\n",
       "21. obese\n",
       "22. lean\n",
       "\n",
       "\n",
       "\n",
       "**Levels**: 1. 'lean'\n",
       "2. 'obese'\n",
       "\n",
       "\n"
      ],
      "text/plain": [
       " [1] obese lean  lean  lean  lean  lean  lean  lean  lean  lean  obese obese\n",
       "[13] lean  obese obese lean  obese obese obese lean  obese lean \n",
       "Levels: lean obese"
      ]
     },
     "metadata": {},
     "output_type": "display_data"
    },
    {
     "data": {
      "text/html": [
       "<style>\n",
       ".list-inline {list-style: none; margin:0; padding: 0}\n",
       ".list-inline>li {display: inline-block}\n",
       ".list-inline>li:not(:last-child)::after {content: \"\\00b7\"; padding: 0 .5ex}\n",
       "</style>\n",
       "<ol class=list-inline><li>2</li><li>3</li><li>4</li><li>5</li><li>6</li><li>7</li><li>8</li><li>9</li><li>10</li><li>13</li><li>16</li><li>20</li><li>22</li><li>1</li><li>11</li><li>12</li><li>14</li><li>15</li><li>17</li><li>18</li><li>19</li><li>21</li></ol>\n"
      ],
      "text/latex": [
       "\\begin{enumerate*}\n",
       "\\item 2\n",
       "\\item 3\n",
       "\\item 4\n",
       "\\item 5\n",
       "\\item 6\n",
       "\\item 7\n",
       "\\item 8\n",
       "\\item 9\n",
       "\\item 10\n",
       "\\item 13\n",
       "\\item 16\n",
       "\\item 20\n",
       "\\item 22\n",
       "\\item 1\n",
       "\\item 11\n",
       "\\item 12\n",
       "\\item 14\n",
       "\\item 15\n",
       "\\item 17\n",
       "\\item 18\n",
       "\\item 19\n",
       "\\item 21\n",
       "\\end{enumerate*}\n"
      ],
      "text/markdown": [
       "1. 2\n",
       "2. 3\n",
       "3. 4\n",
       "4. 5\n",
       "5. 6\n",
       "6. 7\n",
       "7. 8\n",
       "8. 9\n",
       "9. 10\n",
       "10. 13\n",
       "11. 16\n",
       "12. 20\n",
       "13. 22\n",
       "14. 1\n",
       "15. 11\n",
       "16. 12\n",
       "17. 14\n",
       "18. 15\n",
       "19. 17\n",
       "20. 18\n",
       "21. 19\n",
       "22. 21\n",
       "\n",
       "\n"
      ],
      "text/plain": [
       " [1]  2  3  4  5  6  7  8  9 10 13 16 20 22  1 11 12 14 15 17 18 19 21"
      ]
     },
     "metadata": {},
     "output_type": "display_data"
    },
    {
     "data": {
      "text/html": [
       "<style>\n",
       ".list-inline {list-style: none; margin:0; padding: 0}\n",
       ".list-inline>li {display: inline-block}\n",
       ".list-inline>li:not(:last-child)::after {content: \"\\00b7\"; padding: 0 .5ex}\n",
       "</style>\n",
       "<ol class=list-inline><li>9</li><li>13</li><li>3</li><li>16</li><li>2</li><li>20</li><li>10</li><li>4</li><li>5</li><li>22</li><li>7</li><li>6</li><li>8</li><li>17</li><li>21</li><li>1</li><li>19</li><li>18</li><li>15</li><li>11</li><li>14</li><li>12</li></ol>\n"
      ],
      "text/latex": [
       "\\begin{enumerate*}\n",
       "\\item 9\n",
       "\\item 13\n",
       "\\item 3\n",
       "\\item 16\n",
       "\\item 2\n",
       "\\item 20\n",
       "\\item 10\n",
       "\\item 4\n",
       "\\item 5\n",
       "\\item 22\n",
       "\\item 7\n",
       "\\item 6\n",
       "\\item 8\n",
       "\\item 17\n",
       "\\item 21\n",
       "\\item 1\n",
       "\\item 19\n",
       "\\item 18\n",
       "\\item 15\n",
       "\\item 11\n",
       "\\item 14\n",
       "\\item 12\n",
       "\\end{enumerate*}\n"
      ],
      "text/markdown": [
       "1. 9\n",
       "2. 13\n",
       "3. 3\n",
       "4. 16\n",
       "5. 2\n",
       "6. 20\n",
       "7. 10\n",
       "8. 4\n",
       "9. 5\n",
       "10. 22\n",
       "11. 7\n",
       "12. 6\n",
       "13. 8\n",
       "14. 17\n",
       "15. 21\n",
       "16. 1\n",
       "17. 19\n",
       "18. 18\n",
       "19. 15\n",
       "20. 11\n",
       "21. 14\n",
       "22. 12\n",
       "\n",
       "\n"
      ],
      "text/plain": [
       " [1]  9 13  3 16  2 20 10  4  5 22  7  6  8 17 21  1 19 18 15 11 14 12"
      ]
     },
     "metadata": {},
     "output_type": "display_data"
    }
   ],
   "source": [
    "energy$stature\n",
    "order(energy$stature)\n",
    "order(energy$stature, energy$expend)"
   ]
  },
  {
   "cell_type": "code",
   "execution_count": 85,
   "metadata": {},
   "outputs": [
    {
     "data": {
      "text/html": [
       "<style>\n",
       ".list-inline {list-style: none; margin:0; padding: 0}\n",
       ".list-inline>li {display: inline-block}\n",
       ".list-inline>li:not(:last-child)::after {content: \"\\00b7\"; padding: 0 .5ex}\n",
       "</style>\n",
       "<ol class=list-inline><li>obese</li><li>lean</li><li>lean</li><li>lean</li><li>lean</li><li>lean</li><li>lean</li><li>lean</li><li>lean</li><li>lean</li><li>obese</li><li>obese</li><li>lean</li><li>obese</li><li>obese</li><li>lean</li><li>obese</li><li>obese</li><li>obese</li><li>lean</li><li>obese</li><li>lean</li></ol>\n",
       "\n",
       "<details>\n",
       "\t<summary style=display:list-item;cursor:pointer>\n",
       "\t\t<strong>Levels</strong>:\n",
       "\t</summary>\n",
       "\t<style>\n",
       "\t.list-inline {list-style: none; margin:0; padding: 0}\n",
       "\t.list-inline>li {display: inline-block}\n",
       "\t.list-inline>li:not(:last-child)::after {content: \"\\00b7\"; padding: 0 .5ex}\n",
       "\t</style>\n",
       "\t<ol class=list-inline><li>'lean'</li><li>'obese'</li></ol>\n",
       "</details>"
      ],
      "text/latex": [
       "\\begin{enumerate*}\n",
       "\\item obese\n",
       "\\item lean\n",
       "\\item lean\n",
       "\\item lean\n",
       "\\item lean\n",
       "\\item lean\n",
       "\\item lean\n",
       "\\item lean\n",
       "\\item lean\n",
       "\\item lean\n",
       "\\item obese\n",
       "\\item obese\n",
       "\\item lean\n",
       "\\item obese\n",
       "\\item obese\n",
       "\\item lean\n",
       "\\item obese\n",
       "\\item obese\n",
       "\\item obese\n",
       "\\item lean\n",
       "\\item obese\n",
       "\\item lean\n",
       "\\end{enumerate*}\n",
       "\n",
       "\\emph{Levels}: \\begin{enumerate*}\n",
       "\\item 'lean'\n",
       "\\item 'obese'\n",
       "\\end{enumerate*}\n"
      ],
      "text/markdown": [
       "1. obese\n",
       "2. lean\n",
       "3. lean\n",
       "4. lean\n",
       "5. lean\n",
       "6. lean\n",
       "7. lean\n",
       "8. lean\n",
       "9. lean\n",
       "10. lean\n",
       "11. obese\n",
       "12. obese\n",
       "13. lean\n",
       "14. obese\n",
       "15. obese\n",
       "16. lean\n",
       "17. obese\n",
       "18. obese\n",
       "19. obese\n",
       "20. lean\n",
       "21. obese\n",
       "22. lean\n",
       "\n",
       "\n",
       "\n",
       "**Levels**: 1. 'lean'\n",
       "2. 'obese'\n",
       "\n",
       "\n"
      ],
      "text/plain": [
       " [1] obese lean  lean  lean  lean  lean  lean  lean  lean  lean  obese obese\n",
       "[13] lean  obese obese lean  obese obese obese lean  obese lean \n",
       "Levels: lean obese"
      ]
     },
     "metadata": {},
     "output_type": "display_data"
    }
   ],
   "source": [
    "energy$stature"
   ]
  },
  {
   "cell_type": "code",
   "execution_count": 92,
   "metadata": {
    "scrolled": true
   },
   "outputs": [
    {
     "data": {
      "text/html": [
       "<table>\n",
       "<caption>A data.frame: 22 × 2</caption>\n",
       "<thead>\n",
       "\t<tr><th></th><th scope=col>expend</th><th scope=col>stature</th></tr>\n",
       "\t<tr><th></th><th scope=col>&lt;dbl&gt;</th><th scope=col>&lt;fct&gt;</th></tr>\n",
       "</thead>\n",
       "<tbody>\n",
       "\t<tr><th scope=row>9</th><td> 6.13</td><td>lean </td></tr>\n",
       "\t<tr><th scope=row>13</th><td> 7.05</td><td>lean </td></tr>\n",
       "\t<tr><th scope=row>3</th><td> 7.48</td><td>lean </td></tr>\n",
       "\t<tr><th scope=row>16</th><td> 7.48</td><td>lean </td></tr>\n",
       "\t<tr><th scope=row>2</th><td> 7.53</td><td>lean </td></tr>\n",
       "\t<tr><th scope=row>20</th><td> 7.58</td><td>lean </td></tr>\n",
       "\t<tr><th scope=row>10</th><td> 7.90</td><td>lean </td></tr>\n",
       "\t<tr><th scope=row>4</th><td> 8.08</td><td>lean </td></tr>\n",
       "\t<tr><th scope=row>5</th><td> 8.09</td><td>lean </td></tr>\n",
       "\t<tr><th scope=row>22</th><td> 8.11</td><td>lean </td></tr>\n",
       "\t<tr><th scope=row>7</th><td> 8.40</td><td>lean </td></tr>\n",
       "\t<tr><th scope=row>17</th><td> 8.79</td><td>obese</td></tr>\n",
       "\t<tr><th scope=row>21</th><td> 9.19</td><td>obese</td></tr>\n",
       "\t<tr><th scope=row>1</th><td> 9.21</td><td>obese</td></tr>\n",
       "\t<tr><th scope=row>19</th><td> 9.68</td><td>obese</td></tr>\n",
       "\t<tr><th scope=row>18</th><td> 9.69</td><td>obese</td></tr>\n",
       "\t<tr><th scope=row>15</th><td> 9.97</td><td>obese</td></tr>\n",
       "\t<tr><th scope=row>6</th><td>10.15</td><td>lean </td></tr>\n",
       "\t<tr><th scope=row>8</th><td>10.88</td><td>lean </td></tr>\n",
       "\t<tr><th scope=row>11</th><td>11.51</td><td>obese</td></tr>\n",
       "\t<tr><th scope=row>14</th><td>11.85</td><td>obese</td></tr>\n",
       "\t<tr><th scope=row>12</th><td>12.79</td><td>obese</td></tr>\n",
       "</tbody>\n",
       "</table>\n"
      ],
      "text/latex": [
       "A data.frame: 22 × 2\n",
       "\\begin{tabular}{r|ll}\n",
       "  & expend & stature\\\\\n",
       "  & <dbl> & <fct>\\\\\n",
       "\\hline\n",
       "\t9 &  6.13 & lean \\\\\n",
       "\t13 &  7.05 & lean \\\\\n",
       "\t3 &  7.48 & lean \\\\\n",
       "\t16 &  7.48 & lean \\\\\n",
       "\t2 &  7.53 & lean \\\\\n",
       "\t20 &  7.58 & lean \\\\\n",
       "\t10 &  7.90 & lean \\\\\n",
       "\t4 &  8.08 & lean \\\\\n",
       "\t5 &  8.09 & lean \\\\\n",
       "\t22 &  8.11 & lean \\\\\n",
       "\t7 &  8.40 & lean \\\\\n",
       "\t17 &  8.79 & obese\\\\\n",
       "\t21 &  9.19 & obese\\\\\n",
       "\t1 &  9.21 & obese\\\\\n",
       "\t19 &  9.68 & obese\\\\\n",
       "\t18 &  9.69 & obese\\\\\n",
       "\t15 &  9.97 & obese\\\\\n",
       "\t6 & 10.15 & lean \\\\\n",
       "\t8 & 10.88 & lean \\\\\n",
       "\t11 & 11.51 & obese\\\\\n",
       "\t14 & 11.85 & obese\\\\\n",
       "\t12 & 12.79 & obese\\\\\n",
       "\\end{tabular}\n"
      ],
      "text/markdown": [
       "\n",
       "A data.frame: 22 × 2\n",
       "\n",
       "| <!--/--> | expend &lt;dbl&gt; | stature &lt;fct&gt; |\n",
       "|---|---|---|\n",
       "| 9 |  6.13 | lean  |\n",
       "| 13 |  7.05 | lean  |\n",
       "| 3 |  7.48 | lean  |\n",
       "| 16 |  7.48 | lean  |\n",
       "| 2 |  7.53 | lean  |\n",
       "| 20 |  7.58 | lean  |\n",
       "| 10 |  7.90 | lean  |\n",
       "| 4 |  8.08 | lean  |\n",
       "| 5 |  8.09 | lean  |\n",
       "| 22 |  8.11 | lean  |\n",
       "| 7 |  8.40 | lean  |\n",
       "| 17 |  8.79 | obese |\n",
       "| 21 |  9.19 | obese |\n",
       "| 1 |  9.21 | obese |\n",
       "| 19 |  9.68 | obese |\n",
       "| 18 |  9.69 | obese |\n",
       "| 15 |  9.97 | obese |\n",
       "| 6 | 10.15 | lean  |\n",
       "| 8 | 10.88 | lean  |\n",
       "| 11 | 11.51 | obese |\n",
       "| 14 | 11.85 | obese |\n",
       "| 12 | 12.79 | obese |\n",
       "\n"
      ],
      "text/plain": [
       "   expend stature\n",
       "9   6.13  lean   \n",
       "13  7.05  lean   \n",
       "3   7.48  lean   \n",
       "16  7.48  lean   \n",
       "2   7.53  lean   \n",
       "20  7.58  lean   \n",
       "10  7.90  lean   \n",
       "4   8.08  lean   \n",
       "5   8.09  lean   \n",
       "22  8.11  lean   \n",
       "7   8.40  lean   \n",
       "17  8.79  obese  \n",
       "21  9.19  obese  \n",
       "1   9.21  obese  \n",
       "19  9.68  obese  \n",
       "18  9.69  obese  \n",
       "15  9.97  obese  \n",
       "6  10.15  lean   \n",
       "8  10.88  lean   \n",
       "11 11.51  obese  \n",
       "14 11.85  obese  \n",
       "12 12.79  obese  "
      ]
     },
     "metadata": {},
     "output_type": "display_data"
    },
    {
     "data": {
      "text/html": [
       "<table>\n",
       "<caption>A data.frame: 22 × 2</caption>\n",
       "<thead>\n",
       "\t<tr><th></th><th scope=col>expend</th><th scope=col>stature</th></tr>\n",
       "\t<tr><th></th><th scope=col>&lt;dbl&gt;</th><th scope=col>&lt;fct&gt;</th></tr>\n",
       "</thead>\n",
       "<tbody>\n",
       "\t<tr><th scope=row>9</th><td> 6.13</td><td>lean </td></tr>\n",
       "\t<tr><th scope=row>13</th><td> 7.05</td><td>lean </td></tr>\n",
       "\t<tr><th scope=row>3</th><td> 7.48</td><td>lean </td></tr>\n",
       "\t<tr><th scope=row>16</th><td> 7.48</td><td>lean </td></tr>\n",
       "\t<tr><th scope=row>2</th><td> 7.53</td><td>lean </td></tr>\n",
       "\t<tr><th scope=row>20</th><td> 7.58</td><td>lean </td></tr>\n",
       "\t<tr><th scope=row>10</th><td> 7.90</td><td>lean </td></tr>\n",
       "\t<tr><th scope=row>4</th><td> 8.08</td><td>lean </td></tr>\n",
       "\t<tr><th scope=row>5</th><td> 8.09</td><td>lean </td></tr>\n",
       "\t<tr><th scope=row>22</th><td> 8.11</td><td>lean </td></tr>\n",
       "\t<tr><th scope=row>7</th><td> 8.40</td><td>lean </td></tr>\n",
       "\t<tr><th scope=row>6</th><td>10.15</td><td>lean </td></tr>\n",
       "\t<tr><th scope=row>8</th><td>10.88</td><td>lean </td></tr>\n",
       "\t<tr><th scope=row>17</th><td> 8.79</td><td>obese</td></tr>\n",
       "\t<tr><th scope=row>21</th><td> 9.19</td><td>obese</td></tr>\n",
       "\t<tr><th scope=row>1</th><td> 9.21</td><td>obese</td></tr>\n",
       "\t<tr><th scope=row>19</th><td> 9.68</td><td>obese</td></tr>\n",
       "\t<tr><th scope=row>18</th><td> 9.69</td><td>obese</td></tr>\n",
       "\t<tr><th scope=row>15</th><td> 9.97</td><td>obese</td></tr>\n",
       "\t<tr><th scope=row>11</th><td>11.51</td><td>obese</td></tr>\n",
       "\t<tr><th scope=row>14</th><td>11.85</td><td>obese</td></tr>\n",
       "\t<tr><th scope=row>12</th><td>12.79</td><td>obese</td></tr>\n",
       "</tbody>\n",
       "</table>\n"
      ],
      "text/latex": [
       "A data.frame: 22 × 2\n",
       "\\begin{tabular}{r|ll}\n",
       "  & expend & stature\\\\\n",
       "  & <dbl> & <fct>\\\\\n",
       "\\hline\n",
       "\t9 &  6.13 & lean \\\\\n",
       "\t13 &  7.05 & lean \\\\\n",
       "\t3 &  7.48 & lean \\\\\n",
       "\t16 &  7.48 & lean \\\\\n",
       "\t2 &  7.53 & lean \\\\\n",
       "\t20 &  7.58 & lean \\\\\n",
       "\t10 &  7.90 & lean \\\\\n",
       "\t4 &  8.08 & lean \\\\\n",
       "\t5 &  8.09 & lean \\\\\n",
       "\t22 &  8.11 & lean \\\\\n",
       "\t7 &  8.40 & lean \\\\\n",
       "\t6 & 10.15 & lean \\\\\n",
       "\t8 & 10.88 & lean \\\\\n",
       "\t17 &  8.79 & obese\\\\\n",
       "\t21 &  9.19 & obese\\\\\n",
       "\t1 &  9.21 & obese\\\\\n",
       "\t19 &  9.68 & obese\\\\\n",
       "\t18 &  9.69 & obese\\\\\n",
       "\t15 &  9.97 & obese\\\\\n",
       "\t11 & 11.51 & obese\\\\\n",
       "\t14 & 11.85 & obese\\\\\n",
       "\t12 & 12.79 & obese\\\\\n",
       "\\end{tabular}\n"
      ],
      "text/markdown": [
       "\n",
       "A data.frame: 22 × 2\n",
       "\n",
       "| <!--/--> | expend &lt;dbl&gt; | stature &lt;fct&gt; |\n",
       "|---|---|---|\n",
       "| 9 |  6.13 | lean  |\n",
       "| 13 |  7.05 | lean  |\n",
       "| 3 |  7.48 | lean  |\n",
       "| 16 |  7.48 | lean  |\n",
       "| 2 |  7.53 | lean  |\n",
       "| 20 |  7.58 | lean  |\n",
       "| 10 |  7.90 | lean  |\n",
       "| 4 |  8.08 | lean  |\n",
       "| 5 |  8.09 | lean  |\n",
       "| 22 |  8.11 | lean  |\n",
       "| 7 |  8.40 | lean  |\n",
       "| 6 | 10.15 | lean  |\n",
       "| 8 | 10.88 | lean  |\n",
       "| 17 |  8.79 | obese |\n",
       "| 21 |  9.19 | obese |\n",
       "| 1 |  9.21 | obese |\n",
       "| 19 |  9.68 | obese |\n",
       "| 18 |  9.69 | obese |\n",
       "| 15 |  9.97 | obese |\n",
       "| 11 | 11.51 | obese |\n",
       "| 14 | 11.85 | obese |\n",
       "| 12 | 12.79 | obese |\n",
       "\n"
      ],
      "text/plain": [
       "   expend stature\n",
       "9   6.13  lean   \n",
       "13  7.05  lean   \n",
       "3   7.48  lean   \n",
       "16  7.48  lean   \n",
       "2   7.53  lean   \n",
       "20  7.58  lean   \n",
       "10  7.90  lean   \n",
       "4   8.08  lean   \n",
       "5   8.09  lean   \n",
       "22  8.11  lean   \n",
       "7   8.40  lean   \n",
       "6  10.15  lean   \n",
       "8  10.88  lean   \n",
       "17  8.79  obese  \n",
       "21  9.19  obese  \n",
       "1   9.21  obese  \n",
       "19  9.68  obese  \n",
       "18  9.69  obese  \n",
       "15  9.97  obese  \n",
       "11 11.51  obese  \n",
       "14 11.85  obese  \n",
       "12 12.79  obese  "
      ]
     },
     "metadata": {},
     "output_type": "display_data"
    },
    {
     "data": {
      "text/html": [
       "<table>\n",
       "<caption>A data.frame: 22 × 2</caption>\n",
       "<thead>\n",
       "\t<tr><th></th><th scope=col>expend</th><th scope=col>stature</th></tr>\n",
       "\t<tr><th></th><th scope=col>&lt;dbl&gt;</th><th scope=col>&lt;fct&gt;</th></tr>\n",
       "</thead>\n",
       "<tbody>\n",
       "\t<tr><th scope=row>9</th><td> 6.13</td><td>lean </td></tr>\n",
       "\t<tr><th scope=row>13</th><td> 7.05</td><td>lean </td></tr>\n",
       "\t<tr><th scope=row>3</th><td> 7.48</td><td>lean </td></tr>\n",
       "\t<tr><th scope=row>16</th><td> 7.48</td><td>lean </td></tr>\n",
       "\t<tr><th scope=row>2</th><td> 7.53</td><td>lean </td></tr>\n",
       "\t<tr><th scope=row>20</th><td> 7.58</td><td>lean </td></tr>\n",
       "\t<tr><th scope=row>10</th><td> 7.90</td><td>lean </td></tr>\n",
       "\t<tr><th scope=row>4</th><td> 8.08</td><td>lean </td></tr>\n",
       "\t<tr><th scope=row>5</th><td> 8.09</td><td>lean </td></tr>\n",
       "\t<tr><th scope=row>22</th><td> 8.11</td><td>lean </td></tr>\n",
       "\t<tr><th scope=row>7</th><td> 8.40</td><td>lean </td></tr>\n",
       "\t<tr><th scope=row>6</th><td>10.15</td><td>lean </td></tr>\n",
       "\t<tr><th scope=row>8</th><td>10.88</td><td>lean </td></tr>\n",
       "\t<tr><th scope=row>17</th><td> 8.79</td><td>obese</td></tr>\n",
       "\t<tr><th scope=row>21</th><td> 9.19</td><td>obese</td></tr>\n",
       "\t<tr><th scope=row>1</th><td> 9.21</td><td>obese</td></tr>\n",
       "\t<tr><th scope=row>19</th><td> 9.68</td><td>obese</td></tr>\n",
       "\t<tr><th scope=row>18</th><td> 9.69</td><td>obese</td></tr>\n",
       "\t<tr><th scope=row>15</th><td> 9.97</td><td>obese</td></tr>\n",
       "\t<tr><th scope=row>11</th><td>11.51</td><td>obese</td></tr>\n",
       "\t<tr><th scope=row>14</th><td>11.85</td><td>obese</td></tr>\n",
       "\t<tr><th scope=row>12</th><td>12.79</td><td>obese</td></tr>\n",
       "</tbody>\n",
       "</table>\n"
      ],
      "text/latex": [
       "A data.frame: 22 × 2\n",
       "\\begin{tabular}{r|ll}\n",
       "  & expend & stature\\\\\n",
       "  & <dbl> & <fct>\\\\\n",
       "\\hline\n",
       "\t9 &  6.13 & lean \\\\\n",
       "\t13 &  7.05 & lean \\\\\n",
       "\t3 &  7.48 & lean \\\\\n",
       "\t16 &  7.48 & lean \\\\\n",
       "\t2 &  7.53 & lean \\\\\n",
       "\t20 &  7.58 & lean \\\\\n",
       "\t10 &  7.90 & lean \\\\\n",
       "\t4 &  8.08 & lean \\\\\n",
       "\t5 &  8.09 & lean \\\\\n",
       "\t22 &  8.11 & lean \\\\\n",
       "\t7 &  8.40 & lean \\\\\n",
       "\t6 & 10.15 & lean \\\\\n",
       "\t8 & 10.88 & lean \\\\\n",
       "\t17 &  8.79 & obese\\\\\n",
       "\t21 &  9.19 & obese\\\\\n",
       "\t1 &  9.21 & obese\\\\\n",
       "\t19 &  9.68 & obese\\\\\n",
       "\t18 &  9.69 & obese\\\\\n",
       "\t15 &  9.97 & obese\\\\\n",
       "\t11 & 11.51 & obese\\\\\n",
       "\t14 & 11.85 & obese\\\\\n",
       "\t12 & 12.79 & obese\\\\\n",
       "\\end{tabular}\n"
      ],
      "text/markdown": [
       "\n",
       "A data.frame: 22 × 2\n",
       "\n",
       "| <!--/--> | expend &lt;dbl&gt; | stature &lt;fct&gt; |\n",
       "|---|---|---|\n",
       "| 9 |  6.13 | lean  |\n",
       "| 13 |  7.05 | lean  |\n",
       "| 3 |  7.48 | lean  |\n",
       "| 16 |  7.48 | lean  |\n",
       "| 2 |  7.53 | lean  |\n",
       "| 20 |  7.58 | lean  |\n",
       "| 10 |  7.90 | lean  |\n",
       "| 4 |  8.08 | lean  |\n",
       "| 5 |  8.09 | lean  |\n",
       "| 22 |  8.11 | lean  |\n",
       "| 7 |  8.40 | lean  |\n",
       "| 6 | 10.15 | lean  |\n",
       "| 8 | 10.88 | lean  |\n",
       "| 17 |  8.79 | obese |\n",
       "| 21 |  9.19 | obese |\n",
       "| 1 |  9.21 | obese |\n",
       "| 19 |  9.68 | obese |\n",
       "| 18 |  9.69 | obese |\n",
       "| 15 |  9.97 | obese |\n",
       "| 11 | 11.51 | obese |\n",
       "| 14 | 11.85 | obese |\n",
       "| 12 | 12.79 | obese |\n",
       "\n"
      ],
      "text/plain": [
       "   expend stature\n",
       "9   6.13  lean   \n",
       "13  7.05  lean   \n",
       "3   7.48  lean   \n",
       "16  7.48  lean   \n",
       "2   7.53  lean   \n",
       "20  7.58  lean   \n",
       "10  7.90  lean   \n",
       "4   8.08  lean   \n",
       "5   8.09  lean   \n",
       "22  8.11  lean   \n",
       "7   8.40  lean   \n",
       "6  10.15  lean   \n",
       "8  10.88  lean   \n",
       "17  8.79  obese  \n",
       "21  9.19  obese  \n",
       "1   9.21  obese  \n",
       "19  9.68  obese  \n",
       "18  9.69  obese  \n",
       "15  9.97  obese  \n",
       "11 11.51  obese  \n",
       "14 11.85  obese  \n",
       "12 12.79  obese  "
      ]
     },
     "metadata": {},
     "output_type": "display_data"
    }
   ],
   "source": [
    "energy[order(energy$expend),]\n",
    "energy[order(energy$stature, energy$expend),]\n",
    "energy[with(energy, order(stature, expend)),] # with context"
   ]
  },
  {
   "cell_type": "code",
   "execution_count": 45,
   "metadata": {
    "scrolled": false
   },
   "outputs": [
    {
     "data": {
      "text/html": [
       "<table>\n",
       "<caption>A data.frame: 6 × 2</caption>\n",
       "<thead>\n",
       "\t<tr><th></th><th scope=col>expend</th><th scope=col>stature</th></tr>\n",
       "\t<tr><th></th><th scope=col>&lt;dbl&gt;</th><th scope=col>&lt;fct&gt;</th></tr>\n",
       "</thead>\n",
       "<tbody>\n",
       "\t<tr><th scope=row>4</th><td> 8.08</td><td>lean</td></tr>\n",
       "\t<tr><th scope=row>5</th><td> 8.09</td><td>lean</td></tr>\n",
       "\t<tr><th scope=row>6</th><td>10.15</td><td>lean</td></tr>\n",
       "\t<tr><th scope=row>7</th><td> 8.40</td><td>lean</td></tr>\n",
       "\t<tr><th scope=row>8</th><td>10.88</td><td>lean</td></tr>\n",
       "\t<tr><th scope=row>22</th><td> 8.11</td><td>lean</td></tr>\n",
       "</tbody>\n",
       "</table>\n"
      ],
      "text/latex": [
       "A data.frame: 6 × 2\n",
       "\\begin{tabular}{r|ll}\n",
       "  & expend & stature\\\\\n",
       "  & <dbl> & <fct>\\\\\n",
       "\\hline\n",
       "\t4 &  8.08 & lean\\\\\n",
       "\t5 &  8.09 & lean\\\\\n",
       "\t6 & 10.15 & lean\\\\\n",
       "\t7 &  8.40 & lean\\\\\n",
       "\t8 & 10.88 & lean\\\\\n",
       "\t22 &  8.11 & lean\\\\\n",
       "\\end{tabular}\n"
      ],
      "text/markdown": [
       "\n",
       "A data.frame: 6 × 2\n",
       "\n",
       "| <!--/--> | expend &lt;dbl&gt; | stature &lt;fct&gt; |\n",
       "|---|---|---|\n",
       "| 4 |  8.08 | lean |\n",
       "| 5 |  8.09 | lean |\n",
       "| 6 | 10.15 | lean |\n",
       "| 7 |  8.40 | lean |\n",
       "| 8 | 10.88 | lean |\n",
       "| 22 |  8.11 | lean |\n",
       "\n"
      ],
      "text/plain": [
       "   expend stature\n",
       "4   8.08  lean   \n",
       "5   8.09  lean   \n",
       "6  10.15  lean   \n",
       "7   8.40  lean   \n",
       "8  10.88  lean   \n",
       "22  8.11  lean   "
      ]
     },
     "metadata": {},
     "output_type": "display_data"
    },
    {
     "data": {
      "text/html": [
       "<table>\n",
       "<caption>A data.frame: 6 × 2</caption>\n",
       "<thead>\n",
       "\t<tr><th></th><th scope=col>expend</th><th scope=col>stature</th></tr>\n",
       "\t<tr><th></th><th scope=col>&lt;dbl&gt;</th><th scope=col>&lt;fct&gt;</th></tr>\n",
       "</thead>\n",
       "<tbody>\n",
       "\t<tr><th scope=row>4</th><td> 8.08</td><td>lean</td></tr>\n",
       "\t<tr><th scope=row>5</th><td> 8.09</td><td>lean</td></tr>\n",
       "\t<tr><th scope=row>6</th><td>10.15</td><td>lean</td></tr>\n",
       "\t<tr><th scope=row>7</th><td> 8.40</td><td>lean</td></tr>\n",
       "\t<tr><th scope=row>8</th><td>10.88</td><td>lean</td></tr>\n",
       "\t<tr><th scope=row>22</th><td> 8.11</td><td>lean</td></tr>\n",
       "</tbody>\n",
       "</table>\n"
      ],
      "text/latex": [
       "A data.frame: 6 × 2\n",
       "\\begin{tabular}{r|ll}\n",
       "  & expend & stature\\\\\n",
       "  & <dbl> & <fct>\\\\\n",
       "\\hline\n",
       "\t4 &  8.08 & lean\\\\\n",
       "\t5 &  8.09 & lean\\\\\n",
       "\t6 & 10.15 & lean\\\\\n",
       "\t7 &  8.40 & lean\\\\\n",
       "\t8 & 10.88 & lean\\\\\n",
       "\t22 &  8.11 & lean\\\\\n",
       "\\end{tabular}\n"
      ],
      "text/markdown": [
       "\n",
       "A data.frame: 6 × 2\n",
       "\n",
       "| <!--/--> | expend &lt;dbl&gt; | stature &lt;fct&gt; |\n",
       "|---|---|---|\n",
       "| 4 |  8.08 | lean |\n",
       "| 5 |  8.09 | lean |\n",
       "| 6 | 10.15 | lean |\n",
       "| 7 |  8.40 | lean |\n",
       "| 8 | 10.88 | lean |\n",
       "| 22 |  8.11 | lean |\n",
       "\n"
      ],
      "text/plain": [
       "   expend stature\n",
       "4   8.08  lean   \n",
       "5   8.09  lean   \n",
       "6  10.15  lean   \n",
       "7   8.40  lean   \n",
       "8  10.88  lean   \n",
       "22  8.11  lean   "
      ]
     },
     "metadata": {},
     "output_type": "display_data"
    }
   ],
   "source": [
    "subset(energy, stature==\"lean\" & expend>8)\n",
    "energy[energy$stature== \"lean\" & energy$expend>8, ]"
   ]
  },
  {
   "cell_type": "code",
   "execution_count": 46,
   "metadata": {},
   "outputs": [
    {
     "data": {
      "text/html": [
       "'list'"
      ],
      "text/latex": [
       "'list'"
      ],
      "text/markdown": [
       "'list'"
      ],
      "text/plain": [
       "[1] \"list\""
      ]
     },
     "metadata": {},
     "output_type": "display_data"
    },
    {
     "data": {
      "text/html": [
       "<dl>\n",
       "\t<dt>$lean</dt>\n",
       "\t\t<dd><style>\n",
       ".list-inline {list-style: none; margin:0; padding: 0}\n",
       ".list-inline>li {display: inline-block}\n",
       ".list-inline>li:not(:last-child)::after {content: \"\\00b7\"; padding: 0 .5ex}\n",
       "</style>\n",
       "<ol class=list-inline><li>7.53</li><li>7.48</li><li>8.08</li><li>8.09</li><li>10.15</li><li>8.4</li><li>10.88</li><li>6.13</li><li>7.9</li><li>7.05</li><li>7.48</li><li>7.58</li><li>8.11</li></ol>\n",
       "</dd>\n",
       "\t<dt>$obese</dt>\n",
       "\t\t<dd><style>\n",
       ".list-inline {list-style: none; margin:0; padding: 0}\n",
       ".list-inline>li {display: inline-block}\n",
       ".list-inline>li:not(:last-child)::after {content: \"\\00b7\"; padding: 0 .5ex}\n",
       "</style>\n",
       "<ol class=list-inline><li>9.21</li><li>11.51</li><li>12.79</li><li>11.85</li><li>9.97</li><li>8.79</li><li>9.69</li><li>9.68</li><li>9.19</li></ol>\n",
       "</dd>\n",
       "</dl>\n"
      ],
      "text/latex": [
       "\\begin{description}\n",
       "\\item[\\$lean] \\begin{enumerate*}\n",
       "\\item 7.53\n",
       "\\item 7.48\n",
       "\\item 8.08\n",
       "\\item 8.09\n",
       "\\item 10.15\n",
       "\\item 8.4\n",
       "\\item 10.88\n",
       "\\item 6.13\n",
       "\\item 7.9\n",
       "\\item 7.05\n",
       "\\item 7.48\n",
       "\\item 7.58\n",
       "\\item 8.11\n",
       "\\end{enumerate*}\n",
       "\n",
       "\\item[\\$obese] \\begin{enumerate*}\n",
       "\\item 9.21\n",
       "\\item 11.51\n",
       "\\item 12.79\n",
       "\\item 11.85\n",
       "\\item 9.97\n",
       "\\item 8.79\n",
       "\\item 9.69\n",
       "\\item 9.68\n",
       "\\item 9.19\n",
       "\\end{enumerate*}\n",
       "\n",
       "\\end{description}\n"
      ],
      "text/markdown": [
       "$lean\n",
       ":   1. 7.53\n",
       "2. 7.48\n",
       "3. 8.08\n",
       "4. 8.09\n",
       "5. 10.15\n",
       "6. 8.4\n",
       "7. 10.88\n",
       "8. 6.13\n",
       "9. 7.9\n",
       "10. 7.05\n",
       "11. 7.48\n",
       "12. 7.58\n",
       "13. 8.11\n",
       "\n",
       "\n",
       "\n",
       "$obese\n",
       ":   1. 9.21\n",
       "2. 11.51\n",
       "3. 12.79\n",
       "4. 11.85\n",
       "5. 9.97\n",
       "6. 8.79\n",
       "7. 9.69\n",
       "8. 9.68\n",
       "9. 9.19\n",
       "\n",
       "\n",
       "\n",
       "\n",
       "\n"
      ],
      "text/plain": [
       "$lean\n",
       " [1]  7.53  7.48  8.08  8.09 10.15  8.40 10.88  6.13  7.90  7.05  7.48  7.58\n",
       "[13]  8.11\n",
       "\n",
       "$obese\n",
       "[1]  9.21 11.51 12.79 11.85  9.97  8.79  9.69  9.68  9.19\n"
      ]
     },
     "metadata": {},
     "output_type": "display_data"
    }
   ],
   "source": [
    "x=split(energy$expend, energy$stature) # split the data in energy$expend into the groups defined by energy$stature\n",
    "class(x)\n",
    "x"
   ]
  },
  {
   "cell_type": "code",
   "execution_count": 138,
   "metadata": {},
   "outputs": [
    {
     "data": {
      "text/html": [
       "<dl>\n",
       "\t<dt>$A</dt>\n",
       "\t\t<dd><style>\n",
       ".list-inline {list-style: none; margin:0; padding: 0}\n",
       ".list-inline>li {display: inline-block}\n",
       ".list-inline>li:not(:last-child)::after {content: \"\\00b7\"; padding: 0 .5ex}\n",
       "</style>\n",
       "<ol class=list-inline><li>1</li><li>3</li><li>5</li><li>7</li><li>9</li></ol>\n",
       "</dd>\n",
       "\t<dt>$B</dt>\n",
       "\t\t<dd><style>\n",
       ".list-inline {list-style: none; margin:0; padding: 0}\n",
       ".list-inline>li {display: inline-block}\n",
       ".list-inline>li:not(:last-child)::after {content: \"\\00b7\"; padding: 0 .5ex}\n",
       "</style>\n",
       "<ol class=list-inline><li>2</li><li>4</li><li>6</li><li>8</li><li>10</li></ol>\n",
       "</dd>\n",
       "</dl>\n"
      ],
      "text/latex": [
       "\\begin{description}\n",
       "\\item[\\$A] \\begin{enumerate*}\n",
       "\\item 1\n",
       "\\item 3\n",
       "\\item 5\n",
       "\\item 7\n",
       "\\item 9\n",
       "\\end{enumerate*}\n",
       "\n",
       "\\item[\\$B] \\begin{enumerate*}\n",
       "\\item 2\n",
       "\\item 4\n",
       "\\item 6\n",
       "\\item 8\n",
       "\\item 10\n",
       "\\end{enumerate*}\n",
       "\n",
       "\\end{description}\n"
      ],
      "text/markdown": [
       "$A\n",
       ":   1. 1\n",
       "2. 3\n",
       "3. 5\n",
       "4. 7\n",
       "5. 9\n",
       "\n",
       "\n",
       "\n",
       "$B\n",
       ":   1. 2\n",
       "2. 4\n",
       "3. 6\n",
       "4. 8\n",
       "5. 10\n",
       "\n",
       "\n",
       "\n",
       "\n",
       "\n"
      ],
      "text/plain": [
       "$A\n",
       "[1] 1 3 5 7 9\n",
       "\n",
       "$B\n",
       "[1]  2  4  6  8 10\n"
      ]
     },
     "metadata": {},
     "output_type": "display_data"
    }
   ],
   "source": [
    "split(1:10, c(\"A\", \"B\"))\n",
    "#1 2 3 4 5 6 7 8 9 10\n",
    "#A B A B A B A B A B \n",
    "\n",
    "# list\n",
    "# A: 1,3,5,7,9\n",
    "# B: 2,4,6,8,10"
   ]
  },
  {
   "cell_type": "code",
   "execution_count": 47,
   "metadata": {
    "scrolled": false
   },
   "outputs": [
    {
     "data": {
      "text/html": [
       "<style>\n",
       ".list-inline {list-style: none; margin:0; padding: 0}\n",
       ".list-inline>li {display: inline-block}\n",
       ".list-inline>li:not(:last-child)::after {content: \"\\00b7\"; padding: 0 .5ex}\n",
       "</style>\n",
       "<ol class=list-inline><li>7.53</li><li>7.48</li><li>8.08</li><li>8.09</li><li>10.15</li><li>8.4</li><li>10.88</li><li>6.13</li><li>7.9</li><li>7.05</li><li>7.48</li><li>7.58</li><li>8.11</li></ol>\n"
      ],
      "text/latex": [
       "\\begin{enumerate*}\n",
       "\\item 7.53\n",
       "\\item 7.48\n",
       "\\item 8.08\n",
       "\\item 8.09\n",
       "\\item 10.15\n",
       "\\item 8.4\n",
       "\\item 10.88\n",
       "\\item 6.13\n",
       "\\item 7.9\n",
       "\\item 7.05\n",
       "\\item 7.48\n",
       "\\item 7.58\n",
       "\\item 8.11\n",
       "\\end{enumerate*}\n"
      ],
      "text/markdown": [
       "1. 7.53\n",
       "2. 7.48\n",
       "3. 8.08\n",
       "4. 8.09\n",
       "5. 10.15\n",
       "6. 8.4\n",
       "7. 10.88\n",
       "8. 6.13\n",
       "9. 7.9\n",
       "10. 7.05\n",
       "11. 7.48\n",
       "12. 7.58\n",
       "13. 8.11\n",
       "\n",
       "\n"
      ],
      "text/plain": [
       " [1]  7.53  7.48  8.08  8.09 10.15  8.40 10.88  6.13  7.90  7.05  7.48  7.58\n",
       "[13]  8.11"
      ]
     },
     "metadata": {},
     "output_type": "display_data"
    },
    {
     "data": {
      "text/html": [
       "<style>\n",
       ".list-inline {list-style: none; margin:0; padding: 0}\n",
       ".list-inline>li {display: inline-block}\n",
       ".list-inline>li:not(:last-child)::after {content: \"\\00b7\"; padding: 0 .5ex}\n",
       "</style>\n",
       "<ol class=list-inline><li>7.53</li><li>7.48</li><li>8.08</li><li>8.09</li><li>10.15</li><li>8.4</li><li>10.88</li><li>6.13</li><li>7.9</li><li>7.05</li><li>7.48</li><li>7.58</li><li>8.11</li></ol>\n"
      ],
      "text/latex": [
       "\\begin{enumerate*}\n",
       "\\item 7.53\n",
       "\\item 7.48\n",
       "\\item 8.08\n",
       "\\item 8.09\n",
       "\\item 10.15\n",
       "\\item 8.4\n",
       "\\item 10.88\n",
       "\\item 6.13\n",
       "\\item 7.9\n",
       "\\item 7.05\n",
       "\\item 7.48\n",
       "\\item 7.58\n",
       "\\item 8.11\n",
       "\\end{enumerate*}\n"
      ],
      "text/markdown": [
       "1. 7.53\n",
       "2. 7.48\n",
       "3. 8.08\n",
       "4. 8.09\n",
       "5. 10.15\n",
       "6. 8.4\n",
       "7. 10.88\n",
       "8. 6.13\n",
       "9. 7.9\n",
       "10. 7.05\n",
       "11. 7.48\n",
       "12. 7.58\n",
       "13. 8.11\n",
       "\n",
       "\n"
      ],
      "text/plain": [
       " [1]  7.53  7.48  8.08  8.09 10.15  8.40 10.88  6.13  7.90  7.05  7.48  7.58\n",
       "[13]  8.11"
      ]
     },
     "metadata": {},
     "output_type": "display_data"
    }
   ],
   "source": [
    "x$lean\n",
    "x[[1]]"
   ]
  },
  {
   "cell_type": "code",
   "execution_count": 141,
   "metadata": {},
   "outputs": [
    {
     "data": {
      "text/html": [
       "<style>\n",
       ".list-inline {list-style: none; margin:0; padding: 0}\n",
       ".list-inline>li {display: inline-block}\n",
       ".list-inline>li:not(:last-child)::after {content: \"\\00b7\"; padding: 0 .5ex}\n",
       "</style>\n",
       "<ol class=list-inline><li>9.21</li><li>7.53</li><li>7.48</li><li>8.08</li><li>8.09</li><li>10.15</li><li>8.4</li><li>10.88</li><li>6.13</li><li>7.9</li><li>11.51</li><li>12.79</li><li>7.05</li><li>11.85</li><li>9.97</li><li>7.48</li><li>8.79</li><li>9.69</li><li>9.68</li><li>7.58</li><li>9.19</li><li>8.11</li></ol>\n"
      ],
      "text/latex": [
       "\\begin{enumerate*}\n",
       "\\item 9.21\n",
       "\\item 7.53\n",
       "\\item 7.48\n",
       "\\item 8.08\n",
       "\\item 8.09\n",
       "\\item 10.15\n",
       "\\item 8.4\n",
       "\\item 10.88\n",
       "\\item 6.13\n",
       "\\item 7.9\n",
       "\\item 11.51\n",
       "\\item 12.79\n",
       "\\item 7.05\n",
       "\\item 11.85\n",
       "\\item 9.97\n",
       "\\item 7.48\n",
       "\\item 8.79\n",
       "\\item 9.69\n",
       "\\item 9.68\n",
       "\\item 7.58\n",
       "\\item 9.19\n",
       "\\item 8.11\n",
       "\\end{enumerate*}\n"
      ],
      "text/markdown": [
       "1. 9.21\n",
       "2. 7.53\n",
       "3. 7.48\n",
       "4. 8.08\n",
       "5. 8.09\n",
       "6. 10.15\n",
       "7. 8.4\n",
       "8. 10.88\n",
       "9. 6.13\n",
       "10. 7.9\n",
       "11. 11.51\n",
       "12. 12.79\n",
       "13. 7.05\n",
       "14. 11.85\n",
       "15. 9.97\n",
       "16. 7.48\n",
       "17. 8.79\n",
       "18. 9.69\n",
       "19. 9.68\n",
       "20. 7.58\n",
       "21. 9.19\n",
       "22. 8.11\n",
       "\n",
       "\n"
      ],
      "text/plain": [
       " [1]  9.21  7.53  7.48  8.08  8.09 10.15  8.40 10.88  6.13  7.90 11.51 12.79\n",
       "[13]  7.05 11.85  9.97  7.48  8.79  9.69  9.68  7.58  9.19  8.11"
      ]
     },
     "metadata": {},
     "output_type": "display_data"
    }
   ],
   "source": [
    "energy[[1]]"
   ]
  },
  {
   "cell_type": "code",
   "execution_count": 48,
   "metadata": {
    "scrolled": true
   },
   "outputs": [
    {
     "data": {
      "text/html": [
       "<dl>\n",
       "\t<dt>$a</dt>\n",
       "\t\t<dd><style>\n",
       ".list-inline {list-style: none; margin:0; padding: 0}\n",
       ".list-inline>li {display: inline-block}\n",
       ".list-inline>li:not(:last-child)::after {content: \"\\00b7\"; padding: 0 .5ex}\n",
       "</style>\n",
       "<ol class=list-inline><li>1</li><li>2</li><li>3</li><li>4</li></ol>\n",
       "</dd>\n",
       "\t<dt>$b</dt>\n",
       "\t\t<dd><style>\n",
       ".list-inline {list-style: none; margin:0; padding: 0}\n",
       ".list-inline>li {display: inline-block}\n",
       ".list-inline>li:not(:last-child)::after {content: \"\\00b7\"; padding: 0 .5ex}\n",
       "</style>\n",
       "<ol class=list-inline><li>5</li><li>6</li><li>7</li><li>8</li><li>9</li></ol>\n",
       "</dd>\n",
       "\t<dt>$c</dt>\n",
       "\t\t<dd><style>\n",
       ".list-inline {list-style: none; margin:0; padding: 0}\n",
       ".list-inline>li {display: inline-block}\n",
       ".list-inline>li:not(:last-child)::after {content: \"\\00b7\"; padding: 0 .5ex}\n",
       "</style>\n",
       "<ol class=list-inline><li>'hello'</li><li>'world'</li></ol>\n",
       "</dd>\n",
       "\t<dt>$mymatrix</dt>\n",
       "\t\t<dd><table>\n",
       "<caption>A matrix: 2 × 3 of type int</caption>\n",
       "<tbody>\n",
       "\t<tr><td>1</td><td>3</td><td>5</td></tr>\n",
       "\t<tr><td>2</td><td>4</td><td>6</td></tr>\n",
       "</tbody>\n",
       "</table>\n",
       "</dd>\n",
       "</dl>\n"
      ],
      "text/latex": [
       "\\begin{description}\n",
       "\\item[\\$a] \\begin{enumerate*}\n",
       "\\item 1\n",
       "\\item 2\n",
       "\\item 3\n",
       "\\item 4\n",
       "\\end{enumerate*}\n",
       "\n",
       "\\item[\\$b] \\begin{enumerate*}\n",
       "\\item 5\n",
       "\\item 6\n",
       "\\item 7\n",
       "\\item 8\n",
       "\\item 9\n",
       "\\end{enumerate*}\n",
       "\n",
       "\\item[\\$c] \\begin{enumerate*}\n",
       "\\item 'hello'\n",
       "\\item 'world'\n",
       "\\end{enumerate*}\n",
       "\n",
       "\\item[\\$mymatrix] A matrix: 2 × 3 of type int\n",
       "\\begin{tabular}{lll}\n",
       "\t 1 & 3 & 5\\\\\n",
       "\t 2 & 4 & 6\\\\\n",
       "\\end{tabular}\n",
       "\n",
       "\\end{description}\n"
      ],
      "text/markdown": [
       "$a\n",
       ":   1. 1\n",
       "2. 2\n",
       "3. 3\n",
       "4. 4\n",
       "\n",
       "\n",
       "\n",
       "$b\n",
       ":   1. 5\n",
       "2. 6\n",
       "3. 7\n",
       "4. 8\n",
       "5. 9\n",
       "\n",
       "\n",
       "\n",
       "$c\n",
       ":   1. 'hello'\n",
       "2. 'world'\n",
       "\n",
       "\n",
       "\n",
       "$mymatrix\n",
       ":   \n",
       "A matrix: 2 × 3 of type int\n",
       "\n",
       "| 1 | 3 | 5 |\n",
       "| 2 | 4 | 6 |\n",
       "\n",
       "\n",
       "\n",
       "\n"
      ],
      "text/plain": [
       "$a\n",
       "[1] 1 2 3 4\n",
       "\n",
       "$b\n",
       "[1] 5 6 7 8 9\n",
       "\n",
       "$c\n",
       "[1] \"hello\" \"world\"\n",
       "\n",
       "$mymatrix\n",
       "     [,1] [,2] [,3]\n",
       "[1,]    1    3    5\n",
       "[2,]    2    4    6\n"
      ]
     },
     "metadata": {},
     "output_type": "display_data"
    },
    {
     "data": {
      "text/html": [
       "<style>\n",
       ".list-inline {list-style: none; margin:0; padding: 0}\n",
       ".list-inline>li {display: inline-block}\n",
       ".list-inline>li:not(:last-child)::after {content: \"\\00b7\"; padding: 0 .5ex}\n",
       "</style>\n",
       "<ol class=list-inline><li>'a'</li><li>'b'</li><li>'c'</li><li>'mymatrix'</li></ol>\n"
      ],
      "text/latex": [
       "\\begin{enumerate*}\n",
       "\\item 'a'\n",
       "\\item 'b'\n",
       "\\item 'c'\n",
       "\\item 'mymatrix'\n",
       "\\end{enumerate*}\n"
      ],
      "text/markdown": [
       "1. 'a'\n",
       "2. 'b'\n",
       "3. 'c'\n",
       "4. 'mymatrix'\n",
       "\n",
       "\n"
      ],
      "text/plain": [
       "[1] \"a\"        \"b\"        \"c\"        \"mymatrix\""
      ]
     },
     "metadata": {},
     "output_type": "display_data"
    },
    {
     "data": {
      "text/html": [
       "<style>\n",
       ".list-inline {list-style: none; margin:0; padding: 0}\n",
       ".list-inline>li {display: inline-block}\n",
       ".list-inline>li:not(:last-child)::after {content: \"\\00b7\"; padding: 0 .5ex}\n",
       "</style>\n",
       "<ol class=list-inline><li>3</li><li>4</li></ol>\n"
      ],
      "text/latex": [
       "\\begin{enumerate*}\n",
       "\\item 3\n",
       "\\item 4\n",
       "\\end{enumerate*}\n"
      ],
      "text/markdown": [
       "1. 3\n",
       "2. 4\n",
       "\n",
       "\n"
      ],
      "text/plain": [
       "[1] 3 4"
      ]
     },
     "metadata": {},
     "output_type": "display_data"
    }
   ],
   "source": [
    "x=list(a=1:4, b=5:9, c=c('hello', 'world'), mymatrix=matrix(1:6, 2,3))\n",
    "x\n",
    "# x$m[2,2]\n",
    "names(x)\n",
    "x[['mymatrix']][,2]\n",
    "# x$a\n",
    "# x[[1]]\n",
    "# x[[2]]\n",
    "# x[['c']]"
   ]
  },
  {
   "cell_type": "code",
   "execution_count": 49,
   "metadata": {
    "scrolled": false
   },
   "outputs": [
    {
     "data": {
      "text/html": [
       "<style>\n",
       ".list-inline {list-style: none; margin:0; padding: 0}\n",
       ".list-inline>li {display: inline-block}\n",
       ".list-inline>li:not(:last-child)::after {content: \"\\00b7\"; padding: 0 .5ex}\n",
       "</style>\n",
       "<ol class=list-inline><li>'a'</li><li>'b'</li><li>'cnames'</li><li>'mydata'</li><li>'mytable'</li><li>'numbers'</li><li>'rnames'</li><li>'thuesen'</li><li>'whales'</li><li>'x'</li><li>'y'</li><li>'z'</li></ol>\n"
      ],
      "text/latex": [
       "\\begin{enumerate*}\n",
       "\\item 'a'\n",
       "\\item 'b'\n",
       "\\item 'cnames'\n",
       "\\item 'mydata'\n",
       "\\item 'mytable'\n",
       "\\item 'numbers'\n",
       "\\item 'rnames'\n",
       "\\item 'thuesen'\n",
       "\\item 'whales'\n",
       "\\item 'x'\n",
       "\\item 'y'\n",
       "\\item 'z'\n",
       "\\end{enumerate*}\n"
      ],
      "text/markdown": [
       "1. 'a'\n",
       "2. 'b'\n",
       "3. 'cnames'\n",
       "4. 'mydata'\n",
       "5. 'mytable'\n",
       "6. 'numbers'\n",
       "7. 'rnames'\n",
       "8. 'thuesen'\n",
       "9. 'whales'\n",
       "10. 'x'\n",
       "11. 'y'\n",
       "12. 'z'\n",
       "\n",
       "\n"
      ],
      "text/plain": [
       " [1] \"a\"       \"b\"       \"cnames\"  \"mydata\"  \"mytable\" \"numbers\" \"rnames\" \n",
       " [8] \"thuesen\" \"whales\"  \"x\"       \"y\"       \"z\"      "
      ]
     },
     "metadata": {},
     "output_type": "display_data"
    },
    {
     "data": {
      "text/html": [
       "<style>\n",
       ".list-inline {list-style: none; margin:0; padding: 0}\n",
       ".list-inline>li {display: inline-block}\n",
       ".list-inline>li:not(:last-child)::after {content: \"\\00b7\"; padding: 0 .5ex}\n",
       "</style>\n",
       "<ol class=list-inline><li>'b'</li><li>'cnames'</li><li>'mydata'</li><li>'mytable'</li><li>'numbers'</li><li>'rnames'</li><li>'thuesen'</li><li>'whales'</li><li>'x'</li><li>'y'</li><li>'z'</li></ol>\n"
      ],
      "text/latex": [
       "\\begin{enumerate*}\n",
       "\\item 'b'\n",
       "\\item 'cnames'\n",
       "\\item 'mydata'\n",
       "\\item 'mytable'\n",
       "\\item 'numbers'\n",
       "\\item 'rnames'\n",
       "\\item 'thuesen'\n",
       "\\item 'whales'\n",
       "\\item 'x'\n",
       "\\item 'y'\n",
       "\\item 'z'\n",
       "\\end{enumerate*}\n"
      ],
      "text/markdown": [
       "1. 'b'\n",
       "2. 'cnames'\n",
       "3. 'mydata'\n",
       "4. 'mytable'\n",
       "5. 'numbers'\n",
       "6. 'rnames'\n",
       "7. 'thuesen'\n",
       "8. 'whales'\n",
       "9. 'x'\n",
       "10. 'y'\n",
       "11. 'z'\n",
       "\n",
       "\n"
      ],
      "text/plain": [
       " [1] \"b\"       \"cnames\"  \"mydata\"  \"mytable\" \"numbers\" \"rnames\"  \"thuesen\"\n",
       " [8] \"whales\"  \"x\"       \"y\"       \"z\"      "
      ]
     },
     "metadata": {},
     "output_type": "display_data"
    }
   ],
   "source": [
    "ls()\n",
    "rm(a)\n",
    "ls()"
   ]
  },
  {
   "cell_type": "code",
   "execution_count": 50,
   "metadata": {
    "scrolled": true
   },
   "outputs": [
    {
     "data": {
      "text/html": [
       "'C:/Users/David Li/OneDrive/R/2020F'"
      ],
      "text/latex": [
       "'C:/Users/David Li/OneDrive/R/2020F'"
      ],
      "text/markdown": [
       "'C:/Users/David Li/OneDrive/R/2020F'"
      ],
      "text/plain": [
       "[1] \"C:/Users/David Li/OneDrive/R/2020F\""
      ]
     },
     "metadata": {},
     "output_type": "display_data"
    }
   ],
   "source": [
    "getwd()"
   ]
  },
  {
   "cell_type": "code",
   "execution_count": 142,
   "metadata": {},
   "outputs": [],
   "source": [
    "file.show(\"table.txt\")"
   ]
  },
  {
   "cell_type": "code",
   "execution_count": 143,
   "metadata": {},
   "outputs": [],
   "source": [
    "file.show(\"table.csv\")"
   ]
  },
  {
   "cell_type": "code",
   "execution_count": 53,
   "metadata": {},
   "outputs": [
    {
     "data": {
      "text/html": [
       "<pre class=language-r><code>function (file, header = FALSE, sep = \"\", quote = \"\\\"'\", dec = \".\", \n",
       "<span style=white-space:pre-wrap>    numerals = c(\"allow.loss\", \"warn.loss\", \"no.loss\"), row.names, </span>\n",
       "<span style=white-space:pre-wrap>    col.names, as.is = !stringsAsFactors, na.strings = \"NA\", </span>\n",
       "<span style=white-space:pre-wrap>    colClasses = NA, nrows = -1, skip = 0, check.names = TRUE, </span>\n",
       "<span style=white-space:pre-wrap>    fill = !blank.lines.skip, strip.white = FALSE, blank.lines.skip = TRUE, </span>\n",
       "<span style=white-space:pre-wrap>    comment.char = \"#\", allowEscapes = FALSE, flush = FALSE, </span>\n",
       "<span style=white-space:pre-wrap>    stringsAsFactors = default.stringsAsFactors(), fileEncoding = \"\", </span>\n",
       "<span style=white-space:pre-wrap>    encoding = \"unknown\", text, skipNul = FALSE) </span>\n",
       "{\n",
       "<span style=white-space:pre-wrap>    if (missing(file) &amp;&amp; !missing(text)) {</span>\n",
       "<span style=white-space:pre-wrap>        file &lt;- textConnection(text, encoding = \"UTF-8\")</span>\n",
       "<span style=white-space:pre-wrap>        encoding &lt;- \"UTF-8\"</span>\n",
       "<span style=white-space:pre-wrap>        on.exit(close(file))</span>\n",
       "<span style=white-space:pre-wrap>    }</span>\n",
       "<span style=white-space:pre-wrap>    if (is.character(file)) {</span>\n",
       "<span style=white-space:pre-wrap>        file &lt;- if (nzchar(fileEncoding)) </span>\n",
       "<span style=white-space:pre-wrap>            file(file, \"rt\", encoding = fileEncoding)</span>\n",
       "<span style=white-space:pre-wrap>        else file(file, \"rt\")</span>\n",
       "<span style=white-space:pre-wrap>        on.exit(close(file))</span>\n",
       "<span style=white-space:pre-wrap>    }</span>\n",
       "<span style=white-space:pre-wrap>    if (!inherits(file, \"connection\")) </span>\n",
       "<span style=white-space:pre-wrap>        stop(\"'file' must be a character string or connection\")</span>\n",
       "<span style=white-space:pre-wrap>    if (!isOpen(file, \"rt\")) {</span>\n",
       "<span style=white-space:pre-wrap>        open(file, \"rt\")</span>\n",
       "<span style=white-space:pre-wrap>        on.exit(close(file))</span>\n",
       "<span style=white-space:pre-wrap>    }</span>\n",
       "<span style=white-space:pre-wrap>    pbEncoding &lt;- if (encoding %in% c(\"\", \"bytes\", \"UTF-8\")) </span>\n",
       "<span style=white-space:pre-wrap>        encoding</span>\n",
       "<span style=white-space:pre-wrap>    else \"bytes\"</span>\n",
       "<span style=white-space:pre-wrap>    numerals &lt;- match.arg(numerals)</span>\n",
       "<span style=white-space:pre-wrap>    if (skip &gt; 0L) </span>\n",
       "<span style=white-space:pre-wrap>        readLines(file, skip)</span>\n",
       "<span style=white-space:pre-wrap>    nlines &lt;- n0lines &lt;- if (nrows &lt; 0L) </span>\n",
       "<span style=white-space:pre-wrap>        5</span>\n",
       "<span style=white-space:pre-wrap>    else min(5L, (header + nrows))</span>\n",
       "<span style=white-space:pre-wrap>    lines &lt;- .External(C_readtablehead, file, nlines, comment.char, </span>\n",
       "<span style=white-space:pre-wrap>        blank.lines.skip, quote, sep, skipNul)</span>\n",
       "<span style=white-space:pre-wrap>    if (encoding %in% c(\"UTF-8\", \"latin1\")) </span>\n",
       "<span style=white-space:pre-wrap>        Encoding(lines) &lt;- encoding</span>\n",
       "<span style=white-space:pre-wrap>    nlines &lt;- length(lines)</span>\n",
       "<span style=white-space:pre-wrap>    if (!nlines) {</span>\n",
       "<span style=white-space:pre-wrap>        if (missing(col.names)) </span>\n",
       "<span style=white-space:pre-wrap>            stop(\"no lines available in input\")</span>\n",
       "<span style=white-space:pre-wrap>        rlabp &lt;- FALSE</span>\n",
       "<span style=white-space:pre-wrap>        cols &lt;- length(col.names)</span>\n",
       "<span style=white-space:pre-wrap>    }</span>\n",
       "<span style=white-space:pre-wrap>    else {</span>\n",
       "<span style=white-space:pre-wrap>        if (all(!nzchar(lines))) </span>\n",
       "<span style=white-space:pre-wrap>            stop(\"empty beginning of file\")</span>\n",
       "<span style=white-space:pre-wrap>        if (nlines &lt; n0lines &amp;&amp; file == 0L) {</span>\n",
       "<span style=white-space:pre-wrap>            pushBack(c(lines, lines, \"\"), file, encoding = pbEncoding)</span>\n",
       "<span style=white-space:pre-wrap>            on.exit((clearPushBack(stdin())))</span>\n",
       "<span style=white-space:pre-wrap>        }</span>\n",
       "<span style=white-space:pre-wrap>        else pushBack(c(lines, lines), file, encoding = pbEncoding)</span>\n",
       "<span style=white-space:pre-wrap>        first &lt;- scan(file, what = \"\", sep = sep, quote = quote, </span>\n",
       "<span style=white-space:pre-wrap>            nlines = 1, quiet = TRUE, skip = 0, strip.white = TRUE, </span>\n",
       "<span style=white-space:pre-wrap>            blank.lines.skip = blank.lines.skip, comment.char = comment.char, </span>\n",
       "<span style=white-space:pre-wrap>            allowEscapes = allowEscapes, encoding = encoding, </span>\n",
       "<span style=white-space:pre-wrap>            skipNul = skipNul)</span>\n",
       "<span style=white-space:pre-wrap>        col1 &lt;- if (missing(col.names)) </span>\n",
       "<span style=white-space:pre-wrap>            length(first)</span>\n",
       "<span style=white-space:pre-wrap>        else length(col.names)</span>\n",
       "<span style=white-space:pre-wrap>        col &lt;- numeric(nlines - 1L)</span>\n",
       "<span style=white-space:pre-wrap>        if (nlines &gt; 1L) </span>\n",
       "<span style=white-space:pre-wrap>            for (i in seq_along(col)) col[i] &lt;- length(scan(file, </span>\n",
       "<span style=white-space:pre-wrap>                what = \"\", sep = sep, quote = quote, nlines = 1, </span>\n",
       "<span style=white-space:pre-wrap>                quiet = TRUE, skip = 0, strip.white = strip.white, </span>\n",
       "<span style=white-space:pre-wrap>                blank.lines.skip = blank.lines.skip, comment.char = comment.char, </span>\n",
       "<span style=white-space:pre-wrap>                allowEscapes = allowEscapes, encoding = encoding, </span>\n",
       "<span style=white-space:pre-wrap>                skipNul = skipNul))</span>\n",
       "<span style=white-space:pre-wrap>        cols &lt;- max(col1, col)</span>\n",
       "<span style=white-space:pre-wrap>        rlabp &lt;- (cols - col1) == 1L</span>\n",
       "<span style=white-space:pre-wrap>        if (rlabp &amp;&amp; missing(header)) </span>\n",
       "<span style=white-space:pre-wrap>            header &lt;- TRUE</span>\n",
       "<span style=white-space:pre-wrap>        if (!header) </span>\n",
       "<span style=white-space:pre-wrap>            rlabp &lt;- FALSE</span>\n",
       "<span style=white-space:pre-wrap>        if (header) {</span>\n",
       "<span style=white-space:pre-wrap>            .External(C_readtablehead, file, 1L, comment.char, </span>\n",
       "<span style=white-space:pre-wrap>                blank.lines.skip, quote, sep, skipNul)</span>\n",
       "<span style=white-space:pre-wrap>            if (missing(col.names)) </span>\n",
       "<span style=white-space:pre-wrap>                col.names &lt;- first</span>\n",
       "<span style=white-space:pre-wrap>            else if (length(first) != length(col.names)) </span>\n",
       "<span style=white-space:pre-wrap>                warning(\"header and 'col.names' are of different lengths\")</span>\n",
       "<span style=white-space:pre-wrap>        }</span>\n",
       "<span style=white-space:pre-wrap>        else if (missing(col.names)) </span>\n",
       "<span style=white-space:pre-wrap>            col.names &lt;- paste0(\"V\", 1L:cols)</span>\n",
       "<span style=white-space:pre-wrap>        if (length(col.names) + rlabp &lt; cols) </span>\n",
       "<span style=white-space:pre-wrap>            stop(\"more columns than column names\")</span>\n",
       "<span style=white-space:pre-wrap>        if (fill &amp;&amp; length(col.names) &gt; cols) </span>\n",
       "<span style=white-space:pre-wrap>            cols &lt;- length(col.names)</span>\n",
       "<span style=white-space:pre-wrap>        if (!fill &amp;&amp; cols &gt; 0L &amp;&amp; length(col.names) &gt; cols) </span>\n",
       "<span style=white-space:pre-wrap>            stop(\"more column names than columns\")</span>\n",
       "<span style=white-space:pre-wrap>        if (cols == 0L) </span>\n",
       "<span style=white-space:pre-wrap>            stop(\"first five rows are empty: giving up\")</span>\n",
       "<span style=white-space:pre-wrap>    }</span>\n",
       "<span style=white-space:pre-wrap>    if (check.names) </span>\n",
       "<span style=white-space:pre-wrap>        col.names &lt;- make.names(col.names, unique = TRUE)</span>\n",
       "<span style=white-space:pre-wrap>    if (rlabp) </span>\n",
       "<span style=white-space:pre-wrap>        col.names &lt;- c(\"row.names\", col.names)</span>\n",
       "<span style=white-space:pre-wrap>    nmColClasses &lt;- names(colClasses)</span>\n",
       "<span style=white-space:pre-wrap>    if (is.null(nmColClasses)) {</span>\n",
       "<span style=white-space:pre-wrap>        if (length(colClasses) &lt; cols) </span>\n",
       "<span style=white-space:pre-wrap>            colClasses &lt;- rep_len(colClasses, cols)</span>\n",
       "<span style=white-space:pre-wrap>    }</span>\n",
       "<span style=white-space:pre-wrap>    else {</span>\n",
       "<span style=white-space:pre-wrap>        tmp &lt;- rep_len(NA_character_, cols)</span>\n",
       "<span style=white-space:pre-wrap>        names(tmp) &lt;- col.names</span>\n",
       "<span style=white-space:pre-wrap>        i &lt;- match(nmColClasses, col.names, 0L)</span>\n",
       "<span style=white-space:pre-wrap>        if (any(i &lt;= 0L)) </span>\n",
       "<span style=white-space:pre-wrap>            warning(\"not all columns named in 'colClasses' exist\")</span>\n",
       "<span style=white-space:pre-wrap>        tmp[i[i &gt; 0L]] &lt;- colClasses[i &gt; 0L]</span>\n",
       "<span style=white-space:pre-wrap>        colClasses &lt;- tmp</span>\n",
       "<span style=white-space:pre-wrap>    }</span>\n",
       "<span style=white-space:pre-wrap>    what &lt;- rep.int(list(\"\"), cols)</span>\n",
       "<span style=white-space:pre-wrap>    names(what) &lt;- col.names</span>\n",
       "<span style=white-space:pre-wrap>    colClasses[colClasses %in% c(\"real\", \"double\")] &lt;- \"numeric\"</span>\n",
       "<span style=white-space:pre-wrap>    known &lt;- colClasses %in% c(\"logical\", \"integer\", \"numeric\", </span>\n",
       "<span style=white-space:pre-wrap>        \"complex\", \"character\", \"raw\")</span>\n",
       "<span style=white-space:pre-wrap>    what[known] &lt;- sapply(colClasses[known], do.call, list(0))</span>\n",
       "<span style=white-space:pre-wrap>    what[colClasses %in% \"NULL\"] &lt;- list(NULL)</span>\n",
       "<span style=white-space:pre-wrap>    keep &lt;- !sapply(what, is.null)</span>\n",
       "<span style=white-space:pre-wrap>    data &lt;- scan(file = file, what = what, sep = sep, quote = quote, </span>\n",
       "<span style=white-space:pre-wrap>        dec = dec, nmax = nrows, skip = 0, na.strings = na.strings, </span>\n",
       "<span style=white-space:pre-wrap>        quiet = TRUE, fill = fill, strip.white = strip.white, </span>\n",
       "<span style=white-space:pre-wrap>        blank.lines.skip = blank.lines.skip, multi.line = FALSE, </span>\n",
       "<span style=white-space:pre-wrap>        comment.char = comment.char, allowEscapes = allowEscapes, </span>\n",
       "<span style=white-space:pre-wrap>        flush = flush, encoding = encoding, skipNul = skipNul)</span>\n",
       "<span style=white-space:pre-wrap>    nlines &lt;- length(data[[which.max(keep)]])</span>\n",
       "<span style=white-space:pre-wrap>    if (cols != length(data)) {</span>\n",
       "<span style=white-space:pre-wrap>        warning(\"cols = \", cols, \" != length(data) = \", length(data), </span>\n",
       "<span style=white-space:pre-wrap>            domain = NA)</span>\n",
       "<span style=white-space:pre-wrap>        cols &lt;- length(data)</span>\n",
       "<span style=white-space:pre-wrap>    }</span>\n",
       "<span style=white-space:pre-wrap>    if (is.logical(as.is)) {</span>\n",
       "<span style=white-space:pre-wrap>        as.is &lt;- rep_len(as.is, cols)</span>\n",
       "<span style=white-space:pre-wrap>    }</span>\n",
       "<span style=white-space:pre-wrap>    else if (is.numeric(as.is)) {</span>\n",
       "<span style=white-space:pre-wrap>        if (any(as.is &lt; 1 | as.is &gt; cols)) </span>\n",
       "<span style=white-space:pre-wrap>            stop(\"invalid numeric 'as.is' expression\")</span>\n",
       "<span style=white-space:pre-wrap>        i &lt;- rep.int(FALSE, cols)</span>\n",
       "<span style=white-space:pre-wrap>        i[as.is] &lt;- TRUE</span>\n",
       "<span style=white-space:pre-wrap>        as.is &lt;- i</span>\n",
       "<span style=white-space:pre-wrap>    }</span>\n",
       "<span style=white-space:pre-wrap>    else if (is.character(as.is)) {</span>\n",
       "<span style=white-space:pre-wrap>        i &lt;- match(as.is, col.names, 0L)</span>\n",
       "<span style=white-space:pre-wrap>        if (any(i &lt;= 0L)) </span>\n",
       "<span style=white-space:pre-wrap>            warning(\"not all columns named in 'as.is' exist\")</span>\n",
       "<span style=white-space:pre-wrap>        i &lt;- i[i &gt; 0L]</span>\n",
       "<span style=white-space:pre-wrap>        as.is &lt;- rep.int(FALSE, cols)</span>\n",
       "<span style=white-space:pre-wrap>        as.is[i] &lt;- TRUE</span>\n",
       "<span style=white-space:pre-wrap>    }</span>\n",
       "<span style=white-space:pre-wrap>    else if (length(as.is) != cols) </span>\n",
       "<span style=white-space:pre-wrap>        stop(gettextf(\"'as.is' has the wrong length %d  != cols = %d\", </span>\n",
       "<span style=white-space:pre-wrap>            length(as.is), cols), domain = NA)</span>\n",
       "<span style=white-space:pre-wrap>    do &lt;- keep &amp; !known</span>\n",
       "<span style=white-space:pre-wrap>    if (rlabp) </span>\n",
       "<span style=white-space:pre-wrap>        do[1L] &lt;- FALSE</span>\n",
       "<span style=white-space:pre-wrap>    for (i in (1L:cols)[do]) {</span>\n",
       "<span style=white-space:pre-wrap>        data[[i]] &lt;- if (is.na(colClasses[i])) </span>\n",
       "<span style=white-space:pre-wrap>            type.convert(data[[i]], as.is = as.is[i], dec = dec, </span>\n",
       "<span style=white-space:pre-wrap>                numerals = numerals, na.strings = character(0L))</span>\n",
       "<span style=white-space:pre-wrap>        else if (colClasses[i] == \"factor\") </span>\n",
       "<span style=white-space:pre-wrap>            as.factor(data[[i]])</span>\n",
       "<span style=white-space:pre-wrap>        else if (colClasses[i] == \"Date\") </span>\n",
       "<span style=white-space:pre-wrap>            as.Date(data[[i]])</span>\n",
       "<span style=white-space:pre-wrap>        else if (colClasses[i] == \"POSIXct\") </span>\n",
       "<span style=white-space:pre-wrap>            as.POSIXct(data[[i]])</span>\n",
       "<span style=white-space:pre-wrap>        else methods::as(data[[i]], colClasses[i])</span>\n",
       "<span style=white-space:pre-wrap>    }</span>\n",
       "<span style=white-space:pre-wrap>    compactRN &lt;- TRUE</span>\n",
       "<span style=white-space:pre-wrap>    if (missing(row.names)) {</span>\n",
       "<span style=white-space:pre-wrap>        if (rlabp) {</span>\n",
       "<span style=white-space:pre-wrap>            row.names &lt;- data[[1L]]</span>\n",
       "<span style=white-space:pre-wrap>            data &lt;- data[-1L]</span>\n",
       "<span style=white-space:pre-wrap>            keep &lt;- keep[-1L]</span>\n",
       "<span style=white-space:pre-wrap>            compactRN &lt;- FALSE</span>\n",
       "<span style=white-space:pre-wrap>        }</span>\n",
       "<span style=white-space:pre-wrap>        else row.names &lt;- .set_row_names(as.integer(nlines))</span>\n",
       "<span style=white-space:pre-wrap>    }</span>\n",
       "<span style=white-space:pre-wrap>    else if (is.null(row.names)) {</span>\n",
       "<span style=white-space:pre-wrap>        row.names &lt;- .set_row_names(as.integer(nlines))</span>\n",
       "<span style=white-space:pre-wrap>    }</span>\n",
       "<span style=white-space:pre-wrap>    else if (is.character(row.names)) {</span>\n",
       "<span style=white-space:pre-wrap>        compactRN &lt;- FALSE</span>\n",
       "<span style=white-space:pre-wrap>        if (length(row.names) == 1L) {</span>\n",
       "<span style=white-space:pre-wrap>            rowvar &lt;- (1L:cols)[match(col.names, row.names, 0L) == </span>\n",
       "<span style=white-space:pre-wrap>                1L]</span>\n",
       "<span style=white-space:pre-wrap>            row.names &lt;- data[[rowvar]]</span>\n",
       "<span style=white-space:pre-wrap>            data &lt;- data[-rowvar]</span>\n",
       "<span style=white-space:pre-wrap>            keep &lt;- keep[-rowvar]</span>\n",
       "<span style=white-space:pre-wrap>        }</span>\n",
       "<span style=white-space:pre-wrap>    }</span>\n",
       "<span style=white-space:pre-wrap>    else if (is.numeric(row.names) &amp;&amp; length(row.names) == 1L) {</span>\n",
       "<span style=white-space:pre-wrap>        compactRN &lt;- FALSE</span>\n",
       "<span style=white-space:pre-wrap>        rlabp &lt;- row.names</span>\n",
       "<span style=white-space:pre-wrap>        row.names &lt;- data[[rlabp]]</span>\n",
       "<span style=white-space:pre-wrap>        data &lt;- data[-rlabp]</span>\n",
       "<span style=white-space:pre-wrap>        keep &lt;- keep[-rlabp]</span>\n",
       "<span style=white-space:pre-wrap>    }</span>\n",
       "<span style=white-space:pre-wrap>    else stop(\"invalid 'row.names' specification\")</span>\n",
       "<span style=white-space:pre-wrap>    data &lt;- data[keep]</span>\n",
       "<span style=white-space:pre-wrap>    if (is.object(row.names) || !(is.integer(row.names))) </span>\n",
       "<span style=white-space:pre-wrap>        row.names &lt;- as.character(row.names)</span>\n",
       "<span style=white-space:pre-wrap>    if (!compactRN) {</span>\n",
       "<span style=white-space:pre-wrap>        if (length(row.names) != nlines) </span>\n",
       "<span style=white-space:pre-wrap>            stop(\"invalid 'row.names' length\")</span>\n",
       "<span style=white-space:pre-wrap>        if (anyDuplicated(row.names)) </span>\n",
       "<span style=white-space:pre-wrap>            stop(\"duplicate 'row.names' are not allowed\")</span>\n",
       "<span style=white-space:pre-wrap>        if (anyNA(row.names)) </span>\n",
       "<span style=white-space:pre-wrap>            stop(\"missing values in 'row.names' are not allowed\")</span>\n",
       "<span style=white-space:pre-wrap>    }</span>\n",
       "<span style=white-space:pre-wrap>    class(data) &lt;- \"data.frame\"</span>\n",
       "<span style=white-space:pre-wrap>    attr(data, \"row.names\") &lt;- row.names</span>\n",
       "<span style=white-space:pre-wrap>    data</span>\n",
       "}</code></pre>"
      ],
      "text/latex": [
       "\\begin{minted}{r}\n",
       "function (file, header = FALSE, sep = \"\", quote = \"\\textbackslash{}\"'\", dec = \".\", \n",
       "    numerals = c(\"allow.loss\", \"warn.loss\", \"no.loss\"), row.names, \n",
       "    col.names, as.is = !stringsAsFactors, na.strings = \"NA\", \n",
       "    colClasses = NA, nrows = -1, skip = 0, check.names = TRUE, \n",
       "    fill = !blank.lines.skip, strip.white = FALSE, blank.lines.skip = TRUE, \n",
       "    comment.char = \"\\#\", allowEscapes = FALSE, flush = FALSE, \n",
       "    stringsAsFactors = default.stringsAsFactors(), fileEncoding = \"\", \n",
       "    encoding = \"unknown\", text, skipNul = FALSE) \n",
       "\\{\n",
       "    if (missing(file) \\&\\& !missing(text)) \\{\n",
       "        file <- textConnection(text, encoding = \"UTF-8\")\n",
       "        encoding <- \"UTF-8\"\n",
       "        on.exit(close(file))\n",
       "    \\}\n",
       "    if (is.character(file)) \\{\n",
       "        file <- if (nzchar(fileEncoding)) \n",
       "            file(file, \"rt\", encoding = fileEncoding)\n",
       "        else file(file, \"rt\")\n",
       "        on.exit(close(file))\n",
       "    \\}\n",
       "    if (!inherits(file, \"connection\")) \n",
       "        stop(\"'file' must be a character string or connection\")\n",
       "    if (!isOpen(file, \"rt\")) \\{\n",
       "        open(file, \"rt\")\n",
       "        on.exit(close(file))\n",
       "    \\}\n",
       "    pbEncoding <- if (encoding \\%in\\% c(\"\", \"bytes\", \"UTF-8\")) \n",
       "        encoding\n",
       "    else \"bytes\"\n",
       "    numerals <- match.arg(numerals)\n",
       "    if (skip > 0L) \n",
       "        readLines(file, skip)\n",
       "    nlines <- n0lines <- if (nrows < 0L) \n",
       "        5\n",
       "    else min(5L, (header + nrows))\n",
       "    lines <- .External(C\\_readtablehead, file, nlines, comment.char, \n",
       "        blank.lines.skip, quote, sep, skipNul)\n",
       "    if (encoding \\%in\\% c(\"UTF-8\", \"latin1\")) \n",
       "        Encoding(lines) <- encoding\n",
       "    nlines <- length(lines)\n",
       "    if (!nlines) \\{\n",
       "        if (missing(col.names)) \n",
       "            stop(\"no lines available in input\")\n",
       "        rlabp <- FALSE\n",
       "        cols <- length(col.names)\n",
       "    \\}\n",
       "    else \\{\n",
       "        if (all(!nzchar(lines))) \n",
       "            stop(\"empty beginning of file\")\n",
       "        if (nlines < n0lines \\&\\& file == 0L) \\{\n",
       "            pushBack(c(lines, lines, \"\"), file, encoding = pbEncoding)\n",
       "            on.exit((clearPushBack(stdin())))\n",
       "        \\}\n",
       "        else pushBack(c(lines, lines), file, encoding = pbEncoding)\n",
       "        first <- scan(file, what = \"\", sep = sep, quote = quote, \n",
       "            nlines = 1, quiet = TRUE, skip = 0, strip.white = TRUE, \n",
       "            blank.lines.skip = blank.lines.skip, comment.char = comment.char, \n",
       "            allowEscapes = allowEscapes, encoding = encoding, \n",
       "            skipNul = skipNul)\n",
       "        col1 <- if (missing(col.names)) \n",
       "            length(first)\n",
       "        else length(col.names)\n",
       "        col <- numeric(nlines - 1L)\n",
       "        if (nlines > 1L) \n",
       "            for (i in seq\\_along(col)) col{[}i{]} <- length(scan(file, \n",
       "                what = \"\", sep = sep, quote = quote, nlines = 1, \n",
       "                quiet = TRUE, skip = 0, strip.white = strip.white, \n",
       "                blank.lines.skip = blank.lines.skip, comment.char = comment.char, \n",
       "                allowEscapes = allowEscapes, encoding = encoding, \n",
       "                skipNul = skipNul))\n",
       "        cols <- max(col1, col)\n",
       "        rlabp <- (cols - col1) == 1L\n",
       "        if (rlabp \\&\\& missing(header)) \n",
       "            header <- TRUE\n",
       "        if (!header) \n",
       "            rlabp <- FALSE\n",
       "        if (header) \\{\n",
       "            .External(C\\_readtablehead, file, 1L, comment.char, \n",
       "                blank.lines.skip, quote, sep, skipNul)\n",
       "            if (missing(col.names)) \n",
       "                col.names <- first\n",
       "            else if (length(first) != length(col.names)) \n",
       "                warning(\"header and 'col.names' are of different lengths\")\n",
       "        \\}\n",
       "        else if (missing(col.names)) \n",
       "            col.names <- paste0(\"V\", 1L:cols)\n",
       "        if (length(col.names) + rlabp < cols) \n",
       "            stop(\"more columns than column names\")\n",
       "        if (fill \\&\\& length(col.names) > cols) \n",
       "            cols <- length(col.names)\n",
       "        if (!fill \\&\\& cols > 0L \\&\\& length(col.names) > cols) \n",
       "            stop(\"more column names than columns\")\n",
       "        if (cols == 0L) \n",
       "            stop(\"first five rows are empty: giving up\")\n",
       "    \\}\n",
       "    if (check.names) \n",
       "        col.names <- make.names(col.names, unique = TRUE)\n",
       "    if (rlabp) \n",
       "        col.names <- c(\"row.names\", col.names)\n",
       "    nmColClasses <- names(colClasses)\n",
       "    if (is.null(nmColClasses)) \\{\n",
       "        if (length(colClasses) < cols) \n",
       "            colClasses <- rep\\_len(colClasses, cols)\n",
       "    \\}\n",
       "    else \\{\n",
       "        tmp <- rep\\_len(NA\\_character\\_, cols)\n",
       "        names(tmp) <- col.names\n",
       "        i <- match(nmColClasses, col.names, 0L)\n",
       "        if (any(i <= 0L)) \n",
       "            warning(\"not all columns named in 'colClasses' exist\")\n",
       "        tmp{[}i{[}i > 0L{]}{]} <- colClasses{[}i > 0L{]}\n",
       "        colClasses <- tmp\n",
       "    \\}\n",
       "    what <- rep.int(list(\"\"), cols)\n",
       "    names(what) <- col.names\n",
       "    colClasses{[}colClasses \\%in\\% c(\"real\", \"double\"){]} <- \"numeric\"\n",
       "    known <- colClasses \\%in\\% c(\"logical\", \"integer\", \"numeric\", \n",
       "        \"complex\", \"character\", \"raw\")\n",
       "    what{[}known{]} <- sapply(colClasses{[}known{]}, do.call, list(0))\n",
       "    what{[}colClasses \\%in\\% \"NULL\"{]} <- list(NULL)\n",
       "    keep <- !sapply(what, is.null)\n",
       "    data <- scan(file = file, what = what, sep = sep, quote = quote, \n",
       "        dec = dec, nmax = nrows, skip = 0, na.strings = na.strings, \n",
       "        quiet = TRUE, fill = fill, strip.white = strip.white, \n",
       "        blank.lines.skip = blank.lines.skip, multi.line = FALSE, \n",
       "        comment.char = comment.char, allowEscapes = allowEscapes, \n",
       "        flush = flush, encoding = encoding, skipNul = skipNul)\n",
       "    nlines <- length(data{[}{[}which.max(keep){]}{]})\n",
       "    if (cols != length(data)) \\{\n",
       "        warning(\"cols = \", cols, \" != length(data) = \", length(data), \n",
       "            domain = NA)\n",
       "        cols <- length(data)\n",
       "    \\}\n",
       "    if (is.logical(as.is)) \\{\n",
       "        as.is <- rep\\_len(as.is, cols)\n",
       "    \\}\n",
       "    else if (is.numeric(as.is)) \\{\n",
       "        if (any(as.is < 1 \\textbar{} as.is > cols)) \n",
       "            stop(\"invalid numeric 'as.is' expression\")\n",
       "        i <- rep.int(FALSE, cols)\n",
       "        i{[}as.is{]} <- TRUE\n",
       "        as.is <- i\n",
       "    \\}\n",
       "    else if (is.character(as.is)) \\{\n",
       "        i <- match(as.is, col.names, 0L)\n",
       "        if (any(i <= 0L)) \n",
       "            warning(\"not all columns named in 'as.is' exist\")\n",
       "        i <- i{[}i > 0L{]}\n",
       "        as.is <- rep.int(FALSE, cols)\n",
       "        as.is{[}i{]} <- TRUE\n",
       "    \\}\n",
       "    else if (length(as.is) != cols) \n",
       "        stop(gettextf(\"'as.is' has the wrong length \\%d  != cols = \\%d\", \n",
       "            length(as.is), cols), domain = NA)\n",
       "    do <- keep \\& !known\n",
       "    if (rlabp) \n",
       "        do{[}1L{]} <- FALSE\n",
       "    for (i in (1L:cols){[}do{]}) \\{\n",
       "        data{[}{[}i{]}{]} <- if (is.na(colClasses{[}i{]})) \n",
       "            type.convert(data{[}{[}i{]}{]}, as.is = as.is{[}i{]}, dec = dec, \n",
       "                numerals = numerals, na.strings = character(0L))\n",
       "        else if (colClasses{[}i{]} == \"factor\") \n",
       "            as.factor(data{[}{[}i{]}{]})\n",
       "        else if (colClasses{[}i{]} == \"Date\") \n",
       "            as.Date(data{[}{[}i{]}{]})\n",
       "        else if (colClasses{[}i{]} == \"POSIXct\") \n",
       "            as.POSIXct(data{[}{[}i{]}{]})\n",
       "        else methods::as(data{[}{[}i{]}{]}, colClasses{[}i{]})\n",
       "    \\}\n",
       "    compactRN <- TRUE\n",
       "    if (missing(row.names)) \\{\n",
       "        if (rlabp) \\{\n",
       "            row.names <- data{[}{[}1L{]}{]}\n",
       "            data <- data{[}-1L{]}\n",
       "            keep <- keep{[}-1L{]}\n",
       "            compactRN <- FALSE\n",
       "        \\}\n",
       "        else row.names <- .set\\_row\\_names(as.integer(nlines))\n",
       "    \\}\n",
       "    else if (is.null(row.names)) \\{\n",
       "        row.names <- .set\\_row\\_names(as.integer(nlines))\n",
       "    \\}\n",
       "    else if (is.character(row.names)) \\{\n",
       "        compactRN <- FALSE\n",
       "        if (length(row.names) == 1L) \\{\n",
       "            rowvar <- (1L:cols){[}match(col.names, row.names, 0L) == \n",
       "                1L{]}\n",
       "            row.names <- data{[}{[}rowvar{]}{]}\n",
       "            data <- data{[}-rowvar{]}\n",
       "            keep <- keep{[}-rowvar{]}\n",
       "        \\}\n",
       "    \\}\n",
       "    else if (is.numeric(row.names) \\&\\& length(row.names) == 1L) \\{\n",
       "        compactRN <- FALSE\n",
       "        rlabp <- row.names\n",
       "        row.names <- data{[}{[}rlabp{]}{]}\n",
       "        data <- data{[}-rlabp{]}\n",
       "        keep <- keep{[}-rlabp{]}\n",
       "    \\}\n",
       "    else stop(\"invalid 'row.names' specification\")\n",
       "    data <- data{[}keep{]}\n",
       "    if (is.object(row.names) \\textbar{}\\textbar{} !(is.integer(row.names))) \n",
       "        row.names <- as.character(row.names)\n",
       "    if (!compactRN) \\{\n",
       "        if (length(row.names) != nlines) \n",
       "            stop(\"invalid 'row.names' length\")\n",
       "        if (anyDuplicated(row.names)) \n",
       "            stop(\"duplicate 'row.names' are not allowed\")\n",
       "        if (anyNA(row.names)) \n",
       "            stop(\"missing values in 'row.names' are not allowed\")\n",
       "    \\}\n",
       "    class(data) <- \"data.frame\"\n",
       "    attr(data, \"row.names\") <- row.names\n",
       "    data\n",
       "\\}\n",
       "\\end{minted}"
      ],
      "text/markdown": [
       "```r\n",
       "function (file, header = FALSE, sep = \"\", quote = \"\\\"'\", dec = \".\", \n",
       "    numerals = c(\"allow.loss\", \"warn.loss\", \"no.loss\"), row.names, \n",
       "    col.names, as.is = !stringsAsFactors, na.strings = \"NA\", \n",
       "    colClasses = NA, nrows = -1, skip = 0, check.names = TRUE, \n",
       "    fill = !blank.lines.skip, strip.white = FALSE, blank.lines.skip = TRUE, \n",
       "    comment.char = \"#\", allowEscapes = FALSE, flush = FALSE, \n",
       "    stringsAsFactors = default.stringsAsFactors(), fileEncoding = \"\", \n",
       "    encoding = \"unknown\", text, skipNul = FALSE) \n",
       "{\n",
       "    if (missing(file) && !missing(text)) {\n",
       "        file <- textConnection(text, encoding = \"UTF-8\")\n",
       "        encoding <- \"UTF-8\"\n",
       "        on.exit(close(file))\n",
       "    }\n",
       "    if (is.character(file)) {\n",
       "        file <- if (nzchar(fileEncoding)) \n",
       "            file(file, \"rt\", encoding = fileEncoding)\n",
       "        else file(file, \"rt\")\n",
       "        on.exit(close(file))\n",
       "    }\n",
       "    if (!inherits(file, \"connection\")) \n",
       "        stop(\"'file' must be a character string or connection\")\n",
       "    if (!isOpen(file, \"rt\")) {\n",
       "        open(file, \"rt\")\n",
       "        on.exit(close(file))\n",
       "    }\n",
       "    pbEncoding <- if (encoding %in% c(\"\", \"bytes\", \"UTF-8\")) \n",
       "        encoding\n",
       "    else \"bytes\"\n",
       "    numerals <- match.arg(numerals)\n",
       "    if (skip > 0L) \n",
       "        readLines(file, skip)\n",
       "    nlines <- n0lines <- if (nrows < 0L) \n",
       "        5\n",
       "    else min(5L, (header + nrows))\n",
       "    lines <- .External(C_readtablehead, file, nlines, comment.char, \n",
       "        blank.lines.skip, quote, sep, skipNul)\n",
       "    if (encoding %in% c(\"UTF-8\", \"latin1\")) \n",
       "        Encoding(lines) <- encoding\n",
       "    nlines <- length(lines)\n",
       "    if (!nlines) {\n",
       "        if (missing(col.names)) \n",
       "            stop(\"no lines available in input\")\n",
       "        rlabp <- FALSE\n",
       "        cols <- length(col.names)\n",
       "    }\n",
       "    else {\n",
       "        if (all(!nzchar(lines))) \n",
       "            stop(\"empty beginning of file\")\n",
       "        if (nlines < n0lines && file == 0L) {\n",
       "            pushBack(c(lines, lines, \"\"), file, encoding = pbEncoding)\n",
       "            on.exit((clearPushBack(stdin())))\n",
       "        }\n",
       "        else pushBack(c(lines, lines), file, encoding = pbEncoding)\n",
       "        first <- scan(file, what = \"\", sep = sep, quote = quote, \n",
       "            nlines = 1, quiet = TRUE, skip = 0, strip.white = TRUE, \n",
       "            blank.lines.skip = blank.lines.skip, comment.char = comment.char, \n",
       "            allowEscapes = allowEscapes, encoding = encoding, \n",
       "            skipNul = skipNul)\n",
       "        col1 <- if (missing(col.names)) \n",
       "            length(first)\n",
       "        else length(col.names)\n",
       "        col <- numeric(nlines - 1L)\n",
       "        if (nlines > 1L) \n",
       "            for (i in seq_along(col)) col[i] <- length(scan(file, \n",
       "                what = \"\", sep = sep, quote = quote, nlines = 1, \n",
       "                quiet = TRUE, skip = 0, strip.white = strip.white, \n",
       "                blank.lines.skip = blank.lines.skip, comment.char = comment.char, \n",
       "                allowEscapes = allowEscapes, encoding = encoding, \n",
       "                skipNul = skipNul))\n",
       "        cols <- max(col1, col)\n",
       "        rlabp <- (cols - col1) == 1L\n",
       "        if (rlabp && missing(header)) \n",
       "            header <- TRUE\n",
       "        if (!header) \n",
       "            rlabp <- FALSE\n",
       "        if (header) {\n",
       "            .External(C_readtablehead, file, 1L, comment.char, \n",
       "                blank.lines.skip, quote, sep, skipNul)\n",
       "            if (missing(col.names)) \n",
       "                col.names <- first\n",
       "            else if (length(first) != length(col.names)) \n",
       "                warning(\"header and 'col.names' are of different lengths\")\n",
       "        }\n",
       "        else if (missing(col.names)) \n",
       "            col.names <- paste0(\"V\", 1L:cols)\n",
       "        if (length(col.names) + rlabp < cols) \n",
       "            stop(\"more columns than column names\")\n",
       "        if (fill && length(col.names) > cols) \n",
       "            cols <- length(col.names)\n",
       "        if (!fill && cols > 0L && length(col.names) > cols) \n",
       "            stop(\"more column names than columns\")\n",
       "        if (cols == 0L) \n",
       "            stop(\"first five rows are empty: giving up\")\n",
       "    }\n",
       "    if (check.names) \n",
       "        col.names <- make.names(col.names, unique = TRUE)\n",
       "    if (rlabp) \n",
       "        col.names <- c(\"row.names\", col.names)\n",
       "    nmColClasses <- names(colClasses)\n",
       "    if (is.null(nmColClasses)) {\n",
       "        if (length(colClasses) < cols) \n",
       "            colClasses <- rep_len(colClasses, cols)\n",
       "    }\n",
       "    else {\n",
       "        tmp <- rep_len(NA_character_, cols)\n",
       "        names(tmp) <- col.names\n",
       "        i <- match(nmColClasses, col.names, 0L)\n",
       "        if (any(i <= 0L)) \n",
       "            warning(\"not all columns named in 'colClasses' exist\")\n",
       "        tmp[i[i > 0L]] <- colClasses[i > 0L]\n",
       "        colClasses <- tmp\n",
       "    }\n",
       "    what <- rep.int(list(\"\"), cols)\n",
       "    names(what) <- col.names\n",
       "    colClasses[colClasses %in% c(\"real\", \"double\")] <- \"numeric\"\n",
       "    known <- colClasses %in% c(\"logical\", \"integer\", \"numeric\", \n",
       "        \"complex\", \"character\", \"raw\")\n",
       "    what[known] <- sapply(colClasses[known], do.call, list(0))\n",
       "    what[colClasses %in% \"NULL\"] <- list(NULL)\n",
       "    keep <- !sapply(what, is.null)\n",
       "    data <- scan(file = file, what = what, sep = sep, quote = quote, \n",
       "        dec = dec, nmax = nrows, skip = 0, na.strings = na.strings, \n",
       "        quiet = TRUE, fill = fill, strip.white = strip.white, \n",
       "        blank.lines.skip = blank.lines.skip, multi.line = FALSE, \n",
       "        comment.char = comment.char, allowEscapes = allowEscapes, \n",
       "        flush = flush, encoding = encoding, skipNul = skipNul)\n",
       "    nlines <- length(data[[which.max(keep)]])\n",
       "    if (cols != length(data)) {\n",
       "        warning(\"cols = \", cols, \" != length(data) = \", length(data), \n",
       "            domain = NA)\n",
       "        cols <- length(data)\n",
       "    }\n",
       "    if (is.logical(as.is)) {\n",
       "        as.is <- rep_len(as.is, cols)\n",
       "    }\n",
       "    else if (is.numeric(as.is)) {\n",
       "        if (any(as.is < 1 | as.is > cols)) \n",
       "            stop(\"invalid numeric 'as.is' expression\")\n",
       "        i <- rep.int(FALSE, cols)\n",
       "        i[as.is] <- TRUE\n",
       "        as.is <- i\n",
       "    }\n",
       "    else if (is.character(as.is)) {\n",
       "        i <- match(as.is, col.names, 0L)\n",
       "        if (any(i <= 0L)) \n",
       "            warning(\"not all columns named in 'as.is' exist\")\n",
       "        i <- i[i > 0L]\n",
       "        as.is <- rep.int(FALSE, cols)\n",
       "        as.is[i] <- TRUE\n",
       "    }\n",
       "    else if (length(as.is) != cols) \n",
       "        stop(gettextf(\"'as.is' has the wrong length %d  != cols = %d\", \n",
       "            length(as.is), cols), domain = NA)\n",
       "    do <- keep & !known\n",
       "    if (rlabp) \n",
       "        do[1L] <- FALSE\n",
       "    for (i in (1L:cols)[do]) {\n",
       "        data[[i]] <- if (is.na(colClasses[i])) \n",
       "            type.convert(data[[i]], as.is = as.is[i], dec = dec, \n",
       "                numerals = numerals, na.strings = character(0L))\n",
       "        else if (colClasses[i] == \"factor\") \n",
       "            as.factor(data[[i]])\n",
       "        else if (colClasses[i] == \"Date\") \n",
       "            as.Date(data[[i]])\n",
       "        else if (colClasses[i] == \"POSIXct\") \n",
       "            as.POSIXct(data[[i]])\n",
       "        else methods::as(data[[i]], colClasses[i])\n",
       "    }\n",
       "    compactRN <- TRUE\n",
       "    if (missing(row.names)) {\n",
       "        if (rlabp) {\n",
       "            row.names <- data[[1L]]\n",
       "            data <- data[-1L]\n",
       "            keep <- keep[-1L]\n",
       "            compactRN <- FALSE\n",
       "        }\n",
       "        else row.names <- .set_row_names(as.integer(nlines))\n",
       "    }\n",
       "    else if (is.null(row.names)) {\n",
       "        row.names <- .set_row_names(as.integer(nlines))\n",
       "    }\n",
       "    else if (is.character(row.names)) {\n",
       "        compactRN <- FALSE\n",
       "        if (length(row.names) == 1L) {\n",
       "            rowvar <- (1L:cols)[match(col.names, row.names, 0L) == \n",
       "                1L]\n",
       "            row.names <- data[[rowvar]]\n",
       "            data <- data[-rowvar]\n",
       "            keep <- keep[-rowvar]\n",
       "        }\n",
       "    }\n",
       "    else if (is.numeric(row.names) && length(row.names) == 1L) {\n",
       "        compactRN <- FALSE\n",
       "        rlabp <- row.names\n",
       "        row.names <- data[[rlabp]]\n",
       "        data <- data[-rlabp]\n",
       "        keep <- keep[-rlabp]\n",
       "    }\n",
       "    else stop(\"invalid 'row.names' specification\")\n",
       "    data <- data[keep]\n",
       "    if (is.object(row.names) || !(is.integer(row.names))) \n",
       "        row.names <- as.character(row.names)\n",
       "    if (!compactRN) {\n",
       "        if (length(row.names) != nlines) \n",
       "            stop(\"invalid 'row.names' length\")\n",
       "        if (anyDuplicated(row.names)) \n",
       "            stop(\"duplicate 'row.names' are not allowed\")\n",
       "        if (anyNA(row.names)) \n",
       "            stop(\"missing values in 'row.names' are not allowed\")\n",
       "    }\n",
       "    class(data) <- \"data.frame\"\n",
       "    attr(data, \"row.names\") <- row.names\n",
       "    data\n",
       "}\n",
       "```"
      ],
      "text/plain": [
       "function (file, header = FALSE, sep = \"\", quote = \"\\\"'\", dec = \".\", \n",
       "    numerals = c(\"allow.loss\", \"warn.loss\", \"no.loss\"), row.names, \n",
       "    col.names, as.is = !stringsAsFactors, na.strings = \"NA\", \n",
       "    colClasses = NA, nrows = -1, skip = 0, check.names = TRUE, \n",
       "    fill = !blank.lines.skip, strip.white = FALSE, blank.lines.skip = TRUE, \n",
       "    comment.char = \"#\", allowEscapes = FALSE, flush = FALSE, \n",
       "    stringsAsFactors = default.stringsAsFactors(), fileEncoding = \"\", \n",
       "    encoding = \"unknown\", text, skipNul = FALSE) \n",
       "{\n",
       "    if (missing(file) && !missing(text)) {\n",
       "        file <- textConnection(text, encoding = \"UTF-8\")\n",
       "        encoding <- \"UTF-8\"\n",
       "        on.exit(close(file))\n",
       "    }\n",
       "    if (is.character(file)) {\n",
       "        file <- if (nzchar(fileEncoding)) \n",
       "            file(file, \"rt\", encoding = fileEncoding)\n",
       "        else file(file, \"rt\")\n",
       "        on.exit(close(file))\n",
       "    }\n",
       "    if (!inherits(file, \"connection\")) \n",
       "        stop(\"'file' must be a character string or connection\")\n",
       "    if (!isOpen(file, \"rt\")) {\n",
       "        open(file, \"rt\")\n",
       "        on.exit(close(file))\n",
       "    }\n",
       "    pbEncoding <- if (encoding %in% c(\"\", \"bytes\", \"UTF-8\")) \n",
       "        encoding\n",
       "    else \"bytes\"\n",
       "    numerals <- match.arg(numerals)\n",
       "    if (skip > 0L) \n",
       "        readLines(file, skip)\n",
       "    nlines <- n0lines <- if (nrows < 0L) \n",
       "        5\n",
       "    else min(5L, (header + nrows))\n",
       "    lines <- .External(C_readtablehead, file, nlines, comment.char, \n",
       "        blank.lines.skip, quote, sep, skipNul)\n",
       "    if (encoding %in% c(\"UTF-8\", \"latin1\")) \n",
       "        Encoding(lines) <- encoding\n",
       "    nlines <- length(lines)\n",
       "    if (!nlines) {\n",
       "        if (missing(col.names)) \n",
       "            stop(\"no lines available in input\")\n",
       "        rlabp <- FALSE\n",
       "        cols <- length(col.names)\n",
       "    }\n",
       "    else {\n",
       "        if (all(!nzchar(lines))) \n",
       "            stop(\"empty beginning of file\")\n",
       "        if (nlines < n0lines && file == 0L) {\n",
       "            pushBack(c(lines, lines, \"\"), file, encoding = pbEncoding)\n",
       "            on.exit((clearPushBack(stdin())))\n",
       "        }\n",
       "        else pushBack(c(lines, lines), file, encoding = pbEncoding)\n",
       "        first <- scan(file, what = \"\", sep = sep, quote = quote, \n",
       "            nlines = 1, quiet = TRUE, skip = 0, strip.white = TRUE, \n",
       "            blank.lines.skip = blank.lines.skip, comment.char = comment.char, \n",
       "            allowEscapes = allowEscapes, encoding = encoding, \n",
       "            skipNul = skipNul)\n",
       "        col1 <- if (missing(col.names)) \n",
       "            length(first)\n",
       "        else length(col.names)\n",
       "        col <- numeric(nlines - 1L)\n",
       "        if (nlines > 1L) \n",
       "            for (i in seq_along(col)) col[i] <- length(scan(file, \n",
       "                what = \"\", sep = sep, quote = quote, nlines = 1, \n",
       "                quiet = TRUE, skip = 0, strip.white = strip.white, \n",
       "                blank.lines.skip = blank.lines.skip, comment.char = comment.char, \n",
       "                allowEscapes = allowEscapes, encoding = encoding, \n",
       "                skipNul = skipNul))\n",
       "        cols <- max(col1, col)\n",
       "        rlabp <- (cols - col1) == 1L\n",
       "        if (rlabp && missing(header)) \n",
       "            header <- TRUE\n",
       "        if (!header) \n",
       "            rlabp <- FALSE\n",
       "        if (header) {\n",
       "            .External(C_readtablehead, file, 1L, comment.char, \n",
       "                blank.lines.skip, quote, sep, skipNul)\n",
       "            if (missing(col.names)) \n",
       "                col.names <- first\n",
       "            else if (length(first) != length(col.names)) \n",
       "                warning(\"header and 'col.names' are of different lengths\")\n",
       "        }\n",
       "        else if (missing(col.names)) \n",
       "            col.names <- paste0(\"V\", 1L:cols)\n",
       "        if (length(col.names) + rlabp < cols) \n",
       "            stop(\"more columns than column names\")\n",
       "        if (fill && length(col.names) > cols) \n",
       "            cols <- length(col.names)\n",
       "        if (!fill && cols > 0L && length(col.names) > cols) \n",
       "            stop(\"more column names than columns\")\n",
       "        if (cols == 0L) \n",
       "            stop(\"first five rows are empty: giving up\")\n",
       "    }\n",
       "    if (check.names) \n",
       "        col.names <- make.names(col.names, unique = TRUE)\n",
       "    if (rlabp) \n",
       "        col.names <- c(\"row.names\", col.names)\n",
       "    nmColClasses <- names(colClasses)\n",
       "    if (is.null(nmColClasses)) {\n",
       "        if (length(colClasses) < cols) \n",
       "            colClasses <- rep_len(colClasses, cols)\n",
       "    }\n",
       "    else {\n",
       "        tmp <- rep_len(NA_character_, cols)\n",
       "        names(tmp) <- col.names\n",
       "        i <- match(nmColClasses, col.names, 0L)\n",
       "        if (any(i <= 0L)) \n",
       "            warning(\"not all columns named in 'colClasses' exist\")\n",
       "        tmp[i[i > 0L]] <- colClasses[i > 0L]\n",
       "        colClasses <- tmp\n",
       "    }\n",
       "    what <- rep.int(list(\"\"), cols)\n",
       "    names(what) <- col.names\n",
       "    colClasses[colClasses %in% c(\"real\", \"double\")] <- \"numeric\"\n",
       "    known <- colClasses %in% c(\"logical\", \"integer\", \"numeric\", \n",
       "        \"complex\", \"character\", \"raw\")\n",
       "    what[known] <- sapply(colClasses[known], do.call, list(0))\n",
       "    what[colClasses %in% \"NULL\"] <- list(NULL)\n",
       "    keep <- !sapply(what, is.null)\n",
       "    data <- scan(file = file, what = what, sep = sep, quote = quote, \n",
       "        dec = dec, nmax = nrows, skip = 0, na.strings = na.strings, \n",
       "        quiet = TRUE, fill = fill, strip.white = strip.white, \n",
       "        blank.lines.skip = blank.lines.skip, multi.line = FALSE, \n",
       "        comment.char = comment.char, allowEscapes = allowEscapes, \n",
       "        flush = flush, encoding = encoding, skipNul = skipNul)\n",
       "    nlines <- length(data[[which.max(keep)]])\n",
       "    if (cols != length(data)) {\n",
       "        warning(\"cols = \", cols, \" != length(data) = \", length(data), \n",
       "            domain = NA)\n",
       "        cols <- length(data)\n",
       "    }\n",
       "    if (is.logical(as.is)) {\n",
       "        as.is <- rep_len(as.is, cols)\n",
       "    }\n",
       "    else if (is.numeric(as.is)) {\n",
       "        if (any(as.is < 1 | as.is > cols)) \n",
       "            stop(\"invalid numeric 'as.is' expression\")\n",
       "        i <- rep.int(FALSE, cols)\n",
       "        i[as.is] <- TRUE\n",
       "        as.is <- i\n",
       "    }\n",
       "    else if (is.character(as.is)) {\n",
       "        i <- match(as.is, col.names, 0L)\n",
       "        if (any(i <= 0L)) \n",
       "            warning(\"not all columns named in 'as.is' exist\")\n",
       "        i <- i[i > 0L]\n",
       "        as.is <- rep.int(FALSE, cols)\n",
       "        as.is[i] <- TRUE\n",
       "    }\n",
       "    else if (length(as.is) != cols) \n",
       "        stop(gettextf(\"'as.is' has the wrong length %d  != cols = %d\", \n",
       "            length(as.is), cols), domain = NA)\n",
       "    do <- keep & !known\n",
       "    if (rlabp) \n",
       "        do[1L] <- FALSE\n",
       "    for (i in (1L:cols)[do]) {\n",
       "        data[[i]] <- if (is.na(colClasses[i])) \n",
       "            type.convert(data[[i]], as.is = as.is[i], dec = dec, \n",
       "                numerals = numerals, na.strings = character(0L))\n",
       "        else if (colClasses[i] == \"factor\") \n",
       "            as.factor(data[[i]])\n",
       "        else if (colClasses[i] == \"Date\") \n",
       "            as.Date(data[[i]])\n",
       "        else if (colClasses[i] == \"POSIXct\") \n",
       "            as.POSIXct(data[[i]])\n",
       "        else methods::as(data[[i]], colClasses[i])\n",
       "    }\n",
       "    compactRN <- TRUE\n",
       "    if (missing(row.names)) {\n",
       "        if (rlabp) {\n",
       "            row.names <- data[[1L]]\n",
       "            data <- data[-1L]\n",
       "            keep <- keep[-1L]\n",
       "            compactRN <- FALSE\n",
       "        }\n",
       "        else row.names <- .set_row_names(as.integer(nlines))\n",
       "    }\n",
       "    else if (is.null(row.names)) {\n",
       "        row.names <- .set_row_names(as.integer(nlines))\n",
       "    }\n",
       "    else if (is.character(row.names)) {\n",
       "        compactRN <- FALSE\n",
       "        if (length(row.names) == 1L) {\n",
       "            rowvar <- (1L:cols)[match(col.names, row.names, 0L) == \n",
       "                1L]\n",
       "            row.names <- data[[rowvar]]\n",
       "            data <- data[-rowvar]\n",
       "            keep <- keep[-rowvar]\n",
       "        }\n",
       "    }\n",
       "    else if (is.numeric(row.names) && length(row.names) == 1L) {\n",
       "        compactRN <- FALSE\n",
       "        rlabp <- row.names\n",
       "        row.names <- data[[rlabp]]\n",
       "        data <- data[-rlabp]\n",
       "        keep <- keep[-rlabp]\n",
       "    }\n",
       "    else stop(\"invalid 'row.names' specification\")\n",
       "    data <- data[keep]\n",
       "    if (is.object(row.names) || !(is.integer(row.names))) \n",
       "        row.names <- as.character(row.names)\n",
       "    if (!compactRN) {\n",
       "        if (length(row.names) != nlines) \n",
       "            stop(\"invalid 'row.names' length\")\n",
       "        if (anyDuplicated(row.names)) \n",
       "            stop(\"duplicate 'row.names' are not allowed\")\n",
       "        if (anyNA(row.names)) \n",
       "            stop(\"missing values in 'row.names' are not allowed\")\n",
       "    }\n",
       "    class(data) <- \"data.frame\"\n",
       "    attr(data, \"row.names\") <- row.names\n",
       "    data\n",
       "}\n",
       "<bytecode: 0x000000001ec50640>\n",
       "<environment: namespace:utils>"
      ]
     },
     "metadata": {},
     "output_type": "display_data"
    }
   ],
   "source": [
    "read.table"
   ]
  },
  {
   "cell_type": "code",
   "execution_count": 54,
   "metadata": {
    "scrolled": true
   },
   "outputs": [
    {
     "data": {
      "text/html": [
       "<table>\n",
       "<caption>A data.frame: 2 × 2</caption>\n",
       "<thead>\n",
       "\t<tr><th scope=col>texas</th><th scope=col>florida</th></tr>\n",
       "\t<tr><th scope=col>&lt;int&gt;</th><th scope=col>&lt;int&gt;</th></tr>\n",
       "</thead>\n",
       "<tbody>\n",
       "\t<tr><td> 74</td><td> 89</td></tr>\n",
       "\t<tr><td>122</td><td>234</td></tr>\n",
       "</tbody>\n",
       "</table>\n"
      ],
      "text/latex": [
       "A data.frame: 2 × 2\n",
       "\\begin{tabular}{ll}\n",
       " texas & florida\\\\\n",
       " <int> & <int>\\\\\n",
       "\\hline\n",
       "\t  74 &  89\\\\\n",
       "\t 122 & 234\\\\\n",
       "\\end{tabular}\n"
      ],
      "text/markdown": [
       "\n",
       "A data.frame: 2 × 2\n",
       "\n",
       "| texas &lt;int&gt; | florida &lt;int&gt; |\n",
       "|---|---|\n",
       "|  74 |  89 |\n",
       "| 122 | 234 |\n",
       "\n"
      ],
      "text/plain": [
       "  texas florida\n",
       "1  74    89    \n",
       "2 122   234    "
      ]
     },
     "metadata": {},
     "output_type": "display_data"
    },
    {
     "data": {
      "text/html": [
       "'data.frame'"
      ],
      "text/latex": [
       "'data.frame'"
      ],
      "text/markdown": [
       "'data.frame'"
      ],
      "text/plain": [
       "[1] \"data.frame\""
      ]
     },
     "metadata": {},
     "output_type": "display_data"
    },
    {
     "data": {
      "text/html": [
       "<style>\n",
       ".dl-inline {width: auto; margin:0; padding: 0}\n",
       ".dl-inline>dt, .dl-inline>dd {float: none; width: auto; display: inline-block}\n",
       ".dl-inline>dt::after {content: \":\\0020\"; padding-right: .5ex}\n",
       ".dl-inline>dt:not(:first-of-type) {padding-left: .5ex}\n",
       "</style><dl class=dl-inline><dt>texas</dt><dd>'integer'</dd><dt>florida</dt><dd>'integer'</dd></dl>\n"
      ],
      "text/latex": [
       "\\begin{description*}\n",
       "\\item[texas] 'integer'\n",
       "\\item[florida] 'integer'\n",
       "\\end{description*}\n"
      ],
      "text/markdown": [
       "texas\n",
       ":   'integer'florida\n",
       ":   'integer'\n",
       "\n"
      ],
      "text/plain": [
       "    texas   florida \n",
       "\"integer\" \"integer\" "
      ]
     },
     "metadata": {},
     "output_type": "display_data"
    }
   ],
   "source": [
    "mytable=read.table(file=\"table.txt\", header=TRUE, sep=\" \");mytable\n",
    "class(mytable)\n",
    "sapply(mytable, class) #get data type for each column"
   ]
  },
  {
   "cell_type": "code",
   "execution_count": 55,
   "metadata": {
    "scrolled": false
   },
   "outputs": [
    {
     "data": {
      "text/html": [
       "<table>\n",
       "<caption>A data.frame: 2 × 2</caption>\n",
       "<thead>\n",
       "\t<tr><th scope=col>texas</th><th scope=col>florida</th></tr>\n",
       "\t<tr><th scope=col>&lt;int&gt;</th><th scope=col>&lt;int&gt;</th></tr>\n",
       "</thead>\n",
       "<tbody>\n",
       "\t<tr><td> 74</td><td> 89</td></tr>\n",
       "\t<tr><td>122</td><td>234</td></tr>\n",
       "</tbody>\n",
       "</table>\n"
      ],
      "text/latex": [
       "A data.frame: 2 × 2\n",
       "\\begin{tabular}{ll}\n",
       " texas & florida\\\\\n",
       " <int> & <int>\\\\\n",
       "\\hline\n",
       "\t  74 &  89\\\\\n",
       "\t 122 & 234\\\\\n",
       "\\end{tabular}\n"
      ],
      "text/markdown": [
       "\n",
       "A data.frame: 2 × 2\n",
       "\n",
       "| texas &lt;int&gt; | florida &lt;int&gt; |\n",
       "|---|---|\n",
       "|  74 |  89 |\n",
       "| 122 | 234 |\n",
       "\n"
      ],
      "text/plain": [
       "  texas florida\n",
       "1  74    89    \n",
       "2 122   234    "
      ]
     },
     "metadata": {},
     "output_type": "display_data"
    }
   ],
   "source": [
    "mytable\n",
    "write.table(mytable, file=\"mytable.txt\")"
   ]
  },
  {
   "cell_type": "code",
   "execution_count": 56,
   "metadata": {},
   "outputs": [],
   "source": [
    "?write.table"
   ]
  },
  {
   "cell_type": "code",
   "execution_count": 113,
   "metadata": {},
   "outputs": [],
   "source": [
    "file.show(\"mytable.txt\")"
   ]
  },
  {
   "cell_type": "code",
   "execution_count": 58,
   "metadata": {},
   "outputs": [],
   "source": [
    "# write.csv(mytable, file=\"mytable.csv\")\n",
    "write.csv(mytable, file=\"mytable.csv\", row.names=FALSE) #do not include row numbers"
   ]
  },
  {
   "cell_type": "code",
   "execution_count": 112,
   "metadata": {},
   "outputs": [],
   "source": [
    "file.show(\"mytable.csv\")"
   ]
  },
  {
   "cell_type": "code",
   "execution_count": 60,
   "metadata": {
    "scrolled": false
   },
   "outputs": [
    {
     "data": {
      "text/html": [
       "<table>\n",
       "<caption>A data.frame: 2 × 2</caption>\n",
       "<thead>\n",
       "\t<tr><th scope=col>texas</th><th scope=col>florida</th></tr>\n",
       "\t<tr><th scope=col>&lt;int&gt;</th><th scope=col>&lt;int&gt;</th></tr>\n",
       "</thead>\n",
       "<tbody>\n",
       "\t<tr><td> 74</td><td> 89</td></tr>\n",
       "\t<tr><td>122</td><td>234</td></tr>\n",
       "</tbody>\n",
       "</table>\n"
      ],
      "text/latex": [
       "A data.frame: 2 × 2\n",
       "\\begin{tabular}{ll}\n",
       " texas & florida\\\\\n",
       " <int> & <int>\\\\\n",
       "\\hline\n",
       "\t  74 &  89\\\\\n",
       "\t 122 & 234\\\\\n",
       "\\end{tabular}\n"
      ],
      "text/markdown": [
       "\n",
       "A data.frame: 2 × 2\n",
       "\n",
       "| texas &lt;int&gt; | florida &lt;int&gt; |\n",
       "|---|---|\n",
       "|  74 |  89 |\n",
       "| 122 | 234 |\n",
       "\n"
      ],
      "text/plain": [
       "  texas florida\n",
       "1  74    89    \n",
       "2 122   234    "
      ]
     },
     "metadata": {},
     "output_type": "display_data"
    },
    {
     "data": {
      "text/html": [
       "<style>\n",
       ".list-inline {list-style: none; margin:0; padding: 0}\n",
       ".list-inline>li {display: inline-block}\n",
       ".list-inline>li:not(:last-child)::after {content: \"\\00b7\"; padding: 0 .5ex}\n",
       "</style>\n",
       "<ol class=list-inline><li>'texas'</li><li>'florida'</li></ol>\n"
      ],
      "text/latex": [
       "\\begin{enumerate*}\n",
       "\\item 'texas'\n",
       "\\item 'florida'\n",
       "\\end{enumerate*}\n"
      ],
      "text/markdown": [
       "1. 'texas'\n",
       "2. 'florida'\n",
       "\n",
       "\n"
      ],
      "text/plain": [
       "[1] \"texas\"   \"florida\""
      ]
     },
     "metadata": {},
     "output_type": "display_data"
    }
   ],
   "source": [
    "mytable=read.csv(file=\"mytable.csv\", header=TRUE);mytable\n",
    "names(mytable)"
   ]
  },
  {
   "cell_type": "code",
   "execution_count": 61,
   "metadata": {
    "scrolled": true
   },
   "outputs": [
    {
     "data": {
      "text/html": [
       "<table>\n",
       "<caption>A data.frame: 2 × 2</caption>\n",
       "<thead>\n",
       "\t<tr><th scope=col>texas</th><th scope=col>florida</th></tr>\n",
       "\t<tr><th scope=col>&lt;int&gt;</th><th scope=col>&lt;int&gt;</th></tr>\n",
       "</thead>\n",
       "<tbody>\n",
       "\t<tr><td> 74</td><td> 89</td></tr>\n",
       "\t<tr><td>122</td><td>234</td></tr>\n",
       "</tbody>\n",
       "</table>\n"
      ],
      "text/latex": [
       "A data.frame: 2 × 2\n",
       "\\begin{tabular}{ll}\n",
       " texas & florida\\\\\n",
       " <int> & <int>\\\\\n",
       "\\hline\n",
       "\t  74 &  89\\\\\n",
       "\t 122 & 234\\\\\n",
       "\\end{tabular}\n"
      ],
      "text/markdown": [
       "\n",
       "A data.frame: 2 × 2\n",
       "\n",
       "| texas &lt;int&gt; | florida &lt;int&gt; |\n",
       "|---|---|\n",
       "|  74 |  89 |\n",
       "| 122 | 234 |\n",
       "\n"
      ],
      "text/plain": [
       "  texas florida\n",
       "1  74    89    \n",
       "2 122   234    "
      ]
     },
     "metadata": {},
     "output_type": "display_data"
    },
    {
     "data": {
      "text/html": [
       "<style>\n",
       ".list-inline {list-style: none; margin:0; padding: 0}\n",
       ".list-inline>li {display: inline-block}\n",
       ".list-inline>li:not(:last-child)::after {content: \"\\00b7\"; padding: 0 .5ex}\n",
       "</style>\n",
       "<ol class=list-inline><li>'texas'</li><li>'florida'</li></ol>\n"
      ],
      "text/latex": [
       "\\begin{enumerate*}\n",
       "\\item 'texas'\n",
       "\\item 'florida'\n",
       "\\end{enumerate*}\n"
      ],
      "text/markdown": [
       "1. 'texas'\n",
       "2. 'florida'\n",
       "\n",
       "\n"
      ],
      "text/plain": [
       "[1] \"texas\"   \"florida\""
      ]
     },
     "metadata": {},
     "output_type": "display_data"
    }
   ],
   "source": [
    "mytable=read.csv(file=\"table.csv\", header=TRUE);mytable\n",
    "names(mytable)"
   ]
  },
  {
   "cell_type": "code",
   "execution_count": 62,
   "metadata": {},
   "outputs": [
    {
     "data": {
      "text/html": [
       "<table>\n",
       "<caption>A data.frame: 2 × 1</caption>\n",
       "<thead>\n",
       "\t<tr><th scope=col>texas.florida</th></tr>\n",
       "\t<tr><th scope=col>&lt;fct&gt;</th></tr>\n",
       "</thead>\n",
       "<tbody>\n",
       "\t<tr><td>74 89  </td></tr>\n",
       "\t<tr><td>122 234</td></tr>\n",
       "</tbody>\n",
       "</table>\n"
      ],
      "text/latex": [
       "A data.frame: 2 × 1\n",
       "\\begin{tabular}{l}\n",
       " texas.florida\\\\\n",
       " <fct>\\\\\n",
       "\\hline\n",
       "\t 74 89  \\\\\n",
       "\t 122 234\\\\\n",
       "\\end{tabular}\n"
      ],
      "text/markdown": [
       "\n",
       "A data.frame: 2 × 1\n",
       "\n",
       "| texas.florida &lt;fct&gt; |\n",
       "|---|\n",
       "| 74 89   |\n",
       "| 122 234 |\n",
       "\n"
      ],
      "text/plain": [
       "  texas.florida\n",
       "1 74 89        \n",
       "2 122 234      "
      ]
     },
     "metadata": {},
     "output_type": "display_data"
    },
    {
     "data": {
      "text/html": [
       "'texas.florida'"
      ],
      "text/latex": [
       "'texas.florida'"
      ],
      "text/markdown": [
       "'texas.florida'"
      ],
      "text/plain": [
       "[1] \"texas.florida\""
      ]
     },
     "metadata": {},
     "output_type": "display_data"
    }
   ],
   "source": [
    "mytable=read.csv(file=\"table.txt\", header=TRUE);mytable\n",
    "names(mytable)"
   ]
  },
  {
   "cell_type": "code",
   "execution_count": 63,
   "metadata": {
    "scrolled": false
   },
   "outputs": [
    {
     "data": {
      "text/html": [
       "<style>\n",
       ".list-inline {list-style: none; margin:0; padding: 0}\n",
       ".list-inline>li {display: inline-block}\n",
       ".list-inline>li:not(:last-child)::after {content: \"\\00b7\"; padding: 0 .5ex}\n",
       "</style>\n",
       "<ol class=list-inline><li>'texas,florida'</li><li>'74,89'</li><li>'122,234'</li></ol>\n"
      ],
      "text/latex": [
       "\\begin{enumerate*}\n",
       "\\item 'texas,florida'\n",
       "\\item '74,89'\n",
       "\\item '122,234'\n",
       "\\end{enumerate*}\n"
      ],
      "text/markdown": [
       "1. 'texas,florida'\n",
       "2. '74,89'\n",
       "3. '122,234'\n",
       "\n",
       "\n"
      ],
      "text/plain": [
       "[1] \"texas,florida\" \"74,89\"         \"122,234\"      "
      ]
     },
     "metadata": {},
     "output_type": "display_data"
    },
    {
     "data": {
      "text/html": [
       "<style>\n",
       ".list-inline {list-style: none; margin:0; padding: 0}\n",
       ".list-inline>li {display: inline-block}\n",
       ".list-inline>li:not(:last-child)::after {content: \"\\00b7\"; padding: 0 .5ex}\n",
       "</style>\n",
       "<ol class=list-inline><li>'texas florida'</li><li>'74 89'</li><li>'122 234'</li></ol>\n"
      ],
      "text/latex": [
       "\\begin{enumerate*}\n",
       "\\item 'texas florida'\n",
       "\\item '74 89'\n",
       "\\item '122 234'\n",
       "\\end{enumerate*}\n"
      ],
      "text/markdown": [
       "1. 'texas florida'\n",
       "2. '74 89'\n",
       "3. '122 234'\n",
       "\n",
       "\n"
      ],
      "text/plain": [
       "[1] \"texas florida\" \"74 89\"         \"122 234\"      "
      ]
     },
     "metadata": {},
     "output_type": "display_data"
    },
    {
     "data": {
      "text/html": [
       "'texas florida'"
      ],
      "text/latex": [
       "'texas florida'"
      ],
      "text/markdown": [
       "'texas florida'"
      ],
      "text/plain": [
       "[1] \"texas florida\""
      ]
     },
     "metadata": {},
     "output_type": "display_data"
    },
    {
     "data": {
      "text/html": [
       "'74 89'"
      ],
      "text/latex": [
       "'74 89'"
      ],
      "text/markdown": [
       "'74 89'"
      ],
      "text/plain": [
       "[1] \"74 89\""
      ]
     },
     "metadata": {},
     "output_type": "display_data"
    },
    {
     "data": {
      "text/html": [
       "'122 234'"
      ],
      "text/latex": [
       "'122 234'"
      ],
      "text/markdown": [
       "'122 234'"
      ],
      "text/plain": [
       "[1] \"122 234\""
      ]
     },
     "metadata": {},
     "output_type": "display_data"
    }
   ],
   "source": [
    "lines=readLines(\"table.csv\")\n",
    "lines\n",
    "lines=readLines(\"table.txt\")\n",
    "lines\n",
    "lines[1]\n",
    "lines[2]\n",
    "lines[3]"
   ]
  },
  {
   "cell_type": "code",
   "execution_count": 64,
   "metadata": {},
   "outputs": [],
   "source": [
    "?writeLines"
   ]
  },
  {
   "cell_type": "code",
   "execution_count": 65,
   "metadata": {},
   "outputs": [],
   "source": [
    "fileConn<-file(\"output.txt\")\n",
    "writeLines(c(\"Hello\",\"World\"), fileConn)\n",
    "close(fileConn)"
   ]
  },
  {
   "cell_type": "code",
   "execution_count": 66,
   "metadata": {
    "scrolled": true
   },
   "outputs": [
    {
     "data": {
      "text/html": [
       "<table>\n",
       "<caption>A data.frame: 1 × 2</caption>\n",
       "<thead>\n",
       "\t<tr><th scope=col>a</th><th scope=col>b</th></tr>\n",
       "\t<tr><th scope=col>&lt;dbl&gt;</th><th scope=col>&lt;dbl&gt;</th></tr>\n",
       "</thead>\n",
       "<tbody>\n",
       "\t<tr><td>1</td><td>2</td></tr>\n",
       "</tbody>\n",
       "</table>\n"
      ],
      "text/latex": [
       "A data.frame: 1 × 2\n",
       "\\begin{tabular}{ll}\n",
       " a & b\\\\\n",
       " <dbl> & <dbl>\\\\\n",
       "\\hline\n",
       "\t 1 & 2\\\\\n",
       "\\end{tabular}\n"
      ],
      "text/markdown": [
       "\n",
       "A data.frame: 1 × 2\n",
       "\n",
       "| a &lt;dbl&gt; | b &lt;dbl&gt; |\n",
       "|---|---|\n",
       "| 1 | 2 |\n",
       "\n"
      ],
      "text/plain": [
       "  a b\n",
       "1 1 2"
      ]
     },
     "metadata": {},
     "output_type": "display_data"
    },
    {
     "name": "stdout",
     "output_type": "stream",
     "text": [
      "structure(list(a = 1, b = 2), class = \"data.frame\", row.names = c(NA, \n",
      "-1L))\n"
     ]
    }
   ],
   "source": [
    "x=data.frame(a=1, b=2); x\n",
    "dput(x)"
   ]
  },
  {
   "cell_type": "code",
   "execution_count": 67,
   "metadata": {},
   "outputs": [
    {
     "name": "stdout",
     "output_type": "stream",
     "text": [
      "'data.frame':\t1 obs. of  2 variables:\n",
      " $ a: num 1\n",
      " $ b: num 2\n"
     ]
    }
   ],
   "source": [
    "str(x)"
   ]
  },
  {
   "cell_type": "code",
   "execution_count": 68,
   "metadata": {
    "scrolled": true
   },
   "outputs": [
    {
     "data": {
      "text/plain": [
       "       a           b    \n",
       " Min.   :1   Min.   :2  \n",
       " 1st Qu.:1   1st Qu.:2  \n",
       " Median :1   Median :2  \n",
       " Mean   :1   Mean   :2  \n",
       " 3rd Qu.:1   3rd Qu.:2  \n",
       " Max.   :1   Max.   :2  "
      ]
     },
     "metadata": {},
     "output_type": "display_data"
    }
   ],
   "source": [
    "summary(x)"
   ]
  },
  {
   "cell_type": "code",
   "execution_count": 69,
   "metadata": {},
   "outputs": [],
   "source": [
    "dput(x, file=\"x.R\")"
   ]
  },
  {
   "cell_type": "code",
   "execution_count": 144,
   "metadata": {},
   "outputs": [],
   "source": [
    "file.show(\"x.R\")"
   ]
  },
  {
   "cell_type": "code",
   "execution_count": 71,
   "metadata": {
    "scrolled": true
   },
   "outputs": [
    {
     "data": {
      "text/html": [
       "<table>\n",
       "<caption>A data.frame: 1 × 2</caption>\n",
       "<thead>\n",
       "\t<tr><th scope=col>a</th><th scope=col>b</th></tr>\n",
       "\t<tr><th scope=col>&lt;dbl&gt;</th><th scope=col>&lt;dbl&gt;</th></tr>\n",
       "</thead>\n",
       "<tbody>\n",
       "\t<tr><td>1</td><td>2</td></tr>\n",
       "</tbody>\n",
       "</table>\n"
      ],
      "text/latex": [
       "A data.frame: 1 × 2\n",
       "\\begin{tabular}{ll}\n",
       " a & b\\\\\n",
       " <dbl> & <dbl>\\\\\n",
       "\\hline\n",
       "\t 1 & 2\\\\\n",
       "\\end{tabular}\n"
      ],
      "text/markdown": [
       "\n",
       "A data.frame: 1 × 2\n",
       "\n",
       "| a &lt;dbl&gt; | b &lt;dbl&gt; |\n",
       "|---|---|\n",
       "| 1 | 2 |\n",
       "\n"
      ],
      "text/plain": [
       "  a b\n",
       "1 1 2"
      ]
     },
     "metadata": {},
     "output_type": "display_data"
    },
    {
     "data": {
      "text/html": [
       "<table>\n",
       "<caption>A data.frame: 1 × 2</caption>\n",
       "<thead>\n",
       "\t<tr><th scope=col>a</th><th scope=col>b</th></tr>\n",
       "\t<tr><th scope=col>&lt;dbl&gt;</th><th scope=col>&lt;dbl&gt;</th></tr>\n",
       "</thead>\n",
       "<tbody>\n",
       "\t<tr><td>1</td><td>2</td></tr>\n",
       "</tbody>\n",
       "</table>\n"
      ],
      "text/latex": [
       "A data.frame: 1 × 2\n",
       "\\begin{tabular}{ll}\n",
       " a & b\\\\\n",
       " <dbl> & <dbl>\\\\\n",
       "\\hline\n",
       "\t 1 & 2\\\\\n",
       "\\end{tabular}\n"
      ],
      "text/markdown": [
       "\n",
       "A data.frame: 1 × 2\n",
       "\n",
       "| a &lt;dbl&gt; | b &lt;dbl&gt; |\n",
       "|---|---|\n",
       "| 1 | 2 |\n",
       "\n"
      ],
      "text/plain": [
       "  a b\n",
       "1 1 2"
      ]
     },
     "metadata": {},
     "output_type": "display_data"
    },
    {
     "data": {
      "text/html": [
       "<table>\n",
       "<caption>A data.frame: 1 × 2</caption>\n",
       "<thead>\n",
       "\t<tr><th scope=col>a</th><th scope=col>b</th></tr>\n",
       "\t<tr><th scope=col>&lt;dbl&gt;</th><th scope=col>&lt;dbl&gt;</th></tr>\n",
       "</thead>\n",
       "<tbody>\n",
       "\t<tr><td>1</td><td>2</td></tr>\n",
       "</tbody>\n",
       "</table>\n"
      ],
      "text/latex": [
       "A data.frame: 1 × 2\n",
       "\\begin{tabular}{ll}\n",
       " a & b\\\\\n",
       " <dbl> & <dbl>\\\\\n",
       "\\hline\n",
       "\t 1 & 2\\\\\n",
       "\\end{tabular}\n"
      ],
      "text/markdown": [
       "\n",
       "A data.frame: 1 × 2\n",
       "\n",
       "| a &lt;dbl&gt; | b &lt;dbl&gt; |\n",
       "|---|---|\n",
       "| 1 | 2 |\n",
       "\n"
      ],
      "text/plain": [
       "  a b\n",
       "1 1 2"
      ]
     },
     "metadata": {},
     "output_type": "display_data"
    }
   ],
   "source": [
    "dget(\"x.R\")\n",
    "structure(list(a = 1, b = 2), class = \"data.frame\", row.names = c(NA, \n",
    "-1L))\n",
    "data.frame(a=1, b=2)"
   ]
  },
  {
   "cell_type": "code",
   "execution_count": 72,
   "metadata": {
    "scrolled": false
   },
   "outputs": [
    {
     "data": {
      "text/html": [
       "<table>\n",
       "<caption>A data.frame: 1 × 2</caption>\n",
       "<thead>\n",
       "\t<tr><th scope=col>a</th><th scope=col>b</th></tr>\n",
       "\t<tr><th scope=col>&lt;dbl&gt;</th><th scope=col>&lt;dbl&gt;</th></tr>\n",
       "</thead>\n",
       "<tbody>\n",
       "\t<tr><td>1</td><td>2</td></tr>\n",
       "</tbody>\n",
       "</table>\n"
      ],
      "text/latex": [
       "A data.frame: 1 × 2\n",
       "\\begin{tabular}{ll}\n",
       " a & b\\\\\n",
       " <dbl> & <dbl>\\\\\n",
       "\\hline\n",
       "\t 1 & 2\\\\\n",
       "\\end{tabular}\n"
      ],
      "text/markdown": [
       "\n",
       "A data.frame: 1 × 2\n",
       "\n",
       "| a &lt;dbl&gt; | b &lt;dbl&gt; |\n",
       "|---|---|\n",
       "| 1 | 2 |\n",
       "\n"
      ],
      "text/plain": [
       "  a b\n",
       "1 1 2"
      ]
     },
     "metadata": {},
     "output_type": "display_data"
    }
   ],
   "source": [
    "y=dget(\"x.R\") # you can think dget inserts the content here.\n",
    "y"
   ]
  },
  {
   "cell_type": "code",
   "execution_count": 73,
   "metadata": {},
   "outputs": [
    {
     "data": {
      "text/html": [
       "<table>\n",
       "<caption>A data.frame: 1 × 2</caption>\n",
       "<thead>\n",
       "\t<tr><th scope=col>a</th><th scope=col>b</th></tr>\n",
       "\t<tr><th scope=col>&lt;dbl&gt;</th><th scope=col>&lt;dbl&gt;</th></tr>\n",
       "</thead>\n",
       "<tbody>\n",
       "\t<tr><td>1</td><td>2</td></tr>\n",
       "</tbody>\n",
       "</table>\n"
      ],
      "text/latex": [
       "A data.frame: 1 × 2\n",
       "\\begin{tabular}{ll}\n",
       " a & b\\\\\n",
       " <dbl> & <dbl>\\\\\n",
       "\\hline\n",
       "\t 1 & 2\\\\\n",
       "\\end{tabular}\n"
      ],
      "text/markdown": [
       "\n",
       "A data.frame: 1 × 2\n",
       "\n",
       "| a &lt;dbl&gt; | b &lt;dbl&gt; |\n",
       "|---|---|\n",
       "| 1 | 2 |\n",
       "\n"
      ],
      "text/plain": [
       "  a b\n",
       "1 1 2"
      ]
     },
     "metadata": {},
     "output_type": "display_data"
    }
   ],
   "source": [
    "y=structure(list(a = 1, b = 2), class = \"data.frame\", row.names = c(NA, \n",
    "-1L))\n",
    "y"
   ]
  },
  {
   "cell_type": "code",
   "execution_count": 74,
   "metadata": {
    "scrolled": true
   },
   "outputs": [
    {
     "name": "stdout",
     "output_type": "stream",
     "text": [
      "[1] \"====================\"\n"
     ]
    }
   ],
   "source": [
    "print(\"====================\")\n",
    "x=8\n",
    "y=9\n",
    "# dump(c('x', 'y'))  # by default it dumps to file \"dumpdata.R\"\n",
    "dump(c('x', 'y'), file='xy.R')"
   ]
  },
  {
   "cell_type": "code",
   "execution_count": 114,
   "metadata": {},
   "outputs": [],
   "source": [
    "file.show(\"xy.R\")"
   ]
  },
  {
   "cell_type": "code",
   "execution_count": 76,
   "metadata": {},
   "outputs": [
    {
     "data": {
      "text/html": [
       "<style>\n",
       ".list-inline {list-style: none; margin:0; padding: 0}\n",
       ".list-inline>li {display: inline-block}\n",
       ".list-inline>li:not(:last-child)::after {content: \"\\00b7\"; padding: 0 .5ex}\n",
       "</style>\n",
       "<ol class=list-inline><li>'b'</li><li>'cnames'</li><li>'fileConn'</li><li>'lines'</li><li>'mydata'</li><li>'mytable'</li><li>'numbers'</li><li>'rnames'</li><li>'thuesen'</li><li>'whales'</li><li>'x'</li><li>'y'</li><li>'z'</li></ol>\n"
      ],
      "text/latex": [
       "\\begin{enumerate*}\n",
       "\\item 'b'\n",
       "\\item 'cnames'\n",
       "\\item 'fileConn'\n",
       "\\item 'lines'\n",
       "\\item 'mydata'\n",
       "\\item 'mytable'\n",
       "\\item 'numbers'\n",
       "\\item 'rnames'\n",
       "\\item 'thuesen'\n",
       "\\item 'whales'\n",
       "\\item 'x'\n",
       "\\item 'y'\n",
       "\\item 'z'\n",
       "\\end{enumerate*}\n"
      ],
      "text/markdown": [
       "1. 'b'\n",
       "2. 'cnames'\n",
       "3. 'fileConn'\n",
       "4. 'lines'\n",
       "5. 'mydata'\n",
       "6. 'mytable'\n",
       "7. 'numbers'\n",
       "8. 'rnames'\n",
       "9. 'thuesen'\n",
       "10. 'whales'\n",
       "11. 'x'\n",
       "12. 'y'\n",
       "13. 'z'\n",
       "\n",
       "\n"
      ],
      "text/plain": [
       " [1] \"b\"        \"cnames\"   \"fileConn\" \"lines\"    \"mydata\"   \"mytable\" \n",
       " [7] \"numbers\"  \"rnames\"   \"thuesen\"  \"whales\"   \"x\"        \"y\"       \n",
       "[13] \"z\"       "
      ]
     },
     "metadata": {},
     "output_type": "display_data"
    },
    {
     "data": {
      "text/html": [
       "<style>\n",
       ".list-inline {list-style: none; margin:0; padding: 0}\n",
       ".list-inline>li {display: inline-block}\n",
       ".list-inline>li:not(:last-child)::after {content: \"\\00b7\"; padding: 0 .5ex}\n",
       "</style>\n",
       "<ol class=list-inline><li>'b'</li><li>'cnames'</li><li>'fileConn'</li><li>'lines'</li><li>'mydata'</li><li>'mytable'</li><li>'numbers'</li><li>'rnames'</li><li>'thuesen'</li><li>'whales'</li><li>'z'</li></ol>\n"
      ],
      "text/latex": [
       "\\begin{enumerate*}\n",
       "\\item 'b'\n",
       "\\item 'cnames'\n",
       "\\item 'fileConn'\n",
       "\\item 'lines'\n",
       "\\item 'mydata'\n",
       "\\item 'mytable'\n",
       "\\item 'numbers'\n",
       "\\item 'rnames'\n",
       "\\item 'thuesen'\n",
       "\\item 'whales'\n",
       "\\item 'z'\n",
       "\\end{enumerate*}\n"
      ],
      "text/markdown": [
       "1. 'b'\n",
       "2. 'cnames'\n",
       "3. 'fileConn'\n",
       "4. 'lines'\n",
       "5. 'mydata'\n",
       "6. 'mytable'\n",
       "7. 'numbers'\n",
       "8. 'rnames'\n",
       "9. 'thuesen'\n",
       "10. 'whales'\n",
       "11. 'z'\n",
       "\n",
       "\n"
      ],
      "text/plain": [
       " [1] \"b\"        \"cnames\"   \"fileConn\" \"lines\"    \"mydata\"   \"mytable\" \n",
       " [7] \"numbers\"  \"rnames\"   \"thuesen\"  \"whales\"   \"z\"       "
      ]
     },
     "metadata": {},
     "output_type": "display_data"
    }
   ],
   "source": [
    "ls()\n",
    "rm(x, y)\n",
    "ls()"
   ]
  },
  {
   "cell_type": "code",
   "execution_count": 77,
   "metadata": {},
   "outputs": [
    {
     "data": {
      "text/html": [
       "8"
      ],
      "text/latex": [
       "8"
      ],
      "text/markdown": [
       "8"
      ],
      "text/plain": [
       "[1] 8"
      ]
     },
     "metadata": {},
     "output_type": "display_data"
    }
   ],
   "source": [
    "source(\"xy.R\") # source both inserts and executes the content here\n",
    "x"
   ]
  },
  {
   "cell_type": "code",
   "execution_count": 78,
   "metadata": {},
   "outputs": [
    {
     "name": "stdout",
     "output_type": "stream",
     "text": [
      " [1] 58 0a 00 00 00 03 00 03 06 02 00 03 05 00 00 00 00 06 43 50 31 32 35 32 00\n",
      "[26] 00 00 13 00 00 00 03 00 00 00 0e 00 00 00 01 3f f0 00 00 00 00 00 00 00 00\n",
      "[51] 00 0e 00 00 00 01 40 00 00 00 00 00 00 00 00 00 00 0e 00 00 00 01 40 08 00\n",
      "[76] 00 00 00 00 00\n"
     ]
    },
    {
     "data": {
      "text/html": [
       "<ol>\n",
       "\t<li>1</li>\n",
       "\t<li>2</li>\n",
       "\t<li>3</li>\n",
       "</ol>\n"
      ],
      "text/latex": [
       "\\begin{enumerate}\n",
       "\\item 1\n",
       "\\item 2\n",
       "\\item 3\n",
       "\\end{enumerate}\n"
      ],
      "text/markdown": [
       "1. 1\n",
       "2. 2\n",
       "3. 3\n",
       "\n",
       "\n"
      ],
      "text/plain": [
       "[[1]]\n",
       "[1] 1\n",
       "\n",
       "[[2]]\n",
       "[1] 2\n",
       "\n",
       "[[3]]\n",
       "[1] 3\n"
      ]
     },
     "metadata": {},
     "output_type": "display_data"
    }
   ],
   "source": [
    "x <- serialize(list(1,2,3), NULL)\n",
    "print(x)\n",
    "y=unserialize(x)\n",
    "y"
   ]
  },
  {
   "cell_type": "code",
   "execution_count": 79,
   "metadata": {
    "scrolled": true
   },
   "outputs": [
    {
     "data": {
      "text/html": [
       "<table>\n",
       "<caption>A data.frame: 6 × 2</caption>\n",
       "<thead>\n",
       "\t<tr><th></th><th scope=col>x</th><th scope=col>y</th></tr>\n",
       "\t<tr><th></th><th scope=col>&lt;dbl&gt;</th><th scope=col>&lt;dbl&gt;</th></tr>\n",
       "</thead>\n",
       "<tbody>\n",
       "\t<tr><th scope=row>1</th><td>-1.2216867</td><td>0.5540792</td></tr>\n",
       "\t<tr><th scope=row>2</th><td>-0.1834871</td><td>0.4929764</td></tr>\n",
       "\t<tr><th scope=row>3</th><td> 0.8306771</td><td>0.5376134</td></tr>\n",
       "\t<tr><th scope=row>4</th><td>-0.2253249</td><td>0.1224959</td></tr>\n",
       "\t<tr><th scope=row>5</th><td>-0.2381958</td><td>0.3241803</td></tr>\n",
       "\t<tr><th scope=row>6</th><td> 0.5878486</td><td>0.3376635</td></tr>\n",
       "</tbody>\n",
       "</table>\n"
      ],
      "text/latex": [
       "A data.frame: 6 × 2\n",
       "\\begin{tabular}{r|ll}\n",
       "  & x & y\\\\\n",
       "  & <dbl> & <dbl>\\\\\n",
       "\\hline\n",
       "\t1 & -1.2216867 & 0.5540792\\\\\n",
       "\t2 & -0.1834871 & 0.4929764\\\\\n",
       "\t3 &  0.8306771 & 0.5376134\\\\\n",
       "\t4 & -0.2253249 & 0.1224959\\\\\n",
       "\t5 & -0.2381958 & 0.3241803\\\\\n",
       "\t6 &  0.5878486 & 0.3376635\\\\\n",
       "\\end{tabular}\n"
      ],
      "text/markdown": [
       "\n",
       "A data.frame: 6 × 2\n",
       "\n",
       "| <!--/--> | x &lt;dbl&gt; | y &lt;dbl&gt; |\n",
       "|---|---|---|\n",
       "| 1 | -1.2216867 | 0.5540792 |\n",
       "| 2 | -0.1834871 | 0.4929764 |\n",
       "| 3 |  0.8306771 | 0.5376134 |\n",
       "| 4 | -0.2253249 | 0.1224959 |\n",
       "| 5 | -0.2381958 | 0.3241803 |\n",
       "| 6 |  0.5878486 | 0.3376635 |\n",
       "\n"
      ],
      "text/plain": [
       "  x          y        \n",
       "1 -1.2216867 0.5540792\n",
       "2 -0.1834871 0.4929764\n",
       "3  0.8306771 0.5376134\n",
       "4 -0.2253249 0.1224959\n",
       "5 -0.2381958 0.3241803\n",
       "6  0.5878486 0.3376635"
      ]
     },
     "metadata": {},
     "output_type": "display_data"
    },
    {
     "data": {
      "text/html": [
       "<style>\n",
       ".list-inline {list-style: none; margin:0; padding: 0}\n",
       ".list-inline>li {display: inline-block}\n",
       ".list-inline>li:not(:last-child)::after {content: \"\\00b7\"; padding: 0 .5ex}\n",
       "</style>\n",
       "<ol class=list-inline><li>3</li><li>4.4</li><li>0.333333333333333</li></ol>\n"
      ],
      "text/latex": [
       "\\begin{enumerate*}\n",
       "\\item 3\n",
       "\\item 4.4\n",
       "\\item 0.333333333333333\n",
       "\\end{enumerate*}\n"
      ],
      "text/markdown": [
       "1. 3\n",
       "2. 4.4\n",
       "3. 0.333333333333333\n",
       "\n",
       "\n"
      ],
      "text/plain": [
       "[1] 3.0000000 4.4000000 0.3333333"
      ]
     },
     "metadata": {},
     "output_type": "display_data"
    }
   ],
   "source": [
    "a=data.frame(x = rnorm(100), y = runif(100)); head(a)\n",
    "b=c(3, 4.4, 1 / 3); b"
   ]
  },
  {
   "cell_type": "code",
   "execution_count": 80,
   "metadata": {},
   "outputs": [],
   "source": [
    "save(a, b, file = \"mydata.rda\")"
   ]
  },
  {
   "cell_type": "code",
   "execution_count": 81,
   "metadata": {
    "scrolled": true
   },
   "outputs": [
    {
     "data": {
      "text/html": [
       "<style>\n",
       ".list-inline {list-style: none; margin:0; padding: 0}\n",
       ".list-inline>li {display: inline-block}\n",
       ".list-inline>li:not(:last-child)::after {content: \"\\00b7\"; padding: 0 .5ex}\n",
       "</style>\n",
       "<ol class=list-inline><li>'cnames'</li><li>'fileConn'</li><li>'lines'</li><li>'mydata'</li><li>'mytable'</li><li>'numbers'</li><li>'rnames'</li><li>'thuesen'</li><li>'whales'</li><li>'x'</li><li>'y'</li><li>'z'</li></ol>\n"
      ],
      "text/latex": [
       "\\begin{enumerate*}\n",
       "\\item 'cnames'\n",
       "\\item 'fileConn'\n",
       "\\item 'lines'\n",
       "\\item 'mydata'\n",
       "\\item 'mytable'\n",
       "\\item 'numbers'\n",
       "\\item 'rnames'\n",
       "\\item 'thuesen'\n",
       "\\item 'whales'\n",
       "\\item 'x'\n",
       "\\item 'y'\n",
       "\\item 'z'\n",
       "\\end{enumerate*}\n"
      ],
      "text/markdown": [
       "1. 'cnames'\n",
       "2. 'fileConn'\n",
       "3. 'lines'\n",
       "4. 'mydata'\n",
       "5. 'mytable'\n",
       "6. 'numbers'\n",
       "7. 'rnames'\n",
       "8. 'thuesen'\n",
       "9. 'whales'\n",
       "10. 'x'\n",
       "11. 'y'\n",
       "12. 'z'\n",
       "\n",
       "\n"
      ],
      "text/plain": [
       " [1] \"cnames\"   \"fileConn\" \"lines\"    \"mydata\"   \"mytable\"  \"numbers\" \n",
       " [7] \"rnames\"   \"thuesen\"  \"whales\"   \"x\"        \"y\"        \"z\"       "
      ]
     },
     "metadata": {},
     "output_type": "display_data"
    }
   ],
   "source": [
    "rm(a, b)\n",
    "ls()"
   ]
  },
  {
   "cell_type": "code",
   "execution_count": 82,
   "metadata": {},
   "outputs": [],
   "source": [
    "load(\"mydata.rda\")"
   ]
  },
  {
   "cell_type": "code",
   "execution_count": 83,
   "metadata": {
    "scrolled": true
   },
   "outputs": [
    {
     "data": {
      "text/html": [
       "<style>\n",
       ".list-inline {list-style: none; margin:0; padding: 0}\n",
       ".list-inline>li {display: inline-block}\n",
       ".list-inline>li:not(:last-child)::after {content: \"\\00b7\"; padding: 0 .5ex}\n",
       "</style>\n",
       "<ol class=list-inline><li>'a'</li><li>'b'</li><li>'cnames'</li><li>'fileConn'</li><li>'lines'</li><li>'mydata'</li><li>'mytable'</li><li>'numbers'</li><li>'rnames'</li><li>'thuesen'</li><li>'whales'</li><li>'x'</li><li>'y'</li><li>'z'</li></ol>\n"
      ],
      "text/latex": [
       "\\begin{enumerate*}\n",
       "\\item 'a'\n",
       "\\item 'b'\n",
       "\\item 'cnames'\n",
       "\\item 'fileConn'\n",
       "\\item 'lines'\n",
       "\\item 'mydata'\n",
       "\\item 'mytable'\n",
       "\\item 'numbers'\n",
       "\\item 'rnames'\n",
       "\\item 'thuesen'\n",
       "\\item 'whales'\n",
       "\\item 'x'\n",
       "\\item 'y'\n",
       "\\item 'z'\n",
       "\\end{enumerate*}\n"
      ],
      "text/markdown": [
       "1. 'a'\n",
       "2. 'b'\n",
       "3. 'cnames'\n",
       "4. 'fileConn'\n",
       "5. 'lines'\n",
       "6. 'mydata'\n",
       "7. 'mytable'\n",
       "8. 'numbers'\n",
       "9. 'rnames'\n",
       "10. 'thuesen'\n",
       "11. 'whales'\n",
       "12. 'x'\n",
       "13. 'y'\n",
       "14. 'z'\n",
       "\n",
       "\n"
      ],
      "text/plain": [
       " [1] \"a\"        \"b\"        \"cnames\"   \"fileConn\" \"lines\"    \"mydata\"  \n",
       " [7] \"mytable\"  \"numbers\"  \"rnames\"   \"thuesen\"  \"whales\"   \"x\"       \n",
       "[13] \"y\"        \"z\"       "
      ]
     },
     "metadata": {},
     "output_type": "display_data"
    },
    {
     "data": {
      "text/html": [
       "<table>\n",
       "<caption>A data.frame: 6 × 2</caption>\n",
       "<thead>\n",
       "\t<tr><th></th><th scope=col>x</th><th scope=col>y</th></tr>\n",
       "\t<tr><th></th><th scope=col>&lt;dbl&gt;</th><th scope=col>&lt;dbl&gt;</th></tr>\n",
       "</thead>\n",
       "<tbody>\n",
       "\t<tr><th scope=row>1</th><td>-1.2216867</td><td>0.5540792</td></tr>\n",
       "\t<tr><th scope=row>2</th><td>-0.1834871</td><td>0.4929764</td></tr>\n",
       "\t<tr><th scope=row>3</th><td> 0.8306771</td><td>0.5376134</td></tr>\n",
       "\t<tr><th scope=row>4</th><td>-0.2253249</td><td>0.1224959</td></tr>\n",
       "\t<tr><th scope=row>5</th><td>-0.2381958</td><td>0.3241803</td></tr>\n",
       "\t<tr><th scope=row>6</th><td> 0.5878486</td><td>0.3376635</td></tr>\n",
       "</tbody>\n",
       "</table>\n"
      ],
      "text/latex": [
       "A data.frame: 6 × 2\n",
       "\\begin{tabular}{r|ll}\n",
       "  & x & y\\\\\n",
       "  & <dbl> & <dbl>\\\\\n",
       "\\hline\n",
       "\t1 & -1.2216867 & 0.5540792\\\\\n",
       "\t2 & -0.1834871 & 0.4929764\\\\\n",
       "\t3 &  0.8306771 & 0.5376134\\\\\n",
       "\t4 & -0.2253249 & 0.1224959\\\\\n",
       "\t5 & -0.2381958 & 0.3241803\\\\\n",
       "\t6 &  0.5878486 & 0.3376635\\\\\n",
       "\\end{tabular}\n"
      ],
      "text/markdown": [
       "\n",
       "A data.frame: 6 × 2\n",
       "\n",
       "| <!--/--> | x &lt;dbl&gt; | y &lt;dbl&gt; |\n",
       "|---|---|---|\n",
       "| 1 | -1.2216867 | 0.5540792 |\n",
       "| 2 | -0.1834871 | 0.4929764 |\n",
       "| 3 |  0.8306771 | 0.5376134 |\n",
       "| 4 | -0.2253249 | 0.1224959 |\n",
       "| 5 | -0.2381958 | 0.3241803 |\n",
       "| 6 |  0.5878486 | 0.3376635 |\n",
       "\n"
      ],
      "text/plain": [
       "  x          y        \n",
       "1 -1.2216867 0.5540792\n",
       "2 -0.1834871 0.4929764\n",
       "3  0.8306771 0.5376134\n",
       "4 -0.2253249 0.1224959\n",
       "5 -0.2381958 0.3241803\n",
       "6  0.5878486 0.3376635"
      ]
     },
     "metadata": {},
     "output_type": "display_data"
    },
    {
     "data": {
      "text/html": [
       "<style>\n",
       ".list-inline {list-style: none; margin:0; padding: 0}\n",
       ".list-inline>li {display: inline-block}\n",
       ".list-inline>li:not(:last-child)::after {content: \"\\00b7\"; padding: 0 .5ex}\n",
       "</style>\n",
       "<ol class=list-inline><li>3</li><li>4.4</li><li>0.333333333333333</li></ol>\n"
      ],
      "text/latex": [
       "\\begin{enumerate*}\n",
       "\\item 3\n",
       "\\item 4.4\n",
       "\\item 0.333333333333333\n",
       "\\end{enumerate*}\n"
      ],
      "text/markdown": [
       "1. 3\n",
       "2. 4.4\n",
       "3. 0.333333333333333\n",
       "\n",
       "\n"
      ],
      "text/plain": [
       "[1] 3.0000000 4.4000000 0.3333333"
      ]
     },
     "metadata": {},
     "output_type": "display_data"
    }
   ],
   "source": [
    "ls()\n",
    "head(a)\n",
    "b"
   ]
  },
  {
   "cell_type": "code",
   "execution_count": 84,
   "metadata": {},
   "outputs": [],
   "source": [
    "save.image(file=\"alldata.RData\") #then this file can be opened in another R session or even on different computer."
   ]
  },
  {
   "cell_type": "code",
   "execution_count": 116,
   "metadata": {},
   "outputs": [],
   "source": [
    "mult <- function(x, y) {\n",
    "    x*y\n",
    "}"
   ]
  },
  {
   "cell_type": "code",
   "execution_count": 86,
   "metadata": {},
   "outputs": [
    {
     "data": {
      "text/html": [
       "81"
      ],
      "text/latex": [
       "81"
      ],
      "text/markdown": [
       "81"
      ],
      "text/plain": [
       "[1] 81"
      ]
     },
     "metadata": {},
     "output_type": "display_data"
    }
   ],
   "source": [
    "mult(9, 9)"
   ]
  },
  {
   "cell_type": "code",
   "execution_count": 87,
   "metadata": {},
   "outputs": [],
   "source": [
    "dput(mult, file=\"mymult.R\")"
   ]
  },
  {
   "cell_type": "code",
   "execution_count": 88,
   "metadata": {},
   "outputs": [],
   "source": [
    "file.show(\"mymult.R\")"
   ]
  },
  {
   "cell_type": "code",
   "execution_count": 117,
   "metadata": {},
   "outputs": [],
   "source": [
    "dump(c('mult'), file=\"myfun.R\")"
   ]
  },
  {
   "cell_type": "code",
   "execution_count": 118,
   "metadata": {},
   "outputs": [],
   "source": [
    "file.show(\"myfun.R\")"
   ]
  },
  {
   "cell_type": "code",
   "execution_count": 91,
   "metadata": {},
   "outputs": [
    {
     "data": {
      "text/html": [
       "<style>\n",
       ".list-inline {list-style: none; margin:0; padding: 0}\n",
       ".list-inline>li {display: inline-block}\n",
       ".list-inline>li:not(:last-child)::after {content: \"\\00b7\"; padding: 0 .5ex}\n",
       "</style>\n",
       "<ol class=list-inline><li>-8</li><li>-6</li><li>-4</li><li>-2</li><li>0</li><li>2</li><li>4</li><li>6</li><li>8</li></ol>\n"
      ],
      "text/latex": [
       "\\begin{enumerate*}\n",
       "\\item -8\n",
       "\\item -6\n",
       "\\item -4\n",
       "\\item -2\n",
       "\\item 0\n",
       "\\item 2\n",
       "\\item 4\n",
       "\\item 6\n",
       "\\item 8\n",
       "\\end{enumerate*}\n"
      ],
      "text/markdown": [
       "1. -8\n",
       "2. -6\n",
       "3. -4\n",
       "4. -2\n",
       "5. 0\n",
       "6. 2\n",
       "7. 4\n",
       "8. 6\n",
       "9. 8\n",
       "\n",
       "\n"
      ],
      "text/plain": [
       "[1] -8 -6 -4 -2  0  2  4  6  8"
      ]
     },
     "metadata": {},
     "output_type": "display_data"
    },
    {
     "data": {
      "text/html": [
       "<style>\n",
       ".list-inline {list-style: none; margin:0; padding: 0}\n",
       ".list-inline>li {display: inline-block}\n",
       ".list-inline>li:not(:last-child)::after {content: \"\\00b7\"; padding: 0 .5ex}\n",
       "</style>\n",
       "<ol class=list-inline><li>-8</li><li>-6</li><li>-4</li><li>-2</li><li>0</li><li>2</li><li>4</li><li>6</li><li>8</li></ol>\n"
      ],
      "text/latex": [
       "\\begin{enumerate*}\n",
       "\\item -8\n",
       "\\item -6\n",
       "\\item -4\n",
       "\\item -2\n",
       "\\item 0\n",
       "\\item 2\n",
       "\\item 4\n",
       "\\item 6\n",
       "\\item 8\n",
       "\\end{enumerate*}\n"
      ],
      "text/markdown": [
       "1. -8\n",
       "2. -6\n",
       "3. -4\n",
       "4. -2\n",
       "5. 0\n",
       "6. 2\n",
       "7. 4\n",
       "8. 6\n",
       "9. 8\n",
       "\n",
       "\n"
      ],
      "text/plain": [
       "[1] -8 -6 -4 -2  0  2  4  6  8"
      ]
     },
     "metadata": {},
     "output_type": "display_data"
    }
   ],
   "source": [
    "# calling the functions\n",
    "# this is the file where we will call the functions in myfun.R and mymult.R\n",
    "times <- dget(\"mymult.R\")\n",
    "times(-4:4, 2)\n",
    "\n",
    "source(\"myfun.R\")\n",
    "mult(-4:4, 2)"
   ]
  },
  {
   "cell_type": "code",
   "execution_count": 92,
   "metadata": {
    "scrolled": true
   },
   "outputs": [
    {
     "name": "stdout",
     "output_type": "stream",
     "text": [
      "[1] 4\n"
     ]
    }
   ],
   "source": [
    "x=5\n",
    "\n",
    "if (x>9) \n",
    "{\n",
    "    print(2)\n",
    "} else\n",
    "{\n",
    "    print(4)\n",
    "}"
   ]
  },
  {
   "cell_type": "code",
   "execution_count": 93,
   "metadata": {},
   "outputs": [
    {
     "name": "stdout",
     "output_type": "stream",
     "text": [
      "[1] 2\n"
     ]
    }
   ],
   "source": [
    "x=8\n",
    "\n",
    "if(x<5){\n",
    "    print(1)\n",
    "} else if (x<10)  #the conditions are better to be exclusive from each other\n",
    "# } else if (5<=x & x<10) \n",
    "        {\n",
    "        print(2)\n",
    "        }else{ # x>=10\n",
    "           print(3)\n",
    "        }"
   ]
  },
  {
   "cell_type": "code",
   "execution_count": 94,
   "metadata": {
    "scrolled": true
   },
   "outputs": [
    {
     "data": {
      "text/html": [
       "8.01786218537018"
      ],
      "text/latex": [
       "8.01786218537018"
      ],
      "text/markdown": [
       "8.01786218537018"
      ],
      "text/plain": [
       "[1] 8.017862"
      ]
     },
     "metadata": {},
     "output_type": "display_data"
    },
    {
     "name": "stdout",
     "output_type": "stream",
     "text": [
      "[1] 10\n"
     ]
    }
   ],
   "source": [
    "x=runif(1, 0, 10);x\n",
    "if (x>3) print(10) else print(0)\n"
   ]
  },
  {
   "cell_type": "code",
   "execution_count": 95,
   "metadata": {},
   "outputs": [],
   "source": [
    "?runif"
   ]
  },
  {
   "cell_type": "code",
   "execution_count": 96,
   "metadata": {
    "scrolled": true
   },
   "outputs": [
    {
     "data": {
      "text/html": [
       "10"
      ],
      "text/latex": [
       "10"
      ],
      "text/markdown": [
       "10"
      ],
      "text/plain": [
       "[1] 10"
      ]
     },
     "metadata": {},
     "output_type": "display_data"
    }
   ],
   "source": [
    "x=runif(1, 0, 10)\n",
    "if (x>3) 10 else 0"
   ]
  },
  {
   "cell_type": "code",
   "execution_count": 97,
   "metadata": {
    "scrolled": false
   },
   "outputs": [
    {
     "name": "stdout",
     "output_type": "stream",
     "text": [
      "[1] 0\n",
      "[1] 0\n"
     ]
    }
   ],
   "source": [
    "x=runif(1, 0, 10)\n",
    "y=if (x>3) 10 else 0\n",
    "print(y)\n",
    "# x=runif(1, 0, 10)\n",
    "print(ifelse(x>3, 10, 0))"
   ]
  },
  {
   "cell_type": "code",
   "execution_count": 98,
   "metadata": {
    "scrolled": false
   },
   "outputs": [
    {
     "data": {
      "text/html": [
       "<pre class=language-r><code>function (test, yes, no) \n",
       "{\n",
       "<span style=white-space:pre-wrap>    if (is.atomic(test)) {</span>\n",
       "<span style=white-space:pre-wrap>        if (typeof(test) != \"logical\") </span>\n",
       "<span style=white-space:pre-wrap>            storage.mode(test) &lt;- \"logical\"</span>\n",
       "<span style=white-space:pre-wrap>        if (length(test) == 1 &amp;&amp; is.null(attributes(test))) {</span>\n",
       "<span style=white-space:pre-wrap>            if (is.na(test)) </span>\n",
       "<span style=white-space:pre-wrap>                return(NA)</span>\n",
       "<span style=white-space:pre-wrap>            else if (test) {</span>\n",
       "<span style=white-space:pre-wrap>                if (length(yes) == 1) {</span>\n",
       "<span style=white-space:pre-wrap>                  yat &lt;- attributes(yes)</span>\n",
       "<span style=white-space:pre-wrap>                  if (is.null(yat) || (is.function(yes) &amp;&amp; identical(names(yat), </span>\n",
       "<span style=white-space:pre-wrap>                    \"srcref\"))) </span>\n",
       "<span style=white-space:pre-wrap>                    return(yes)</span>\n",
       "<span style=white-space:pre-wrap>                }</span>\n",
       "<span style=white-space:pre-wrap>            }</span>\n",
       "<span style=white-space:pre-wrap>            else if (length(no) == 1) {</span>\n",
       "<span style=white-space:pre-wrap>                nat &lt;- attributes(no)</span>\n",
       "<span style=white-space:pre-wrap>                if (is.null(nat) || (is.function(no) &amp;&amp; identical(names(nat), </span>\n",
       "<span style=white-space:pre-wrap>                  \"srcref\"))) </span>\n",
       "<span style=white-space:pre-wrap>                  return(no)</span>\n",
       "<span style=white-space:pre-wrap>            }</span>\n",
       "<span style=white-space:pre-wrap>        }</span>\n",
       "<span style=white-space:pre-wrap>    }</span>\n",
       "<span style=white-space:pre-wrap>    else test &lt;- if (isS4(test)) </span>\n",
       "<span style=white-space:pre-wrap>        methods::as(test, \"logical\")</span>\n",
       "<span style=white-space:pre-wrap>    else as.logical(test)</span>\n",
       "<span style=white-space:pre-wrap>    ans &lt;- test</span>\n",
       "<span style=white-space:pre-wrap>    len &lt;- length(ans)</span>\n",
       "<span style=white-space:pre-wrap>    ypos &lt;- which(test)</span>\n",
       "<span style=white-space:pre-wrap>    npos &lt;- which(!test)</span>\n",
       "<span style=white-space:pre-wrap>    if (length(ypos) &gt; 0L) </span>\n",
       "<span style=white-space:pre-wrap>        ans[ypos] &lt;- rep(yes, length.out = len)[ypos]</span>\n",
       "<span style=white-space:pre-wrap>    if (length(npos) &gt; 0L) </span>\n",
       "<span style=white-space:pre-wrap>        ans[npos] &lt;- rep(no, length.out = len)[npos]</span>\n",
       "<span style=white-space:pre-wrap>    ans</span>\n",
       "}</code></pre>"
      ],
      "text/latex": [
       "\\begin{minted}{r}\n",
       "function (test, yes, no) \n",
       "\\{\n",
       "    if (is.atomic(test)) \\{\n",
       "        if (typeof(test) != \"logical\") \n",
       "            storage.mode(test) <- \"logical\"\n",
       "        if (length(test) == 1 \\&\\& is.null(attributes(test))) \\{\n",
       "            if (is.na(test)) \n",
       "                return(NA)\n",
       "            else if (test) \\{\n",
       "                if (length(yes) == 1) \\{\n",
       "                  yat <- attributes(yes)\n",
       "                  if (is.null(yat) \\textbar{}\\textbar{} (is.function(yes) \\&\\& identical(names(yat), \n",
       "                    \"srcref\"))) \n",
       "                    return(yes)\n",
       "                \\}\n",
       "            \\}\n",
       "            else if (length(no) == 1) \\{\n",
       "                nat <- attributes(no)\n",
       "                if (is.null(nat) \\textbar{}\\textbar{} (is.function(no) \\&\\& identical(names(nat), \n",
       "                  \"srcref\"))) \n",
       "                  return(no)\n",
       "            \\}\n",
       "        \\}\n",
       "    \\}\n",
       "    else test <- if (isS4(test)) \n",
       "        methods::as(test, \"logical\")\n",
       "    else as.logical(test)\n",
       "    ans <- test\n",
       "    len <- length(ans)\n",
       "    ypos <- which(test)\n",
       "    npos <- which(!test)\n",
       "    if (length(ypos) > 0L) \n",
       "        ans{[}ypos{]} <- rep(yes, length.out = len){[}ypos{]}\n",
       "    if (length(npos) > 0L) \n",
       "        ans{[}npos{]} <- rep(no, length.out = len){[}npos{]}\n",
       "    ans\n",
       "\\}\n",
       "\\end{minted}"
      ],
      "text/markdown": [
       "```r\n",
       "function (test, yes, no) \n",
       "{\n",
       "    if (is.atomic(test)) {\n",
       "        if (typeof(test) != \"logical\") \n",
       "            storage.mode(test) <- \"logical\"\n",
       "        if (length(test) == 1 && is.null(attributes(test))) {\n",
       "            if (is.na(test)) \n",
       "                return(NA)\n",
       "            else if (test) {\n",
       "                if (length(yes) == 1) {\n",
       "                  yat <- attributes(yes)\n",
       "                  if (is.null(yat) || (is.function(yes) && identical(names(yat), \n",
       "                    \"srcref\"))) \n",
       "                    return(yes)\n",
       "                }\n",
       "            }\n",
       "            else if (length(no) == 1) {\n",
       "                nat <- attributes(no)\n",
       "                if (is.null(nat) || (is.function(no) && identical(names(nat), \n",
       "                  \"srcref\"))) \n",
       "                  return(no)\n",
       "            }\n",
       "        }\n",
       "    }\n",
       "    else test <- if (isS4(test)) \n",
       "        methods::as(test, \"logical\")\n",
       "    else as.logical(test)\n",
       "    ans <- test\n",
       "    len <- length(ans)\n",
       "    ypos <- which(test)\n",
       "    npos <- which(!test)\n",
       "    if (length(ypos) > 0L) \n",
       "        ans[ypos] <- rep(yes, length.out = len)[ypos]\n",
       "    if (length(npos) > 0L) \n",
       "        ans[npos] <- rep(no, length.out = len)[npos]\n",
       "    ans\n",
       "}\n",
       "```"
      ],
      "text/plain": [
       "function (test, yes, no) \n",
       "{\n",
       "    if (is.atomic(test)) {\n",
       "        if (typeof(test) != \"logical\") \n",
       "            storage.mode(test) <- \"logical\"\n",
       "        if (length(test) == 1 && is.null(attributes(test))) {\n",
       "            if (is.na(test)) \n",
       "                return(NA)\n",
       "            else if (test) {\n",
       "                if (length(yes) == 1) {\n",
       "                  yat <- attributes(yes)\n",
       "                  if (is.null(yat) || (is.function(yes) && identical(names(yat), \n",
       "                    \"srcref\"))) \n",
       "                    return(yes)\n",
       "                }\n",
       "            }\n",
       "            else if (length(no) == 1) {\n",
       "                nat <- attributes(no)\n",
       "                if (is.null(nat) || (is.function(no) && identical(names(nat), \n",
       "                  \"srcref\"))) \n",
       "                  return(no)\n",
       "            }\n",
       "        }\n",
       "    }\n",
       "    else test <- if (isS4(test)) \n",
       "        methods::as(test, \"logical\")\n",
       "    else as.logical(test)\n",
       "    ans <- test\n",
       "    len <- length(ans)\n",
       "    ypos <- which(test)\n",
       "    npos <- which(!test)\n",
       "    if (length(ypos) > 0L) \n",
       "        ans[ypos] <- rep(yes, length.out = len)[ypos]\n",
       "    if (length(npos) > 0L) \n",
       "        ans[npos] <- rep(no, length.out = len)[npos]\n",
       "    ans\n",
       "}\n",
       "<bytecode: 0x00000000128e3a10>\n",
       "<environment: namespace:base>"
      ]
     },
     "metadata": {},
     "output_type": "display_data"
    }
   ],
   "source": [
    "ifelse #it creates both vectors, the yes and the no, and then subsets."
   ]
  },
  {
   "cell_type": "code",
   "execution_count": 99,
   "metadata": {
    "scrolled": true
   },
   "outputs": [
    {
     "data": {
      "text/html": [
       "<style>\n",
       ".list-inline {list-style: none; margin:0; padding: 0}\n",
       ".list-inline>li {display: inline-block}\n",
       ".list-inline>li:not(:last-child)::after {content: \"\\00b7\"; padding: 0 .5ex}\n",
       "</style>\n",
       "<ol class=list-inline><li>1</li><li>2</li><li>3</li><li>1</li><li>2</li></ol>\n"
      ],
      "text/latex": [
       "\\begin{enumerate*}\n",
       "\\item 1\n",
       "\\item 2\n",
       "\\item 3\n",
       "\\item 1\n",
       "\\item 2\n",
       "\\end{enumerate*}\n"
      ],
      "text/markdown": [
       "1. 1\n",
       "2. 2\n",
       "3. 3\n",
       "4. 1\n",
       "5. 2\n",
       "\n",
       "\n"
      ],
      "text/plain": [
       "[1] 1 2 3 1 2"
      ]
     },
     "metadata": {},
     "output_type": "display_data"
    }
   ],
   "source": [
    "rep(c(1,2,3), length.out =5)\n",
    "# ?rep"
   ]
  },
  {
   "cell_type": "code",
   "execution_count": 124,
   "metadata": {},
   "outputs": [
    {
     "name": "stderr",
     "output_type": "stream",
     "text": [
      "Warning message in sqrt(x):\n",
      "\"NaNs produced\"\n"
     ]
    },
    {
     "data": {
      "text/html": [
       "<style>\n",
       ".list-inline {list-style: none; margin:0; padding: 0}\n",
       ".list-inline>li {display: inline-block}\n",
       ".list-inline>li:not(:last-child)::after {content: \"\\00b7\"; padding: 0 .5ex}\n",
       "</style>\n",
       "<ol class=list-inline><li>2.44948974278318</li><li>2.23606797749979</li><li>2</li><li>1.73205080756888</li><li>1.4142135623731</li><li>1</li><li>0</li><li>NaN</li><li>NaN</li><li>NaN</li><li>NaN</li></ol>\n"
      ],
      "text/latex": [
       "\\begin{enumerate*}\n",
       "\\item 2.44948974278318\n",
       "\\item 2.23606797749979\n",
       "\\item 2\n",
       "\\item 1.73205080756888\n",
       "\\item 1.4142135623731\n",
       "\\item 1\n",
       "\\item 0\n",
       "\\item NaN\n",
       "\\item NaN\n",
       "\\item NaN\n",
       "\\item NaN\n",
       "\\end{enumerate*}\n"
      ],
      "text/markdown": [
       "1. 2.44948974278318\n",
       "2. 2.23606797749979\n",
       "3. 2\n",
       "4. 1.73205080756888\n",
       "5. 1.4142135623731\n",
       "6. 1\n",
       "7. 0\n",
       "8. NaN\n",
       "9. NaN\n",
       "10. NaN\n",
       "11. NaN\n",
       "\n",
       "\n"
      ],
      "text/plain": [
       " [1] 2.449490 2.236068 2.000000 1.732051 1.414214 1.000000 0.000000      NaN\n",
       " [9]      NaN      NaN      NaN"
      ]
     },
     "metadata": {},
     "output_type": "display_data"
    }
   ],
   "source": [
    "x=6:-4\n",
    "sqrt(x)"
   ]
  },
  {
   "cell_type": "code",
   "execution_count": 125,
   "metadata": {
    "scrolled": false
   },
   "outputs": [
    {
     "data": {
      "text/html": [
       "<style>\n",
       ".list-inline {list-style: none; margin:0; padding: 0}\n",
       ".list-inline>li {display: inline-block}\n",
       ".list-inline>li:not(:last-child)::after {content: \"\\00b7\"; padding: 0 .5ex}\n",
       "</style>\n",
       "<ol class=list-inline><li>6</li><li>5</li><li>4</li><li>3</li><li>2</li><li>1</li><li>0</li><li>0</li><li>0</li><li>0</li><li>0</li></ol>\n"
      ],
      "text/latex": [
       "\\begin{enumerate*}\n",
       "\\item 6\n",
       "\\item 5\n",
       "\\item 4\n",
       "\\item 3\n",
       "\\item 2\n",
       "\\item 1\n",
       "\\item 0\n",
       "\\item 0\n",
       "\\item 0\n",
       "\\item 0\n",
       "\\item 0\n",
       "\\end{enumerate*}\n"
      ],
      "text/markdown": [
       "1. 6\n",
       "2. 5\n",
       "3. 4\n",
       "4. 3\n",
       "5. 2\n",
       "6. 1\n",
       "7. 0\n",
       "8. 0\n",
       "9. 0\n",
       "10. 0\n",
       "11. 0\n",
       "\n",
       "\n"
      ],
      "text/plain": [
       " [1] 6 5 4 3 2 1 0 0 0 0 0"
      ]
     },
     "metadata": {},
     "output_type": "display_data"
    },
    {
     "data": {
      "text/html": [
       "<style>\n",
       ".list-inline {list-style: none; margin:0; padding: 0}\n",
       ".list-inline>li {display: inline-block}\n",
       ".list-inline>li:not(:last-child)::after {content: \"\\00b7\"; padding: 0 .5ex}\n",
       "</style>\n",
       "<ol class=list-inline><li>2.44948974278318</li><li>2.23606797749979</li><li>2</li><li>1.73205080756888</li><li>1.4142135623731</li><li>1</li><li>0</li><li>0</li><li>0</li><li>0</li><li>0</li></ol>\n"
      ],
      "text/latex": [
       "\\begin{enumerate*}\n",
       "\\item 2.44948974278318\n",
       "\\item 2.23606797749979\n",
       "\\item 2\n",
       "\\item 1.73205080756888\n",
       "\\item 1.4142135623731\n",
       "\\item 1\n",
       "\\item 0\n",
       "\\item 0\n",
       "\\item 0\n",
       "\\item 0\n",
       "\\item 0\n",
       "\\end{enumerate*}\n"
      ],
      "text/markdown": [
       "1. 2.44948974278318\n",
       "2. 2.23606797749979\n",
       "3. 2\n",
       "4. 1.73205080756888\n",
       "5. 1.4142135623731\n",
       "6. 1\n",
       "7. 0\n",
       "8. 0\n",
       "9. 0\n",
       "10. 0\n",
       "11. 0\n",
       "\n",
       "\n"
      ],
      "text/plain": [
       " [1] 2.449490 2.236068 2.000000 1.732051 1.414214 1.000000 0.000000 0.000000\n",
       " [9] 0.000000 0.000000 0.000000"
      ]
     },
     "metadata": {},
     "output_type": "display_data"
    }
   ],
   "source": [
    "y=ifelse(x>=0, x, 0);y\n",
    "sqrt(y)"
   ]
  },
  {
   "cell_type": "code",
   "execution_count": 126,
   "metadata": {},
   "outputs": [
    {
     "name": "stderr",
     "output_type": "stream",
     "text": [
      "Warning message in sqrt(x):\n",
      "\"NaNs produced\"\n"
     ]
    },
    {
     "data": {
      "text/html": [
       "<style>\n",
       ".list-inline {list-style: none; margin:0; padding: 0}\n",
       ".list-inline>li {display: inline-block}\n",
       ".list-inline>li:not(:last-child)::after {content: \"\\00b7\"; padding: 0 .5ex}\n",
       "</style>\n",
       "<ol class=list-inline><li>2.44948974278318</li><li>2.23606797749979</li><li>2</li><li>1.73205080756888</li><li>1.4142135623731</li><li>1</li><li>0</li><li>0</li><li>0</li><li>0</li><li>0</li></ol>\n"
      ],
      "text/latex": [
       "\\begin{enumerate*}\n",
       "\\item 2.44948974278318\n",
       "\\item 2.23606797749979\n",
       "\\item 2\n",
       "\\item 1.73205080756888\n",
       "\\item 1.4142135623731\n",
       "\\item 1\n",
       "\\item 0\n",
       "\\item 0\n",
       "\\item 0\n",
       "\\item 0\n",
       "\\item 0\n",
       "\\end{enumerate*}\n"
      ],
      "text/markdown": [
       "1. 2.44948974278318\n",
       "2. 2.23606797749979\n",
       "3. 2\n",
       "4. 1.73205080756888\n",
       "5. 1.4142135623731\n",
       "6. 1\n",
       "7. 0\n",
       "8. 0\n",
       "9. 0\n",
       "10. 0\n",
       "11. 0\n",
       "\n",
       "\n"
      ],
      "text/plain": [
       " [1] 2.449490 2.236068 2.000000 1.732051 1.414214 1.000000 0.000000 0.000000\n",
       " [9] 0.000000 0.000000 0.000000"
      ]
     },
     "metadata": {},
     "output_type": "display_data"
    }
   ],
   "source": [
    "ifelse(x>=0, sqrt(x), 0)"
   ]
  },
  {
   "cell_type": "code",
   "execution_count": 127,
   "metadata": {},
   "outputs": [
    {
     "name": "stdout",
     "output_type": "stream",
     "text": [
      " [1]  6  5  4  3  2  1  0 -1 -2 -3 -4\n"
     ]
    },
    {
     "name": "stderr",
     "output_type": "stream",
     "text": [
      "Warning message in sqrt(x):\n",
      "\"NaNs produced\"\n"
     ]
    },
    {
     "name": "stdout",
     "output_type": "stream",
     "text": [
      "[1] \"negative\"\n"
     ]
    },
    {
     "data": {
      "text/html": [
       "<style>\n",
       ".list-inline {list-style: none; margin:0; padding: 0}\n",
       ".list-inline>li {display: inline-block}\n",
       ".list-inline>li:not(:last-child)::after {content: \"\\00b7\"; padding: 0 .5ex}\n",
       "</style>\n",
       "<ol class=list-inline><li>2.44948974278318</li><li>2.23606797749979</li><li>2</li><li>1.73205080756888</li><li>1.4142135623731</li><li>1</li><li>0</li><li>0</li><li>0</li><li>0</li><li>0</li></ol>\n"
      ],
      "text/latex": [
       "\\begin{enumerate*}\n",
       "\\item 2.44948974278318\n",
       "\\item 2.23606797749979\n",
       "\\item 2\n",
       "\\item 1.73205080756888\n",
       "\\item 1.4142135623731\n",
       "\\item 1\n",
       "\\item 0\n",
       "\\item 0\n",
       "\\item 0\n",
       "\\item 0\n",
       "\\item 0\n",
       "\\end{enumerate*}\n"
      ],
      "text/markdown": [
       "1. 2.44948974278318\n",
       "2. 2.23606797749979\n",
       "3. 2\n",
       "4. 1.73205080756888\n",
       "5. 1.4142135623731\n",
       "6. 1\n",
       "7. 0\n",
       "8. 0\n",
       "9. 0\n",
       "10. 0\n",
       "11. 0\n",
       "\n",
       "\n"
      ],
      "text/plain": [
       " [1] 2.449490 2.236068 2.000000 1.732051 1.414214 1.000000 0.000000 0.000000\n",
       " [9] 0.000000 0.000000 0.000000"
      ]
     },
     "metadata": {},
     "output_type": "display_data"
    }
   ],
   "source": [
    "ifelse(x>=0, {print(x);sqrt(x)}, {print(\"negative\");0}) #recycling happens within ifelse function as seen above"
   ]
  },
  {
   "cell_type": "code",
   "execution_count": 102,
   "metadata": {
    "scrolled": true
   },
   "outputs": [
    {
     "data": {
      "text/html": [
       "'double'"
      ],
      "text/latex": [
       "'double'"
      ],
      "text/markdown": [
       "'double'"
      ],
      "text/plain": [
       "[1] \"double\""
      ]
     },
     "metadata": {},
     "output_type": "display_data"
    },
    {
     "data": {
      "text/html": [
       "'numeric'"
      ],
      "text/latex": [
       "'numeric'"
      ],
      "text/markdown": [
       "'numeric'"
      ],
      "text/plain": [
       "[1] \"numeric\""
      ]
     },
     "metadata": {},
     "output_type": "display_data"
    },
    {
     "data": {
      "text/html": [
       "'list'"
      ],
      "text/latex": [
       "'list'"
      ],
      "text/markdown": [
       "'list'"
      ],
      "text/plain": [
       "[1] \"list\""
      ]
     },
     "metadata": {},
     "output_type": "display_data"
    },
    {
     "data": {
      "text/html": [
       "'data.frame'"
      ],
      "text/latex": [
       "'data.frame'"
      ],
      "text/markdown": [
       "'data.frame'"
      ],
      "text/plain": [
       "[1] \"data.frame\""
      ]
     },
     "metadata": {},
     "output_type": "display_data"
    }
   ],
   "source": [
    "x=c(1,2,3)\n",
    "typeof(x)  #R internal type or storage mode\n",
    "class(x)   #object's class attribute, if not, it use the result of typeof\n",
    "# ?typeof\n",
    "# ?class\n",
    "y=data.frame(x=1:2, y=3:4)\n",
    "typeof(y)\n",
    "class(y)"
   ]
  },
  {
   "cell_type": "code",
   "execution_count": 103,
   "metadata": {},
   "outputs": [
    {
     "data": {
      "text/html": [
       "'logical'"
      ],
      "text/latex": [
       "'logical'"
      ],
      "text/markdown": [
       "'logical'"
      ],
      "text/plain": [
       "[1] \"logical\""
      ]
     },
     "metadata": {},
     "output_type": "display_data"
    },
    {
     "data": {
      "text/html": [
       "'integer'"
      ],
      "text/latex": [
       "'integer'"
      ],
      "text/markdown": [
       "'integer'"
      ],
      "text/plain": [
       "[1] \"integer\""
      ]
     },
     "metadata": {},
     "output_type": "display_data"
    },
    {
     "data": {
      "text/html": [
       "'double'"
      ],
      "text/latex": [
       "'double'"
      ],
      "text/markdown": [
       "'double'"
      ],
      "text/plain": [
       "[1] \"double\""
      ]
     },
     "metadata": {},
     "output_type": "display_data"
    }
   ],
   "source": [
    "yes <- 1:3\n",
    "no <- pi^(0:3)\n",
    "typeof(ifelse(NA,    yes, no)) # logical\n",
    "typeof(ifelse(TRUE,  yes, no)) # integer\n",
    "typeof(ifelse(FALSE, yes, no)) # double"
   ]
  },
  {
   "cell_type": "code",
   "execution_count": 104,
   "metadata": {
    "scrolled": false
   },
   "outputs": [
    {
     "name": "stdout",
     "output_type": "stream",
     "text": [
      "[1] 1\n",
      "[1] 2\n",
      "[1] 3\n",
      "[1] 4\n",
      "[1] 5\n",
      "[1] 6\n",
      "[1] 7\n",
      "[1] 8\n",
      "[1] 9\n",
      "[1] 10\n"
     ]
    }
   ],
   "source": [
    "for(i in 1:10) print(i)"
   ]
  },
  {
   "cell_type": "code",
   "execution_count": 105,
   "metadata": {
    "scrolled": false
   },
   "outputs": [
    {
     "name": "stdout",
     "output_type": "stream",
     "text": [
      "[1] \"a\"\n",
      "[1] \"b\"\n",
      "[1] \"c\"\n",
      "[1] \"a\"\n",
      "[1] \"b\"\n",
      "[1] \"c\"\n"
     ]
    }
   ],
   "source": [
    "x=c('a', 'b', 'c')\n",
    "for (i in x) print(i)\n",
    "for (i in 1:length(x)) print(x[i])"
   ]
  },
  {
   "cell_type": "code",
   "execution_count": 106,
   "metadata": {
    "scrolled": true
   },
   "outputs": [
    {
     "data": {
      "text/html": [
       "<style>\n",
       ".list-inline {list-style: none; margin:0; padding: 0}\n",
       ".list-inline>li {display: inline-block}\n",
       ".list-inline>li:not(:last-child)::after {content: \"\\00b7\"; padding: 0 .5ex}\n",
       "</style>\n",
       "<ol class=list-inline><li>1</li><li>2</li><li>3</li></ol>\n"
      ],
      "text/latex": [
       "\\begin{enumerate*}\n",
       "\\item 1\n",
       "\\item 2\n",
       "\\item 3\n",
       "\\end{enumerate*}\n"
      ],
      "text/markdown": [
       "1. 1\n",
       "2. 2\n",
       "3. 3\n",
       "\n",
       "\n"
      ],
      "text/plain": [
       "[1] 1 2 3"
      ]
     },
     "metadata": {},
     "output_type": "display_data"
    },
    {
     "name": "stdout",
     "output_type": "stream",
     "text": [
      "[1] 1\n",
      "[1] 2\n",
      "[1] 3\n"
     ]
    },
    {
     "data": {
      "text/html": [
       "'=================='"
      ],
      "text/latex": [
       "'=================='"
      ],
      "text/markdown": [
       "'=================='"
      ],
      "text/plain": [
       "[1] \"==================\""
      ]
     },
     "metadata": {},
     "output_type": "display_data"
    },
    {
     "data": {
      "text/html": [
       "<style>\n",
       ".list-inline {list-style: none; margin:0; padding: 0}\n",
       ".list-inline>li {display: inline-block}\n",
       ".list-inline>li:not(:last-child)::after {content: \"\\00b7\"; padding: 0 .5ex}\n",
       "</style>\n",
       "<ol class=list-inline><li>1</li><li>2</li><li>3</li></ol>\n"
      ],
      "text/latex": [
       "\\begin{enumerate*}\n",
       "\\item 1\n",
       "\\item 2\n",
       "\\item 3\n",
       "\\end{enumerate*}\n"
      ],
      "text/markdown": [
       "1. 1\n",
       "2. 2\n",
       "3. 3\n",
       "\n",
       "\n"
      ],
      "text/plain": [
       "[1] 1 2 3"
      ]
     },
     "metadata": {},
     "output_type": "display_data"
    },
    {
     "name": "stdout",
     "output_type": "stream",
     "text": [
      "[1] 1\n",
      "[1] 2\n",
      "[1] 3\n"
     ]
    }
   ],
   "source": [
    "x=c('a', 'b', 'c')\n",
    "# x=c()\n",
    "1:length(x)\n",
    "for (i in 1:length(x)) print(i)\n",
    "\"==================\"\n",
    "seq_along(x) #generate the index vector safely\n",
    "for (i in seq_along(x)) print(i)"
   ]
  },
  {
   "cell_type": "code",
   "execution_count": 107,
   "metadata": {},
   "outputs": [],
   "source": [
    "?seq_along"
   ]
  },
  {
   "cell_type": "code",
   "execution_count": 108,
   "metadata": {},
   "outputs": [
    {
     "name": "stdout",
     "output_type": "stream",
     "text": [
      "[1] 1\n",
      "[1] 2\n",
      "[1] 3\n",
      "[1] 6\n"
     ]
    },
    {
     "data": {
      "text/html": [
       "'===================='"
      ],
      "text/latex": [
       "'===================='"
      ],
      "text/markdown": [
       "'===================='"
      ],
      "text/plain": [
       "[1] \"====================\""
      ]
     },
     "metadata": {},
     "output_type": "display_data"
    },
    {
     "name": "stdout",
     "output_type": "stream",
     "text": [
      "[1] 1\n",
      "[1] 2\n",
      "[1] 2\n",
      "[1] 4\n",
      "[1] 3\n",
      "[1] 6\n"
     ]
    }
   ],
   "source": [
    "for (i in seq_along(x)) print(i);print(i*2)\n",
    "\"====================\"\n",
    "for (i in seq_along(x)) {print(i);print(i*2)}"
   ]
  },
  {
   "cell_type": "code",
   "execution_count": 109,
   "metadata": {
    "scrolled": false
   },
   "outputs": [
    {
     "name": "stdout",
     "output_type": "stream",
     "text": [
      "     [,1] [,2] [,3]\n",
      "[1,]    1    3    5\n",
      "[2,]    2    4    6\n"
     ]
    },
    {
     "data": {
      "text/html": [
       "2"
      ],
      "text/latex": [
       "2"
      ],
      "text/markdown": [
       "2"
      ],
      "text/plain": [
       "[1] 2"
      ]
     },
     "metadata": {},
     "output_type": "display_data"
    },
    {
     "data": {
      "text/html": [
       "3"
      ],
      "text/latex": [
       "3"
      ],
      "text/markdown": [
       "3"
      ],
      "text/plain": [
       "[1] 3"
      ]
     },
     "metadata": {},
     "output_type": "display_data"
    },
    {
     "data": {
      "text/html": [
       "<style>\n",
       ".list-inline {list-style: none; margin:0; padding: 0}\n",
       ".list-inline>li {display: inline-block}\n",
       ".list-inline>li:not(:last-child)::after {content: \"\\00b7\"; padding: 0 .5ex}\n",
       "</style>\n",
       "<ol class=list-inline><li>1</li><li>2</li></ol>\n"
      ],
      "text/latex": [
       "\\begin{enumerate*}\n",
       "\\item 1\n",
       "\\item 2\n",
       "\\end{enumerate*}\n"
      ],
      "text/markdown": [
       "1. 1\n",
       "2. 2\n",
       "\n",
       "\n"
      ],
      "text/plain": [
       "[1] 1 2"
      ]
     },
     "metadata": {},
     "output_type": "display_data"
    },
    {
     "data": {
      "text/html": [
       "<style>\n",
       ".list-inline {list-style: none; margin:0; padding: 0}\n",
       ".list-inline>li {display: inline-block}\n",
       ".list-inline>li:not(:last-child)::after {content: \"\\00b7\"; padding: 0 .5ex}\n",
       "</style>\n",
       "<ol class=list-inline><li>1</li><li>2</li><li>3</li></ol>\n"
      ],
      "text/latex": [
       "\\begin{enumerate*}\n",
       "\\item 1\n",
       "\\item 2\n",
       "\\item 3\n",
       "\\end{enumerate*}\n"
      ],
      "text/markdown": [
       "1. 1\n",
       "2. 2\n",
       "3. 3\n",
       "\n",
       "\n"
      ],
      "text/plain": [
       "[1] 1 2 3"
      ]
     },
     "metadata": {},
     "output_type": "display_data"
    },
    {
     "data": {
      "text/html": [
       "<style>\n",
       ".list-inline {list-style: none; margin:0; padding: 0}\n",
       ".list-inline>li {display: inline-block}\n",
       ".list-inline>li:not(:last-child)::after {content: \"\\00b7\"; padding: 0 .5ex}\n",
       "</style>\n",
       "<ol class=list-inline><li>1</li><li>2</li><li>3</li><li>4</li><li>5</li><li>6</li><li>7</li><li>8</li><li>9</li><li>10</li></ol>\n"
      ],
      "text/latex": [
       "\\begin{enumerate*}\n",
       "\\item 1\n",
       "\\item 2\n",
       "\\item 3\n",
       "\\item 4\n",
       "\\item 5\n",
       "\\item 6\n",
       "\\item 7\n",
       "\\item 8\n",
       "\\item 9\n",
       "\\item 10\n",
       "\\end{enumerate*}\n"
      ],
      "text/markdown": [
       "1. 1\n",
       "2. 2\n",
       "3. 3\n",
       "4. 4\n",
       "5. 5\n",
       "6. 6\n",
       "7. 7\n",
       "8. 8\n",
       "9. 9\n",
       "10. 10\n",
       "\n",
       "\n"
      ],
      "text/plain": [
       " [1]  1  2  3  4  5  6  7  8  9 10"
      ]
     },
     "metadata": {},
     "output_type": "display_data"
    },
    {
     "data": {
      "text/html": [],
      "text/latex": [],
      "text/markdown": [],
      "text/plain": [
       "integer(0)"
      ]
     },
     "metadata": {},
     "output_type": "display_data"
    },
    {
     "data": {
      "text/html": [
       "1"
      ],
      "text/latex": [
       "1"
      ],
      "text/markdown": [
       "1"
      ],
      "text/plain": [
       "[1] 1"
      ]
     },
     "metadata": {},
     "output_type": "display_data"
    },
    {
     "data": {
      "text/html": [
       "<style>\n",
       ".list-inline {list-style: none; margin:0; padding: 0}\n",
       ".list-inline>li {display: inline-block}\n",
       ".list-inline>li:not(:last-child)::after {content: \"\\00b7\"; padding: 0 .5ex}\n",
       "</style>\n",
       "<ol class=list-inline><li>1</li><li>2</li><li>3</li><li>4</li><li>5</li><li>6</li><li>7</li><li>8</li><li>9</li><li>10</li></ol>\n"
      ],
      "text/latex": [
       "\\begin{enumerate*}\n",
       "\\item 1\n",
       "\\item 2\n",
       "\\item 3\n",
       "\\item 4\n",
       "\\item 5\n",
       "\\item 6\n",
       "\\item 7\n",
       "\\item 8\n",
       "\\item 9\n",
       "\\item 10\n",
       "\\end{enumerate*}\n"
      ],
      "text/markdown": [
       "1. 1\n",
       "2. 2\n",
       "3. 3\n",
       "4. 4\n",
       "5. 5\n",
       "6. 6\n",
       "7. 7\n",
       "8. 8\n",
       "9. 9\n",
       "10. 10\n",
       "\n",
       "\n"
      ],
      "text/plain": [
       " [1]  1  2  3  4  5  6  7  8  9 10"
      ]
     },
     "metadata": {},
     "output_type": "display_data"
    },
    {
     "name": "stdout",
     "output_type": "stream",
     "text": [
      "[1] \"i= 1 j= 1 x= 1\"\n",
      "[1] \"i= 1 j= 2 x= 3\"\n",
      "[1] \"i= 1 j= 3 x= 5\"\n",
      "[1] \"i= 2 j= 1 x= 2\"\n",
      "[1] \"i= 2 j= 2 x= 4\"\n",
      "[1] \"i= 2 j= 3 x= 6\"\n"
     ]
    }
   ],
   "source": [
    "x=matrix(1:6, 2, 3)\n",
    "print(x)\n",
    "\n",
    "nrow(x)\n",
    "ncol(x)\n",
    "seq_len(nrow(x))\n",
    "seq_len(ncol(x))\n",
    "seq_len(10)\n",
    "seq_len(0)\n",
    "seq_along(10)\n",
    "seq_along(1:10)\n",
    "\n",
    "for(i in seq_len(nrow(x))) {\n",
    "    for (j in seq_len(ncol(x))) {\n",
    "        print(paste(\"i=\", i, \"j=\", j, \"x=\", x[i, j], sep=\" \"))\n",
    "#         print(x[i,j])\n",
    "        }\n",
    "}"
   ]
  },
  {
   "cell_type": "code",
   "execution_count": 110,
   "metadata": {
    "scrolled": true
   },
   "outputs": [
    {
     "name": "stdout",
     "output_type": "stream",
     "text": [
      "[1] 1\n",
      "[1] 2\n",
      "[1] 3\n",
      "[1] 4\n",
      "[1] 5\n"
     ]
    }
   ],
   "source": [
    "x <- 1\n",
    "repeat {\n",
    "    print(x)\n",
    "    x = x+1\n",
    "    if (x == 6) break\n",
    "}"
   ]
  },
  {
   "cell_type": "code",
   "execution_count": 112,
   "metadata": {},
   "outputs": [
    {
     "data": {
      "text/html": [
       "<style>\n",
       ".list-inline {list-style: none; margin:0; padding: 0}\n",
       ".list-inline>li {display: inline-block}\n",
       ".list-inline>li:not(:last-child)::after {content: \"\\00b7\"; padding: 0 .5ex}\n",
       "</style>\n",
       "<ol class=list-inline><li>a</li><li>b</li><li>c</li><li>a</li><li>b</li><li>c</li><li>a</li><li>b</li><li>c</li><li>a</li><li>b</li><li>c</li><li>a</li><li>b</li><li>c</li></ol>\n",
       "\n",
       "<details>\n",
       "\t<summary style=display:list-item;cursor:pointer>\n",
       "\t\t<strong>Levels</strong>:\n",
       "\t</summary>\n",
       "\t<style>\n",
       "\t.list-inline {list-style: none; margin:0; padding: 0}\n",
       "\t.list-inline>li {display: inline-block}\n",
       "\t.list-inline>li:not(:last-child)::after {content: \"\\00b7\"; padding: 0 .5ex}\n",
       "\t</style>\n",
       "\t<ol class=list-inline><li>'a'</li><li>'b'</li><li>'c'</li></ol>\n",
       "</details>"
      ],
      "text/latex": [
       "\\begin{enumerate*}\n",
       "\\item a\n",
       "\\item b\n",
       "\\item c\n",
       "\\item a\n",
       "\\item b\n",
       "\\item c\n",
       "\\item a\n",
       "\\item b\n",
       "\\item c\n",
       "\\item a\n",
       "\\item b\n",
       "\\item c\n",
       "\\item a\n",
       "\\item b\n",
       "\\item c\n",
       "\\end{enumerate*}\n",
       "\n",
       "\\emph{Levels}: \\begin{enumerate*}\n",
       "\\item 'a'\n",
       "\\item 'b'\n",
       "\\item 'c'\n",
       "\\end{enumerate*}\n"
      ],
      "text/markdown": [
       "1. a\n",
       "2. b\n",
       "3. c\n",
       "4. a\n",
       "5. b\n",
       "6. c\n",
       "7. a\n",
       "8. b\n",
       "9. c\n",
       "10. a\n",
       "11. b\n",
       "12. c\n",
       "13. a\n",
       "14. b\n",
       "15. c\n",
       "\n",
       "\n",
       "\n",
       "**Levels**: 1. 'a'\n",
       "2. 'b'\n",
       "3. 'c'\n",
       "\n",
       "\n"
      ],
      "text/plain": [
       " [1] a b c a b c a b c a b c a b c\n",
       "Levels: a b c"
      ]
     },
     "metadata": {},
     "output_type": "display_data"
    }
   ],
   "source": [
    "x=data.frame(1:3, 10001:10003, c(\"a\", \"b\", \"c\",\"a\", \"b\", \"c\",\"a\", \"b\", \"c\",\"a\", \"b\", \"c\",\"a\", \"b\", \"c\"))\n",
    "x$c..a....b....c....a....b....c....a....b....c....a....b..\n",
    "# y=list(a=1:3, b=4:6, c=4:6)\n",
    "# # x$a\n",
    "# # y$a\n",
    "# x[2]\n",
    "# x$2"
   ]
  },
  {
   "cell_type": "code",
   "execution_count": 30,
   "metadata": {
    "scrolled": true
   },
   "outputs": [
    {
     "data": {
      "text/html": [
       "<table>\n",
       "<caption>A data.frame: 3 × 2</caption>\n",
       "<thead>\n",
       "\t<tr><th scope=col>a</th><th scope=col>b.a.</th></tr>\n",
       "\t<tr><th scope=col>&lt;int&gt;</th><th scope=col>&lt;int&gt;</th></tr>\n",
       "</thead>\n",
       "<tbody>\n",
       "\t<tr><td>1</td><td>4</td></tr>\n",
       "\t<tr><td>2</td><td>5</td></tr>\n",
       "\t<tr><td>3</td><td>6</td></tr>\n",
       "</tbody>\n",
       "</table>\n"
      ],
      "text/latex": [
       "A data.frame: 3 × 2\n",
       "\\begin{tabular}{ll}\n",
       " a & b.a.\\\\\n",
       " <int> & <int>\\\\\n",
       "\\hline\n",
       "\t 1 & 4\\\\\n",
       "\t 2 & 5\\\\\n",
       "\t 3 & 6\\\\\n",
       "\\end{tabular}\n"
      ],
      "text/markdown": [
       "\n",
       "A data.frame: 3 × 2\n",
       "\n",
       "| a &lt;int&gt; | b.a. &lt;int&gt; |\n",
       "|---|---|\n",
       "| 1 | 4 |\n",
       "| 2 | 5 |\n",
       "| 3 | 6 |\n",
       "\n"
      ],
      "text/plain": [
       "  a b.a.\n",
       "1 1 4   \n",
       "2 2 5   \n",
       "3 3 6   "
      ]
     },
     "metadata": {},
     "output_type": "display_data"
    }
   ],
   "source": [
    "mydf=data.frame(a=1:3, \"b a \"=4:6)\n",
    "mydf"
   ]
  },
  {
   "cell_type": "code",
   "execution_count": 40,
   "metadata": {},
   "outputs": [
    {
     "data": {
      "text/html": [
       "<style>\n",
       ".list-inline {list-style: none; margin:0; padding: 0}\n",
       ".list-inline>li {display: inline-block}\n",
       ".list-inline>li:not(:last-child)::after {content: \"\\00b7\"; padding: 0 .5ex}\n",
       "</style>\n",
       "<ol class=list-inline><li>4</li><li>5</li><li>6</li></ol>\n"
      ],
      "text/latex": [
       "\\begin{enumerate*}\n",
       "\\item 4\n",
       "\\item 5\n",
       "\\item 6\n",
       "\\end{enumerate*}\n"
      ],
      "text/markdown": [
       "1. 4\n",
       "2. 5\n",
       "3. 6\n",
       "\n",
       "\n"
      ],
      "text/plain": [
       "[1] 4 5 6"
      ]
     },
     "metadata": {},
     "output_type": "display_data"
    }
   ],
   "source": [
    "mydf$b."
   ]
  },
  {
   "cell_type": "code",
   "execution_count": 54,
   "metadata": {
    "scrolled": true
   },
   "outputs": [
    {
     "data": {
      "text/html": [
       "'integer'"
      ],
      "text/latex": [
       "'integer'"
      ],
      "text/markdown": [
       "'integer'"
      ],
      "text/plain": [
       "[1] \"integer\""
      ]
     },
     "metadata": {},
     "output_type": "display_data"
    }
   ],
   "source": [
    "typeof(1:4)"
   ]
  },
  {
   "cell_type": "code",
   "execution_count": 60,
   "metadata": {
    "scrolled": true
   },
   "outputs": [
    {
     "name": "stderr",
     "output_type": "stream",
     "text": [
      "Warning message in matrix(1:5, 2, 3):\n",
      "\"data length [5] is not a sub-multiple or multiple of the number of rows [2]\"\n"
     ]
    },
    {
     "data": {
      "text/html": [
       "<table>\n",
       "<caption>A matrix: 2 × 3 of type int</caption>\n",
       "<tbody>\n",
       "\t<tr><td>1</td><td>3</td><td>5</td></tr>\n",
       "\t<tr><td>2</td><td>4</td><td>1</td></tr>\n",
       "</tbody>\n",
       "</table>\n"
      ],
      "text/latex": [
       "A matrix: 2 × 3 of type int\n",
       "\\begin{tabular}{lll}\n",
       "\t 1 & 3 & 5\\\\\n",
       "\t 2 & 4 & 1\\\\\n",
       "\\end{tabular}\n"
      ],
      "text/markdown": [
       "\n",
       "A matrix: 2 × 3 of type int\n",
       "\n",
       "| 1 | 3 | 5 |\n",
       "| 2 | 4 | 1 |\n",
       "\n"
      ],
      "text/plain": [
       "     [,1] [,2] [,3]\n",
       "[1,] 1    3    5   \n",
       "[2,] 2    4    1   "
      ]
     },
     "metadata": {},
     "output_type": "display_data"
    }
   ],
   "source": [
    "matrix(1:5, 2, 3)\n",
    "\n",
    "# 1 3 1\n",
    "# 2 4 2"
   ]
  },
  {
   "cell_type": "code",
   "execution_count": 63,
   "metadata": {},
   "outputs": [
    {
     "name": "stderr",
     "output_type": "stream",
     "text": [
      "Warning message in matrix(1:5, nrow = 3):\n",
      "\"data length [5] is not a sub-multiple or multiple of the number of rows [3]\"\n"
     ]
    },
    {
     "data": {
      "text/html": [
       "<table>\n",
       "<caption>A matrix: 3 × 2 of type int</caption>\n",
       "<tbody>\n",
       "\t<tr><td>1</td><td>4</td></tr>\n",
       "\t<tr><td>2</td><td>5</td></tr>\n",
       "\t<tr><td>3</td><td>1</td></tr>\n",
       "</tbody>\n",
       "</table>\n"
      ],
      "text/latex": [
       "A matrix: 3 × 2 of type int\n",
       "\\begin{tabular}{ll}\n",
       "\t 1 & 4\\\\\n",
       "\t 2 & 5\\\\\n",
       "\t 3 & 1\\\\\n",
       "\\end{tabular}\n"
      ],
      "text/markdown": [
       "\n",
       "A matrix: 3 × 2 of type int\n",
       "\n",
       "| 1 | 4 |\n",
       "| 2 | 5 |\n",
       "| 3 | 1 |\n",
       "\n"
      ],
      "text/plain": [
       "     [,1] [,2]\n",
       "[1,] 1    4   \n",
       "[2,] 2    5   \n",
       "[3,] 3    1   "
      ]
     },
     "metadata": {},
     "output_type": "display_data"
    }
   ],
   "source": [
    "matrix(1:5, nrow=3)\n",
    "# 1 3 5\n",
    "# 2 4 1"
   ]
  }
 ],
 "metadata": {
  "kernelspec": {
   "display_name": "R",
   "language": "R",
   "name": "ir"
  },
  "language_info": {
   "codemirror_mode": "r",
   "file_extension": ".r",
   "mimetype": "text/x-r-source",
   "name": "R",
   "pygments_lexer": "r",
   "version": "3.6.1"
  }
 },
 "nbformat": 4,
 "nbformat_minor": 2
}
