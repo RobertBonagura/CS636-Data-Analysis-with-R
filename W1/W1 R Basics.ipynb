{
 "cells": [
  {
   "cell_type": "code",
   "execution_count": 7,
   "metadata": {
    "hide_input": false,
    "scrolled": false
   },
   "outputs": [
    {
     "data": {
      "text/html": [
       "<pre class=language-r><code>new(\"refMethodDef\", .Data = function (save = \"default\", status = 0, \n",
       "<span style=white-space:pre-wrap>    runLast = TRUE) </span>\n",
       "{\n",
       "<span style=white-space:pre-wrap>    save &lt;- switch(save, default = , yes = TRUE, no = FALSE, </span>\n",
       "<span style=white-space:pre-wrap>        ask = ask(\"Save workspace image? [y/n/c]: \"), stop(\"unknown `save` value\"))</span>\n",
       "<span style=white-space:pre-wrap>    if (is.null(save)) </span>\n",
       "<span style=white-space:pre-wrap>        return()</span>\n",
       "<span style=white-space:pre-wrap>    if (runLast) {</span>\n",
       "<span style=white-space:pre-wrap>        if (!is.null(.GlobalEnv$.Last)) </span>\n",
       "<span style=white-space:pre-wrap>            .GlobalEnv$.Last()</span>\n",
       "<span style=white-space:pre-wrap>        if (!is.null(.GlobalEnv$.Last.sys)) </span>\n",
       "<span style=white-space:pre-wrap>            .GlobalEnv$.Last.sys()</span>\n",
       "<span style=white-space:pre-wrap>    }</span>\n",
       "<span style=white-space:pre-wrap>    if (save) </span>\n",
       "<span style=white-space:pre-wrap>        NULL</span>\n",
       "<span style=white-space:pre-wrap>    payload &lt;&lt;- c(.self$payload, list(list(source = \"ask_exit\", </span>\n",
       "<span style=white-space:pre-wrap>        keepkernel = FALSE)))</span>\n",
       "}, mayCall = character(0), name = \"quit\", refClassName = \"Executor\", \n",
       "<span style=white-space:pre-wrap>    superClassMethod = \"\")</span></code></pre>"
      ],
      "text/latex": [
       "\\begin{minted}{r}\n",
       "new(\"refMethodDef\", .Data = function (save = \"default\", status = 0, \n",
       "    runLast = TRUE) \n",
       "\\{\n",
       "    save <- switch(save, default = , yes = TRUE, no = FALSE, \n",
       "        ask = ask(\"Save workspace image? {[}y/n/c{]}: \"), stop(\"unknown `save` value\"))\n",
       "    if (is.null(save)) \n",
       "        return()\n",
       "    if (runLast) \\{\n",
       "        if (!is.null(.GlobalEnv\\$.Last)) \n",
       "            .GlobalEnv\\$.Last()\n",
       "        if (!is.null(.GlobalEnv\\$.Last.sys)) \n",
       "            .GlobalEnv\\$.Last.sys()\n",
       "    \\}\n",
       "    if (save) \n",
       "        NULL\n",
       "    payload <<- c(.self\\$payload, list(list(source = \"ask\\_exit\", \n",
       "        keepkernel = FALSE)))\n",
       "\\}, mayCall = character(0), name = \"quit\", refClassName = \"Executor\", \n",
       "    superClassMethod = \"\")\n",
       "\\end{minted}"
      ],
      "text/markdown": [
       "```r\n",
       "new(\"refMethodDef\", .Data = function (save = \"default\", status = 0, \n",
       "    runLast = TRUE) \n",
       "{\n",
       "    save <- switch(save, default = , yes = TRUE, no = FALSE, \n",
       "        ask = ask(\"Save workspace image? [y/n/c]: \"), stop(\"unknown `save` value\"))\n",
       "    if (is.null(save)) \n",
       "        return()\n",
       "    if (runLast) {\n",
       "        if (!is.null(.GlobalEnv$.Last)) \n",
       "            .GlobalEnv$.Last()\n",
       "        if (!is.null(.GlobalEnv$.Last.sys)) \n",
       "            .GlobalEnv$.Last.sys()\n",
       "    }\n",
       "    if (save) \n",
       "        NULL\n",
       "    payload <<- c(.self$payload, list(list(source = \"ask_exit\", \n",
       "        keepkernel = FALSE)))\n",
       "}, mayCall = character(0), name = \"quit\", refClassName = \"Executor\", \n",
       "    superClassMethod = \"\")\n",
       "```"
      ],
      "text/plain": [
       "new(\"refMethodDef\", .Data = function (save = \"default\", status = 0, \n",
       "    runLast = TRUE) \n",
       "{\n",
       "    save <- switch(save, default = , yes = TRUE, no = FALSE, \n",
       "        ask = ask(\"Save workspace image? [y/n/c]: \"), stop(\"unknown `save` value\"))\n",
       "    if (is.null(save)) \n",
       "        return()\n",
       "    if (runLast) {\n",
       "        if (!is.null(.GlobalEnv$.Last)) \n",
       "            .GlobalEnv$.Last()\n",
       "        if (!is.null(.GlobalEnv$.Last.sys)) \n",
       "            .GlobalEnv$.Last.sys()\n",
       "    }\n",
       "    if (save) \n",
       "        NULL\n",
       "    payload <<- c(.self$payload, list(list(source = \"ask_exit\", \n",
       "        keepkernel = FALSE)))\n",
       "}, mayCall = character(0), name = \"quit\", refClassName = \"Executor\", \n",
       "    superClassMethod = \"\")\n",
       "<environment: 0x55646e4d3b68>\n",
       "attr(,\"mayCall\")\n",
       "character(0)\n",
       "attr(,\"name\")\n",
       "[1] \"quit\"\n",
       "attr(,\"refClassName\")\n",
       "[1] \"Executor\"\n",
       "attr(,\"superClassMethod\")\n",
       "[1] \"\"\n",
       "attr(,\"class\")\n",
       "[1] \"refMethodDef\"\n",
       "attr(,\"class\")attr(,\"package\")\n",
       "[1] \"methods\""
      ]
     },
     "metadata": {},
     "output_type": "display_data"
    }
   ],
   "source": [
    "q"
   ]
  },
  {
   "cell_type": "code",
   "execution_count": 2,
   "metadata": {
    "scrolled": true
   },
   "outputs": [
    {
     "name": "stdout",
     "output_type": "stream",
     "text": [
      "[1] 1\n",
      " [1]  1  2  3  4  5  6  7  8  9 10\n",
      " [1]  2  3  4  5  6  7  8  9 10 11\n"
     ]
    }
   ],
   "source": [
    "x=1\n",
    "y=1:10\n",
    "z=x+y #vectorization\n",
    "\n",
    "# 1\n",
    "# +\n",
    "# 1  2  3  4  5  6  7  8  9 10\n",
    "\n",
    "# 1  1  1  1  1  1  1  1  1  1  \n",
    "# +\n",
    "# 1  2  3  4  5  6  7  8  9 10\n",
    "\n",
    "# =\n",
    "\n",
    "# 2  3  4  5  6  7  8  9 10 11\n",
    "\n",
    "print(x)\n",
    "print(y)\n",
    "print(z)"
   ]
  },
  {
   "cell_type": "code",
   "execution_count": 3,
   "metadata": {},
   "outputs": [
    {
     "data": {
      "text/html": [
       "<style>\n",
       ".list-inline {list-style: none; margin:0; padding: 0}\n",
       ".list-inline>li {display: inline-block}\n",
       ".list-inline>li:not(:last-child)::after {content: \"\\00b7\"; padding: 0 .5ex}\n",
       "</style>\n",
       "<ol class=list-inline><li>1</li><li>2</li><li>3</li><li>4</li><li>5</li><li>6</li><li>7</li><li>8</li><li>9</li><li>10</li></ol>\n"
      ],
      "text/latex": [
       "\\begin{enumerate*}\n",
       "\\item 1\n",
       "\\item 2\n",
       "\\item 3\n",
       "\\item 4\n",
       "\\item 5\n",
       "\\item 6\n",
       "\\item 7\n",
       "\\item 8\n",
       "\\item 9\n",
       "\\item 10\n",
       "\\end{enumerate*}\n"
      ],
      "text/markdown": [
       "1. 1\n",
       "2. 2\n",
       "3. 3\n",
       "4. 4\n",
       "5. 5\n",
       "6. 6\n",
       "7. 7\n",
       "8. 8\n",
       "9. 9\n",
       "10. 10\n",
       "\n",
       "\n"
      ],
      "text/plain": [
       " [1]  1  2  3  4  5  6  7  8  9 10"
      ]
     },
     "metadata": {},
     "output_type": "display_data"
    },
    {
     "data": {
      "text/html": [
       "<style>\n",
       ".list-inline {list-style: none; margin:0; padding: 0}\n",
       ".list-inline>li {display: inline-block}\n",
       ".list-inline>li:not(:last-child)::after {content: \"\\00b7\"; padding: 0 .5ex}\n",
       "</style>\n",
       "<ol class=list-inline><li>1</li><li>2</li><li>3</li><li>4</li><li>5</li><li>6</li><li>7</li><li>8</li><li>9</li><li>10</li></ol>\n"
      ],
      "text/latex": [
       "\\begin{enumerate*}\n",
       "\\item 1\n",
       "\\item 2\n",
       "\\item 3\n",
       "\\item 4\n",
       "\\item 5\n",
       "\\item 6\n",
       "\\item 7\n",
       "\\item 8\n",
       "\\item 9\n",
       "\\item 10\n",
       "\\end{enumerate*}\n"
      ],
      "text/markdown": [
       "1. 1\n",
       "2. 2\n",
       "3. 3\n",
       "4. 4\n",
       "5. 5\n",
       "6. 6\n",
       "7. 7\n",
       "8. 8\n",
       "9. 9\n",
       "10. 10\n",
       "\n",
       "\n"
      ],
      "text/plain": [
       " [1]  1  2  3  4  5  6  7  8  9 10"
      ]
     },
     "metadata": {},
     "output_type": "display_data"
    },
    {
     "data": {
      "text/html": [
       "<style>\n",
       ".list-inline {list-style: none; margin:0; padding: 0}\n",
       ".list-inline>li {display: inline-block}\n",
       ".list-inline>li:not(:last-child)::after {content: \"\\00b7\"; padding: 0 .5ex}\n",
       "</style>\n",
       "<ol class=list-inline><li>2</li><li>4</li><li>6</li><li>8</li><li>10</li><li>12</li><li>14</li><li>16</li><li>18</li><li>20</li></ol>\n"
      ],
      "text/latex": [
       "\\begin{enumerate*}\n",
       "\\item 2\n",
       "\\item 4\n",
       "\\item 6\n",
       "\\item 8\n",
       "\\item 10\n",
       "\\item 12\n",
       "\\item 14\n",
       "\\item 16\n",
       "\\item 18\n",
       "\\item 20\n",
       "\\end{enumerate*}\n"
      ],
      "text/markdown": [
       "1. 2\n",
       "2. 4\n",
       "3. 6\n",
       "4. 8\n",
       "5. 10\n",
       "6. 12\n",
       "7. 14\n",
       "8. 16\n",
       "9. 18\n",
       "10. 20\n",
       "\n",
       "\n"
      ],
      "text/plain": [
       " [1]  2  4  6  8 10 12 14 16 18 20"
      ]
     },
     "metadata": {},
     "output_type": "display_data"
    }
   ],
   "source": [
    "y\n",
    "y\n",
    "y+y"
   ]
  },
  {
   "cell_type": "code",
   "execution_count": 4,
   "metadata": {},
   "outputs": [
    {
     "data": {
      "text/html": [
       "<style>\n",
       ".list-inline {list-style: none; margin:0; padding: 0}\n",
       ".list-inline>li {display: inline-block}\n",
       ".list-inline>li:not(:last-child)::after {content: \"\\00b7\"; padding: 0 .5ex}\n",
       "</style>\n",
       "<ol class=list-inline><li>1</li><li>2</li></ol>\n"
      ],
      "text/latex": [
       "\\begin{enumerate*}\n",
       "\\item 1\n",
       "\\item 2\n",
       "\\end{enumerate*}\n"
      ],
      "text/markdown": [
       "1. 1\n",
       "2. 2\n",
       "\n",
       "\n"
      ],
      "text/plain": [
       "[1] 1 2"
      ]
     },
     "metadata": {},
     "output_type": "display_data"
    },
    {
     "data": {
      "text/html": [
       "<style>\n",
       ".list-inline {list-style: none; margin:0; padding: 0}\n",
       ".list-inline>li {display: inline-block}\n",
       ".list-inline>li:not(:last-child)::after {content: \"\\00b7\"; padding: 0 .5ex}\n",
       "</style>\n",
       "<ol class=list-inline><li>1</li><li>2</li><li>3</li></ol>\n"
      ],
      "text/latex": [
       "\\begin{enumerate*}\n",
       "\\item 1\n",
       "\\item 2\n",
       "\\item 3\n",
       "\\end{enumerate*}\n"
      ],
      "text/markdown": [
       "1. 1\n",
       "2. 2\n",
       "3. 3\n",
       "\n",
       "\n"
      ],
      "text/plain": [
       "[1] 1 2 3"
      ]
     },
     "metadata": {},
     "output_type": "display_data"
    },
    {
     "name": "stderr",
     "output_type": "stream",
     "text": [
      "Warning message in x + y:\n",
      "\"longer object length is not a multiple of shorter object length\"\n"
     ]
    },
    {
     "data": {
      "text/html": [
       "<style>\n",
       ".list-inline {list-style: none; margin:0; padding: 0}\n",
       ".list-inline>li {display: inline-block}\n",
       ".list-inline>li:not(:last-child)::after {content: \"\\00b7\"; padding: 0 .5ex}\n",
       "</style>\n",
       "<ol class=list-inline><li>2</li><li>4</li><li>4</li></ol>\n"
      ],
      "text/latex": [
       "\\begin{enumerate*}\n",
       "\\item 2\n",
       "\\item 4\n",
       "\\item 4\n",
       "\\end{enumerate*}\n"
      ],
      "text/markdown": [
       "1. 2\n",
       "2. 4\n",
       "3. 4\n",
       "\n",
       "\n"
      ],
      "text/plain": [
       "[1] 2 4 4"
      ]
     },
     "metadata": {},
     "output_type": "display_data"
    }
   ],
   "source": [
    "x=1:2\n",
    "y=1:3\n",
    "x;y\n",
    "x+y #recycle the vector\n",
    "\n",
    "# 1 2 1 2 1 2 1 2\n",
    "# 1 2 3\n",
    "# then we get\n",
    "# 2 4 4"
   ]
  },
  {
   "cell_type": "code",
   "execution_count": 5,
   "metadata": {},
   "outputs": [
    {
     "data": {
      "text/html": [
       "1"
      ],
      "text/latex": [
       "1"
      ],
      "text/markdown": [
       "1"
      ],
      "text/plain": [
       "[1] 1"
      ]
     },
     "metadata": {},
     "output_type": "display_data"
    },
    {
     "data": {
      "text/html": [
       "<style>\n",
       ".list-inline {list-style: none; margin:0; padding: 0}\n",
       ".list-inline>li {display: inline-block}\n",
       ".list-inline>li:not(:last-child)::after {content: \"\\00b7\"; padding: 0 .5ex}\n",
       "</style>\n",
       "<ol class=list-inline><li>1</li><li>2</li><li>3</li></ol>\n"
      ],
      "text/latex": [
       "\\begin{enumerate*}\n",
       "\\item 1\n",
       "\\item 2\n",
       "\\item 3\n",
       "\\end{enumerate*}\n"
      ],
      "text/markdown": [
       "1. 1\n",
       "2. 2\n",
       "3. 3\n",
       "\n",
       "\n"
      ],
      "text/plain": [
       "[1] 1 2 3"
      ]
     },
     "metadata": {},
     "output_type": "display_data"
    },
    {
     "data": {
      "text/html": [
       "<style>\n",
       ".list-inline {list-style: none; margin:0; padding: 0}\n",
       ".list-inline>li {display: inline-block}\n",
       ".list-inline>li:not(:last-child)::after {content: \"\\00b7\"; padding: 0 .5ex}\n",
       "</style>\n",
       "<ol class=list-inline><li>2</li><li>3</li><li>4</li></ol>\n"
      ],
      "text/latex": [
       "\\begin{enumerate*}\n",
       "\\item 2\n",
       "\\item 3\n",
       "\\item 4\n",
       "\\end{enumerate*}\n"
      ],
      "text/markdown": [
       "1. 2\n",
       "2. 3\n",
       "3. 4\n",
       "\n",
       "\n"
      ],
      "text/plain": [
       "[1] 2 3 4"
      ]
     },
     "metadata": {},
     "output_type": "display_data"
    }
   ],
   "source": [
    "x=1\n",
    "y=1:3\n",
    "x;y\n",
    "x+y #recycling x\n",
    "\n",
    "# 1 1 1 1 1 1 1 \n",
    "# 1 2 3\n",
    "\n",
    "# 2 3 4"
   ]
  },
  {
   "cell_type": "code",
   "execution_count": 86,
   "metadata": {},
   "outputs": [
    {
     "name": "stderr",
     "output_type": "stream",
     "text": [
      "Warning message in x + y:\n",
      "\"longer object length is not a multiple of shorter object length\"\n",
      "Warning message in x + y + z:\n",
      "\"longer object length is not a multiple of shorter object length\"\n",
      "Warning message in x + y + z + a:\n",
      "\"longer object length is not a multiple of shorter object length\"\n"
     ]
    },
    {
     "data": {
      "text/html": [
       "<style>\n",
       ".list-inline {list-style: none; margin:0; padding: 0}\n",
       ".list-inline>li {display: inline-block}\n",
       ".list-inline>li:not(:last-child)::after {content: \"\\00b7\"; padding: 0 .5ex}\n",
       "</style>\n",
       "<ol class=list-inline><li>4</li><li>8</li><li>10</li><li>10</li><li>14</li><li>9</li></ol>\n"
      ],
      "text/latex": [
       "\\begin{enumerate*}\n",
       "\\item 4\n",
       "\\item 8\n",
       "\\item 10\n",
       "\\item 10\n",
       "\\item 14\n",
       "\\item 9\n",
       "\\end{enumerate*}\n"
      ],
      "text/markdown": [
       "1. 4\n",
       "2. 8\n",
       "3. 10\n",
       "4. 10\n",
       "5. 14\n",
       "6. 9\n",
       "\n",
       "\n"
      ],
      "text/plain": [
       "[1]  4  8 10 10 14  9"
      ]
     },
     "metadata": {},
     "output_type": "display_data"
    },
    {
     "name": "stderr",
     "output_type": "stream",
     "text": [
      "Warning message in x + y:\n",
      "\"longer object length is not a multiple of shorter object length\"\n",
      "Warning message in z + a:\n",
      "\"longer object length is not a multiple of shorter object length\"\n"
     ]
    },
    {
     "data": {
      "text/html": [
       "<style>\n",
       ".list-inline {list-style: none; margin:0; padding: 0}\n",
       ".list-inline>li {display: inline-block}\n",
       ".list-inline>li:not(:last-child)::after {content: \"\\00b7\"; padding: 0 .5ex}\n",
       "</style>\n",
       "<ol class=list-inline><li>4</li><li>8</li><li>10</li><li>10</li><li>14</li><li>11</li></ol>\n"
      ],
      "text/latex": [
       "\\begin{enumerate*}\n",
       "\\item 4\n",
       "\\item 8\n",
       "\\item 10\n",
       "\\item 10\n",
       "\\item 14\n",
       "\\item 11\n",
       "\\end{enumerate*}\n"
      ],
      "text/markdown": [
       "1. 4\n",
       "2. 8\n",
       "3. 10\n",
       "4. 10\n",
       "5. 14\n",
       "6. 11\n",
       "\n",
       "\n"
      ],
      "text/plain": [
       "[1]  4  8 10 10 14 11"
      ]
     },
     "metadata": {},
     "output_type": "display_data"
    }
   ],
   "source": [
    "x=1:2\n",
    "y=1:3\n",
    "z=1:5\n",
    "a=1:6\n",
    "\n",
    "# wrong\n",
    "# 1 2 1 2\n",
    "# 1 2 3 1\n",
    "# 1 2 3 4\n",
    "\n",
    "# 1 2 1 2 1 2\n",
    "# 1 2 3 \n",
    "# 2 4 4 (x+y)\n",
    "\n",
    "\n",
    "# 2 4 4 2 4 4 2 4 4\n",
    "# 1 2 3 4 5\n",
    "# 3 6 7 6 9 (x+y+z)\n",
    "\n",
    "# 3 6 7 6 9\n",
    "# 1 2 1 2 1\n",
    "# 4 8 8 8 10\n",
    "\n",
    "x+y+z+a\n",
    "(x+y)+(z+a)"
   ]
  },
  {
   "cell_type": "code",
   "execution_count": 6,
   "metadata": {
    "scrolled": true
   },
   "outputs": [
    {
     "data": {
      "text/html": [
       "101"
      ],
      "text/latex": [
       "101"
      ],
      "text/markdown": [
       "101"
      ],
      "text/plain": [
       "[1] 101"
      ]
     },
     "metadata": {},
     "output_type": "display_data"
    }
   ],
   "source": [
    "# rm(list=ls(all=TRUE))\n",
    "x+100"
   ]
  },
  {
   "cell_type": "code",
   "execution_count": 8,
   "metadata": {},
   "outputs": [
    {
     "data": {
      "text/html": [
       "5"
      ],
      "text/latex": [
       "5"
      ],
      "text/markdown": [
       "5"
      ],
      "text/plain": [
       "[1] 5"
      ]
     },
     "metadata": {},
     "output_type": "display_data"
    }
   ],
   "source": [
    "log2(32)"
   ]
  },
  {
   "cell_type": "code",
   "execution_count": 9,
   "metadata": {
    "scrolled": false
   },
   "outputs": [],
   "source": [
    "?log2"
   ]
  },
  {
   "cell_type": "code",
   "execution_count": 2,
   "metadata": {},
   "outputs": [],
   "source": [
    "?log"
   ]
  },
  {
   "cell_type": "code",
   "execution_count": 10,
   "metadata": {},
   "outputs": [
    {
     "data": {
      "text/html": [
       "2.71828182845905"
      ],
      "text/latex": [
       "2.71828182845905"
      ],
      "text/markdown": [
       "2.71828182845905"
      ],
      "text/plain": [
       "[1] 2.718282"
      ]
     },
     "metadata": {},
     "output_type": "display_data"
    }
   ],
   "source": [
    "e=exp(1)\n",
    "e"
   ]
  },
  {
   "cell_type": "code",
   "execution_count": 11,
   "metadata": {},
   "outputs": [
    {
     "data": {
      "text/html": [
       "2.71828182845905"
      ],
      "text/latex": [
       "2.71828182845905"
      ],
      "text/markdown": [
       "2.71828182845905"
      ],
      "text/plain": [
       "[1] 2.718282"
      ]
     },
     "metadata": {},
     "output_type": "display_data"
    }
   ],
   "source": [
    "exp(1)"
   ]
  },
  {
   "cell_type": "code",
   "execution_count": 12,
   "metadata": {},
   "outputs": [
    {
     "data": {
      "text/html": [
       "3"
      ],
      "text/latex": [
       "3"
      ],
      "text/markdown": [
       "3"
      ],
      "text/plain": [
       "[1] 3"
      ]
     },
     "metadata": {},
     "output_type": "display_data"
    },
    {
     "data": {
      "text/html": [
       "7"
      ],
      "text/latex": [
       "7"
      ],
      "text/markdown": [
       "7"
      ],
      "text/plain": [
       "[1] 7"
      ]
     },
     "metadata": {},
     "output_type": "display_data"
    }
   ],
   "source": [
    "log(exp(3))\n",
    "log10(1e7) # = 7"
   ]
  },
  {
   "cell_type": "code",
   "execution_count": 13,
   "metadata": {
    "scrolled": true
   },
   "outputs": [
    {
     "data": {
      "text/html": [
       "<style>\n",
       ".list-inline {list-style: none; margin:0; padding: 0}\n",
       ".list-inline>li {display: inline-block}\n",
       ".list-inline>li:not(:last-child)::after {content: \"\\00b7\"; padding: 0 .5ex}\n",
       "</style>\n",
       "<ol class=list-inline><li>0.001</li><li>1e-05</li><li>1e-07</li><li>1e-09</li><li>1e-11</li><li>1e-13</li><li>1e-15</li><li>1e-17</li><li>1e-19</li></ol>\n"
      ],
      "text/latex": [
       "\\begin{enumerate*}\n",
       "\\item 0.001\n",
       "\\item 1e-05\n",
       "\\item 1e-07\n",
       "\\item 1e-09\n",
       "\\item 1e-11\n",
       "\\item 1e-13\n",
       "\\item 1e-15\n",
       "\\item 1e-17\n",
       "\\item 1e-19\n",
       "\\end{enumerate*}\n"
      ],
      "text/markdown": [
       "1. 0.001\n",
       "2. 1e-05\n",
       "3. 1e-07\n",
       "4. 1e-09\n",
       "5. 1e-11\n",
       "6. 1e-13\n",
       "7. 1e-15\n",
       "8. 1e-17\n",
       "9. 1e-19\n",
       "\n",
       "\n"
      ],
      "text/plain": [
       "[1] 1e-03 1e-05 1e-07 1e-09 1e-11 1e-13 1e-15 1e-17 1e-19"
      ]
     },
     "metadata": {},
     "output_type": "display_data"
    }
   ],
   "source": [
    "10^-(1+2*1:9)"
   ]
  },
  {
   "cell_type": "code",
   "execution_count": 14,
   "metadata": {},
   "outputs": [
    {
     "data": {
      "text/html": [
       "0.301029995663981"
      ],
      "text/latex": [
       "0.301029995663981"
      ],
      "text/markdown": [
       "0.301029995663981"
      ],
      "text/plain": [
       "[1] 0.30103"
      ]
     },
     "metadata": {},
     "output_type": "display_data"
    },
    {
     "data": {
      "text/html": [
       "<style>\n",
       ".list-inline {list-style: none; margin:0; padding: 0}\n",
       ".list-inline>li {display: inline-block}\n",
       ".list-inline>li:not(:last-child)::after {content: \"\\00b7\"; padding: 0 .5ex}\n",
       "</style>\n",
       "<ol class=list-inline><li>1</li><li>2</li><li>3</li><li>4</li><li>5</li><li>6</li><li>7</li><li>8</li><li>9</li><li>10</li></ol>\n"
      ],
      "text/latex": [
       "\\begin{enumerate*}\n",
       "\\item 1\n",
       "\\item 2\n",
       "\\item 3\n",
       "\\item 4\n",
       "\\item 5\n",
       "\\item 6\n",
       "\\item 7\n",
       "\\item 8\n",
       "\\item 9\n",
       "\\item 10\n",
       "\\end{enumerate*}\n"
      ],
      "text/markdown": [
       "1. 1\n",
       "2. 2\n",
       "3. 3\n",
       "4. 4\n",
       "5. 5\n",
       "6. 6\n",
       "7. 7\n",
       "8. 8\n",
       "9. 9\n",
       "10. 10\n",
       "\n",
       "\n"
      ],
      "text/plain": [
       " [1]  1  2  3  4  5  6  7  8  9 10"
      ]
     },
     "metadata": {},
     "output_type": "display_data"
    },
    {
     "data": {
      "text/html": [
       "<style>\n",
       ".list-inline {list-style: none; margin:0; padding: 0}\n",
       ".list-inline>li {display: inline-block}\n",
       ".list-inline>li:not(:last-child)::after {content: \"\\00b7\"; padding: 0 .5ex}\n",
       "</style>\n",
       "<ol class=list-inline><li>0</li><li>0.301029995663981</li><li>0.477121254719662</li><li>0.602059991327962</li><li>0.698970004336019</li><li>0.778151250383644</li><li>0.845098040014257</li><li>0.903089986991944</li><li>0.954242509439325</li><li>1</li></ol>\n"
      ],
      "text/latex": [
       "\\begin{enumerate*}\n",
       "\\item 0\n",
       "\\item 0.301029995663981\n",
       "\\item 0.477121254719662\n",
       "\\item 0.602059991327962\n",
       "\\item 0.698970004336019\n",
       "\\item 0.778151250383644\n",
       "\\item 0.845098040014257\n",
       "\\item 0.903089986991944\n",
       "\\item 0.954242509439325\n",
       "\\item 1\n",
       "\\end{enumerate*}\n"
      ],
      "text/markdown": [
       "1. 0\n",
       "2. 0.301029995663981\n",
       "3. 0.477121254719662\n",
       "4. 0.602059991327962\n",
       "5. 0.698970004336019\n",
       "6. 0.778151250383644\n",
       "7. 0.845098040014257\n",
       "8. 0.903089986991944\n",
       "9. 0.954242509439325\n",
       "10. 1\n",
       "\n",
       "\n"
      ],
      "text/plain": [
       " [1] 0.0000000 0.3010300 0.4771213 0.6020600 0.6989700 0.7781513 0.8450980\n",
       " [8] 0.9030900 0.9542425 1.0000000"
      ]
     },
     "metadata": {},
     "output_type": "display_data"
    }
   ],
   "source": [
    "log10(2)\n",
    "1:10\n",
    "log10(1:10)"
   ]
  },
  {
   "cell_type": "code",
   "execution_count": 15,
   "metadata": {
    "scrolled": true
   },
   "outputs": [
    {
     "data": {
      "text/html": [
       "<style>\n",
       ".list-inline {list-style: none; margin:0; padding: 0}\n",
       ".list-inline>li {display: inline-block}\n",
       ".list-inline>li:not(:last-child)::after {content: \"\\00b7\"; padding: 0 .5ex}\n",
       "</style>\n",
       "<ol class=list-inline><li>0.001</li><li>1e-05</li><li>1e-07</li><li>1e-09</li><li>1e-11</li><li>1e-13</li><li>1e-15</li><li>1e-17</li><li>1e-19</li></ol>\n"
      ],
      "text/latex": [
       "\\begin{enumerate*}\n",
       "\\item 0.001\n",
       "\\item 1e-05\n",
       "\\item 1e-07\n",
       "\\item 1e-09\n",
       "\\item 1e-11\n",
       "\\item 1e-13\n",
       "\\item 1e-15\n",
       "\\item 1e-17\n",
       "\\item 1e-19\n",
       "\\end{enumerate*}\n"
      ],
      "text/markdown": [
       "1. 0.001\n",
       "2. 1e-05\n",
       "3. 1e-07\n",
       "4. 1e-09\n",
       "5. 1e-11\n",
       "6. 1e-13\n",
       "7. 1e-15\n",
       "8. 1e-17\n",
       "9. 1e-19\n",
       "\n",
       "\n"
      ],
      "text/plain": [
       "[1] 1e-03 1e-05 1e-07 1e-09 1e-11 1e-13 1e-15 1e-17 1e-19"
      ]
     },
     "metadata": {},
     "output_type": "display_data"
    },
    {
     "data": {
      "text/html": [
       "<table>\n",
       "<caption>A matrix: 9 × 6 of type dbl</caption>\n",
       "<thead>\n",
       "\t<tr><th scope=col>x</th><th scope=col></th><th scope=col></th><th scope=col></th><th scope=col></th><th scope=col></th></tr>\n",
       "</thead>\n",
       "<tbody>\n",
       "\t<tr><td>1e-03</td><td>9.995003e-04</td><td>9.995003e-04</td><td>1.000500e-03</td><td>1.000500e-03</td><td> -3</td></tr>\n",
       "\t<tr><td>1e-05</td><td>9.999950e-06</td><td>9.999950e-06</td><td>1.000005e-05</td><td>1.000005e-05</td><td> -5</td></tr>\n",
       "\t<tr><td>1e-07</td><td>1.000000e-07</td><td>1.000000e-07</td><td>1.000000e-07</td><td>1.000000e-07</td><td> -7</td></tr>\n",
       "\t<tr><td>1e-09</td><td>1.000000e-09</td><td>1.000000e-09</td><td>1.000000e-09</td><td>1.000000e-09</td><td> -9</td></tr>\n",
       "\t<tr><td>1e-11</td><td>1.000000e-11</td><td>1.000000e-11</td><td>1.000000e-11</td><td>1.000000e-11</td><td>-11</td></tr>\n",
       "\t<tr><td>1e-13</td><td>9.992007e-14</td><td>1.000000e-13</td><td>9.992007e-14</td><td>1.000000e-13</td><td>-13</td></tr>\n",
       "\t<tr><td>1e-15</td><td>1.110223e-15</td><td>1.000000e-15</td><td>1.110223e-15</td><td>1.000000e-15</td><td>-15</td></tr>\n",
       "\t<tr><td>1e-17</td><td>0.000000e+00</td><td>1.000000e-17</td><td>0.000000e+00</td><td>1.000000e-17</td><td>-17</td></tr>\n",
       "\t<tr><td>1e-19</td><td>0.000000e+00</td><td>1.000000e-19</td><td>0.000000e+00</td><td>1.000000e-19</td><td>-19</td></tr>\n",
       "</tbody>\n",
       "</table>\n"
      ],
      "text/latex": [
       "A matrix: 9 × 6 of type dbl\n",
       "\\begin{tabular}{llllll}\n",
       " x &  &  &  &  & \\\\\n",
       "\\hline\n",
       "\t 1e-03 & 9.995003e-04 & 9.995003e-04 & 1.000500e-03 & 1.000500e-03 &  -3\\\\\n",
       "\t 1e-05 & 9.999950e-06 & 9.999950e-06 & 1.000005e-05 & 1.000005e-05 &  -5\\\\\n",
       "\t 1e-07 & 1.000000e-07 & 1.000000e-07 & 1.000000e-07 & 1.000000e-07 &  -7\\\\\n",
       "\t 1e-09 & 1.000000e-09 & 1.000000e-09 & 1.000000e-09 & 1.000000e-09 &  -9\\\\\n",
       "\t 1e-11 & 1.000000e-11 & 1.000000e-11 & 1.000000e-11 & 1.000000e-11 & -11\\\\\n",
       "\t 1e-13 & 9.992007e-14 & 1.000000e-13 & 9.992007e-14 & 1.000000e-13 & -13\\\\\n",
       "\t 1e-15 & 1.110223e-15 & 1.000000e-15 & 1.110223e-15 & 1.000000e-15 & -15\\\\\n",
       "\t 1e-17 & 0.000000e+00 & 1.000000e-17 & 0.000000e+00 & 1.000000e-17 & -17\\\\\n",
       "\t 1e-19 & 0.000000e+00 & 1.000000e-19 & 0.000000e+00 & 1.000000e-19 & -19\\\\\n",
       "\\end{tabular}\n"
      ],
      "text/markdown": [
       "\n",
       "A matrix: 9 × 6 of type dbl\n",
       "\n",
       "| x | <!----> | <!----> | <!----> | <!----> | <!----> |\n",
       "|---|---|---|---|---|---|\n",
       "| 1e-03 | 9.995003e-04 | 9.995003e-04 | 1.000500e-03 | 1.000500e-03 |  -3 |\n",
       "| 1e-05 | 9.999950e-06 | 9.999950e-06 | 1.000005e-05 | 1.000005e-05 |  -5 |\n",
       "| 1e-07 | 1.000000e-07 | 1.000000e-07 | 1.000000e-07 | 1.000000e-07 |  -7 |\n",
       "| 1e-09 | 1.000000e-09 | 1.000000e-09 | 1.000000e-09 | 1.000000e-09 |  -9 |\n",
       "| 1e-11 | 1.000000e-11 | 1.000000e-11 | 1.000000e-11 | 1.000000e-11 | -11 |\n",
       "| 1e-13 | 9.992007e-14 | 1.000000e-13 | 9.992007e-14 | 1.000000e-13 | -13 |\n",
       "| 1e-15 | 1.110223e-15 | 1.000000e-15 | 1.110223e-15 | 1.000000e-15 | -15 |\n",
       "| 1e-17 | 0.000000e+00 | 1.000000e-17 | 0.000000e+00 | 1.000000e-17 | -17 |\n",
       "| 1e-19 | 0.000000e+00 | 1.000000e-19 | 0.000000e+00 | 1.000000e-19 | -19 |\n",
       "\n"
      ],
      "text/plain": [
       "      x                                                            \n",
       " [1,] 1e-03 9.995003e-04 9.995003e-04 1.000500e-03 1.000500e-03  -3\n",
       " [2,] 1e-05 9.999950e-06 9.999950e-06 1.000005e-05 1.000005e-05  -5\n",
       " [3,] 1e-07 1.000000e-07 1.000000e-07 1.000000e-07 1.000000e-07  -7\n",
       " [4,] 1e-09 1.000000e-09 1.000000e-09 1.000000e-09 1.000000e-09  -9\n",
       " [5,] 1e-11 1.000000e-11 1.000000e-11 1.000000e-11 1.000000e-11 -11\n",
       " [6,] 1e-13 9.992007e-14 1.000000e-13 9.992007e-14 1.000000e-13 -13\n",
       " [7,] 1e-15 1.110223e-15 1.000000e-15 1.110223e-15 1.000000e-15 -15\n",
       " [8,] 1e-17 0.000000e+00 1.000000e-17 0.000000e+00 1.000000e-17 -17\n",
       " [9,] 1e-19 0.000000e+00 1.000000e-19 0.000000e+00 1.000000e-19 -19"
      ]
     },
     "metadata": {},
     "output_type": "display_data"
    }
   ],
   "source": [
    "x = 10^-(1+2*1:9); x\n",
    "cbind(x, log(1+x), log1p(x), exp(x)-1, expm1(x), log10(x)) #cbind is column bind"
   ]
  },
  {
   "cell_type": "code",
   "execution_count": 16,
   "metadata": {
    "scrolled": true
   },
   "outputs": [
    {
     "data": {
      "text/html": [
       "1.4142135623731"
      ],
      "text/latex": [
       "1.4142135623731"
      ],
      "text/markdown": [
       "1.4142135623731"
      ],
      "text/plain": [
       "[1] 1.414214"
      ]
     },
     "metadata": {},
     "output_type": "display_data"
    }
   ],
   "source": [
    "sqrt(2)"
   ]
  },
  {
   "cell_type": "code",
   "execution_count": 17,
   "metadata": {
    "scrolled": true
   },
   "outputs": [
    {
     "data": {
      "text/html": [
       "<style>\n",
       ".list-inline {list-style: none; margin:0; padding: 0}\n",
       ".list-inline>li {display: inline-block}\n",
       ".list-inline>li:not(:last-child)::after {content: \"\\00b7\"; padding: 0 .5ex}\n",
       "</style>\n",
       "<ol class=list-inline><li>1</li><li>1.4142135623731</li><li>1.73205080756888</li><li>2</li><li>2.23606797749979</li><li>2.44948974278318</li><li>2.64575131106459</li><li>2.82842712474619</li><li>3</li></ol>\n"
      ],
      "text/latex": [
       "\\begin{enumerate*}\n",
       "\\item 1\n",
       "\\item 1.4142135623731\n",
       "\\item 1.73205080756888\n",
       "\\item 2\n",
       "\\item 2.23606797749979\n",
       "\\item 2.44948974278318\n",
       "\\item 2.64575131106459\n",
       "\\item 2.82842712474619\n",
       "\\item 3\n",
       "\\end{enumerate*}\n"
      ],
      "text/markdown": [
       "1. 1\n",
       "2. 1.4142135623731\n",
       "3. 1.73205080756888\n",
       "4. 2\n",
       "5. 2.23606797749979\n",
       "6. 2.44948974278318\n",
       "7. 2.64575131106459\n",
       "8. 2.82842712474619\n",
       "9. 3\n",
       "\n",
       "\n"
      ],
      "text/plain": [
       "[1] 1.000000 1.414214 1.732051 2.000000 2.236068 2.449490 2.645751 2.828427\n",
       "[9] 3.000000"
      ]
     },
     "metadata": {},
     "output_type": "display_data"
    }
   ],
   "source": [
    "sqrt(1:9)"
   ]
  },
  {
   "cell_type": "code",
   "execution_count": 102,
   "metadata": {
    "scrolled": true
   },
   "outputs": [
    {
     "data": {
      "text/html": [
       "<style>\n",
       ".list-inline {list-style: none; margin:0; padding: 0}\n",
       ".list-inline>li {display: inline-block}\n",
       ".list-inline>li:not(:last-child)::after {content: \"\\00b7\"; padding: 0 .5ex}\n",
       "</style>\n",
       "<ol class=list-inline><li>0</li><li>1</li><li>2</li><li>3</li><li>4</li><li>5</li></ol>\n"
      ],
      "text/latex": [
       "\\begin{enumerate*}\n",
       "\\item 0\n",
       "\\item 1\n",
       "\\item 2\n",
       "\\item 3\n",
       "\\item 4\n",
       "\\item 5\n",
       "\\end{enumerate*}\n"
      ],
      "text/markdown": [
       "1. 0\n",
       "2. 1\n",
       "3. 2\n",
       "4. 3\n",
       "5. 4\n",
       "6. 5\n",
       "\n",
       "\n"
      ],
      "text/plain": [
       "[1] 0 1 2 3 4 5"
      ]
     },
     "metadata": {},
     "output_type": "display_data"
    },
    {
     "data": {
      "text/html": [
       "<style>\n",
       ".list-inline {list-style: none; margin:0; padding: 0}\n",
       ".list-inline>li {display: inline-block}\n",
       ".list-inline>li:not(:last-child)::after {content: \"\\00b7\"; padding: 0 .5ex}\n",
       "</style>\n",
       "<ol class=list-inline><li>0</li><li>0.833333333333333</li><li>1.66666666666667</li><li>2.5</li><li>3.33333333333333</li><li>4.16666666666667</li><li>5</li></ol>\n"
      ],
      "text/latex": [
       "\\begin{enumerate*}\n",
       "\\item 0\n",
       "\\item 0.833333333333333\n",
       "\\item 1.66666666666667\n",
       "\\item 2.5\n",
       "\\item 3.33333333333333\n",
       "\\item 4.16666666666667\n",
       "\\item 5\n",
       "\\end{enumerate*}\n"
      ],
      "text/markdown": [
       "1. 0\n",
       "2. 0.833333333333333\n",
       "3. 1.66666666666667\n",
       "4. 2.5\n",
       "5. 3.33333333333333\n",
       "6. 4.16666666666667\n",
       "7. 5\n",
       "\n",
       "\n"
      ],
      "text/plain": [
       "[1] 0.0000000 0.8333333 1.6666667 2.5000000 3.3333333 4.1666667 5.0000000"
      ]
     },
     "metadata": {},
     "output_type": "display_data"
    },
    {
     "data": {
      "text/html": [
       "<style>\n",
       ".list-inline {list-style: none; margin:0; padding: 0}\n",
       ".list-inline>li {display: inline-block}\n",
       ".list-inline>li:not(:last-child)::after {content: \"\\00b7\"; padding: 0 .5ex}\n",
       "</style>\n",
       "<ol class=list-inline><li>0</li><li>1</li><li>2</li><li>3</li><li>4</li><li>5</li></ol>\n"
      ],
      "text/latex": [
       "\\begin{enumerate*}\n",
       "\\item 0\n",
       "\\item 1\n",
       "\\item 2\n",
       "\\item 3\n",
       "\\item 4\n",
       "\\item 5\n",
       "\\end{enumerate*}\n"
      ],
      "text/markdown": [
       "1. 0\n",
       "2. 1\n",
       "3. 2\n",
       "4. 3\n",
       "5. 4\n",
       "6. 5\n",
       "\n",
       "\n"
      ],
      "text/plain": [
       "[1] 0 1 2 3 4 5"
      ]
     },
     "metadata": {},
     "output_type": "display_data"
    },
    {
     "data": {
      "text/html": [
       "<style>\n",
       ".list-inline {list-style: none; margin:0; padding: 0}\n",
       ".list-inline>li {display: inline-block}\n",
       ".list-inline>li:not(:last-child)::after {content: \"\\00b7\"; padding: 0 .5ex}\n",
       "</style>\n",
       "<ol class=list-inline><li>0</li><li>1</li><li>2</li><li>3</li><li>4</li><li>5</li></ol>\n"
      ],
      "text/latex": [
       "\\begin{enumerate*}\n",
       "\\item 0\n",
       "\\item 1\n",
       "\\item 2\n",
       "\\item 3\n",
       "\\item 4\n",
       "\\item 5\n",
       "\\end{enumerate*}\n"
      ],
      "text/markdown": [
       "1. 0\n",
       "2. 1\n",
       "3. 2\n",
       "4. 3\n",
       "5. 4\n",
       "6. 5\n",
       "\n",
       "\n"
      ],
      "text/plain": [
       "[1] 0 1 2 3 4 5"
      ]
     },
     "metadata": {},
     "output_type": "display_data"
    }
   ],
   "source": [
    "seq(0, 5, length=6)\n",
    "seq(0, 5, length=7)\n",
    "seq(0, 5, length=6)\n",
    "0:5"
   ]
  },
  {
   "cell_type": "code",
   "execution_count": 101,
   "metadata": {},
   "outputs": [],
   "source": [
    "?seq"
   ]
  },
  {
   "cell_type": "code",
   "execution_count": 19,
   "metadata": {},
   "outputs": [
    {
     "data": {
      "text/html": [
       "<style>\n",
       ".list-inline {list-style: none; margin:0; padding: 0}\n",
       ".list-inline>li {display: inline-block}\n",
       ".list-inline>li:not(:last-child)::after {content: \"\\00b7\"; padding: 0 .5ex}\n",
       "</style>\n",
       "<ol class=list-inline><li>0</li><li>1.25</li><li>2.5</li><li>3.75</li><li>5</li></ol>\n"
      ],
      "text/latex": [
       "\\begin{enumerate*}\n",
       "\\item 0\n",
       "\\item 1.25\n",
       "\\item 2.5\n",
       "\\item 3.75\n",
       "\\item 5\n",
       "\\end{enumerate*}\n"
      ],
      "text/markdown": [
       "1. 0\n",
       "2. 1.25\n",
       "3. 2.5\n",
       "4. 3.75\n",
       "5. 5\n",
       "\n",
       "\n"
      ],
      "text/plain": [
       "[1] 0.00 1.25 2.50 3.75 5.00"
      ]
     },
     "metadata": {},
     "output_type": "display_data"
    }
   ],
   "source": [
    "seq(0, 5, length=5) #seq splits the range into length-1 equal pieces"
   ]
  },
  {
   "cell_type": "code",
   "execution_count": 20,
   "metadata": {
    "scrolled": true
   },
   "outputs": [
    {
     "data": {
      "text/html": [
       "<style>\n",
       ".list-inline {list-style: none; margin:0; padding: 0}\n",
       ".list-inline>li {display: inline-block}\n",
       ".list-inline>li:not(:last-child)::after {content: \"\\00b7\"; padding: 0 .5ex}\n",
       "</style>\n",
       "<ol class=list-inline><li>0</li><li>2</li><li>4</li><li>6</li><li>8</li><li>10</li></ol>\n"
      ],
      "text/latex": [
       "\\begin{enumerate*}\n",
       "\\item 0\n",
       "\\item 2\n",
       "\\item 4\n",
       "\\item 6\n",
       "\\item 8\n",
       "\\item 10\n",
       "\\end{enumerate*}\n"
      ],
      "text/markdown": [
       "1. 0\n",
       "2. 2\n",
       "3. 4\n",
       "4. 6\n",
       "5. 8\n",
       "6. 10\n",
       "\n",
       "\n"
      ],
      "text/plain": [
       "[1]  0  2  4  6  8 10"
      ]
     },
     "metadata": {},
     "output_type": "display_data"
    },
    {
     "data": {
      "text/html": [
       "<style>\n",
       ".list-inline {list-style: none; margin:0; padding: 0}\n",
       ".list-inline>li {display: inline-block}\n",
       ".list-inline>li:not(:last-child)::after {content: \"\\00b7\"; padding: 0 .5ex}\n",
       "</style>\n",
       "<ol class=list-inline><li>0</li><li>5</li><li>10</li></ol>\n"
      ],
      "text/latex": [
       "\\begin{enumerate*}\n",
       "\\item 0\n",
       "\\item 5\n",
       "\\item 10\n",
       "\\end{enumerate*}\n"
      ],
      "text/markdown": [
       "1. 0\n",
       "2. 5\n",
       "3. 10\n",
       "\n",
       "\n"
      ],
      "text/plain": [
       "[1]  0  5 10"
      ]
     },
     "metadata": {},
     "output_type": "display_data"
    },
    {
     "data": {
      "text/html": [
       "<style>\n",
       ".list-inline {list-style: none; margin:0; padding: 0}\n",
       ".list-inline>li {display: inline-block}\n",
       ".list-inline>li:not(:last-child)::after {content: \"\\00b7\"; padding: 0 .5ex}\n",
       "</style>\n",
       "<ol class=list-inline><li>0</li><li>1</li><li>2</li><li>3</li><li>4</li><li>5</li><li>6</li><li>7</li><li>8</li><li>9</li><li>10</li></ol>\n"
      ],
      "text/latex": [
       "\\begin{enumerate*}\n",
       "\\item 0\n",
       "\\item 1\n",
       "\\item 2\n",
       "\\item 3\n",
       "\\item 4\n",
       "\\item 5\n",
       "\\item 6\n",
       "\\item 7\n",
       "\\item 8\n",
       "\\item 9\n",
       "\\item 10\n",
       "\\end{enumerate*}\n"
      ],
      "text/markdown": [
       "1. 0\n",
       "2. 1\n",
       "3. 2\n",
       "4. 3\n",
       "5. 4\n",
       "6. 5\n",
       "7. 6\n",
       "8. 7\n",
       "9. 8\n",
       "10. 9\n",
       "11. 10\n",
       "\n",
       "\n"
      ],
      "text/plain": [
       " [1]  0  1  2  3  4  5  6  7  8  9 10"
      ]
     },
     "metadata": {},
     "output_type": "display_data"
    },
    {
     "data": {
      "text/html": [
       "0"
      ],
      "text/latex": [
       "0"
      ],
      "text/markdown": [
       "0"
      ],
      "text/plain": [
       "[1] 0"
      ]
     },
     "metadata": {},
     "output_type": "display_data"
    }
   ],
   "source": [
    "seq(0, 10, length=6)\n",
    "seq(0, 10, length=3)\n",
    "seq(0, 10, length=11)\n",
    "seq(0, 10, length=1)"
   ]
  },
  {
   "cell_type": "code",
   "execution_count": 21,
   "metadata": {},
   "outputs": [
    {
     "data": {
      "text/html": [
       "<style>\n",
       ".list-inline {list-style: none; margin:0; padding: 0}\n",
       ".list-inline>li {display: inline-block}\n",
       ".list-inline>li:not(:last-child)::after {content: \"\\00b7\"; padding: 0 .5ex}\n",
       "</style>\n",
       "<ol class=list-inline><li>0</li><li>0.0634665182543393</li><li>0.126933036508679</li><li>0.190399554763018</li><li>0.253866073017357</li><li>0.317332591271696</li><li>0.380799109526036</li><li>0.444265627780375</li><li>0.507732146034714</li><li>0.571198664289053</li><li>0.634665182543393</li><li>0.698131700797732</li><li>0.761598219052071</li><li>0.82506473730641</li><li>0.88853125556075</li><li>0.951997773815089</li><li>1.01546429206943</li><li>1.07893081032377</li><li>1.14239732857811</li><li>1.20586384683245</li><li>1.26933036508679</li><li>1.33279688334112</li><li>1.39626340159546</li><li>1.4597299198498</li><li>1.52319643810414</li><li>1.58666295635848</li><li>1.65012947461282</li><li>1.71359599286716</li><li>1.7770625111215</li><li>1.84052902937584</li><li>1.90399554763018</li><li>1.96746206588452</li><li>2.03092858413886</li><li>2.0943951023932</li><li>2.15786162064753</li><li>2.22132813890187</li><li>2.28479465715621</li><li>2.34826117541055</li><li>2.41172769366489</li><li>2.47519421191923</li><li>2.53866073017357</li><li>2.60212724842791</li><li>2.66559376668225</li><li>2.72906028493659</li><li>2.79252680319093</li><li>2.85599332144527</li><li>2.91945983969961</li><li>2.98292635795395</li><li>3.04639287620828</li><li>3.10985939446262</li><li>3.17332591271696</li><li>3.2367924309713</li><li>3.30025894922564</li><li>3.36372546747998</li><li>3.42719198573432</li><li>3.49065850398866</li><li>3.554125022243</li><li>3.61759154049734</li><li>3.68105805875168</li><li>3.74452457700602</li><li>3.80799109526036</li><li>3.87145761351469</li><li>3.93492413176903</li><li>3.99839065002337</li><li>4.06185716827771</li><li>4.12532368653205</li><li>4.18879020478639</li><li>4.25225672304073</li><li>4.31572324129507</li><li>4.37918975954941</li><li>4.44265627780375</li><li>4.50612279605809</li><li>4.56958931431243</li><li>4.63305583256677</li><li>4.69652235082111</li><li>4.75998886907544</li><li>4.82345538732978</li><li>4.88692190558412</li><li>4.95038842383846</li><li>5.0138549420928</li><li>5.07732146034714</li><li>5.14078797860148</li><li>5.20425449685582</li><li>5.26772101511016</li><li>5.3311875333645</li><li>5.39465405161884</li><li>5.45812056987318</li><li>5.52158708812752</li><li>5.58505360638185</li><li>5.64852012463619</li><li>5.71198664289053</li><li>5.77545316114487</li><li>5.83891967939921</li><li>5.90238619765355</li><li>5.96585271590789</li><li>6.02931923416223</li><li>6.09278575241657</li><li>6.15625227067091</li><li>6.21971878892525</li><li>6.28318530717959</li></ol>\n"
      ],
      "text/latex": [
       "\\begin{enumerate*}\n",
       "\\item 0\n",
       "\\item 0.0634665182543393\n",
       "\\item 0.126933036508679\n",
       "\\item 0.190399554763018\n",
       "\\item 0.253866073017357\n",
       "\\item 0.317332591271696\n",
       "\\item 0.380799109526036\n",
       "\\item 0.444265627780375\n",
       "\\item 0.507732146034714\n",
       "\\item 0.571198664289053\n",
       "\\item 0.634665182543393\n",
       "\\item 0.698131700797732\n",
       "\\item 0.761598219052071\n",
       "\\item 0.82506473730641\n",
       "\\item 0.88853125556075\n",
       "\\item 0.951997773815089\n",
       "\\item 1.01546429206943\n",
       "\\item 1.07893081032377\n",
       "\\item 1.14239732857811\n",
       "\\item 1.20586384683245\n",
       "\\item 1.26933036508679\n",
       "\\item 1.33279688334112\n",
       "\\item 1.39626340159546\n",
       "\\item 1.4597299198498\n",
       "\\item 1.52319643810414\n",
       "\\item 1.58666295635848\n",
       "\\item 1.65012947461282\n",
       "\\item 1.71359599286716\n",
       "\\item 1.7770625111215\n",
       "\\item 1.84052902937584\n",
       "\\item 1.90399554763018\n",
       "\\item 1.96746206588452\n",
       "\\item 2.03092858413886\n",
       "\\item 2.0943951023932\n",
       "\\item 2.15786162064753\n",
       "\\item 2.22132813890187\n",
       "\\item 2.28479465715621\n",
       "\\item 2.34826117541055\n",
       "\\item 2.41172769366489\n",
       "\\item 2.47519421191923\n",
       "\\item 2.53866073017357\n",
       "\\item 2.60212724842791\n",
       "\\item 2.66559376668225\n",
       "\\item 2.72906028493659\n",
       "\\item 2.79252680319093\n",
       "\\item 2.85599332144527\n",
       "\\item 2.91945983969961\n",
       "\\item 2.98292635795395\n",
       "\\item 3.04639287620828\n",
       "\\item 3.10985939446262\n",
       "\\item 3.17332591271696\n",
       "\\item 3.2367924309713\n",
       "\\item 3.30025894922564\n",
       "\\item 3.36372546747998\n",
       "\\item 3.42719198573432\n",
       "\\item 3.49065850398866\n",
       "\\item 3.554125022243\n",
       "\\item 3.61759154049734\n",
       "\\item 3.68105805875168\n",
       "\\item 3.74452457700602\n",
       "\\item 3.80799109526036\n",
       "\\item 3.87145761351469\n",
       "\\item 3.93492413176903\n",
       "\\item 3.99839065002337\n",
       "\\item 4.06185716827771\n",
       "\\item 4.12532368653205\n",
       "\\item 4.18879020478639\n",
       "\\item 4.25225672304073\n",
       "\\item 4.31572324129507\n",
       "\\item 4.37918975954941\n",
       "\\item 4.44265627780375\n",
       "\\item 4.50612279605809\n",
       "\\item 4.56958931431243\n",
       "\\item 4.63305583256677\n",
       "\\item 4.69652235082111\n",
       "\\item 4.75998886907544\n",
       "\\item 4.82345538732978\n",
       "\\item 4.88692190558412\n",
       "\\item 4.95038842383846\n",
       "\\item 5.0138549420928\n",
       "\\item 5.07732146034714\n",
       "\\item 5.14078797860148\n",
       "\\item 5.20425449685582\n",
       "\\item 5.26772101511016\n",
       "\\item 5.3311875333645\n",
       "\\item 5.39465405161884\n",
       "\\item 5.45812056987318\n",
       "\\item 5.52158708812752\n",
       "\\item 5.58505360638185\n",
       "\\item 5.64852012463619\n",
       "\\item 5.71198664289053\n",
       "\\item 5.77545316114487\n",
       "\\item 5.83891967939921\n",
       "\\item 5.90238619765355\n",
       "\\item 5.96585271590789\n",
       "\\item 6.02931923416223\n",
       "\\item 6.09278575241657\n",
       "\\item 6.15625227067091\n",
       "\\item 6.21971878892525\n",
       "\\item 6.28318530717959\n",
       "\\end{enumerate*}\n"
      ],
      "text/markdown": [
       "1. 0\n",
       "2. 0.0634665182543393\n",
       "3. 0.126933036508679\n",
       "4. 0.190399554763018\n",
       "5. 0.253866073017357\n",
       "6. 0.317332591271696\n",
       "7. 0.380799109526036\n",
       "8. 0.444265627780375\n",
       "9. 0.507732146034714\n",
       "10. 0.571198664289053\n",
       "11. 0.634665182543393\n",
       "12. 0.698131700797732\n",
       "13. 0.761598219052071\n",
       "14. 0.82506473730641\n",
       "15. 0.88853125556075\n",
       "16. 0.951997773815089\n",
       "17. 1.01546429206943\n",
       "18. 1.07893081032377\n",
       "19. 1.14239732857811\n",
       "20. 1.20586384683245\n",
       "21. 1.26933036508679\n",
       "22. 1.33279688334112\n",
       "23. 1.39626340159546\n",
       "24. 1.4597299198498\n",
       "25. 1.52319643810414\n",
       "26. 1.58666295635848\n",
       "27. 1.65012947461282\n",
       "28. 1.71359599286716\n",
       "29. 1.7770625111215\n",
       "30. 1.84052902937584\n",
       "31. 1.90399554763018\n",
       "32. 1.96746206588452\n",
       "33. 2.03092858413886\n",
       "34. 2.0943951023932\n",
       "35. 2.15786162064753\n",
       "36. 2.22132813890187\n",
       "37. 2.28479465715621\n",
       "38. 2.34826117541055\n",
       "39. 2.41172769366489\n",
       "40. 2.47519421191923\n",
       "41. 2.53866073017357\n",
       "42. 2.60212724842791\n",
       "43. 2.66559376668225\n",
       "44. 2.72906028493659\n",
       "45. 2.79252680319093\n",
       "46. 2.85599332144527\n",
       "47. 2.91945983969961\n",
       "48. 2.98292635795395\n",
       "49. 3.04639287620828\n",
       "50. 3.10985939446262\n",
       "51. 3.17332591271696\n",
       "52. 3.2367924309713\n",
       "53. 3.30025894922564\n",
       "54. 3.36372546747998\n",
       "55. 3.42719198573432\n",
       "56. 3.49065850398866\n",
       "57. 3.554125022243\n",
       "58. 3.61759154049734\n",
       "59. 3.68105805875168\n",
       "60. 3.74452457700602\n",
       "61. 3.80799109526036\n",
       "62. 3.87145761351469\n",
       "63. 3.93492413176903\n",
       "64. 3.99839065002337\n",
       "65. 4.06185716827771\n",
       "66. 4.12532368653205\n",
       "67. 4.18879020478639\n",
       "68. 4.25225672304073\n",
       "69. 4.31572324129507\n",
       "70. 4.37918975954941\n",
       "71. 4.44265627780375\n",
       "72. 4.50612279605809\n",
       "73. 4.56958931431243\n",
       "74. 4.63305583256677\n",
       "75. 4.69652235082111\n",
       "76. 4.75998886907544\n",
       "77. 4.82345538732978\n",
       "78. 4.88692190558412\n",
       "79. 4.95038842383846\n",
       "80. 5.0138549420928\n",
       "81. 5.07732146034714\n",
       "82. 5.14078797860148\n",
       "83. 5.20425449685582\n",
       "84. 5.26772101511016\n",
       "85. 5.3311875333645\n",
       "86. 5.39465405161884\n",
       "87. 5.45812056987318\n",
       "88. 5.52158708812752\n",
       "89. 5.58505360638185\n",
       "90. 5.64852012463619\n",
       "91. 5.71198664289053\n",
       "92. 5.77545316114487\n",
       "93. 5.83891967939921\n",
       "94. 5.90238619765355\n",
       "95. 5.96585271590789\n",
       "96. 6.02931923416223\n",
       "97. 6.09278575241657\n",
       "98. 6.15625227067091\n",
       "99. 6.21971878892525\n",
       "100. 6.28318530717959\n",
       "\n",
       "\n"
      ],
      "text/plain": [
       "  [1] 0.00000000 0.06346652 0.12693304 0.19039955 0.25386607 0.31733259\n",
       "  [7] 0.38079911 0.44426563 0.50773215 0.57119866 0.63466518 0.69813170\n",
       " [13] 0.76159822 0.82506474 0.88853126 0.95199777 1.01546429 1.07893081\n",
       " [19] 1.14239733 1.20586385 1.26933037 1.33279688 1.39626340 1.45972992\n",
       " [25] 1.52319644 1.58666296 1.65012947 1.71359599 1.77706251 1.84052903\n",
       " [31] 1.90399555 1.96746207 2.03092858 2.09439510 2.15786162 2.22132814\n",
       " [37] 2.28479466 2.34826118 2.41172769 2.47519421 2.53866073 2.60212725\n",
       " [43] 2.66559377 2.72906028 2.79252680 2.85599332 2.91945984 2.98292636\n",
       " [49] 3.04639288 3.10985939 3.17332591 3.23679243 3.30025895 3.36372547\n",
       " [55] 3.42719199 3.49065850 3.55412502 3.61759154 3.68105806 3.74452458\n",
       " [61] 3.80799110 3.87145761 3.93492413 3.99839065 4.06185717 4.12532369\n",
       " [67] 4.18879020 4.25225672 4.31572324 4.37918976 4.44265628 4.50612280\n",
       " [73] 4.56958931 4.63305583 4.69652235 4.75998887 4.82345539 4.88692191\n",
       " [79] 4.95038842 5.01385494 5.07732146 5.14078798 5.20425450 5.26772102\n",
       " [85] 5.33118753 5.39465405 5.45812057 5.52158709 5.58505361 5.64852012\n",
       " [91] 5.71198664 5.77545316 5.83891968 5.90238620 5.96585272 6.02931923\n",
       " [97] 6.09278575 6.15625227 6.21971879 6.28318531"
      ]
     },
     "metadata": {},
     "output_type": "display_data"
    }
   ],
   "source": [
    "x=seq(0, 2*pi, length=100)\n",
    "x"
   ]
  },
  {
   "cell_type": "code",
   "execution_count": 22,
   "metadata": {},
   "outputs": [
    {
     "data": {
      "text/html": [
       "<style>\n",
       ".list-inline {list-style: none; margin:0; padding: 0}\n",
       ".list-inline>li {display: inline-block}\n",
       ".list-inline>li:not(:last-child)::after {content: \"\\00b7\"; padding: 0 .5ex}\n",
       "</style>\n",
       "<ol class=list-inline><li>0</li><li>0.0634239196565645</li><li>0.126592453573749</li><li>0.18925124436041</li><li>0.251147987181079</li><li>0.312033445698487</li><li>0.371662455660328</li><li>0.429794912089172</li><li>0.486196736100469</li><li>0.540640817455598</li><li>0.59290792905464</li><li>0.642787609686539</li><li>0.690079011482112</li><li>0.734591708657533</li><li>0.776146464291757</li><li>0.814575952050336</li><li>0.849725429949514</li><li>0.881453363447582</li><li>0.909631995354518</li><li>0.934147860265107</li><li>0.954902241444074</li><li>0.971811568323542</li><li>0.984807753012208</li><li>0.993838464461254</li><li>0.998867339183008</li><li>0.999874127673875</li><li>0.996854775951942</li><li>0.989821441880933</li><li>0.978802446214779</li><li>0.963842158559942</li><li>0.945000818714668</li><li>0.922354294104581</li><li>0.895993774291336</li><li>0.866025403784438</li><li>0.832569854634771</li><li>0.795761840530832</li><li>0.755749574354258</li><li>0.712694171378863</li><li>0.666769000516292</li><li>0.618158986220605</li><li>0.567059863862771</li><li>0.513677391573406</li><li>0.458226521727411</li><li>0.400930535406614</li><li>0.342020143325669</li><li>0.28173255684143</li><li>0.220310532786541</li><li>0.15800139597335</li><li>0.0950560433041824</li><li>0.0317279334980677</li><li>-0.0317279334980679</li><li>-0.0950560433041826</li><li>-0.15800139597335</li><li>-0.220310532786541</li><li>-0.28173255684143</li><li>-0.342020143325669</li><li>-0.400930535406614</li><li>-0.45822652172741</li><li>-0.513677391573406</li><li>-0.567059863862771</li><li>-0.618158986220605</li><li>-0.666769000516292</li><li>-0.712694171378863</li><li>-0.755749574354258</li><li>-0.795761840530832</li><li>-0.832569854634771</li><li>-0.866025403784439</li><li>-0.895993774291336</li><li>-0.922354294104581</li><li>-0.945000818714668</li><li>-0.963842158559942</li><li>-0.978802446214779</li><li>-0.989821441880933</li><li>-0.996854775951942</li><li>-0.999874127673875</li><li>-0.998867339183008</li><li>-0.993838464461254</li><li>-0.984807753012208</li><li>-0.971811568323542</li><li>-0.954902241444074</li><li>-0.934147860265107</li><li>-0.909631995354518</li><li>-0.881453363447582</li><li>-0.849725429949514</li><li>-0.814575952050336</li><li>-0.776146464291757</li><li>-0.734591708657533</li><li>-0.690079011482112</li><li>-0.64278760968654</li><li>-0.59290792905464</li><li>-0.540640817455597</li><li>-0.486196736100469</li><li>-0.429794912089172</li><li>-0.371662455660327</li><li>-0.312033445698487</li><li>-0.251147987181079</li><li>-0.18925124436041</li><li>-0.126592453573749</li><li>-0.0634239196565645</li><li>-2.44921270764475e-16</li></ol>\n"
      ],
      "text/latex": [
       "\\begin{enumerate*}\n",
       "\\item 0\n",
       "\\item 0.0634239196565645\n",
       "\\item 0.126592453573749\n",
       "\\item 0.18925124436041\n",
       "\\item 0.251147987181079\n",
       "\\item 0.312033445698487\n",
       "\\item 0.371662455660328\n",
       "\\item 0.429794912089172\n",
       "\\item 0.486196736100469\n",
       "\\item 0.540640817455598\n",
       "\\item 0.59290792905464\n",
       "\\item 0.642787609686539\n",
       "\\item 0.690079011482112\n",
       "\\item 0.734591708657533\n",
       "\\item 0.776146464291757\n",
       "\\item 0.814575952050336\n",
       "\\item 0.849725429949514\n",
       "\\item 0.881453363447582\n",
       "\\item 0.909631995354518\n",
       "\\item 0.934147860265107\n",
       "\\item 0.954902241444074\n",
       "\\item 0.971811568323542\n",
       "\\item 0.984807753012208\n",
       "\\item 0.993838464461254\n",
       "\\item 0.998867339183008\n",
       "\\item 0.999874127673875\n",
       "\\item 0.996854775951942\n",
       "\\item 0.989821441880933\n",
       "\\item 0.978802446214779\n",
       "\\item 0.963842158559942\n",
       "\\item 0.945000818714668\n",
       "\\item 0.922354294104581\n",
       "\\item 0.895993774291336\n",
       "\\item 0.866025403784438\n",
       "\\item 0.832569854634771\n",
       "\\item 0.795761840530832\n",
       "\\item 0.755749574354258\n",
       "\\item 0.712694171378863\n",
       "\\item 0.666769000516292\n",
       "\\item 0.618158986220605\n",
       "\\item 0.567059863862771\n",
       "\\item 0.513677391573406\n",
       "\\item 0.458226521727411\n",
       "\\item 0.400930535406614\n",
       "\\item 0.342020143325669\n",
       "\\item 0.28173255684143\n",
       "\\item 0.220310532786541\n",
       "\\item 0.15800139597335\n",
       "\\item 0.0950560433041824\n",
       "\\item 0.0317279334980677\n",
       "\\item -0.0317279334980679\n",
       "\\item -0.0950560433041826\n",
       "\\item -0.15800139597335\n",
       "\\item -0.220310532786541\n",
       "\\item -0.28173255684143\n",
       "\\item -0.342020143325669\n",
       "\\item -0.400930535406614\n",
       "\\item -0.45822652172741\n",
       "\\item -0.513677391573406\n",
       "\\item -0.567059863862771\n",
       "\\item -0.618158986220605\n",
       "\\item -0.666769000516292\n",
       "\\item -0.712694171378863\n",
       "\\item -0.755749574354258\n",
       "\\item -0.795761840530832\n",
       "\\item -0.832569854634771\n",
       "\\item -0.866025403784439\n",
       "\\item -0.895993774291336\n",
       "\\item -0.922354294104581\n",
       "\\item -0.945000818714668\n",
       "\\item -0.963842158559942\n",
       "\\item -0.978802446214779\n",
       "\\item -0.989821441880933\n",
       "\\item -0.996854775951942\n",
       "\\item -0.999874127673875\n",
       "\\item -0.998867339183008\n",
       "\\item -0.993838464461254\n",
       "\\item -0.984807753012208\n",
       "\\item -0.971811568323542\n",
       "\\item -0.954902241444074\n",
       "\\item -0.934147860265107\n",
       "\\item -0.909631995354518\n",
       "\\item -0.881453363447582\n",
       "\\item -0.849725429949514\n",
       "\\item -0.814575952050336\n",
       "\\item -0.776146464291757\n",
       "\\item -0.734591708657533\n",
       "\\item -0.690079011482112\n",
       "\\item -0.64278760968654\n",
       "\\item -0.59290792905464\n",
       "\\item -0.540640817455597\n",
       "\\item -0.486196736100469\n",
       "\\item -0.429794912089172\n",
       "\\item -0.371662455660327\n",
       "\\item -0.312033445698487\n",
       "\\item -0.251147987181079\n",
       "\\item -0.18925124436041\n",
       "\\item -0.126592453573749\n",
       "\\item -0.0634239196565645\n",
       "\\item -2.44921270764475e-16\n",
       "\\end{enumerate*}\n"
      ],
      "text/markdown": [
       "1. 0\n",
       "2. 0.0634239196565645\n",
       "3. 0.126592453573749\n",
       "4. 0.18925124436041\n",
       "5. 0.251147987181079\n",
       "6. 0.312033445698487\n",
       "7. 0.371662455660328\n",
       "8. 0.429794912089172\n",
       "9. 0.486196736100469\n",
       "10. 0.540640817455598\n",
       "11. 0.59290792905464\n",
       "12. 0.642787609686539\n",
       "13. 0.690079011482112\n",
       "14. 0.734591708657533\n",
       "15. 0.776146464291757\n",
       "16. 0.814575952050336\n",
       "17. 0.849725429949514\n",
       "18. 0.881453363447582\n",
       "19. 0.909631995354518\n",
       "20. 0.934147860265107\n",
       "21. 0.954902241444074\n",
       "22. 0.971811568323542\n",
       "23. 0.984807753012208\n",
       "24. 0.993838464461254\n",
       "25. 0.998867339183008\n",
       "26. 0.999874127673875\n",
       "27. 0.996854775951942\n",
       "28. 0.989821441880933\n",
       "29. 0.978802446214779\n",
       "30. 0.963842158559942\n",
       "31. 0.945000818714668\n",
       "32. 0.922354294104581\n",
       "33. 0.895993774291336\n",
       "34. 0.866025403784438\n",
       "35. 0.832569854634771\n",
       "36. 0.795761840530832\n",
       "37. 0.755749574354258\n",
       "38. 0.712694171378863\n",
       "39. 0.666769000516292\n",
       "40. 0.618158986220605\n",
       "41. 0.567059863862771\n",
       "42. 0.513677391573406\n",
       "43. 0.458226521727411\n",
       "44. 0.400930535406614\n",
       "45. 0.342020143325669\n",
       "46. 0.28173255684143\n",
       "47. 0.220310532786541\n",
       "48. 0.15800139597335\n",
       "49. 0.0950560433041824\n",
       "50. 0.0317279334980677\n",
       "51. -0.0317279334980679\n",
       "52. -0.0950560433041826\n",
       "53. -0.15800139597335\n",
       "54. -0.220310532786541\n",
       "55. -0.28173255684143\n",
       "56. -0.342020143325669\n",
       "57. -0.400930535406614\n",
       "58. -0.45822652172741\n",
       "59. -0.513677391573406\n",
       "60. -0.567059863862771\n",
       "61. -0.618158986220605\n",
       "62. -0.666769000516292\n",
       "63. -0.712694171378863\n",
       "64. -0.755749574354258\n",
       "65. -0.795761840530832\n",
       "66. -0.832569854634771\n",
       "67. -0.866025403784439\n",
       "68. -0.895993774291336\n",
       "69. -0.922354294104581\n",
       "70. -0.945000818714668\n",
       "71. -0.963842158559942\n",
       "72. -0.978802446214779\n",
       "73. -0.989821441880933\n",
       "74. -0.996854775951942\n",
       "75. -0.999874127673875\n",
       "76. -0.998867339183008\n",
       "77. -0.993838464461254\n",
       "78. -0.984807753012208\n",
       "79. -0.971811568323542\n",
       "80. -0.954902241444074\n",
       "81. -0.934147860265107\n",
       "82. -0.909631995354518\n",
       "83. -0.881453363447582\n",
       "84. -0.849725429949514\n",
       "85. -0.814575952050336\n",
       "86. -0.776146464291757\n",
       "87. -0.734591708657533\n",
       "88. -0.690079011482112\n",
       "89. -0.64278760968654\n",
       "90. -0.59290792905464\n",
       "91. -0.540640817455597\n",
       "92. -0.486196736100469\n",
       "93. -0.429794912089172\n",
       "94. -0.371662455660327\n",
       "95. -0.312033445698487\n",
       "96. -0.251147987181079\n",
       "97. -0.18925124436041\n",
       "98. -0.126592453573749\n",
       "99. -0.0634239196565645\n",
       "100. -2.44921270764475e-16\n",
       "\n",
       "\n"
      ],
      "text/plain": [
       "  [1]  0.000000e+00  6.342392e-02  1.265925e-01  1.892512e-01  2.511480e-01\n",
       "  [6]  3.120334e-01  3.716625e-01  4.297949e-01  4.861967e-01  5.406408e-01\n",
       " [11]  5.929079e-01  6.427876e-01  6.900790e-01  7.345917e-01  7.761465e-01\n",
       " [16]  8.145760e-01  8.497254e-01  8.814534e-01  9.096320e-01  9.341479e-01\n",
       " [21]  9.549022e-01  9.718116e-01  9.848078e-01  9.938385e-01  9.988673e-01\n",
       " [26]  9.998741e-01  9.968548e-01  9.898214e-01  9.788024e-01  9.638422e-01\n",
       " [31]  9.450008e-01  9.223543e-01  8.959938e-01  8.660254e-01  8.325699e-01\n",
       " [36]  7.957618e-01  7.557496e-01  7.126942e-01  6.667690e-01  6.181590e-01\n",
       " [41]  5.670599e-01  5.136774e-01  4.582265e-01  4.009305e-01  3.420201e-01\n",
       " [46]  2.817326e-01  2.203105e-01  1.580014e-01  9.505604e-02  3.172793e-02\n",
       " [51] -3.172793e-02 -9.505604e-02 -1.580014e-01 -2.203105e-01 -2.817326e-01\n",
       " [56] -3.420201e-01 -4.009305e-01 -4.582265e-01 -5.136774e-01 -5.670599e-01\n",
       " [61] -6.181590e-01 -6.667690e-01 -7.126942e-01 -7.557496e-01 -7.957618e-01\n",
       " [66] -8.325699e-01 -8.660254e-01 -8.959938e-01 -9.223543e-01 -9.450008e-01\n",
       " [71] -9.638422e-01 -9.788024e-01 -9.898214e-01 -9.968548e-01 -9.998741e-01\n",
       " [76] -9.988673e-01 -9.938385e-01 -9.848078e-01 -9.718116e-01 -9.549022e-01\n",
       " [81] -9.341479e-01 -9.096320e-01 -8.814534e-01 -8.497254e-01 -8.145760e-01\n",
       " [86] -7.761465e-01 -7.345917e-01 -6.900790e-01 -6.427876e-01 -5.929079e-01\n",
       " [91] -5.406408e-01 -4.861967e-01 -4.297949e-01 -3.716625e-01 -3.120334e-01\n",
       " [96] -2.511480e-01 -1.892512e-01 -1.265925e-01 -6.342392e-02 -2.449213e-16"
      ]
     },
     "metadata": {},
     "output_type": "display_data"
    }
   ],
   "source": [
    "sin(x)"
   ]
  },
  {
   "cell_type": "code",
   "execution_count": 23,
   "metadata": {
    "scrolled": false
   },
   "outputs": [
    {
     "data": {
      "image/png": "[encoded data removed]",
      "text/plain": [
       "plot without title"
      ]
     },
     "metadata": {
      "image/png": {
       "height": 420,
       "width": 420
      }
     },
     "output_type": "display_data"
    },
    {
     "data": {
      "image/png": "[encoded data removed]",
      "text/plain": [
       "plot without title"
      ]
     },
     "metadata": {
      "image/png": {
       "height": 420,
       "width": 420
      }
     },
     "output_type": "display_data"
    },
    {
     "data": {
      "image/png": "[encoded data removed]",
      "text/plain": [
       "plot without title"
      ]
     },
     "metadata": {
      "image/png": {
       "height": 420,
       "width": 420
      }
     },
     "output_type": "display_data"
    }
   ],
   "source": [
    "plot(sin(seq(0, 2*pi, length=100)))\n",
    "plot(sin(seq(0, 2*pi, len=100)))\n",
    "plot(sin(seq(0, 2*pi, l=100)))\n",
    "?seq"
   ]
  },
  {
   "cell_type": "code",
   "execution_count": 24,
   "metadata": {},
   "outputs": [
    {
     "data": {
      "image/png": "[encoded data removed]",
      "text/plain": [
       "plot without title"
      ]
     },
     "metadata": {
      "image/png": {
       "height": 420,
       "width": 420
      }
     },
     "output_type": "display_data"
    }
   ],
   "source": [
    "plot(exp(seq(0, 10, length=100)))"
   ]
  },
  {
   "cell_type": "code",
   "execution_count": 25,
   "metadata": {},
   "outputs": [],
   "source": [
    "?seq"
   ]
  },
  {
   "cell_type": "code",
   "execution_count": 26,
   "metadata": {},
   "outputs": [
    {
     "data": {
      "text/html": [
       "<style>\n",
       ".list-inline {list-style: none; margin:0; padding: 0}\n",
       ".list-inline>li {display: inline-block}\n",
       ".list-inline>li:not(:last-child)::after {content: \"\\00b7\"; padding: 0 .5ex}\n",
       "</style>\n",
       "<ol class=list-inline><li>1</li><li>2</li><li>3</li><li>4</li><li>2</li><li>3</li><li>1</li></ol>\n"
      ],
      "text/latex": [
       "\\begin{enumerate*}\n",
       "\\item 1\n",
       "\\item 2\n",
       "\\item 3\n",
       "\\item 4\n",
       "\\item 2\n",
       "\\item 3\n",
       "\\item 1\n",
       "\\end{enumerate*}\n"
      ],
      "text/markdown": [
       "1. 1\n",
       "2. 2\n",
       "3. 3\n",
       "4. 4\n",
       "5. 2\n",
       "6. 3\n",
       "7. 1\n",
       "\n",
       "\n"
      ],
      "text/plain": [
       "[1] 1 2 3 4 2 3 1"
      ]
     },
     "metadata": {},
     "output_type": "display_data"
    },
    {
     "data": {
      "text/html": [
       "<style>\n",
       ".list-inline {list-style: none; margin:0; padding: 0}\n",
       ".list-inline>li {display: inline-block}\n",
       ".list-inline>li:not(:last-child)::after {content: \"\\00b7\"; padding: 0 .5ex}\n",
       "</style>\n",
       "<ol class=list-inline><li>1</li><li>2</li><li>3</li></ol>\n"
      ],
      "text/latex": [
       "\\begin{enumerate*}\n",
       "\\item 1\n",
       "\\item 2\n",
       "\\item 3\n",
       "\\end{enumerate*}\n"
      ],
      "text/markdown": [
       "1. 1\n",
       "2. 2\n",
       "3. 3\n",
       "\n",
       "\n"
      ],
      "text/plain": [
       "[1] 1 2 3"
      ]
     },
     "metadata": {},
     "output_type": "display_data"
    }
   ],
   "source": [
    "c(1,2,3, 4, 2, 3, 1)\n",
    "1:3"
   ]
  },
  {
   "cell_type": "code",
   "execution_count": 27,
   "metadata": {
    "scrolled": true
   },
   "outputs": [
    {
     "data": {
      "text/html": [
       "<style>\n",
       ".list-inline {list-style: none; margin:0; padding: 0}\n",
       ".list-inline>li {display: inline-block}\n",
       ".list-inline>li:not(:last-child)::after {content: \"\\00b7\"; padding: 0 .5ex}\n",
       "</style>\n",
       "<ol class=list-inline><li>0</li><li>1</li><li>2</li><li>3</li><li>4</li><li>5</li><li>6</li><li>7</li><li>8</li><li>9</li><li>10</li></ol>\n"
      ],
      "text/latex": [
       "\\begin{enumerate*}\n",
       "\\item 0\n",
       "\\item 1\n",
       "\\item 2\n",
       "\\item 3\n",
       "\\item 4\n",
       "\\item 5\n",
       "\\item 6\n",
       "\\item 7\n",
       "\\item 8\n",
       "\\item 9\n",
       "\\item 10\n",
       "\\end{enumerate*}\n"
      ],
      "text/markdown": [
       "1. 0\n",
       "2. 1\n",
       "3. 2\n",
       "4. 3\n",
       "5. 4\n",
       "6. 5\n",
       "7. 6\n",
       "8. 7\n",
       "9. 8\n",
       "10. 9\n",
       "11. 10\n",
       "\n",
       "\n"
      ],
      "text/plain": [
       " [1]  0  1  2  3  4  5  6  7  8  9 10"
      ]
     },
     "metadata": {},
     "output_type": "display_data"
    },
    {
     "data": {
      "text/html": [
       "<style>\n",
       ".list-inline {list-style: none; margin:0; padding: 0}\n",
       ".list-inline>li {display: inline-block}\n",
       ".list-inline>li:not(:last-child)::after {content: \"\\00b7\"; padding: 0 .5ex}\n",
       "</style>\n",
       "<ol class=list-inline><li>0</li><li>2</li><li>4</li><li>6</li><li>8</li><li>10</li></ol>\n"
      ],
      "text/latex": [
       "\\begin{enumerate*}\n",
       "\\item 0\n",
       "\\item 2\n",
       "\\item 4\n",
       "\\item 6\n",
       "\\item 8\n",
       "\\item 10\n",
       "\\end{enumerate*}\n"
      ],
      "text/markdown": [
       "1. 0\n",
       "2. 2\n",
       "3. 4\n",
       "4. 6\n",
       "5. 8\n",
       "6. 10\n",
       "\n",
       "\n"
      ],
      "text/plain": [
       "[1]  0  2  4  6  8 10"
      ]
     },
     "metadata": {},
     "output_type": "display_data"
    },
    {
     "data": {
      "text/html": [
       "<style>\n",
       ".list-inline {list-style: none; margin:0; padding: 0}\n",
       ".list-inline>li {display: inline-block}\n",
       ".list-inline>li:not(:last-child)::after {content: \"\\00b7\"; padding: 0 .5ex}\n",
       "</style>\n",
       "<ol class=list-inline><li>0</li><li>3</li><li>6</li><li>9</li></ol>\n"
      ],
      "text/latex": [
       "\\begin{enumerate*}\n",
       "\\item 0\n",
       "\\item 3\n",
       "\\item 6\n",
       "\\item 9\n",
       "\\end{enumerate*}\n"
      ],
      "text/markdown": [
       "1. 0\n",
       "2. 3\n",
       "3. 6\n",
       "4. 9\n",
       "\n",
       "\n"
      ],
      "text/plain": [
       "[1] 0 3 6 9"
      ]
     },
     "metadata": {},
     "output_type": "display_data"
    },
    {
     "data": {
      "text/html": [
       "<style>\n",
       ".list-inline {list-style: none; margin:0; padding: 0}\n",
       ".list-inline>li {display: inline-block}\n",
       ".list-inline>li:not(:last-child)::after {content: \"\\00b7\"; padding: 0 .5ex}\n",
       "</style>\n",
       "<ol class=list-inline><li>0</li><li>5</li><li>10</li></ol>\n"
      ],
      "text/latex": [
       "\\begin{enumerate*}\n",
       "\\item 0\n",
       "\\item 5\n",
       "\\item 10\n",
       "\\end{enumerate*}\n"
      ],
      "text/markdown": [
       "1. 0\n",
       "2. 5\n",
       "3. 10\n",
       "\n",
       "\n"
      ],
      "text/plain": [
       "[1]  0  5 10"
      ]
     },
     "metadata": {},
     "output_type": "display_data"
    },
    {
     "data": {
      "text/html": [
       "<style>\n",
       ".list-inline {list-style: none; margin:0; padding: 0}\n",
       ".list-inline>li {display: inline-block}\n",
       ".list-inline>li:not(:last-child)::after {content: \"\\00b7\"; padding: 0 .5ex}\n",
       "</style>\n",
       "<ol class=list-inline><li>0</li><li>3.33333333333333</li><li>6.66666666666667</li><li>10</li></ol>\n"
      ],
      "text/latex": [
       "\\begin{enumerate*}\n",
       "\\item 0\n",
       "\\item 3.33333333333333\n",
       "\\item 6.66666666666667\n",
       "\\item 10\n",
       "\\end{enumerate*}\n"
      ],
      "text/markdown": [
       "1. 0\n",
       "2. 3.33333333333333\n",
       "3. 6.66666666666667\n",
       "4. 10\n",
       "\n",
       "\n"
      ],
      "text/plain": [
       "[1]  0.000000  3.333333  6.666667 10.000000"
      ]
     },
     "metadata": {},
     "output_type": "display_data"
    }
   ],
   "source": [
    "seq(0, 10, by=1)\n",
    "seq(0, 10, by=2)\n",
    "seq(0, 10, by=3)\n",
    "seq(0, 10, along.with = c(1,3,2))\n",
    "seq(0, 10, along.with = c(1,3,2,3))"
   ]
  },
  {
   "cell_type": "code",
   "execution_count": 28,
   "metadata": {},
   "outputs": [
    {
     "data": {
      "text/html": [
       "3.14159265358979"
      ],
      "text/latex": [
       "3.14159265358979"
      ],
      "text/markdown": [
       "3.14159265358979"
      ],
      "text/plain": [
       "[1] 3.141593"
      ]
     },
     "metadata": {},
     "output_type": "display_data"
    },
    {
     "data": {
      "text/html": [
       "50"
      ],
      "text/latex": [
       "50"
      ],
      "text/markdown": [
       "50"
      ],
      "text/plain": [
       "[1] 50"
      ]
     },
     "metadata": {},
     "output_type": "display_data"
    },
    {
     "data": {
      "image/png": "[encoded data removed]",
      "text/plain": [
       "plot without title"
      ]
     },
     "metadata": {
      "image/png": {
       "height": 420,
       "width": 420
      }
     },
     "output_type": "display_data"
    }
   ],
   "source": [
    "pi\n",
    "pi=50 #this is bad\n",
    "pi\n",
    "plot(sin(seq(0, 2*pi, length=100)))"
   ]
  },
  {
   "cell_type": "code",
   "execution_count": 29,
   "metadata": {
    "scrolled": false
   },
   "outputs": [
    {
     "data": {
      "text/html": [
       "3.14159265358979"
      ],
      "text/latex": [
       "3.14159265358979"
      ],
      "text/markdown": [
       "3.14159265358979"
      ],
      "text/plain": [
       "[1] 3.141593"
      ]
     },
     "metadata": {},
     "output_type": "display_data"
    },
    {
     "data": {
      "image/png": "[encoded data removed]",
      "text/plain": [
       "plot without title"
      ]
     },
     "metadata": {
      "image/png": {
       "height": 420,
       "width": 420
      }
     },
     "output_type": "display_data"
    }
   ],
   "source": [
    "rm(pi) #remove a variable from memory\n",
    "pi\n",
    "plot(sin(seq(0, 2*pi, length=100)))"
   ]
  },
  {
   "cell_type": "code",
   "execution_count": 30,
   "metadata": {
    "scrolled": false
   },
   "outputs": [
    {
     "data": {
      "text/html": [
       "2"
      ],
      "text/latex": [
       "2"
      ],
      "text/markdown": [
       "2"
      ],
      "text/plain": [
       "[1] 2"
      ]
     },
     "metadata": {},
     "output_type": "display_data"
    }
   ],
   "source": [
    "8%%3  #8=2*3+2"
   ]
  },
  {
   "cell_type": "code",
   "execution_count": 31,
   "metadata": {
    "scrolled": true
   },
   "outputs": [
    {
     "data": {
      "text/html": [
       "<style>\n",
       ".list-inline {list-style: none; margin:0; padding: 0}\n",
       ".list-inline>li {display: inline-block}\n",
       ".list-inline>li:not(:last-child)::after {content: \"\\00b7\"; padding: 0 .5ex}\n",
       "</style>\n",
       "<ol class=list-inline><li>3</li><li>4</li><li>5</li><li>6</li><li>7</li><li>8</li><li>9</li><li>10</li></ol>\n"
      ],
      "text/latex": [
       "\\begin{enumerate*}\n",
       "\\item 3\n",
       "\\item 4\n",
       "\\item 5\n",
       "\\item 6\n",
       "\\item 7\n",
       "\\item 8\n",
       "\\item 9\n",
       "\\item 10\n",
       "\\end{enumerate*}\n"
      ],
      "text/markdown": [
       "1. 3\n",
       "2. 4\n",
       "3. 5\n",
       "4. 6\n",
       "5. 7\n",
       "6. 8\n",
       "7. 9\n",
       "8. 10\n",
       "\n",
       "\n"
      ],
      "text/plain": [
       "[1]  3  4  5  6  7  8  9 10"
      ]
     },
     "metadata": {},
     "output_type": "display_data"
    },
    {
     "data": {
      "text/html": [
       "<style>\n",
       ".list-inline {list-style: none; margin:0; padding: 0}\n",
       ".list-inline>li {display: inline-block}\n",
       ".list-inline>li:not(:last-child)::after {content: \"\\00b7\"; padding: 0 .5ex}\n",
       "</style>\n",
       "<ol class=list-inline><li>3</li><li>4</li><li>5</li><li>6</li><li>7</li><li>8</li><li>9</li><li>10</li><li>11</li><li>12</li></ol>\n"
      ],
      "text/latex": [
       "\\begin{enumerate*}\n",
       "\\item 3\n",
       "\\item 4\n",
       "\\item 5\n",
       "\\item 6\n",
       "\\item 7\n",
       "\\item 8\n",
       "\\item 9\n",
       "\\item 10\n",
       "\\item 11\n",
       "\\item 12\n",
       "\\end{enumerate*}\n"
      ],
      "text/markdown": [
       "1. 3\n",
       "2. 4\n",
       "3. 5\n",
       "4. 6\n",
       "5. 7\n",
       "6. 8\n",
       "7. 9\n",
       "8. 10\n",
       "9. 11\n",
       "10. 12\n",
       "\n",
       "\n"
      ],
      "text/plain": [
       " [1]  3  4  5  6  7  8  9 10 11 12"
      ]
     },
     "metadata": {},
     "output_type": "display_data"
    },
    {
     "data": {
      "text/html": [
       "<style>\n",
       ".list-inline {list-style: none; margin:0; padding: 0}\n",
       ".list-inline>li {display: inline-block}\n",
       ".list-inline>li:not(:last-child)::after {content: \"\\00b7\"; padding: 0 .5ex}\n",
       "</style>\n",
       "<ol class=list-inline><li>2</li><li>1</li><li>0</li><li>-1</li><li>-2</li><li>-3</li><li>-4</li><li>-5</li><li>-6</li><li>-7</li><li>-8</li></ol>\n"
      ],
      "text/latex": [
       "\\begin{enumerate*}\n",
       "\\item 2\n",
       "\\item 1\n",
       "\\item 0\n",
       "\\item -1\n",
       "\\item -2\n",
       "\\item -3\n",
       "\\item -4\n",
       "\\item -5\n",
       "\\item -6\n",
       "\\item -7\n",
       "\\item -8\n",
       "\\end{enumerate*}\n"
      ],
      "text/markdown": [
       "1. 2\n",
       "2. 1\n",
       "3. 0\n",
       "4. -1\n",
       "5. -2\n",
       "6. -3\n",
       "7. -4\n",
       "8. -5\n",
       "9. -6\n",
       "10. -7\n",
       "11. -8\n",
       "\n",
       "\n"
      ],
      "text/plain": [
       " [1]  2  1  0 -1 -2 -3 -4 -5 -6 -7 -8"
      ]
     },
     "metadata": {},
     "output_type": "display_data"
    },
    {
     "data": {
      "text/html": [
       "<style>\n",
       ".list-inline {list-style: none; margin:0; padding: 0}\n",
       ".list-inline>li {display: inline-block}\n",
       ".list-inline>li:not(:last-child)::after {content: \"\\00b7\"; padding: 0 .5ex}\n",
       "</style>\n",
       "<ol class=list-inline><li>0</li><li>2</li><li>4</li><li>6</li><li>8</li><li>10</li><li>12</li><li>14</li><li>16</li><li>18</li><li>20</li></ol>\n"
      ],
      "text/latex": [
       "\\begin{enumerate*}\n",
       "\\item 0\n",
       "\\item 2\n",
       "\\item 4\n",
       "\\item 6\n",
       "\\item 8\n",
       "\\item 10\n",
       "\\item 12\n",
       "\\item 14\n",
       "\\item 16\n",
       "\\item 18\n",
       "\\item 20\n",
       "\\end{enumerate*}\n"
      ],
      "text/markdown": [
       "1. 0\n",
       "2. 2\n",
       "3. 4\n",
       "4. 6\n",
       "5. 8\n",
       "6. 10\n",
       "7. 12\n",
       "8. 14\n",
       "9. 16\n",
       "10. 18\n",
       "11. 20\n",
       "\n",
       "\n"
      ],
      "text/plain": [
       " [1]  0  2  4  6  8 10 12 14 16 18 20"
      ]
     },
     "metadata": {},
     "output_type": "display_data"
    },
    {
     "data": {
      "text/html": [
       "<style>\n",
       ".list-inline {list-style: none; margin:0; padding: 0}\n",
       ".list-inline>li {display: inline-block}\n",
       ".list-inline>li:not(:last-child)::after {content: \"\\00b7\"; padding: 0 .5ex}\n",
       "</style>\n",
       "<ol class=list-inline><li>Inf</li><li>2</li><li>1</li><li>0.666666666666667</li><li>0.5</li><li>0.4</li><li>0.333333333333333</li><li>0.285714285714286</li><li>0.25</li><li>0.222222222222222</li><li>0.2</li></ol>\n"
      ],
      "text/latex": [
       "\\begin{enumerate*}\n",
       "\\item Inf\n",
       "\\item 2\n",
       "\\item 1\n",
       "\\item 0.666666666666667\n",
       "\\item 0.5\n",
       "\\item 0.4\n",
       "\\item 0.333333333333333\n",
       "\\item 0.285714285714286\n",
       "\\item 0.25\n",
       "\\item 0.222222222222222\n",
       "\\item 0.2\n",
       "\\end{enumerate*}\n"
      ],
      "text/markdown": [
       "1. Inf\n",
       "2. 2\n",
       "3. 1\n",
       "4. 0.666666666666667\n",
       "5. 0.5\n",
       "6. 0.4\n",
       "7. 0.333333333333333\n",
       "8. 0.285714285714286\n",
       "9. 0.25\n",
       "10. 0.222222222222222\n",
       "11. 0.2\n",
       "\n",
       "\n"
      ],
      "text/plain": [
       " [1]       Inf 2.0000000 1.0000000 0.6666667 0.5000000 0.4000000 0.3333333\n",
       " [8] 0.2857143 0.2500000 0.2222222 0.2000000"
      ]
     },
     "metadata": {},
     "output_type": "display_data"
    }
   ],
   "source": [
    "(2+1):10\n",
    "2+1:10 #recycle the scalar for vector\n",
    "2-0:10\n",
    "2*0:10\n",
    "2/0:10"
   ]
  },
  {
   "cell_type": "code",
   "execution_count": 32,
   "metadata": {
    "scrolled": false
   },
   "outputs": [
    {
     "data": {
      "text/html": [
       "3"
      ],
      "text/latex": [
       "3"
      ],
      "text/markdown": [
       "3"
      ],
      "text/plain": [
       "[1] 3"
      ]
     },
     "metadata": {},
     "output_type": "display_data"
    },
    {
     "data": {
      "text/html": [
       "3"
      ],
      "text/latex": [
       "3"
      ],
      "text/markdown": [
       "3"
      ],
      "text/plain": [
       "[1] 3"
      ]
     },
     "metadata": {},
     "output_type": "display_data"
    },
    {
     "data": {
      "text/html": [
       "-2"
      ],
      "text/latex": [
       "-2"
      ],
      "text/markdown": [
       "-2"
      ],
      "text/plain": [
       "[1] -2"
      ]
     },
     "metadata": {},
     "output_type": "display_data"
    },
    {
     "data": {
      "text/html": [
       "-2"
      ],
      "text/latex": [
       "-2"
      ],
      "text/markdown": [
       "-2"
      ],
      "text/plain": [
       "[1] -2"
      ]
     },
     "metadata": {},
     "output_type": "display_data"
    },
    {
     "name": "stdout",
     "output_type": "stream",
     "text": [
      "[1] \"======================\"\n"
     ]
    },
    {
     "data": {
      "text/html": [
       "2"
      ],
      "text/latex": [
       "2"
      ],
      "text/markdown": [
       "2"
      ],
      "text/plain": [
       "[1] 2"
      ]
     },
     "metadata": {},
     "output_type": "display_data"
    },
    {
     "data": {
      "text/html": [
       "2"
      ],
      "text/latex": [
       "2"
      ],
      "text/markdown": [
       "2"
      ],
      "text/plain": [
       "[1] 2"
      ]
     },
     "metadata": {},
     "output_type": "display_data"
    },
    {
     "data": {
      "text/html": [
       "-3"
      ],
      "text/latex": [
       "-3"
      ],
      "text/markdown": [
       "-3"
      ],
      "text/plain": [
       "[1] -3"
      ]
     },
     "metadata": {},
     "output_type": "display_data"
    },
    {
     "data": {
      "text/html": [
       "-3"
      ],
      "text/latex": [
       "-3"
      ],
      "text/markdown": [
       "-3"
      ],
      "text/plain": [
       "[1] -3"
      ]
     },
     "metadata": {},
     "output_type": "display_data"
    },
    {
     "name": "stdout",
     "output_type": "stream",
     "text": [
      "[1] \"======================\"\n"
     ]
    },
    {
     "data": {
      "text/html": [
       "2"
      ],
      "text/latex": [
       "2"
      ],
      "text/markdown": [
       "2"
      ],
      "text/plain": [
       "[1] 2"
      ]
     },
     "metadata": {},
     "output_type": "display_data"
    },
    {
     "data": {
      "text/html": [
       "2"
      ],
      "text/latex": [
       "2"
      ],
      "text/markdown": [
       "2"
      ],
      "text/plain": [
       "[1] 2"
      ]
     },
     "metadata": {},
     "output_type": "display_data"
    },
    {
     "data": {
      "text/html": [
       "-2"
      ],
      "text/latex": [
       "-2"
      ],
      "text/markdown": [
       "-2"
      ],
      "text/plain": [
       "[1] -2"
      ]
     },
     "metadata": {},
     "output_type": "display_data"
    },
    {
     "data": {
      "text/html": [
       "-2"
      ],
      "text/latex": [
       "-2"
      ],
      "text/markdown": [
       "-2"
      ],
      "text/plain": [
       "[1] -2"
      ]
     },
     "metadata": {},
     "output_type": "display_data"
    },
    {
     "name": "stdout",
     "output_type": "stream",
     "text": [
      "[1] \"===================\"\n"
     ]
    },
    {
     "data": {
      "text/html": [
       "2"
      ],
      "text/latex": [
       "2"
      ],
      "text/markdown": [
       "2"
      ],
      "text/plain": [
       "[1] 2"
      ]
     },
     "metadata": {},
     "output_type": "display_data"
    },
    {
     "data": {
      "text/html": [
       "3"
      ],
      "text/latex": [
       "3"
      ],
      "text/markdown": [
       "3"
      ],
      "text/plain": [
       "[1] 3"
      ]
     },
     "metadata": {},
     "output_type": "display_data"
    },
    {
     "data": {
      "text/html": [
       "-2"
      ],
      "text/latex": [
       "-2"
      ],
      "text/markdown": [
       "-2"
      ],
      "text/plain": [
       "[1] -2"
      ]
     },
     "metadata": {},
     "output_type": "display_data"
    },
    {
     "data": {
      "text/html": [
       "-3"
      ],
      "text/latex": [
       "-3"
      ],
      "text/markdown": [
       "-3"
      ],
      "text/plain": [
       "[1] -3"
      ]
     },
     "metadata": {},
     "output_type": "display_data"
    }
   ],
   "source": [
    "ceiling(2.3)\n",
    "ceiling(2.6)\n",
    "ceiling(-2.3)\n",
    "ceiling(-2.6)\n",
    "print(\"======================\")\n",
    "floor(2.3)\n",
    "floor(2.6)\n",
    "floor(-2.3)\n",
    "floor(-2.6)\n",
    "print(\"======================\")\n",
    "trunc(2.3)\n",
    "trunc(2.6)\n",
    "trunc(-2.3)\n",
    "trunc(-2.6)\n",
    "print(\"===================\")\n",
    "round(2.3)\n",
    "round(2.6)\n",
    "round(-2.3)\n",
    "round(-2.6)"
   ]
  },
  {
   "cell_type": "code",
   "execution_count": 33,
   "metadata": {
    "scrolled": false
   },
   "outputs": [
    {
     "data": {
      "text/html": [
       "<style>\n",
       ".list-inline {list-style: none; margin:0; padding: 0}\n",
       ".list-inline>li {display: inline-block}\n",
       ".list-inline>li:not(:last-child)::after {content: \"\\00b7\"; padding: 0 .5ex}\n",
       "</style>\n",
       "<ol class=list-inline><li>0.5</li><li>1</li><li>1.5</li><li>2</li><li>2.5</li><li>3</li><li>3.5</li><li>4</li><li>4.5</li><li>5</li><li>5.5</li><li>6</li><li>6.5</li><li>7</li><li>7.5</li><li>8</li><li>8.5</li><li>9</li><li>9.5</li><li>10</li><li>10.5</li><li>11</li><li>11.5</li><li>12</li><li>12.5</li><li>13</li><li>13.5</li><li>14</li><li>14.5</li><li>15</li><li>15.5</li><li>16</li><li>16.5</li><li>17</li><li>17.5</li><li>18</li><li>18.5</li><li>19</li><li>19.5</li><li>20</li><li>20.5</li><li>21</li><li>21.5</li><li>22</li><li>22.5</li><li>23</li><li>23.5</li><li>24</li><li>24.5</li><li>25</li><li>25.5</li><li>26</li><li>26.5</li><li>27</li><li>27.5</li><li>28</li><li>28.5</li><li>29</li><li>29.5</li><li>30</li><li>30.5</li><li>31</li><li>31.5</li><li>32</li><li>32.5</li><li>33</li><li>33.5</li><li>34</li><li>34.5</li><li>35</li><li>35.5</li><li>36</li><li>36.5</li><li>37</li><li>37.5</li><li>38</li><li>38.5</li><li>39</li><li>39.5</li><li>40</li><li>40.5</li><li>41</li><li>41.5</li><li>42</li><li>42.5</li><li>43</li><li>43.5</li><li>44</li><li>44.5</li><li>45</li><li>45.5</li><li>46</li><li>46.5</li><li>47</li><li>47.5</li><li>48</li><li>48.5</li><li>49</li><li>49.5</li><li>50</li><li>50.5</li><li>51</li><li>51.5</li><li>52</li><li>52.5</li><li>53</li><li>53.5</li><li>54</li><li>54.5</li><li>55</li><li>55.5</li><li>56</li><li>56.5</li><li>57</li><li>57.5</li><li>58</li><li>58.5</li><li>59</li><li>59.5</li><li>60</li><li>60.5</li><li>61</li><li>61.5</li><li>62</li><li>62.5</li><li>63</li><li>63.5</li><li>64</li><li>64.5</li><li>65</li><li>65.5</li><li>66</li><li>66.5</li><li>67</li><li>67.5</li><li>68</li><li>68.5</li><li>69</li><li>69.5</li><li>70</li><li>70.5</li><li>71</li><li>71.5</li><li>72</li><li>72.5</li><li>73</li><li>73.5</li><li>74</li><li>74.5</li><li>75</li><li>75.5</li><li>76</li><li>76.5</li><li>77</li><li>77.5</li><li>78</li><li>78.5</li><li>79</li><li>79.5</li><li>80</li><li>80.5</li><li>81</li><li>81.5</li><li>82</li><li>82.5</li><li>83</li><li>83.5</li><li>84</li><li>84.5</li><li>85</li><li>85.5</li><li>86</li><li>86.5</li><li>87</li><li>87.5</li><li>88</li><li>88.5</li><li>89</li><li>89.5</li><li>90</li><li>90.5</li><li>91</li><li>91.5</li><li>92</li><li>92.5</li><li>93</li><li>93.5</li><li>94</li><li>94.5</li><li>95</li><li>95.5</li><li>96</li><li>96.5</li><li>97</li><li>97.5</li><li>98</li><li>98.5</li><li>99</li><li>99.5</li><li>100</li></ol>\n"
      ],
      "text/latex": [
       "\\begin{enumerate*}\n",
       "\\item 0.5\n",
       "\\item 1\n",
       "\\item 1.5\n",
       "\\item 2\n",
       "\\item 2.5\n",
       "\\item 3\n",
       "\\item 3.5\n",
       "\\item 4\n",
       "\\item 4.5\n",
       "\\item 5\n",
       "\\item 5.5\n",
       "\\item 6\n",
       "\\item 6.5\n",
       "\\item 7\n",
       "\\item 7.5\n",
       "\\item 8\n",
       "\\item 8.5\n",
       "\\item 9\n",
       "\\item 9.5\n",
       "\\item 10\n",
       "\\item 10.5\n",
       "\\item 11\n",
       "\\item 11.5\n",
       "\\item 12\n",
       "\\item 12.5\n",
       "\\item 13\n",
       "\\item 13.5\n",
       "\\item 14\n",
       "\\item 14.5\n",
       "\\item 15\n",
       "\\item 15.5\n",
       "\\item 16\n",
       "\\item 16.5\n",
       "\\item 17\n",
       "\\item 17.5\n",
       "\\item 18\n",
       "\\item 18.5\n",
       "\\item 19\n",
       "\\item 19.5\n",
       "\\item 20\n",
       "\\item 20.5\n",
       "\\item 21\n",
       "\\item 21.5\n",
       "\\item 22\n",
       "\\item 22.5\n",
       "\\item 23\n",
       "\\item 23.5\n",
       "\\item 24\n",
       "\\item 24.5\n",
       "\\item 25\n",
       "\\item 25.5\n",
       "\\item 26\n",
       "\\item 26.5\n",
       "\\item 27\n",
       "\\item 27.5\n",
       "\\item 28\n",
       "\\item 28.5\n",
       "\\item 29\n",
       "\\item 29.5\n",
       "\\item 30\n",
       "\\item 30.5\n",
       "\\item 31\n",
       "\\item 31.5\n",
       "\\item 32\n",
       "\\item 32.5\n",
       "\\item 33\n",
       "\\item 33.5\n",
       "\\item 34\n",
       "\\item 34.5\n",
       "\\item 35\n",
       "\\item 35.5\n",
       "\\item 36\n",
       "\\item 36.5\n",
       "\\item 37\n",
       "\\item 37.5\n",
       "\\item 38\n",
       "\\item 38.5\n",
       "\\item 39\n",
       "\\item 39.5\n",
       "\\item 40\n",
       "\\item 40.5\n",
       "\\item 41\n",
       "\\item 41.5\n",
       "\\item 42\n",
       "\\item 42.5\n",
       "\\item 43\n",
       "\\item 43.5\n",
       "\\item 44\n",
       "\\item 44.5\n",
       "\\item 45\n",
       "\\item 45.5\n",
       "\\item 46\n",
       "\\item 46.5\n",
       "\\item 47\n",
       "\\item 47.5\n",
       "\\item 48\n",
       "\\item 48.5\n",
       "\\item 49\n",
       "\\item 49.5\n",
       "\\item 50\n",
       "\\item 50.5\n",
       "\\item 51\n",
       "\\item 51.5\n",
       "\\item 52\n",
       "\\item 52.5\n",
       "\\item 53\n",
       "\\item 53.5\n",
       "\\item 54\n",
       "\\item 54.5\n",
       "\\item 55\n",
       "\\item 55.5\n",
       "\\item 56\n",
       "\\item 56.5\n",
       "\\item 57\n",
       "\\item 57.5\n",
       "\\item 58\n",
       "\\item 58.5\n",
       "\\item 59\n",
       "\\item 59.5\n",
       "\\item 60\n",
       "\\item 60.5\n",
       "\\item 61\n",
       "\\item 61.5\n",
       "\\item 62\n",
       "\\item 62.5\n",
       "\\item 63\n",
       "\\item 63.5\n",
       "\\item 64\n",
       "\\item 64.5\n",
       "\\item 65\n",
       "\\item 65.5\n",
       "\\item 66\n",
       "\\item 66.5\n",
       "\\item 67\n",
       "\\item 67.5\n",
       "\\item 68\n",
       "\\item 68.5\n",
       "\\item 69\n",
       "\\item 69.5\n",
       "\\item 70\n",
       "\\item 70.5\n",
       "\\item 71\n",
       "\\item 71.5\n",
       "\\item 72\n",
       "\\item 72.5\n",
       "\\item 73\n",
       "\\item 73.5\n",
       "\\item 74\n",
       "\\item 74.5\n",
       "\\item 75\n",
       "\\item 75.5\n",
       "\\item 76\n",
       "\\item 76.5\n",
       "\\item 77\n",
       "\\item 77.5\n",
       "\\item 78\n",
       "\\item 78.5\n",
       "\\item 79\n",
       "\\item 79.5\n",
       "\\item 80\n",
       "\\item 80.5\n",
       "\\item 81\n",
       "\\item 81.5\n",
       "\\item 82\n",
       "\\item 82.5\n",
       "\\item 83\n",
       "\\item 83.5\n",
       "\\item 84\n",
       "\\item 84.5\n",
       "\\item 85\n",
       "\\item 85.5\n",
       "\\item 86\n",
       "\\item 86.5\n",
       "\\item 87\n",
       "\\item 87.5\n",
       "\\item 88\n",
       "\\item 88.5\n",
       "\\item 89\n",
       "\\item 89.5\n",
       "\\item 90\n",
       "\\item 90.5\n",
       "\\item 91\n",
       "\\item 91.5\n",
       "\\item 92\n",
       "\\item 92.5\n",
       "\\item 93\n",
       "\\item 93.5\n",
       "\\item 94\n",
       "\\item 94.5\n",
       "\\item 95\n",
       "\\item 95.5\n",
       "\\item 96\n",
       "\\item 96.5\n",
       "\\item 97\n",
       "\\item 97.5\n",
       "\\item 98\n",
       "\\item 98.5\n",
       "\\item 99\n",
       "\\item 99.5\n",
       "\\item 100\n",
       "\\end{enumerate*}\n"
      ],
      "text/markdown": [
       "1. 0.5\n",
       "2. 1\n",
       "3. 1.5\n",
       "4. 2\n",
       "5. 2.5\n",
       "6. 3\n",
       "7. 3.5\n",
       "8. 4\n",
       "9. 4.5\n",
       "10. 5\n",
       "11. 5.5\n",
       "12. 6\n",
       "13. 6.5\n",
       "14. 7\n",
       "15. 7.5\n",
       "16. 8\n",
       "17. 8.5\n",
       "18. 9\n",
       "19. 9.5\n",
       "20. 10\n",
       "21. 10.5\n",
       "22. 11\n",
       "23. 11.5\n",
       "24. 12\n",
       "25. 12.5\n",
       "26. 13\n",
       "27. 13.5\n",
       "28. 14\n",
       "29. 14.5\n",
       "30. 15\n",
       "31. 15.5\n",
       "32. 16\n",
       "33. 16.5\n",
       "34. 17\n",
       "35. 17.5\n",
       "36. 18\n",
       "37. 18.5\n",
       "38. 19\n",
       "39. 19.5\n",
       "40. 20\n",
       "41. 20.5\n",
       "42. 21\n",
       "43. 21.5\n",
       "44. 22\n",
       "45. 22.5\n",
       "46. 23\n",
       "47. 23.5\n",
       "48. 24\n",
       "49. 24.5\n",
       "50. 25\n",
       "51. 25.5\n",
       "52. 26\n",
       "53. 26.5\n",
       "54. 27\n",
       "55. 27.5\n",
       "56. 28\n",
       "57. 28.5\n",
       "58. 29\n",
       "59. 29.5\n",
       "60. 30\n",
       "61. 30.5\n",
       "62. 31\n",
       "63. 31.5\n",
       "64. 32\n",
       "65. 32.5\n",
       "66. 33\n",
       "67. 33.5\n",
       "68. 34\n",
       "69. 34.5\n",
       "70. 35\n",
       "71. 35.5\n",
       "72. 36\n",
       "73. 36.5\n",
       "74. 37\n",
       "75. 37.5\n",
       "76. 38\n",
       "77. 38.5\n",
       "78. 39\n",
       "79. 39.5\n",
       "80. 40\n",
       "81. 40.5\n",
       "82. 41\n",
       "83. 41.5\n",
       "84. 42\n",
       "85. 42.5\n",
       "86. 43\n",
       "87. 43.5\n",
       "88. 44\n",
       "89. 44.5\n",
       "90. 45\n",
       "91. 45.5\n",
       "92. 46\n",
       "93. 46.5\n",
       "94. 47\n",
       "95. 47.5\n",
       "96. 48\n",
       "97. 48.5\n",
       "98. 49\n",
       "99. 49.5\n",
       "100. 50\n",
       "101. 50.5\n",
       "102. 51\n",
       "103. 51.5\n",
       "104. 52\n",
       "105. 52.5\n",
       "106. 53\n",
       "107. 53.5\n",
       "108. 54\n",
       "109. 54.5\n",
       "110. 55\n",
       "111. 55.5\n",
       "112. 56\n",
       "113. 56.5\n",
       "114. 57\n",
       "115. 57.5\n",
       "116. 58\n",
       "117. 58.5\n",
       "118. 59\n",
       "119. 59.5\n",
       "120. 60\n",
       "121. 60.5\n",
       "122. 61\n",
       "123. 61.5\n",
       "124. 62\n",
       "125. 62.5\n",
       "126. 63\n",
       "127. 63.5\n",
       "128. 64\n",
       "129. 64.5\n",
       "130. 65\n",
       "131. 65.5\n",
       "132. 66\n",
       "133. 66.5\n",
       "134. 67\n",
       "135. 67.5\n",
       "136. 68\n",
       "137. 68.5\n",
       "138. 69\n",
       "139. 69.5\n",
       "140. 70\n",
       "141. 70.5\n",
       "142. 71\n",
       "143. 71.5\n",
       "144. 72\n",
       "145. 72.5\n",
       "146. 73\n",
       "147. 73.5\n",
       "148. 74\n",
       "149. 74.5\n",
       "150. 75\n",
       "151. 75.5\n",
       "152. 76\n",
       "153. 76.5\n",
       "154. 77\n",
       "155. 77.5\n",
       "156. 78\n",
       "157. 78.5\n",
       "158. 79\n",
       "159. 79.5\n",
       "160. 80\n",
       "161. 80.5\n",
       "162. 81\n",
       "163. 81.5\n",
       "164. 82\n",
       "165. 82.5\n",
       "166. 83\n",
       "167. 83.5\n",
       "168. 84\n",
       "169. 84.5\n",
       "170. 85\n",
       "171. 85.5\n",
       "172. 86\n",
       "173. 86.5\n",
       "174. 87\n",
       "175. 87.5\n",
       "176. 88\n",
       "177. 88.5\n",
       "178. 89\n",
       "179. 89.5\n",
       "180. 90\n",
       "181. 90.5\n",
       "182. 91\n",
       "183. 91.5\n",
       "184. 92\n",
       "185. 92.5\n",
       "186. 93\n",
       "187. 93.5\n",
       "188. 94\n",
       "189. 94.5\n",
       "190. 95\n",
       "191. 95.5\n",
       "192. 96\n",
       "193. 96.5\n",
       "194. 97\n",
       "195. 97.5\n",
       "196. 98\n",
       "197. 98.5\n",
       "198. 99\n",
       "199. 99.5\n",
       "200. 100\n",
       "\n",
       "\n"
      ],
      "text/plain": [
       "  [1]   0.5   1.0   1.5   2.0   2.5   3.0   3.5   4.0   4.5   5.0   5.5   6.0\n",
       " [13]   6.5   7.0   7.5   8.0   8.5   9.0   9.5  10.0  10.5  11.0  11.5  12.0\n",
       " [25]  12.5  13.0  13.5  14.0  14.5  15.0  15.5  16.0  16.5  17.0  17.5  18.0\n",
       " [37]  18.5  19.0  19.5  20.0  20.5  21.0  21.5  22.0  22.5  23.0  23.5  24.0\n",
       " [49]  24.5  25.0  25.5  26.0  26.5  27.0  27.5  28.0  28.5  29.0  29.5  30.0\n",
       " [61]  30.5  31.0  31.5  32.0  32.5  33.0  33.5  34.0  34.5  35.0  35.5  36.0\n",
       " [73]  36.5  37.0  37.5  38.0  38.5  39.0  39.5  40.0  40.5  41.0  41.5  42.0\n",
       " [85]  42.5  43.0  43.5  44.0  44.5  45.0  45.5  46.0  46.5  47.0  47.5  48.0\n",
       " [97]  48.5  49.0  49.5  50.0  50.5  51.0  51.5  52.0  52.5  53.0  53.5  54.0\n",
       "[109]  54.5  55.0  55.5  56.0  56.5  57.0  57.5  58.0  58.5  59.0  59.5  60.0\n",
       "[121]  60.5  61.0  61.5  62.0  62.5  63.0  63.5  64.0  64.5  65.0  65.5  66.0\n",
       "[133]  66.5  67.0  67.5  68.0  68.5  69.0  69.5  70.0  70.5  71.0  71.5  72.0\n",
       "[145]  72.5  73.0  73.5  74.0  74.5  75.0  75.5  76.0  76.5  77.0  77.5  78.0\n",
       "[157]  78.5  79.0  79.5  80.0  80.5  81.0  81.5  82.0  82.5  83.0  83.5  84.0\n",
       "[169]  84.5  85.0  85.5  86.0  86.5  87.0  87.5  88.0  88.5  89.0  89.5  90.0\n",
       "[181]  90.5  91.0  91.5  92.0  92.5  93.0  93.5  94.0  94.5  95.0  95.5  96.0\n",
       "[193]  96.5  97.0  97.5  98.0  98.5  99.0  99.5 100.0"
      ]
     },
     "metadata": {},
     "output_type": "display_data"
    },
    {
     "data": {
      "text/html": [
       "<style>\n",
       ".list-inline {list-style: none; margin:0; padding: 0}\n",
       ".list-inline>li {display: inline-block}\n",
       ".list-inline>li:not(:last-child)::after {content: \"\\00b7\"; padding: 0 .5ex}\n",
       "</style>\n",
       "<ol class=list-inline><li>1</li><li>1</li><li>2</li><li>2</li><li>3</li><li>3</li><li>4</li><li>4</li><li>5</li><li>5</li><li>6</li><li>6</li><li>7</li><li>7</li><li>8</li><li>8</li><li>9</li><li>9</li><li>10</li><li>10</li><li>11</li><li>11</li><li>12</li><li>12</li><li>13</li><li>13</li><li>14</li><li>14</li><li>15</li><li>15</li><li>16</li><li>16</li><li>17</li><li>17</li><li>18</li><li>18</li><li>19</li><li>19</li><li>20</li><li>20</li><li>21</li><li>21</li><li>22</li><li>22</li><li>23</li><li>23</li><li>24</li><li>24</li><li>25</li><li>25</li><li>26</li><li>26</li><li>27</li><li>27</li><li>28</li><li>28</li><li>29</li><li>29</li><li>30</li><li>30</li><li>31</li><li>31</li><li>32</li><li>32</li><li>33</li><li>33</li><li>34</li><li>34</li><li>35</li><li>35</li><li>36</li><li>36</li><li>37</li><li>37</li><li>38</li><li>38</li><li>39</li><li>39</li><li>40</li><li>40</li><li>41</li><li>41</li><li>42</li><li>42</li><li>43</li><li>43</li><li>44</li><li>44</li><li>45</li><li>45</li><li>46</li><li>46</li><li>47</li><li>47</li><li>48</li><li>48</li><li>49</li><li>49</li><li>50</li><li>50</li><li>51</li><li>51</li><li>52</li><li>52</li><li>53</li><li>53</li><li>54</li><li>54</li><li>55</li><li>55</li><li>56</li><li>56</li><li>57</li><li>57</li><li>58</li><li>58</li><li>59</li><li>59</li><li>60</li><li>60</li><li>61</li><li>61</li><li>62</li><li>62</li><li>63</li><li>63</li><li>64</li><li>64</li><li>65</li><li>65</li><li>66</li><li>66</li><li>67</li><li>67</li><li>68</li><li>68</li><li>69</li><li>69</li><li>70</li><li>70</li><li>71</li><li>71</li><li>72</li><li>72</li><li>73</li><li>73</li><li>74</li><li>74</li><li>75</li><li>75</li><li>76</li><li>76</li><li>77</li><li>77</li><li>78</li><li>78</li><li>79</li><li>79</li><li>80</li><li>80</li><li>81</li><li>81</li><li>82</li><li>82</li><li>83</li><li>83</li><li>84</li><li>84</li><li>85</li><li>85</li><li>86</li><li>86</li><li>87</li><li>87</li><li>88</li><li>88</li><li>89</li><li>89</li><li>90</li><li>90</li><li>91</li><li>91</li><li>92</li><li>92</li><li>93</li><li>93</li><li>94</li><li>94</li><li>95</li><li>95</li><li>96</li><li>96</li><li>97</li><li>97</li><li>98</li><li>98</li><li>99</li><li>99</li><li>100</li><li>100</li></ol>\n"
      ],
      "text/latex": [
       "\\begin{enumerate*}\n",
       "\\item 1\n",
       "\\item 1\n",
       "\\item 2\n",
       "\\item 2\n",
       "\\item 3\n",
       "\\item 3\n",
       "\\item 4\n",
       "\\item 4\n",
       "\\item 5\n",
       "\\item 5\n",
       "\\item 6\n",
       "\\item 6\n",
       "\\item 7\n",
       "\\item 7\n",
       "\\item 8\n",
       "\\item 8\n",
       "\\item 9\n",
       "\\item 9\n",
       "\\item 10\n",
       "\\item 10\n",
       "\\item 11\n",
       "\\item 11\n",
       "\\item 12\n",
       "\\item 12\n",
       "\\item 13\n",
       "\\item 13\n",
       "\\item 14\n",
       "\\item 14\n",
       "\\item 15\n",
       "\\item 15\n",
       "\\item 16\n",
       "\\item 16\n",
       "\\item 17\n",
       "\\item 17\n",
       "\\item 18\n",
       "\\item 18\n",
       "\\item 19\n",
       "\\item 19\n",
       "\\item 20\n",
       "\\item 20\n",
       "\\item 21\n",
       "\\item 21\n",
       "\\item 22\n",
       "\\item 22\n",
       "\\item 23\n",
       "\\item 23\n",
       "\\item 24\n",
       "\\item 24\n",
       "\\item 25\n",
       "\\item 25\n",
       "\\item 26\n",
       "\\item 26\n",
       "\\item 27\n",
       "\\item 27\n",
       "\\item 28\n",
       "\\item 28\n",
       "\\item 29\n",
       "\\item 29\n",
       "\\item 30\n",
       "\\item 30\n",
       "\\item 31\n",
       "\\item 31\n",
       "\\item 32\n",
       "\\item 32\n",
       "\\item 33\n",
       "\\item 33\n",
       "\\item 34\n",
       "\\item 34\n",
       "\\item 35\n",
       "\\item 35\n",
       "\\item 36\n",
       "\\item 36\n",
       "\\item 37\n",
       "\\item 37\n",
       "\\item 38\n",
       "\\item 38\n",
       "\\item 39\n",
       "\\item 39\n",
       "\\item 40\n",
       "\\item 40\n",
       "\\item 41\n",
       "\\item 41\n",
       "\\item 42\n",
       "\\item 42\n",
       "\\item 43\n",
       "\\item 43\n",
       "\\item 44\n",
       "\\item 44\n",
       "\\item 45\n",
       "\\item 45\n",
       "\\item 46\n",
       "\\item 46\n",
       "\\item 47\n",
       "\\item 47\n",
       "\\item 48\n",
       "\\item 48\n",
       "\\item 49\n",
       "\\item 49\n",
       "\\item 50\n",
       "\\item 50\n",
       "\\item 51\n",
       "\\item 51\n",
       "\\item 52\n",
       "\\item 52\n",
       "\\item 53\n",
       "\\item 53\n",
       "\\item 54\n",
       "\\item 54\n",
       "\\item 55\n",
       "\\item 55\n",
       "\\item 56\n",
       "\\item 56\n",
       "\\item 57\n",
       "\\item 57\n",
       "\\item 58\n",
       "\\item 58\n",
       "\\item 59\n",
       "\\item 59\n",
       "\\item 60\n",
       "\\item 60\n",
       "\\item 61\n",
       "\\item 61\n",
       "\\item 62\n",
       "\\item 62\n",
       "\\item 63\n",
       "\\item 63\n",
       "\\item 64\n",
       "\\item 64\n",
       "\\item 65\n",
       "\\item 65\n",
       "\\item 66\n",
       "\\item 66\n",
       "\\item 67\n",
       "\\item 67\n",
       "\\item 68\n",
       "\\item 68\n",
       "\\item 69\n",
       "\\item 69\n",
       "\\item 70\n",
       "\\item 70\n",
       "\\item 71\n",
       "\\item 71\n",
       "\\item 72\n",
       "\\item 72\n",
       "\\item 73\n",
       "\\item 73\n",
       "\\item 74\n",
       "\\item 74\n",
       "\\item 75\n",
       "\\item 75\n",
       "\\item 76\n",
       "\\item 76\n",
       "\\item 77\n",
       "\\item 77\n",
       "\\item 78\n",
       "\\item 78\n",
       "\\item 79\n",
       "\\item 79\n",
       "\\item 80\n",
       "\\item 80\n",
       "\\item 81\n",
       "\\item 81\n",
       "\\item 82\n",
       "\\item 82\n",
       "\\item 83\n",
       "\\item 83\n",
       "\\item 84\n",
       "\\item 84\n",
       "\\item 85\n",
       "\\item 85\n",
       "\\item 86\n",
       "\\item 86\n",
       "\\item 87\n",
       "\\item 87\n",
       "\\item 88\n",
       "\\item 88\n",
       "\\item 89\n",
       "\\item 89\n",
       "\\item 90\n",
       "\\item 90\n",
       "\\item 91\n",
       "\\item 91\n",
       "\\item 92\n",
       "\\item 92\n",
       "\\item 93\n",
       "\\item 93\n",
       "\\item 94\n",
       "\\item 94\n",
       "\\item 95\n",
       "\\item 95\n",
       "\\item 96\n",
       "\\item 96\n",
       "\\item 97\n",
       "\\item 97\n",
       "\\item 98\n",
       "\\item 98\n",
       "\\item 99\n",
       "\\item 99\n",
       "\\item 100\n",
       "\\item 100\n",
       "\\end{enumerate*}\n"
      ],
      "text/markdown": [
       "1. 1\n",
       "2. 1\n",
       "3. 2\n",
       "4. 2\n",
       "5. 3\n",
       "6. 3\n",
       "7. 4\n",
       "8. 4\n",
       "9. 5\n",
       "10. 5\n",
       "11. 6\n",
       "12. 6\n",
       "13. 7\n",
       "14. 7\n",
       "15. 8\n",
       "16. 8\n",
       "17. 9\n",
       "18. 9\n",
       "19. 10\n",
       "20. 10\n",
       "21. 11\n",
       "22. 11\n",
       "23. 12\n",
       "24. 12\n",
       "25. 13\n",
       "26. 13\n",
       "27. 14\n",
       "28. 14\n",
       "29. 15\n",
       "30. 15\n",
       "31. 16\n",
       "32. 16\n",
       "33. 17\n",
       "34. 17\n",
       "35. 18\n",
       "36. 18\n",
       "37. 19\n",
       "38. 19\n",
       "39. 20\n",
       "40. 20\n",
       "41. 21\n",
       "42. 21\n",
       "43. 22\n",
       "44. 22\n",
       "45. 23\n",
       "46. 23\n",
       "47. 24\n",
       "48. 24\n",
       "49. 25\n",
       "50. 25\n",
       "51. 26\n",
       "52. 26\n",
       "53. 27\n",
       "54. 27\n",
       "55. 28\n",
       "56. 28\n",
       "57. 29\n",
       "58. 29\n",
       "59. 30\n",
       "60. 30\n",
       "61. 31\n",
       "62. 31\n",
       "63. 32\n",
       "64. 32\n",
       "65. 33\n",
       "66. 33\n",
       "67. 34\n",
       "68. 34\n",
       "69. 35\n",
       "70. 35\n",
       "71. 36\n",
       "72. 36\n",
       "73. 37\n",
       "74. 37\n",
       "75. 38\n",
       "76. 38\n",
       "77. 39\n",
       "78. 39\n",
       "79. 40\n",
       "80. 40\n",
       "81. 41\n",
       "82. 41\n",
       "83. 42\n",
       "84. 42\n",
       "85. 43\n",
       "86. 43\n",
       "87. 44\n",
       "88. 44\n",
       "89. 45\n",
       "90. 45\n",
       "91. 46\n",
       "92. 46\n",
       "93. 47\n",
       "94. 47\n",
       "95. 48\n",
       "96. 48\n",
       "97. 49\n",
       "98. 49\n",
       "99. 50\n",
       "100. 50\n",
       "101. 51\n",
       "102. 51\n",
       "103. 52\n",
       "104. 52\n",
       "105. 53\n",
       "106. 53\n",
       "107. 54\n",
       "108. 54\n",
       "109. 55\n",
       "110. 55\n",
       "111. 56\n",
       "112. 56\n",
       "113. 57\n",
       "114. 57\n",
       "115. 58\n",
       "116. 58\n",
       "117. 59\n",
       "118. 59\n",
       "119. 60\n",
       "120. 60\n",
       "121. 61\n",
       "122. 61\n",
       "123. 62\n",
       "124. 62\n",
       "125. 63\n",
       "126. 63\n",
       "127. 64\n",
       "128. 64\n",
       "129. 65\n",
       "130. 65\n",
       "131. 66\n",
       "132. 66\n",
       "133. 67\n",
       "134. 67\n",
       "135. 68\n",
       "136. 68\n",
       "137. 69\n",
       "138. 69\n",
       "139. 70\n",
       "140. 70\n",
       "141. 71\n",
       "142. 71\n",
       "143. 72\n",
       "144. 72\n",
       "145. 73\n",
       "146. 73\n",
       "147. 74\n",
       "148. 74\n",
       "149. 75\n",
       "150. 75\n",
       "151. 76\n",
       "152. 76\n",
       "153. 77\n",
       "154. 77\n",
       "155. 78\n",
       "156. 78\n",
       "157. 79\n",
       "158. 79\n",
       "159. 80\n",
       "160. 80\n",
       "161. 81\n",
       "162. 81\n",
       "163. 82\n",
       "164. 82\n",
       "165. 83\n",
       "166. 83\n",
       "167. 84\n",
       "168. 84\n",
       "169. 85\n",
       "170. 85\n",
       "171. 86\n",
       "172. 86\n",
       "173. 87\n",
       "174. 87\n",
       "175. 88\n",
       "176. 88\n",
       "177. 89\n",
       "178. 89\n",
       "179. 90\n",
       "180. 90\n",
       "181. 91\n",
       "182. 91\n",
       "183. 92\n",
       "184. 92\n",
       "185. 93\n",
       "186. 93\n",
       "187. 94\n",
       "188. 94\n",
       "189. 95\n",
       "190. 95\n",
       "191. 96\n",
       "192. 96\n",
       "193. 97\n",
       "194. 97\n",
       "195. 98\n",
       "196. 98\n",
       "197. 99\n",
       "198. 99\n",
       "199. 100\n",
       "200. 100\n",
       "\n",
       "\n"
      ],
      "text/plain": [
       "  [1]   1   1   2   2   3   3   4   4   5   5   6   6   7   7   8   8   9   9\n",
       " [19]  10  10  11  11  12  12  13  13  14  14  15  15  16  16  17  17  18  18\n",
       " [37]  19  19  20  20  21  21  22  22  23  23  24  24  25  25  26  26  27  27\n",
       " [55]  28  28  29  29  30  30  31  31  32  32  33  33  34  34  35  35  36  36\n",
       " [73]  37  37  38  38  39  39  40  40  41  41  42  42  43  43  44  44  45  45\n",
       " [91]  46  46  47  47  48  48  49  49  50  50  51  51  52  52  53  53  54  54\n",
       "[109]  55  55  56  56  57  57  58  58  59  59  60  60  61  61  62  62  63  63\n",
       "[127]  64  64  65  65  66  66  67  67  68  68  69  69  70  70  71  71  72  72\n",
       "[145]  73  73  74  74  75  75  76  76  77  77  78  78  79  79  80  80  81  81\n",
       "[163]  82  82  83  83  84  84  85  85  86  86  87  87  88  88  89  89  90  90\n",
       "[181]  91  91  92  92  93  93  94  94  95  95  96  96  97  97  98  98  99  99\n",
       "[199] 100 100"
      ]
     },
     "metadata": {},
     "output_type": "display_data"
    },
    {
     "data": {
      "text/html": [
       "<style>\n",
       ".list-inline {list-style: none; margin:0; padding: 0}\n",
       ".list-inline>li {display: inline-block}\n",
       ".list-inline>li:not(:last-child)::after {content: \"\\00b7\"; padding: 0 .5ex}\n",
       "</style>\n",
       "<ol class=list-inline><li>0</li><li>1</li><li>1</li><li>2</li><li>2</li><li>3</li><li>3</li><li>4</li><li>4</li><li>5</li><li>5</li><li>6</li><li>6</li><li>7</li><li>7</li><li>8</li><li>8</li><li>9</li><li>9</li><li>10</li><li>10</li><li>11</li><li>11</li><li>12</li><li>12</li><li>13</li><li>13</li><li>14</li><li>14</li><li>15</li><li>15</li><li>16</li><li>16</li><li>17</li><li>17</li><li>18</li><li>18</li><li>19</li><li>19</li><li>20</li><li>20</li><li>21</li><li>21</li><li>22</li><li>22</li><li>23</li><li>23</li><li>24</li><li>24</li><li>25</li><li>25</li><li>26</li><li>26</li><li>27</li><li>27</li><li>28</li><li>28</li><li>29</li><li>29</li><li>30</li><li>30</li><li>31</li><li>31</li><li>32</li><li>32</li><li>33</li><li>33</li><li>34</li><li>34</li><li>35</li><li>35</li><li>36</li><li>36</li><li>37</li><li>37</li><li>38</li><li>38</li><li>39</li><li>39</li><li>40</li><li>40</li><li>41</li><li>41</li><li>42</li><li>42</li><li>43</li><li>43</li><li>44</li><li>44</li><li>45</li><li>45</li><li>46</li><li>46</li><li>47</li><li>47</li><li>48</li><li>48</li><li>49</li><li>49</li><li>50</li><li>50</li><li>51</li><li>51</li><li>52</li><li>52</li><li>53</li><li>53</li><li>54</li><li>54</li><li>55</li><li>55</li><li>56</li><li>56</li><li>57</li><li>57</li><li>58</li><li>58</li><li>59</li><li>59</li><li>60</li><li>60</li><li>61</li><li>61</li><li>62</li><li>62</li><li>63</li><li>63</li><li>64</li><li>64</li><li>65</li><li>65</li><li>66</li><li>66</li><li>67</li><li>67</li><li>68</li><li>68</li><li>69</li><li>69</li><li>70</li><li>70</li><li>71</li><li>71</li><li>72</li><li>72</li><li>73</li><li>73</li><li>74</li><li>74</li><li>75</li><li>75</li><li>76</li><li>76</li><li>77</li><li>77</li><li>78</li><li>78</li><li>79</li><li>79</li><li>80</li><li>80</li><li>81</li><li>81</li><li>82</li><li>82</li><li>83</li><li>83</li><li>84</li><li>84</li><li>85</li><li>85</li><li>86</li><li>86</li><li>87</li><li>87</li><li>88</li><li>88</li><li>89</li><li>89</li><li>90</li><li>90</li><li>91</li><li>91</li><li>92</li><li>92</li><li>93</li><li>93</li><li>94</li><li>94</li><li>95</li><li>95</li><li>96</li><li>96</li><li>97</li><li>97</li><li>98</li><li>98</li><li>99</li><li>99</li><li>100</li></ol>\n"
      ],
      "text/latex": [
       "\\begin{enumerate*}\n",
       "\\item 0\n",
       "\\item 1\n",
       "\\item 1\n",
       "\\item 2\n",
       "\\item 2\n",
       "\\item 3\n",
       "\\item 3\n",
       "\\item 4\n",
       "\\item 4\n",
       "\\item 5\n",
       "\\item 5\n",
       "\\item 6\n",
       "\\item 6\n",
       "\\item 7\n",
       "\\item 7\n",
       "\\item 8\n",
       "\\item 8\n",
       "\\item 9\n",
       "\\item 9\n",
       "\\item 10\n",
       "\\item 10\n",
       "\\item 11\n",
       "\\item 11\n",
       "\\item 12\n",
       "\\item 12\n",
       "\\item 13\n",
       "\\item 13\n",
       "\\item 14\n",
       "\\item 14\n",
       "\\item 15\n",
       "\\item 15\n",
       "\\item 16\n",
       "\\item 16\n",
       "\\item 17\n",
       "\\item 17\n",
       "\\item 18\n",
       "\\item 18\n",
       "\\item 19\n",
       "\\item 19\n",
       "\\item 20\n",
       "\\item 20\n",
       "\\item 21\n",
       "\\item 21\n",
       "\\item 22\n",
       "\\item 22\n",
       "\\item 23\n",
       "\\item 23\n",
       "\\item 24\n",
       "\\item 24\n",
       "\\item 25\n",
       "\\item 25\n",
       "\\item 26\n",
       "\\item 26\n",
       "\\item 27\n",
       "\\item 27\n",
       "\\item 28\n",
       "\\item 28\n",
       "\\item 29\n",
       "\\item 29\n",
       "\\item 30\n",
       "\\item 30\n",
       "\\item 31\n",
       "\\item 31\n",
       "\\item 32\n",
       "\\item 32\n",
       "\\item 33\n",
       "\\item 33\n",
       "\\item 34\n",
       "\\item 34\n",
       "\\item 35\n",
       "\\item 35\n",
       "\\item 36\n",
       "\\item 36\n",
       "\\item 37\n",
       "\\item 37\n",
       "\\item 38\n",
       "\\item 38\n",
       "\\item 39\n",
       "\\item 39\n",
       "\\item 40\n",
       "\\item 40\n",
       "\\item 41\n",
       "\\item 41\n",
       "\\item 42\n",
       "\\item 42\n",
       "\\item 43\n",
       "\\item 43\n",
       "\\item 44\n",
       "\\item 44\n",
       "\\item 45\n",
       "\\item 45\n",
       "\\item 46\n",
       "\\item 46\n",
       "\\item 47\n",
       "\\item 47\n",
       "\\item 48\n",
       "\\item 48\n",
       "\\item 49\n",
       "\\item 49\n",
       "\\item 50\n",
       "\\item 50\n",
       "\\item 51\n",
       "\\item 51\n",
       "\\item 52\n",
       "\\item 52\n",
       "\\item 53\n",
       "\\item 53\n",
       "\\item 54\n",
       "\\item 54\n",
       "\\item 55\n",
       "\\item 55\n",
       "\\item 56\n",
       "\\item 56\n",
       "\\item 57\n",
       "\\item 57\n",
       "\\item 58\n",
       "\\item 58\n",
       "\\item 59\n",
       "\\item 59\n",
       "\\item 60\n",
       "\\item 60\n",
       "\\item 61\n",
       "\\item 61\n",
       "\\item 62\n",
       "\\item 62\n",
       "\\item 63\n",
       "\\item 63\n",
       "\\item 64\n",
       "\\item 64\n",
       "\\item 65\n",
       "\\item 65\n",
       "\\item 66\n",
       "\\item 66\n",
       "\\item 67\n",
       "\\item 67\n",
       "\\item 68\n",
       "\\item 68\n",
       "\\item 69\n",
       "\\item 69\n",
       "\\item 70\n",
       "\\item 70\n",
       "\\item 71\n",
       "\\item 71\n",
       "\\item 72\n",
       "\\item 72\n",
       "\\item 73\n",
       "\\item 73\n",
       "\\item 74\n",
       "\\item 74\n",
       "\\item 75\n",
       "\\item 75\n",
       "\\item 76\n",
       "\\item 76\n",
       "\\item 77\n",
       "\\item 77\n",
       "\\item 78\n",
       "\\item 78\n",
       "\\item 79\n",
       "\\item 79\n",
       "\\item 80\n",
       "\\item 80\n",
       "\\item 81\n",
       "\\item 81\n",
       "\\item 82\n",
       "\\item 82\n",
       "\\item 83\n",
       "\\item 83\n",
       "\\item 84\n",
       "\\item 84\n",
       "\\item 85\n",
       "\\item 85\n",
       "\\item 86\n",
       "\\item 86\n",
       "\\item 87\n",
       "\\item 87\n",
       "\\item 88\n",
       "\\item 88\n",
       "\\item 89\n",
       "\\item 89\n",
       "\\item 90\n",
       "\\item 90\n",
       "\\item 91\n",
       "\\item 91\n",
       "\\item 92\n",
       "\\item 92\n",
       "\\item 93\n",
       "\\item 93\n",
       "\\item 94\n",
       "\\item 94\n",
       "\\item 95\n",
       "\\item 95\n",
       "\\item 96\n",
       "\\item 96\n",
       "\\item 97\n",
       "\\item 97\n",
       "\\item 98\n",
       "\\item 98\n",
       "\\item 99\n",
       "\\item 99\n",
       "\\item 100\n",
       "\\end{enumerate*}\n"
      ],
      "text/markdown": [
       "1. 0\n",
       "2. 1\n",
       "3. 1\n",
       "4. 2\n",
       "5. 2\n",
       "6. 3\n",
       "7. 3\n",
       "8. 4\n",
       "9. 4\n",
       "10. 5\n",
       "11. 5\n",
       "12. 6\n",
       "13. 6\n",
       "14. 7\n",
       "15. 7\n",
       "16. 8\n",
       "17. 8\n",
       "18. 9\n",
       "19. 9\n",
       "20. 10\n",
       "21. 10\n",
       "22. 11\n",
       "23. 11\n",
       "24. 12\n",
       "25. 12\n",
       "26. 13\n",
       "27. 13\n",
       "28. 14\n",
       "29. 14\n",
       "30. 15\n",
       "31. 15\n",
       "32. 16\n",
       "33. 16\n",
       "34. 17\n",
       "35. 17\n",
       "36. 18\n",
       "37. 18\n",
       "38. 19\n",
       "39. 19\n",
       "40. 20\n",
       "41. 20\n",
       "42. 21\n",
       "43. 21\n",
       "44. 22\n",
       "45. 22\n",
       "46. 23\n",
       "47. 23\n",
       "48. 24\n",
       "49. 24\n",
       "50. 25\n",
       "51. 25\n",
       "52. 26\n",
       "53. 26\n",
       "54. 27\n",
       "55. 27\n",
       "56. 28\n",
       "57. 28\n",
       "58. 29\n",
       "59. 29\n",
       "60. 30\n",
       "61. 30\n",
       "62. 31\n",
       "63. 31\n",
       "64. 32\n",
       "65. 32\n",
       "66. 33\n",
       "67. 33\n",
       "68. 34\n",
       "69. 34\n",
       "70. 35\n",
       "71. 35\n",
       "72. 36\n",
       "73. 36\n",
       "74. 37\n",
       "75. 37\n",
       "76. 38\n",
       "77. 38\n",
       "78. 39\n",
       "79. 39\n",
       "80. 40\n",
       "81. 40\n",
       "82. 41\n",
       "83. 41\n",
       "84. 42\n",
       "85. 42\n",
       "86. 43\n",
       "87. 43\n",
       "88. 44\n",
       "89. 44\n",
       "90. 45\n",
       "91. 45\n",
       "92. 46\n",
       "93. 46\n",
       "94. 47\n",
       "95. 47\n",
       "96. 48\n",
       "97. 48\n",
       "98. 49\n",
       "99. 49\n",
       "100. 50\n",
       "101. 50\n",
       "102. 51\n",
       "103. 51\n",
       "104. 52\n",
       "105. 52\n",
       "106. 53\n",
       "107. 53\n",
       "108. 54\n",
       "109. 54\n",
       "110. 55\n",
       "111. 55\n",
       "112. 56\n",
       "113. 56\n",
       "114. 57\n",
       "115. 57\n",
       "116. 58\n",
       "117. 58\n",
       "118. 59\n",
       "119. 59\n",
       "120. 60\n",
       "121. 60\n",
       "122. 61\n",
       "123. 61\n",
       "124. 62\n",
       "125. 62\n",
       "126. 63\n",
       "127. 63\n",
       "128. 64\n",
       "129. 64\n",
       "130. 65\n",
       "131. 65\n",
       "132. 66\n",
       "133. 66\n",
       "134. 67\n",
       "135. 67\n",
       "136. 68\n",
       "137. 68\n",
       "138. 69\n",
       "139. 69\n",
       "140. 70\n",
       "141. 70\n",
       "142. 71\n",
       "143. 71\n",
       "144. 72\n",
       "145. 72\n",
       "146. 73\n",
       "147. 73\n",
       "148. 74\n",
       "149. 74\n",
       "150. 75\n",
       "151. 75\n",
       "152. 76\n",
       "153. 76\n",
       "154. 77\n",
       "155. 77\n",
       "156. 78\n",
       "157. 78\n",
       "158. 79\n",
       "159. 79\n",
       "160. 80\n",
       "161. 80\n",
       "162. 81\n",
       "163. 81\n",
       "164. 82\n",
       "165. 82\n",
       "166. 83\n",
       "167. 83\n",
       "168. 84\n",
       "169. 84\n",
       "170. 85\n",
       "171. 85\n",
       "172. 86\n",
       "173. 86\n",
       "174. 87\n",
       "175. 87\n",
       "176. 88\n",
       "177. 88\n",
       "178. 89\n",
       "179. 89\n",
       "180. 90\n",
       "181. 90\n",
       "182. 91\n",
       "183. 91\n",
       "184. 92\n",
       "185. 92\n",
       "186. 93\n",
       "187. 93\n",
       "188. 94\n",
       "189. 94\n",
       "190. 95\n",
       "191. 95\n",
       "192. 96\n",
       "193. 96\n",
       "194. 97\n",
       "195. 97\n",
       "196. 98\n",
       "197. 98\n",
       "198. 99\n",
       "199. 99\n",
       "200. 100\n",
       "\n",
       "\n"
      ],
      "text/plain": [
       "  [1]   0   1   1   2   2   3   3   4   4   5   5   6   6   7   7   8   8   9\n",
       " [19]   9  10  10  11  11  12  12  13  13  14  14  15  15  16  16  17  17  18\n",
       " [37]  18  19  19  20  20  21  21  22  22  23  23  24  24  25  25  26  26  27\n",
       " [55]  27  28  28  29  29  30  30  31  31  32  32  33  33  34  34  35  35  36\n",
       " [73]  36  37  37  38  38  39  39  40  40  41  41  42  42  43  43  44  44  45\n",
       " [91]  45  46  46  47  47  48  48  49  49  50  50  51  51  52  52  53  53  54\n",
       "[109]  54  55  55  56  56  57  57  58  58  59  59  60  60  61  61  62  62  63\n",
       "[127]  63  64  64  65  65  66  66  67  67  68  68  69  69  70  70  71  71  72\n",
       "[145]  72  73  73  74  74  75  75  76  76  77  77  78  78  79  79  80  80  81\n",
       "[163]  81  82  82  83  83  84  84  85  85  86  86  87  87  88  88  89  89  90\n",
       "[181]  90  91  91  92  92  93  93  94  94  95  95  96  96  97  97  98  98  99\n",
       "[199]  99 100"
      ]
     },
     "metadata": {},
     "output_type": "display_data"
    }
   ],
   "source": [
    "1:200/2\n",
    "ceiling(1:200/2)\n",
    "floor(1:200/2)"
   ]
  },
  {
   "cell_type": "code",
   "execution_count": 34,
   "metadata": {
    "scrolled": false
   },
   "outputs": [
    {
     "data": {
      "text/html": [
       "30"
      ],
      "text/latex": [
       "30"
      ],
      "text/markdown": [
       "30"
      ],
      "text/plain": [
       "[1] 30"
      ]
     },
     "metadata": {},
     "output_type": "display_data"
    },
    {
     "data": {
      "text/html": [
       "1"
      ],
      "text/latex": [
       "1"
      ],
      "text/markdown": [
       "1"
      ],
      "text/plain": [
       "[1] 1"
      ]
     },
     "metadata": {},
     "output_type": "display_data"
    },
    {
     "data": {
      "text/html": [
       "15.5"
      ],
      "text/latex": [
       "15.5"
      ],
      "text/markdown": [
       "15.5"
      ],
      "text/plain": [
       "[1] 15.5"
      ]
     },
     "metadata": {},
     "output_type": "display_data"
    },
    {
     "data": {
      "text/html": [
       "15.5"
      ],
      "text/latex": [
       "15.5"
      ],
      "text/markdown": [
       "15.5"
      ],
      "text/plain": [
       "[1] 15.5"
      ]
     },
     "metadata": {},
     "output_type": "display_data"
    }
   ],
   "source": [
    "max(1:30)\n",
    "min(1:30)\n",
    "mean(1:30)\n",
    "median(1:30)"
   ]
  },
  {
   "cell_type": "code",
   "execution_count": 104,
   "metadata": {
    "scrolled": true
   },
   "outputs": [
    {
     "data": {
      "text/html": [
       "<style>\n",
       ".list-inline {list-style: none; margin:0; padding: 0}\n",
       ".list-inline>li {display: inline-block}\n",
       ".list-inline>li:not(:last-child)::after {content: \"\\00b7\"; padding: 0 .5ex}\n",
       "</style>\n",
       "<ol class=list-inline><li>0</li><li>1</li></ol>\n"
      ],
      "text/latex": [
       "\\begin{enumerate*}\n",
       "\\item 0\n",
       "\\item 1\n",
       "\\end{enumerate*}\n"
      ],
      "text/markdown": [
       "1. 0\n",
       "2. 1\n",
       "\n",
       "\n"
      ],
      "text/plain": [
       "[1] 0 1"
      ]
     },
     "metadata": {},
     "output_type": "display_data"
    },
    {
     "data": {
      "text/html": [
       "<style>\n",
       ".list-inline {list-style: none; margin:0; padding: 0}\n",
       ".list-inline>li {display: inline-block}\n",
       ".list-inline>li:not(:last-child)::after {content: \"\\00b7\"; padding: 0 .5ex}\n",
       "</style>\n",
       "<ol class=list-inline><li>0</li><li>1</li><li>3</li></ol>\n"
      ],
      "text/latex": [
       "\\begin{enumerate*}\n",
       "\\item 0\n",
       "\\item 1\n",
       "\\item 3\n",
       "\\end{enumerate*}\n"
      ],
      "text/markdown": [
       "1. 0\n",
       "2. 1\n",
       "3. 3\n",
       "\n",
       "\n"
      ],
      "text/plain": [
       "[1] 0 1 3"
      ]
     },
     "metadata": {},
     "output_type": "display_data"
    },
    {
     "data": {
      "text/html": [
       "<style>\n",
       ".list-inline {list-style: none; margin:0; padding: 0}\n",
       ".list-inline>li {display: inline-block}\n",
       ".list-inline>li:not(:last-child)::after {content: \"\\00b7\"; padding: 0 .5ex}\n",
       "</style>\n",
       "<ol class=list-inline><li>0</li><li>1</li><li>3</li><li>5</li></ol>\n"
      ],
      "text/latex": [
       "\\begin{enumerate*}\n",
       "\\item 0\n",
       "\\item 1\n",
       "\\item 3\n",
       "\\item 5\n",
       "\\end{enumerate*}\n"
      ],
      "text/markdown": [
       "1. 0\n",
       "2. 1\n",
       "3. 3\n",
       "4. 5\n",
       "\n",
       "\n"
      ],
      "text/plain": [
       "[1] 0 1 3 5"
      ]
     },
     "metadata": {},
     "output_type": "display_data"
    },
    {
     "data": {
      "text/html": [
       "0"
      ],
      "text/latex": [
       "0"
      ],
      "text/markdown": [
       "0"
      ],
      "text/plain": [
       "[1] 0"
      ]
     },
     "metadata": {},
     "output_type": "display_data"
    }
   ],
   "source": [
    "x=c(0,1);x\n",
    "x=c(x, 3); x\n",
    "x[4]=5;x\n",
    "x[1] #unlike other languanges, index starts from 1"
   ]
  },
  {
   "cell_type": "code",
   "execution_count": 106,
   "metadata": {},
   "outputs": [
    {
     "data": {
      "text/html": [
       "<style>\n",
       ".list-inline {list-style: none; margin:0; padding: 0}\n",
       ".list-inline>li {display: inline-block}\n",
       ".list-inline>li:not(:last-child)::after {content: \"\\00b7\"; padding: 0 .5ex}\n",
       "</style>\n",
       "<ol class=list-inline><li>0</li><li>1</li><li>3</li><li>5</li></ol>\n"
      ],
      "text/latex": [
       "\\begin{enumerate*}\n",
       "\\item 0\n",
       "\\item 1\n",
       "\\item 3\n",
       "\\item 5\n",
       "\\end{enumerate*}\n"
      ],
      "text/markdown": [
       "1. 0\n",
       "2. 1\n",
       "3. 3\n",
       "4. 5\n",
       "\n",
       "\n"
      ],
      "text/plain": [
       "[1] 0 1 3 5"
      ]
     },
     "metadata": {},
     "output_type": "display_data"
    },
    {
     "data": {
      "text/html": [
       "<style>\n",
       ".list-inline {list-style: none; margin:0; padding: 0}\n",
       ".list-inline>li {display: inline-block}\n",
       ".list-inline>li:not(:last-child)::after {content: \"\\00b7\"; padding: 0 .5ex}\n",
       "</style>\n",
       "<ol class=list-inline><li>3</li><li>5</li></ol>\n"
      ],
      "text/latex": [
       "\\begin{enumerate*}\n",
       "\\item 3\n",
       "\\item 5\n",
       "\\end{enumerate*}\n"
      ],
      "text/markdown": [
       "1. 3\n",
       "2. 5\n",
       "\n",
       "\n"
      ],
      "text/plain": [
       "[1] 3 5"
      ]
     },
     "metadata": {},
     "output_type": "display_data"
    }
   ],
   "source": [
    "x\n",
    "x[-(1:2)]"
   ]
  },
  {
   "cell_type": "code",
   "execution_count": 10,
   "metadata": {
    "scrolled": true
   },
   "outputs": [
    {
     "data": {
      "text/html": [
       "2048"
      ],
      "text/latex": [
       "2048"
      ],
      "text/markdown": [
       "2048"
      ],
      "text/plain": [
       "[1] 2048"
      ]
     },
     "metadata": {},
     "output_type": "display_data"
    },
    {
     "data": {
      "text/html": [
       "2.71828182845905"
      ],
      "text/latex": [
       "2.71828182845905"
      ],
      "text/markdown": [
       "2.71828182845905"
      ],
      "text/plain": [
       "[1] 2.718282"
      ]
     },
     "metadata": {},
     "output_type": "display_data"
    },
    {
     "data": {
      "text/html": [
       "0.2"
      ],
      "text/latex": [
       "0.2"
      ],
      "text/markdown": [
       "0.2"
      ],
      "text/plain": [
       "[1] 0.2"
      ]
     },
     "metadata": {},
     "output_type": "display_data"
    }
   ],
   "source": [
    "2**10*2\n",
    "exp(1)\n",
    "1/5 #unlike python2.7\n",
    "?exp"
   ]
  },
  {
   "cell_type": "code",
   "execution_count": 111,
   "metadata": {
    "scrolled": false
   },
   "outputs": [
    {
     "data": {
      "text/html": [
       "<style>\n",
       ".list-inline {list-style: none; margin:0; padding: 0}\n",
       ".list-inline>li {display: inline-block}\n",
       ".list-inline>li:not(:last-child)::after {content: \"\\00b7\"; padding: 0 .5ex}\n",
       "</style>\n",
       "<ol class=list-inline><li>'74'</li><li>'122'</li><li>'235'</li><li>'111'</li><li>'292'</li><li>'111'</li><li>'211'</li><li>'133'</li><li>'16'</li><li>'79'</li><li>'FALSE'</li><li>'aa'</li></ol>\n"
      ],
      "text/latex": [
       "\\begin{enumerate*}\n",
       "\\item '74'\n",
       "\\item '122'\n",
       "\\item '235'\n",
       "\\item '111'\n",
       "\\item '292'\n",
       "\\item '111'\n",
       "\\item '211'\n",
       "\\item '133'\n",
       "\\item '16'\n",
       "\\item '79'\n",
       "\\item 'FALSE'\n",
       "\\item 'aa'\n",
       "\\end{enumerate*}\n"
      ],
      "text/markdown": [
       "1. '74'\n",
       "2. '122'\n",
       "3. '235'\n",
       "4. '111'\n",
       "5. '292'\n",
       "6. '111'\n",
       "7. '211'\n",
       "8. '133'\n",
       "9. '16'\n",
       "10. '79'\n",
       "11. 'FALSE'\n",
       "12. 'aa'\n",
       "\n",
       "\n"
      ],
      "text/plain": [
       " [1] \"74\"    \"122\"   \"235\"   \"111\"   \"292\"   \"111\"   \"211\"   \"133\"   \"16\"   \n",
       "[10] \"79\"    \"FALSE\" \"aa\"   "
      ]
     },
     "metadata": {},
     "output_type": "display_data"
    }
   ],
   "source": [
    "# whales<-c(74,122,235,111,292,111,211,133,16,79)\n",
    "# whales<-c(74,122,235,111,292,111,211,133,16,79,\"aa\")\n",
    "whales<-c(74,122,235,111,292,111,211,133,16,79, FALSE, \"aa\")\n",
    "# simpsons<-c(\"Homer\", \"Marge\", \"Bart\", \"Lisa\", \"Maggie\")\n",
    "# simpsons<-c(\"Homer\", \"Marge\", \"Bart\", \"Lisa\", \"Maggie\", 4)\n",
    "whales\n",
    "# simpsons\n"
   ]
  },
  {
   "cell_type": "code",
   "execution_count": 38,
   "metadata": {
    "scrolled": true
   },
   "outputs": [
    {
     "data": {
      "text/html": [
       "1384"
      ],
      "text/latex": [
       "1384"
      ],
      "text/markdown": [
       "1384"
      ],
      "text/plain": [
       "[1] 1384"
      ]
     },
     "metadata": {},
     "output_type": "display_data"
    },
    {
     "data": {
      "text/html": [
       "10"
      ],
      "text/latex": [
       "10"
      ],
      "text/markdown": [
       "10"
      ],
      "text/plain": [
       "[1] 10"
      ]
     },
     "metadata": {},
     "output_type": "display_data"
    },
    {
     "data": {
      "text/html": [
       "138.4"
      ],
      "text/latex": [
       "138.4"
      ],
      "text/markdown": [
       "138.4"
      ],
      "text/plain": [
       "[1] 138.4"
      ]
     },
     "metadata": {},
     "output_type": "display_data"
    }
   ],
   "source": [
    "whales<-c(74,122,235,111,292,111,211,133,16,79)\n",
    "sum(whales)\n",
    "length(whales)\n",
    "mean(whales)\n"
   ]
  },
  {
   "cell_type": "code",
   "execution_count": 39,
   "metadata": {},
   "outputs": [
    {
     "data": {
      "text/html": [
       "<style>\n",
       ".list-inline {list-style: none; margin:0; padding: 0}\n",
       ".list-inline>li {display: inline-block}\n",
       ".list-inline>li:not(:last-child)::after {content: \"\\00b7\"; padding: 0 .5ex}\n",
       "</style>\n",
       "<ol class=list-inline><li>2</li><li>4</li><li>6</li><li>8</li><li>10</li><li>12</li><li>14</li><li>16</li><li>18</li><li>20</li></ol>\n"
      ],
      "text/latex": [
       "\\begin{enumerate*}\n",
       "\\item 2\n",
       "\\item 4\n",
       "\\item 6\n",
       "\\item 8\n",
       "\\item 10\n",
       "\\item 12\n",
       "\\item 14\n",
       "\\item 16\n",
       "\\item 18\n",
       "\\item 20\n",
       "\\end{enumerate*}\n"
      ],
      "text/markdown": [
       "1. 2\n",
       "2. 4\n",
       "3. 6\n",
       "4. 8\n",
       "5. 10\n",
       "6. 12\n",
       "7. 14\n",
       "8. 16\n",
       "9. 18\n",
       "10. 20\n",
       "\n",
       "\n"
      ],
      "text/plain": [
       " [1]  2  4  6  8 10 12 14 16 18 20"
      ]
     },
     "metadata": {},
     "output_type": "display_data"
    },
    {
     "data": {
      "text/html": [
       "<style>\n",
       ".list-inline {list-style: none; margin:0; padding: 0}\n",
       ".list-inline>li {display: inline-block}\n",
       ".list-inline>li:not(:last-child)::after {content: \"\\00b7\"; padding: 0 .5ex}\n",
       "</style>\n",
       "<ol class=list-inline><li>-4.5</li><li>-3.5</li><li>-2.5</li><li>-1.5</li><li>-0.5</li><li>0.5</li><li>1.5</li><li>2.5</li><li>3.5</li><li>4.5</li></ol>\n"
      ],
      "text/latex": [
       "\\begin{enumerate*}\n",
       "\\item -4.5\n",
       "\\item -3.5\n",
       "\\item -2.5\n",
       "\\item -1.5\n",
       "\\item -0.5\n",
       "\\item 0.5\n",
       "\\item 1.5\n",
       "\\item 2.5\n",
       "\\item 3.5\n",
       "\\item 4.5\n",
       "\\end{enumerate*}\n"
      ],
      "text/markdown": [
       "1. -4.5\n",
       "2. -3.5\n",
       "3. -2.5\n",
       "4. -1.5\n",
       "5. -0.5\n",
       "6. 0.5\n",
       "7. 1.5\n",
       "8. 2.5\n",
       "9. 3.5\n",
       "10. 4.5\n",
       "\n",
       "\n"
      ],
      "text/plain": [
       " [1] -4.5 -3.5 -2.5 -1.5 -0.5  0.5  1.5  2.5  3.5  4.5"
      ]
     },
     "metadata": {},
     "output_type": "display_data"
    },
    {
     "data": {
      "text/html": [
       "3.02765035409749"
      ],
      "text/latex": [
       "3.02765035409749"
      ],
      "text/markdown": [
       "3.02765035409749"
      ],
      "text/plain": [
       "[1] 3.02765"
      ]
     },
     "metadata": {},
     "output_type": "display_data"
    },
    {
     "data": {
      "text/html": [
       "3.02765035409749"
      ],
      "text/latex": [
       "3.02765035409749"
      ],
      "text/markdown": [
       "3.02765035409749"
      ],
      "text/plain": [
       "[1] 3.02765"
      ]
     },
     "metadata": {},
     "output_type": "display_data"
    },
    {
     "data": {
      "text/html": [
       "<style>\n",
       ".list-inline {list-style: none; margin:0; padding: 0}\n",
       ".list-inline>li {display: inline-block}\n",
       ".list-inline>li:not(:last-child)::after {content: \"\\00b7\"; padding: 0 .5ex}\n",
       "</style>\n",
       "<ol class=list-inline><li>'1'</li><li>'2'</li><li>'3'</li><li>'3'</li><li>'2'</li><li>'5'</li><li>'4'</li></ol>\n"
      ],
      "text/latex": [
       "\\begin{enumerate*}\n",
       "\\item '1'\n",
       "\\item '2'\n",
       "\\item '3'\n",
       "\\item '3'\n",
       "\\item '2'\n",
       "\\item '5'\n",
       "\\item '4'\n",
       "\\end{enumerate*}\n"
      ],
      "text/markdown": [
       "1. '1'\n",
       "2. '2'\n",
       "3. '3'\n",
       "4. '3'\n",
       "5. '2'\n",
       "6. '5'\n",
       "7. '4'\n",
       "\n",
       "\n"
      ],
      "text/plain": [
       "[1] \"1\" \"2\" \"3\" \"3\" \"2\" \"5\" \"4\""
      ]
     },
     "metadata": {},
     "output_type": "display_data"
    },
    {
     "name": "stderr",
     "output_type": "stream",
     "text": [
      "Warning message in mean.default(y):\n",
      "\"argument is not numeric or logical: returning NA\"\n"
     ]
    },
    {
     "data": {
      "text/html": [
       "&lt;NA&gt;"
      ],
      "text/latex": [
       "<NA>"
      ],
      "text/markdown": [
       "&lt;NA&gt;"
      ],
      "text/plain": [
       "[1] NA"
      ]
     },
     "metadata": {},
     "output_type": "display_data"
    }
   ],
   "source": [
    "x=1:10\n",
    "x + x\n",
    "x - mean(x)\n",
    "sd(x)\n",
    "sqrt(sum((x-mean(x))^2)/(length(x)-1)) #standard diviation\n",
    "y=c(1,2,3,3,2,5,\"4\")\n",
    "y\n",
    "mean(y)"
   ]
  },
  {
   "cell_type": "code",
   "execution_count": 112,
   "metadata": {},
   "outputs": [
    {
     "data": {
      "text/html": [
       "<style>\n",
       ".list-inline {list-style: none; margin:0; padding: 0}\n",
       ".list-inline>li {display: inline-block}\n",
       ".list-inline>li:not(:last-child)::after {content: \"\\00b7\"; padding: 0 .5ex}\n",
       "</style>\n",
       "<ol class=list-inline><li>0</li><li>3</li><li>2</li><li>2</li><li>2</li></ol>\n"
      ],
      "text/latex": [
       "\\begin{enumerate*}\n",
       "\\item 0\n",
       "\\item 3\n",
       "\\item 2\n",
       "\\item 2\n",
       "\\item 2\n",
       "\\end{enumerate*}\n"
      ],
      "text/markdown": [
       "1. 0\n",
       "2. 3\n",
       "3. 2\n",
       "4. 2\n",
       "5. 2\n",
       "\n",
       "\n"
      ],
      "text/plain": [
       "[1] 0 3 2 2 2"
      ]
     },
     "metadata": {},
     "output_type": "display_data"
    }
   ],
   "source": [
    "pain<-c(0,3,2,2,2)\n",
    "pain"
   ]
  },
  {
   "cell_type": "code",
   "execution_count": 113,
   "metadata": {},
   "outputs": [],
   "source": [
    "fpain<-factor(pain)"
   ]
  },
  {
   "cell_type": "code",
   "execution_count": 114,
   "metadata": {},
   "outputs": [
    {
     "data": {
      "text/html": [
       "<style>\n",
       ".list-inline {list-style: none; margin:0; padding: 0}\n",
       ".list-inline>li {display: inline-block}\n",
       ".list-inline>li:not(:last-child)::after {content: \"\\00b7\"; padding: 0 .5ex}\n",
       "</style>\n",
       "<ol class=list-inline><li>0</li><li>3</li><li>2</li><li>2</li><li>2</li></ol>\n",
       "\n",
       "<details>\n",
       "\t<summary style=display:list-item;cursor:pointer>\n",
       "\t\t<strong>Levels</strong>:\n",
       "\t</summary>\n",
       "\t<style>\n",
       "\t.list-inline {list-style: none; margin:0; padding: 0}\n",
       "\t.list-inline>li {display: inline-block}\n",
       "\t.list-inline>li:not(:last-child)::after {content: \"\\00b7\"; padding: 0 .5ex}\n",
       "\t</style>\n",
       "\t<ol class=list-inline><li>'0'</li><li>'2'</li><li>'3'</li></ol>\n",
       "</details>"
      ],
      "text/latex": [
       "\\begin{enumerate*}\n",
       "\\item 0\n",
       "\\item 3\n",
       "\\item 2\n",
       "\\item 2\n",
       "\\item 2\n",
       "\\end{enumerate*}\n",
       "\n",
       "\\emph{Levels}: \\begin{enumerate*}\n",
       "\\item '0'\n",
       "\\item '2'\n",
       "\\item '3'\n",
       "\\end{enumerate*}\n"
      ],
      "text/markdown": [
       "1. 0\n",
       "2. 3\n",
       "3. 2\n",
       "4. 2\n",
       "5. 2\n",
       "\n",
       "\n",
       "\n",
       "**Levels**: 1. '0'\n",
       "2. '2'\n",
       "3. '3'\n",
       "\n",
       "\n"
      ],
      "text/plain": [
       "[1] 0 3 2 2 2\n",
       "Levels: 0 2 3"
      ]
     },
     "metadata": {},
     "output_type": "display_data"
    }
   ],
   "source": [
    "fpain"
   ]
  },
  {
   "cell_type": "code",
   "execution_count": 42,
   "metadata": {
    "scrolled": true
   },
   "outputs": [
    {
     "data": {
      "text/html": [
       "<style>\n",
       ".list-inline {list-style: none; margin:0; padding: 0}\n",
       ".list-inline>li {display: inline-block}\n",
       ".list-inline>li:not(:last-child)::after {content: \"\\00b7\"; padding: 0 .5ex}\n",
       "</style>\n",
       "<ol class=list-inline><li>0</li><li>3</li><li>2</li><li>2</li><li>2</li></ol>\n",
       "\n",
       "<details>\n",
       "\t<summary style=display:list-item;cursor:pointer>\n",
       "\t\t<strong>Levels</strong>:\n",
       "\t</summary>\n",
       "\t<style>\n",
       "\t.list-inline {list-style: none; margin:0; padding: 0}\n",
       "\t.list-inline>li {display: inline-block}\n",
       "\t.list-inline>li:not(:last-child)::after {content: \"\\00b7\"; padding: 0 .5ex}\n",
       "\t</style>\n",
       "\t<ol class=list-inline><li>'0'</li><li>'1'</li><li>'2'</li><li>'3'</li></ol>\n",
       "</details>"
      ],
      "text/latex": [
       "\\begin{enumerate*}\n",
       "\\item 0\n",
       "\\item 3\n",
       "\\item 2\n",
       "\\item 2\n",
       "\\item 2\n",
       "\\end{enumerate*}\n",
       "\n",
       "\\emph{Levels}: \\begin{enumerate*}\n",
       "\\item '0'\n",
       "\\item '1'\n",
       "\\item '2'\n",
       "\\item '3'\n",
       "\\end{enumerate*}\n"
      ],
      "text/markdown": [
       "1. 0\n",
       "2. 3\n",
       "3. 2\n",
       "4. 2\n",
       "5. 2\n",
       "\n",
       "\n",
       "\n",
       "**Levels**: 1. '0'\n",
       "2. '1'\n",
       "3. '2'\n",
       "4. '3'\n",
       "\n",
       "\n"
      ],
      "text/plain": [
       "[1] 0 3 2 2 2\n",
       "Levels: 0 1 2 3"
      ]
     },
     "metadata": {},
     "output_type": "display_data"
    }
   ],
   "source": [
    "fpain<-factor(pain, levels=0:3)\n",
    "fpain"
   ]
  },
  {
   "cell_type": "code",
   "execution_count": 43,
   "metadata": {},
   "outputs": [
    {
     "data": {
      "text/html": [
       "<style>\n",
       ".list-inline {list-style: none; margin:0; padding: 0}\n",
       ".list-inline>li {display: inline-block}\n",
       ".list-inline>li:not(:last-child)::after {content: \"\\00b7\"; padding: 0 .5ex}\n",
       "</style>\n",
       "<ol class=list-inline><li>None</li><li>Severe</li><li>Medium</li><li>Medium</li><li>Medium</li></ol>\n",
       "\n",
       "<details>\n",
       "\t<summary style=display:list-item;cursor:pointer>\n",
       "\t\t<strong>Levels</strong>:\n",
       "\t</summary>\n",
       "\t<style>\n",
       "\t.list-inline {list-style: none; margin:0; padding: 0}\n",
       "\t.list-inline>li {display: inline-block}\n",
       "\t.list-inline>li:not(:last-child)::after {content: \"\\00b7\"; padding: 0 .5ex}\n",
       "\t</style>\n",
       "\t<ol class=list-inline><li>'None'</li><li>'Mild'</li><li>'Medium'</li><li>'Severe'</li></ol>\n",
       "</details>"
      ],
      "text/latex": [
       "\\begin{enumerate*}\n",
       "\\item None\n",
       "\\item Severe\n",
       "\\item Medium\n",
       "\\item Medium\n",
       "\\item Medium\n",
       "\\end{enumerate*}\n",
       "\n",
       "\\emph{Levels}: \\begin{enumerate*}\n",
       "\\item 'None'\n",
       "\\item 'Mild'\n",
       "\\item 'Medium'\n",
       "\\item 'Severe'\n",
       "\\end{enumerate*}\n"
      ],
      "text/markdown": [
       "1. None\n",
       "2. Severe\n",
       "3. Medium\n",
       "4. Medium\n",
       "5. Medium\n",
       "\n",
       "\n",
       "\n",
       "**Levels**: 1. 'None'\n",
       "2. 'Mild'\n",
       "3. 'Medium'\n",
       "4. 'Severe'\n",
       "\n",
       "\n"
      ],
      "text/plain": [
       "[1] None   Severe Medium Medium Medium\n",
       "Levels: None Mild Medium Severe"
      ]
     },
     "metadata": {},
     "output_type": "display_data"
    }
   ],
   "source": [
    "levels(fpain)=c(\"None\", \"Mild\", \"Medium\", \"Severe\")\n",
    "fpain"
   ]
  },
  {
   "cell_type": "code",
   "execution_count": 44,
   "metadata": {},
   "outputs": [
    {
     "data": {
      "text/html": [
       "<style>\n",
       ".list-inline {list-style: none; margin:0; padding: 0}\n",
       ".list-inline>li {display: inline-block}\n",
       ".list-inline>li:not(:last-child)::after {content: \"\\00b7\"; padding: 0 .5ex}\n",
       "</style>\n",
       "<ol class=list-inline><li>0</li><li>3</li><li>2</li><li>2</li><li>2</li></ol>\n"
      ],
      "text/latex": [
       "\\begin{enumerate*}\n",
       "\\item 0\n",
       "\\item 3\n",
       "\\item 2\n",
       "\\item 2\n",
       "\\item 2\n",
       "\\end{enumerate*}\n"
      ],
      "text/markdown": [
       "1. 0\n",
       "2. 3\n",
       "3. 2\n",
       "4. 2\n",
       "5. 2\n",
       "\n",
       "\n"
      ],
      "text/plain": [
       "[1] 0 3 2 2 2"
      ]
     },
     "metadata": {},
     "output_type": "display_data"
    }
   ],
   "source": [
    "pain"
   ]
  },
  {
   "cell_type": "code",
   "execution_count": 45,
   "metadata": {
    "scrolled": false
   },
   "outputs": [
    {
     "data": {
      "image/png": "[encoded data removed]",
      "text/plain": [
       "plot without title"
      ]
     },
     "metadata": {
      "image/png": {
       "height": 420,
       "width": 420
      }
     },
     "output_type": "display_data"
    }
   ],
   "source": [
    "x=c(\"T\", \"T\", \"F\", \"T\", \"t\")\n",
    "plot(factor(x))"
   ]
  },
  {
   "cell_type": "code",
   "execution_count": 46,
   "metadata": {
    "scrolled": true
   },
   "outputs": [
    {
     "data": {
      "text/html": [
       "<style>\n",
       ".list-inline {list-style: none; margin:0; padding: 0}\n",
       ".list-inline>li {display: inline-block}\n",
       ".list-inline>li:not(:last-child)::after {content: \"\\00b7\"; padding: 0 .5ex}\n",
       "</style>\n",
       "<ol class=list-inline><li>1</li><li>2</li><li>3</li><li>4</li><li>5</li><li>6</li><li>7</li><li>8</li><li>9</li><li>10</li></ol>\n"
      ],
      "text/latex": [
       "\\begin{enumerate*}\n",
       "\\item 1\n",
       "\\item 2\n",
       "\\item 3\n",
       "\\item 4\n",
       "\\item 5\n",
       "\\item 6\n",
       "\\item 7\n",
       "\\item 8\n",
       "\\item 9\n",
       "\\item 10\n",
       "\\end{enumerate*}\n"
      ],
      "text/markdown": [
       "1. 1\n",
       "2. 2\n",
       "3. 3\n",
       "4. 4\n",
       "5. 5\n",
       "6. 6\n",
       "7. 7\n",
       "8. 8\n",
       "9. 9\n",
       "10. 10\n",
       "\n",
       "\n"
      ],
      "text/plain": [
       " [1]  1  2  3  4  5  6  7  8  9 10"
      ]
     },
     "metadata": {},
     "output_type": "display_data"
    },
    {
     "data": {
      "text/html": [
       "<style>\n",
       ".list-inline {list-style: none; margin:0; padding: 0}\n",
       ".list-inline>li {display: inline-block}\n",
       ".list-inline>li:not(:last-child)::after {content: \"\\00b7\"; padding: 0 .5ex}\n",
       "</style>\n",
       "<ol class=list-inline><li>10</li><li>9</li><li>8</li><li>7</li><li>6</li><li>5</li><li>4</li><li>3</li><li>2</li><li>1</li></ol>\n"
      ],
      "text/latex": [
       "\\begin{enumerate*}\n",
       "\\item 10\n",
       "\\item 9\n",
       "\\item 8\n",
       "\\item 7\n",
       "\\item 6\n",
       "\\item 5\n",
       "\\item 4\n",
       "\\item 3\n",
       "\\item 2\n",
       "\\item 1\n",
       "\\end{enumerate*}\n"
      ],
      "text/markdown": [
       "1. 10\n",
       "2. 9\n",
       "3. 8\n",
       "4. 7\n",
       "5. 6\n",
       "6. 5\n",
       "7. 4\n",
       "8. 3\n",
       "9. 2\n",
       "10. 1\n",
       "\n",
       "\n"
      ],
      "text/plain": [
       " [1] 10  9  8  7  6  5  4  3  2  1"
      ]
     },
     "metadata": {},
     "output_type": "display_data"
    },
    {
     "data": {
      "text/html": [
       "<style>\n",
       ".list-inline {list-style: none; margin:0; padding: 0}\n",
       ".list-inline>li {display: inline-block}\n",
       ".list-inline>li:not(:last-child)::after {content: \"\\00b7\"; padding: 0 .5ex}\n",
       "</style>\n",
       "<ol class=list-inline><li>10</li><li>9</li><li>8</li><li>7</li><li>6</li><li>5</li><li>4</li><li>3</li><li>2</li><li>1</li></ol>\n"
      ],
      "text/latex": [
       "\\begin{enumerate*}\n",
       "\\item 10\n",
       "\\item 9\n",
       "\\item 8\n",
       "\\item 7\n",
       "\\item 6\n",
       "\\item 5\n",
       "\\item 4\n",
       "\\item 3\n",
       "\\item 2\n",
       "\\item 1\n",
       "\\end{enumerate*}\n"
      ],
      "text/markdown": [
       "1. 10\n",
       "2. 9\n",
       "3. 8\n",
       "4. 7\n",
       "5. 6\n",
       "6. 5\n",
       "7. 4\n",
       "8. 3\n",
       "9. 2\n",
       "10. 1\n",
       "\n",
       "\n"
      ],
      "text/plain": [
       " [1] 10  9  8  7  6  5  4  3  2  1"
      ]
     },
     "metadata": {},
     "output_type": "display_data"
    },
    {
     "data": {
      "text/html": [
       "<style>\n",
       ".list-inline {list-style: none; margin:0; padding: 0}\n",
       ".list-inline>li {display: inline-block}\n",
       ".list-inline>li:not(:last-child)::after {content: \"\\00b7\"; padding: 0 .5ex}\n",
       "</style>\n",
       "<ol class=list-inline><li>1</li><li>2</li><li>3</li><li>4</li><li>5</li><li>6</li><li>7</li><li>8</li><li>9</li><li>10</li><li>10</li><li>9</li><li>8</li><li>7</li><li>6</li><li>5</li><li>4</li><li>3</li><li>2</li><li>1</li></ol>\n"
      ],
      "text/latex": [
       "\\begin{enumerate*}\n",
       "\\item 1\n",
       "\\item 2\n",
       "\\item 3\n",
       "\\item 4\n",
       "\\item 5\n",
       "\\item 6\n",
       "\\item 7\n",
       "\\item 8\n",
       "\\item 9\n",
       "\\item 10\n",
       "\\item 10\n",
       "\\item 9\n",
       "\\item 8\n",
       "\\item 7\n",
       "\\item 6\n",
       "\\item 5\n",
       "\\item 4\n",
       "\\item 3\n",
       "\\item 2\n",
       "\\item 1\n",
       "\\end{enumerate*}\n"
      ],
      "text/markdown": [
       "1. 1\n",
       "2. 2\n",
       "3. 3\n",
       "4. 4\n",
       "5. 5\n",
       "6. 6\n",
       "7. 7\n",
       "8. 8\n",
       "9. 9\n",
       "10. 10\n",
       "11. 10\n",
       "12. 9\n",
       "13. 8\n",
       "14. 7\n",
       "15. 6\n",
       "16. 5\n",
       "17. 4\n",
       "18. 3\n",
       "19. 2\n",
       "20. 1\n",
       "\n",
       "\n"
      ],
      "text/plain": [
       " [1]  1  2  3  4  5  6  7  8  9 10 10  9  8  7  6  5  4  3  2  1"
      ]
     },
     "metadata": {},
     "output_type": "display_data"
    },
    {
     "data": {
      "text/html": [
       "<style>\n",
       ".list-inline {list-style: none; margin:0; padding: 0}\n",
       ".list-inline>li {display: inline-block}\n",
       ".list-inline>li:not(:last-child)::after {content: \"\\00b7\"; padding: 0 .5ex}\n",
       "</style>\n",
       "<ol class=list-inline><li>1</li><li>1/2</li><li>1/3</li><li>1/4</li><li>1/5</li><li>1/6</li><li>1/7</li><li>1/8</li><li>1/9</li><li>1/10</li></ol>\n"
      ],
      "text/latex": [
       "\\begin{enumerate*}\n",
       "\\item 1\n",
       "\\item 1/2\n",
       "\\item 1/3\n",
       "\\item 1/4\n",
       "\\item 1/5\n",
       "\\item 1/6\n",
       "\\item 1/7\n",
       "\\item 1/8\n",
       "\\item 1/9\n",
       "\\item 1/10\n",
       "\\end{enumerate*}\n"
      ],
      "text/markdown": [
       "1. 1\n",
       "2. 1/2\n",
       "3. 1/3\n",
       "4. 1/4\n",
       "5. 1/5\n",
       "6. 1/6\n",
       "7. 1/7\n",
       "8. 1/8\n",
       "9. 1/9\n",
       "10. 1/10\n",
       "\n",
       "\n"
      ],
      "text/plain": [
       " [1]    1  1/2  1/3  1/4  1/5  1/6  1/7  1/8  1/9 1/10"
      ]
     },
     "metadata": {},
     "output_type": "display_data"
    },
    {
     "data": {
      "text/html": [
       "<style>\n",
       ".list-inline {list-style: none; margin:0; padding: 0}\n",
       ".list-inline>li {display: inline-block}\n",
       ".list-inline>li:not(:last-child)::after {content: \"\\00b7\"; padding: 0 .5ex}\n",
       "</style>\n",
       "<ol class=list-inline><li>2</li><li>1</li><li>2/3</li><li>1/2</li><li>2/5</li><li>1/3</li><li>2/7</li><li>1/4</li><li>2/9</li><li>1/5</li></ol>\n"
      ],
      "text/latex": [
       "\\begin{enumerate*}\n",
       "\\item 2\n",
       "\\item 1\n",
       "\\item 2/3\n",
       "\\item 1/2\n",
       "\\item 2/5\n",
       "\\item 1/3\n",
       "\\item 2/7\n",
       "\\item 1/4\n",
       "\\item 2/9\n",
       "\\item 1/5\n",
       "\\end{enumerate*}\n"
      ],
      "text/markdown": [
       "1. 2\n",
       "2. 1\n",
       "3. 2/3\n",
       "4. 1/2\n",
       "5. 2/5\n",
       "6. 1/3\n",
       "7. 2/7\n",
       "8. 1/4\n",
       "9. 2/9\n",
       "10. 1/5\n",
       "\n",
       "\n"
      ],
      "text/plain": [
       " [1]   2   1 2/3 1/2 2/5 1/3 2/7 1/4 2/9 1/5"
      ]
     },
     "metadata": {},
     "output_type": "display_data"
    }
   ],
   "source": [
    "1:10\n",
    "rev(1:10)\n",
    "10:1\n",
    "c(1:10, 10:1)\n",
    "library(MASS)\n",
    "fractions(1/(1:10))\n",
    "2*fractions(1/(1:10))"
   ]
  },
  {
   "cell_type": "code",
   "execution_count": 47,
   "metadata": {
    "scrolled": true
   },
   "outputs": [
    {
     "data": {
      "text/html": [
       "<style>\n",
       ".list-inline {list-style: none; margin:0; padding: 0}\n",
       ".list-inline>li {display: inline-block}\n",
       ".list-inline>li:not(:last-child)::after {content: \"\\00b7\"; padding: 0 .5ex}\n",
       "</style>\n",
       "<ol class=list-inline><li>1</li><li>3</li><li>5</li><li>7</li><li>9</li></ol>\n"
      ],
      "text/latex": [
       "\\begin{enumerate*}\n",
       "\\item 1\n",
       "\\item 3\n",
       "\\item 5\n",
       "\\item 7\n",
       "\\item 9\n",
       "\\end{enumerate*}\n"
      ],
      "text/markdown": [
       "1. 1\n",
       "2. 3\n",
       "3. 5\n",
       "4. 7\n",
       "5. 9\n",
       "\n",
       "\n"
      ],
      "text/plain": [
       "[1] 1 3 5 7 9"
      ]
     },
     "metadata": {},
     "output_type": "display_data"
    },
    {
     "data": {
      "text/html": [
       "<style>\n",
       ".list-inline {list-style: none; margin:0; padding: 0}\n",
       ".list-inline>li {display: inline-block}\n",
       ".list-inline>li:not(:last-child)::after {content: \"\\00b7\"; padding: 0 .5ex}\n",
       "</style>\n",
       "<ol class=list-inline><li>1</li><li>3</li><li>5</li><li>7</li><li>9</li></ol>\n"
      ],
      "text/latex": [
       "\\begin{enumerate*}\n",
       "\\item 1\n",
       "\\item 3\n",
       "\\item 5\n",
       "\\item 7\n",
       "\\item 9\n",
       "\\end{enumerate*}\n"
      ],
      "text/markdown": [
       "1. 1\n",
       "2. 3\n",
       "3. 5\n",
       "4. 7\n",
       "5. 9\n",
       "\n",
       "\n"
      ],
      "text/plain": [
       "[1] 1 3 5 7 9"
      ]
     },
     "metadata": {},
     "output_type": "display_data"
    },
    {
     "data": {
      "text/html": [
       "<style>\n",
       ".list-inline {list-style: none; margin:0; padding: 0}\n",
       ".list-inline>li {display: inline-block}\n",
       ".list-inline>li:not(:last-child)::after {content: \"\\00b7\"; padding: 0 .5ex}\n",
       "</style>\n",
       "<ol class=list-inline><li>1</li><li>3</li><li>5</li><li>7</li><li>9</li></ol>\n"
      ],
      "text/latex": [
       "\\begin{enumerate*}\n",
       "\\item 1\n",
       "\\item 3\n",
       "\\item 5\n",
       "\\item 7\n",
       "\\item 9\n",
       "\\end{enumerate*}\n"
      ],
      "text/markdown": [
       "1. 1\n",
       "2. 3\n",
       "3. 5\n",
       "4. 7\n",
       "5. 9\n",
       "\n",
       "\n"
      ],
      "text/plain": [
       "[1] 1 3 5 7 9"
      ]
     },
     "metadata": {},
     "output_type": "display_data"
    }
   ],
   "source": [
    "a=1; h=2; n=5\n",
    "a+h*(0:(n-1))\n",
    "seq(1,9,by=2)\n",
    "seq(1,9,length=5)"
   ]
  },
  {
   "cell_type": "code",
   "execution_count": 48,
   "metadata": {},
   "outputs": [
    {
     "data": {
      "text/html": [
       "<style>\n",
       ".list-inline {list-style: none; margin:0; padding: 0}\n",
       ".list-inline>li {display: inline-block}\n",
       ".list-inline>li:not(:last-child)::after {content: \"\\00b7\"; padding: 0 .5ex}\n",
       "</style>\n",
       "<ol class=list-inline><li>1</li><li>1</li><li>1</li><li>1</li><li>1</li><li>1</li><li>1</li><li>1</li><li>1</li><li>1</li></ol>\n"
      ],
      "text/latex": [
       "\\begin{enumerate*}\n",
       "\\item 1\n",
       "\\item 1\n",
       "\\item 1\n",
       "\\item 1\n",
       "\\item 1\n",
       "\\item 1\n",
       "\\item 1\n",
       "\\item 1\n",
       "\\item 1\n",
       "\\item 1\n",
       "\\end{enumerate*}\n"
      ],
      "text/markdown": [
       "1. 1\n",
       "2. 1\n",
       "3. 1\n",
       "4. 1\n",
       "5. 1\n",
       "6. 1\n",
       "7. 1\n",
       "8. 1\n",
       "9. 1\n",
       "10. 1\n",
       "\n",
       "\n"
      ],
      "text/plain": [
       " [1] 1 1 1 1 1 1 1 1 1 1"
      ]
     },
     "metadata": {},
     "output_type": "display_data"
    },
    {
     "data": {
      "text/html": [
       "<style>\n",
       ".list-inline {list-style: none; margin:0; padding: 0}\n",
       ".list-inline>li {display: inline-block}\n",
       ".list-inline>li:not(:last-child)::after {content: \"\\00b7\"; padding: 0 .5ex}\n",
       "</style>\n",
       "<ol class=list-inline><li>1</li><li>1</li><li>2</li><li>2</li><li>3</li><li>3</li><li>4</li><li>4</li><li>5</li><li>5</li><li>6</li><li>6</li><li>7</li><li>7</li><li>8</li><li>8</li><li>9</li><li>9</li><li>10</li><li>10</li></ol>\n"
      ],
      "text/latex": [
       "\\begin{enumerate*}\n",
       "\\item 1\n",
       "\\item 1\n",
       "\\item 2\n",
       "\\item 2\n",
       "\\item 3\n",
       "\\item 3\n",
       "\\item 4\n",
       "\\item 4\n",
       "\\item 5\n",
       "\\item 5\n",
       "\\item 6\n",
       "\\item 6\n",
       "\\item 7\n",
       "\\item 7\n",
       "\\item 8\n",
       "\\item 8\n",
       "\\item 9\n",
       "\\item 9\n",
       "\\item 10\n",
       "\\item 10\n",
       "\\end{enumerate*}\n"
      ],
      "text/markdown": [
       "1. 1\n",
       "2. 1\n",
       "3. 2\n",
       "4. 2\n",
       "5. 3\n",
       "6. 3\n",
       "7. 4\n",
       "8. 4\n",
       "9. 5\n",
       "10. 5\n",
       "11. 6\n",
       "12. 6\n",
       "13. 7\n",
       "14. 7\n",
       "15. 8\n",
       "16. 8\n",
       "17. 9\n",
       "18. 9\n",
       "19. 10\n",
       "20. 10\n",
       "\n",
       "\n"
      ],
      "text/plain": [
       " [1]  1  1  2  2  3  3  4  4  5  5  6  6  7  7  8  8  9  9 10 10"
      ]
     },
     "metadata": {},
     "output_type": "display_data"
    },
    {
     "data": {
      "text/html": [
       "<style>\n",
       ".list-inline {list-style: none; margin:0; padding: 0}\n",
       ".list-inline>li {display: inline-block}\n",
       ".list-inline>li:not(:last-child)::after {content: \"\\00b7\"; padding: 0 .5ex}\n",
       "</style>\n",
       "<ol class=list-inline><li>1</li><li>2</li><li>3</li><li>4</li><li>5</li><li>6</li><li>7</li><li>8</li><li>9</li><li>10</li><li>1</li><li>2</li><li>3</li><li>4</li><li>5</li><li>6</li><li>7</li><li>8</li><li>9</li><li>10</li></ol>\n"
      ],
      "text/latex": [
       "\\begin{enumerate*}\n",
       "\\item 1\n",
       "\\item 2\n",
       "\\item 3\n",
       "\\item 4\n",
       "\\item 5\n",
       "\\item 6\n",
       "\\item 7\n",
       "\\item 8\n",
       "\\item 9\n",
       "\\item 10\n",
       "\\item 1\n",
       "\\item 2\n",
       "\\item 3\n",
       "\\item 4\n",
       "\\item 5\n",
       "\\item 6\n",
       "\\item 7\n",
       "\\item 8\n",
       "\\item 9\n",
       "\\item 10\n",
       "\\end{enumerate*}\n"
      ],
      "text/markdown": [
       "1. 1\n",
       "2. 2\n",
       "3. 3\n",
       "4. 4\n",
       "5. 5\n",
       "6. 6\n",
       "7. 7\n",
       "8. 8\n",
       "9. 9\n",
       "10. 10\n",
       "11. 1\n",
       "12. 2\n",
       "13. 3\n",
       "14. 4\n",
       "15. 5\n",
       "16. 6\n",
       "17. 7\n",
       "18. 8\n",
       "19. 9\n",
       "20. 10\n",
       "\n",
       "\n"
      ],
      "text/plain": [
       " [1]  1  2  3  4  5  6  7  8  9 10  1  2  3  4  5  6  7  8  9 10"
      ]
     },
     "metadata": {},
     "output_type": "display_data"
    }
   ],
   "source": [
    "rep(1,10)\n",
    "rep(1:10, each=2)\n",
    "rep(1:10, 2)"
   ]
  },
  {
   "cell_type": "code",
   "execution_count": 49,
   "metadata": {},
   "outputs": [
    {
     "data": {
      "text/html": [
       "<style>\n",
       ".list-inline {list-style: none; margin:0; padding: 0}\n",
       ".list-inline>li {display: inline-block}\n",
       ".list-inline>li:not(:last-child)::after {content: \"\\00b7\"; padding: 0 .5ex}\n",
       "</style>\n",
       "<ol class=list-inline><li>1</li><li>1</li><li>2</li><li>2</li><li>3</li><li>3</li><li>4</li><li>4</li><li>5</li><li>5</li><li>6</li><li>6</li><li>7</li><li>7</li><li>8</li><li>8</li><li>9</li><li>9</li><li>10</li><li>10</li></ol>\n"
      ],
      "text/latex": [
       "\\begin{enumerate*}\n",
       "\\item 1\n",
       "\\item 1\n",
       "\\item 2\n",
       "\\item 2\n",
       "\\item 3\n",
       "\\item 3\n",
       "\\item 4\n",
       "\\item 4\n",
       "\\item 5\n",
       "\\item 5\n",
       "\\item 6\n",
       "\\item 6\n",
       "\\item 7\n",
       "\\item 7\n",
       "\\item 8\n",
       "\\item 8\n",
       "\\item 9\n",
       "\\item 9\n",
       "\\item 10\n",
       "\\item 10\n",
       "\\end{enumerate*}\n"
      ],
      "text/markdown": [
       "1. 1\n",
       "2. 1\n",
       "3. 2\n",
       "4. 2\n",
       "5. 3\n",
       "6. 3\n",
       "7. 4\n",
       "8. 4\n",
       "9. 5\n",
       "10. 5\n",
       "11. 6\n",
       "12. 6\n",
       "13. 7\n",
       "14. 7\n",
       "15. 8\n",
       "16. 8\n",
       "17. 9\n",
       "18. 9\n",
       "19. 10\n",
       "20. 10\n",
       "\n",
       "\n"
      ],
      "text/plain": [
       " [1]  1  1  2  2  3  3  4  4  5  5  6  6  7  7  8  8  9  9 10 10"
      ]
     },
     "metadata": {},
     "output_type": "display_data"
    },
    {
     "data": {
      "text/html": [
       "<style>\n",
       ".list-inline {list-style: none; margin:0; padding: 0}\n",
       ".list-inline>li {display: inline-block}\n",
       ".list-inline>li:not(:last-child)::after {content: \"\\00b7\"; padding: 0 .5ex}\n",
       "</style>\n",
       "<ol class=list-inline><li>1</li><li>1</li><li>2</li><li>2</li><li>2</li><li>2</li></ol>\n"
      ],
      "text/latex": [
       "\\begin{enumerate*}\n",
       "\\item 1\n",
       "\\item 1\n",
       "\\item 2\n",
       "\\item 2\n",
       "\\item 2\n",
       "\\item 2\n",
       "\\end{enumerate*}\n"
      ],
      "text/markdown": [
       "1. 1\n",
       "2. 1\n",
       "3. 2\n",
       "4. 2\n",
       "5. 2\n",
       "6. 2\n",
       "\n",
       "\n"
      ],
      "text/plain": [
       "[1] 1 1 2 2 2 2"
      ]
     },
     "metadata": {},
     "output_type": "display_data"
    }
   ],
   "source": [
    "ceiling(1:20/2)\n",
    "rep(1:2, c(2,4))"
   ]
  },
  {
   "cell_type": "code",
   "execution_count": 50,
   "metadata": {},
   "outputs": [
    {
     "data": {
      "text/html": [
       "2.30258509299405"
      ],
      "text/latex": [
       "2.30258509299405"
      ],
      "text/markdown": [
       "2.30258509299405"
      ],
      "text/plain": [
       "[1] 2.302585"
      ]
     },
     "metadata": {},
     "output_type": "display_data"
    },
    {
     "data": {
      "text/html": [
       "7.38905609893065"
      ],
      "text/latex": [
       "7.38905609893065"
      ],
      "text/markdown": [
       "7.38905609893065"
      ],
      "text/plain": [
       "[1] 7.389056"
      ]
     },
     "metadata": {},
     "output_type": "display_data"
    }
   ],
   "source": [
    "log(10)\n",
    "exp(1)^2"
   ]
  },
  {
   "cell_type": "code",
   "execution_count": 51,
   "metadata": {},
   "outputs": [
    {
     "data": {
      "text/html": [
       "5120"
      ],
      "text/latex": [
       "5120"
      ],
      "text/markdown": [
       "5120"
      ],
      "text/plain": [
       "[1] 5120"
      ]
     },
     "metadata": {},
     "output_type": "display_data"
    },
    {
     "data": {
      "text/html": [
       "2"
      ],
      "text/latex": [
       "2"
      ],
      "text/markdown": [
       "2"
      ],
      "text/plain": [
       "[1] 2"
      ]
     },
     "metadata": {},
     "output_type": "display_data"
    }
   ],
   "source": [
    "5*2**10\n",
    "(10^1/5)"
   ]
  },
  {
   "cell_type": "code",
   "execution_count": 52,
   "metadata": {},
   "outputs": [
    {
     "data": {
      "text/html": [
       "<style>\n",
       ".list-inline {list-style: none; margin:0; padding: 0}\n",
       ".list-inline>li {display: inline-block}\n",
       ".list-inline>li:not(:last-child)::after {content: \"\\00b7\"; padding: 0 .5ex}\n",
       "</style>\n",
       "<ol class=list-inline><li>'a'</li><li>'a'</li><li>'a'</li><li>'a'</li><li>'a'</li><li>'a'</li><li>'a'</li><li>'a'</li><li>'a'</li><li>'a'</li><li>'a'</li><li>'a'</li><li>'a'</li><li>'a'</li><li>'a'</li><li>'a'</li><li>'a'</li><li>'a'</li><li>'a'</li><li>'a'</li><li>'a'</li><li>'a'</li><li>'a'</li><li>'a'</li><li>'a'</li><li>'a'</li><li>'a'</li><li>'a'</li><li>'a'</li><li>'a'</li><li>'a'</li><li>'a'</li><li>'a'</li><li>'a'</li><li>'a'</li><li>'a'</li><li>'a'</li><li>'a'</li><li>'a'</li><li>'a'</li><li>'a'</li><li>'a'</li><li>'a'</li><li>'a'</li><li>'a'</li><li>'a'</li><li>'a'</li><li>'a'</li><li>'a'</li><li>'a'</li></ol>\n"
      ],
      "text/latex": [
       "\\begin{enumerate*}\n",
       "\\item 'a'\n",
       "\\item 'a'\n",
       "\\item 'a'\n",
       "\\item 'a'\n",
       "\\item 'a'\n",
       "\\item 'a'\n",
       "\\item 'a'\n",
       "\\item 'a'\n",
       "\\item 'a'\n",
       "\\item 'a'\n",
       "\\item 'a'\n",
       "\\item 'a'\n",
       "\\item 'a'\n",
       "\\item 'a'\n",
       "\\item 'a'\n",
       "\\item 'a'\n",
       "\\item 'a'\n",
       "\\item 'a'\n",
       "\\item 'a'\n",
       "\\item 'a'\n",
       "\\item 'a'\n",
       "\\item 'a'\n",
       "\\item 'a'\n",
       "\\item 'a'\n",
       "\\item 'a'\n",
       "\\item 'a'\n",
       "\\item 'a'\n",
       "\\item 'a'\n",
       "\\item 'a'\n",
       "\\item 'a'\n",
       "\\item 'a'\n",
       "\\item 'a'\n",
       "\\item 'a'\n",
       "\\item 'a'\n",
       "\\item 'a'\n",
       "\\item 'a'\n",
       "\\item 'a'\n",
       "\\item 'a'\n",
       "\\item 'a'\n",
       "\\item 'a'\n",
       "\\item 'a'\n",
       "\\item 'a'\n",
       "\\item 'a'\n",
       "\\item 'a'\n",
       "\\item 'a'\n",
       "\\item 'a'\n",
       "\\item 'a'\n",
       "\\item 'a'\n",
       "\\item 'a'\n",
       "\\item 'a'\n",
       "\\end{enumerate*}\n"
      ],
      "text/markdown": [
       "1. 'a'\n",
       "2. 'a'\n",
       "3. 'a'\n",
       "4. 'a'\n",
       "5. 'a'\n",
       "6. 'a'\n",
       "7. 'a'\n",
       "8. 'a'\n",
       "9. 'a'\n",
       "10. 'a'\n",
       "11. 'a'\n",
       "12. 'a'\n",
       "13. 'a'\n",
       "14. 'a'\n",
       "15. 'a'\n",
       "16. 'a'\n",
       "17. 'a'\n",
       "18. 'a'\n",
       "19. 'a'\n",
       "20. 'a'\n",
       "21. 'a'\n",
       "22. 'a'\n",
       "23. 'a'\n",
       "24. 'a'\n",
       "25. 'a'\n",
       "26. 'a'\n",
       "27. 'a'\n",
       "28. 'a'\n",
       "29. 'a'\n",
       "30. 'a'\n",
       "31. 'a'\n",
       "32. 'a'\n",
       "33. 'a'\n",
       "34. 'a'\n",
       "35. 'a'\n",
       "36. 'a'\n",
       "37. 'a'\n",
       "38. 'a'\n",
       "39. 'a'\n",
       "40. 'a'\n",
       "41. 'a'\n",
       "42. 'a'\n",
       "43. 'a'\n",
       "44. 'a'\n",
       "45. 'a'\n",
       "46. 'a'\n",
       "47. 'a'\n",
       "48. 'a'\n",
       "49. 'a'\n",
       "50. 'a'\n",
       "\n",
       "\n"
      ],
      "text/plain": [
       " [1] \"a\" \"a\" \"a\" \"a\" \"a\" \"a\" \"a\" \"a\" \"a\" \"a\" \"a\" \"a\" \"a\" \"a\" \"a\" \"a\" \"a\" \"a\" \"a\"\n",
       "[20] \"a\" \"a\" \"a\" \"a\" \"a\" \"a\" \"a\" \"a\" \"a\" \"a\" \"a\" \"a\" \"a\" \"a\" \"a\" \"a\" \"a\" \"a\" \"a\"\n",
       "[39] \"a\" \"a\" \"a\" \"a\" \"a\" \"a\" \"a\" \"a\" \"a\" \"a\" \"a\" \"a\""
      ]
     },
     "metadata": {},
     "output_type": "display_data"
    },
    {
     "data": {
      "text/html": [
       "<style>\n",
       ".list-inline {list-style: none; margin:0; padding: 0}\n",
       ".list-inline>li {display: inline-block}\n",
       ".list-inline>li:not(:last-child)::after {content: \"\\00b7\"; padding: 0 .5ex}\n",
       "</style>\n",
       "<ol class=list-inline><li>'b'</li><li>'b'</li><li>'b'</li><li>'b'</li><li>'b'</li><li>'b'</li><li>'b'</li><li>'b'</li><li>'b'</li><li>'b'</li><li>'b'</li><li>'b'</li><li>'b'</li><li>'b'</li><li>'b'</li><li>'b'</li><li>'b'</li><li>'b'</li><li>'b'</li><li>'b'</li></ol>\n"
      ],
      "text/latex": [
       "\\begin{enumerate*}\n",
       "\\item 'b'\n",
       "\\item 'b'\n",
       "\\item 'b'\n",
       "\\item 'b'\n",
       "\\item 'b'\n",
       "\\item 'b'\n",
       "\\item 'b'\n",
       "\\item 'b'\n",
       "\\item 'b'\n",
       "\\item 'b'\n",
       "\\item 'b'\n",
       "\\item 'b'\n",
       "\\item 'b'\n",
       "\\item 'b'\n",
       "\\item 'b'\n",
       "\\item 'b'\n",
       "\\item 'b'\n",
       "\\item 'b'\n",
       "\\item 'b'\n",
       "\\item 'b'\n",
       "\\end{enumerate*}\n"
      ],
      "text/markdown": [
       "1. 'b'\n",
       "2. 'b'\n",
       "3. 'b'\n",
       "4. 'b'\n",
       "5. 'b'\n",
       "6. 'b'\n",
       "7. 'b'\n",
       "8. 'b'\n",
       "9. 'b'\n",
       "10. 'b'\n",
       "11. 'b'\n",
       "12. 'b'\n",
       "13. 'b'\n",
       "14. 'b'\n",
       "15. 'b'\n",
       "16. 'b'\n",
       "17. 'b'\n",
       "18. 'b'\n",
       "19. 'b'\n",
       "20. 'b'\n",
       "\n",
       "\n"
      ],
      "text/plain": [
       " [1] \"b\" \"b\" \"b\" \"b\" \"b\" \"b\" \"b\" \"b\" \"b\" \"b\" \"b\" \"b\" \"b\" \"b\" \"b\" \"b\" \"b\" \"b\" \"b\"\n",
       "[20] \"b\""
      ]
     },
     "metadata": {},
     "output_type": "display_data"
    },
    {
     "data": {
      "text/html": [
       "<style>\n",
       ".list-inline {list-style: none; margin:0; padding: 0}\n",
       ".list-inline>li {display: inline-block}\n",
       ".list-inline>li:not(:last-child)::after {content: \"\\00b7\"; padding: 0 .5ex}\n",
       "</style>\n",
       "<ol class=list-inline><li>'a'</li><li>'a'</li><li>'a'</li><li>'a'</li><li>'a'</li><li>'a'</li><li>'a'</li><li>'a'</li><li>'a'</li><li>'a'</li><li>'a'</li><li>'a'</li><li>'a'</li><li>'a'</li><li>'a'</li><li>'a'</li><li>'a'</li><li>'a'</li><li>'a'</li><li>'a'</li><li>'a'</li><li>'a'</li><li>'a'</li><li>'a'</li><li>'a'</li><li>'a'</li><li>'a'</li><li>'a'</li><li>'a'</li><li>'a'</li><li>'a'</li><li>'a'</li><li>'a'</li><li>'a'</li><li>'a'</li><li>'a'</li><li>'a'</li><li>'a'</li><li>'a'</li><li>'a'</li><li>'a'</li><li>'a'</li><li>'a'</li><li>'a'</li><li>'a'</li><li>'a'</li><li>'a'</li><li>'a'</li><li>'a'</li><li>'a'</li><li>'b'</li><li>'b'</li><li>'b'</li><li>'b'</li><li>'b'</li><li>'b'</li><li>'b'</li><li>'b'</li><li>'b'</li><li>'b'</li><li>'b'</li><li>'b'</li><li>'b'</li><li>'b'</li><li>'b'</li><li>'b'</li><li>'b'</li><li>'b'</li><li>'b'</li><li>'b'</li></ol>\n"
      ],
      "text/latex": [
       "\\begin{enumerate*}\n",
       "\\item 'a'\n",
       "\\item 'a'\n",
       "\\item 'a'\n",
       "\\item 'a'\n",
       "\\item 'a'\n",
       "\\item 'a'\n",
       "\\item 'a'\n",
       "\\item 'a'\n",
       "\\item 'a'\n",
       "\\item 'a'\n",
       "\\item 'a'\n",
       "\\item 'a'\n",
       "\\item 'a'\n",
       "\\item 'a'\n",
       "\\item 'a'\n",
       "\\item 'a'\n",
       "\\item 'a'\n",
       "\\item 'a'\n",
       "\\item 'a'\n",
       "\\item 'a'\n",
       "\\item 'a'\n",
       "\\item 'a'\n",
       "\\item 'a'\n",
       "\\item 'a'\n",
       "\\item 'a'\n",
       "\\item 'a'\n",
       "\\item 'a'\n",
       "\\item 'a'\n",
       "\\item 'a'\n",
       "\\item 'a'\n",
       "\\item 'a'\n",
       "\\item 'a'\n",
       "\\item 'a'\n",
       "\\item 'a'\n",
       "\\item 'a'\n",
       "\\item 'a'\n",
       "\\item 'a'\n",
       "\\item 'a'\n",
       "\\item 'a'\n",
       "\\item 'a'\n",
       "\\item 'a'\n",
       "\\item 'a'\n",
       "\\item 'a'\n",
       "\\item 'a'\n",
       "\\item 'a'\n",
       "\\item 'a'\n",
       "\\item 'a'\n",
       "\\item 'a'\n",
       "\\item 'a'\n",
       "\\item 'a'\n",
       "\\item 'b'\n",
       "\\item 'b'\n",
       "\\item 'b'\n",
       "\\item 'b'\n",
       "\\item 'b'\n",
       "\\item 'b'\n",
       "\\item 'b'\n",
       "\\item 'b'\n",
       "\\item 'b'\n",
       "\\item 'b'\n",
       "\\item 'b'\n",
       "\\item 'b'\n",
       "\\item 'b'\n",
       "\\item 'b'\n",
       "\\item 'b'\n",
       "\\item 'b'\n",
       "\\item 'b'\n",
       "\\item 'b'\n",
       "\\item 'b'\n",
       "\\item 'b'\n",
       "\\end{enumerate*}\n"
      ],
      "text/markdown": [
       "1. 'a'\n",
       "2. 'a'\n",
       "3. 'a'\n",
       "4. 'a'\n",
       "5. 'a'\n",
       "6. 'a'\n",
       "7. 'a'\n",
       "8. 'a'\n",
       "9. 'a'\n",
       "10. 'a'\n",
       "11. 'a'\n",
       "12. 'a'\n",
       "13. 'a'\n",
       "14. 'a'\n",
       "15. 'a'\n",
       "16. 'a'\n",
       "17. 'a'\n",
       "18. 'a'\n",
       "19. 'a'\n",
       "20. 'a'\n",
       "21. 'a'\n",
       "22. 'a'\n",
       "23. 'a'\n",
       "24. 'a'\n",
       "25. 'a'\n",
       "26. 'a'\n",
       "27. 'a'\n",
       "28. 'a'\n",
       "29. 'a'\n",
       "30. 'a'\n",
       "31. 'a'\n",
       "32. 'a'\n",
       "33. 'a'\n",
       "34. 'a'\n",
       "35. 'a'\n",
       "36. 'a'\n",
       "37. 'a'\n",
       "38. 'a'\n",
       "39. 'a'\n",
       "40. 'a'\n",
       "41. 'a'\n",
       "42. 'a'\n",
       "43. 'a'\n",
       "44. 'a'\n",
       "45. 'a'\n",
       "46. 'a'\n",
       "47. 'a'\n",
       "48. 'a'\n",
       "49. 'a'\n",
       "50. 'a'\n",
       "51. 'b'\n",
       "52. 'b'\n",
       "53. 'b'\n",
       "54. 'b'\n",
       "55. 'b'\n",
       "56. 'b'\n",
       "57. 'b'\n",
       "58. 'b'\n",
       "59. 'b'\n",
       "60. 'b'\n",
       "61. 'b'\n",
       "62. 'b'\n",
       "63. 'b'\n",
       "64. 'b'\n",
       "65. 'b'\n",
       "66. 'b'\n",
       "67. 'b'\n",
       "68. 'b'\n",
       "69. 'b'\n",
       "70. 'b'\n",
       "\n",
       "\n"
      ],
      "text/plain": [
       " [1] \"a\" \"a\" \"a\" \"a\" \"a\" \"a\" \"a\" \"a\" \"a\" \"a\" \"a\" \"a\" \"a\" \"a\" \"a\" \"a\" \"a\" \"a\" \"a\"\n",
       "[20] \"a\" \"a\" \"a\" \"a\" \"a\" \"a\" \"a\" \"a\" \"a\" \"a\" \"a\" \"a\" \"a\" \"a\" \"a\" \"a\" \"a\" \"a\" \"a\"\n",
       "[39] \"a\" \"a\" \"a\" \"a\" \"a\" \"a\" \"a\" \"a\" \"a\" \"a\" \"a\" \"a\" \"b\" \"b\" \"b\" \"b\" \"b\" \"b\" \"b\"\n",
       "[58] \"b\" \"b\" \"b\" \"b\" \"b\" \"b\" \"b\" \"b\" \"b\" \"b\" \"b\" \"b\" \"b\""
      ]
     },
     "metadata": {},
     "output_type": "display_data"
    }
   ],
   "source": [
    "x=rep(\"a\", 50);x\n",
    "y=rep('b', 20);y\n",
    "c(x, y)"
   ]
  },
  {
   "cell_type": "code",
   "execution_count": 53,
   "metadata": {},
   "outputs": [
    {
     "data": {
      "text/html": [
       "<style>\n",
       ".list-inline {list-style: none; margin:0; padding: 0}\n",
       ".list-inline>li {display: inline-block}\n",
       ".list-inline>li:not(:last-child)::after {content: \"\\00b7\"; padding: 0 .5ex}\n",
       "</style>\n",
       "<ol class=list-inline><li>2</li><li>4</li><li>6</li><li>8</li><li>10</li><li>12</li><li>14</li><li>16</li><li>18</li><li>20</li><li>22</li><li>24</li><li>26</li><li>28</li><li>30</li><li>32</li><li>34</li><li>36</li><li>38</li><li>40</li><li>42</li><li>44</li><li>46</li><li>48</li><li>50</li><li>52</li><li>54</li><li>56</li><li>58</li><li>60</li><li>62</li><li>64</li><li>66</li><li>68</li><li>70</li><li>72</li><li>74</li><li>76</li><li>78</li><li>80</li><li>82</li><li>84</li><li>86</li><li>88</li><li>90</li><li>92</li><li>94</li><li>96</li><li>98</li><li>100</li></ol>\n"
      ],
      "text/latex": [
       "\\begin{enumerate*}\n",
       "\\item 2\n",
       "\\item 4\n",
       "\\item 6\n",
       "\\item 8\n",
       "\\item 10\n",
       "\\item 12\n",
       "\\item 14\n",
       "\\item 16\n",
       "\\item 18\n",
       "\\item 20\n",
       "\\item 22\n",
       "\\item 24\n",
       "\\item 26\n",
       "\\item 28\n",
       "\\item 30\n",
       "\\item 32\n",
       "\\item 34\n",
       "\\item 36\n",
       "\\item 38\n",
       "\\item 40\n",
       "\\item 42\n",
       "\\item 44\n",
       "\\item 46\n",
       "\\item 48\n",
       "\\item 50\n",
       "\\item 52\n",
       "\\item 54\n",
       "\\item 56\n",
       "\\item 58\n",
       "\\item 60\n",
       "\\item 62\n",
       "\\item 64\n",
       "\\item 66\n",
       "\\item 68\n",
       "\\item 70\n",
       "\\item 72\n",
       "\\item 74\n",
       "\\item 76\n",
       "\\item 78\n",
       "\\item 80\n",
       "\\item 82\n",
       "\\item 84\n",
       "\\item 86\n",
       "\\item 88\n",
       "\\item 90\n",
       "\\item 92\n",
       "\\item 94\n",
       "\\item 96\n",
       "\\item 98\n",
       "\\item 100\n",
       "\\end{enumerate*}\n"
      ],
      "text/markdown": [
       "1. 2\n",
       "2. 4\n",
       "3. 6\n",
       "4. 8\n",
       "5. 10\n",
       "6. 12\n",
       "7. 14\n",
       "8. 16\n",
       "9. 18\n",
       "10. 20\n",
       "11. 22\n",
       "12. 24\n",
       "13. 26\n",
       "14. 28\n",
       "15. 30\n",
       "16. 32\n",
       "17. 34\n",
       "18. 36\n",
       "19. 38\n",
       "20. 40\n",
       "21. 42\n",
       "22. 44\n",
       "23. 46\n",
       "24. 48\n",
       "25. 50\n",
       "26. 52\n",
       "27. 54\n",
       "28. 56\n",
       "29. 58\n",
       "30. 60\n",
       "31. 62\n",
       "32. 64\n",
       "33. 66\n",
       "34. 68\n",
       "35. 70\n",
       "36. 72\n",
       "37. 74\n",
       "38. 76\n",
       "39. 78\n",
       "40. 80\n",
       "41. 82\n",
       "42. 84\n",
       "43. 86\n",
       "44. 88\n",
       "45. 90\n",
       "46. 92\n",
       "47. 94\n",
       "48. 96\n",
       "49. 98\n",
       "50. 100\n",
       "\n",
       "\n"
      ],
      "text/plain": [
       " [1]   2   4   6   8  10  12  14  16  18  20  22  24  26  28  30  32  34  36  38\n",
       "[20]  40  42  44  46  48  50  52  54  56  58  60  62  64  66  68  70  72  74  76\n",
       "[39]  78  80  82  84  86  88  90  92  94  96  98 100"
      ]
     },
     "metadata": {},
     "output_type": "display_data"
    },
    {
     "data": {
      "text/html": [
       "<style>\n",
       ".list-inline {list-style: none; margin:0; padding: 0}\n",
       ".list-inline>li {display: inline-block}\n",
       ".list-inline>li:not(:last-child)::after {content: \"\\00b7\"; padding: 0 .5ex}\n",
       "</style>\n",
       "<ol class=list-inline><li>10</li><li>10</li><li>9</li><li>9</li><li>8</li><li>8</li><li>7</li><li>7</li><li>6</li><li>6</li><li>5</li><li>5</li><li>4</li><li>4</li><li>3</li><li>3</li><li>2</li><li>2</li><li>1</li><li>1</li><li>0</li><li>0</li></ol>\n"
      ],
      "text/latex": [
       "\\begin{enumerate*}\n",
       "\\item 10\n",
       "\\item 10\n",
       "\\item 9\n",
       "\\item 9\n",
       "\\item 8\n",
       "\\item 8\n",
       "\\item 7\n",
       "\\item 7\n",
       "\\item 6\n",
       "\\item 6\n",
       "\\item 5\n",
       "\\item 5\n",
       "\\item 4\n",
       "\\item 4\n",
       "\\item 3\n",
       "\\item 3\n",
       "\\item 2\n",
       "\\item 2\n",
       "\\item 1\n",
       "\\item 1\n",
       "\\item 0\n",
       "\\item 0\n",
       "\\end{enumerate*}\n"
      ],
      "text/markdown": [
       "1. 10\n",
       "2. 10\n",
       "3. 9\n",
       "4. 9\n",
       "5. 8\n",
       "6. 8\n",
       "7. 7\n",
       "8. 7\n",
       "9. 6\n",
       "10. 6\n",
       "11. 5\n",
       "12. 5\n",
       "13. 4\n",
       "14. 4\n",
       "15. 3\n",
       "16. 3\n",
       "17. 2\n",
       "18. 2\n",
       "19. 1\n",
       "20. 1\n",
       "21. 0\n",
       "22. 0\n",
       "\n",
       "\n"
      ],
      "text/plain": [
       " [1] 10 10  9  9  8  8  7  7  6  6  5  5  4  4  3  3  2  2  1  1  0  0"
      ]
     },
     "metadata": {},
     "output_type": "display_data"
    },
    {
     "data": {
      "text/html": [
       "<style>\n",
       ".list-inline {list-style: none; margin:0; padding: 0}\n",
       ".list-inline>li {display: inline-block}\n",
       ".list-inline>li:not(:last-child)::after {content: \"\\00b7\"; padding: 0 .5ex}\n",
       "</style>\n",
       "<ol class=list-inline><li>10</li><li>9</li><li>8</li><li>7</li><li>6</li><li>5</li><li>4</li><li>3</li><li>2</li><li>1</li><li>10</li><li>9</li><li>8</li><li>7</li><li>6</li><li>5</li><li>4</li><li>3</li><li>2</li><li>1</li></ol>\n"
      ],
      "text/latex": [
       "\\begin{enumerate*}\n",
       "\\item 10\n",
       "\\item 9\n",
       "\\item 8\n",
       "\\item 7\n",
       "\\item 6\n",
       "\\item 5\n",
       "\\item 4\n",
       "\\item 3\n",
       "\\item 2\n",
       "\\item 1\n",
       "\\item 10\n",
       "\\item 9\n",
       "\\item 8\n",
       "\\item 7\n",
       "\\item 6\n",
       "\\item 5\n",
       "\\item 4\n",
       "\\item 3\n",
       "\\item 2\n",
       "\\item 1\n",
       "\\end{enumerate*}\n"
      ],
      "text/markdown": [
       "1. 10\n",
       "2. 9\n",
       "3. 8\n",
       "4. 7\n",
       "5. 6\n",
       "6. 5\n",
       "7. 4\n",
       "8. 3\n",
       "9. 2\n",
       "10. 1\n",
       "11. 10\n",
       "12. 9\n",
       "13. 8\n",
       "14. 7\n",
       "15. 6\n",
       "16. 5\n",
       "17. 4\n",
       "18. 3\n",
       "19. 2\n",
       "20. 1\n",
       "\n",
       "\n"
      ],
      "text/plain": [
       " [1] 10  9  8  7  6  5  4  3  2  1 10  9  8  7  6  5  4  3  2  1"
      ]
     },
     "metadata": {},
     "output_type": "display_data"
    }
   ],
   "source": [
    "seq(2, 100, 2)\n",
    "rep(10:0, each=2)\n",
    "rep(10:1, 2)"
   ]
  },
  {
   "cell_type": "code",
   "execution_count": 54,
   "metadata": {
    "scrolled": true
   },
   "outputs": [
    {
     "data": {
      "text/html": [
       "<table>\n",
       "<caption>A matrix: 2 × 11 of type int</caption>\n",
       "<tbody>\n",
       "\t<tr><td>10</td><td>9</td><td>8</td><td>7</td><td>6</td><td>5</td><td>4</td><td>3</td><td>2</td><td>1</td><td>0</td></tr>\n",
       "\t<tr><td>10</td><td>9</td><td>8</td><td>7</td><td>6</td><td>5</td><td>4</td><td>3</td><td>2</td><td>1</td><td>0</td></tr>\n",
       "</tbody>\n",
       "</table>\n"
      ],
      "text/latex": [
       "A matrix: 2 × 11 of type int\n",
       "\\begin{tabular}{lllllllllll}\n",
       "\t 10 & 9 & 8 & 7 & 6 & 5 & 4 & 3 & 2 & 1 & 0\\\\\n",
       "\t 10 & 9 & 8 & 7 & 6 & 5 & 4 & 3 & 2 & 1 & 0\\\\\n",
       "\\end{tabular}\n"
      ],
      "text/markdown": [
       "\n",
       "A matrix: 2 × 11 of type int\n",
       "\n",
       "| 10 | 9 | 8 | 7 | 6 | 5 | 4 | 3 | 2 | 1 | 0 |\n",
       "| 10 | 9 | 8 | 7 | 6 | 5 | 4 | 3 | 2 | 1 | 0 |\n",
       "\n"
      ],
      "text/plain": [
       "     [,1] [,2] [,3] [,4] [,5] [,6] [,7] [,8] [,9] [,10] [,11]\n",
       "[1,] 10   9    8    7    6    5    4    3    2    1     0    \n",
       "[2,] 10   9    8    7    6    5    4    3    2    1     0    "
      ]
     },
     "metadata": {},
     "output_type": "display_data"
    },
    {
     "data": {
      "text/html": [
       "<style>\n",
       ".list-inline {list-style: none; margin:0; padding: 0}\n",
       ".list-inline>li {display: inline-block}\n",
       ".list-inline>li:not(:last-child)::after {content: \"\\00b7\"; padding: 0 .5ex}\n",
       "</style>\n",
       "<ol class=list-inline><li>10</li><li>10</li><li>9</li><li>9</li><li>8</li><li>8</li><li>7</li><li>7</li><li>6</li><li>6</li><li>5</li><li>5</li><li>4</li><li>4</li><li>3</li><li>3</li><li>2</li><li>2</li><li>1</li><li>1</li><li>0</li><li>0</li></ol>\n"
      ],
      "text/latex": [
       "\\begin{enumerate*}\n",
       "\\item 10\n",
       "\\item 10\n",
       "\\item 9\n",
       "\\item 9\n",
       "\\item 8\n",
       "\\item 8\n",
       "\\item 7\n",
       "\\item 7\n",
       "\\item 6\n",
       "\\item 6\n",
       "\\item 5\n",
       "\\item 5\n",
       "\\item 4\n",
       "\\item 4\n",
       "\\item 3\n",
       "\\item 3\n",
       "\\item 2\n",
       "\\item 2\n",
       "\\item 1\n",
       "\\item 1\n",
       "\\item 0\n",
       "\\item 0\n",
       "\\end{enumerate*}\n"
      ],
      "text/markdown": [
       "1. 10\n",
       "2. 10\n",
       "3. 9\n",
       "4. 9\n",
       "5. 8\n",
       "6. 8\n",
       "7. 7\n",
       "8. 7\n",
       "9. 6\n",
       "10. 6\n",
       "11. 5\n",
       "12. 5\n",
       "13. 4\n",
       "14. 4\n",
       "15. 3\n",
       "16. 3\n",
       "17. 2\n",
       "18. 2\n",
       "19. 1\n",
       "20. 1\n",
       "21. 0\n",
       "22. 0\n",
       "\n",
       "\n"
      ],
      "text/plain": [
       " [1] 10 10  9  9  8  8  7  7  6  6  5  5  4  4  3  3  2  2  1  1  0  0"
      ]
     },
     "metadata": {},
     "output_type": "display_data"
    }
   ],
   "source": [
    "rbind(10:0, 10:0) #row bind\n",
    "as.vector(rbind(10:0, 10:0))"
   ]
  },
  {
   "cell_type": "code",
   "execution_count": 55,
   "metadata": {},
   "outputs": [
    {
     "data": {
      "text/html": [
       "<table>\n",
       "<caption>A matrix: 11 × 2 of type int</caption>\n",
       "<tbody>\n",
       "\t<tr><td>10</td><td>10</td></tr>\n",
       "\t<tr><td> 9</td><td> 9</td></tr>\n",
       "\t<tr><td> 8</td><td> 8</td></tr>\n",
       "\t<tr><td> 7</td><td> 7</td></tr>\n",
       "\t<tr><td> 6</td><td> 6</td></tr>\n",
       "\t<tr><td> 5</td><td> 5</td></tr>\n",
       "\t<tr><td> 4</td><td> 4</td></tr>\n",
       "\t<tr><td> 3</td><td> 3</td></tr>\n",
       "\t<tr><td> 2</td><td> 2</td></tr>\n",
       "\t<tr><td> 1</td><td> 1</td></tr>\n",
       "\t<tr><td> 0</td><td> 0</td></tr>\n",
       "</tbody>\n",
       "</table>\n"
      ],
      "text/latex": [
       "A matrix: 11 × 2 of type int\n",
       "\\begin{tabular}{ll}\n",
       "\t 10 & 10\\\\\n",
       "\t  9 &  9\\\\\n",
       "\t  8 &  8\\\\\n",
       "\t  7 &  7\\\\\n",
       "\t  6 &  6\\\\\n",
       "\t  5 &  5\\\\\n",
       "\t  4 &  4\\\\\n",
       "\t  3 &  3\\\\\n",
       "\t  2 &  2\\\\\n",
       "\t  1 &  1\\\\\n",
       "\t  0 &  0\\\\\n",
       "\\end{tabular}\n"
      ],
      "text/markdown": [
       "\n",
       "A matrix: 11 × 2 of type int\n",
       "\n",
       "| 10 | 10 |\n",
       "|  9 |  9 |\n",
       "|  8 |  8 |\n",
       "|  7 |  7 |\n",
       "|  6 |  6 |\n",
       "|  5 |  5 |\n",
       "|  4 |  4 |\n",
       "|  3 |  3 |\n",
       "|  2 |  2 |\n",
       "|  1 |  1 |\n",
       "|  0 |  0 |\n",
       "\n"
      ],
      "text/plain": [
       "      [,1] [,2]\n",
       " [1,] 10   10  \n",
       " [2,]  9    9  \n",
       " [3,]  8    8  \n",
       " [4,]  7    7  \n",
       " [5,]  6    6  \n",
       " [6,]  5    5  \n",
       " [7,]  4    4  \n",
       " [8,]  3    3  \n",
       " [9,]  2    2  \n",
       "[10,]  1    1  \n",
       "[11,]  0    0  "
      ]
     },
     "metadata": {},
     "output_type": "display_data"
    },
    {
     "data": {
      "text/html": [
       "<style>\n",
       ".list-inline {list-style: none; margin:0; padding: 0}\n",
       ".list-inline>li {display: inline-block}\n",
       ".list-inline>li:not(:last-child)::after {content: \"\\00b7\"; padding: 0 .5ex}\n",
       "</style>\n",
       "<ol class=list-inline><li>10</li><li>9</li><li>8</li><li>7</li><li>6</li><li>5</li><li>4</li><li>3</li><li>2</li><li>1</li><li>0</li><li>10</li><li>9</li><li>8</li><li>7</li><li>6</li><li>5</li><li>4</li><li>3</li><li>2</li><li>1</li><li>0</li></ol>\n"
      ],
      "text/latex": [
       "\\begin{enumerate*}\n",
       "\\item 10\n",
       "\\item 9\n",
       "\\item 8\n",
       "\\item 7\n",
       "\\item 6\n",
       "\\item 5\n",
       "\\item 4\n",
       "\\item 3\n",
       "\\item 2\n",
       "\\item 1\n",
       "\\item 0\n",
       "\\item 10\n",
       "\\item 9\n",
       "\\item 8\n",
       "\\item 7\n",
       "\\item 6\n",
       "\\item 5\n",
       "\\item 4\n",
       "\\item 3\n",
       "\\item 2\n",
       "\\item 1\n",
       "\\item 0\n",
       "\\end{enumerate*}\n"
      ],
      "text/markdown": [
       "1. 10\n",
       "2. 9\n",
       "3. 8\n",
       "4. 7\n",
       "5. 6\n",
       "6. 5\n",
       "7. 4\n",
       "8. 3\n",
       "9. 2\n",
       "10. 1\n",
       "11. 0\n",
       "12. 10\n",
       "13. 9\n",
       "14. 8\n",
       "15. 7\n",
       "16. 6\n",
       "17. 5\n",
       "18. 4\n",
       "19. 3\n",
       "20. 2\n",
       "21. 1\n",
       "22. 0\n",
       "\n",
       "\n"
      ],
      "text/plain": [
       " [1] 10  9  8  7  6  5  4  3  2  1  0 10  9  8  7  6  5  4  3  2  1  0"
      ]
     },
     "metadata": {},
     "output_type": "display_data"
    }
   ],
   "source": [
    "cbind(10:0, 10:0) #column bind\n",
    "as.vector(cbind(10:0, 10:0))"
   ]
  },
  {
   "cell_type": "code",
   "execution_count": 56,
   "metadata": {},
   "outputs": [
    {
     "data": {
      "text/html": [
       "<style>\n",
       ".list-inline {list-style: none; margin:0; padding: 0}\n",
       ".list-inline>li {display: inline-block}\n",
       ".list-inline>li:not(:last-child)::after {content: \"\\00b7\"; padding: 0 .5ex}\n",
       "</style>\n",
       "<ol class=list-inline><li>100</li><li>99</li><li>98</li><li>97</li><li>96</li><li>95</li><li>94</li><li>93</li><li>92</li><li>91</li><li>90</li><li>89</li><li>88</li><li>87</li><li>86</li><li>85</li><li>84</li><li>83</li><li>82</li><li>81</li><li>80</li><li>79</li><li>78</li><li>77</li><li>76</li><li>75</li><li>74</li><li>73</li><li>72</li><li>71</li><li>70</li><li>69</li><li>68</li><li>67</li><li>66</li><li>65</li><li>64</li><li>63</li><li>62</li><li>61</li><li>60</li><li>59</li><li>58</li><li>57</li><li>56</li><li>55</li><li>54</li><li>53</li><li>52</li><li>51</li><li>50</li><li>49</li><li>48</li><li>47</li><li>46</li><li>45</li><li>44</li><li>43</li><li>42</li><li>41</li><li>40</li><li>39</li><li>38</li><li>37</li><li>36</li><li>35</li><li>34</li><li>33</li><li>32</li><li>31</li><li>30</li><li>29</li><li>28</li><li>27</li><li>26</li><li>25</li><li>24</li><li>23</li><li>22</li><li>21</li><li>20</li><li>19</li><li>18</li><li>17</li><li>16</li><li>15</li><li>14</li><li>13</li><li>12</li><li>11</li><li>10</li><li>9</li><li>8</li><li>7</li><li>6</li><li>5</li><li>4</li><li>3</li><li>2</li><li>1</li><li>100</li><li>99</li><li>98</li><li>97</li><li>96</li><li>95</li><li>94</li><li>93</li><li>92</li><li>91</li><li>90</li><li>89</li><li>88</li><li>87</li><li>86</li><li>85</li><li>84</li><li>83</li><li>82</li><li>81</li><li>80</li><li>79</li><li>78</li><li>77</li><li>76</li><li>75</li><li>74</li><li>73</li><li>72</li><li>71</li><li>70</li><li>69</li><li>68</li><li>67</li><li>66</li><li>65</li><li>64</li><li>63</li><li>62</li><li>61</li><li>60</li><li>59</li><li>58</li><li>57</li><li>56</li><li>55</li><li>54</li><li>53</li><li>52</li><li>51</li><li>50</li><li>49</li><li>48</li><li>47</li><li>46</li><li>45</li><li>44</li><li>43</li><li>42</li><li>41</li><li>40</li><li>39</li><li>38</li><li>37</li><li>36</li><li>35</li><li>34</li><li>33</li><li>32</li><li>31</li><li>30</li><li>29</li><li>28</li><li>27</li><li>26</li><li>25</li><li>24</li><li>23</li><li>22</li><li>21</li><li>20</li><li>19</li><li>18</li><li>17</li><li>16</li><li>15</li><li>14</li><li>13</li><li>12</li><li>11</li><li>10</li><li>9</li><li>8</li><li>7</li><li>6</li><li>5</li><li>4</li><li>3</li><li>2</li><li>1</li></ol>\n"
      ],
      "text/latex": [
       "\\begin{enumerate*}\n",
       "\\item 100\n",
       "\\item 99\n",
       "\\item 98\n",
       "\\item 97\n",
       "\\item 96\n",
       "\\item 95\n",
       "\\item 94\n",
       "\\item 93\n",
       "\\item 92\n",
       "\\item 91\n",
       "\\item 90\n",
       "\\item 89\n",
       "\\item 88\n",
       "\\item 87\n",
       "\\item 86\n",
       "\\item 85\n",
       "\\item 84\n",
       "\\item 83\n",
       "\\item 82\n",
       "\\item 81\n",
       "\\item 80\n",
       "\\item 79\n",
       "\\item 78\n",
       "\\item 77\n",
       "\\item 76\n",
       "\\item 75\n",
       "\\item 74\n",
       "\\item 73\n",
       "\\item 72\n",
       "\\item 71\n",
       "\\item 70\n",
       "\\item 69\n",
       "\\item 68\n",
       "\\item 67\n",
       "\\item 66\n",
       "\\item 65\n",
       "\\item 64\n",
       "\\item 63\n",
       "\\item 62\n",
       "\\item 61\n",
       "\\item 60\n",
       "\\item 59\n",
       "\\item 58\n",
       "\\item 57\n",
       "\\item 56\n",
       "\\item 55\n",
       "\\item 54\n",
       "\\item 53\n",
       "\\item 52\n",
       "\\item 51\n",
       "\\item 50\n",
       "\\item 49\n",
       "\\item 48\n",
       "\\item 47\n",
       "\\item 46\n",
       "\\item 45\n",
       "\\item 44\n",
       "\\item 43\n",
       "\\item 42\n",
       "\\item 41\n",
       "\\item 40\n",
       "\\item 39\n",
       "\\item 38\n",
       "\\item 37\n",
       "\\item 36\n",
       "\\item 35\n",
       "\\item 34\n",
       "\\item 33\n",
       "\\item 32\n",
       "\\item 31\n",
       "\\item 30\n",
       "\\item 29\n",
       "\\item 28\n",
       "\\item 27\n",
       "\\item 26\n",
       "\\item 25\n",
       "\\item 24\n",
       "\\item 23\n",
       "\\item 22\n",
       "\\item 21\n",
       "\\item 20\n",
       "\\item 19\n",
       "\\item 18\n",
       "\\item 17\n",
       "\\item 16\n",
       "\\item 15\n",
       "\\item 14\n",
       "\\item 13\n",
       "\\item 12\n",
       "\\item 11\n",
       "\\item 10\n",
       "\\item 9\n",
       "\\item 8\n",
       "\\item 7\n",
       "\\item 6\n",
       "\\item 5\n",
       "\\item 4\n",
       "\\item 3\n",
       "\\item 2\n",
       "\\item 1\n",
       "\\item 100\n",
       "\\item 99\n",
       "\\item 98\n",
       "\\item 97\n",
       "\\item 96\n",
       "\\item 95\n",
       "\\item 94\n",
       "\\item 93\n",
       "\\item 92\n",
       "\\item 91\n",
       "\\item 90\n",
       "\\item 89\n",
       "\\item 88\n",
       "\\item 87\n",
       "\\item 86\n",
       "\\item 85\n",
       "\\item 84\n",
       "\\item 83\n",
       "\\item 82\n",
       "\\item 81\n",
       "\\item 80\n",
       "\\item 79\n",
       "\\item 78\n",
       "\\item 77\n",
       "\\item 76\n",
       "\\item 75\n",
       "\\item 74\n",
       "\\item 73\n",
       "\\item 72\n",
       "\\item 71\n",
       "\\item 70\n",
       "\\item 69\n",
       "\\item 68\n",
       "\\item 67\n",
       "\\item 66\n",
       "\\item 65\n",
       "\\item 64\n",
       "\\item 63\n",
       "\\item 62\n",
       "\\item 61\n",
       "\\item 60\n",
       "\\item 59\n",
       "\\item 58\n",
       "\\item 57\n",
       "\\item 56\n",
       "\\item 55\n",
       "\\item 54\n",
       "\\item 53\n",
       "\\item 52\n",
       "\\item 51\n",
       "\\item 50\n",
       "\\item 49\n",
       "\\item 48\n",
       "\\item 47\n",
       "\\item 46\n",
       "\\item 45\n",
       "\\item 44\n",
       "\\item 43\n",
       "\\item 42\n",
       "\\item 41\n",
       "\\item 40\n",
       "\\item 39\n",
       "\\item 38\n",
       "\\item 37\n",
       "\\item 36\n",
       "\\item 35\n",
       "\\item 34\n",
       "\\item 33\n",
       "\\item 32\n",
       "\\item 31\n",
       "\\item 30\n",
       "\\item 29\n",
       "\\item 28\n",
       "\\item 27\n",
       "\\item 26\n",
       "\\item 25\n",
       "\\item 24\n",
       "\\item 23\n",
       "\\item 22\n",
       "\\item 21\n",
       "\\item 20\n",
       "\\item 19\n",
       "\\item 18\n",
       "\\item 17\n",
       "\\item 16\n",
       "\\item 15\n",
       "\\item 14\n",
       "\\item 13\n",
       "\\item 12\n",
       "\\item 11\n",
       "\\item 10\n",
       "\\item 9\n",
       "\\item 8\n",
       "\\item 7\n",
       "\\item 6\n",
       "\\item 5\n",
       "\\item 4\n",
       "\\item 3\n",
       "\\item 2\n",
       "\\item 1\n",
       "\\end{enumerate*}\n"
      ],
      "text/markdown": [
       "1. 100\n",
       "2. 99\n",
       "3. 98\n",
       "4. 97\n",
       "5. 96\n",
       "6. 95\n",
       "7. 94\n",
       "8. 93\n",
       "9. 92\n",
       "10. 91\n",
       "11. 90\n",
       "12. 89\n",
       "13. 88\n",
       "14. 87\n",
       "15. 86\n",
       "16. 85\n",
       "17. 84\n",
       "18. 83\n",
       "19. 82\n",
       "20. 81\n",
       "21. 80\n",
       "22. 79\n",
       "23. 78\n",
       "24. 77\n",
       "25. 76\n",
       "26. 75\n",
       "27. 74\n",
       "28. 73\n",
       "29. 72\n",
       "30. 71\n",
       "31. 70\n",
       "32. 69\n",
       "33. 68\n",
       "34. 67\n",
       "35. 66\n",
       "36. 65\n",
       "37. 64\n",
       "38. 63\n",
       "39. 62\n",
       "40. 61\n",
       "41. 60\n",
       "42. 59\n",
       "43. 58\n",
       "44. 57\n",
       "45. 56\n",
       "46. 55\n",
       "47. 54\n",
       "48. 53\n",
       "49. 52\n",
       "50. 51\n",
       "51. 50\n",
       "52. 49\n",
       "53. 48\n",
       "54. 47\n",
       "55. 46\n",
       "56. 45\n",
       "57. 44\n",
       "58. 43\n",
       "59. 42\n",
       "60. 41\n",
       "61. 40\n",
       "62. 39\n",
       "63. 38\n",
       "64. 37\n",
       "65. 36\n",
       "66. 35\n",
       "67. 34\n",
       "68. 33\n",
       "69. 32\n",
       "70. 31\n",
       "71. 30\n",
       "72. 29\n",
       "73. 28\n",
       "74. 27\n",
       "75. 26\n",
       "76. 25\n",
       "77. 24\n",
       "78. 23\n",
       "79. 22\n",
       "80. 21\n",
       "81. 20\n",
       "82. 19\n",
       "83. 18\n",
       "84. 17\n",
       "85. 16\n",
       "86. 15\n",
       "87. 14\n",
       "88. 13\n",
       "89. 12\n",
       "90. 11\n",
       "91. 10\n",
       "92. 9\n",
       "93. 8\n",
       "94. 7\n",
       "95. 6\n",
       "96. 5\n",
       "97. 4\n",
       "98. 3\n",
       "99. 2\n",
       "100. 1\n",
       "101. 100\n",
       "102. 99\n",
       "103. 98\n",
       "104. 97\n",
       "105. 96\n",
       "106. 95\n",
       "107. 94\n",
       "108. 93\n",
       "109. 92\n",
       "110. 91\n",
       "111. 90\n",
       "112. 89\n",
       "113. 88\n",
       "114. 87\n",
       "115. 86\n",
       "116. 85\n",
       "117. 84\n",
       "118. 83\n",
       "119. 82\n",
       "120. 81\n",
       "121. 80\n",
       "122. 79\n",
       "123. 78\n",
       "124. 77\n",
       "125. 76\n",
       "126. 75\n",
       "127. 74\n",
       "128. 73\n",
       "129. 72\n",
       "130. 71\n",
       "131. 70\n",
       "132. 69\n",
       "133. 68\n",
       "134. 67\n",
       "135. 66\n",
       "136. 65\n",
       "137. 64\n",
       "138. 63\n",
       "139. 62\n",
       "140. 61\n",
       "141. 60\n",
       "142. 59\n",
       "143. 58\n",
       "144. 57\n",
       "145. 56\n",
       "146. 55\n",
       "147. 54\n",
       "148. 53\n",
       "149. 52\n",
       "150. 51\n",
       "151. 50\n",
       "152. 49\n",
       "153. 48\n",
       "154. 47\n",
       "155. 46\n",
       "156. 45\n",
       "157. 44\n",
       "158. 43\n",
       "159. 42\n",
       "160. 41\n",
       "161. 40\n",
       "162. 39\n",
       "163. 38\n",
       "164. 37\n",
       "165. 36\n",
       "166. 35\n",
       "167. 34\n",
       "168. 33\n",
       "169. 32\n",
       "170. 31\n",
       "171. 30\n",
       "172. 29\n",
       "173. 28\n",
       "174. 27\n",
       "175. 26\n",
       "176. 25\n",
       "177. 24\n",
       "178. 23\n",
       "179. 22\n",
       "180. 21\n",
       "181. 20\n",
       "182. 19\n",
       "183. 18\n",
       "184. 17\n",
       "185. 16\n",
       "186. 15\n",
       "187. 14\n",
       "188. 13\n",
       "189. 12\n",
       "190. 11\n",
       "191. 10\n",
       "192. 9\n",
       "193. 8\n",
       "194. 7\n",
       "195. 6\n",
       "196. 5\n",
       "197. 4\n",
       "198. 3\n",
       "199. 2\n",
       "200. 1\n",
       "\n",
       "\n"
      ],
      "text/plain": [
       "  [1] 100  99  98  97  96  95  94  93  92  91  90  89  88  87  86  85  84  83\n",
       " [19]  82  81  80  79  78  77  76  75  74  73  72  71  70  69  68  67  66  65\n",
       " [37]  64  63  62  61  60  59  58  57  56  55  54  53  52  51  50  49  48  47\n",
       " [55]  46  45  44  43  42  41  40  39  38  37  36  35  34  33  32  31  30  29\n",
       " [73]  28  27  26  25  24  23  22  21  20  19  18  17  16  15  14  13  12  11\n",
       " [91]  10   9   8   7   6   5   4   3   2   1 100  99  98  97  96  95  94  93\n",
       "[109]  92  91  90  89  88  87  86  85  84  83  82  81  80  79  78  77  76  75\n",
       "[127]  74  73  72  71  70  69  68  67  66  65  64  63  62  61  60  59  58  57\n",
       "[145]  56  55  54  53  52  51  50  49  48  47  46  45  44  43  42  41  40  39\n",
       "[163]  38  37  36  35  34  33  32  31  30  29  28  27  26  25  24  23  22  21\n",
       "[181]  20  19  18  17  16  15  14  13  12  11  10   9   8   7   6   5   4   3\n",
       "[199]   2   1"
      ]
     },
     "metadata": {},
     "output_type": "display_data"
    }
   ],
   "source": [
    "rep(seq(100, 1), 2)\n",
    "# seq(rep(100, 2), 0)\n",
    "# seq(c(100, 100), 1)"
   ]
  },
  {
   "cell_type": "code",
   "execution_count": 57,
   "metadata": {},
   "outputs": [
    {
     "data": {
      "text/html": [
       "<style>\n",
       ".list-inline {list-style: none; margin:0; padding: 0}\n",
       ".list-inline>li {display: inline-block}\n",
       ".list-inline>li:not(:last-child)::after {content: \"\\00b7\"; padding: 0 .5ex}\n",
       "</style>\n",
       "<ol class=list-inline><li>10</li><li>9</li><li>8</li><li>7</li><li>6</li><li>5</li><li>4</li><li>3</li><li>2</li><li>1</li><li>0</li><li>10</li><li>9</li><li>8</li><li>7</li><li>6</li><li>5</li><li>4</li><li>3</li><li>2</li><li>1</li><li>0</li></ol>\n"
      ],
      "text/latex": [
       "\\begin{enumerate*}\n",
       "\\item 10\n",
       "\\item 9\n",
       "\\item 8\n",
       "\\item 7\n",
       "\\item 6\n",
       "\\item 5\n",
       "\\item 4\n",
       "\\item 3\n",
       "\\item 2\n",
       "\\item 1\n",
       "\\item 0\n",
       "\\item 10\n",
       "\\item 9\n",
       "\\item 8\n",
       "\\item 7\n",
       "\\item 6\n",
       "\\item 5\n",
       "\\item 4\n",
       "\\item 3\n",
       "\\item 2\n",
       "\\item 1\n",
       "\\item 0\n",
       "\\end{enumerate*}\n"
      ],
      "text/markdown": [
       "1. 10\n",
       "2. 9\n",
       "3. 8\n",
       "4. 7\n",
       "5. 6\n",
       "6. 5\n",
       "7. 4\n",
       "8. 3\n",
       "9. 2\n",
       "10. 1\n",
       "11. 0\n",
       "12. 10\n",
       "13. 9\n",
       "14. 8\n",
       "15. 7\n",
       "16. 6\n",
       "17. 5\n",
       "18. 4\n",
       "19. 3\n",
       "20. 2\n",
       "21. 1\n",
       "22. 0\n",
       "\n",
       "\n"
      ],
      "text/plain": [
       " [1] 10  9  8  7  6  5  4  3  2  1  0 10  9  8  7  6  5  4  3  2  1  0"
      ]
     },
     "metadata": {},
     "output_type": "display_data"
    },
    {
     "data": {
      "text/html": [
       "<style>\n",
       ".list-inline {list-style: none; margin:0; padding: 0}\n",
       ".list-inline>li {display: inline-block}\n",
       ".list-inline>li:not(:last-child)::after {content: \"\\00b7\"; padding: 0 .5ex}\n",
       "</style>\n",
       "<ol class=list-inline><li>1</li><li>12</li><li>2</li><li>13</li><li>3</li><li>14</li><li>4</li><li>15</li><li>5</li><li>16</li><li>6</li><li>17</li><li>7</li><li>18</li><li>8</li><li>19</li><li>9</li><li>20</li><li>10</li><li>21</li><li>11</li><li>22</li></ol>\n"
      ],
      "text/latex": [
       "\\begin{enumerate*}\n",
       "\\item 1\n",
       "\\item 12\n",
       "\\item 2\n",
       "\\item 13\n",
       "\\item 3\n",
       "\\item 14\n",
       "\\item 4\n",
       "\\item 15\n",
       "\\item 5\n",
       "\\item 16\n",
       "\\item 6\n",
       "\\item 17\n",
       "\\item 7\n",
       "\\item 18\n",
       "\\item 8\n",
       "\\item 19\n",
       "\\item 9\n",
       "\\item 20\n",
       "\\item 10\n",
       "\\item 21\n",
       "\\item 11\n",
       "\\item 22\n",
       "\\end{enumerate*}\n"
      ],
      "text/markdown": [
       "1. 1\n",
       "2. 12\n",
       "3. 2\n",
       "4. 13\n",
       "5. 3\n",
       "6. 14\n",
       "7. 4\n",
       "8. 15\n",
       "9. 5\n",
       "10. 16\n",
       "11. 6\n",
       "12. 17\n",
       "13. 7\n",
       "14. 18\n",
       "15. 8\n",
       "16. 19\n",
       "17. 9\n",
       "18. 20\n",
       "19. 10\n",
       "20. 21\n",
       "21. 11\n",
       "22. 22\n",
       "\n",
       "\n"
      ],
      "text/plain": [
       " [1]  1 12  2 13  3 14  4 15  5 16  6 17  7 18  8 19  9 20 10 21 11 22"
      ]
     },
     "metadata": {},
     "output_type": "display_data"
    }
   ],
   "source": [
    "rep(10:0, 2)\n",
    "order(rep(10:0, 2), decreasing =T)\n",
    "# ?order"
   ]
  },
  {
   "cell_type": "code",
   "execution_count": 58,
   "metadata": {
    "scrolled": true
   },
   "outputs": [
    {
     "data": {
      "text/html": [
       "<style>\n",
       ".list-inline {list-style: none; margin:0; padding: 0}\n",
       ".list-inline>li {display: inline-block}\n",
       ".list-inline>li:not(:last-child)::after {content: \"\\00b7\"; padding: 0 .5ex}\n",
       "</style>\n",
       "<ol class=list-inline><li>10</li><li>9</li><li>8</li><li>7</li><li>6</li><li>5</li><li>4</li><li>3</li><li>2</li><li>1</li><li>0</li><li>10</li><li>9</li><li>8</li><li>7</li><li>6</li><li>5</li><li>4</li><li>3</li><li>2</li><li>1</li><li>0</li></ol>\n"
      ],
      "text/latex": [
       "\\begin{enumerate*}\n",
       "\\item 10\n",
       "\\item 9\n",
       "\\item 8\n",
       "\\item 7\n",
       "\\item 6\n",
       "\\item 5\n",
       "\\item 4\n",
       "\\item 3\n",
       "\\item 2\n",
       "\\item 1\n",
       "\\item 0\n",
       "\\item 10\n",
       "\\item 9\n",
       "\\item 8\n",
       "\\item 7\n",
       "\\item 6\n",
       "\\item 5\n",
       "\\item 4\n",
       "\\item 3\n",
       "\\item 2\n",
       "\\item 1\n",
       "\\item 0\n",
       "\\end{enumerate*}\n"
      ],
      "text/markdown": [
       "1. 10\n",
       "2. 9\n",
       "3. 8\n",
       "4. 7\n",
       "5. 6\n",
       "6. 5\n",
       "7. 4\n",
       "8. 3\n",
       "9. 2\n",
       "10. 1\n",
       "11. 0\n",
       "12. 10\n",
       "13. 9\n",
       "14. 8\n",
       "15. 7\n",
       "16. 6\n",
       "17. 5\n",
       "18. 4\n",
       "19. 3\n",
       "20. 2\n",
       "21. 1\n",
       "22. 0\n",
       "\n",
       "\n"
      ],
      "text/plain": [
       " [1] 10  9  8  7  6  5  4  3  2  1  0 10  9  8  7  6  5  4  3  2  1  0"
      ]
     },
     "metadata": {},
     "output_type": "display_data"
    },
    {
     "data": {
      "text/html": [
       "<style>\n",
       ".list-inline {list-style: none; margin:0; padding: 0}\n",
       ".list-inline>li {display: inline-block}\n",
       ".list-inline>li:not(:last-child)::after {content: \"\\00b7\"; padding: 0 .5ex}\n",
       "</style>\n",
       "<ol class=list-inline><li>11</li><li>22</li><li>10</li><li>21</li><li>9</li><li>20</li><li>8</li><li>19</li><li>7</li><li>18</li><li>6</li><li>17</li><li>5</li><li>16</li><li>4</li><li>15</li><li>3</li><li>14</li><li>2</li><li>13</li><li>1</li><li>12</li></ol>\n"
      ],
      "text/latex": [
       "\\begin{enumerate*}\n",
       "\\item 11\n",
       "\\item 22\n",
       "\\item 10\n",
       "\\item 21\n",
       "\\item 9\n",
       "\\item 20\n",
       "\\item 8\n",
       "\\item 19\n",
       "\\item 7\n",
       "\\item 18\n",
       "\\item 6\n",
       "\\item 17\n",
       "\\item 5\n",
       "\\item 16\n",
       "\\item 4\n",
       "\\item 15\n",
       "\\item 3\n",
       "\\item 14\n",
       "\\item 2\n",
       "\\item 13\n",
       "\\item 1\n",
       "\\item 12\n",
       "\\end{enumerate*}\n"
      ],
      "text/markdown": [
       "1. 11\n",
       "2. 22\n",
       "3. 10\n",
       "4. 21\n",
       "5. 9\n",
       "6. 20\n",
       "7. 8\n",
       "8. 19\n",
       "9. 7\n",
       "10. 18\n",
       "11. 6\n",
       "12. 17\n",
       "13. 5\n",
       "14. 16\n",
       "15. 4\n",
       "16. 15\n",
       "17. 3\n",
       "18. 14\n",
       "19. 2\n",
       "20. 13\n",
       "21. 1\n",
       "22. 12\n",
       "\n",
       "\n"
      ],
      "text/plain": [
       " [1] 11 22 10 21  9 20  8 19  7 18  6 17  5 16  4 15  3 14  2 13  1 12"
      ]
     },
     "metadata": {},
     "output_type": "display_data"
    }
   ],
   "source": [
    "rep(10:0, 2)\n",
    "order(rep(10:0, 2))"
   ]
  },
  {
   "cell_type": "code",
   "execution_count": 115,
   "metadata": {},
   "outputs": [
    {
     "ename": "ERROR",
     "evalue": "Error in parse(text = x, srcfile = src): <text>:7:3: unexpected numeric constant\n6: \n7: 1 3\n     ^\n",
     "output_type": "error",
     "traceback": [
      "Error in parse(text = x, srcfile = src): <text>:7:3: unexpected numeric constant\n6: \n7: 1 3\n     ^\nTraceback:\n"
     ]
    }
   ],
   "source": [
    "rep(5:6, 2)\n",
    "order(rep(5:6, 2))\n",
    "\n",
    "#5 6 5 6\n",
    "#5 5 6 6 sorted vector\n",
    "\n",
    "1 3 2 4"
   ]
  },
  {
   "cell_type": "code",
   "execution_count": 117,
   "metadata": {},
   "outputs": [
    {
     "data": {
      "text/html": [
       "<style>\n",
       ".list-inline {list-style: none; margin:0; padding: 0}\n",
       ".list-inline>li {display: inline-block}\n",
       ".list-inline>li:not(:last-child)::after {content: \"\\00b7\"; padding: 0 .5ex}\n",
       "</style>\n",
       "<ol class=list-inline><li>5</li><li>6</li><li>7</li><li>5</li><li>6</li><li>7</li><li>5</li><li>6</li><li>7</li><li>5</li><li>6</li><li>7</li><li>5</li><li>6</li><li>7</li><li>5</li><li>6</li><li>7</li></ol>\n"
      ],
      "text/latex": [
       "\\begin{enumerate*}\n",
       "\\item 5\n",
       "\\item 6\n",
       "\\item 7\n",
       "\\item 5\n",
       "\\item 6\n",
       "\\item 7\n",
       "\\item 5\n",
       "\\item 6\n",
       "\\item 7\n",
       "\\item 5\n",
       "\\item 6\n",
       "\\item 7\n",
       "\\item 5\n",
       "\\item 6\n",
       "\\item 7\n",
       "\\item 5\n",
       "\\item 6\n",
       "\\item 7\n",
       "\\end{enumerate*}\n"
      ],
      "text/markdown": [
       "1. 5\n",
       "2. 6\n",
       "3. 7\n",
       "4. 5\n",
       "5. 6\n",
       "6. 7\n",
       "7. 5\n",
       "8. 6\n",
       "9. 7\n",
       "10. 5\n",
       "11. 6\n",
       "12. 7\n",
       "13. 5\n",
       "14. 6\n",
       "15. 7\n",
       "16. 5\n",
       "17. 6\n",
       "18. 7\n",
       "\n",
       "\n"
      ],
      "text/plain": [
       " [1] 5 6 7 5 6 7 5 6 7 5 6 7 5 6 7 5 6 7"
      ]
     },
     "metadata": {},
     "output_type": "display_data"
    },
    {
     "data": {
      "text/html": [
       "<style>\n",
       ".list-inline {list-style: none; margin:0; padding: 0}\n",
       ".list-inline>li {display: inline-block}\n",
       ".list-inline>li:not(:last-child)::after {content: \"\\00b7\"; padding: 0 .5ex}\n",
       "</style>\n",
       "<ol class=list-inline><li>1</li><li>4</li><li>7</li><li>10</li><li>13</li><li>16</li><li>2</li><li>5</li><li>8</li><li>11</li><li>14</li><li>17</li><li>3</li><li>6</li><li>9</li><li>12</li><li>15</li><li>18</li></ol>\n"
      ],
      "text/latex": [
       "\\begin{enumerate*}\n",
       "\\item 1\n",
       "\\item 4\n",
       "\\item 7\n",
       "\\item 10\n",
       "\\item 13\n",
       "\\item 16\n",
       "\\item 2\n",
       "\\item 5\n",
       "\\item 8\n",
       "\\item 11\n",
       "\\item 14\n",
       "\\item 17\n",
       "\\item 3\n",
       "\\item 6\n",
       "\\item 9\n",
       "\\item 12\n",
       "\\item 15\n",
       "\\item 18\n",
       "\\end{enumerate*}\n"
      ],
      "text/markdown": [
       "1. 1\n",
       "2. 4\n",
       "3. 7\n",
       "4. 10\n",
       "5. 13\n",
       "6. 16\n",
       "7. 2\n",
       "8. 5\n",
       "9. 8\n",
       "10. 11\n",
       "11. 14\n",
       "12. 17\n",
       "13. 3\n",
       "14. 6\n",
       "15. 9\n",
       "16. 12\n",
       "17. 15\n",
       "18. 18\n",
       "\n",
       "\n"
      ],
      "text/plain": [
       " [1]  1  4  7 10 13 16  2  5  8 11 14 17  3  6  9 12 15 18"
      ]
     },
     "metadata": {},
     "output_type": "display_data"
    }
   ],
   "source": [
    "rep(5:7, 6)\n",
    "#567567567567567567\n",
    "#555555666666777777\n",
    "#1 4 7 10 13 16 2 5...\n",
    "\n",
    "order(rep(5:7, 6))"
   ]
  },
  {
   "cell_type": "code",
   "execution_count": 60,
   "metadata": {
    "scrolled": false
   },
   "outputs": [
    {
     "data": {
      "text/html": [
       "<style>\n",
       ".list-inline {list-style: none; margin:0; padding: 0}\n",
       ".list-inline>li {display: inline-block}\n",
       ".list-inline>li:not(:last-child)::after {content: \"\\00b7\"; padding: 0 .5ex}\n",
       "</style>\n",
       "<ol class=list-inline><li>1</li><li>2</li><li>3</li><li>4</li><li>5</li><li>1</li><li>2</li><li>3</li><li>4</li><li>5</li></ol>\n"
      ],
      "text/latex": [
       "\\begin{enumerate*}\n",
       "\\item 1\n",
       "\\item 2\n",
       "\\item 3\n",
       "\\item 4\n",
       "\\item 5\n",
       "\\item 1\n",
       "\\item 2\n",
       "\\item 3\n",
       "\\item 4\n",
       "\\item 5\n",
       "\\end{enumerate*}\n"
      ],
      "text/markdown": [
       "1. 1\n",
       "2. 2\n",
       "3. 3\n",
       "4. 4\n",
       "5. 5\n",
       "6. 1\n",
       "7. 2\n",
       "8. 3\n",
       "9. 4\n",
       "10. 5\n",
       "\n",
       "\n"
      ],
      "text/plain": [
       " [1] 1 2 3 4 5 1 2 3 4 5"
      ]
     },
     "metadata": {},
     "output_type": "display_data"
    },
    {
     "data": {
      "text/html": [
       "<style>\n",
       ".list-inline {list-style: none; margin:0; padding: 0}\n",
       ".list-inline>li {display: inline-block}\n",
       ".list-inline>li:not(:last-child)::after {content: \"\\00b7\"; padding: 0 .5ex}\n",
       "</style>\n",
       "<ol class=list-inline><li>1</li><li>6</li><li>2</li><li>7</li><li>3</li><li>8</li><li>4</li><li>9</li><li>5</li><li>10</li></ol>\n"
      ],
      "text/latex": [
       "\\begin{enumerate*}\n",
       "\\item 1\n",
       "\\item 6\n",
       "\\item 2\n",
       "\\item 7\n",
       "\\item 3\n",
       "\\item 8\n",
       "\\item 4\n",
       "\\item 9\n",
       "\\item 5\n",
       "\\item 10\n",
       "\\end{enumerate*}\n"
      ],
      "text/markdown": [
       "1. 1\n",
       "2. 6\n",
       "3. 2\n",
       "4. 7\n",
       "5. 3\n",
       "6. 8\n",
       "7. 4\n",
       "8. 9\n",
       "9. 5\n",
       "10. 10\n",
       "\n",
       "\n"
      ],
      "text/plain": [
       " [1]  1  6  2  7  3  8  4  9  5 10"
      ]
     },
     "metadata": {},
     "output_type": "display_data"
    }
   ],
   "source": [
    "c(1:5, 1:5)\n",
    "order(c(1:5, 1:5))"
   ]
  },
  {
   "cell_type": "code",
   "execution_count": 61,
   "metadata": {
    "scrolled": true
   },
   "outputs": [
    {
     "data": {
      "text/html": [
       "<style>\n",
       ".list-inline {list-style: none; margin:0; padding: 0}\n",
       ".list-inline>li {display: inline-block}\n",
       ".list-inline>li:not(:last-child)::after {content: \"\\00b7\"; padding: 0 .5ex}\n",
       "</style>\n",
       "<ol class=list-inline><li>5</li><li>6</li><li>4</li></ol>\n"
      ],
      "text/latex": [
       "\\begin{enumerate*}\n",
       "\\item 5\n",
       "\\item 6\n",
       "\\item 4\n",
       "\\end{enumerate*}\n"
      ],
      "text/markdown": [
       "1. 5\n",
       "2. 6\n",
       "3. 4\n",
       "\n",
       "\n"
      ],
      "text/plain": [
       "[1] 5 6 4"
      ]
     },
     "metadata": {},
     "output_type": "display_data"
    },
    {
     "data": {
      "text/html": [
       "<style>\n",
       ".list-inline {list-style: none; margin:0; padding: 0}\n",
       ".list-inline>li {display: inline-block}\n",
       ".list-inline>li:not(:last-child)::after {content: \"\\00b7\"; padding: 0 .5ex}\n",
       "</style>\n",
       "<ol class=list-inline><li>4</li><li>5</li><li>6</li></ol>\n"
      ],
      "text/latex": [
       "\\begin{enumerate*}\n",
       "\\item 4\n",
       "\\item 5\n",
       "\\item 6\n",
       "\\end{enumerate*}\n"
      ],
      "text/markdown": [
       "1. 4\n",
       "2. 5\n",
       "3. 6\n",
       "\n",
       "\n"
      ],
      "text/plain": [
       "[1] 4 5 6"
      ]
     },
     "metadata": {},
     "output_type": "display_data"
    }
   ],
   "source": [
    "x<-c(5,6,4);x\n",
    "sort(x)"
   ]
  },
  {
   "cell_type": "code",
   "execution_count": 62,
   "metadata": {},
   "outputs": [
    {
     "data": {
      "text/html": [
       "<style>\n",
       ".list-inline {list-style: none; margin:0; padding: 0}\n",
       ".list-inline>li {display: inline-block}\n",
       ".list-inline>li:not(:last-child)::after {content: \"\\00b7\"; padding: 0 .5ex}\n",
       "</style>\n",
       "<ol class=list-inline><li>5</li><li>6</li><li>4</li></ol>\n"
      ],
      "text/latex": [
       "\\begin{enumerate*}\n",
       "\\item 5\n",
       "\\item 6\n",
       "\\item 4\n",
       "\\end{enumerate*}\n"
      ],
      "text/markdown": [
       "1. 5\n",
       "2. 6\n",
       "3. 4\n",
       "\n",
       "\n"
      ],
      "text/plain": [
       "[1] 5 6 4"
      ]
     },
     "metadata": {},
     "output_type": "display_data"
    }
   ],
   "source": [
    "x"
   ]
  },
  {
   "cell_type": "code",
   "execution_count": 63,
   "metadata": {},
   "outputs": [
    {
     "data": {
      "text/html": [
       "<style>\n",
       ".list-inline {list-style: none; margin:0; padding: 0}\n",
       ".list-inline>li {display: inline-block}\n",
       ".list-inline>li:not(:last-child)::after {content: \"\\00b7\"; padding: 0 .5ex}\n",
       "</style>\n",
       "<ol class=list-inline><li>3</li><li>1</li><li>2</li></ol>\n"
      ],
      "text/latex": [
       "\\begin{enumerate*}\n",
       "\\item 3\n",
       "\\item 1\n",
       "\\item 2\n",
       "\\end{enumerate*}\n"
      ],
      "text/markdown": [
       "1. 3\n",
       "2. 1\n",
       "3. 2\n",
       "\n",
       "\n"
      ],
      "text/plain": [
       "[1] 3 1 2"
      ]
     },
     "metadata": {},
     "output_type": "display_data"
    }
   ],
   "source": [
    "#Order returns the position of the original value and is in the order of sorted sequence, that is smallest value to largest value\n",
    "order(x) #index of the orginal vector if they are sorted"
   ]
  },
  {
   "cell_type": "code",
   "execution_count": 64,
   "metadata": {},
   "outputs": [
    {
     "data": {
      "text/html": [
       "<style>\n",
       ".list-inline {list-style: none; margin:0; padding: 0}\n",
       ".list-inline>li {display: inline-block}\n",
       ".list-inline>li:not(:last-child)::after {content: \"\\00b7\"; padding: 0 .5ex}\n",
       "</style>\n",
       "<ol class=list-inline><li>5</li><li>6</li><li>4</li></ol>\n"
      ],
      "text/latex": [
       "\\begin{enumerate*}\n",
       "\\item 5\n",
       "\\item 6\n",
       "\\item 4\n",
       "\\end{enumerate*}\n"
      ],
      "text/markdown": [
       "1. 5\n",
       "2. 6\n",
       "3. 4\n",
       "\n",
       "\n"
      ],
      "text/plain": [
       "[1] 5 6 4"
      ]
     },
     "metadata": {},
     "output_type": "display_data"
    },
    {
     "data": {
      "text/html": [
       "<style>\n",
       ".list-inline {list-style: none; margin:0; padding: 0}\n",
       ".list-inline>li {display: inline-block}\n",
       ".list-inline>li:not(:last-child)::after {content: \"\\00b7\"; padding: 0 .5ex}\n",
       "</style>\n",
       "<ol class=list-inline><li>2</li><li>3</li><li>1</li></ol>\n"
      ],
      "text/latex": [
       "\\begin{enumerate*}\n",
       "\\item 2\n",
       "\\item 3\n",
       "\\item 1\n",
       "\\end{enumerate*}\n"
      ],
      "text/markdown": [
       "1. 2\n",
       "2. 3\n",
       "3. 1\n",
       "\n",
       "\n"
      ],
      "text/plain": [
       "[1] 2 3 1"
      ]
     },
     "metadata": {},
     "output_type": "display_data"
    }
   ],
   "source": [
    "#Rank references the position of the value in the sorted vector and is in the same order as the original sequence\n",
    "x\n",
    "rank(x) # find my rank"
   ]
  },
  {
   "attachments": {
    "image.png": {
     "image/png": "[encoded data removed]"
    }
   },
   "cell_type": "markdown",
   "metadata": {},
   "source": [
    "![image.png](attachment:image.png)"
   ]
  },
  {
   "cell_type": "code",
   "execution_count": 65,
   "metadata": {},
   "outputs": [],
   "source": [
    "?order"
   ]
  },
  {
   "cell_type": "code",
   "execution_count": 66,
   "metadata": {},
   "outputs": [],
   "source": [
    "?plot"
   ]
  }
 ],
 "metadata": {
  "kernelspec": {
   "display_name": "R",
   "language": "R",
   "name": "ir"
  },
  "language_info": {
   "codemirror_mode": "r",
   "file_extension": ".r",
   "mimetype": "text/x-r-source",
   "name": "R",
   "pygments_lexer": "r",
   "version": "3.6.1"
  }
 },
 "nbformat": 4,
 "nbformat_minor": 2
}
